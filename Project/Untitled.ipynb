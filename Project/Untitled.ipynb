{
 "cells": [
  {
   "cell_type": "code",
   "execution_count": 2,
   "metadata": {},
   "outputs": [],
   "source": [
    "import pandas as pd \n",
    "import numpy as np\n",
    "import calendar\n",
    "import matplotlib.pyplot as plt\n",
    "%matplotlib inline"
   ]
  },
  {
   "cell_type": "code",
   "execution_count": 5,
   "metadata": {},
   "outputs": [],
   "source": [
    "df = pd.read_csv(\"/Users/rasmusblirupjensen/Downloads/Parking_Violations_Issued_-_Fiscal_Year_2019.csv\")\n",
    "codes = pd.read_excel(\"/Users/rasmusblirupjensen/Downloads/ParkingViolationCodes_Nov_2018.xlsx\")\n",
    "df = df.sample(frac=0.50)"
   ]
  },
  {
   "cell_type": "code",
   "execution_count": 8,
   "metadata": {},
   "outputs": [
    {
     "name": "stderr",
     "output_type": "stream",
     "text": [
      "/Users/rasmusblirupjensen/opt/anaconda3/lib/python3.7/site-packages/ipykernel_launcher.py:3: FutureWarning: `weekday_name` is deprecated and will be removed in a future version. Use `day_name` instead\n",
      "  This is separate from the ipykernel package so we can avoid doing imports until\n"
     ]
    },
    {
     "data": {
      "text/plain": [
       "5733753"
      ]
     },
     "execution_count": 8,
     "metadata": {},
     "output_type": "execute_result"
    }
   ],
   "source": [
    "df = df.rename(columns={\"Violation Code\": \"Code\"})\n",
    "df['Date']=pd.to_datetime(df[\"Issue Date\"], format='%m/%d/%Y', errors='coerce')\n",
    "df[\"Day Name\"] = df[\"Date\"].apply(lambda x: x.weekday_name)\n",
    "len(df)\n",
    "\n"
   ]
  },
  {
   "cell_type": "code",
   "execution_count": 9,
   "metadata": {},
   "outputs": [
    {
     "data": {
      "text/html": [
       "<div>\n",
       "<style scoped>\n",
       "    .dataframe tbody tr th:only-of-type {\n",
       "        vertical-align: middle;\n",
       "    }\n",
       "\n",
       "    .dataframe tbody tr th {\n",
       "        vertical-align: top;\n",
       "    }\n",
       "\n",
       "    .dataframe thead th {\n",
       "        text-align: right;\n",
       "    }\n",
       "</style>\n",
       "<table border=\"1\" class=\"dataframe\">\n",
       "  <thead>\n",
       "    <tr style=\"text-align: right;\">\n",
       "      <th></th>\n",
       "      <th>Code</th>\n",
       "      <th>VIOLATION DESCRIPTION</th>\n",
       "      <th>Manhattan  96th St. &amp; below\\n(Fine Amount $)</th>\n",
       "      <th>All Other Areas\\n(Fine Amount $)</th>\n",
       "    </tr>\n",
       "  </thead>\n",
       "  <tbody>\n",
       "    <tr>\n",
       "      <td>0</td>\n",
       "      <td>1</td>\n",
       "      <td>FAILURE TO DISPLAY BUS PERMIT</td>\n",
       "      <td>515</td>\n",
       "      <td>515</td>\n",
       "    </tr>\n",
       "    <tr>\n",
       "      <td>1</td>\n",
       "      <td>2</td>\n",
       "      <td>NO OPERATOR NAM/ADD/PH DISPLAY</td>\n",
       "      <td>515</td>\n",
       "      <td>515</td>\n",
       "    </tr>\n",
       "    <tr>\n",
       "      <td>2</td>\n",
       "      <td>3</td>\n",
       "      <td>UNAUTHORIZED PASSENGER PICK-UP</td>\n",
       "      <td>515</td>\n",
       "      <td>515</td>\n",
       "    </tr>\n",
       "    <tr>\n",
       "      <td>3</td>\n",
       "      <td>4</td>\n",
       "      <td>BUS PARKING IN LOWER MANHATTAN</td>\n",
       "      <td>115</td>\n",
       "      <td>115</td>\n",
       "    </tr>\n",
       "    <tr>\n",
       "      <td>4</td>\n",
       "      <td>5</td>\n",
       "      <td>BUS LANE VIOLATION</td>\n",
       "      <td>115</td>\n",
       "      <td>115</td>\n",
       "    </tr>\n",
       "    <tr>\n",
       "      <td>...</td>\n",
       "      <td>...</td>\n",
       "      <td>...</td>\n",
       "      <td>...</td>\n",
       "      <td>...</td>\n",
       "    </tr>\n",
       "    <tr>\n",
       "      <td>92</td>\n",
       "      <td>93</td>\n",
       "      <td>REMOVE/REPLACE FLAT TIRE</td>\n",
       "      <td>65</td>\n",
       "      <td>65</td>\n",
       "    </tr>\n",
       "    <tr>\n",
       "      <td>93</td>\n",
       "      <td>96</td>\n",
       "      <td>RAILROAD CROSSING</td>\n",
       "      <td>95</td>\n",
       "      <td>95</td>\n",
       "    </tr>\n",
       "    <tr>\n",
       "      <td>94</td>\n",
       "      <td>97</td>\n",
       "      <td>VACANT LOT</td>\n",
       "      <td>65</td>\n",
       "      <td>45</td>\n",
       "    </tr>\n",
       "    <tr>\n",
       "      <td>95</td>\n",
       "      <td>98</td>\n",
       "      <td>OBSTRUCTING DRIVEWAY</td>\n",
       "      <td>95</td>\n",
       "      <td>95</td>\n",
       "    </tr>\n",
       "    <tr>\n",
       "      <td>96</td>\n",
       "      <td>99</td>\n",
       "      <td>OTHER</td>\n",
       "      <td>105</td>\n",
       "      <td>105</td>\n",
       "    </tr>\n",
       "  </tbody>\n",
       "</table>\n",
       "<p>97 rows × 4 columns</p>\n",
       "</div>"
      ],
      "text/plain": [
       "    Code           VIOLATION DESCRIPTION  \\\n",
       "0      1   FAILURE TO DISPLAY BUS PERMIT   \n",
       "1      2  NO OPERATOR NAM/ADD/PH DISPLAY   \n",
       "2      3  UNAUTHORIZED PASSENGER PICK-UP   \n",
       "3      4  BUS PARKING IN LOWER MANHATTAN   \n",
       "4      5              BUS LANE VIOLATION   \n",
       "..   ...                             ...   \n",
       "92    93        REMOVE/REPLACE FLAT TIRE   \n",
       "93    96               RAILROAD CROSSING   \n",
       "94    97                      VACANT LOT   \n",
       "95    98            OBSTRUCTING DRIVEWAY   \n",
       "96    99                           OTHER   \n",
       "\n",
       "    Manhattan  96th St. & below\\n(Fine Amount $)  \\\n",
       "0                                            515   \n",
       "1                                            515   \n",
       "2                                            515   \n",
       "3                                            115   \n",
       "4                                            115   \n",
       "..                                           ...   \n",
       "92                                            65   \n",
       "93                                            95   \n",
       "94                                            65   \n",
       "95                                            95   \n",
       "96                                           105   \n",
       "\n",
       "    All Other Areas\\n(Fine Amount $)  \n",
       "0                                515  \n",
       "1                                515  \n",
       "2                                515  \n",
       "3                                115  \n",
       "4                                115  \n",
       "..                               ...  \n",
       "92                                65  \n",
       "93                                95  \n",
       "94                                45  \n",
       "95                                95  \n",
       "96                               105  \n",
       "\n",
       "[97 rows x 4 columns]"
      ]
     },
     "execution_count": 9,
     "metadata": {},
     "output_type": "execute_result"
    }
   ],
   "source": [
    "#Sheet with the violation descriptions\n",
    "codes = codes.rename(columns={\"VIOLATION CODE\": \"Code\"})\n",
    "codes\n"
   ]
  },
  {
   "cell_type": "code",
   "execution_count": 10,
   "metadata": {},
   "outputs": [
    {
     "data": {
      "text/html": [
       "<div>\n",
       "<style scoped>\n",
       "    .dataframe tbody tr th:only-of-type {\n",
       "        vertical-align: middle;\n",
       "    }\n",
       "\n",
       "    .dataframe tbody tr th {\n",
       "        vertical-align: top;\n",
       "    }\n",
       "\n",
       "    .dataframe thead th {\n",
       "        text-align: right;\n",
       "    }\n",
       "</style>\n",
       "<table border=\"1\" class=\"dataframe\">\n",
       "  <thead>\n",
       "    <tr style=\"text-align: right;\">\n",
       "      <th></th>\n",
       "      <th>Summons Number</th>\n",
       "      <th>Plate ID</th>\n",
       "      <th>Registration State</th>\n",
       "      <th>Plate Type</th>\n",
       "      <th>Issue Date</th>\n",
       "      <th>Code</th>\n",
       "      <th>Vehicle Body Type</th>\n",
       "      <th>Vehicle Make</th>\n",
       "      <th>Issuing Agency</th>\n",
       "      <th>Street Code1</th>\n",
       "      <th>...</th>\n",
       "      <th>Violation Post Code</th>\n",
       "      <th>Violation Description</th>\n",
       "      <th>No Standing or Stopping Violation</th>\n",
       "      <th>Hydrant Violation</th>\n",
       "      <th>Double Parking Violation</th>\n",
       "      <th>Date</th>\n",
       "      <th>Day Name</th>\n",
       "      <th>VIOLATION DESCRIPTION</th>\n",
       "      <th>Manhattan  96th St. &amp; below\\n(Fine Amount $)</th>\n",
       "      <th>All Other Areas\\n(Fine Amount $)</th>\n",
       "    </tr>\n",
       "  </thead>\n",
       "  <tbody>\n",
       "    <tr>\n",
       "      <td>0</td>\n",
       "      <td>4648740518</td>\n",
       "      <td>17387SH</td>\n",
       "      <td>NY</td>\n",
       "      <td>SCL</td>\n",
       "      <td>10/11/2018</td>\n",
       "      <td>36</td>\n",
       "      <td>SUBN</td>\n",
       "      <td>COLLI</td>\n",
       "      <td>V</td>\n",
       "      <td>0</td>\n",
       "      <td>...</td>\n",
       "      <td>NaN</td>\n",
       "      <td>PHTO SCHOOL ZN SPEED VIOLATION</td>\n",
       "      <td>NaN</td>\n",
       "      <td>NaN</td>\n",
       "      <td>NaN</td>\n",
       "      <td>2018-10-11</td>\n",
       "      <td>Thursday</td>\n",
       "      <td>PHTO SCHOOL ZN SPEED VIOLATION</td>\n",
       "      <td>50.0</td>\n",
       "      <td>50.0</td>\n",
       "    </tr>\n",
       "    <tr>\n",
       "      <td>1</td>\n",
       "      <td>8572430246</td>\n",
       "      <td>96328MB</td>\n",
       "      <td>NY</td>\n",
       "      <td>COM</td>\n",
       "      <td>08/31/2018</td>\n",
       "      <td>14</td>\n",
       "      <td>VAN</td>\n",
       "      <td>CHEVR</td>\n",
       "      <td>T</td>\n",
       "      <td>37510</td>\n",
       "      <td>...</td>\n",
       "      <td>66</td>\n",
       "      <td>NaN</td>\n",
       "      <td>NaN</td>\n",
       "      <td>NaN</td>\n",
       "      <td>NaN</td>\n",
       "      <td>2018-08-31</td>\n",
       "      <td>Friday</td>\n",
       "      <td>NO STANDING-DAY/TIME LIMITS</td>\n",
       "      <td>115.0</td>\n",
       "      <td>115.0</td>\n",
       "    </tr>\n",
       "    <tr>\n",
       "      <td>2</td>\n",
       "      <td>8648976674</td>\n",
       "      <td>AS697F</td>\n",
       "      <td>NY</td>\n",
       "      <td>PAS</td>\n",
       "      <td>06/30/2018</td>\n",
       "      <td>38</td>\n",
       "      <td>4DSD</td>\n",
       "      <td>HONDA</td>\n",
       "      <td>T</td>\n",
       "      <td>5280</td>\n",
       "      <td>...</td>\n",
       "      <td>26</td>\n",
       "      <td>NaN</td>\n",
       "      <td>NaN</td>\n",
       "      <td>NaN</td>\n",
       "      <td>NaN</td>\n",
       "      <td>2018-06-30</td>\n",
       "      <td>Saturday</td>\n",
       "      <td>FAIL TO DSPLY MUNI METER RECPT</td>\n",
       "      <td>65.0</td>\n",
       "      <td>35.0</td>\n",
       "    </tr>\n",
       "    <tr>\n",
       "      <td>3</td>\n",
       "      <td>8690712719</td>\n",
       "      <td>HRA6725</td>\n",
       "      <td>NY</td>\n",
       "      <td>PAS</td>\n",
       "      <td>01/08/2019</td>\n",
       "      <td>53</td>\n",
       "      <td>SUBN</td>\n",
       "      <td>TOYOT</td>\n",
       "      <td>T</td>\n",
       "      <td>29290</td>\n",
       "      <td>...</td>\n",
       "      <td>50-A</td>\n",
       "      <td>NaN</td>\n",
       "      <td>NaN</td>\n",
       "      <td>NaN</td>\n",
       "      <td>NaN</td>\n",
       "      <td>2019-01-08</td>\n",
       "      <td>Tuesday</td>\n",
       "      <td>SAFETY ZONE</td>\n",
       "      <td>115.0</td>\n",
       "      <td>115.0</td>\n",
       "    </tr>\n",
       "    <tr>\n",
       "      <td>4</td>\n",
       "      <td>8653632426</td>\n",
       "      <td>52110MH</td>\n",
       "      <td>NY</td>\n",
       "      <td>COM</td>\n",
       "      <td>08/30/2018</td>\n",
       "      <td>20</td>\n",
       "      <td>VAN</td>\n",
       "      <td>FORD</td>\n",
       "      <td>T</td>\n",
       "      <td>49020</td>\n",
       "      <td>...</td>\n",
       "      <td>03</td>\n",
       "      <td>NaN</td>\n",
       "      <td>NaN</td>\n",
       "      <td>NaN</td>\n",
       "      <td>NaN</td>\n",
       "      <td>2018-08-30</td>\n",
       "      <td>Thursday</td>\n",
       "      <td>NO PARKING-DAY/TIME LIMITS</td>\n",
       "      <td>65.0</td>\n",
       "      <td>60.0</td>\n",
       "    </tr>\n",
       "  </tbody>\n",
       "</table>\n",
       "<p>5 rows × 48 columns</p>\n",
       "</div>"
      ],
      "text/plain": [
       "   Summons Number Plate ID Registration State Plate Type  Issue Date  Code  \\\n",
       "0      4648740518  17387SH                 NY        SCL  10/11/2018    36   \n",
       "1      8572430246  96328MB                 NY        COM  08/31/2018    14   \n",
       "2      8648976674   AS697F                 NY        PAS  06/30/2018    38   \n",
       "3      8690712719  HRA6725                 NY        PAS  01/08/2019    53   \n",
       "4      8653632426  52110MH                 NY        COM  08/30/2018    20   \n",
       "\n",
       "  Vehicle Body Type Vehicle Make Issuing Agency  Street Code1  ...  \\\n",
       "0              SUBN        COLLI              V             0  ...   \n",
       "1               VAN        CHEVR              T         37510  ...   \n",
       "2              4DSD        HONDA              T          5280  ...   \n",
       "3              SUBN        TOYOT              T         29290  ...   \n",
       "4               VAN         FORD              T         49020  ...   \n",
       "\n",
       "   Violation Post Code           Violation Description  \\\n",
       "0                  NaN  PHTO SCHOOL ZN SPEED VIOLATION   \n",
       "1                   66                             NaN   \n",
       "2                   26                             NaN   \n",
       "3                 50-A                             NaN   \n",
       "4                   03                             NaN   \n",
       "\n",
       "   No Standing or Stopping Violation  Hydrant Violation  \\\n",
       "0                                NaN                NaN   \n",
       "1                                NaN                NaN   \n",
       "2                                NaN                NaN   \n",
       "3                                NaN                NaN   \n",
       "4                                NaN                NaN   \n",
       "\n",
       "   Double Parking Violation       Date  Day Name  \\\n",
       "0                       NaN 2018-10-11  Thursday   \n",
       "1                       NaN 2018-08-31    Friday   \n",
       "2                       NaN 2018-06-30  Saturday   \n",
       "3                       NaN 2019-01-08   Tuesday   \n",
       "4                       NaN 2018-08-30  Thursday   \n",
       "\n",
       "            VIOLATION DESCRIPTION  \\\n",
       "0  PHTO SCHOOL ZN SPEED VIOLATION   \n",
       "1     NO STANDING-DAY/TIME LIMITS   \n",
       "2  FAIL TO DSPLY MUNI METER RECPT   \n",
       "3                     SAFETY ZONE   \n",
       "4      NO PARKING-DAY/TIME LIMITS   \n",
       "\n",
       "  Manhattan  96th St. & below\\n(Fine Amount $)  \\\n",
       "0                                         50.0   \n",
       "1                                        115.0   \n",
       "2                                         65.0   \n",
       "3                                        115.0   \n",
       "4                                         65.0   \n",
       "\n",
       "  All Other Areas\\n(Fine Amount $)  \n",
       "0                             50.0  \n",
       "1                            115.0  \n",
       "2                             35.0  \n",
       "3                            115.0  \n",
       "4                             60.0  \n",
       "\n",
       "[5 rows x 48 columns]"
      ]
     },
     "execution_count": 10,
     "metadata": {},
     "output_type": "execute_result"
    }
   ],
   "source": [
    "#Adding the violation discription to the dataframe\n",
    "result =  df.merge(codes, on='Code', how='left')\n",
    "result.head()\n"
   ]
  },
  {
   "cell_type": "code",
   "execution_count": 11,
   "metadata": {},
   "outputs": [
    {
     "data": {
      "text/plain": [
       "NO PARKING-STREET CLEANING        901896\n",
       "FAIL TO DSPLY MUNI METER RECPT    583070\n",
       "PHTO SCHOOL ZN SPEED VIOLATION    549483\n",
       "NO STANDING-DAY/TIME LIMITS       505774\n",
       "NO PARKING-DAY/TIME LIMITS        397556\n",
       "Name: VIOLATION DESCRIPTION, dtype: int64"
      ]
     },
     "execution_count": 11,
     "metadata": {},
     "output_type": "execute_result"
    }
   ],
   "source": [
    "#Top 5 most violtated parkings crimes\n",
    "topfines = result[\"VIOLATION DESCRIPTION\"].value_counts()[:5]\n",
    "topfines"
   ]
  },
  {
   "cell_type": "code",
   "execution_count": 12,
   "metadata": {},
   "outputs": [],
   "source": [
    "fines = topfines.index.to_list()"
   ]
  },
  {
   "cell_type": "code",
   "execution_count": 13,
   "metadata": {},
   "outputs": [],
   "source": [
    "result_new = result.loc[result['VIOLATION DESCRIPTION'].isin(fines)]"
   ]
  },
  {
   "cell_type": "code",
   "execution_count": 14,
   "metadata": {},
   "outputs": [
    {
     "name": "stdout",
     "output_type": "stream",
     "text": [
      "51.23658099677472 %\n"
     ]
    }
   ],
   "source": [
    "#Top 5 crimes % size of total set \n",
    "print(len(result_new)/len(df)*100 ,\"%\")"
   ]
  },
  {
   "cell_type": "code",
   "execution_count": 16,
   "metadata": {},
   "outputs": [
    {
     "name": "stdout",
     "output_type": "stream",
     "text": [
      "Number of rows: 2937779  \n",
      "Number of Variables: 48\n"
     ]
    }
   ],
   "source": [
    "#Length and number of variables in the dataset \n",
    "print(\"Number of rows: {}  \\nNumber of Variables: {}\" .format(result_new.shape[0], str(result_new.shape[1])))"
   ]
  },
  {
   "cell_type": "markdown",
   "metadata": {},
   "source": [
    "#Data Properties \n",
    "In the dataset, there is geolocation attributes, such as strees names, house numbers, states codes etc. Next there is description of the different vehicles. There is an issue date which tells us when the violation has happened, and a timestamp for the violation. "
   ]
  },
  {
   "cell_type": "code",
   "execution_count": 24,
   "metadata": {},
   "outputs": [
    {
     "data": {
      "text/plain": [
       "0          0918A\n",
       "1          0255P\n",
       "2          1139A\n",
       "4          0146P\n",
       "5          0208P\n",
       "           ...  \n",
       "5733742    0017A\n",
       "5733745    0155P\n",
       "5733747    1057A\n",
       "5733749    0104P\n",
       "5733752    0906A\n",
       "Name: Violation Time, Length: 2937779, dtype: object"
      ]
     },
     "execution_count": 24,
     "metadata": {},
     "output_type": "execute_result"
    }
   ],
   "source": [
    "result_new.columns\n",
    "result_new['Violation Time']"
   ]
  },
  {
   "cell_type": "code",
   "execution_count": 73,
   "metadata": {},
   "outputs": [],
   "source": [
    "#result.shape\n",
    "#result[\"Adress\"] = result[\"Street Name\"] + \" \" + str(result[\"House Number\"])"
   ]
  },
  {
   "cell_type": "code",
   "execution_count": 17,
   "metadata": {},
   "outputs": [],
   "source": [
    "#result_new.to_csv(\"PARKING2019.csv\")"
   ]
  },
  {
   "cell_type": "code",
   "execution_count": 75,
   "metadata": {},
   "outputs": [],
   "source": [
    "#result.columns"
   ]
  },
  {
   "cell_type": "code",
   "execution_count": 25,
   "metadata": {},
   "outputs": [],
   "source": [
    "a= \"0918A\""
   ]
  },
  {
   "cell_type": "code",
   "execution_count": null,
   "metadata": {},
   "outputs": [],
   "source": []
  },
  {
   "cell_type": "code",
   "execution_count": null,
   "metadata": {},
   "outputs": [],
   "source": []
  },
  {
   "cell_type": "code",
   "execution_count": null,
   "metadata": {},
   "outputs": [],
   "source": []
  },
  {
   "cell_type": "code",
   "execution_count": null,
   "metadata": {},
   "outputs": [],
   "source": []
  }
 ],
 "metadata": {
  "kernelspec": {
   "display_name": "Python 3",
   "language": "python",
   "name": "python3"
  },
  "language_info": {
   "codemirror_mode": {
    "name": "ipython",
    "version": 3
   },
   "file_extension": ".py",
   "mimetype": "text/x-python",
   "name": "python",
   "nbconvert_exporter": "python",
   "pygments_lexer": "ipython3",
   "version": "3.7.4"
  }
 },
 "nbformat": 4,
 "nbformat_minor": 4
}
