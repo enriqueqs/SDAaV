{
 "cells": [
  {
   "cell_type": "code",
   "execution_count": 37,
   "metadata": {},
   "outputs": [
    {
     "data": {
      "text/html": [
       "\n",
       "    <div class=\"bk-root\">\n",
       "        <a href=\"https://bokeh.pydata.org\" target=\"_blank\" class=\"bk-logo bk-logo-small bk-logo-notebook\"></a>\n",
       "        <span id=\"1002\">Loading BokehJS ...</span>\n",
       "    </div>"
      ]
     },
     "metadata": {},
     "output_type": "display_data"
    },
    {
     "data": {
      "application/javascript": [
       "\n",
       "(function(root) {\n",
       "  function now() {\n",
       "    return new Date();\n",
       "  }\n",
       "\n",
       "  var force = true;\n",
       "\n",
       "  if (typeof root._bokeh_onload_callbacks === \"undefined\" || force === true) {\n",
       "    root._bokeh_onload_callbacks = [];\n",
       "    root._bokeh_is_loading = undefined;\n",
       "  }\n",
       "\n",
       "  var JS_MIME_TYPE = 'application/javascript';\n",
       "  var HTML_MIME_TYPE = 'text/html';\n",
       "  var EXEC_MIME_TYPE = 'application/vnd.bokehjs_exec.v0+json';\n",
       "  var CLASS_NAME = 'output_bokeh rendered_html';\n",
       "\n",
       "  /**\n",
       "   * Render data to the DOM node\n",
       "   */\n",
       "  function render(props, node) {\n",
       "    var script = document.createElement(\"script\");\n",
       "    node.appendChild(script);\n",
       "  }\n",
       "\n",
       "  /**\n",
       "   * Handle when an output is cleared or removed\n",
       "   */\n",
       "  function handleClearOutput(event, handle) {\n",
       "    var cell = handle.cell;\n",
       "\n",
       "    var id = cell.output_area._bokeh_element_id;\n",
       "    var server_id = cell.output_area._bokeh_server_id;\n",
       "    // Clean up Bokeh references\n",
       "    if (id != null && id in Bokeh.index) {\n",
       "      Bokeh.index[id].model.document.clear();\n",
       "      delete Bokeh.index[id];\n",
       "    }\n",
       "\n",
       "    if (server_id !== undefined) {\n",
       "      // Clean up Bokeh references\n",
       "      var cmd = \"from bokeh.io.state import curstate; print(curstate().uuid_to_server['\" + server_id + \"'].get_sessions()[0].document.roots[0]._id)\";\n",
       "      cell.notebook.kernel.execute(cmd, {\n",
       "        iopub: {\n",
       "          output: function(msg) {\n",
       "            var id = msg.content.text.trim();\n",
       "            if (id in Bokeh.index) {\n",
       "              Bokeh.index[id].model.document.clear();\n",
       "              delete Bokeh.index[id];\n",
       "            }\n",
       "          }\n",
       "        }\n",
       "      });\n",
       "      // Destroy server and session\n",
       "      var cmd = \"import bokeh.io.notebook as ion; ion.destroy_server('\" + server_id + \"')\";\n",
       "      cell.notebook.kernel.execute(cmd);\n",
       "    }\n",
       "  }\n",
       "\n",
       "  /**\n",
       "   * Handle when a new output is added\n",
       "   */\n",
       "  function handleAddOutput(event, handle) {\n",
       "    var output_area = handle.output_area;\n",
       "    var output = handle.output;\n",
       "\n",
       "    // limit handleAddOutput to display_data with EXEC_MIME_TYPE content only\n",
       "    if ((output.output_type != \"display_data\") || (!output.data.hasOwnProperty(EXEC_MIME_TYPE))) {\n",
       "      return\n",
       "    }\n",
       "\n",
       "    var toinsert = output_area.element.find(\".\" + CLASS_NAME.split(' ')[0]);\n",
       "\n",
       "    if (output.metadata[EXEC_MIME_TYPE][\"id\"] !== undefined) {\n",
       "      toinsert[toinsert.length - 1].firstChild.textContent = output.data[JS_MIME_TYPE];\n",
       "      // store reference to embed id on output_area\n",
       "      output_area._bokeh_element_id = output.metadata[EXEC_MIME_TYPE][\"id\"];\n",
       "    }\n",
       "    if (output.metadata[EXEC_MIME_TYPE][\"server_id\"] !== undefined) {\n",
       "      var bk_div = document.createElement(\"div\");\n",
       "      bk_div.innerHTML = output.data[HTML_MIME_TYPE];\n",
       "      var script_attrs = bk_div.children[0].attributes;\n",
       "      for (var i = 0; i < script_attrs.length; i++) {\n",
       "        toinsert[toinsert.length - 1].firstChild.setAttribute(script_attrs[i].name, script_attrs[i].value);\n",
       "      }\n",
       "      // store reference to server id on output_area\n",
       "      output_area._bokeh_server_id = output.metadata[EXEC_MIME_TYPE][\"server_id\"];\n",
       "    }\n",
       "  }\n",
       "\n",
       "  function register_renderer(events, OutputArea) {\n",
       "\n",
       "    function append_mime(data, metadata, element) {\n",
       "      // create a DOM node to render to\n",
       "      var toinsert = this.create_output_subarea(\n",
       "        metadata,\n",
       "        CLASS_NAME,\n",
       "        EXEC_MIME_TYPE\n",
       "      );\n",
       "      this.keyboard_manager.register_events(toinsert);\n",
       "      // Render to node\n",
       "      var props = {data: data, metadata: metadata[EXEC_MIME_TYPE]};\n",
       "      render(props, toinsert[toinsert.length - 1]);\n",
       "      element.append(toinsert);\n",
       "      return toinsert\n",
       "    }\n",
       "\n",
       "    /* Handle when an output is cleared or removed */\n",
       "    events.on('clear_output.CodeCell', handleClearOutput);\n",
       "    events.on('delete.Cell', handleClearOutput);\n",
       "\n",
       "    /* Handle when a new output is added */\n",
       "    events.on('output_added.OutputArea', handleAddOutput);\n",
       "\n",
       "    /**\n",
       "     * Register the mime type and append_mime function with output_area\n",
       "     */\n",
       "    OutputArea.prototype.register_mime_type(EXEC_MIME_TYPE, append_mime, {\n",
       "      /* Is output safe? */\n",
       "      safe: true,\n",
       "      /* Index of renderer in `output_area.display_order` */\n",
       "      index: 0\n",
       "    });\n",
       "  }\n",
       "\n",
       "  // register the mime type if in Jupyter Notebook environment and previously unregistered\n",
       "  if (root.Jupyter !== undefined) {\n",
       "    var events = require('base/js/events');\n",
       "    var OutputArea = require('notebook/js/outputarea').OutputArea;\n",
       "\n",
       "    if (OutputArea.prototype.mime_types().indexOf(EXEC_MIME_TYPE) == -1) {\n",
       "      register_renderer(events, OutputArea);\n",
       "    }\n",
       "  }\n",
       "\n",
       "  \n",
       "  if (typeof (root._bokeh_timeout) === \"undefined\" || force === true) {\n",
       "    root._bokeh_timeout = Date.now() + 5000;\n",
       "    root._bokeh_failed_load = false;\n",
       "  }\n",
       "\n",
       "  var NB_LOAD_WARNING = {'data': {'text/html':\n",
       "     \"<div style='background-color: #fdd'>\\n\"+\n",
       "     \"<p>\\n\"+\n",
       "     \"BokehJS does not appear to have successfully loaded. If loading BokehJS from CDN, this \\n\"+\n",
       "     \"may be due to a slow or bad network connection. Possible fixes:\\n\"+\n",
       "     \"</p>\\n\"+\n",
       "     \"<ul>\\n\"+\n",
       "     \"<li>re-rerun `output_notebook()` to attempt to load from CDN again, or</li>\\n\"+\n",
       "     \"<li>use INLINE resources instead, as so:</li>\\n\"+\n",
       "     \"</ul>\\n\"+\n",
       "     \"<code>\\n\"+\n",
       "     \"from bokeh.resources import INLINE\\n\"+\n",
       "     \"output_notebook(resources=INLINE)\\n\"+\n",
       "     \"</code>\\n\"+\n",
       "     \"</div>\"}};\n",
       "\n",
       "  function display_loaded() {\n",
       "    var el = document.getElementById(\"1002\");\n",
       "    if (el != null) {\n",
       "      el.textContent = \"BokehJS is loading...\";\n",
       "    }\n",
       "    if (root.Bokeh !== undefined) {\n",
       "      if (el != null) {\n",
       "        el.textContent = \"BokehJS \" + root.Bokeh.version + \" successfully loaded.\";\n",
       "      }\n",
       "    } else if (Date.now() < root._bokeh_timeout) {\n",
       "      setTimeout(display_loaded, 100)\n",
       "    }\n",
       "  }\n",
       "\n",
       "\n",
       "  function run_callbacks() {\n",
       "    try {\n",
       "      root._bokeh_onload_callbacks.forEach(function(callback) {\n",
       "        if (callback != null)\n",
       "          callback();\n",
       "      });\n",
       "    } finally {\n",
       "      delete root._bokeh_onload_callbacks\n",
       "    }\n",
       "    console.debug(\"Bokeh: all callbacks have finished\");\n",
       "  }\n",
       "\n",
       "  function load_libs(css_urls, js_urls, callback) {\n",
       "    if (css_urls == null) css_urls = [];\n",
       "    if (js_urls == null) js_urls = [];\n",
       "\n",
       "    root._bokeh_onload_callbacks.push(callback);\n",
       "    if (root._bokeh_is_loading > 0) {\n",
       "      console.debug(\"Bokeh: BokehJS is being loaded, scheduling callback at\", now());\n",
       "      return null;\n",
       "    }\n",
       "    if (js_urls == null || js_urls.length === 0) {\n",
       "      run_callbacks();\n",
       "      return null;\n",
       "    }\n",
       "    console.debug(\"Bokeh: BokehJS not loaded, scheduling load and callback at\", now());\n",
       "    root._bokeh_is_loading = css_urls.length + js_urls.length;\n",
       "\n",
       "    function on_load() {\n",
       "      root._bokeh_is_loading--;\n",
       "      if (root._bokeh_is_loading === 0) {\n",
       "        console.debug(\"Bokeh: all BokehJS libraries/stylesheets loaded\");\n",
       "        run_callbacks()\n",
       "      }\n",
       "    }\n",
       "\n",
       "    function on_error() {\n",
       "      console.error(\"failed to load \" + url);\n",
       "    }\n",
       "\n",
       "    for (var i = 0; i < css_urls.length; i++) {\n",
       "      var url = css_urls[i];\n",
       "      const element = document.createElement(\"link\");\n",
       "      element.onload = on_load;\n",
       "      element.onerror = on_error;\n",
       "      element.rel = \"stylesheet\";\n",
       "      element.type = \"text/css\";\n",
       "      element.href = url;\n",
       "      console.debug(\"Bokeh: injecting link tag for BokehJS stylesheet: \", url);\n",
       "      document.body.appendChild(element);\n",
       "    }\n",
       "\n",
       "    for (var i = 0; i < js_urls.length; i++) {\n",
       "      var url = js_urls[i];\n",
       "      var element = document.createElement('script');\n",
       "      element.onload = on_load;\n",
       "      element.onerror = on_error;\n",
       "      element.async = false;\n",
       "      element.src = url;\n",
       "      console.debug(\"Bokeh: injecting script tag for BokehJS library: \", url);\n",
       "      document.head.appendChild(element);\n",
       "    }\n",
       "  };var element = document.getElementById(\"1002\");\n",
       "  if (element == null) {\n",
       "    console.error(\"Bokeh: ERROR: autoload.js configured with elementid '1002' but no matching script tag was found. \")\n",
       "    return false;\n",
       "  }\n",
       "\n",
       "  function inject_raw_css(css) {\n",
       "    const element = document.createElement(\"style\");\n",
       "    element.appendChild(document.createTextNode(css));\n",
       "    document.body.appendChild(element);\n",
       "  }\n",
       "\n",
       "  var js_urls = [\"https://cdn.pydata.org/bokeh/release/bokeh-1.3.4.min.js\", \"https://cdn.pydata.org/bokeh/release/bokeh-widgets-1.3.4.min.js\", \"https://cdn.pydata.org/bokeh/release/bokeh-tables-1.3.4.min.js\", \"https://cdn.pydata.org/bokeh/release/bokeh-gl-1.3.4.min.js\"];\n",
       "  var css_urls = [];\n",
       "\n",
       "  var inline_js = [\n",
       "    function(Bokeh) {\n",
       "      Bokeh.set_log_level(\"info\");\n",
       "    },\n",
       "    \n",
       "    function(Bokeh) {\n",
       "      \n",
       "    },\n",
       "    function(Bokeh) {} // ensure no trailing comma for IE\n",
       "  ];\n",
       "\n",
       "  function run_inline_js() {\n",
       "    \n",
       "    if ((root.Bokeh !== undefined) || (force === true)) {\n",
       "      for (var i = 0; i < inline_js.length; i++) {\n",
       "        inline_js[i].call(root, root.Bokeh);\n",
       "      }if (force === true) {\n",
       "        display_loaded();\n",
       "      }} else if (Date.now() < root._bokeh_timeout) {\n",
       "      setTimeout(run_inline_js, 100);\n",
       "    } else if (!root._bokeh_failed_load) {\n",
       "      console.log(\"Bokeh: BokehJS failed to load within specified timeout.\");\n",
       "      root._bokeh_failed_load = true;\n",
       "    } else if (force !== true) {\n",
       "      var cell = $(document.getElementById(\"1002\")).parents('.cell').data().cell;\n",
       "      cell.output_area.append_execute_result(NB_LOAD_WARNING)\n",
       "    }\n",
       "\n",
       "  }\n",
       "\n",
       "  if (root._bokeh_is_loading === 0) {\n",
       "    console.debug(\"Bokeh: BokehJS loaded, going straight to plotting\");\n",
       "    run_inline_js();\n",
       "  } else {\n",
       "    load_libs(css_urls, js_urls, function() {\n",
       "      console.debug(\"Bokeh: BokehJS plotting callback run at\", now());\n",
       "      run_inline_js();\n",
       "    });\n",
       "  }\n",
       "}(window));"
      ],
      "application/vnd.bokehjs_load.v0+json": "\n(function(root) {\n  function now() {\n    return new Date();\n  }\n\n  var force = true;\n\n  if (typeof root._bokeh_onload_callbacks === \"undefined\" || force === true) {\n    root._bokeh_onload_callbacks = [];\n    root._bokeh_is_loading = undefined;\n  }\n\n  \n\n  \n  if (typeof (root._bokeh_timeout) === \"undefined\" || force === true) {\n    root._bokeh_timeout = Date.now() + 5000;\n    root._bokeh_failed_load = false;\n  }\n\n  var NB_LOAD_WARNING = {'data': {'text/html':\n     \"<div style='background-color: #fdd'>\\n\"+\n     \"<p>\\n\"+\n     \"BokehJS does not appear to have successfully loaded. If loading BokehJS from CDN, this \\n\"+\n     \"may be due to a slow or bad network connection. Possible fixes:\\n\"+\n     \"</p>\\n\"+\n     \"<ul>\\n\"+\n     \"<li>re-rerun `output_notebook()` to attempt to load from CDN again, or</li>\\n\"+\n     \"<li>use INLINE resources instead, as so:</li>\\n\"+\n     \"</ul>\\n\"+\n     \"<code>\\n\"+\n     \"from bokeh.resources import INLINE\\n\"+\n     \"output_notebook(resources=INLINE)\\n\"+\n     \"</code>\\n\"+\n     \"</div>\"}};\n\n  function display_loaded() {\n    var el = document.getElementById(\"1002\");\n    if (el != null) {\n      el.textContent = \"BokehJS is loading...\";\n    }\n    if (root.Bokeh !== undefined) {\n      if (el != null) {\n        el.textContent = \"BokehJS \" + root.Bokeh.version + \" successfully loaded.\";\n      }\n    } else if (Date.now() < root._bokeh_timeout) {\n      setTimeout(display_loaded, 100)\n    }\n  }\n\n\n  function run_callbacks() {\n    try {\n      root._bokeh_onload_callbacks.forEach(function(callback) {\n        if (callback != null)\n          callback();\n      });\n    } finally {\n      delete root._bokeh_onload_callbacks\n    }\n    console.debug(\"Bokeh: all callbacks have finished\");\n  }\n\n  function load_libs(css_urls, js_urls, callback) {\n    if (css_urls == null) css_urls = [];\n    if (js_urls == null) js_urls = [];\n\n    root._bokeh_onload_callbacks.push(callback);\n    if (root._bokeh_is_loading > 0) {\n      console.debug(\"Bokeh: BokehJS is being loaded, scheduling callback at\", now());\n      return null;\n    }\n    if (js_urls == null || js_urls.length === 0) {\n      run_callbacks();\n      return null;\n    }\n    console.debug(\"Bokeh: BokehJS not loaded, scheduling load and callback at\", now());\n    root._bokeh_is_loading = css_urls.length + js_urls.length;\n\n    function on_load() {\n      root._bokeh_is_loading--;\n      if (root._bokeh_is_loading === 0) {\n        console.debug(\"Bokeh: all BokehJS libraries/stylesheets loaded\");\n        run_callbacks()\n      }\n    }\n\n    function on_error() {\n      console.error(\"failed to load \" + url);\n    }\n\n    for (var i = 0; i < css_urls.length; i++) {\n      var url = css_urls[i];\n      const element = document.createElement(\"link\");\n      element.onload = on_load;\n      element.onerror = on_error;\n      element.rel = \"stylesheet\";\n      element.type = \"text/css\";\n      element.href = url;\n      console.debug(\"Bokeh: injecting link tag for BokehJS stylesheet: \", url);\n      document.body.appendChild(element);\n    }\n\n    for (var i = 0; i < js_urls.length; i++) {\n      var url = js_urls[i];\n      var element = document.createElement('script');\n      element.onload = on_load;\n      element.onerror = on_error;\n      element.async = false;\n      element.src = url;\n      console.debug(\"Bokeh: injecting script tag for BokehJS library: \", url);\n      document.head.appendChild(element);\n    }\n  };var element = document.getElementById(\"1002\");\n  if (element == null) {\n    console.error(\"Bokeh: ERROR: autoload.js configured with elementid '1002' but no matching script tag was found. \")\n    return false;\n  }\n\n  function inject_raw_css(css) {\n    const element = document.createElement(\"style\");\n    element.appendChild(document.createTextNode(css));\n    document.body.appendChild(element);\n  }\n\n  var js_urls = [\"https://cdn.pydata.org/bokeh/release/bokeh-1.3.4.min.js\", \"https://cdn.pydata.org/bokeh/release/bokeh-widgets-1.3.4.min.js\", \"https://cdn.pydata.org/bokeh/release/bokeh-tables-1.3.4.min.js\", \"https://cdn.pydata.org/bokeh/release/bokeh-gl-1.3.4.min.js\"];\n  var css_urls = [];\n\n  var inline_js = [\n    function(Bokeh) {\n      Bokeh.set_log_level(\"info\");\n    },\n    \n    function(Bokeh) {\n      \n    },\n    function(Bokeh) {} // ensure no trailing comma for IE\n  ];\n\n  function run_inline_js() {\n    \n    if ((root.Bokeh !== undefined) || (force === true)) {\n      for (var i = 0; i < inline_js.length; i++) {\n        inline_js[i].call(root, root.Bokeh);\n      }if (force === true) {\n        display_loaded();\n      }} else if (Date.now() < root._bokeh_timeout) {\n      setTimeout(run_inline_js, 100);\n    } else if (!root._bokeh_failed_load) {\n      console.log(\"Bokeh: BokehJS failed to load within specified timeout.\");\n      root._bokeh_failed_load = true;\n    } else if (force !== true) {\n      var cell = $(document.getElementById(\"1002\")).parents('.cell').data().cell;\n      cell.output_area.append_execute_result(NB_LOAD_WARNING)\n    }\n\n  }\n\n  if (root._bokeh_is_loading === 0) {\n    console.debug(\"Bokeh: BokehJS loaded, going straight to plotting\");\n    run_inline_js();\n  } else {\n    load_libs(css_urls, js_urls, function() {\n      console.debug(\"Bokeh: BokehJS plotting callback run at\", now());\n      run_inline_js();\n    });\n  }\n}(window));"
     },
     "metadata": {},
     "output_type": "display_data"
    }
   ],
   "source": [
    "import pandas as pd \n",
    "import numpy as np\n",
    "import calendar\n",
    "import matplotlib.pyplot as plt\n",
    "import datetime\n",
    "%matplotlib inline\n",
    "from folium.plugins import HeatMap\n",
    "from bokeh.plotting import figure\n",
    "from bokeh.io import output_notebook, show\n",
    "from bokeh.models import ColumnDataSource, FactorRange,Legend,LinearAxis, DatetimeTickFormatter, Range1d\n",
    "from bokeh.palettes import Category20\n",
    "from bokeh.plotting import figure\n",
    "from bokeh.transform import factor_cmap\n",
    "from bokeh.resources import CDN\n",
    "from bokeh.embed import file_html\n",
    "from bokeh.plotting import figure, output_file, save\n",
    "from geopy.geocoders import Nominatim\n",
    "\n",
    "\n",
    "output_notebook()"
   ]
  },
  {
   "cell_type": "markdown",
   "metadata": {},
   "source": [
    "# Investigation Parking Enforcment Behaviour "
   ]
  },
  {
   "cell_type": "markdown",
   "metadata": {},
   "source": [
    "## Fetching the Data"
   ]
  },
  {
   "cell_type": "code",
   "execution_count": 38,
   "metadata": {},
   "outputs": [
    {
     "name": "stderr",
     "output_type": "stream",
     "text": [
      "/Users/rasmusblirupjensen/opt/anaconda3/lib/python3.7/site-packages/IPython/core/interactiveshell.py:3058: DtypeWarning: Columns (17,18,20,22,23,29,30,31,32,36,38,39) have mixed types.Specify dtype option on import or set low_memory=False.\n",
      "  interactivity=interactivity, compiler=compiler, result=result)\n"
     ]
    }
   ],
   "source": [
    "df = pd.read_csv(\"/Users/rasmusblirupjensen/Downloads/Parking_Violations_Issued_-_Fiscal_Year_2019.csv\")\n",
    "codes = pd.read_excel(\"/Users/rasmusblirupjensen/Downloads/ParkingViolationCodes_Nov_2018.xlsx\")"
   ]
  },
  {
   "cell_type": "code",
   "execution_count": 39,
   "metadata": {},
   "outputs": [],
   "source": [
    "#Merging the Data Sets\n",
    "#Convertin Violation code to integer\n",
    "codes[\"VIOLATION CODE\"].astype(int)\n",
    "#df = df.rename(columns={\"Violation Code\": \"Code\"})\n",
    "df_new =  df.merge(codes, left_on=\"Violation Code\",right_on=\"VIOLATION CODE\", how='left')\n",
    "#Dropping Columns that will not be used\n",
    "df = df_new.drop(columns=['Plate ID', 'Registration State', 'Plate Type','Street Code1', 'Street Code2', 'Street Code3','Vehicle Expiration Date', 'Time First Observed', 'Intersecting Street', 'Date First Observed', 'Law Section', 'Sub Division', 'Violation Legal Code', 'Days Parking In Effect',\n",
    "'From Hours In Effect', 'To Hours In Effect', 'Vehicle Color','Unregistered Vehicle?', 'Vehicle Year', 'Meter Number','No Standing or Stopping Violation', 'Hydrant Violation', 'Double Parking Violation',\"Violation Description\",'Violation In Front Of Or Opposite','Violation Location',\n",
    "], axis=1)\n",
    "\n",
    "df = df.sample(frac=0.1)"
   ]
  },
  {
   "cell_type": "markdown",
   "metadata": {},
   "source": [
    "# 1.Motivation "
   ]
  },
  {
   "cell_type": "markdown",
   "metadata": {},
   "source": [
    "Dataset: <br>\n",
    "The dataset consists of data about parking violations in New York City for the fiscal year of 2019. There are 52 features in the original dataset, from which only 25 are used. \n",
    "\n",
    "Choice of Dataset:<br>\n",
    "The group wishes to investigate the behaviour of Parking Enforcement agents, given that there is always suspicions from citizens regarding officers trying to meet quotas. Since this is common myth in most large cities in the world. This dataset lets the group explore the behaviuor of individual officers and districts. This gives an oppertunity to explore how they operate, and clearify if any pattern in their behaviuor is present. Weather data has been added to enrich the violation data, inorder to see if weather has an impact on how officers act.\n",
    "\n",
    "Goal: <br>\n",
    "The goal of this research is to shed light upon the ever lasting question upon the (so called:sneaky) work of parking officals. "
   ]
  },
  {
   "cell_type": "code",
   "execution_count": 40,
   "metadata": {},
   "outputs": [
    {
     "data": {
      "text/html": [
       "<div>\n",
       "<style scoped>\n",
       "    .dataframe tbody tr th:only-of-type {\n",
       "        vertical-align: middle;\n",
       "    }\n",
       "\n",
       "    .dataframe tbody tr th {\n",
       "        vertical-align: top;\n",
       "    }\n",
       "\n",
       "    .dataframe thead th {\n",
       "        text-align: right;\n",
       "    }\n",
       "</style>\n",
       "<table border=\"1\" class=\"dataframe\">\n",
       "  <thead>\n",
       "    <tr style=\"text-align: right;\">\n",
       "      <th></th>\n",
       "      <th>Summons Number</th>\n",
       "      <th>Issue Date</th>\n",
       "      <th>Violation Code</th>\n",
       "      <th>Vehicle Body Type</th>\n",
       "      <th>Vehicle Make</th>\n",
       "      <th>Issuing Agency</th>\n",
       "      <th>Violation Precinct</th>\n",
       "      <th>Issuer Precinct</th>\n",
       "      <th>Issuer Code</th>\n",
       "      <th>Issuer Command</th>\n",
       "      <th>...</th>\n",
       "      <th>Violation Time</th>\n",
       "      <th>Violation County</th>\n",
       "      <th>House Number</th>\n",
       "      <th>Street Name</th>\n",
       "      <th>Feet From Curb</th>\n",
       "      <th>Violation Post Code</th>\n",
       "      <th>VIOLATION CODE</th>\n",
       "      <th>VIOLATION DESCRIPTION</th>\n",
       "      <th>Manhattan  96th St. &amp; below\\n(Fine Amount $)</th>\n",
       "      <th>All Other Areas\\n(Fine Amount $)</th>\n",
       "    </tr>\n",
       "  </thead>\n",
       "  <tbody>\n",
       "    <tr>\n",
       "      <th>9800222</th>\n",
       "      <td>8609410079</td>\n",
       "      <td>05/20/2019</td>\n",
       "      <td>20</td>\n",
       "      <td>SUBN</td>\n",
       "      <td>KIA</td>\n",
       "      <td>T</td>\n",
       "      <td>14</td>\n",
       "      <td>14</td>\n",
       "      <td>341298</td>\n",
       "      <td>T108</td>\n",
       "      <td>...</td>\n",
       "      <td>0536P</td>\n",
       "      <td>NY</td>\n",
       "      <td>320</td>\n",
       "      <td>W 30th St</td>\n",
       "      <td>0</td>\n",
       "      <td>01</td>\n",
       "      <td>20.0</td>\n",
       "      <td>NO PARKING-DAY/TIME LIMITS</td>\n",
       "      <td>65.0</td>\n",
       "      <td>60.0</td>\n",
       "    </tr>\n",
       "    <tr>\n",
       "      <th>1593110</th>\n",
       "      <td>8627330918</td>\n",
       "      <td>08/01/2018</td>\n",
       "      <td>37</td>\n",
       "      <td>SUBN</td>\n",
       "      <td>KIA</td>\n",
       "      <td>T</td>\n",
       "      <td>28</td>\n",
       "      <td>28</td>\n",
       "      <td>356267</td>\n",
       "      <td>T103</td>\n",
       "      <td>...</td>\n",
       "      <td>0251P</td>\n",
       "      <td>NY</td>\n",
       "      <td>111</td>\n",
       "      <td>E 125th St</td>\n",
       "      <td>0</td>\n",
       "      <td>52</td>\n",
       "      <td>37.0</td>\n",
       "      <td>EXPIRED MUNI METER</td>\n",
       "      <td>65.0</td>\n",
       "      <td>35.0</td>\n",
       "    </tr>\n",
       "    <tr>\n",
       "      <th>3047845</th>\n",
       "      <td>8624730971</td>\n",
       "      <td>10/19/2018</td>\n",
       "      <td>71</td>\n",
       "      <td>SUBN</td>\n",
       "      <td>TOYOT</td>\n",
       "      <td>T</td>\n",
       "      <td>28</td>\n",
       "      <td>28</td>\n",
       "      <td>355325</td>\n",
       "      <td>T103</td>\n",
       "      <td>...</td>\n",
       "      <td>1010A</td>\n",
       "      <td>NY</td>\n",
       "      <td>172</td>\n",
       "      <td>W 124th St</td>\n",
       "      <td>0</td>\n",
       "      <td>CC1</td>\n",
       "      <td>71.0</td>\n",
       "      <td>INSP. STICKER-EXPIRED/MISSING</td>\n",
       "      <td>65.0</td>\n",
       "      <td>65.0</td>\n",
       "    </tr>\n",
       "    <tr>\n",
       "      <th>7886600</th>\n",
       "      <td>4654537302</td>\n",
       "      <td>03/20/2019</td>\n",
       "      <td>36</td>\n",
       "      <td>SUBN</td>\n",
       "      <td>ME/BE</td>\n",
       "      <td>V</td>\n",
       "      <td>0</td>\n",
       "      <td>0</td>\n",
       "      <td>0</td>\n",
       "      <td>NaN</td>\n",
       "      <td>...</td>\n",
       "      <td>0120P</td>\n",
       "      <td>BK</td>\n",
       "      <td>NaN</td>\n",
       "      <td>SB ROCKAWAY PKWY @ A</td>\n",
       "      <td>0</td>\n",
       "      <td>NaN</td>\n",
       "      <td>36.0</td>\n",
       "      <td>PHTO SCHOOL ZN SPEED VIOLATION</td>\n",
       "      <td>50.0</td>\n",
       "      <td>50.0</td>\n",
       "    </tr>\n",
       "    <tr>\n",
       "      <th>2730577</th>\n",
       "      <td>8685329097</td>\n",
       "      <td>09/07/2018</td>\n",
       "      <td>38</td>\n",
       "      <td>SUBN</td>\n",
       "      <td>CHEVR</td>\n",
       "      <td>T</td>\n",
       "      <td>61</td>\n",
       "      <td>61</td>\n",
       "      <td>354144</td>\n",
       "      <td>T802</td>\n",
       "      <td>...</td>\n",
       "      <td>0852P</td>\n",
       "      <td>K</td>\n",
       "      <td>2011</td>\n",
       "      <td>Emmons Ave</td>\n",
       "      <td>0</td>\n",
       "      <td>CC4</td>\n",
       "      <td>38.0</td>\n",
       "      <td>FAIL TO DSPLY MUNI METER RECPT</td>\n",
       "      <td>65.0</td>\n",
       "      <td>35.0</td>\n",
       "    </tr>\n",
       "  </tbody>\n",
       "</table>\n",
       "<p>5 rows × 21 columns</p>\n",
       "</div>"
      ],
      "text/plain": [
       "         Summons Number  Issue Date  Violation Code Vehicle Body Type  \\\n",
       "9800222      8609410079  05/20/2019              20              SUBN   \n",
       "1593110      8627330918  08/01/2018              37              SUBN   \n",
       "3047845      8624730971  10/19/2018              71              SUBN   \n",
       "7886600      4654537302  03/20/2019              36              SUBN   \n",
       "2730577      8685329097  09/07/2018              38              SUBN   \n",
       "\n",
       "        Vehicle Make Issuing Agency  Violation Precinct  Issuer Precinct  \\\n",
       "9800222          KIA              T                  14               14   \n",
       "1593110          KIA              T                  28               28   \n",
       "3047845        TOYOT              T                  28               28   \n",
       "7886600        ME/BE              V                   0                0   \n",
       "2730577        CHEVR              T                  61               61   \n",
       "\n",
       "         Issuer Code Issuer Command  ... Violation Time Violation County  \\\n",
       "9800222       341298           T108  ...          0536P               NY   \n",
       "1593110       356267           T103  ...          0251P               NY   \n",
       "3047845       355325           T103  ...          1010A               NY   \n",
       "7886600            0            NaN  ...          0120P               BK   \n",
       "2730577       354144           T802  ...          0852P                K   \n",
       "\n",
       "        House Number           Street Name Feet From Curb  \\\n",
       "9800222          320             W 30th St              0   \n",
       "1593110          111            E 125th St              0   \n",
       "3047845          172            W 124th St              0   \n",
       "7886600          NaN  SB ROCKAWAY PKWY @ A              0   \n",
       "2730577         2011            Emmons Ave              0   \n",
       "\n",
       "         Violation Post Code VIOLATION CODE           VIOLATION DESCRIPTION  \\\n",
       "9800222                   01           20.0      NO PARKING-DAY/TIME LIMITS   \n",
       "1593110                   52           37.0              EXPIRED MUNI METER   \n",
       "3047845                  CC1           71.0   INSP. STICKER-EXPIRED/MISSING   \n",
       "7886600                  NaN           36.0  PHTO SCHOOL ZN SPEED VIOLATION   \n",
       "2730577                  CC4           38.0  FAIL TO DSPLY MUNI METER RECPT   \n",
       "\n",
       "        Manhattan  96th St. & below\\n(Fine Amount $)  \\\n",
       "9800222                                         65.0   \n",
       "1593110                                         65.0   \n",
       "3047845                                         65.0   \n",
       "7886600                                         50.0   \n",
       "2730577                                         65.0   \n",
       "\n",
       "         All Other Areas\\n(Fine Amount $)  \n",
       "9800222                              60.0  \n",
       "1593110                              35.0  \n",
       "3047845                              65.0  \n",
       "7886600                              50.0  \n",
       "2730577                              35.0  \n",
       "\n",
       "[5 rows x 21 columns]"
      ]
     },
     "execution_count": 40,
     "metadata": {},
     "output_type": "execute_result"
    }
   ],
   "source": [
    "df.head()"
   ]
  },
  {
   "cell_type": "code",
   "execution_count": null,
   "metadata": {},
   "outputs": [],
   "source": [
    "\n"
   ]
  },
  {
   "cell_type": "code",
   "execution_count": null,
   "metadata": {},
   "outputs": [],
   "source": []
  },
  {
   "cell_type": "code",
   "execution_count": 41,
   "metadata": {},
   "outputs": [
    {
     "data": {
      "text/plain": [
       "(1146751, 21)"
      ]
     },
     "execution_count": 41,
     "metadata": {},
     "output_type": "execute_result"
    }
   ],
   "source": [
    "df.shape\n"
   ]
  },
  {
   "cell_type": "markdown",
   "metadata": {},
   "source": [
    "# 2. Data Cleaning\n",
    "* Write about your choices in data cleaning and preprocessing <br>\n",
    "Through the data cleaning we choose to remove many of the columns as we deemed them not relevant for what we wished to explore thoughout the dataset. Some data was hard to use, since it came in different format. Fx. the time came in xxxxP or xxxxA, here we had to write a small script that converted the time to er 24 hour time format. Day and month were retrived in order to use them for visualizations. Further more, a violation has been taken out of the dataset since it is a speed camera, and we wish to keep i to personel only. \n",
    "<br>\n",
    "* Write a short section that discusses the dataset stats, containing key points/plots from your exploratory data analysis. <br>"
   ]
  },
  {
   "cell_type": "code",
   "execution_count": 42,
   "metadata": {},
   "outputs": [],
   "source": [
    "## converting the Violation Time to datetime \n",
    "def time(xx):\n",
    "    time = []\n",
    "    for x in xx:\n",
    "        x = str(x)\n",
    "        if x[-1:] == \"P\":\n",
    "            if x[:2] == \"12\":\n",
    "                new_x = \"12\"\n",
    "                second = x[2:4]\n",
    "                new_time = new_x+\":\"+str(second)+\":\"+\"00\"    \n",
    "                time.append(new_time)\n",
    "            else:\n",
    "                first = int(x[:2])+12\n",
    "                second = x[2:4]\n",
    "                new_time = str(first)+\":\"+str(second)+\":\"+\"00\"   \n",
    "                time.append(new_time)\n",
    "        else:\n",
    "            if x[:2] == \"12\":\n",
    "                new_x = \"00\"\n",
    "                second = x[2:4]\n",
    "                new_time = new_x+\":\"+str(second)+\":\"+\"00\"    \n",
    "                time.append(new_time)\n",
    "            else:  \n",
    "                first = x[:2]\n",
    "                second = x[2:4]\n",
    "                new_time = str(first)+\":\"+str(second)+\":\"+\"00\"    \n",
    "                time.append(new_time)\n",
    "    return time"
   ]
  },
  {
   "cell_type": "code",
   "execution_count": 43,
   "metadata": {},
   "outputs": [],
   "source": [
    "#Converting Date into right format\n",
    "df['Issue Date']=pd.to_datetime(df[\"Issue Date\"], format='%m/%d/%Y', errors='coerce')\n",
    "#Converting County to String\n",
    "df['Street Name'] = df['Street Name'].replace('@', '', regex=True)\n",
    "df[\"Adress\"] = df[\"House Number\"].astype(str)+ \" \" + df[\"Street Name\"] +\" \"+ \"NYC\"\n",
    "df.dropna(subset=[\"Violation County\"], inplace=True)\n",
    "df[\"County\"] = df['Violation County'].astype(str)\n",
    "# Creating Time Stamps and time features\n",
    "df[\"Day Name\"] = df[\"Issue Date\"].dt.day_name()\n",
    "df[\"Day Number\"] =  df[\"Issue Date\"].dt.dayofweek\n",
    "df[\"month\"] =  df[\"Issue Date\"].dt.month\n",
    "df[\"month name\"] = df[\"Issue Date\"].dt.month_name()\n",
    "df[\"Time\"] = time(df['Violation Time'])\n",
    "df[\"Time\"] = pd.to_datetime(df[\"Time\"], format = '%H:%M:%S',  errors='coerce' )\n",
    "df[\"Hour\"] = df[\"Time\"].dt.hour\n",
    "df.dropna(subset= [\"Hour\"], inplace = True)\n",
    "df[\"Hour\"] = df[\"Hour\"].astype(int)\n",
    "df[\"Day\"] = df[\"Issue Date\"].dt.day\n",
    "#Dropping Violation code 36 because it is a Speed Camera\n",
    "df = df[df[\"Violation Code\"] != 36 ]"
   ]
  },
  {
   "cell_type": "code",
   "execution_count": 44,
   "metadata": {},
   "outputs": [
    {
     "data": {
      "text/plain": [
       "314"
      ]
     },
     "execution_count": 44,
     "metadata": {},
     "output_type": "execute_result"
    }
   ],
   "source": [
    "topfines = df[\"VIOLATION DESCRIPTION\"].value_counts()[9:10]\n",
    "top = topfines.index.to_list()\n",
    "location_df = df[df[\"VIOLATION DESCRIPTION\"].isin(top)]\n",
    "location_df = location_df.sample(frac=0.01).reset_index()\n",
    "len(location_df)"
   ]
  },
  {
   "cell_type": "code",
   "execution_count": 45,
   "metadata": {},
   "outputs": [
    {
     "data": {
      "text/html": [
       "<div>\n",
       "<style scoped>\n",
       "    .dataframe tbody tr th:only-of-type {\n",
       "        vertical-align: middle;\n",
       "    }\n",
       "\n",
       "    .dataframe tbody tr th {\n",
       "        vertical-align: top;\n",
       "    }\n",
       "\n",
       "    .dataframe thead th {\n",
       "        text-align: right;\n",
       "    }\n",
       "</style>\n",
       "<table border=\"1\" class=\"dataframe\">\n",
       "  <thead>\n",
       "    <tr style=\"text-align: right;\">\n",
       "      <th></th>\n",
       "      <th>index</th>\n",
       "      <th>Summons Number</th>\n",
       "      <th>Issue Date</th>\n",
       "      <th>Violation Code</th>\n",
       "      <th>Vehicle Body Type</th>\n",
       "      <th>Vehicle Make</th>\n",
       "      <th>Issuing Agency</th>\n",
       "      <th>Violation Precinct</th>\n",
       "      <th>Issuer Precinct</th>\n",
       "      <th>Issuer Code</th>\n",
       "      <th>...</th>\n",
       "      <th>All Other Areas\\n(Fine Amount $)</th>\n",
       "      <th>Adress</th>\n",
       "      <th>County</th>\n",
       "      <th>Day Name</th>\n",
       "      <th>Day Number</th>\n",
       "      <th>month</th>\n",
       "      <th>month name</th>\n",
       "      <th>Time</th>\n",
       "      <th>Hour</th>\n",
       "      <th>Day</th>\n",
       "    </tr>\n",
       "  </thead>\n",
       "  <tbody>\n",
       "    <tr>\n",
       "      <th>0</th>\n",
       "      <td>6652684</td>\n",
       "      <td>8676379622</td>\n",
       "      <td>2019-01-25</td>\n",
       "      <td>70</td>\n",
       "      <td>4DSD</td>\n",
       "      <td>TOYOT</td>\n",
       "      <td>T</td>\n",
       "      <td>104</td>\n",
       "      <td>104</td>\n",
       "      <td>358867</td>\n",
       "      <td>...</td>\n",
       "      <td>65.0</td>\n",
       "      <td>84-52 63rd Ave NYC</td>\n",
       "      <td>Q</td>\n",
       "      <td>Friday</td>\n",
       "      <td>4</td>\n",
       "      <td>1</td>\n",
       "      <td>January</td>\n",
       "      <td>1900-01-01 22:13:00</td>\n",
       "      <td>22</td>\n",
       "      <td>25</td>\n",
       "    </tr>\n",
       "    <tr>\n",
       "      <th>1</th>\n",
       "      <td>10026064</td>\n",
       "      <td>8742912271</td>\n",
       "      <td>2019-05-24</td>\n",
       "      <td>70</td>\n",
       "      <td>SUBN</td>\n",
       "      <td>JEEP</td>\n",
       "      <td>T</td>\n",
       "      <td>106</td>\n",
       "      <td>106</td>\n",
       "      <td>367886</td>\n",
       "      <td>...</td>\n",
       "      <td>65.0</td>\n",
       "      <td>101-19 159th Ave NYC</td>\n",
       "      <td>Q</td>\n",
       "      <td>Friday</td>\n",
       "      <td>4</td>\n",
       "      <td>5</td>\n",
       "      <td>May</td>\n",
       "      <td>1900-01-01 18:14:00</td>\n",
       "      <td>18</td>\n",
       "      <td>24</td>\n",
       "    </tr>\n",
       "    <tr>\n",
       "      <th>2</th>\n",
       "      <td>4352335</td>\n",
       "      <td>8682508722</td>\n",
       "      <td>2018-11-25</td>\n",
       "      <td>70</td>\n",
       "      <td>2DSD</td>\n",
       "      <td>SMART</td>\n",
       "      <td>T</td>\n",
       "      <td>66</td>\n",
       "      <td>66</td>\n",
       "      <td>362537</td>\n",
       "      <td>...</td>\n",
       "      <td>65.0</td>\n",
       "      <td>5311 New Utrecht Ave NYC</td>\n",
       "      <td>K</td>\n",
       "      <td>Sunday</td>\n",
       "      <td>6</td>\n",
       "      <td>11</td>\n",
       "      <td>November</td>\n",
       "      <td>1900-01-01 09:26:00</td>\n",
       "      <td>9</td>\n",
       "      <td>25</td>\n",
       "    </tr>\n",
       "    <tr>\n",
       "      <th>3</th>\n",
       "      <td>3063656</td>\n",
       "      <td>8639446799</td>\n",
       "      <td>2018-10-02</td>\n",
       "      <td>70</td>\n",
       "      <td>SUBN</td>\n",
       "      <td>LINCO</td>\n",
       "      <td>T</td>\n",
       "      <td>122</td>\n",
       "      <td>122</td>\n",
       "      <td>367351</td>\n",
       "      <td>...</td>\n",
       "      <td>65.0</td>\n",
       "      <td>29 Emerson Ct NYC</td>\n",
       "      <td>R</td>\n",
       "      <td>Tuesday</td>\n",
       "      <td>1</td>\n",
       "      <td>10</td>\n",
       "      <td>October</td>\n",
       "      <td>1900-01-01 15:45:00</td>\n",
       "      <td>15</td>\n",
       "      <td>2</td>\n",
       "    </tr>\n",
       "    <tr>\n",
       "      <th>4</th>\n",
       "      <td>9981606</td>\n",
       "      <td>8738919746</td>\n",
       "      <td>2019-05-20</td>\n",
       "      <td>70</td>\n",
       "      <td>4DSD</td>\n",
       "      <td>HONDA</td>\n",
       "      <td>T</td>\n",
       "      <td>33</td>\n",
       "      <td>33</td>\n",
       "      <td>364881</td>\n",
       "      <td>...</td>\n",
       "      <td>65.0</td>\n",
       "      <td>99 Fort Washington Ave NYC</td>\n",
       "      <td>NY</td>\n",
       "      <td>Monday</td>\n",
       "      <td>0</td>\n",
       "      <td>5</td>\n",
       "      <td>May</td>\n",
       "      <td>1900-01-01 14:26:00</td>\n",
       "      <td>14</td>\n",
       "      <td>20</td>\n",
       "    </tr>\n",
       "    <tr>\n",
       "      <th>...</th>\n",
       "      <td>...</td>\n",
       "      <td>...</td>\n",
       "      <td>...</td>\n",
       "      <td>...</td>\n",
       "      <td>...</td>\n",
       "      <td>...</td>\n",
       "      <td>...</td>\n",
       "      <td>...</td>\n",
       "      <td>...</td>\n",
       "      <td>...</td>\n",
       "      <td>...</td>\n",
       "      <td>...</td>\n",
       "      <td>...</td>\n",
       "      <td>...</td>\n",
       "      <td>...</td>\n",
       "      <td>...</td>\n",
       "      <td>...</td>\n",
       "      <td>...</td>\n",
       "      <td>...</td>\n",
       "      <td>...</td>\n",
       "      <td>...</td>\n",
       "    </tr>\n",
       "    <tr>\n",
       "      <th>309</th>\n",
       "      <td>3011696</td>\n",
       "      <td>8566264010</td>\n",
       "      <td>2018-10-04</td>\n",
       "      <td>70</td>\n",
       "      <td>SUBN</td>\n",
       "      <td>SUBAR</td>\n",
       "      <td>T</td>\n",
       "      <td>112</td>\n",
       "      <td>112</td>\n",
       "      <td>368630</td>\n",
       "      <td>...</td>\n",
       "      <td>65.0</td>\n",
       "      <td>N Queens Blvd NYC</td>\n",
       "      <td>Q</td>\n",
       "      <td>Thursday</td>\n",
       "      <td>3</td>\n",
       "      <td>10</td>\n",
       "      <td>October</td>\n",
       "      <td>1900-01-01 13:18:00</td>\n",
       "      <td>13</td>\n",
       "      <td>4</td>\n",
       "    </tr>\n",
       "    <tr>\n",
       "      <th>310</th>\n",
       "      <td>8620814</td>\n",
       "      <td>8723708797</td>\n",
       "      <td>2019-02-26</td>\n",
       "      <td>70</td>\n",
       "      <td>SUBN</td>\n",
       "      <td>JEEP</td>\n",
       "      <td>T</td>\n",
       "      <td>24</td>\n",
       "      <td>24</td>\n",
       "      <td>356262</td>\n",
       "      <td>...</td>\n",
       "      <td>65.0</td>\n",
       "      <td>17 W 90th St NYC</td>\n",
       "      <td>NY</td>\n",
       "      <td>Tuesday</td>\n",
       "      <td>1</td>\n",
       "      <td>2</td>\n",
       "      <td>February</td>\n",
       "      <td>1900-01-01 11:16:00</td>\n",
       "      <td>11</td>\n",
       "      <td>26</td>\n",
       "    </tr>\n",
       "    <tr>\n",
       "      <th>311</th>\n",
       "      <td>2317787</td>\n",
       "      <td>8674922107</td>\n",
       "      <td>2018-09-21</td>\n",
       "      <td>70</td>\n",
       "      <td>SUBN</td>\n",
       "      <td>NISSA</td>\n",
       "      <td>T</td>\n",
       "      <td>60</td>\n",
       "      <td>60</td>\n",
       "      <td>361068</td>\n",
       "      <td>...</td>\n",
       "      <td>65.0</td>\n",
       "      <td>3000 Brighton 12th St NYC</td>\n",
       "      <td>K</td>\n",
       "      <td>Friday</td>\n",
       "      <td>4</td>\n",
       "      <td>9</td>\n",
       "      <td>September</td>\n",
       "      <td>1900-01-01 11:24:00</td>\n",
       "      <td>11</td>\n",
       "      <td>21</td>\n",
       "    </tr>\n",
       "    <tr>\n",
       "      <th>312</th>\n",
       "      <td>913914</td>\n",
       "      <td>8682300801</td>\n",
       "      <td>2018-07-18</td>\n",
       "      <td>70</td>\n",
       "      <td>4DSD</td>\n",
       "      <td>FORD</td>\n",
       "      <td>T</td>\n",
       "      <td>9</td>\n",
       "      <td>9</td>\n",
       "      <td>367319</td>\n",
       "      <td>...</td>\n",
       "      <td>65.0</td>\n",
       "      <td>229 E 11th St NYC</td>\n",
       "      <td>NY</td>\n",
       "      <td>Wednesday</td>\n",
       "      <td>2</td>\n",
       "      <td>7</td>\n",
       "      <td>July</td>\n",
       "      <td>1900-01-01 17:16:00</td>\n",
       "      <td>17</td>\n",
       "      <td>18</td>\n",
       "    </tr>\n",
       "    <tr>\n",
       "      <th>313</th>\n",
       "      <td>267380</td>\n",
       "      <td>8648977060</td>\n",
       "      <td>2018-07-02</td>\n",
       "      <td>70</td>\n",
       "      <td>SUBN</td>\n",
       "      <td>HONDA</td>\n",
       "      <td>T</td>\n",
       "      <td>62</td>\n",
       "      <td>62</td>\n",
       "      <td>366520</td>\n",
       "      <td>...</td>\n",
       "      <td>65.0</td>\n",
       "      <td>2132 86th St NYC</td>\n",
       "      <td>K</td>\n",
       "      <td>Monday</td>\n",
       "      <td>0</td>\n",
       "      <td>7</td>\n",
       "      <td>July</td>\n",
       "      <td>1900-01-01 11:44:00</td>\n",
       "      <td>11</td>\n",
       "      <td>2</td>\n",
       "    </tr>\n",
       "  </tbody>\n",
       "</table>\n",
       "<p>314 rows × 31 columns</p>\n",
       "</div>"
      ],
      "text/plain": [
       "        index  Summons Number Issue Date  Violation Code Vehicle Body Type  \\\n",
       "0     6652684      8676379622 2019-01-25              70              4DSD   \n",
       "1    10026064      8742912271 2019-05-24              70              SUBN   \n",
       "2     4352335      8682508722 2018-11-25              70              2DSD   \n",
       "3     3063656      8639446799 2018-10-02              70              SUBN   \n",
       "4     9981606      8738919746 2019-05-20              70              4DSD   \n",
       "..        ...             ...        ...             ...               ...   \n",
       "309   3011696      8566264010 2018-10-04              70              SUBN   \n",
       "310   8620814      8723708797 2019-02-26              70              SUBN   \n",
       "311   2317787      8674922107 2018-09-21              70              SUBN   \n",
       "312    913914      8682300801 2018-07-18              70              4DSD   \n",
       "313    267380      8648977060 2018-07-02              70              SUBN   \n",
       "\n",
       "    Vehicle Make Issuing Agency  Violation Precinct  Issuer Precinct  \\\n",
       "0          TOYOT              T                 104              104   \n",
       "1           JEEP              T                 106              106   \n",
       "2          SMART              T                  66               66   \n",
       "3          LINCO              T                 122              122   \n",
       "4          HONDA              T                  33               33   \n",
       "..           ...            ...                 ...              ...   \n",
       "309        SUBAR              T                 112              112   \n",
       "310         JEEP              T                  24               24   \n",
       "311        NISSA              T                  60               60   \n",
       "312         FORD              T                   9                9   \n",
       "313        HONDA              T                  62               62   \n",
       "\n",
       "     Issuer Code  ... All Other Areas\\n(Fine Amount $)  \\\n",
       "0         358867  ...                             65.0   \n",
       "1         367886  ...                             65.0   \n",
       "2         362537  ...                             65.0   \n",
       "3         367351  ...                             65.0   \n",
       "4         364881  ...                             65.0   \n",
       "..           ...  ...                              ...   \n",
       "309       368630  ...                             65.0   \n",
       "310       356262  ...                             65.0   \n",
       "311       361068  ...                             65.0   \n",
       "312       367319  ...                             65.0   \n",
       "313       366520  ...                             65.0   \n",
       "\n",
       "                         Adress County   Day Name Day Number month  \\\n",
       "0            84-52 63rd Ave NYC      Q     Friday          4     1   \n",
       "1          101-19 159th Ave NYC      Q     Friday          4     5   \n",
       "2      5311 New Utrecht Ave NYC      K     Sunday          6    11   \n",
       "3             29 Emerson Ct NYC      R    Tuesday          1    10   \n",
       "4    99 Fort Washington Ave NYC     NY     Monday          0     5   \n",
       "..                          ...    ...        ...        ...   ...   \n",
       "309           N Queens Blvd NYC      Q   Thursday          3    10   \n",
       "310            17 W 90th St NYC     NY    Tuesday          1     2   \n",
       "311   3000 Brighton 12th St NYC      K     Friday          4     9   \n",
       "312           229 E 11th St NYC     NY  Wednesday          2     7   \n",
       "313            2132 86th St NYC      K     Monday          0     7   \n",
       "\n",
       "     month name                Time  Hour Day  \n",
       "0       January 1900-01-01 22:13:00    22  25  \n",
       "1           May 1900-01-01 18:14:00    18  24  \n",
       "2      November 1900-01-01 09:26:00     9  25  \n",
       "3       October 1900-01-01 15:45:00    15   2  \n",
       "4           May 1900-01-01 14:26:00    14  20  \n",
       "..          ...                 ...   ...  ..  \n",
       "309     October 1900-01-01 13:18:00    13   4  \n",
       "310    February 1900-01-01 11:16:00    11  26  \n",
       "311   September 1900-01-01 11:24:00    11  21  \n",
       "312        July 1900-01-01 17:16:00    17  18  \n",
       "313        July 1900-01-01 11:44:00    11   2  \n",
       "\n",
       "[314 rows x 31 columns]"
      ]
     },
     "execution_count": 45,
     "metadata": {},
     "output_type": "execute_result"
    }
   ],
   "source": [
    "location_df"
   ]
  },
  {
   "cell_type": "code",
   "execution_count": 46,
   "metadata": {},
   "outputs": [],
   "source": [
    "## Finding latitude and lontitude\n",
    "geolocator = Nominatim(user_agent=\"social\")\n",
    "#\n",
    "place = []\n",
    "for i in location_df[\"Adress\"]:\n",
    "    try:\n",
    "        location = geolocator.geocode(i)\n",
    "        lat = location.latitude\n",
    "        lon = location.longitude\n",
    "        place.append({\"Lat\":lat,\"Lon\":lon})\n",
    "        df_loc = pd.DataFrame(place)\n",
    "    except:\n",
    "        lat = np.nan\n",
    "        lon = np.nan\n",
    "        place.append({\"Lat\":lat,\"Lon\":lon})\n",
    "        df_loc = pd.DataFrame(place)\n",
    "    "
   ]
  },
  {
   "cell_type": "code",
   "execution_count": 47,
   "metadata": {},
   "outputs": [],
   "source": [
    "location_df = pd.concat([location_df, df_loc], axis=1)"
   ]
  },
  {
   "cell_type": "code",
   "execution_count": 48,
   "metadata": {},
   "outputs": [
    {
     "data": {
      "text/html": [
       "<div>\n",
       "<style scoped>\n",
       "    .dataframe tbody tr th:only-of-type {\n",
       "        vertical-align: middle;\n",
       "    }\n",
       "\n",
       "    .dataframe tbody tr th {\n",
       "        vertical-align: top;\n",
       "    }\n",
       "\n",
       "    .dataframe thead th {\n",
       "        text-align: right;\n",
       "    }\n",
       "</style>\n",
       "<table border=\"1\" class=\"dataframe\">\n",
       "  <thead>\n",
       "    <tr style=\"text-align: right;\">\n",
       "      <th></th>\n",
       "      <th>index</th>\n",
       "      <th>Summons Number</th>\n",
       "      <th>Issue Date</th>\n",
       "      <th>Violation Code</th>\n",
       "      <th>Vehicle Body Type</th>\n",
       "      <th>Vehicle Make</th>\n",
       "      <th>Issuing Agency</th>\n",
       "      <th>Violation Precinct</th>\n",
       "      <th>Issuer Precinct</th>\n",
       "      <th>Issuer Code</th>\n",
       "      <th>...</th>\n",
       "      <th>County</th>\n",
       "      <th>Day Name</th>\n",
       "      <th>Day Number</th>\n",
       "      <th>month</th>\n",
       "      <th>month name</th>\n",
       "      <th>Time</th>\n",
       "      <th>Hour</th>\n",
       "      <th>Day</th>\n",
       "      <th>Lat</th>\n",
       "      <th>Lon</th>\n",
       "    </tr>\n",
       "  </thead>\n",
       "  <tbody>\n",
       "    <tr>\n",
       "      <th>0</th>\n",
       "      <td>6652684</td>\n",
       "      <td>8676379622</td>\n",
       "      <td>2019-01-25</td>\n",
       "      <td>70</td>\n",
       "      <td>4DSD</td>\n",
       "      <td>TOYOT</td>\n",
       "      <td>T</td>\n",
       "      <td>104</td>\n",
       "      <td>104</td>\n",
       "      <td>358867</td>\n",
       "      <td>...</td>\n",
       "      <td>Q</td>\n",
       "      <td>Friday</td>\n",
       "      <td>4</td>\n",
       "      <td>1</td>\n",
       "      <td>January</td>\n",
       "      <td>1900-01-01 22:13:00</td>\n",
       "      <td>22</td>\n",
       "      <td>25</td>\n",
       "      <td>40.724180</td>\n",
       "      <td>-73.869552</td>\n",
       "    </tr>\n",
       "    <tr>\n",
       "      <th>1</th>\n",
       "      <td>10026064</td>\n",
       "      <td>8742912271</td>\n",
       "      <td>2019-05-24</td>\n",
       "      <td>70</td>\n",
       "      <td>SUBN</td>\n",
       "      <td>JEEP</td>\n",
       "      <td>T</td>\n",
       "      <td>106</td>\n",
       "      <td>106</td>\n",
       "      <td>367886</td>\n",
       "      <td>...</td>\n",
       "      <td>Q</td>\n",
       "      <td>Friday</td>\n",
       "      <td>4</td>\n",
       "      <td>5</td>\n",
       "      <td>May</td>\n",
       "      <td>1900-01-01 18:14:00</td>\n",
       "      <td>18</td>\n",
       "      <td>24</td>\n",
       "      <td>40.660527</td>\n",
       "      <td>-73.831757</td>\n",
       "    </tr>\n",
       "    <tr>\n",
       "      <th>2</th>\n",
       "      <td>4352335</td>\n",
       "      <td>8682508722</td>\n",
       "      <td>2018-11-25</td>\n",
       "      <td>70</td>\n",
       "      <td>2DSD</td>\n",
       "      <td>SMART</td>\n",
       "      <td>T</td>\n",
       "      <td>66</td>\n",
       "      <td>66</td>\n",
       "      <td>362537</td>\n",
       "      <td>...</td>\n",
       "      <td>K</td>\n",
       "      <td>Sunday</td>\n",
       "      <td>6</td>\n",
       "      <td>11</td>\n",
       "      <td>November</td>\n",
       "      <td>1900-01-01 09:26:00</td>\n",
       "      <td>9</td>\n",
       "      <td>25</td>\n",
       "      <td>40.632783</td>\n",
       "      <td>-73.994991</td>\n",
       "    </tr>\n",
       "    <tr>\n",
       "      <th>3</th>\n",
       "      <td>3063656</td>\n",
       "      <td>8639446799</td>\n",
       "      <td>2018-10-02</td>\n",
       "      <td>70</td>\n",
       "      <td>SUBN</td>\n",
       "      <td>LINCO</td>\n",
       "      <td>T</td>\n",
       "      <td>122</td>\n",
       "      <td>122</td>\n",
       "      <td>367351</td>\n",
       "      <td>...</td>\n",
       "      <td>R</td>\n",
       "      <td>Tuesday</td>\n",
       "      <td>1</td>\n",
       "      <td>10</td>\n",
       "      <td>October</td>\n",
       "      <td>1900-01-01 15:45:00</td>\n",
       "      <td>15</td>\n",
       "      <td>2</td>\n",
       "      <td>40.604046</td>\n",
       "      <td>-74.099226</td>\n",
       "    </tr>\n",
       "    <tr>\n",
       "      <th>4</th>\n",
       "      <td>9981606</td>\n",
       "      <td>8738919746</td>\n",
       "      <td>2019-05-20</td>\n",
       "      <td>70</td>\n",
       "      <td>4DSD</td>\n",
       "      <td>HONDA</td>\n",
       "      <td>T</td>\n",
       "      <td>33</td>\n",
       "      <td>33</td>\n",
       "      <td>364881</td>\n",
       "      <td>...</td>\n",
       "      <td>NY</td>\n",
       "      <td>Monday</td>\n",
       "      <td>0</td>\n",
       "      <td>5</td>\n",
       "      <td>May</td>\n",
       "      <td>1900-01-01 14:26:00</td>\n",
       "      <td>14</td>\n",
       "      <td>20</td>\n",
       "      <td>40.839390</td>\n",
       "      <td>-73.944729</td>\n",
       "    </tr>\n",
       "    <tr>\n",
       "      <th>...</th>\n",
       "      <td>...</td>\n",
       "      <td>...</td>\n",
       "      <td>...</td>\n",
       "      <td>...</td>\n",
       "      <td>...</td>\n",
       "      <td>...</td>\n",
       "      <td>...</td>\n",
       "      <td>...</td>\n",
       "      <td>...</td>\n",
       "      <td>...</td>\n",
       "      <td>...</td>\n",
       "      <td>...</td>\n",
       "      <td>...</td>\n",
       "      <td>...</td>\n",
       "      <td>...</td>\n",
       "      <td>...</td>\n",
       "      <td>...</td>\n",
       "      <td>...</td>\n",
       "      <td>...</td>\n",
       "      <td>...</td>\n",
       "      <td>...</td>\n",
       "    </tr>\n",
       "    <tr>\n",
       "      <th>309</th>\n",
       "      <td>3011696</td>\n",
       "      <td>8566264010</td>\n",
       "      <td>2018-10-04</td>\n",
       "      <td>70</td>\n",
       "      <td>SUBN</td>\n",
       "      <td>SUBAR</td>\n",
       "      <td>T</td>\n",
       "      <td>112</td>\n",
       "      <td>112</td>\n",
       "      <td>368630</td>\n",
       "      <td>...</td>\n",
       "      <td>Q</td>\n",
       "      <td>Thursday</td>\n",
       "      <td>3</td>\n",
       "      <td>10</td>\n",
       "      <td>October</td>\n",
       "      <td>1900-01-01 13:18:00</td>\n",
       "      <td>13</td>\n",
       "      <td>4</td>\n",
       "      <td>40.746124</td>\n",
       "      <td>-73.934513</td>\n",
       "    </tr>\n",
       "    <tr>\n",
       "      <th>310</th>\n",
       "      <td>8620814</td>\n",
       "      <td>8723708797</td>\n",
       "      <td>2019-02-26</td>\n",
       "      <td>70</td>\n",
       "      <td>SUBN</td>\n",
       "      <td>JEEP</td>\n",
       "      <td>T</td>\n",
       "      <td>24</td>\n",
       "      <td>24</td>\n",
       "      <td>356262</td>\n",
       "      <td>...</td>\n",
       "      <td>NY</td>\n",
       "      <td>Tuesday</td>\n",
       "      <td>1</td>\n",
       "      <td>2</td>\n",
       "      <td>February</td>\n",
       "      <td>1900-01-01 11:16:00</td>\n",
       "      <td>11</td>\n",
       "      <td>26</td>\n",
       "      <td>40.788371</td>\n",
       "      <td>-73.968235</td>\n",
       "    </tr>\n",
       "    <tr>\n",
       "      <th>311</th>\n",
       "      <td>2317787</td>\n",
       "      <td>8674922107</td>\n",
       "      <td>2018-09-21</td>\n",
       "      <td>70</td>\n",
       "      <td>SUBN</td>\n",
       "      <td>NISSA</td>\n",
       "      <td>T</td>\n",
       "      <td>60</td>\n",
       "      <td>60</td>\n",
       "      <td>361068</td>\n",
       "      <td>...</td>\n",
       "      <td>K</td>\n",
       "      <td>Friday</td>\n",
       "      <td>4</td>\n",
       "      <td>9</td>\n",
       "      <td>September</td>\n",
       "      <td>1900-01-01 11:24:00</td>\n",
       "      <td>11</td>\n",
       "      <td>21</td>\n",
       "      <td>40.579793</td>\n",
       "      <td>-73.956863</td>\n",
       "    </tr>\n",
       "    <tr>\n",
       "      <th>312</th>\n",
       "      <td>913914</td>\n",
       "      <td>8682300801</td>\n",
       "      <td>2018-07-18</td>\n",
       "      <td>70</td>\n",
       "      <td>4DSD</td>\n",
       "      <td>FORD</td>\n",
       "      <td>T</td>\n",
       "      <td>9</td>\n",
       "      <td>9</td>\n",
       "      <td>367319</td>\n",
       "      <td>...</td>\n",
       "      <td>NY</td>\n",
       "      <td>Wednesday</td>\n",
       "      <td>2</td>\n",
       "      <td>7</td>\n",
       "      <td>July</td>\n",
       "      <td>1900-01-01 17:16:00</td>\n",
       "      <td>17</td>\n",
       "      <td>18</td>\n",
       "      <td>40.730967</td>\n",
       "      <td>-73.987260</td>\n",
       "    </tr>\n",
       "    <tr>\n",
       "      <th>313</th>\n",
       "      <td>267380</td>\n",
       "      <td>8648977060</td>\n",
       "      <td>2018-07-02</td>\n",
       "      <td>70</td>\n",
       "      <td>SUBN</td>\n",
       "      <td>HONDA</td>\n",
       "      <td>T</td>\n",
       "      <td>62</td>\n",
       "      <td>62</td>\n",
       "      <td>366520</td>\n",
       "      <td>...</td>\n",
       "      <td>K</td>\n",
       "      <td>Monday</td>\n",
       "      <td>0</td>\n",
       "      <td>7</td>\n",
       "      <td>July</td>\n",
       "      <td>1900-01-01 11:44:00</td>\n",
       "      <td>11</td>\n",
       "      <td>2</td>\n",
       "      <td>40.602619</td>\n",
       "      <td>-73.995295</td>\n",
       "    </tr>\n",
       "  </tbody>\n",
       "</table>\n",
       "<p>314 rows × 33 columns</p>\n",
       "</div>"
      ],
      "text/plain": [
       "        index  Summons Number Issue Date  Violation Code Vehicle Body Type  \\\n",
       "0     6652684      8676379622 2019-01-25              70              4DSD   \n",
       "1    10026064      8742912271 2019-05-24              70              SUBN   \n",
       "2     4352335      8682508722 2018-11-25              70              2DSD   \n",
       "3     3063656      8639446799 2018-10-02              70              SUBN   \n",
       "4     9981606      8738919746 2019-05-20              70              4DSD   \n",
       "..        ...             ...        ...             ...               ...   \n",
       "309   3011696      8566264010 2018-10-04              70              SUBN   \n",
       "310   8620814      8723708797 2019-02-26              70              SUBN   \n",
       "311   2317787      8674922107 2018-09-21              70              SUBN   \n",
       "312    913914      8682300801 2018-07-18              70              4DSD   \n",
       "313    267380      8648977060 2018-07-02              70              SUBN   \n",
       "\n",
       "    Vehicle Make Issuing Agency  Violation Precinct  Issuer Precinct  \\\n",
       "0          TOYOT              T                 104              104   \n",
       "1           JEEP              T                 106              106   \n",
       "2          SMART              T                  66               66   \n",
       "3          LINCO              T                 122              122   \n",
       "4          HONDA              T                  33               33   \n",
       "..           ...            ...                 ...              ...   \n",
       "309        SUBAR              T                 112              112   \n",
       "310         JEEP              T                  24               24   \n",
       "311        NISSA              T                  60               60   \n",
       "312         FORD              T                   9                9   \n",
       "313        HONDA              T                  62               62   \n",
       "\n",
       "     Issuer Code  ... County   Day Name Day Number month month name  \\\n",
       "0         358867  ...      Q     Friday          4     1    January   \n",
       "1         367886  ...      Q     Friday          4     5        May   \n",
       "2         362537  ...      K     Sunday          6    11   November   \n",
       "3         367351  ...      R    Tuesday          1    10    October   \n",
       "4         364881  ...     NY     Monday          0     5        May   \n",
       "..           ...  ...    ...        ...        ...   ...        ...   \n",
       "309       368630  ...      Q   Thursday          3    10    October   \n",
       "310       356262  ...     NY    Tuesday          1     2   February   \n",
       "311       361068  ...      K     Friday          4     9  September   \n",
       "312       367319  ...     NY  Wednesday          2     7       July   \n",
       "313       366520  ...      K     Monday          0     7       July   \n",
       "\n",
       "                   Time  Hour Day        Lat        Lon  \n",
       "0   1900-01-01 22:13:00    22  25  40.724180 -73.869552  \n",
       "1   1900-01-01 18:14:00    18  24  40.660527 -73.831757  \n",
       "2   1900-01-01 09:26:00     9  25  40.632783 -73.994991  \n",
       "3   1900-01-01 15:45:00    15   2  40.604046 -74.099226  \n",
       "4   1900-01-01 14:26:00    14  20  40.839390 -73.944729  \n",
       "..                  ...   ...  ..        ...        ...  \n",
       "309 1900-01-01 13:18:00    13   4  40.746124 -73.934513  \n",
       "310 1900-01-01 11:16:00    11  26  40.788371 -73.968235  \n",
       "311 1900-01-01 11:24:00    11  21  40.579793 -73.956863  \n",
       "312 1900-01-01 17:16:00    17  18  40.730967 -73.987260  \n",
       "313 1900-01-01 11:44:00    11   2  40.602619 -73.995295  \n",
       "\n",
       "[314 rows x 33 columns]"
      ]
     },
     "execution_count": 48,
     "metadata": {},
     "output_type": "execute_result"
    }
   ],
   "source": [
    "location_df"
   ]
  },
  {
   "cell_type": "code",
   "execution_count": 53,
   "metadata": {},
   "outputs": [
    {
     "data": {
      "application/vnd.plotly.v1+json": {
       "config": {
        "plotlyServerURL": "https://plot.ly"
       },
       "data": [
        {
         "hoverlabel": {
          "namelength": 0
         },
         "hovertemplate": "VIOLATION DESCRIPTION=REG. STICKER-EXPIRED/MISSING<br>Lat=%{lat}<br>Lon=%{lon}",
         "lat": [
          40.7241802,
          40.6605269,
          40.632783200000006,
          40.6040456,
          40.839390050000006,
          40.8384061,
          40.8504855,
          40.74453,
          40.885153349999996,
          40.75622983673469,
          40.660699699999995,
          40.547426,
          40.678693949999996,
          40.74157065,
          40.59933865,
          40.7264979,
          40.579954,
          40.6201241,
          40.7639267,
          40.7358709,
          40.68562625,
          40.7489665,
          40.692221399999994,
          40.783782,
          40.8484205,
          40.85795525,
          40.620246,
          40.6866482,
          null,
          40.570623850000004,
          40.677921,
          40.6671753,
          40.680134499999994,
          40.7749624,
          40.5829602,
          40.7528856,
          40.8536433,
          40.88584373469388,
          40.6364994,
          40.713715,
          null,
          40.58605736734694,
          40.7265146,
          40.75038505,
          40.755660500000005,
          40.584023,
          40.7579901,
          40.71117135,
          40.7935364,
          40.752712,
          40.8429916,
          40.84791095,
          40.6757299,
          40.575469,
          40.6191594,
          40.57727285,
          40.717301,
          40.7477069,
          40.638764,
          40.68613885,
          40.6594567,
          40.7653667,
          40.6359687,
          40.7321812,
          40.722808,
          40.7419078,
          40.67741605,
          40.64029825,
          40.6731259,
          40.863696,
          40.78888795,
          40.6709643,
          40.60266585,
          40.722888749999996,
          40.6360637,
          40.782458500000004,
          40.69469815,
          40.63992835,
          40.590911750000004,
          40.8849264,
          40.64715353061224,
          40.685019,
          40.7162443,
          40.68196585,
          40.704433050000006,
          40.8803562,
          40.828063400000005,
          40.6777106,
          40.6602518,
          40.853984,
          40.669252900000004,
          null,
          40.62263765,
          40.72868995,
          40.78443355,
          40.681464649999995,
          40.72513605,
          40.8532638,
          40.62998365,
          40.613203850000005,
          40.724057,
          40.78397175,
          40.6912308,
          40.7370704,
          40.7402686,
          40.6214128,
          40.7899351,
          40.7255661,
          40.7298295,
          40.643767600000004,
          40.876868,
          40.8480428,
          40.616237100000006,
          40.61932625,
          40.662930800000005,
          40.6337814,
          40.844119,
          40.776932200000005,
          40.79017385,
          40.82593505,
          40.5862561,
          40.647546,
          40.6884669,
          40.61070225,
          40.8780597,
          40.7456697,
          40.8762307,
          40.6195097755102,
          40.7291763,
          40.65714664285714,
          40.64220335,
          40.8335802,
          40.6988245,
          40.74056265,
          40.849252,
          40.7207131,
          null,
          40.6223838,
          40.8655668,
          40.71470095,
          40.63261820408164,
          40.6902938,
          40.7189195,
          40.763722200000004,
          40.7228956,
          40.7257478,
          null,
          40.6253156,
          40.6223192,
          40.672900999999996,
          40.7232564,
          40.8641254,
          40.7577613,
          40.867742,
          40.629450250000005,
          40.6754832,
          40.81522805,
          40.762413949999996,
          40.692302299999994,
          40.62324435,
          40.707329650000005,
          40.60455135,
          40.7691752,
          40.7491339,
          40.7215131,
          40.66809415,
          40.7317602,
          40.5780977,
          40.8958781,
          40.583758836734695,
          40.816359,
          40.87294625,
          40.6977994,
          40.722655,
          40.7563599,
          null,
          40.7267688,
          40.709058999999996,
          40.764556549999995,
          40.66251695,
          40.8548775,
          40.644888949999995,
          40.726626,
          40.642282,
          40.651533400000005,
          40.7244857,
          40.63524185,
          40.77535145,
          40.7208107,
          40.76248775,
          40.8782012,
          40.6462183,
          40.84012193103449,
          40.6206685,
          40.77510045,
          40.8754661,
          40.7409557,
          40.57050015,
          40.74031755,
          40.8713505,
          40.6783356,
          40.84475605,
          40.895079,
          40.8201899,
          40.772391,
          40.617946843217865,
          40.613594899999995,
          40.6760069,
          40.6444955,
          40.8843859,
          40.612718,
          40.84173932258065,
          40.8499828,
          40.730497,
          40.66529,
          40.678363700000006,
          40.6920468,
          40.7484538,
          40.6888239,
          40.7654145,
          40.7745987,
          40.7479223,
          40.886992,
          40.7160932,
          40.726177,
          40.641249599999995,
          40.624573,
          40.63636725,
          40.7493544,
          40.586839375,
          40.570731,
          40.7317416122449,
          null,
          40.597429,
          40.56292345,
          40.7466517,
          40.868251,
          40.719762,
          40.7122692,
          40.86677805,
          40.7127281,
          40.75254385,
          40.683299363636365,
          40.8270032,
          40.681859,
          40.58941407692308,
          40.833623149999994,
          40.7795911,
          40.838868149999996,
          40.7391264,
          40.6064882,
          40.88164225,
          40.7274727,
          40.5999957,
          40.71679075,
          40.777291000000005,
          40.7949459,
          40.7576783,
          40.7215131,
          40.55127765,
          40.7529441,
          40.8762413,
          40.84566665,
          40.665152899999995,
          40.7621501,
          40.6996033,
          40.78217695,
          40.6551874,
          40.5367424,
          40.60767625,
          null,
          40.723912150000004,
          40.7625479,
          40.6727639,
          40.70984305,
          40.7340236,
          40.827532149999996,
          40.74865235,
          40.70081759999999,
          40.85420295,
          40.7654496,
          40.7686274,
          40.65150525,
          40.8803248,
          40.7842205,
          40.686996,
          40.7223548,
          40.6942139,
          40.722752549999996,
          40.7398242,
          40.63236945,
          null,
          40.849447764705886,
          40.7525304,
          40.7594502,
          40.69991374999999,
          40.7560956,
          40.551128000000006,
          40.7701692,
          40.790151,
          40.690677949999994,
          40.63153355,
          40.5673022,
          40.71638075,
          40.8356776,
          null,
          40.57691055,
          40.7494029,
          40.5707028,
          40.7461239,
          40.7883713,
          40.5797931,
          40.730967199999995,
          40.6026189
         ],
         "legendgroup": "VIOLATION DESCRIPTION=REG. STICKER-EXPIRED/MISSING",
         "lon": [
          -73.8695516,
          -73.83175735,
          -73.99499134999999,
          -74.09922559622171,
          -73.94472862773384,
          -73.9416375,
          -73.932498,
          -73.87891430297728,
          -73.8606737,
          -73.98360463265305,
          -73.95547769513279,
          -74.232321,
          -73.7812752153354,
          -73.98231227944184,
          -74.0755319553787,
          -73.8219806,
          -74.15398568322223,
          -73.92872828408721,
          -73.92518154574236,
          -73.9939317,
          -73.79366808786614,
          -73.89384338851352,
          -73.79127433238412,
          -73.97820819768367,
          -73.8551603,
          -73.88582683071873,
          -73.917447,
          -73.99187659820629,
          null,
          -74.12358325077324,
          -73.87772165000001,
          -73.99404382928329,
          -73.83582059646741,
          -73.9505604,
          -73.9541175,
          -73.9851253,
          -73.85251259307068,
          -73.9100330612245,
          -73.94829855191779,
          -73.990173,
          null,
          -73.95884565306123,
          -73.99078645287356,
          -73.82120045774286,
          -73.8338354,
          -73.9409791,
          -73.9800977,
          -73.7346732637321,
          -73.9448101,
          -73.82629,
          -73.826147,
          -73.93866582070953,
          -73.8192586,
          -73.98014599999999,
          -73.9275838,
          -73.96111581868374,
          -74.001371,
          -73.8825602,
          -73.98882156267507,
          -73.93322317384487,
          -73.9322208,
          -73.9875746,
          -74.10702020161371,
          -73.7674298,
          -74.0000091,
          -73.99935436344538,
          -73.95789785977428,
          -73.99527053766276,
          -73.79749980817763,
          -73.905713,
          -73.85169246233397,
          -73.9574651,
          -74.00477440409043,
          -73.84283079851019,
          -74.1382402,
          -73.8173743901605,
          -73.97039878085997,
          -74.11411206405995,
          -74.07668277170094,
          -73.90895498886282,
          -73.99756434693879,
          -73.977715,
          -73.81361584750883,
          -73.75892195,
          -73.82813749874204,
          -73.9045685,
          -73.84815470000001,
          -73.94741783108108,
          -73.84288547373558,
          -73.9039609227872,
          -73.8687119,
          null,
          -73.93801987354425,
          -73.71658819999999,
          -73.84603172568406,
          -73.96422316647863,
          -73.85113377888598,
          -73.86881,
          -74.14302780711314,
          -74.11295954539109,
          -73.909551,
          -73.97572554032021,
          -73.9949004,
          -73.9926128,
          -73.9986594,
          -74.0807333,
          -73.9719848,
          -73.9044198,
          -73.8420191,
          -73.90262015715057,
          -73.838411,
          -73.8559962,
          -73.96958005239779,
          -74.02772560541547,
          -73.896191,
          -74.018099,
          -73.843775,
          -73.94672208592098,
          -73.97931045107799,
          -73.81825401663671,
          -74.1022506,
          -74.02023130612245,
          -73.9321474,
          -73.95940725,
          -73.9051751,
          -73.87938633375211,
          -73.8935672,
          -74.03709426530612,
          -73.8622054,
          -73.751349,
          -74.07877560420489,
          -73.8577441,
          -73.7890207,
          -73.99355838857281,
          -73.9389728,
          -73.9890184,
          null,
          -74.13828355,
          -73.8680437,
          -73.99393550376386,
          -73.98830475510205,
          -73.97303579999999,
          -73.9610801,
          -73.83359917350055,
          -73.8464909,
          -73.8930209,
          null,
          -73.9393685,
          -74.1441439,
          -73.92197907921636,
          -73.9790024,
          -73.85660450072157,
          -73.8992072,
          -73.859546,
          -73.89696753028979,
          -73.75122021480053,
          -73.91637239795043,
          -73.77012118177052,
          -73.91533603389192,
          -73.93791253269728,
          -73.91996107241434,
          -73.97072820442708,
          -73.7291755,
          -73.8869155,
          -73.8439236,
          -73.955030774653,
          -73.8492504,
          -74.10424320000001,
          -73.856222,
          -73.94822591836734,
          -73.8379558,
          -73.89511739621824,
          -73.785847,
          -73.948164,
          -73.9955414,
          null,
          -73.7881299,
          -73.79896685525274,
          -73.81135205654103,
          -73.99047946932178,
          -73.85535424046029,
          -73.98060243937371,
          -73.734893,
          -73.883895,
          -74.00628852184914,
          -74.0044512,
          -74.10928034648012,
          -73.91007517019278,
          -73.8553067,
          -73.93045869877406,
          -73.87913785138869,
          -73.9582701,
          -73.8802915,
          -73.90502910000001,
          -73.90961912090046,
          -73.88076001837089,
          -73.9981608,
          -74.11267923387112,
          -73.89265146804357,
          -73.89078830014556,
          -73.76354348279926,
          -73.88683160000001,
          -73.85926675289855,
          -73.9115345,
          -73.9591353,
          -73.9596924774577,
          -74.1216722,
          -74.0011825,
          -74.08147168571759,
          -73.85674200147278,
          -73.9438631,
          -73.91648709677419,
          -73.9082065,
          -73.8239485,
          -73.7729526508995,
          -73.96048537702276,
          -73.9824338,
          -73.8964686,
          -73.9832508,
          -73.9838267,
          -73.9589824,
          -73.86371401863101,
          -73.901446,
          -73.9624714,
          -73.8651781,
          -73.90561745372493,
          -74.02331693100285,
          -74.07619274999999,
          -73.8858882,
          -74.103741,
          -74.09832,
          -74.0015112244898,
          null,
          -73.7551573,
          -74.182615,
          -74.00239260450466,
          -73.916139,
          -73.843679,
          -73.7860678,
          -73.86607703966912,
          -74.0060152,
          -73.82251398161839,
          -73.94111481818182,
          -73.8827464,
          -73.846715,
          -74.09797792307693,
          -73.91322830771999,
          -73.9598864,
          -73.85520779088236,
          -73.98642041005462,
          -74.1262465009234,
          -73.88337451446945,
          -74.0074855,
          -73.767114,
          -73.91343367634516,
          -73.95781709077818,
          -73.974587,
          -73.9635233,
          -73.8439236,
          -74.1694995,
          -73.93110604943207,
          -73.8519147,
          -73.8562854904376,
          -73.98889525072404,
          -73.8030176469771,
          -73.8319681,
          -73.95846331116954,
          -74.0038129,
          -74.20055572986112,
          -73.95875825905591,
          null,
          -73.95135529654677,
          -73.8326260344895,
          -73.9711022,
          -73.77827676025758,
          -73.95785937699044,
          -73.88063237621739,
          -73.86727430133774,
          -73.81959088768383,
          -73.88965498687463,
          -73.7721801,
          -73.9855734,
          -73.94993559827067,
          -73.90799282520172,
          -73.9566331,
          -73.7749447,
          -73.998357,
          -73.8493321,
          -73.94079296899142,
          -73.9354153,
          -74.02767925,
          null,
          -73.93247047058824,
          -73.9842797,
          -73.81559855462963,
          -73.89067009764204,
          -73.9225746,
          -74.14041779502135,
          -73.9892323,
          -73.80529308092682,
          -73.99514404118307,
          -74.08560787759292,
          -73.870232,
          -73.81080667800558,
          -73.9188644,
          null,
          -74.09792831335773,
          -73.8864828,
          -74.1163485,
          -73.9345129,
          -73.96823529259638,
          -73.956863,
          -73.98726037790776,
          -73.9952952
         ],
         "marker": {
          "color": "#636efa"
         },
         "mode": "markers",
         "name": "VIOLATION DESCRIPTION=REG. STICKER-EXPIRED/MISSING",
         "showlegend": true,
         "subplot": "mapbox",
         "type": "scattermapbox"
        }
       ],
       "layout": {
        "legend": {
         "tracegroupgap": 0
        },
        "mapbox": {
         "accesstoken": "pk.eyJ1IjoicmFzbXVzYmxpcnVwIiwiYSI6ImNrYTRjN2FyODA2OXMzZmxicW9ybW8xN2wifQ.wZrS1cwEn0y0TjH2255L5w",
         "center": {
          "lat": 40.720059746276036,
          "lon": -73.9303730568987
         },
         "domain": {
          "x": [
           0,
           1
          ],
          "y": [
           0,
           1
          ]
         },
         "style": "light",
         "zoom": 12
        },
        "margin": {
         "t": 60
        },
        "template": {
         "data": {
          "bar": [
           {
            "error_x": {
             "color": "#2a3f5f"
            },
            "error_y": {
             "color": "#2a3f5f"
            },
            "marker": {
             "line": {
              "color": "#E5ECF6",
              "width": 0.5
             }
            },
            "type": "bar"
           }
          ],
          "barpolar": [
           {
            "marker": {
             "line": {
              "color": "#E5ECF6",
              "width": 0.5
             }
            },
            "type": "barpolar"
           }
          ],
          "carpet": [
           {
            "aaxis": {
             "endlinecolor": "#2a3f5f",
             "gridcolor": "white",
             "linecolor": "white",
             "minorgridcolor": "white",
             "startlinecolor": "#2a3f5f"
            },
            "baxis": {
             "endlinecolor": "#2a3f5f",
             "gridcolor": "white",
             "linecolor": "white",
             "minorgridcolor": "white",
             "startlinecolor": "#2a3f5f"
            },
            "type": "carpet"
           }
          ],
          "choropleth": [
           {
            "colorbar": {
             "outlinewidth": 0,
             "ticks": ""
            },
            "type": "choropleth"
           }
          ],
          "contour": [
           {
            "colorbar": {
             "outlinewidth": 0,
             "ticks": ""
            },
            "colorscale": [
             [
              0,
              "#0d0887"
             ],
             [
              0.1111111111111111,
              "#46039f"
             ],
             [
              0.2222222222222222,
              "#7201a8"
             ],
             [
              0.3333333333333333,
              "#9c179e"
             ],
             [
              0.4444444444444444,
              "#bd3786"
             ],
             [
              0.5555555555555556,
              "#d8576b"
             ],
             [
              0.6666666666666666,
              "#ed7953"
             ],
             [
              0.7777777777777778,
              "#fb9f3a"
             ],
             [
              0.8888888888888888,
              "#fdca26"
             ],
             [
              1,
              "#f0f921"
             ]
            ],
            "type": "contour"
           }
          ],
          "contourcarpet": [
           {
            "colorbar": {
             "outlinewidth": 0,
             "ticks": ""
            },
            "type": "contourcarpet"
           }
          ],
          "heatmap": [
           {
            "colorbar": {
             "outlinewidth": 0,
             "ticks": ""
            },
            "colorscale": [
             [
              0,
              "#0d0887"
             ],
             [
              0.1111111111111111,
              "#46039f"
             ],
             [
              0.2222222222222222,
              "#7201a8"
             ],
             [
              0.3333333333333333,
              "#9c179e"
             ],
             [
              0.4444444444444444,
              "#bd3786"
             ],
             [
              0.5555555555555556,
              "#d8576b"
             ],
             [
              0.6666666666666666,
              "#ed7953"
             ],
             [
              0.7777777777777778,
              "#fb9f3a"
             ],
             [
              0.8888888888888888,
              "#fdca26"
             ],
             [
              1,
              "#f0f921"
             ]
            ],
            "type": "heatmap"
           }
          ],
          "heatmapgl": [
           {
            "colorbar": {
             "outlinewidth": 0,
             "ticks": ""
            },
            "colorscale": [
             [
              0,
              "#0d0887"
             ],
             [
              0.1111111111111111,
              "#46039f"
             ],
             [
              0.2222222222222222,
              "#7201a8"
             ],
             [
              0.3333333333333333,
              "#9c179e"
             ],
             [
              0.4444444444444444,
              "#bd3786"
             ],
             [
              0.5555555555555556,
              "#d8576b"
             ],
             [
              0.6666666666666666,
              "#ed7953"
             ],
             [
              0.7777777777777778,
              "#fb9f3a"
             ],
             [
              0.8888888888888888,
              "#fdca26"
             ],
             [
              1,
              "#f0f921"
             ]
            ],
            "type": "heatmapgl"
           }
          ],
          "histogram": [
           {
            "marker": {
             "colorbar": {
              "outlinewidth": 0,
              "ticks": ""
             }
            },
            "type": "histogram"
           }
          ],
          "histogram2d": [
           {
            "colorbar": {
             "outlinewidth": 0,
             "ticks": ""
            },
            "colorscale": [
             [
              0,
              "#0d0887"
             ],
             [
              0.1111111111111111,
              "#46039f"
             ],
             [
              0.2222222222222222,
              "#7201a8"
             ],
             [
              0.3333333333333333,
              "#9c179e"
             ],
             [
              0.4444444444444444,
              "#bd3786"
             ],
             [
              0.5555555555555556,
              "#d8576b"
             ],
             [
              0.6666666666666666,
              "#ed7953"
             ],
             [
              0.7777777777777778,
              "#fb9f3a"
             ],
             [
              0.8888888888888888,
              "#fdca26"
             ],
             [
              1,
              "#f0f921"
             ]
            ],
            "type": "histogram2d"
           }
          ],
          "histogram2dcontour": [
           {
            "colorbar": {
             "outlinewidth": 0,
             "ticks": ""
            },
            "colorscale": [
             [
              0,
              "#0d0887"
             ],
             [
              0.1111111111111111,
              "#46039f"
             ],
             [
              0.2222222222222222,
              "#7201a8"
             ],
             [
              0.3333333333333333,
              "#9c179e"
             ],
             [
              0.4444444444444444,
              "#bd3786"
             ],
             [
              0.5555555555555556,
              "#d8576b"
             ],
             [
              0.6666666666666666,
              "#ed7953"
             ],
             [
              0.7777777777777778,
              "#fb9f3a"
             ],
             [
              0.8888888888888888,
              "#fdca26"
             ],
             [
              1,
              "#f0f921"
             ]
            ],
            "type": "histogram2dcontour"
           }
          ],
          "mesh3d": [
           {
            "colorbar": {
             "outlinewidth": 0,
             "ticks": ""
            },
            "type": "mesh3d"
           }
          ],
          "parcoords": [
           {
            "line": {
             "colorbar": {
              "outlinewidth": 0,
              "ticks": ""
             }
            },
            "type": "parcoords"
           }
          ],
          "pie": [
           {
            "automargin": true,
            "type": "pie"
           }
          ],
          "scatter": [
           {
            "marker": {
             "colorbar": {
              "outlinewidth": 0,
              "ticks": ""
             }
            },
            "type": "scatter"
           }
          ],
          "scatter3d": [
           {
            "line": {
             "colorbar": {
              "outlinewidth": 0,
              "ticks": ""
             }
            },
            "marker": {
             "colorbar": {
              "outlinewidth": 0,
              "ticks": ""
             }
            },
            "type": "scatter3d"
           }
          ],
          "scattercarpet": [
           {
            "marker": {
             "colorbar": {
              "outlinewidth": 0,
              "ticks": ""
             }
            },
            "type": "scattercarpet"
           }
          ],
          "scattergeo": [
           {
            "marker": {
             "colorbar": {
              "outlinewidth": 0,
              "ticks": ""
             }
            },
            "type": "scattergeo"
           }
          ],
          "scattergl": [
           {
            "marker": {
             "colorbar": {
              "outlinewidth": 0,
              "ticks": ""
             }
            },
            "type": "scattergl"
           }
          ],
          "scattermapbox": [
           {
            "marker": {
             "colorbar": {
              "outlinewidth": 0,
              "ticks": ""
             }
            },
            "type": "scattermapbox"
           }
          ],
          "scatterpolar": [
           {
            "marker": {
             "colorbar": {
              "outlinewidth": 0,
              "ticks": ""
             }
            },
            "type": "scatterpolar"
           }
          ],
          "scatterpolargl": [
           {
            "marker": {
             "colorbar": {
              "outlinewidth": 0,
              "ticks": ""
             }
            },
            "type": "scatterpolargl"
           }
          ],
          "scatterternary": [
           {
            "marker": {
             "colorbar": {
              "outlinewidth": 0,
              "ticks": ""
             }
            },
            "type": "scatterternary"
           }
          ],
          "surface": [
           {
            "colorbar": {
             "outlinewidth": 0,
             "ticks": ""
            },
            "colorscale": [
             [
              0,
              "#0d0887"
             ],
             [
              0.1111111111111111,
              "#46039f"
             ],
             [
              0.2222222222222222,
              "#7201a8"
             ],
             [
              0.3333333333333333,
              "#9c179e"
             ],
             [
              0.4444444444444444,
              "#bd3786"
             ],
             [
              0.5555555555555556,
              "#d8576b"
             ],
             [
              0.6666666666666666,
              "#ed7953"
             ],
             [
              0.7777777777777778,
              "#fb9f3a"
             ],
             [
              0.8888888888888888,
              "#fdca26"
             ],
             [
              1,
              "#f0f921"
             ]
            ],
            "type": "surface"
           }
          ],
          "table": [
           {
            "cells": {
             "fill": {
              "color": "#EBF0F8"
             },
             "line": {
              "color": "white"
             }
            },
            "header": {
             "fill": {
              "color": "#C8D4E3"
             },
             "line": {
              "color": "white"
             }
            },
            "type": "table"
           }
          ]
         },
         "layout": {
          "annotationdefaults": {
           "arrowcolor": "#2a3f5f",
           "arrowhead": 0,
           "arrowwidth": 1
          },
          "coloraxis": {
           "colorbar": {
            "outlinewidth": 0,
            "ticks": ""
           }
          },
          "colorscale": {
           "diverging": [
            [
             0,
             "#8e0152"
            ],
            [
             0.1,
             "#c51b7d"
            ],
            [
             0.2,
             "#de77ae"
            ],
            [
             0.3,
             "#f1b6da"
            ],
            [
             0.4,
             "#fde0ef"
            ],
            [
             0.5,
             "#f7f7f7"
            ],
            [
             0.6,
             "#e6f5d0"
            ],
            [
             0.7,
             "#b8e186"
            ],
            [
             0.8,
             "#7fbc41"
            ],
            [
             0.9,
             "#4d9221"
            ],
            [
             1,
             "#276419"
            ]
           ],
           "sequential": [
            [
             0,
             "#0d0887"
            ],
            [
             0.1111111111111111,
             "#46039f"
            ],
            [
             0.2222222222222222,
             "#7201a8"
            ],
            [
             0.3333333333333333,
             "#9c179e"
            ],
            [
             0.4444444444444444,
             "#bd3786"
            ],
            [
             0.5555555555555556,
             "#d8576b"
            ],
            [
             0.6666666666666666,
             "#ed7953"
            ],
            [
             0.7777777777777778,
             "#fb9f3a"
            ],
            [
             0.8888888888888888,
             "#fdca26"
            ],
            [
             1,
             "#f0f921"
            ]
           ],
           "sequentialminus": [
            [
             0,
             "#0d0887"
            ],
            [
             0.1111111111111111,
             "#46039f"
            ],
            [
             0.2222222222222222,
             "#7201a8"
            ],
            [
             0.3333333333333333,
             "#9c179e"
            ],
            [
             0.4444444444444444,
             "#bd3786"
            ],
            [
             0.5555555555555556,
             "#d8576b"
            ],
            [
             0.6666666666666666,
             "#ed7953"
            ],
            [
             0.7777777777777778,
             "#fb9f3a"
            ],
            [
             0.8888888888888888,
             "#fdca26"
            ],
            [
             1,
             "#f0f921"
            ]
           ]
          },
          "colorway": [
           "#636efa",
           "#EF553B",
           "#00cc96",
           "#ab63fa",
           "#FFA15A",
           "#19d3f3",
           "#FF6692",
           "#B6E880",
           "#FF97FF",
           "#FECB52"
          ],
          "font": {
           "color": "#2a3f5f"
          },
          "geo": {
           "bgcolor": "white",
           "lakecolor": "white",
           "landcolor": "#E5ECF6",
           "showlakes": true,
           "showland": true,
           "subunitcolor": "white"
          },
          "hoverlabel": {
           "align": "left"
          },
          "hovermode": "closest",
          "mapbox": {
           "style": "light"
          },
          "paper_bgcolor": "white",
          "plot_bgcolor": "#E5ECF6",
          "polar": {
           "angularaxis": {
            "gridcolor": "white",
            "linecolor": "white",
            "ticks": ""
           },
           "bgcolor": "#E5ECF6",
           "radialaxis": {
            "gridcolor": "white",
            "linecolor": "white",
            "ticks": ""
           }
          },
          "scene": {
           "xaxis": {
            "backgroundcolor": "#E5ECF6",
            "gridcolor": "white",
            "gridwidth": 2,
            "linecolor": "white",
            "showbackground": true,
            "ticks": "",
            "zerolinecolor": "white"
           },
           "yaxis": {
            "backgroundcolor": "#E5ECF6",
            "gridcolor": "white",
            "gridwidth": 2,
            "linecolor": "white",
            "showbackground": true,
            "ticks": "",
            "zerolinecolor": "white"
           },
           "zaxis": {
            "backgroundcolor": "#E5ECF6",
            "gridcolor": "white",
            "gridwidth": 2,
            "linecolor": "white",
            "showbackground": true,
            "ticks": "",
            "zerolinecolor": "white"
           }
          },
          "shapedefaults": {
           "line": {
            "color": "#2a3f5f"
           }
          },
          "ternary": {
           "aaxis": {
            "gridcolor": "white",
            "linecolor": "white",
            "ticks": ""
           },
           "baxis": {
            "gridcolor": "white",
            "linecolor": "white",
            "ticks": ""
           },
           "bgcolor": "#E5ECF6",
           "caxis": {
            "gridcolor": "white",
            "linecolor": "white",
            "ticks": ""
           }
          },
          "title": {
           "x": 0.05
          },
          "xaxis": {
           "automargin": true,
           "gridcolor": "white",
           "linecolor": "white",
           "ticks": "",
           "title": {
            "standoff": 15
           },
           "zerolinecolor": "white",
           "zerolinewidth": 2
          },
          "yaxis": {
           "automargin": true,
           "gridcolor": "white",
           "linecolor": "white",
           "ticks": "",
           "title": {
            "standoff": 15
           },
           "zerolinecolor": "white",
           "zerolinewidth": 2
          }
         }
        }
       }
      },
      "text/html": [
       "<div>\n",
       "        \n",
       "        \n",
       "            <div id=\"07961480-47cc-43f6-b98c-cc2c11e52726\" class=\"plotly-graph-div\" style=\"height:525px; width:100%;\"></div>\n",
       "            <script type=\"text/javascript\">\n",
       "                require([\"plotly\"], function(Plotly) {\n",
       "                    window.PLOTLYENV=window.PLOTLYENV || {};\n",
       "                    \n",
       "                if (document.getElementById(\"07961480-47cc-43f6-b98c-cc2c11e52726\")) {\n",
       "                    Plotly.newPlot(\n",
       "                        '07961480-47cc-43f6-b98c-cc2c11e52726',\n",
       "                        [{\"hoverlabel\": {\"namelength\": 0}, \"hovertemplate\": \"VIOLATION DESCRIPTION=REG. STICKER-EXPIRED/MISSING<br>Lat=%{lat}<br>Lon=%{lon}\", \"lat\": [40.7241802, 40.6605269, 40.632783200000006, 40.6040456, 40.839390050000006, 40.8384061, 40.8504855, 40.74453, 40.885153349999996, 40.75622983673469, 40.660699699999995, 40.547426, 40.678693949999996, 40.74157065, 40.59933865, 40.7264979, 40.579954, 40.6201241, 40.7639267, 40.7358709, 40.68562625, 40.7489665, 40.692221399999994, 40.783782, 40.8484205, 40.85795525, 40.620246, 40.6866482, null, 40.570623850000004, 40.677921, 40.6671753, 40.680134499999994, 40.7749624, 40.5829602, 40.7528856, 40.8536433, 40.88584373469388, 40.6364994, 40.713715, null, 40.58605736734694, 40.7265146, 40.75038505, 40.755660500000005, 40.584023, 40.7579901, 40.71117135, 40.7935364, 40.752712, 40.8429916, 40.84791095, 40.6757299, 40.575469, 40.6191594, 40.57727285, 40.717301, 40.7477069, 40.638764, 40.68613885, 40.6594567, 40.7653667, 40.6359687, 40.7321812, 40.722808, 40.7419078, 40.67741605, 40.64029825, 40.6731259, 40.863696, 40.78888795, 40.6709643, 40.60266585, 40.722888749999996, 40.6360637, 40.782458500000004, 40.69469815, 40.63992835, 40.590911750000004, 40.8849264, 40.64715353061224, 40.685019, 40.7162443, 40.68196585, 40.704433050000006, 40.8803562, 40.828063400000005, 40.6777106, 40.6602518, 40.853984, 40.669252900000004, null, 40.62263765, 40.72868995, 40.78443355, 40.681464649999995, 40.72513605, 40.8532638, 40.62998365, 40.613203850000005, 40.724057, 40.78397175, 40.6912308, 40.7370704, 40.7402686, 40.6214128, 40.7899351, 40.7255661, 40.7298295, 40.643767600000004, 40.876868, 40.8480428, 40.616237100000006, 40.61932625, 40.662930800000005, 40.6337814, 40.844119, 40.776932200000005, 40.79017385, 40.82593505, 40.5862561, 40.647546, 40.6884669, 40.61070225, 40.8780597, 40.7456697, 40.8762307, 40.6195097755102, 40.7291763, 40.65714664285714, 40.64220335, 40.8335802, 40.6988245, 40.74056265, 40.849252, 40.7207131, null, 40.6223838, 40.8655668, 40.71470095, 40.63261820408164, 40.6902938, 40.7189195, 40.763722200000004, 40.7228956, 40.7257478, null, 40.6253156, 40.6223192, 40.672900999999996, 40.7232564, 40.8641254, 40.7577613, 40.867742, 40.629450250000005, 40.6754832, 40.81522805, 40.762413949999996, 40.692302299999994, 40.62324435, 40.707329650000005, 40.60455135, 40.7691752, 40.7491339, 40.7215131, 40.66809415, 40.7317602, 40.5780977, 40.8958781, 40.583758836734695, 40.816359, 40.87294625, 40.6977994, 40.722655, 40.7563599, null, 40.7267688, 40.709058999999996, 40.764556549999995, 40.66251695, 40.8548775, 40.644888949999995, 40.726626, 40.642282, 40.651533400000005, 40.7244857, 40.63524185, 40.77535145, 40.7208107, 40.76248775, 40.8782012, 40.6462183, 40.84012193103449, 40.6206685, 40.77510045, 40.8754661, 40.7409557, 40.57050015, 40.74031755, 40.8713505, 40.6783356, 40.84475605, 40.895079, 40.8201899, 40.772391, 40.617946843217865, 40.613594899999995, 40.6760069, 40.6444955, 40.8843859, 40.612718, 40.84173932258065, 40.8499828, 40.730497, 40.66529, 40.678363700000006, 40.6920468, 40.7484538, 40.6888239, 40.7654145, 40.7745987, 40.7479223, 40.886992, 40.7160932, 40.726177, 40.641249599999995, 40.624573, 40.63636725, 40.7493544, 40.586839375, 40.570731, 40.7317416122449, null, 40.597429, 40.56292345, 40.7466517, 40.868251, 40.719762, 40.7122692, 40.86677805, 40.7127281, 40.75254385, 40.683299363636365, 40.8270032, 40.681859, 40.58941407692308, 40.833623149999994, 40.7795911, 40.838868149999996, 40.7391264, 40.6064882, 40.88164225, 40.7274727, 40.5999957, 40.71679075, 40.777291000000005, 40.7949459, 40.7576783, 40.7215131, 40.55127765, 40.7529441, 40.8762413, 40.84566665, 40.665152899999995, 40.7621501, 40.6996033, 40.78217695, 40.6551874, 40.5367424, 40.60767625, null, 40.723912150000004, 40.7625479, 40.6727639, 40.70984305, 40.7340236, 40.827532149999996, 40.74865235, 40.70081759999999, 40.85420295, 40.7654496, 40.7686274, 40.65150525, 40.8803248, 40.7842205, 40.686996, 40.7223548, 40.6942139, 40.722752549999996, 40.7398242, 40.63236945, null, 40.849447764705886, 40.7525304, 40.7594502, 40.69991374999999, 40.7560956, 40.551128000000006, 40.7701692, 40.790151, 40.690677949999994, 40.63153355, 40.5673022, 40.71638075, 40.8356776, null, 40.57691055, 40.7494029, 40.5707028, 40.7461239, 40.7883713, 40.5797931, 40.730967199999995, 40.6026189], \"legendgroup\": \"VIOLATION DESCRIPTION=REG. STICKER-EXPIRED/MISSING\", \"lon\": [-73.8695516, -73.83175735, -73.99499134999999, -74.09922559622171, -73.94472862773384, -73.9416375, -73.932498, -73.87891430297728, -73.8606737, -73.98360463265305, -73.95547769513279, -74.232321, -73.7812752153354, -73.98231227944184, -74.0755319553787, -73.8219806, -74.15398568322223, -73.92872828408721, -73.92518154574236, -73.9939317, -73.79366808786614, -73.89384338851352, -73.79127433238412, -73.97820819768367, -73.8551603, -73.88582683071873, -73.917447, -73.99187659820629, null, -74.12358325077324, -73.87772165000001, -73.99404382928329, -73.83582059646741, -73.9505604, -73.9541175, -73.9851253, -73.85251259307068, -73.9100330612245, -73.94829855191779, -73.990173, null, -73.95884565306123, -73.99078645287356, -73.82120045774286, -73.8338354, -73.9409791, -73.9800977, -73.7346732637321, -73.9448101, -73.82629, -73.826147, -73.93866582070953, -73.8192586, -73.98014599999999, -73.9275838, -73.96111581868374, -74.001371, -73.8825602, -73.98882156267507, -73.93322317384487, -73.9322208, -73.9875746, -74.10702020161371, -73.7674298, -74.0000091, -73.99935436344538, -73.95789785977428, -73.99527053766276, -73.79749980817763, -73.905713, -73.85169246233397, -73.9574651, -74.00477440409043, -73.84283079851019, -74.1382402, -73.8173743901605, -73.97039878085997, -74.11411206405995, -74.07668277170094, -73.90895498886282, -73.99756434693879, -73.977715, -73.81361584750883, -73.75892195, -73.82813749874204, -73.9045685, -73.84815470000001, -73.94741783108108, -73.84288547373558, -73.9039609227872, -73.8687119, null, -73.93801987354425, -73.71658819999999, -73.84603172568406, -73.96422316647863, -73.85113377888598, -73.86881, -74.14302780711314, -74.11295954539109, -73.909551, -73.97572554032021, -73.9949004, -73.9926128, -73.9986594, -74.0807333, -73.9719848, -73.9044198, -73.8420191, -73.90262015715057, -73.838411, -73.8559962, -73.96958005239779, -74.02772560541547, -73.896191, -74.018099, -73.843775, -73.94672208592098, -73.97931045107799, -73.81825401663671, -74.1022506, -74.02023130612245, -73.9321474, -73.95940725, -73.9051751, -73.87938633375211, -73.8935672, -74.03709426530612, -73.8622054, -73.751349, -74.07877560420489, -73.8577441, -73.7890207, -73.99355838857281, -73.9389728, -73.9890184, null, -74.13828355, -73.8680437, -73.99393550376386, -73.98830475510205, -73.97303579999999, -73.9610801, -73.83359917350055, -73.8464909, -73.8930209, null, -73.9393685, -74.1441439, -73.92197907921636, -73.9790024, -73.85660450072157, -73.8992072, -73.859546, -73.89696753028979, -73.75122021480053, -73.91637239795043, -73.77012118177052, -73.91533603389192, -73.93791253269728, -73.91996107241434, -73.97072820442708, -73.7291755, -73.8869155, -73.8439236, -73.955030774653, -73.8492504, -74.10424320000001, -73.856222, -73.94822591836734, -73.8379558, -73.89511739621824, -73.785847, -73.948164, -73.9955414, null, -73.7881299, -73.79896685525274, -73.81135205654103, -73.99047946932178, -73.85535424046029, -73.98060243937371, -73.734893, -73.883895, -74.00628852184914, -74.0044512, -74.10928034648012, -73.91007517019278, -73.8553067, -73.93045869877406, -73.87913785138869, -73.9582701, -73.8802915, -73.90502910000001, -73.90961912090046, -73.88076001837089, -73.9981608, -74.11267923387112, -73.89265146804357, -73.89078830014556, -73.76354348279926, -73.88683160000001, -73.85926675289855, -73.9115345, -73.9591353, -73.9596924774577, -74.1216722, -74.0011825, -74.08147168571759, -73.85674200147278, -73.9438631, -73.91648709677419, -73.9082065, -73.8239485, -73.7729526508995, -73.96048537702276, -73.9824338, -73.8964686, -73.9832508, -73.9838267, -73.9589824, -73.86371401863101, -73.901446, -73.9624714, -73.8651781, -73.90561745372493, -74.02331693100285, -74.07619274999999, -73.8858882, -74.103741, -74.09832, -74.0015112244898, null, -73.7551573, -74.182615, -74.00239260450466, -73.916139, -73.843679, -73.7860678, -73.86607703966912, -74.0060152, -73.82251398161839, -73.94111481818182, -73.8827464, -73.846715, -74.09797792307693, -73.91322830771999, -73.9598864, -73.85520779088236, -73.98642041005462, -74.1262465009234, -73.88337451446945, -74.0074855, -73.767114, -73.91343367634516, -73.95781709077818, -73.974587, -73.9635233, -73.8439236, -74.1694995, -73.93110604943207, -73.8519147, -73.8562854904376, -73.98889525072404, -73.8030176469771, -73.8319681, -73.95846331116954, -74.0038129, -74.20055572986112, -73.95875825905591, null, -73.95135529654677, -73.8326260344895, -73.9711022, -73.77827676025758, -73.95785937699044, -73.88063237621739, -73.86727430133774, -73.81959088768383, -73.88965498687463, -73.7721801, -73.9855734, -73.94993559827067, -73.90799282520172, -73.9566331, -73.7749447, -73.998357, -73.8493321, -73.94079296899142, -73.9354153, -74.02767925, null, -73.93247047058824, -73.9842797, -73.81559855462963, -73.89067009764204, -73.9225746, -74.14041779502135, -73.9892323, -73.80529308092682, -73.99514404118307, -74.08560787759292, -73.870232, -73.81080667800558, -73.9188644, null, -74.09792831335773, -73.8864828, -74.1163485, -73.9345129, -73.96823529259638, -73.956863, -73.98726037790776, -73.9952952], \"marker\": {\"color\": \"#636efa\"}, \"mode\": \"markers\", \"name\": \"VIOLATION DESCRIPTION=REG. STICKER-EXPIRED/MISSING\", \"showlegend\": true, \"subplot\": \"mapbox\", \"type\": \"scattermapbox\"}],\n",
       "                        {\"legend\": {\"tracegroupgap\": 0}, \"mapbox\": {\"accesstoken\": \"pk.eyJ1IjoicmFzbXVzYmxpcnVwIiwiYSI6ImNrYTRjN2FyODA2OXMzZmxicW9ybW8xN2wifQ.wZrS1cwEn0y0TjH2255L5w\", \"center\": {\"lat\": 40.720059746276036, \"lon\": -73.9303730568987}, \"domain\": {\"x\": [0.0, 1.0], \"y\": [0.0, 1.0]}, \"style\": \"light\", \"zoom\": 12}, \"margin\": {\"t\": 60}, \"template\": {\"data\": {\"bar\": [{\"error_x\": {\"color\": \"#2a3f5f\"}, \"error_y\": {\"color\": \"#2a3f5f\"}, \"marker\": {\"line\": {\"color\": \"#E5ECF6\", \"width\": 0.5}}, \"type\": \"bar\"}], \"barpolar\": [{\"marker\": {\"line\": {\"color\": \"#E5ECF6\", \"width\": 0.5}}, \"type\": \"barpolar\"}], \"carpet\": [{\"aaxis\": {\"endlinecolor\": \"#2a3f5f\", \"gridcolor\": \"white\", \"linecolor\": \"white\", \"minorgridcolor\": \"white\", \"startlinecolor\": \"#2a3f5f\"}, \"baxis\": {\"endlinecolor\": \"#2a3f5f\", \"gridcolor\": \"white\", \"linecolor\": \"white\", \"minorgridcolor\": \"white\", \"startlinecolor\": \"#2a3f5f\"}, \"type\": \"carpet\"}], \"choropleth\": [{\"colorbar\": {\"outlinewidth\": 0, \"ticks\": \"\"}, \"type\": \"choropleth\"}], \"contour\": [{\"colorbar\": {\"outlinewidth\": 0, \"ticks\": \"\"}, \"colorscale\": [[0.0, \"#0d0887\"], [0.1111111111111111, \"#46039f\"], [0.2222222222222222, \"#7201a8\"], [0.3333333333333333, \"#9c179e\"], [0.4444444444444444, \"#bd3786\"], [0.5555555555555556, \"#d8576b\"], [0.6666666666666666, \"#ed7953\"], [0.7777777777777778, \"#fb9f3a\"], [0.8888888888888888, \"#fdca26\"], [1.0, \"#f0f921\"]], \"type\": \"contour\"}], \"contourcarpet\": [{\"colorbar\": {\"outlinewidth\": 0, \"ticks\": \"\"}, \"type\": \"contourcarpet\"}], \"heatmap\": [{\"colorbar\": {\"outlinewidth\": 0, \"ticks\": \"\"}, \"colorscale\": [[0.0, \"#0d0887\"], [0.1111111111111111, \"#46039f\"], [0.2222222222222222, \"#7201a8\"], [0.3333333333333333, \"#9c179e\"], [0.4444444444444444, \"#bd3786\"], [0.5555555555555556, \"#d8576b\"], [0.6666666666666666, \"#ed7953\"], [0.7777777777777778, \"#fb9f3a\"], [0.8888888888888888, \"#fdca26\"], [1.0, \"#f0f921\"]], \"type\": \"heatmap\"}], \"heatmapgl\": [{\"colorbar\": {\"outlinewidth\": 0, \"ticks\": \"\"}, \"colorscale\": [[0.0, \"#0d0887\"], [0.1111111111111111, \"#46039f\"], [0.2222222222222222, \"#7201a8\"], [0.3333333333333333, \"#9c179e\"], [0.4444444444444444, \"#bd3786\"], [0.5555555555555556, \"#d8576b\"], [0.6666666666666666, \"#ed7953\"], [0.7777777777777778, \"#fb9f3a\"], [0.8888888888888888, \"#fdca26\"], [1.0, \"#f0f921\"]], \"type\": \"heatmapgl\"}], \"histogram\": [{\"marker\": {\"colorbar\": {\"outlinewidth\": 0, \"ticks\": \"\"}}, \"type\": \"histogram\"}], \"histogram2d\": [{\"colorbar\": {\"outlinewidth\": 0, \"ticks\": \"\"}, \"colorscale\": [[0.0, \"#0d0887\"], [0.1111111111111111, \"#46039f\"], [0.2222222222222222, \"#7201a8\"], [0.3333333333333333, \"#9c179e\"], [0.4444444444444444, \"#bd3786\"], [0.5555555555555556, \"#d8576b\"], [0.6666666666666666, \"#ed7953\"], [0.7777777777777778, \"#fb9f3a\"], [0.8888888888888888, \"#fdca26\"], [1.0, \"#f0f921\"]], \"type\": \"histogram2d\"}], \"histogram2dcontour\": [{\"colorbar\": {\"outlinewidth\": 0, \"ticks\": \"\"}, \"colorscale\": [[0.0, \"#0d0887\"], [0.1111111111111111, \"#46039f\"], [0.2222222222222222, \"#7201a8\"], [0.3333333333333333, \"#9c179e\"], [0.4444444444444444, \"#bd3786\"], [0.5555555555555556, \"#d8576b\"], [0.6666666666666666, \"#ed7953\"], [0.7777777777777778, \"#fb9f3a\"], [0.8888888888888888, \"#fdca26\"], [1.0, \"#f0f921\"]], \"type\": \"histogram2dcontour\"}], \"mesh3d\": [{\"colorbar\": {\"outlinewidth\": 0, \"ticks\": \"\"}, \"type\": \"mesh3d\"}], \"parcoords\": [{\"line\": {\"colorbar\": {\"outlinewidth\": 0, \"ticks\": \"\"}}, \"type\": \"parcoords\"}], \"pie\": [{\"automargin\": true, \"type\": \"pie\"}], \"scatter\": [{\"marker\": {\"colorbar\": {\"outlinewidth\": 0, \"ticks\": \"\"}}, \"type\": \"scatter\"}], \"scatter3d\": [{\"line\": {\"colorbar\": {\"outlinewidth\": 0, \"ticks\": \"\"}}, \"marker\": {\"colorbar\": {\"outlinewidth\": 0, \"ticks\": \"\"}}, \"type\": \"scatter3d\"}], \"scattercarpet\": [{\"marker\": {\"colorbar\": {\"outlinewidth\": 0, \"ticks\": \"\"}}, \"type\": \"scattercarpet\"}], \"scattergeo\": [{\"marker\": {\"colorbar\": {\"outlinewidth\": 0, \"ticks\": \"\"}}, \"type\": \"scattergeo\"}], \"scattergl\": [{\"marker\": {\"colorbar\": {\"outlinewidth\": 0, \"ticks\": \"\"}}, \"type\": \"scattergl\"}], \"scattermapbox\": [{\"marker\": {\"colorbar\": {\"outlinewidth\": 0, \"ticks\": \"\"}}, \"type\": \"scattermapbox\"}], \"scatterpolar\": [{\"marker\": {\"colorbar\": {\"outlinewidth\": 0, \"ticks\": \"\"}}, \"type\": \"scatterpolar\"}], \"scatterpolargl\": [{\"marker\": {\"colorbar\": {\"outlinewidth\": 0, \"ticks\": \"\"}}, \"type\": \"scatterpolargl\"}], \"scatterternary\": [{\"marker\": {\"colorbar\": {\"outlinewidth\": 0, \"ticks\": \"\"}}, \"type\": \"scatterternary\"}], \"surface\": [{\"colorbar\": {\"outlinewidth\": 0, \"ticks\": \"\"}, \"colorscale\": [[0.0, \"#0d0887\"], [0.1111111111111111, \"#46039f\"], [0.2222222222222222, \"#7201a8\"], [0.3333333333333333, \"#9c179e\"], [0.4444444444444444, \"#bd3786\"], [0.5555555555555556, \"#d8576b\"], [0.6666666666666666, \"#ed7953\"], [0.7777777777777778, \"#fb9f3a\"], [0.8888888888888888, \"#fdca26\"], [1.0, \"#f0f921\"]], \"type\": \"surface\"}], \"table\": [{\"cells\": {\"fill\": {\"color\": \"#EBF0F8\"}, \"line\": {\"color\": \"white\"}}, \"header\": {\"fill\": {\"color\": \"#C8D4E3\"}, \"line\": {\"color\": \"white\"}}, \"type\": \"table\"}]}, \"layout\": {\"annotationdefaults\": {\"arrowcolor\": \"#2a3f5f\", \"arrowhead\": 0, \"arrowwidth\": 1}, \"coloraxis\": {\"colorbar\": {\"outlinewidth\": 0, \"ticks\": \"\"}}, \"colorscale\": {\"diverging\": [[0, \"#8e0152\"], [0.1, \"#c51b7d\"], [0.2, \"#de77ae\"], [0.3, \"#f1b6da\"], [0.4, \"#fde0ef\"], [0.5, \"#f7f7f7\"], [0.6, \"#e6f5d0\"], [0.7, \"#b8e186\"], [0.8, \"#7fbc41\"], [0.9, \"#4d9221\"], [1, \"#276419\"]], \"sequential\": [[0.0, \"#0d0887\"], [0.1111111111111111, \"#46039f\"], [0.2222222222222222, \"#7201a8\"], [0.3333333333333333, \"#9c179e\"], [0.4444444444444444, \"#bd3786\"], [0.5555555555555556, \"#d8576b\"], [0.6666666666666666, \"#ed7953\"], [0.7777777777777778, \"#fb9f3a\"], [0.8888888888888888, \"#fdca26\"], [1.0, \"#f0f921\"]], \"sequentialminus\": [[0.0, \"#0d0887\"], [0.1111111111111111, \"#46039f\"], [0.2222222222222222, \"#7201a8\"], [0.3333333333333333, \"#9c179e\"], [0.4444444444444444, \"#bd3786\"], [0.5555555555555556, \"#d8576b\"], [0.6666666666666666, \"#ed7953\"], [0.7777777777777778, \"#fb9f3a\"], [0.8888888888888888, \"#fdca26\"], [1.0, \"#f0f921\"]]}, \"colorway\": [\"#636efa\", \"#EF553B\", \"#00cc96\", \"#ab63fa\", \"#FFA15A\", \"#19d3f3\", \"#FF6692\", \"#B6E880\", \"#FF97FF\", \"#FECB52\"], \"font\": {\"color\": \"#2a3f5f\"}, \"geo\": {\"bgcolor\": \"white\", \"lakecolor\": \"white\", \"landcolor\": \"#E5ECF6\", \"showlakes\": true, \"showland\": true, \"subunitcolor\": \"white\"}, \"hoverlabel\": {\"align\": \"left\"}, \"hovermode\": \"closest\", \"mapbox\": {\"style\": \"light\"}, \"paper_bgcolor\": \"white\", \"plot_bgcolor\": \"#E5ECF6\", \"polar\": {\"angularaxis\": {\"gridcolor\": \"white\", \"linecolor\": \"white\", \"ticks\": \"\"}, \"bgcolor\": \"#E5ECF6\", \"radialaxis\": {\"gridcolor\": \"white\", \"linecolor\": \"white\", \"ticks\": \"\"}}, \"scene\": {\"xaxis\": {\"backgroundcolor\": \"#E5ECF6\", \"gridcolor\": \"white\", \"gridwidth\": 2, \"linecolor\": \"white\", \"showbackground\": true, \"ticks\": \"\", \"zerolinecolor\": \"white\"}, \"yaxis\": {\"backgroundcolor\": \"#E5ECF6\", \"gridcolor\": \"white\", \"gridwidth\": 2, \"linecolor\": \"white\", \"showbackground\": true, \"ticks\": \"\", \"zerolinecolor\": \"white\"}, \"zaxis\": {\"backgroundcolor\": \"#E5ECF6\", \"gridcolor\": \"white\", \"gridwidth\": 2, \"linecolor\": \"white\", \"showbackground\": true, \"ticks\": \"\", \"zerolinecolor\": \"white\"}}, \"shapedefaults\": {\"line\": {\"color\": \"#2a3f5f\"}}, \"ternary\": {\"aaxis\": {\"gridcolor\": \"white\", \"linecolor\": \"white\", \"ticks\": \"\"}, \"baxis\": {\"gridcolor\": \"white\", \"linecolor\": \"white\", \"ticks\": \"\"}, \"bgcolor\": \"#E5ECF6\", \"caxis\": {\"gridcolor\": \"white\", \"linecolor\": \"white\", \"ticks\": \"\"}}, \"title\": {\"x\": 0.05}, \"xaxis\": {\"automargin\": true, \"gridcolor\": \"white\", \"linecolor\": \"white\", \"ticks\": \"\", \"title\": {\"standoff\": 15}, \"zerolinecolor\": \"white\", \"zerolinewidth\": 2}, \"yaxis\": {\"automargin\": true, \"gridcolor\": \"white\", \"linecolor\": \"white\", \"ticks\": \"\", \"title\": {\"standoff\": 15}, \"zerolinecolor\": \"white\", \"zerolinewidth\": 2}}}},\n",
       "                        {\"responsive\": true}\n",
       "                    ).then(function(){\n",
       "                            \n",
       "var gd = document.getElementById('07961480-47cc-43f6-b98c-cc2c11e52726');\n",
       "var x = new MutationObserver(function (mutations, observer) {{\n",
       "        var display = window.getComputedStyle(gd).display;\n",
       "        if (!display || display === 'none') {{\n",
       "            console.log([gd, 'removed!']);\n",
       "            Plotly.purge(gd);\n",
       "            observer.disconnect();\n",
       "        }}\n",
       "}});\n",
       "\n",
       "// Listen for the removal of the full notebook cells\n",
       "var notebookContainer = gd.closest('#notebook-container');\n",
       "if (notebookContainer) {{\n",
       "    x.observe(notebookContainer, {childList: true});\n",
       "}}\n",
       "\n",
       "// Listen for the clearing of the current output cell\n",
       "var outputEl = gd.closest('.output');\n",
       "if (outputEl) {{\n",
       "    x.observe(outputEl, {childList: true});\n",
       "}}\n",
       "\n",
       "                        })\n",
       "                };\n",
       "                });\n",
       "            </script>\n",
       "        </div>"
      ]
     },
     "metadata": {},
     "output_type": "display_data"
    }
   ],
   "source": [
    "import plotly.express as px\n",
    "fig = px.scatter_mapbox(location_df, lat=\"Lat\", lon=\"Lon\", color=\"VIOLATION DESCRIPTION\", zoom=12)\n",
    "# Now using Mapbox\n",
    "fig.update_layout(mapbox_style=\"light\", mapbox_accesstoken=\"pk.eyJ1IjoicmFzbXVzYmxpcnVwIiwiYSI6ImNrYTRjN2FyODA2OXMzZmxicW9ybW8xN2wifQ.wZrS1cwEn0y0TjH2255L5w\")\n",
    "fig.show()"
   ]
  },
  {
   "cell_type": "code",
   "execution_count": null,
   "metadata": {},
   "outputs": [],
   "source": [
    "\n",
    "df.head()"
   ]
  },
  {
   "cell_type": "code",
   "execution_count": null,
   "metadata": {},
   "outputs": [],
   "source": [
    "print(\"Number of different parking violatons:\",len(df[\"VIOLATION DESCRIPTION\"].unique()))\n",
    "print(\"Number of county's:\",len(df[\"Violation Precinct\"].unique()))\n",
    "print(\"Number of Postal codes:\", len(df['Violation County'].unique()))"
   ]
  },
  {
   "cell_type": "code",
   "execution_count": null,
   "metadata": {},
   "outputs": [],
   "source": [
    "#Top 10 most revenued violations\n",
    "top_rev = df.groupby(\"VIOLATION DESCRIPTION\")['Manhattan  96th St. & below\\n(Fine Amount $)'].sum().sort_values(ascending=False)[:10]\n",
    "top_rev\n"
   ]
  },
  {
   "cell_type": "code",
   "execution_count": null,
   "metadata": {},
   "outputs": [],
   "source": [
    "analysis = df.groupby(\"Violation County\")['Manhattan  96th St. & below\\n(Fine Amount $)'].aggregate(['count', 'sum', 'mean']).sort_values(by='sum', ascending=False)\n",
    "analysis               "
   ]
  },
  {
   "cell_type": "code",
   "execution_count": null,
   "metadata": {},
   "outputs": [],
   "source": [
    "#Top 10 most issued fines\n",
    "topfines = df[\"VIOLATION DESCRIPTION\"].value_counts()[:10]\n",
    "topfines"
   ]
  },
  {
   "cell_type": "code",
   "execution_count": null,
   "metadata": {},
   "outputs": [],
   "source": [
    "#Top 10 most issued fines\n",
    "violation_group = df.groupby(['Violation Code', 'Violation County']).count().sort_values(by='Manhattan  96th St. & below\\n(Fine Amount $)', ascending=False)\n",
    "top10 = violation_group[['Manhattan  96th St. & below\\n(Fine Amount $)']].head(10)\n",
    "top10"
   ]
  },
  {
   "cell_type": "code",
   "execution_count": null,
   "metadata": {},
   "outputs": [],
   "source": [
    "Revenue = df.groupby(['Violation County']).aggregate({'Manhattan  96th St. & below\\n(Fine Amount $)': np.sum}).sort_values(by='Manhattan  96th St. & below\\n(Fine Amount $)', ascending=False)\n",
    "Revenue"
   ]
  },
  {
   "cell_type": "code",
   "execution_count": null,
   "metadata": {},
   "outputs": [],
   "source": [
    "pct = Revenue['Manhattan  96th St. & below\\n(Fine Amount $)']/sum(Revenue['Manhattan  96th St. & below\\n(Fine Amount $)'])*100\n",
    "pct.sort_values(ascending=False).head(10)"
   ]
  },
  {
   "cell_type": "code",
   "execution_count": null,
   "metadata": {},
   "outputs": [],
   "source": [
    "sum(Revenue['Manhattan  96th St. & below\\n(Fine Amount $)'])"
   ]
  },
  {
   "cell_type": "code",
   "execution_count": null,
   "metadata": {},
   "outputs": [],
   "source": [
    "# Def of bokeh plot\n",
    "def bokeh(df,y):\n",
    "    topfines = df[\"VIOLATION DESCRIPTION\"].value_counts()[:10]\n",
    "    top = topfines.index.to_list()\n",
    "    bokeh = df[df[\"VIOLATION DESCRIPTION\"].isin(top)] #Reducing the dataframe only to obtain the forcuscrimes\n",
    "    station = bokeh.groupby(y)[\"VIOLATION DESCRIPTION\"].value_counts().unstack()\n",
    "    station.reset_index(level=0, inplace=True) # creating a new index, so hour becomes a column. \n",
    "        \n",
    "    source = ColumnDataSource(station)\n",
    "    \n",
    "    hours = [] # empty list to store the string converted hours\n",
    "    for i in sorted(df[y].unique()):\n",
    "        hours.append(str(i))\n",
    "    \n",
    "    p = figure(x_range = FactorRange(factors=hours),plot_height=500, plot_width= 1200, toolbar_location=None, title=\"Distibution of # of fines for top 10 violations pr. {}\".format(y))\n",
    "    bar ={}\n",
    "    items = [] \n",
    "    for indx,i in enumerate(top):\n",
    "        bar[i] = p.vbar(x=y, width=0.2,  top=i, source = source, muted_alpha =0.05, alpha=0.5, muted_color=Category20[14][indx] ,color=Category20[14][indx]) \n",
    "        items.append((i, [bar[i]])) #the dictionary is appended to the items list, to the respective category.  \n",
    "        \n",
    "    legend = Legend(items=items, location=(0,50)) #Legend and location is configured\n",
    "    p.add_layout(legend, \"left\") #Adding the legend outisde the plot. \n",
    "    p.xaxis.axis_label = y #Setting x-axis title\n",
    "    p.yaxis.axis_label = \"# of fines\" #Setting y-axis title\n",
    "    p.x_range.range_padding = 0.05 # \n",
    "    p.legend.click_policy=\"mute\" #mute is chossen, becuase this enables one to see all of the different categories partily if not chosen, instead of hiding them. \n",
    "    show(p) "
   ]
  },
  {
   "cell_type": "code",
   "execution_count": 285,
   "metadata": {},
   "outputs": [
    {
     "data": {
      "text/html": [
       "\n",
       "\n",
       "\n",
       "\n",
       "\n",
       "\n",
       "  <div class=\"bk-root\" id=\"d01550d1-3e7a-40aa-b760-c3c61cb3c682\" data-root-id=\"18347\"></div>\n"
      ]
     },
     "metadata": {},
     "output_type": "display_data"
    },
    {
     "data": {
      "application/javascript": [
       "(function(root) {\n",
       "  function embed_document(root) {\n",
       "    \n",
       "  var docs_json = {\"1ec1cc76-da8d-4bfb-8020-4a895c204e8c\":{\"roots\":{\"references\":[{\"attributes\":{\"below\":[{\"id\":\"18357\",\"type\":\"CategoricalAxis\"}],\"center\":[{\"id\":\"18360\",\"type\":\"Grid\"},{\"id\":\"18365\",\"type\":\"Grid\"}],\"left\":[{\"id\":\"18361\",\"type\":\"LinearAxis\"},{\"id\":\"18439\",\"type\":\"Legend\"}],\"plot_height\":500,\"plot_width\":1200,\"renderers\":[{\"id\":\"18383\",\"type\":\"GlyphRenderer\"},{\"id\":\"18389\",\"type\":\"GlyphRenderer\"},{\"id\":\"18395\",\"type\":\"GlyphRenderer\"},{\"id\":\"18401\",\"type\":\"GlyphRenderer\"},{\"id\":\"18407\",\"type\":\"GlyphRenderer\"},{\"id\":\"18413\",\"type\":\"GlyphRenderer\"},{\"id\":\"18419\",\"type\":\"GlyphRenderer\"},{\"id\":\"18425\",\"type\":\"GlyphRenderer\"},{\"id\":\"18431\",\"type\":\"GlyphRenderer\"},{\"id\":\"18437\",\"type\":\"GlyphRenderer\"}],\"title\":{\"id\":\"18348\",\"type\":\"Title\"},\"toolbar\":{\"id\":\"18372\",\"type\":\"Toolbar\"},\"toolbar_location\":null,\"x_range\":{\"id\":\"18346\",\"type\":\"FactorRange\"},\"x_scale\":{\"id\":\"18353\",\"type\":\"CategoricalScale\"},\"y_range\":{\"id\":\"18351\",\"type\":\"DataRange1d\"},\"y_scale\":{\"id\":\"18355\",\"type\":\"LinearScale\"}},\"id\":\"18347\",\"subtype\":\"Figure\",\"type\":\"Plot\"},{\"attributes\":{\"fill_alpha\":{\"value\":0.5},\"fill_color\":{\"value\":\"#98df8a\"},\"line_alpha\":{\"value\":0.5},\"line_color\":{\"value\":\"#98df8a\"},\"top\":{\"field\":\"FIRE HYDRANT\"},\"width\":{\"value\":0.2},\"x\":{\"field\":\"Hour\"}},\"id\":\"18410\",\"type\":\"VBar\"},{\"attributes\":{\"axis_label\":\"Hour\",\"formatter\":{\"id\":\"18844\",\"type\":\"CategoricalTickFormatter\"},\"ticker\":{\"id\":\"18358\",\"type\":\"CategoricalTicker\"}},\"id\":\"18357\",\"type\":\"CategoricalAxis\"},{\"attributes\":{\"fill_alpha\":{\"value\":0.1},\"fill_color\":{\"value\":\"#1f77b4\"},\"line_alpha\":{\"value\":0.1},\"line_color\":{\"value\":\"#1f77b4\"},\"top\":{\"field\":\"FAILURE TO STOP AT RED LIGHT\"},\"width\":{\"value\":0.2},\"x\":{\"field\":\"Hour\"}},\"id\":\"18429\",\"type\":\"VBar\"},{\"attributes\":{},\"id\":\"18844\",\"type\":\"CategoricalTickFormatter\"},{\"attributes\":{\"fill_alpha\":{\"value\":0.05},\"fill_color\":{\"value\":\"#ff7f0e\"},\"line_alpha\":{\"value\":0.05},\"line_color\":{\"value\":\"#ff7f0e\"},\"top\":{\"field\":\"NO STANDING-DAY/TIME LIMITS\"},\"width\":{\"value\":0.2},\"x\":{\"field\":\"Hour\"}},\"id\":\"18394\",\"type\":\"VBar\"},{\"attributes\":{\"source\":{\"id\":\"18345\",\"type\":\"ColumnDataSource\"}},\"id\":\"18420\",\"type\":\"CDSView\"},{\"attributes\":{},\"id\":\"18846\",\"type\":\"BasicTickFormatter\"},{\"attributes\":{\"click_policy\":\"mute\",\"items\":[{\"id\":\"18440\",\"type\":\"LegendItem\"},{\"id\":\"18441\",\"type\":\"LegendItem\"},{\"id\":\"18442\",\"type\":\"LegendItem\"},{\"id\":\"18443\",\"type\":\"LegendItem\"},{\"id\":\"18444\",\"type\":\"LegendItem\"},{\"id\":\"18445\",\"type\":\"LegendItem\"},{\"id\":\"18446\",\"type\":\"LegendItem\"},{\"id\":\"18447\",\"type\":\"LegendItem\"},{\"id\":\"18448\",\"type\":\"LegendItem\"},{\"id\":\"18449\",\"type\":\"LegendItem\"}],\"location\":[0,50]},\"id\":\"18439\",\"type\":\"Legend\"},{\"attributes\":{\"source\":{\"id\":\"18345\",\"type\":\"ColumnDataSource\"}},\"id\":\"18438\",\"type\":\"CDSView\"},{\"attributes\":{\"source\":{\"id\":\"18345\",\"type\":\"ColumnDataSource\"}},\"id\":\"18414\",\"type\":\"CDSView\"},{\"attributes\":{\"source\":{\"id\":\"18345\",\"type\":\"ColumnDataSource\"}},\"id\":\"18384\",\"type\":\"CDSView\"},{\"attributes\":{\"fill_alpha\":{\"value\":0.5},\"fill_color\":{\"value\":\"#ff9896\"},\"line_alpha\":{\"value\":0.5},\"line_color\":{\"value\":\"#ff9896\"},\"top\":{\"field\":\"EXPIRED MUNI METER\"},\"width\":{\"value\":0.2},\"x\":{\"field\":\"Hour\"}},\"id\":\"18422\",\"type\":\"VBar\"},{\"attributes\":{},\"id\":\"18362\",\"type\":\"BasicTicker\"},{\"attributes\":{\"label\":{\"value\":\"FAIL TO DSPLY MUNI METER RECPT\"},\"renderers\":[{\"id\":\"18389\",\"type\":\"GlyphRenderer\"}]},\"id\":\"18441\",\"type\":\"LegendItem\"},{\"attributes\":{\"label\":{\"value\":\"NO PARKING-STREET CLEANING\"},\"renderers\":[{\"id\":\"18383\",\"type\":\"GlyphRenderer\"}]},\"id\":\"18440\",\"type\":\"LegendItem\"},{\"attributes\":{},\"id\":\"18848\",\"type\":\"Selection\"},{\"attributes\":{\"data_source\":{\"id\":\"18345\",\"type\":\"ColumnDataSource\"},\"glyph\":{\"id\":\"18380\",\"type\":\"VBar\"},\"hover_glyph\":null,\"muted_glyph\":{\"id\":\"18382\",\"type\":\"VBar\"},\"nonselection_glyph\":{\"id\":\"18381\",\"type\":\"VBar\"},\"selection_glyph\":null,\"view\":{\"id\":\"18384\",\"type\":\"CDSView\"}},\"id\":\"18383\",\"type\":\"GlyphRenderer\"},{\"attributes\":{\"fill_alpha\":{\"value\":0.5},\"fill_color\":{\"value\":\"#c5b0d5\"},\"line_alpha\":{\"value\":0.5},\"line_color\":{\"value\":\"#c5b0d5\"},\"top\":{\"field\":\"NO STANDING-BUS STOP\"},\"width\":{\"value\":0.2},\"x\":{\"field\":\"Hour\"}},\"id\":\"18434\",\"type\":\"VBar\"},{\"attributes\":{},\"id\":\"18847\",\"type\":\"UnionRenderers\"},{\"attributes\":{\"label\":{\"value\":\"FAILURE TO STOP AT RED LIGHT\"},\"renderers\":[{\"id\":\"18431\",\"type\":\"GlyphRenderer\"}]},\"id\":\"18448\",\"type\":\"LegendItem\"},{\"attributes\":{\"fill_alpha\":{\"value\":0.1},\"fill_color\":{\"value\":\"#1f77b4\"},\"line_alpha\":{\"value\":0.1},\"line_color\":{\"value\":\"#1f77b4\"},\"top\":{\"field\":\"NO STANDING-BUS STOP\"},\"width\":{\"value\":0.2},\"x\":{\"field\":\"Hour\"}},\"id\":\"18435\",\"type\":\"VBar\"},{\"attributes\":{\"ticker\":{\"id\":\"18358\",\"type\":\"CategoricalTicker\"}},\"id\":\"18360\",\"type\":\"Grid\"},{\"attributes\":{\"active_drag\":\"auto\",\"active_inspect\":\"auto\",\"active_multi\":null,\"active_scroll\":\"auto\",\"active_tap\":\"auto\",\"tools\":[{\"id\":\"18366\",\"type\":\"PanTool\"},{\"id\":\"18367\",\"type\":\"WheelZoomTool\"},{\"id\":\"18368\",\"type\":\"BoxZoomTool\"},{\"id\":\"18369\",\"type\":\"SaveTool\"},{\"id\":\"18370\",\"type\":\"ResetTool\"},{\"id\":\"18371\",\"type\":\"HelpTool\"}]},\"id\":\"18372\",\"type\":\"Toolbar\"},{\"attributes\":{\"label\":{\"value\":\"NO STANDING-DAY/TIME LIMITS\"},\"renderers\":[{\"id\":\"18395\",\"type\":\"GlyphRenderer\"}]},\"id\":\"18442\",\"type\":\"LegendItem\"},{\"attributes\":{},\"id\":\"18366\",\"type\":\"PanTool\"},{\"attributes\":{\"axis_label\":\"# of fines\",\"formatter\":{\"id\":\"18846\",\"type\":\"BasicTickFormatter\"},\"ticker\":{\"id\":\"18362\",\"type\":\"BasicTicker\"}},\"id\":\"18361\",\"type\":\"LinearAxis\"},{\"attributes\":{\"fill_alpha\":{\"value\":0.5},\"fill_color\":{\"value\":\"#ffbb78\"},\"line_alpha\":{\"value\":0.5},\"line_color\":{\"value\":\"#ffbb78\"},\"top\":{\"field\":\"NO PARKING-DAY/TIME LIMITS\"},\"width\":{\"value\":0.2},\"x\":{\"field\":\"Hour\"}},\"id\":\"18398\",\"type\":\"VBar\"},{\"attributes\":{\"text\":\"Distibution of # of fines for top 10 violations pr. Hour\"},\"id\":\"18348\",\"type\":\"Title\"},{\"attributes\":{\"fill_alpha\":{\"value\":0.1},\"fill_color\":{\"value\":\"#1f77b4\"},\"line_alpha\":{\"value\":0.1},\"line_color\":{\"value\":\"#1f77b4\"},\"top\":{\"field\":\"INSP. STICKER-EXPIRED/MISSING\"},\"width\":{\"value\":0.2},\"x\":{\"field\":\"Hour\"}},\"id\":\"18417\",\"type\":\"VBar\"},{\"attributes\":{\"data_source\":{\"id\":\"18345\",\"type\":\"ColumnDataSource\"},\"glyph\":{\"id\":\"18386\",\"type\":\"VBar\"},\"hover_glyph\":null,\"muted_glyph\":{\"id\":\"18388\",\"type\":\"VBar\"},\"nonselection_glyph\":{\"id\":\"18387\",\"type\":\"VBar\"},\"selection_glyph\":null,\"view\":{\"id\":\"18390\",\"type\":\"CDSView\"}},\"id\":\"18389\",\"type\":\"GlyphRenderer\"},{\"attributes\":{\"callback\":null,\"factors\":[\"0\",\"1\",\"2\",\"3\",\"4\",\"5\",\"6\",\"7\",\"8\",\"9\",\"10\",\"11\",\"12\",\"13\",\"14\",\"15\",\"16\",\"17\",\"18\",\"19\",\"20\",\"21\",\"22\",\"23\"],\"range_padding\":0.05},\"id\":\"18346\",\"type\":\"FactorRange\"},{\"attributes\":{},\"id\":\"18371\",\"type\":\"HelpTool\"},{\"attributes\":{\"data_source\":{\"id\":\"18345\",\"type\":\"ColumnDataSource\"},\"glyph\":{\"id\":\"18410\",\"type\":\"VBar\"},\"hover_glyph\":null,\"muted_glyph\":{\"id\":\"18412\",\"type\":\"VBar\"},\"nonselection_glyph\":{\"id\":\"18411\",\"type\":\"VBar\"},\"selection_glyph\":null,\"view\":{\"id\":\"18414\",\"type\":\"CDSView\"}},\"id\":\"18413\",\"type\":\"GlyphRenderer\"},{\"attributes\":{\"bottom_units\":\"screen\",\"fill_alpha\":{\"value\":0.5},\"fill_color\":{\"value\":\"lightgrey\"},\"left_units\":\"screen\",\"level\":\"overlay\",\"line_alpha\":{\"value\":1.0},\"line_color\":{\"value\":\"black\"},\"line_dash\":[4,4],\"line_width\":{\"value\":2},\"render_mode\":\"css\",\"right_units\":\"screen\",\"top_units\":\"screen\"},\"id\":\"18849\",\"type\":\"BoxAnnotation\"},{\"attributes\":{},\"id\":\"18358\",\"type\":\"CategoricalTicker\"},{\"attributes\":{\"fill_alpha\":{\"value\":0.5},\"fill_color\":{\"value\":\"#2ca02c\"},\"line_alpha\":{\"value\":0.5},\"line_color\":{\"value\":\"#2ca02c\"},\"top\":{\"field\":\"DOUBLE PARKING\"},\"width\":{\"value\":0.2},\"x\":{\"field\":\"Hour\"}},\"id\":\"18404\",\"type\":\"VBar\"},{\"attributes\":{\"fill_alpha\":{\"value\":0.05},\"fill_color\":{\"value\":\"#aec7e8\"},\"line_alpha\":{\"value\":0.05},\"line_color\":{\"value\":\"#aec7e8\"},\"top\":{\"field\":\"FAIL TO DSPLY MUNI METER RECPT\"},\"width\":{\"value\":0.2},\"x\":{\"field\":\"Hour\"}},\"id\":\"18388\",\"type\":\"VBar\"},{\"attributes\":{\"fill_alpha\":{\"value\":0.05},\"fill_color\":{\"value\":\"#1f77b4\"},\"line_alpha\":{\"value\":0.05},\"line_color\":{\"value\":\"#1f77b4\"},\"top\":{\"field\":\"NO PARKING-STREET CLEANING\"},\"width\":{\"value\":0.2},\"x\":{\"field\":\"Hour\"}},\"id\":\"18382\",\"type\":\"VBar\"},{\"attributes\":{\"data_source\":{\"id\":\"18345\",\"type\":\"ColumnDataSource\"},\"glyph\":{\"id\":\"18392\",\"type\":\"VBar\"},\"hover_glyph\":null,\"muted_glyph\":{\"id\":\"18394\",\"type\":\"VBar\"},\"nonselection_glyph\":{\"id\":\"18393\",\"type\":\"VBar\"},\"selection_glyph\":null,\"view\":{\"id\":\"18396\",\"type\":\"CDSView\"}},\"id\":\"18395\",\"type\":\"GlyphRenderer\"},{\"attributes\":{\"data_source\":{\"id\":\"18345\",\"type\":\"ColumnDataSource\"},\"glyph\":{\"id\":\"18422\",\"type\":\"VBar\"},\"hover_glyph\":null,\"muted_glyph\":{\"id\":\"18424\",\"type\":\"VBar\"},\"nonselection_glyph\":{\"id\":\"18423\",\"type\":\"VBar\"},\"selection_glyph\":null,\"view\":{\"id\":\"18426\",\"type\":\"CDSView\"}},\"id\":\"18425\",\"type\":\"GlyphRenderer\"},{\"attributes\":{\"fill_alpha\":{\"value\":0.05},\"fill_color\":{\"value\":\"#c5b0d5\"},\"line_alpha\":{\"value\":0.05},\"line_color\":{\"value\":\"#c5b0d5\"},\"top\":{\"field\":\"NO STANDING-BUS STOP\"},\"width\":{\"value\":0.2},\"x\":{\"field\":\"Hour\"}},\"id\":\"18436\",\"type\":\"VBar\"},{\"attributes\":{\"dimension\":1,\"ticker\":{\"id\":\"18362\",\"type\":\"BasicTicker\"}},\"id\":\"18365\",\"type\":\"Grid\"},{\"attributes\":{\"source\":{\"id\":\"18345\",\"type\":\"ColumnDataSource\"}},\"id\":\"18402\",\"type\":\"CDSView\"},{\"attributes\":{\"fill_alpha\":{\"value\":0.5},\"fill_color\":{\"value\":\"#d62728\"},\"line_alpha\":{\"value\":0.5},\"line_color\":{\"value\":\"#d62728\"},\"top\":{\"field\":\"INSP. STICKER-EXPIRED/MISSING\"},\"width\":{\"value\":0.2},\"x\":{\"field\":\"Hour\"}},\"id\":\"18416\",\"type\":\"VBar\"},{\"attributes\":{},\"id\":\"18367\",\"type\":\"WheelZoomTool\"},{\"attributes\":{\"data_source\":{\"id\":\"18345\",\"type\":\"ColumnDataSource\"},\"glyph\":{\"id\":\"18434\",\"type\":\"VBar\"},\"hover_glyph\":null,\"muted_glyph\":{\"id\":\"18436\",\"type\":\"VBar\"},\"nonselection_glyph\":{\"id\":\"18435\",\"type\":\"VBar\"},\"selection_glyph\":null,\"view\":{\"id\":\"18438\",\"type\":\"CDSView\"}},\"id\":\"18437\",\"type\":\"GlyphRenderer\"},{\"attributes\":{\"data_source\":{\"id\":\"18345\",\"type\":\"ColumnDataSource\"},\"glyph\":{\"id\":\"18404\",\"type\":\"VBar\"},\"hover_glyph\":null,\"muted_glyph\":{\"id\":\"18406\",\"type\":\"VBar\"},\"nonselection_glyph\":{\"id\":\"18405\",\"type\":\"VBar\"},\"selection_glyph\":null,\"view\":{\"id\":\"18408\",\"type\":\"CDSView\"}},\"id\":\"18407\",\"type\":\"GlyphRenderer\"},{\"attributes\":{\"label\":{\"value\":\"EXPIRED MUNI METER\"},\"renderers\":[{\"id\":\"18425\",\"type\":\"GlyphRenderer\"}]},\"id\":\"18447\",\"type\":\"LegendItem\"},{\"attributes\":{\"fill_alpha\":{\"value\":0.05},\"fill_color\":{\"value\":\"#ff9896\"},\"line_alpha\":{\"value\":0.05},\"line_color\":{\"value\":\"#ff9896\"},\"top\":{\"field\":\"EXPIRED MUNI METER\"},\"width\":{\"value\":0.2},\"x\":{\"field\":\"Hour\"}},\"id\":\"18424\",\"type\":\"VBar\"},{\"attributes\":{\"data_source\":{\"id\":\"18345\",\"type\":\"ColumnDataSource\"},\"glyph\":{\"id\":\"18416\",\"type\":\"VBar\"},\"hover_glyph\":null,\"muted_glyph\":{\"id\":\"18418\",\"type\":\"VBar\"},\"nonselection_glyph\":{\"id\":\"18417\",\"type\":\"VBar\"},\"selection_glyph\":null,\"view\":{\"id\":\"18420\",\"type\":\"CDSView\"}},\"id\":\"18419\",\"type\":\"GlyphRenderer\"},{\"attributes\":{\"fill_alpha\":{\"value\":0.1},\"fill_color\":{\"value\":\"#1f77b4\"},\"line_alpha\":{\"value\":0.1},\"line_color\":{\"value\":\"#1f77b4\"},\"top\":{\"field\":\"EXPIRED MUNI METER\"},\"width\":{\"value\":0.2},\"x\":{\"field\":\"Hour\"}},\"id\":\"18423\",\"type\":\"VBar\"},{\"attributes\":{\"fill_alpha\":{\"value\":0.1},\"fill_color\":{\"value\":\"#1f77b4\"},\"line_alpha\":{\"value\":0.1},\"line_color\":{\"value\":\"#1f77b4\"},\"top\":{\"field\":\"NO PARKING-STREET CLEANING\"},\"width\":{\"value\":0.2},\"x\":{\"field\":\"Hour\"}},\"id\":\"18381\",\"type\":\"VBar\"},{\"attributes\":{},\"id\":\"18370\",\"type\":\"ResetTool\"},{\"attributes\":{\"label\":{\"value\":\"NO STANDING-BUS STOP\"},\"renderers\":[{\"id\":\"18437\",\"type\":\"GlyphRenderer\"}]},\"id\":\"18449\",\"type\":\"LegendItem\"},{\"attributes\":{\"source\":{\"id\":\"18345\",\"type\":\"ColumnDataSource\"}},\"id\":\"18408\",\"type\":\"CDSView\"},{\"attributes\":{\"fill_alpha\":{\"value\":0.5},\"fill_color\":{\"value\":\"#9467bd\"},\"line_alpha\":{\"value\":0.5},\"line_color\":{\"value\":\"#9467bd\"},\"top\":{\"field\":\"FAILURE TO STOP AT RED LIGHT\"},\"width\":{\"value\":0.2},\"x\":{\"field\":\"Hour\"}},\"id\":\"18428\",\"type\":\"VBar\"},{\"attributes\":{},\"id\":\"18355\",\"type\":\"LinearScale\"},{\"attributes\":{\"source\":{\"id\":\"18345\",\"type\":\"ColumnDataSource\"}},\"id\":\"18390\",\"type\":\"CDSView\"},{\"attributes\":{\"fill_alpha\":{\"value\":0.1},\"fill_color\":{\"value\":\"#1f77b4\"},\"line_alpha\":{\"value\":0.1},\"line_color\":{\"value\":\"#1f77b4\"},\"top\":{\"field\":\"DOUBLE PARKING\"},\"width\":{\"value\":0.2},\"x\":{\"field\":\"Hour\"}},\"id\":\"18405\",\"type\":\"VBar\"},{\"attributes\":{\"fill_alpha\":{\"value\":0.05},\"fill_color\":{\"value\":\"#9467bd\"},\"line_alpha\":{\"value\":0.05},\"line_color\":{\"value\":\"#9467bd\"},\"top\":{\"field\":\"FAILURE TO STOP AT RED LIGHT\"},\"width\":{\"value\":0.2},\"x\":{\"field\":\"Hour\"}},\"id\":\"18430\",\"type\":\"VBar\"},{\"attributes\":{\"fill_alpha\":{\"value\":0.1},\"fill_color\":{\"value\":\"#1f77b4\"},\"line_alpha\":{\"value\":0.1},\"line_color\":{\"value\":\"#1f77b4\"},\"top\":{\"field\":\"NO PARKING-DAY/TIME LIMITS\"},\"width\":{\"value\":0.2},\"x\":{\"field\":\"Hour\"}},\"id\":\"18399\",\"type\":\"VBar\"},{\"attributes\":{\"data_source\":{\"id\":\"18345\",\"type\":\"ColumnDataSource\"},\"glyph\":{\"id\":\"18428\",\"type\":\"VBar\"},\"hover_glyph\":null,\"muted_glyph\":{\"id\":\"18430\",\"type\":\"VBar\"},\"nonselection_glyph\":{\"id\":\"18429\",\"type\":\"VBar\"},\"selection_glyph\":null,\"view\":{\"id\":\"18432\",\"type\":\"CDSView\"}},\"id\":\"18431\",\"type\":\"GlyphRenderer\"},{\"attributes\":{\"fill_alpha\":{\"value\":0.5},\"fill_color\":{\"value\":\"#1f77b4\"},\"line_alpha\":{\"value\":0.5},\"line_color\":{\"value\":\"#1f77b4\"},\"top\":{\"field\":\"NO PARKING-STREET CLEANING\"},\"width\":{\"value\":0.2},\"x\":{\"field\":\"Hour\"}},\"id\":\"18380\",\"type\":\"VBar\"},{\"attributes\":{\"label\":{\"value\":\"INSP. STICKER-EXPIRED/MISSING\"},\"renderers\":[{\"id\":\"18419\",\"type\":\"GlyphRenderer\"}]},\"id\":\"18446\",\"type\":\"LegendItem\"},{\"attributes\":{},\"id\":\"18353\",\"type\":\"CategoricalScale\"},{\"attributes\":{\"fill_alpha\":{\"value\":0.1},\"fill_color\":{\"value\":\"#1f77b4\"},\"line_alpha\":{\"value\":0.1},\"line_color\":{\"value\":\"#1f77b4\"},\"top\":{\"field\":\"FAIL TO DSPLY MUNI METER RECPT\"},\"width\":{\"value\":0.2},\"x\":{\"field\":\"Hour\"}},\"id\":\"18387\",\"type\":\"VBar\"},{\"attributes\":{},\"id\":\"18369\",\"type\":\"SaveTool\"},{\"attributes\":{\"callback\":null},\"id\":\"18351\",\"type\":\"DataRange1d\"},{\"attributes\":{\"fill_alpha\":{\"value\":0.05},\"fill_color\":{\"value\":\"#ffbb78\"},\"line_alpha\":{\"value\":0.05},\"line_color\":{\"value\":\"#ffbb78\"},\"top\":{\"field\":\"NO PARKING-DAY/TIME LIMITS\"},\"width\":{\"value\":0.2},\"x\":{\"field\":\"Hour\"}},\"id\":\"18400\",\"type\":\"VBar\"},{\"attributes\":{\"overlay\":{\"id\":\"18849\",\"type\":\"BoxAnnotation\"}},\"id\":\"18368\",\"type\":\"BoxZoomTool\"},{\"attributes\":{\"callback\":null,\"data\":{\"DOUBLE PARKING\":{\"__ndarray__\":\"AAAAAAA4gUAAAAAAABB6QAAAAAAAcHVAAAAAAAAgbUAAAAAAACBlQAAAAAAAwIlAAAAAAACoo0AAAAAAAFSjQAAAAAAARrNAAAAAAABavkAAAAAAgCTKQAAAAAAANMdAAAAAAIBJykAAAAAAAN7SQAAAAACA08pAAAAAAIDdwEAAAAAAAM63QAAAAAAABLFAAAAAAAAQoUAAAAAAABCIQAAAAAAARJZAAAAAAADAk0AAAAAAALiNQAAAAAAAEH9A\",\"dtype\":\"float64\",\"shape\":[24]},\"EXPIRED MUNI METER\":{\"__ndarray__\":\"AAAAAAAA+H8AAAAAAADwPwAAAAAAAPh/AAAAAAAA+H8AAAAAAAD4fwAAAAAAAPA/AAAAAAAA+H8AAAAAAAAuQAAAAAAAoHBAAAAAAABcmUAAAAAAALi5QAAAAAAA7sBAAAAAAADjyUAAAAAAAHrRQAAAAADAjtBAAAAAAIC/xUAAAAAAADbEQAAAAAAAPrtAAAAAAAD8m0AAAAAAAFB2QAAAAAAAeIhAAAAAAACQhEAAAAAAAABTQAAAAAAAACZA\",\"dtype\":\"float64\",\"shape\":[24]},\"FAIL TO DSPLY MUNI METER RECPT\":{\"__ndarray__\":\"AAAAAAAA8D8AAAAAAADwPwAAAAAAAPA/AAAAAAAA+H8AAAAAAADwPwAAAAAAAPh/AAAAAAAAHEAAAAAAAJCIQAAAAAAAUsZAAAAAAMB91UAAAAAAACzYQAAAAADAT9NAAAAAAECN2UAAAAAAwCLhQAAAAAAAoN1AAAAAAMB40kAAAAAAwBnSQAAAAAAAHshAAAAAAAAzsEAAAAAAAACQQAAAAAAAjKtAAAAAAADsqUAAAAAAANB4QAAAAAAAYG9A\",\"dtype\":\"float64\",\"shape\":[24]},\"FAILURE TO STOP AT RED LIGHT\":{\"__ndarray__\":\"AAAAAABwmkAAAAAAAFyUQAAAAAAAwIhAAAAAAAAYikAAAAAAADiNQAAAAAAAJJVAAAAAAACCo0AAAAAAAJKrQAAAAAAALrFAAAAAAADFsUAAAAAAACS0QAAAAAAAE7dAAAAAAAAUuEAAAAAAAGy5QAAAAAAA47tAAAAAAAAdvUAAAAAAAOu7QAAAAAAAvrdAAAAAAACAtUAAAAAAANmwQAAAAAAAnKpAAAAAAAAEp0AAAAAAAOykQAAAAAAAOqFA\",\"dtype\":\"float64\",\"shape\":[24]},\"FIRE HYDRANT\":{\"__ndarray__\":\"AAAAAAD0nkAAAAAAAOifQAAAAAAA0qJAAAAAAABcmUAAAAAAAMiOQAAAAAAAh7ZAAAAAAICpyUAAAAAAAKm/QAAAAAAApbtAAAAAAAAKu0AAAAAAAFi+QAAAAAAADLtAAAAAAAA7ukAAAAAAgHbBQAAAAAAAtr5AAAAAAAAntEAAAAAAAKqqQAAAAAAAHKRAAAAAAADIlUAAAAAAADiDQAAAAAAAzqJAAAAAAADEpUAAAAAAAHSjQAAAAAAAzJlA\",\"dtype\":\"float64\",\"shape\":[24]},\"Hour\":[0,1,2,3,4,5,6,7,8,9,10,11,12,13,14,15,16,17,18,19,20,21,22,23],\"INSP. STICKER-EXPIRED/MISSING\":{\"__ndarray__\":\"AAAAAAAAckAAAAAAAABvQAAAAAAA0HNAAAAAAAAgaEAAAAAAAEBWQAAAAAAAeINAAAAAAADCqUAAAAAAAOG2QAAAAAAABMNAAAAAAADJxEAAAAAAgOvFQAAAAACAn8VAAAAAAAB3xEAAAAAAAFvJQAAAAACAeMdAAAAAAABnwEAAAAAAABm4QAAAAAAA8qpAAAAAAAAMlUAAAAAAAIBmQAAAAAAAEIFAAAAAAACgfUAAAAAAANBwQAAAAAAAoG1A\",\"dtype\":\"float64\",\"shape\":[24]},\"NO PARKING-DAY/TIME LIMITS\":{\"__ndarray__\":\"AAAAAAD8kEAAAAAAALiPQAAAAAAAsI5AAAAAAABgh0AAAAAAAJB3QAAAAAAA/KNAAAAAAADmuUAAAAAAAGS/QAAAAAAAZ8tAAAAAAIDpyUAAAAAAALTLQAAAAACA2MZAAAAAAIAFy0AAAAAAwB7UQAAAAACAidBAAAAAAICpxUAAAAAAADK8QAAAAAAAYbhAAAAAAABwm0AAAAAAANiCQAAAAAAATqBAAAAAAACYm0AAAAAAAFSXQAAAAAAAKJFA\",\"dtype\":\"float64\",\"shape\":[24]},\"NO PARKING-STREET CLEANING\":{\"__ndarray__\":\"AAAAAAA6tEAAAAAAAHKuQAAAAAAAmJxAAAAAAACio0AAAAAAAOiCQAAAAAAAIJdAAAAAAAB4kUAAAAAAQJXWQAAAAABg5fVAAAAAADAQ9UAAAAAAAPDZQAAAAABAQvRAAAAAAICO4EAAAAAAAGCbQAAAAAAAADFAAAAAAAAAKkAAAAAAAAAsQAAAAAAAADRAAAAAAAAAEEAAAAAAAAAUQAAAAAAAABxAAAAAAAAALEAAAAAAAAAuQAAAAAAAADlA\",\"dtype\":\"float64\",\"shape\":[24]},\"NO STANDING-BUS STOP\":{\"__ndarray__\":\"AAAAAAAAfUAAAAAAAOB9QAAAAAAAcHpAAAAAAACQdEAAAAAAAMBkQAAAAAAAOItAAAAAAAAko0AAAAAAAMymQAAAAAAA/KtAAAAAAAAdsUAAAAAAAOC4QAAAAAAAm7dAAAAAAAALuUAAAAAAAK69QAAAAAAADLhAAAAAAABasEAAAAAAADyoQAAAAAAA5qFAAAAAAADsk0AAAAAAAKB+QAAAAAAACI9AAAAAAAAYiUAAAAAAAMiGQAAAAAAAQHxA\",\"dtype\":\"float64\",\"shape\":[24]},\"NO STANDING-DAY/TIME LIMITS\":{\"__ndarray__\":\"AAAAAACslkAAAAAAAFiWQAAAAAAAEI1AAAAAAACYhEAAAAAAAKB5QAAAAAAA1KdAAAAAAAClvUAAAAAAgGfVQAAAAACAHtBAAAAAAABb0kAAAAAAgKrNQAAAAACATspAAAAAAACCyUAAAAAAQODSQAAAAABAi9BAAAAAAICzyUAAAAAAgKHQQAAAAAAA6L9AAAAAAABVsUAAAAAAAPCNQAAAAAAA7KFAAAAAAAB4mkAAAAAAAKiYQAAAAAAA/J9A\",\"dtype\":\"float64\",\"shape\":[24]},\"index\":[0,1,2,3,4,5,6,7,8,9,10,11,12,13,14,15,16,17,18,19,20,21,22,23]},\"selected\":{\"id\":\"18848\",\"type\":\"Selection\"},\"selection_policy\":{\"id\":\"18847\",\"type\":\"UnionRenderers\"}},\"id\":\"18345\",\"type\":\"ColumnDataSource\"},{\"attributes\":{\"source\":{\"id\":\"18345\",\"type\":\"ColumnDataSource\"}},\"id\":\"18432\",\"type\":\"CDSView\"},{\"attributes\":{\"label\":{\"value\":\"DOUBLE PARKING\"},\"renderers\":[{\"id\":\"18407\",\"type\":\"GlyphRenderer\"}]},\"id\":\"18444\",\"type\":\"LegendItem\"},{\"attributes\":{\"fill_alpha\":{\"value\":0.1},\"fill_color\":{\"value\":\"#1f77b4\"},\"line_alpha\":{\"value\":0.1},\"line_color\":{\"value\":\"#1f77b4\"},\"top\":{\"field\":\"FIRE HYDRANT\"},\"width\":{\"value\":0.2},\"x\":{\"field\":\"Hour\"}},\"id\":\"18411\",\"type\":\"VBar\"},{\"attributes\":{\"data_source\":{\"id\":\"18345\",\"type\":\"ColumnDataSource\"},\"glyph\":{\"id\":\"18398\",\"type\":\"VBar\"},\"hover_glyph\":null,\"muted_glyph\":{\"id\":\"18400\",\"type\":\"VBar\"},\"nonselection_glyph\":{\"id\":\"18399\",\"type\":\"VBar\"},\"selection_glyph\":null,\"view\":{\"id\":\"18402\",\"type\":\"CDSView\"}},\"id\":\"18401\",\"type\":\"GlyphRenderer\"},{\"attributes\":{\"fill_alpha\":{\"value\":0.05},\"fill_color\":{\"value\":\"#98df8a\"},\"line_alpha\":{\"value\":0.05},\"line_color\":{\"value\":\"#98df8a\"},\"top\":{\"field\":\"FIRE HYDRANT\"},\"width\":{\"value\":0.2},\"x\":{\"field\":\"Hour\"}},\"id\":\"18412\",\"type\":\"VBar\"},{\"attributes\":{\"fill_alpha\":{\"value\":0.05},\"fill_color\":{\"value\":\"#d62728\"},\"line_alpha\":{\"value\":0.05},\"line_color\":{\"value\":\"#d62728\"},\"top\":{\"field\":\"INSP. STICKER-EXPIRED/MISSING\"},\"width\":{\"value\":0.2},\"x\":{\"field\":\"Hour\"}},\"id\":\"18418\",\"type\":\"VBar\"},{\"attributes\":{\"fill_alpha\":{\"value\":0.1},\"fill_color\":{\"value\":\"#1f77b4\"},\"line_alpha\":{\"value\":0.1},\"line_color\":{\"value\":\"#1f77b4\"},\"top\":{\"field\":\"NO STANDING-DAY/TIME LIMITS\"},\"width\":{\"value\":0.2},\"x\":{\"field\":\"Hour\"}},\"id\":\"18393\",\"type\":\"VBar\"},{\"attributes\":{\"source\":{\"id\":\"18345\",\"type\":\"ColumnDataSource\"}},\"id\":\"18426\",\"type\":\"CDSView\"},{\"attributes\":{\"label\":{\"value\":\"NO PARKING-DAY/TIME LIMITS\"},\"renderers\":[{\"id\":\"18401\",\"type\":\"GlyphRenderer\"}]},\"id\":\"18443\",\"type\":\"LegendItem\"},{\"attributes\":{\"fill_alpha\":{\"value\":0.5},\"fill_color\":{\"value\":\"#aec7e8\"},\"line_alpha\":{\"value\":0.5},\"line_color\":{\"value\":\"#aec7e8\"},\"top\":{\"field\":\"FAIL TO DSPLY MUNI METER RECPT\"},\"width\":{\"value\":0.2},\"x\":{\"field\":\"Hour\"}},\"id\":\"18386\",\"type\":\"VBar\"},{\"attributes\":{\"source\":{\"id\":\"18345\",\"type\":\"ColumnDataSource\"}},\"id\":\"18396\",\"type\":\"CDSView\"},{\"attributes\":{\"label\":{\"value\":\"FIRE HYDRANT\"},\"renderers\":[{\"id\":\"18413\",\"type\":\"GlyphRenderer\"}]},\"id\":\"18445\",\"type\":\"LegendItem\"},{\"attributes\":{\"fill_alpha\":{\"value\":0.05},\"fill_color\":{\"value\":\"#2ca02c\"},\"line_alpha\":{\"value\":0.05},\"line_color\":{\"value\":\"#2ca02c\"},\"top\":{\"field\":\"DOUBLE PARKING\"},\"width\":{\"value\":0.2},\"x\":{\"field\":\"Hour\"}},\"id\":\"18406\",\"type\":\"VBar\"},{\"attributes\":{\"fill_alpha\":{\"value\":0.5},\"fill_color\":{\"value\":\"#ff7f0e\"},\"line_alpha\":{\"value\":0.5},\"line_color\":{\"value\":\"#ff7f0e\"},\"top\":{\"field\":\"NO STANDING-DAY/TIME LIMITS\"},\"width\":{\"value\":0.2},\"x\":{\"field\":\"Hour\"}},\"id\":\"18392\",\"type\":\"VBar\"}],\"root_ids\":[\"18347\"]},\"title\":\"Bokeh Application\",\"version\":\"1.3.4\"}};\n",
       "  var render_items = [{\"docid\":\"1ec1cc76-da8d-4bfb-8020-4a895c204e8c\",\"roots\":{\"18347\":\"d01550d1-3e7a-40aa-b760-c3c61cb3c682\"}}];\n",
       "  root.Bokeh.embed.embed_items_notebook(docs_json, render_items);\n",
       "\n",
       "  }\n",
       "  if (root.Bokeh !== undefined) {\n",
       "    embed_document(root);\n",
       "  } else {\n",
       "    var attempts = 0;\n",
       "    var timer = setInterval(function(root) {\n",
       "      if (root.Bokeh !== undefined) {\n",
       "        embed_document(root);\n",
       "        clearInterval(timer);\n",
       "      }\n",
       "      attempts++;\n",
       "      if (attempts > 100) {\n",
       "        console.log(\"Bokeh: ERROR: Unable to run BokehJS code because BokehJS library is missing\");\n",
       "        clearInterval(timer);\n",
       "      }\n",
       "    }, 10, root)\n",
       "  }\n",
       "})(window);"
      ],
      "application/vnd.bokehjs_exec.v0+json": ""
     },
     "metadata": {
      "application/vnd.bokehjs_exec.v0+json": {
       "id": "18347"
      }
     },
     "output_type": "display_data"
    }
   ],
   "source": [
    "bokeh(df,\"Hour\")\n",
    "#Output to html\n",
    "#output_file('hour.html', mode='inline')"
   ]
  },
  {
   "cell_type": "code",
   "execution_count": 286,
   "metadata": {},
   "outputs": [
    {
     "data": {
      "text/html": [
       "\n",
       "\n",
       "\n",
       "\n",
       "\n",
       "\n",
       "  <div class=\"bk-root\" id=\"07e31e7f-8a74-4505-834c-2ee680cb495b\" data-root-id=\"18900\"></div>\n"
      ]
     },
     "metadata": {},
     "output_type": "display_data"
    },
    {
     "data": {
      "application/javascript": [
       "(function(root) {\n",
       "  function embed_document(root) {\n",
       "    \n",
       "  var docs_json = {\"8b4d5579-b96a-4ae7-9d2c-0140eda89cc5\":{\"roots\":{\"references\":[{\"attributes\":{\"below\":[{\"id\":\"18910\",\"type\":\"CategoricalAxis\"}],\"center\":[{\"id\":\"18913\",\"type\":\"Grid\"},{\"id\":\"18918\",\"type\":\"Grid\"}],\"left\":[{\"id\":\"18914\",\"type\":\"LinearAxis\"},{\"id\":\"18992\",\"type\":\"Legend\"}],\"plot_height\":500,\"plot_width\":1200,\"renderers\":[{\"id\":\"18936\",\"type\":\"GlyphRenderer\"},{\"id\":\"18942\",\"type\":\"GlyphRenderer\"},{\"id\":\"18948\",\"type\":\"GlyphRenderer\"},{\"id\":\"18954\",\"type\":\"GlyphRenderer\"},{\"id\":\"18960\",\"type\":\"GlyphRenderer\"},{\"id\":\"18966\",\"type\":\"GlyphRenderer\"},{\"id\":\"18972\",\"type\":\"GlyphRenderer\"},{\"id\":\"18978\",\"type\":\"GlyphRenderer\"},{\"id\":\"18984\",\"type\":\"GlyphRenderer\"},{\"id\":\"18990\",\"type\":\"GlyphRenderer\"}],\"title\":{\"id\":\"18901\",\"type\":\"Title\"},\"toolbar\":{\"id\":\"18925\",\"type\":\"Toolbar\"},\"toolbar_location\":null,\"x_range\":{\"id\":\"18899\",\"type\":\"FactorRange\"},\"x_scale\":{\"id\":\"18906\",\"type\":\"CategoricalScale\"},\"y_range\":{\"id\":\"18904\",\"type\":\"DataRange1d\"},\"y_scale\":{\"id\":\"18908\",\"type\":\"LinearScale\"}},\"id\":\"18900\",\"subtype\":\"Figure\",\"type\":\"Plot\"},{\"attributes\":{\"label\":{\"value\":\"INSP. STICKER-EXPIRED/MISSING\"},\"renderers\":[{\"id\":\"18972\",\"type\":\"GlyphRenderer\"}]},\"id\":\"18999\",\"type\":\"LegendItem\"},{\"attributes\":{\"data_source\":{\"id\":\"18898\",\"type\":\"ColumnDataSource\"},\"glyph\":{\"id\":\"18981\",\"type\":\"VBar\"},\"hover_glyph\":null,\"muted_glyph\":{\"id\":\"18983\",\"type\":\"VBar\"},\"nonselection_glyph\":{\"id\":\"18982\",\"type\":\"VBar\"},\"selection_glyph\":null,\"view\":{\"id\":\"18985\",\"type\":\"CDSView\"}},\"id\":\"18984\",\"type\":\"GlyphRenderer\"},{\"attributes\":{\"source\":{\"id\":\"18898\",\"type\":\"ColumnDataSource\"}},\"id\":\"18937\",\"type\":\"CDSView\"},{\"attributes\":{\"fill_alpha\":{\"value\":0.5},\"fill_color\":{\"value\":\"#c5b0d5\"},\"line_alpha\":{\"value\":0.5},\"line_color\":{\"value\":\"#c5b0d5\"},\"top\":{\"field\":\"NO STANDING-BUS STOP\"},\"width\":{\"value\":0.2},\"x\":{\"field\":\"month\"}},\"id\":\"18987\",\"type\":\"VBar\"},{\"attributes\":{\"fill_alpha\":{\"value\":0.05},\"fill_color\":{\"value\":\"#98df8a\"},\"line_alpha\":{\"value\":0.05},\"line_color\":{\"value\":\"#98df8a\"},\"top\":{\"field\":\"FIRE HYDRANT\"},\"width\":{\"value\":0.2},\"x\":{\"field\":\"month\"}},\"id\":\"18965\",\"type\":\"VBar\"},{\"attributes\":{\"data_source\":{\"id\":\"18898\",\"type\":\"ColumnDataSource\"},\"glyph\":{\"id\":\"18933\",\"type\":\"VBar\"},\"hover_glyph\":null,\"muted_glyph\":{\"id\":\"18935\",\"type\":\"VBar\"},\"nonselection_glyph\":{\"id\":\"18934\",\"type\":\"VBar\"},\"selection_glyph\":null,\"view\":{\"id\":\"18937\",\"type\":\"CDSView\"}},\"id\":\"18936\",\"type\":\"GlyphRenderer\"},{\"attributes\":{},\"id\":\"19408\",\"type\":\"UnionRenderers\"},{\"attributes\":{},\"id\":\"19409\",\"type\":\"Selection\"},{\"attributes\":{\"source\":{\"id\":\"18898\",\"type\":\"ColumnDataSource\"}},\"id\":\"18979\",\"type\":\"CDSView\"},{\"attributes\":{\"fill_alpha\":{\"value\":0.5},\"fill_color\":{\"value\":\"#aec7e8\"},\"line_alpha\":{\"value\":0.5},\"line_color\":{\"value\":\"#aec7e8\"},\"top\":{\"field\":\"FAIL TO DSPLY MUNI METER RECPT\"},\"width\":{\"value\":0.2},\"x\":{\"field\":\"month\"}},\"id\":\"18939\",\"type\":\"VBar\"},{\"attributes\":{\"fill_alpha\":{\"value\":0.5},\"fill_color\":{\"value\":\"#2ca02c\"},\"line_alpha\":{\"value\":0.5},\"line_color\":{\"value\":\"#2ca02c\"},\"top\":{\"field\":\"DOUBLE PARKING\"},\"width\":{\"value\":0.2},\"x\":{\"field\":\"month\"}},\"id\":\"18957\",\"type\":\"VBar\"},{\"attributes\":{\"source\":{\"id\":\"18898\",\"type\":\"ColumnDataSource\"}},\"id\":\"18973\",\"type\":\"CDSView\"},{\"attributes\":{\"label\":{\"value\":\"DOUBLE PARKING\"},\"renderers\":[{\"id\":\"18960\",\"type\":\"GlyphRenderer\"}]},\"id\":\"18997\",\"type\":\"LegendItem\"},{\"attributes\":{},\"id\":\"18919\",\"type\":\"PanTool\"},{\"attributes\":{\"label\":{\"value\":\"NO PARKING-STREET CLEANING\"},\"renderers\":[{\"id\":\"18936\",\"type\":\"GlyphRenderer\"}]},\"id\":\"18993\",\"type\":\"LegendItem\"},{\"attributes\":{\"fill_alpha\":{\"value\":0.05},\"fill_color\":{\"value\":\"#ff9896\"},\"line_alpha\":{\"value\":0.05},\"line_color\":{\"value\":\"#ff9896\"},\"top\":{\"field\":\"EXPIRED MUNI METER\"},\"width\":{\"value\":0.2},\"x\":{\"field\":\"month\"}},\"id\":\"18977\",\"type\":\"VBar\"},{\"attributes\":{\"fill_alpha\":{\"value\":0.05},\"fill_color\":{\"value\":\"#1f77b4\"},\"line_alpha\":{\"value\":0.05},\"line_color\":{\"value\":\"#1f77b4\"},\"top\":{\"field\":\"NO PARKING-STREET CLEANING\"},\"width\":{\"value\":0.2},\"x\":{\"field\":\"month\"}},\"id\":\"18935\",\"type\":\"VBar\"},{\"attributes\":{\"fill_alpha\":{\"value\":0.5},\"fill_color\":{\"value\":\"#ff7f0e\"},\"line_alpha\":{\"value\":0.5},\"line_color\":{\"value\":\"#ff7f0e\"},\"top\":{\"field\":\"NO STANDING-DAY/TIME LIMITS\"},\"width\":{\"value\":0.2},\"x\":{\"field\":\"month\"}},\"id\":\"18945\",\"type\":\"VBar\"},{\"attributes\":{},\"id\":\"19405\",\"type\":\"CategoricalTickFormatter\"},{\"attributes\":{\"fill_alpha\":{\"value\":0.1},\"fill_color\":{\"value\":\"#1f77b4\"},\"line_alpha\":{\"value\":0.1},\"line_color\":{\"value\":\"#1f77b4\"},\"top\":{\"field\":\"NO STANDING-DAY/TIME LIMITS\"},\"width\":{\"value\":0.2},\"x\":{\"field\":\"month\"}},\"id\":\"18946\",\"type\":\"VBar\"},{\"attributes\":{\"data_source\":{\"id\":\"18898\",\"type\":\"ColumnDataSource\"},\"glyph\":{\"id\":\"18969\",\"type\":\"VBar\"},\"hover_glyph\":null,\"muted_glyph\":{\"id\":\"18971\",\"type\":\"VBar\"},\"nonselection_glyph\":{\"id\":\"18970\",\"type\":\"VBar\"},\"selection_glyph\":null,\"view\":{\"id\":\"18973\",\"type\":\"CDSView\"}},\"id\":\"18972\",\"type\":\"GlyphRenderer\"},{\"attributes\":{\"fill_alpha\":{\"value\":0.5},\"fill_color\":{\"value\":\"#98df8a\"},\"line_alpha\":{\"value\":0.5},\"line_color\":{\"value\":\"#98df8a\"},\"top\":{\"field\":\"FIRE HYDRANT\"},\"width\":{\"value\":0.2},\"x\":{\"field\":\"month\"}},\"id\":\"18963\",\"type\":\"VBar\"},{\"attributes\":{},\"id\":\"19407\",\"type\":\"BasicTickFormatter\"},{\"attributes\":{\"data_source\":{\"id\":\"18898\",\"type\":\"ColumnDataSource\"},\"glyph\":{\"id\":\"18963\",\"type\":\"VBar\"},\"hover_glyph\":null,\"muted_glyph\":{\"id\":\"18965\",\"type\":\"VBar\"},\"nonselection_glyph\":{\"id\":\"18964\",\"type\":\"VBar\"},\"selection_glyph\":null,\"view\":{\"id\":\"18967\",\"type\":\"CDSView\"}},\"id\":\"18966\",\"type\":\"GlyphRenderer\"},{\"attributes\":{\"fill_alpha\":{\"value\":0.05},\"fill_color\":{\"value\":\"#d62728\"},\"line_alpha\":{\"value\":0.05},\"line_color\":{\"value\":\"#d62728\"},\"top\":{\"field\":\"INSP. STICKER-EXPIRED/MISSING\"},\"width\":{\"value\":0.2},\"x\":{\"field\":\"month\"}},\"id\":\"18971\",\"type\":\"VBar\"},{\"attributes\":{\"active_drag\":\"auto\",\"active_inspect\":\"auto\",\"active_multi\":null,\"active_scroll\":\"auto\",\"active_tap\":\"auto\",\"tools\":[{\"id\":\"18919\",\"type\":\"PanTool\"},{\"id\":\"18920\",\"type\":\"WheelZoomTool\"},{\"id\":\"18921\",\"type\":\"BoxZoomTool\"},{\"id\":\"18922\",\"type\":\"SaveTool\"},{\"id\":\"18923\",\"type\":\"ResetTool\"},{\"id\":\"18924\",\"type\":\"HelpTool\"}]},\"id\":\"18925\",\"type\":\"Toolbar\"},{\"attributes\":{\"click_policy\":\"mute\",\"items\":[{\"id\":\"18993\",\"type\":\"LegendItem\"},{\"id\":\"18994\",\"type\":\"LegendItem\"},{\"id\":\"18995\",\"type\":\"LegendItem\"},{\"id\":\"18996\",\"type\":\"LegendItem\"},{\"id\":\"18997\",\"type\":\"LegendItem\"},{\"id\":\"18998\",\"type\":\"LegendItem\"},{\"id\":\"18999\",\"type\":\"LegendItem\"},{\"id\":\"19000\",\"type\":\"LegendItem\"},{\"id\":\"19001\",\"type\":\"LegendItem\"},{\"id\":\"19002\",\"type\":\"LegendItem\"}],\"location\":[0,50]},\"id\":\"18992\",\"type\":\"Legend\"},{\"attributes\":{\"source\":{\"id\":\"18898\",\"type\":\"ColumnDataSource\"}},\"id\":\"18961\",\"type\":\"CDSView\"},{\"attributes\":{\"fill_alpha\":{\"value\":0.5},\"fill_color\":{\"value\":\"#1f77b4\"},\"line_alpha\":{\"value\":0.5},\"line_color\":{\"value\":\"#1f77b4\"},\"top\":{\"field\":\"NO PARKING-STREET CLEANING\"},\"width\":{\"value\":0.2},\"x\":{\"field\":\"month\"}},\"id\":\"18933\",\"type\":\"VBar\"},{\"attributes\":{\"fill_alpha\":{\"value\":0.05},\"fill_color\":{\"value\":\"#aec7e8\"},\"line_alpha\":{\"value\":0.05},\"line_color\":{\"value\":\"#aec7e8\"},\"top\":{\"field\":\"FAIL TO DSPLY MUNI METER RECPT\"},\"width\":{\"value\":0.2},\"x\":{\"field\":\"month\"}},\"id\":\"18941\",\"type\":\"VBar\"},{\"attributes\":{\"label\":{\"value\":\"NO STANDING-BUS STOP\"},\"renderers\":[{\"id\":\"18990\",\"type\":\"GlyphRenderer\"}]},\"id\":\"19002\",\"type\":\"LegendItem\"},{\"attributes\":{\"data_source\":{\"id\":\"18898\",\"type\":\"ColumnDataSource\"},\"glyph\":{\"id\":\"18939\",\"type\":\"VBar\"},\"hover_glyph\":null,\"muted_glyph\":{\"id\":\"18941\",\"type\":\"VBar\"},\"nonselection_glyph\":{\"id\":\"18940\",\"type\":\"VBar\"},\"selection_glyph\":null,\"view\":{\"id\":\"18943\",\"type\":\"CDSView\"}},\"id\":\"18942\",\"type\":\"GlyphRenderer\"},{\"attributes\":{\"label\":{\"value\":\"FIRE HYDRANT\"},\"renderers\":[{\"id\":\"18966\",\"type\":\"GlyphRenderer\"}]},\"id\":\"18998\",\"type\":\"LegendItem\"},{\"attributes\":{\"fill_alpha\":{\"value\":0.1},\"fill_color\":{\"value\":\"#1f77b4\"},\"line_alpha\":{\"value\":0.1},\"line_color\":{\"value\":\"#1f77b4\"},\"top\":{\"field\":\"FIRE HYDRANT\"},\"width\":{\"value\":0.2},\"x\":{\"field\":\"month\"}},\"id\":\"18964\",\"type\":\"VBar\"},{\"attributes\":{\"fill_alpha\":{\"value\":0.05},\"fill_color\":{\"value\":\"#9467bd\"},\"line_alpha\":{\"value\":0.05},\"line_color\":{\"value\":\"#9467bd\"},\"top\":{\"field\":\"FAILURE TO STOP AT RED LIGHT\"},\"width\":{\"value\":0.2},\"x\":{\"field\":\"month\"}},\"id\":\"18983\",\"type\":\"VBar\"},{\"attributes\":{\"data_source\":{\"id\":\"18898\",\"type\":\"ColumnDataSource\"},\"glyph\":{\"id\":\"18987\",\"type\":\"VBar\"},\"hover_glyph\":null,\"muted_glyph\":{\"id\":\"18989\",\"type\":\"VBar\"},\"nonselection_glyph\":{\"id\":\"18988\",\"type\":\"VBar\"},\"selection_glyph\":null,\"view\":{\"id\":\"18991\",\"type\":\"CDSView\"}},\"id\":\"18990\",\"type\":\"GlyphRenderer\"},{\"attributes\":{\"label\":{\"value\":\"NO PARKING-DAY/TIME LIMITS\"},\"renderers\":[{\"id\":\"18954\",\"type\":\"GlyphRenderer\"}]},\"id\":\"18996\",\"type\":\"LegendItem\"},{\"attributes\":{\"data_source\":{\"id\":\"18898\",\"type\":\"ColumnDataSource\"},\"glyph\":{\"id\":\"18975\",\"type\":\"VBar\"},\"hover_glyph\":null,\"muted_glyph\":{\"id\":\"18977\",\"type\":\"VBar\"},\"nonselection_glyph\":{\"id\":\"18976\",\"type\":\"VBar\"},\"selection_glyph\":null,\"view\":{\"id\":\"18979\",\"type\":\"CDSView\"}},\"id\":\"18978\",\"type\":\"GlyphRenderer\"},{\"attributes\":{\"callback\":null,\"data\":{\"DOUBLE PARKING\":[10312,9081,10141,8859,9265,8313,10386,10817,9773,12159,10456,8624],\"EXPIRED MUNI METER\":[8138,7772,8593,7881,7555,6826,8245,8768,8163,10120,8332,7003],\"FAIL TO DSPLY MUNI METER RECPT\":[21606,19040,19521,17731,16790,16207,19561,20910,18574,23757,21323,17795],\"FAILURE TO STOP AT RED LIGHT\":[5958,5861,6993,6658,8551,9013,9744,9813,8558,8781,7363,7194],\"FIRE HYDRANT\":[9711,8565,8998,8550,8415,8172,8899,9398,9360,11447,10395,8839],\"INSP. STICKER-EXPIRED/MISSING\":[10404,7767,8006,8186,8671,8352,10031,9920,9587,10756,9344,9106],\"NO PARKING-DAY/TIME LIMITS\":[13427,11382,12172,11772,11316,11165,14627,15624,14444,16754,14619,12034],\"NO PARKING-STREET CLEANING\":[33914,23066,27831,25182,32072,24949,37772,33228,24691,34908,29875,33553],\"NO STANDING-BUS STOP\":[5455,5159,5512,5255,5104,4765,5110,5346,4791,5922,5590,4950],\"NO STANDING-DAY/TIME LIMITS\":[17287,15332,17362,16251,16010,14675,17215,18191,16342,19875,18184,15368],\"index\":[0,1,2,3,4,5,6,7,8,9,10,11],\"month\":[1,2,3,4,5,6,7,8,9,10,11,12]},\"selected\":{\"id\":\"19409\",\"type\":\"Selection\"},\"selection_policy\":{\"id\":\"19408\",\"type\":\"UnionRenderers\"}},\"id\":\"18898\",\"type\":\"ColumnDataSource\"},{\"attributes\":{\"source\":{\"id\":\"18898\",\"type\":\"ColumnDataSource\"}},\"id\":\"18943\",\"type\":\"CDSView\"},{\"attributes\":{\"fill_alpha\":{\"value\":0.1},\"fill_color\":{\"value\":\"#1f77b4\"},\"line_alpha\":{\"value\":0.1},\"line_color\":{\"value\":\"#1f77b4\"},\"top\":{\"field\":\"DOUBLE PARKING\"},\"width\":{\"value\":0.2},\"x\":{\"field\":\"month\"}},\"id\":\"18958\",\"type\":\"VBar\"},{\"attributes\":{\"fill_alpha\":{\"value\":0.05},\"fill_color\":{\"value\":\"#c5b0d5\"},\"line_alpha\":{\"value\":0.05},\"line_color\":{\"value\":\"#c5b0d5\"},\"top\":{\"field\":\"NO STANDING-BUS STOP\"},\"width\":{\"value\":0.2},\"x\":{\"field\":\"month\"}},\"id\":\"18989\",\"type\":\"VBar\"},{\"attributes\":{},\"id\":\"18906\",\"type\":\"CategoricalScale\"},{\"attributes\":{\"source\":{\"id\":\"18898\",\"type\":\"ColumnDataSource\"}},\"id\":\"18967\",\"type\":\"CDSView\"},{\"attributes\":{\"fill_alpha\":{\"value\":0.1},\"fill_color\":{\"value\":\"#1f77b4\"},\"line_alpha\":{\"value\":0.1},\"line_color\":{\"value\":\"#1f77b4\"},\"top\":{\"field\":\"INSP. STICKER-EXPIRED/MISSING\"},\"width\":{\"value\":0.2},\"x\":{\"field\":\"month\"}},\"id\":\"18970\",\"type\":\"VBar\"},{\"attributes\":{\"label\":{\"value\":\"FAIL TO DSPLY MUNI METER RECPT\"},\"renderers\":[{\"id\":\"18942\",\"type\":\"GlyphRenderer\"}]},\"id\":\"18994\",\"type\":\"LegendItem\"},{\"attributes\":{\"data_source\":{\"id\":\"18898\",\"type\":\"ColumnDataSource\"},\"glyph\":{\"id\":\"18951\",\"type\":\"VBar\"},\"hover_glyph\":null,\"muted_glyph\":{\"id\":\"18953\",\"type\":\"VBar\"},\"nonselection_glyph\":{\"id\":\"18952\",\"type\":\"VBar\"},\"selection_glyph\":null,\"view\":{\"id\":\"18955\",\"type\":\"CDSView\"}},\"id\":\"18954\",\"type\":\"GlyphRenderer\"},{\"attributes\":{\"fill_alpha\":{\"value\":0.05},\"fill_color\":{\"value\":\"#2ca02c\"},\"line_alpha\":{\"value\":0.05},\"line_color\":{\"value\":\"#2ca02c\"},\"top\":{\"field\":\"DOUBLE PARKING\"},\"width\":{\"value\":0.2},\"x\":{\"field\":\"month\"}},\"id\":\"18959\",\"type\":\"VBar\"},{\"attributes\":{},\"id\":\"18924\",\"type\":\"HelpTool\"},{\"attributes\":{\"fill_alpha\":{\"value\":0.1},\"fill_color\":{\"value\":\"#1f77b4\"},\"line_alpha\":{\"value\":0.1},\"line_color\":{\"value\":\"#1f77b4\"},\"top\":{\"field\":\"FAILURE TO STOP AT RED LIGHT\"},\"width\":{\"value\":0.2},\"x\":{\"field\":\"month\"}},\"id\":\"18982\",\"type\":\"VBar\"},{\"attributes\":{\"fill_alpha\":{\"value\":0.1},\"fill_color\":{\"value\":\"#1f77b4\"},\"line_alpha\":{\"value\":0.1},\"line_color\":{\"value\":\"#1f77b4\"},\"top\":{\"field\":\"NO STANDING-BUS STOP\"},\"width\":{\"value\":0.2},\"x\":{\"field\":\"month\"}},\"id\":\"18988\",\"type\":\"VBar\"},{\"attributes\":{\"label\":{\"value\":\"FAILURE TO STOP AT RED LIGHT\"},\"renderers\":[{\"id\":\"18984\",\"type\":\"GlyphRenderer\"}]},\"id\":\"19001\",\"type\":\"LegendItem\"},{\"attributes\":{},\"id\":\"18908\",\"type\":\"LinearScale\"},{\"attributes\":{\"text\":\"Distibution of # of fines for top 10 violations pr. month\"},\"id\":\"18901\",\"type\":\"Title\"},{\"attributes\":{\"fill_alpha\":{\"value\":0.1},\"fill_color\":{\"value\":\"#1f77b4\"},\"line_alpha\":{\"value\":0.1},\"line_color\":{\"value\":\"#1f77b4\"},\"top\":{\"field\":\"NO PARKING-DAY/TIME LIMITS\"},\"width\":{\"value\":0.2},\"x\":{\"field\":\"month\"}},\"id\":\"18952\",\"type\":\"VBar\"},{\"attributes\":{\"axis_label\":\"# of fines\",\"formatter\":{\"id\":\"19407\",\"type\":\"BasicTickFormatter\"},\"ticker\":{\"id\":\"18915\",\"type\":\"BasicTicker\"}},\"id\":\"18914\",\"type\":\"LinearAxis\"},{\"attributes\":{\"fill_alpha\":{\"value\":0.05},\"fill_color\":{\"value\":\"#ff7f0e\"},\"line_alpha\":{\"value\":0.05},\"line_color\":{\"value\":\"#ff7f0e\"},\"top\":{\"field\":\"NO STANDING-DAY/TIME LIMITS\"},\"width\":{\"value\":0.2},\"x\":{\"field\":\"month\"}},\"id\":\"18947\",\"type\":\"VBar\"},{\"attributes\":{\"overlay\":{\"id\":\"19410\",\"type\":\"BoxAnnotation\"}},\"id\":\"18921\",\"type\":\"BoxZoomTool\"},{\"attributes\":{\"fill_alpha\":{\"value\":0.05},\"fill_color\":{\"value\":\"#ffbb78\"},\"line_alpha\":{\"value\":0.05},\"line_color\":{\"value\":\"#ffbb78\"},\"top\":{\"field\":\"NO PARKING-DAY/TIME LIMITS\"},\"width\":{\"value\":0.2},\"x\":{\"field\":\"month\"}},\"id\":\"18953\",\"type\":\"VBar\"},{\"attributes\":{\"source\":{\"id\":\"18898\",\"type\":\"ColumnDataSource\"}},\"id\":\"18949\",\"type\":\"CDSView\"},{\"attributes\":{\"fill_alpha\":{\"value\":0.1},\"fill_color\":{\"value\":\"#1f77b4\"},\"line_alpha\":{\"value\":0.1},\"line_color\":{\"value\":\"#1f77b4\"},\"top\":{\"field\":\"NO PARKING-STREET CLEANING\"},\"width\":{\"value\":0.2},\"x\":{\"field\":\"month\"}},\"id\":\"18934\",\"type\":\"VBar\"},{\"attributes\":{\"fill_alpha\":{\"value\":0.1},\"fill_color\":{\"value\":\"#1f77b4\"},\"line_alpha\":{\"value\":0.1},\"line_color\":{\"value\":\"#1f77b4\"},\"top\":{\"field\":\"FAIL TO DSPLY MUNI METER RECPT\"},\"width\":{\"value\":0.2},\"x\":{\"field\":\"month\"}},\"id\":\"18940\",\"type\":\"VBar\"},{\"attributes\":{\"data_source\":{\"id\":\"18898\",\"type\":\"ColumnDataSource\"},\"glyph\":{\"id\":\"18957\",\"type\":\"VBar\"},\"hover_glyph\":null,\"muted_glyph\":{\"id\":\"18959\",\"type\":\"VBar\"},\"nonselection_glyph\":{\"id\":\"18958\",\"type\":\"VBar\"},\"selection_glyph\":null,\"view\":{\"id\":\"18961\",\"type\":\"CDSView\"}},\"id\":\"18960\",\"type\":\"GlyphRenderer\"},{\"attributes\":{\"callback\":null,\"factors\":[\"1\",\"2\",\"3\",\"4\",\"5\",\"6\",\"7\",\"8\",\"9\",\"10\",\"11\",\"12\"],\"range_padding\":0.05},\"id\":\"18899\",\"type\":\"FactorRange\"},{\"attributes\":{\"fill_alpha\":{\"value\":0.5},\"fill_color\":{\"value\":\"#9467bd\"},\"line_alpha\":{\"value\":0.5},\"line_color\":{\"value\":\"#9467bd\"},\"top\":{\"field\":\"FAILURE TO STOP AT RED LIGHT\"},\"width\":{\"value\":0.2},\"x\":{\"field\":\"month\"}},\"id\":\"18981\",\"type\":\"VBar\"},{\"attributes\":{},\"id\":\"18920\",\"type\":\"WheelZoomTool\"},{\"attributes\":{\"fill_alpha\":{\"value\":0.1},\"fill_color\":{\"value\":\"#1f77b4\"},\"line_alpha\":{\"value\":0.1},\"line_color\":{\"value\":\"#1f77b4\"},\"top\":{\"field\":\"EXPIRED MUNI METER\"},\"width\":{\"value\":0.2},\"x\":{\"field\":\"month\"}},\"id\":\"18976\",\"type\":\"VBar\"},{\"attributes\":{\"dimension\":1,\"ticker\":{\"id\":\"18915\",\"type\":\"BasicTicker\"}},\"id\":\"18918\",\"type\":\"Grid\"},{\"attributes\":{\"axis_label\":\"month\",\"formatter\":{\"id\":\"19405\",\"type\":\"CategoricalTickFormatter\"},\"ticker\":{\"id\":\"18911\",\"type\":\"CategoricalTicker\"}},\"id\":\"18910\",\"type\":\"CategoricalAxis\"},{\"attributes\":{\"fill_alpha\":{\"value\":0.5},\"fill_color\":{\"value\":\"#d62728\"},\"line_alpha\":{\"value\":0.5},\"line_color\":{\"value\":\"#d62728\"},\"top\":{\"field\":\"INSP. STICKER-EXPIRED/MISSING\"},\"width\":{\"value\":0.2},\"x\":{\"field\":\"month\"}},\"id\":\"18969\",\"type\":\"VBar\"},{\"attributes\":{\"ticker\":{\"id\":\"18911\",\"type\":\"CategoricalTicker\"}},\"id\":\"18913\",\"type\":\"Grid\"},{\"attributes\":{\"source\":{\"id\":\"18898\",\"type\":\"ColumnDataSource\"}},\"id\":\"18991\",\"type\":\"CDSView\"},{\"attributes\":{\"data_source\":{\"id\":\"18898\",\"type\":\"ColumnDataSource\"},\"glyph\":{\"id\":\"18945\",\"type\":\"VBar\"},\"hover_glyph\":null,\"muted_glyph\":{\"id\":\"18947\",\"type\":\"VBar\"},\"nonselection_glyph\":{\"id\":\"18946\",\"type\":\"VBar\"},\"selection_glyph\":null,\"view\":{\"id\":\"18949\",\"type\":\"CDSView\"}},\"id\":\"18948\",\"type\":\"GlyphRenderer\"},{\"attributes\":{\"callback\":null},\"id\":\"18904\",\"type\":\"DataRange1d\"},{\"attributes\":{\"fill_alpha\":{\"value\":0.5},\"fill_color\":{\"value\":\"#ff9896\"},\"line_alpha\":{\"value\":0.5},\"line_color\":{\"value\":\"#ff9896\"},\"top\":{\"field\":\"EXPIRED MUNI METER\"},\"width\":{\"value\":0.2},\"x\":{\"field\":\"month\"}},\"id\":\"18975\",\"type\":\"VBar\"},{\"attributes\":{\"label\":{\"value\":\"NO STANDING-DAY/TIME LIMITS\"},\"renderers\":[{\"id\":\"18948\",\"type\":\"GlyphRenderer\"}]},\"id\":\"18995\",\"type\":\"LegendItem\"},{\"attributes\":{\"bottom_units\":\"screen\",\"fill_alpha\":{\"value\":0.5},\"fill_color\":{\"value\":\"lightgrey\"},\"left_units\":\"screen\",\"level\":\"overlay\",\"line_alpha\":{\"value\":1.0},\"line_color\":{\"value\":\"black\"},\"line_dash\":[4,4],\"line_width\":{\"value\":2},\"render_mode\":\"css\",\"right_units\":\"screen\",\"top_units\":\"screen\"},\"id\":\"19410\",\"type\":\"BoxAnnotation\"},{\"attributes\":{},\"id\":\"18915\",\"type\":\"BasicTicker\"},{\"attributes\":{\"label\":{\"value\":\"EXPIRED MUNI METER\"},\"renderers\":[{\"id\":\"18978\",\"type\":\"GlyphRenderer\"}]},\"id\":\"19000\",\"type\":\"LegendItem\"},{\"attributes\":{\"source\":{\"id\":\"18898\",\"type\":\"ColumnDataSource\"}},\"id\":\"18955\",\"type\":\"CDSView\"},{\"attributes\":{\"fill_alpha\":{\"value\":0.5},\"fill_color\":{\"value\":\"#ffbb78\"},\"line_alpha\":{\"value\":0.5},\"line_color\":{\"value\":\"#ffbb78\"},\"top\":{\"field\":\"NO PARKING-DAY/TIME LIMITS\"},\"width\":{\"value\":0.2},\"x\":{\"field\":\"month\"}},\"id\":\"18951\",\"type\":\"VBar\"},{\"attributes\":{},\"id\":\"18911\",\"type\":\"CategoricalTicker\"},{\"attributes\":{\"source\":{\"id\":\"18898\",\"type\":\"ColumnDataSource\"}},\"id\":\"18985\",\"type\":\"CDSView\"},{\"attributes\":{},\"id\":\"18922\",\"type\":\"SaveTool\"},{\"attributes\":{},\"id\":\"18923\",\"type\":\"ResetTool\"}],\"root_ids\":[\"18900\"]},\"title\":\"Bokeh Application\",\"version\":\"1.3.4\"}};\n",
       "  var render_items = [{\"docid\":\"8b4d5579-b96a-4ae7-9d2c-0140eda89cc5\",\"roots\":{\"18900\":\"07e31e7f-8a74-4505-834c-2ee680cb495b\"}}];\n",
       "  root.Bokeh.embed.embed_items_notebook(docs_json, render_items);\n",
       "\n",
       "  }\n",
       "  if (root.Bokeh !== undefined) {\n",
       "    embed_document(root);\n",
       "  } else {\n",
       "    var attempts = 0;\n",
       "    var timer = setInterval(function(root) {\n",
       "      if (root.Bokeh !== undefined) {\n",
       "        embed_document(root);\n",
       "        clearInterval(timer);\n",
       "      }\n",
       "      attempts++;\n",
       "      if (attempts > 100) {\n",
       "        console.log(\"Bokeh: ERROR: Unable to run BokehJS code because BokehJS library is missing\");\n",
       "        clearInterval(timer);\n",
       "      }\n",
       "    }, 10, root)\n",
       "  }\n",
       "})(window);"
      ],
      "application/vnd.bokehjs_exec.v0+json": ""
     },
     "metadata": {
      "application/vnd.bokehjs_exec.v0+json": {
       "id": "18900"
      }
     },
     "output_type": "display_data"
    }
   ],
   "source": [
    "bokeh(df,\"month\")\n",
    "\n",
    "#Output to html\n",
    "#output_file('month.html', mode='inline')"
   ]
  },
  {
   "cell_type": "code",
   "execution_count": 287,
   "metadata": {},
   "outputs": [
    {
     "data": {
      "text/html": [
       "\n",
       "\n",
       "\n",
       "\n",
       "\n",
       "\n",
       "  <div class=\"bk-root\" id=\"1a37b58d-9261-4d16-bd01-af7bda762d25\" data-root-id=\"19461\"></div>\n"
      ]
     },
     "metadata": {},
     "output_type": "display_data"
    },
    {
     "data": {
      "application/javascript": [
       "(function(root) {\n",
       "  function embed_document(root) {\n",
       "    \n",
       "  var docs_json = {\"693ddfd1-d6e8-41c4-bd0e-2c5dbc81e1e1\":{\"roots\":{\"references\":[{\"attributes\":{\"below\":[{\"id\":\"19471\",\"type\":\"CategoricalAxis\"}],\"center\":[{\"id\":\"19474\",\"type\":\"Grid\"},{\"id\":\"19479\",\"type\":\"Grid\"}],\"left\":[{\"id\":\"19475\",\"type\":\"LinearAxis\"},{\"id\":\"19553\",\"type\":\"Legend\"}],\"plot_height\":500,\"plot_width\":1200,\"renderers\":[{\"id\":\"19497\",\"type\":\"GlyphRenderer\"},{\"id\":\"19503\",\"type\":\"GlyphRenderer\"},{\"id\":\"19509\",\"type\":\"GlyphRenderer\"},{\"id\":\"19515\",\"type\":\"GlyphRenderer\"},{\"id\":\"19521\",\"type\":\"GlyphRenderer\"},{\"id\":\"19527\",\"type\":\"GlyphRenderer\"},{\"id\":\"19533\",\"type\":\"GlyphRenderer\"},{\"id\":\"19539\",\"type\":\"GlyphRenderer\"},{\"id\":\"19545\",\"type\":\"GlyphRenderer\"},{\"id\":\"19551\",\"type\":\"GlyphRenderer\"}],\"title\":{\"id\":\"19462\",\"type\":\"Title\"},\"toolbar\":{\"id\":\"19486\",\"type\":\"Toolbar\"},\"toolbar_location\":null,\"x_range\":{\"id\":\"19460\",\"type\":\"FactorRange\"},\"x_scale\":{\"id\":\"19467\",\"type\":\"CategoricalScale\"},\"y_range\":{\"id\":\"19465\",\"type\":\"DataRange1d\"},\"y_scale\":{\"id\":\"19469\",\"type\":\"LinearScale\"}},\"id\":\"19461\",\"subtype\":\"Figure\",\"type\":\"Plot\"},{\"attributes\":{\"fill_alpha\":{\"value\":0.1},\"fill_color\":{\"value\":\"#1f77b4\"},\"line_alpha\":{\"value\":0.1},\"line_color\":{\"value\":\"#1f77b4\"},\"top\":{\"field\":\"INSP. STICKER-EXPIRED/MISSING\"},\"width\":{\"value\":0.2},\"x\":{\"field\":\"Day\"}},\"id\":\"19531\",\"type\":\"VBar\"},{\"attributes\":{\"data_source\":{\"id\":\"19459\",\"type\":\"ColumnDataSource\"},\"glyph\":{\"id\":\"19512\",\"type\":\"VBar\"},\"hover_glyph\":null,\"muted_glyph\":{\"id\":\"19514\",\"type\":\"VBar\"},\"nonselection_glyph\":{\"id\":\"19513\",\"type\":\"VBar\"},\"selection_glyph\":null,\"view\":{\"id\":\"19516\",\"type\":\"CDSView\"}},\"id\":\"19515\",\"type\":\"GlyphRenderer\"},{\"attributes\":{\"fill_alpha\":{\"value\":0.05},\"fill_color\":{\"value\":\"#2ca02c\"},\"line_alpha\":{\"value\":0.05},\"line_color\":{\"value\":\"#2ca02c\"},\"top\":{\"field\":\"DOUBLE PARKING\"},\"width\":{\"value\":0.2},\"x\":{\"field\":\"Day\"}},\"id\":\"19520\",\"type\":\"VBar\"},{\"attributes\":{},\"id\":\"19484\",\"type\":\"ResetTool\"},{\"attributes\":{\"source\":{\"id\":\"19459\",\"type\":\"ColumnDataSource\"}},\"id\":\"19510\",\"type\":\"CDSView\"},{\"attributes\":{\"fill_alpha\":{\"value\":0.5},\"fill_color\":{\"value\":\"#2ca02c\"},\"line_alpha\":{\"value\":0.5},\"line_color\":{\"value\":\"#2ca02c\"},\"top\":{\"field\":\"DOUBLE PARKING\"},\"width\":{\"value\":0.2},\"x\":{\"field\":\"Day\"}},\"id\":\"19518\",\"type\":\"VBar\"},{\"attributes\":{\"label\":{\"value\":\"NO STANDING-DAY/TIME LIMITS\"},\"renderers\":[{\"id\":\"19509\",\"type\":\"GlyphRenderer\"}]},\"id\":\"19556\",\"type\":\"LegendItem\"},{\"attributes\":{\"axis_label\":\"Day\",\"formatter\":{\"id\":\"19974\",\"type\":\"CategoricalTickFormatter\"},\"ticker\":{\"id\":\"19472\",\"type\":\"CategoricalTicker\"}},\"id\":\"19471\",\"type\":\"CategoricalAxis\"},{\"attributes\":{\"fill_alpha\":{\"value\":0.05},\"fill_color\":{\"value\":\"#ff7f0e\"},\"line_alpha\":{\"value\":0.05},\"line_color\":{\"value\":\"#ff7f0e\"},\"top\":{\"field\":\"NO STANDING-DAY/TIME LIMITS\"},\"width\":{\"value\":0.2},\"x\":{\"field\":\"Day\"}},\"id\":\"19508\",\"type\":\"VBar\"},{\"attributes\":{\"fill_alpha\":{\"value\":0.05},\"fill_color\":{\"value\":\"#9467bd\"},\"line_alpha\":{\"value\":0.05},\"line_color\":{\"value\":\"#9467bd\"},\"top\":{\"field\":\"FAILURE TO STOP AT RED LIGHT\"},\"width\":{\"value\":0.2},\"x\":{\"field\":\"Day\"}},\"id\":\"19544\",\"type\":\"VBar\"},{\"attributes\":{\"data_source\":{\"id\":\"19459\",\"type\":\"ColumnDataSource\"},\"glyph\":{\"id\":\"19500\",\"type\":\"VBar\"},\"hover_glyph\":null,\"muted_glyph\":{\"id\":\"19502\",\"type\":\"VBar\"},\"nonselection_glyph\":{\"id\":\"19501\",\"type\":\"VBar\"},\"selection_glyph\":null,\"view\":{\"id\":\"19504\",\"type\":\"CDSView\"}},\"id\":\"19503\",\"type\":\"GlyphRenderer\"},{\"attributes\":{},\"id\":\"19469\",\"type\":\"LinearScale\"},{\"attributes\":{\"data_source\":{\"id\":\"19459\",\"type\":\"ColumnDataSource\"},\"glyph\":{\"id\":\"19506\",\"type\":\"VBar\"},\"hover_glyph\":null,\"muted_glyph\":{\"id\":\"19508\",\"type\":\"VBar\"},\"nonselection_glyph\":{\"id\":\"19507\",\"type\":\"VBar\"},\"selection_glyph\":null,\"view\":{\"id\":\"19510\",\"type\":\"CDSView\"}},\"id\":\"19509\",\"type\":\"GlyphRenderer\"},{\"attributes\":{\"label\":{\"value\":\"FAIL TO DSPLY MUNI METER RECPT\"},\"renderers\":[{\"id\":\"19503\",\"type\":\"GlyphRenderer\"}]},\"id\":\"19555\",\"type\":\"LegendItem\"},{\"attributes\":{},\"id\":\"19978\",\"type\":\"Selection\"},{\"attributes\":{},\"id\":\"19485\",\"type\":\"HelpTool\"},{\"attributes\":{\"data_source\":{\"id\":\"19459\",\"type\":\"ColumnDataSource\"},\"glyph\":{\"id\":\"19542\",\"type\":\"VBar\"},\"hover_glyph\":null,\"muted_glyph\":{\"id\":\"19544\",\"type\":\"VBar\"},\"nonselection_glyph\":{\"id\":\"19543\",\"type\":\"VBar\"},\"selection_glyph\":null,\"view\":{\"id\":\"19546\",\"type\":\"CDSView\"}},\"id\":\"19545\",\"type\":\"GlyphRenderer\"},{\"attributes\":{\"source\":{\"id\":\"19459\",\"type\":\"ColumnDataSource\"}},\"id\":\"19504\",\"type\":\"CDSView\"},{\"attributes\":{\"fill_alpha\":{\"value\":0.5},\"fill_color\":{\"value\":\"#ffbb78\"},\"line_alpha\":{\"value\":0.5},\"line_color\":{\"value\":\"#ffbb78\"},\"top\":{\"field\":\"NO PARKING-DAY/TIME LIMITS\"},\"width\":{\"value\":0.2},\"x\":{\"field\":\"Day\"}},\"id\":\"19512\",\"type\":\"VBar\"},{\"attributes\":{\"overlay\":{\"id\":\"19979\",\"type\":\"BoxAnnotation\"}},\"id\":\"19482\",\"type\":\"BoxZoomTool\"},{\"attributes\":{\"bottom_units\":\"screen\",\"fill_alpha\":{\"value\":0.5},\"fill_color\":{\"value\":\"lightgrey\"},\"left_units\":\"screen\",\"level\":\"overlay\",\"line_alpha\":{\"value\":1.0},\"line_color\":{\"value\":\"black\"},\"line_dash\":[4,4],\"line_width\":{\"value\":2},\"render_mode\":\"css\",\"right_units\":\"screen\",\"top_units\":\"screen\"},\"id\":\"19979\",\"type\":\"BoxAnnotation\"},{\"attributes\":{\"ticker\":{\"id\":\"19472\",\"type\":\"CategoricalTicker\"}},\"id\":\"19474\",\"type\":\"Grid\"},{\"attributes\":{\"fill_alpha\":{\"value\":0.1},\"fill_color\":{\"value\":\"#1f77b4\"},\"line_alpha\":{\"value\":0.1},\"line_color\":{\"value\":\"#1f77b4\"},\"top\":{\"field\":\"NO PARKING-DAY/TIME LIMITS\"},\"width\":{\"value\":0.2},\"x\":{\"field\":\"Day\"}},\"id\":\"19513\",\"type\":\"VBar\"},{\"attributes\":{\"source\":{\"id\":\"19459\",\"type\":\"ColumnDataSource\"}},\"id\":\"19546\",\"type\":\"CDSView\"},{\"attributes\":{\"source\":{\"id\":\"19459\",\"type\":\"ColumnDataSource\"}},\"id\":\"19516\",\"type\":\"CDSView\"},{\"attributes\":{\"source\":{\"id\":\"19459\",\"type\":\"ColumnDataSource\"}},\"id\":\"19528\",\"type\":\"CDSView\"},{\"attributes\":{},\"id\":\"19472\",\"type\":\"CategoricalTicker\"},{\"attributes\":{},\"id\":\"19476\",\"type\":\"BasicTicker\"},{\"attributes\":{\"fill_alpha\":{\"value\":0.1},\"fill_color\":{\"value\":\"#1f77b4\"},\"line_alpha\":{\"value\":0.1},\"line_color\":{\"value\":\"#1f77b4\"},\"top\":{\"field\":\"NO STANDING-BUS STOP\"},\"width\":{\"value\":0.2},\"x\":{\"field\":\"Day\"}},\"id\":\"19549\",\"type\":\"VBar\"},{\"attributes\":{},\"id\":\"19483\",\"type\":\"SaveTool\"},{\"attributes\":{},\"id\":\"19467\",\"type\":\"CategoricalScale\"},{\"attributes\":{\"fill_alpha\":{\"value\":0.5},\"fill_color\":{\"value\":\"#d62728\"},\"line_alpha\":{\"value\":0.5},\"line_color\":{\"value\":\"#d62728\"},\"top\":{\"field\":\"INSP. STICKER-EXPIRED/MISSING\"},\"width\":{\"value\":0.2},\"x\":{\"field\":\"Day\"}},\"id\":\"19530\",\"type\":\"VBar\"},{\"attributes\":{\"label\":{\"value\":\"NO PARKING-DAY/TIME LIMITS\"},\"renderers\":[{\"id\":\"19515\",\"type\":\"GlyphRenderer\"}]},\"id\":\"19557\",\"type\":\"LegendItem\"},{\"attributes\":{\"axis_label\":\"# of fines\",\"formatter\":{\"id\":\"19976\",\"type\":\"BasicTickFormatter\"},\"ticker\":{\"id\":\"19476\",\"type\":\"BasicTicker\"}},\"id\":\"19475\",\"type\":\"LinearAxis\"},{\"attributes\":{\"fill_alpha\":{\"value\":0.1},\"fill_color\":{\"value\":\"#1f77b4\"},\"line_alpha\":{\"value\":0.1},\"line_color\":{\"value\":\"#1f77b4\"},\"top\":{\"field\":\"DOUBLE PARKING\"},\"width\":{\"value\":0.2},\"x\":{\"field\":\"Day\"}},\"id\":\"19519\",\"type\":\"VBar\"},{\"attributes\":{\"label\":{\"value\":\"FAILURE TO STOP AT RED LIGHT\"},\"renderers\":[{\"id\":\"19545\",\"type\":\"GlyphRenderer\"}]},\"id\":\"19562\",\"type\":\"LegendItem\"},{\"attributes\":{\"label\":{\"value\":\"INSP. STICKER-EXPIRED/MISSING\"},\"renderers\":[{\"id\":\"19533\",\"type\":\"GlyphRenderer\"}]},\"id\":\"19560\",\"type\":\"LegendItem\"},{\"attributes\":{\"label\":{\"value\":\"EXPIRED MUNI METER\"},\"renderers\":[{\"id\":\"19539\",\"type\":\"GlyphRenderer\"}]},\"id\":\"19561\",\"type\":\"LegendItem\"},{\"attributes\":{\"fill_alpha\":{\"value\":0.5},\"fill_color\":{\"value\":\"#ff9896\"},\"line_alpha\":{\"value\":0.5},\"line_color\":{\"value\":\"#ff9896\"},\"top\":{\"field\":\"EXPIRED MUNI METER\"},\"width\":{\"value\":0.2},\"x\":{\"field\":\"Day\"}},\"id\":\"19536\",\"type\":\"VBar\"},{\"attributes\":{\"fill_alpha\":{\"value\":0.1},\"fill_color\":{\"value\":\"#1f77b4\"},\"line_alpha\":{\"value\":0.1},\"line_color\":{\"value\":\"#1f77b4\"},\"top\":{\"field\":\"FAIL TO DSPLY MUNI METER RECPT\"},\"width\":{\"value\":0.2},\"x\":{\"field\":\"Day\"}},\"id\":\"19501\",\"type\":\"VBar\"},{\"attributes\":{\"fill_alpha\":{\"value\":0.05},\"fill_color\":{\"value\":\"#ffbb78\"},\"line_alpha\":{\"value\":0.05},\"line_color\":{\"value\":\"#ffbb78\"},\"top\":{\"field\":\"NO PARKING-DAY/TIME LIMITS\"},\"width\":{\"value\":0.2},\"x\":{\"field\":\"Day\"}},\"id\":\"19514\",\"type\":\"VBar\"},{\"attributes\":{\"label\":{\"value\":\"NO PARKING-STREET CLEANING\"},\"renderers\":[{\"id\":\"19497\",\"type\":\"GlyphRenderer\"}]},\"id\":\"19554\",\"type\":\"LegendItem\"},{\"attributes\":{\"fill_alpha\":{\"value\":0.05},\"fill_color\":{\"value\":\"#aec7e8\"},\"line_alpha\":{\"value\":0.05},\"line_color\":{\"value\":\"#aec7e8\"},\"top\":{\"field\":\"FAIL TO DSPLY MUNI METER RECPT\"},\"width\":{\"value\":0.2},\"x\":{\"field\":\"Day\"}},\"id\":\"19502\",\"type\":\"VBar\"},{\"attributes\":{\"fill_alpha\":{\"value\":0.1},\"fill_color\":{\"value\":\"#1f77b4\"},\"line_alpha\":{\"value\":0.1},\"line_color\":{\"value\":\"#1f77b4\"},\"top\":{\"field\":\"FIRE HYDRANT\"},\"width\":{\"value\":0.2},\"x\":{\"field\":\"Day\"}},\"id\":\"19525\",\"type\":\"VBar\"},{\"attributes\":{\"fill_alpha\":{\"value\":0.1},\"fill_color\":{\"value\":\"#1f77b4\"},\"line_alpha\":{\"value\":0.1},\"line_color\":{\"value\":\"#1f77b4\"},\"top\":{\"field\":\"EXPIRED MUNI METER\"},\"width\":{\"value\":0.2},\"x\":{\"field\":\"Day\"}},\"id\":\"19537\",\"type\":\"VBar\"},{\"attributes\":{\"fill_alpha\":{\"value\":0.5},\"fill_color\":{\"value\":\"#9467bd\"},\"line_alpha\":{\"value\":0.5},\"line_color\":{\"value\":\"#9467bd\"},\"top\":{\"field\":\"FAILURE TO STOP AT RED LIGHT\"},\"width\":{\"value\":0.2},\"x\":{\"field\":\"Day\"}},\"id\":\"19542\",\"type\":\"VBar\"},{\"attributes\":{\"callback\":null,\"factors\":[\"1\",\"2\",\"3\",\"4\",\"5\",\"6\",\"7\",\"8\",\"9\",\"10\",\"11\",\"12\",\"13\",\"14\",\"15\",\"16\",\"17\",\"18\",\"19\",\"20\",\"21\",\"22\",\"23\",\"24\",\"25\",\"26\",\"27\",\"28\",\"29\",\"30\",\"31\"],\"range_padding\":0.05},\"id\":\"19460\",\"type\":\"FactorRange\"},{\"attributes\":{\"data_source\":{\"id\":\"19459\",\"type\":\"ColumnDataSource\"},\"glyph\":{\"id\":\"19530\",\"type\":\"VBar\"},\"hover_glyph\":null,\"muted_glyph\":{\"id\":\"19532\",\"type\":\"VBar\"},\"nonselection_glyph\":{\"id\":\"19531\",\"type\":\"VBar\"},\"selection_glyph\":null,\"view\":{\"id\":\"19534\",\"type\":\"CDSView\"}},\"id\":\"19533\",\"type\":\"GlyphRenderer\"},{\"attributes\":{\"fill_alpha\":{\"value\":0.1},\"fill_color\":{\"value\":\"#1f77b4\"},\"line_alpha\":{\"value\":0.1},\"line_color\":{\"value\":\"#1f77b4\"},\"top\":{\"field\":\"FAILURE TO STOP AT RED LIGHT\"},\"width\":{\"value\":0.2},\"x\":{\"field\":\"Day\"}},\"id\":\"19543\",\"type\":\"VBar\"},{\"attributes\":{\"data_source\":{\"id\":\"19459\",\"type\":\"ColumnDataSource\"},\"glyph\":{\"id\":\"19548\",\"type\":\"VBar\"},\"hover_glyph\":null,\"muted_glyph\":{\"id\":\"19550\",\"type\":\"VBar\"},\"nonselection_glyph\":{\"id\":\"19549\",\"type\":\"VBar\"},\"selection_glyph\":null,\"view\":{\"id\":\"19552\",\"type\":\"CDSView\"}},\"id\":\"19551\",\"type\":\"GlyphRenderer\"},{\"attributes\":{\"label\":{\"value\":\"NO STANDING-BUS STOP\"},\"renderers\":[{\"id\":\"19551\",\"type\":\"GlyphRenderer\"}]},\"id\":\"19563\",\"type\":\"LegendItem\"},{\"attributes\":{\"data_source\":{\"id\":\"19459\",\"type\":\"ColumnDataSource\"},\"glyph\":{\"id\":\"19524\",\"type\":\"VBar\"},\"hover_glyph\":null,\"muted_glyph\":{\"id\":\"19526\",\"type\":\"VBar\"},\"nonselection_glyph\":{\"id\":\"19525\",\"type\":\"VBar\"},\"selection_glyph\":null,\"view\":{\"id\":\"19528\",\"type\":\"CDSView\"}},\"id\":\"19527\",\"type\":\"GlyphRenderer\"},{\"attributes\":{\"click_policy\":\"mute\",\"items\":[{\"id\":\"19554\",\"type\":\"LegendItem\"},{\"id\":\"19555\",\"type\":\"LegendItem\"},{\"id\":\"19556\",\"type\":\"LegendItem\"},{\"id\":\"19557\",\"type\":\"LegendItem\"},{\"id\":\"19558\",\"type\":\"LegendItem\"},{\"id\":\"19559\",\"type\":\"LegendItem\"},{\"id\":\"19560\",\"type\":\"LegendItem\"},{\"id\":\"19561\",\"type\":\"LegendItem\"},{\"id\":\"19562\",\"type\":\"LegendItem\"},{\"id\":\"19563\",\"type\":\"LegendItem\"}],\"location\":[0,50]},\"id\":\"19553\",\"type\":\"Legend\"},{\"attributes\":{\"data_source\":{\"id\":\"19459\",\"type\":\"ColumnDataSource\"},\"glyph\":{\"id\":\"19494\",\"type\":\"VBar\"},\"hover_glyph\":null,\"muted_glyph\":{\"id\":\"19496\",\"type\":\"VBar\"},\"nonselection_glyph\":{\"id\":\"19495\",\"type\":\"VBar\"},\"selection_glyph\":null,\"view\":{\"id\":\"19498\",\"type\":\"CDSView\"}},\"id\":\"19497\",\"type\":\"GlyphRenderer\"},{\"attributes\":{\"source\":{\"id\":\"19459\",\"type\":\"ColumnDataSource\"}},\"id\":\"19540\",\"type\":\"CDSView\"},{\"attributes\":{\"fill_alpha\":{\"value\":0.5},\"fill_color\":{\"value\":\"#ff7f0e\"},\"line_alpha\":{\"value\":0.5},\"line_color\":{\"value\":\"#ff7f0e\"},\"top\":{\"field\":\"NO STANDING-DAY/TIME LIMITS\"},\"width\":{\"value\":0.2},\"x\":{\"field\":\"Day\"}},\"id\":\"19506\",\"type\":\"VBar\"},{\"attributes\":{},\"id\":\"19977\",\"type\":\"UnionRenderers\"},{\"attributes\":{\"source\":{\"id\":\"19459\",\"type\":\"ColumnDataSource\"}},\"id\":\"19522\",\"type\":\"CDSView\"},{\"attributes\":{\"callback\":null},\"id\":\"19465\",\"type\":\"DataRange1d\"},{\"attributes\":{\"fill_alpha\":{\"value\":0.05},\"fill_color\":{\"value\":\"#ff9896\"},\"line_alpha\":{\"value\":0.05},\"line_color\":{\"value\":\"#ff9896\"},\"top\":{\"field\":\"EXPIRED MUNI METER\"},\"width\":{\"value\":0.2},\"x\":{\"field\":\"Day\"}},\"id\":\"19538\",\"type\":\"VBar\"},{\"attributes\":{\"callback\":null,\"data\":{\"DOUBLE PARKING\":[3445,3433,3493,3667,4098,4088,4468,4054,3643,3893,4130,4054,3992,4335,4157,3551,4126,3939,4246,4175,3777,3741,3509,3578,3609,3657,3879,3924,3772,3584,2169],\"Day\":[1,2,3,4,5,6,7,8,9,10,11,12,13,14,15,16,17,18,19,20,21,22,23,24,25,26,27,28,29,30,31],\"EXPIRED MUNI METER\":[2921,2757,2732,2933,3323,3472,3397,3397,2902,3068,3529,3297,3532,3451,3587,3038,3343,3235,3774,3342,3103,3142,2955,3006,3121,2960,3242,3064,3150,2875,1748],\"FAIL TO DSPLY MUNI METER RECPT\":[6750,6343,6165,7161,7680,7942,7371,8664,6818,7623,8155,7798,8055,7896,8619,7189,7618,8621,8338,8160,8261,8212,7235,7772,7703,6873,7484,7345,7990,6875,4099],\"FAILURE TO STOP AT RED LIGHT\":[3073,3122,3248,3330,3077,3054,3082,2984,2884,2927,2766,2828,2781,3198,3210,3434,3288,3137,3111,3007,3237,3193,3159,3145,3079,3178,3150,3016,3007,2978,1804],\"FIRE HYDRANT\":[3502,3186,3259,3449,3633,3722,3715,3861,3489,3679,3763,3808,3766,3886,4028,3637,3742,3762,3927,3908,3736,3569,3750,3325,3386,3298,3583,3574,3518,3444,1844],\"INSP. STICKER-EXPIRED/MISSING\":[10262,7915,6749,5920,5714,5345,4882,4565,3844,3839,3701,3256,2988,3227,3071,2751,2805,2640,2809,2459,2277,2229,2237,2194,2047,1945,2045,1883,1955,1636,940],\"NO PARKING-DAY/TIME LIMITS\":[4684,4717,4880,4944,5479,5554,5457,5274,4823,5522,5552,5621,5408,5501,5424,5029,5417,5594,5779,5420,5362,4820,5061,5015,4888,4923,5242,5307,5001,4671,2967],\"NO PARKING-STREET CLEANING\":[7221,9961,12584,9985,8833,10098,14666,11028,12204,10829,13457,10059,13864,15214,10416,10903,14009,11825,11321,14515,8004,11207,13342,12725,10436,11846,11909,15136,13044,10640,9760],\"NO STANDING-BUS STOP\":[1860,1813,1894,1971,2180,2128,2395,2244,1972,2147,2140,2222,2168,2341,2179,1955,2258,2108,2297,2057,2032,1920,1885,1869,1866,1840,1958,2059,2157,1871,1173],\"NO STANDING-DAY/TIME LIMITS\":[5992,6085,6168,6477,7133,7003,7187,6733,6232,7006,7103,6964,6805,7337,6920,6285,6982,7008,7151,6770,6519,6126,6008,6567,6214,6208,6487,6579,6505,5868,3670],\"index\":[0,1,2,3,4,5,6,7,8,9,10,11,12,13,14,15,16,17,18,19,20,21,22,23,24,25,26,27,28,29,30]},\"selected\":{\"id\":\"19978\",\"type\":\"Selection\"},\"selection_policy\":{\"id\":\"19977\",\"type\":\"UnionRenderers\"}},\"id\":\"19459\",\"type\":\"ColumnDataSource\"},{\"attributes\":{\"label\":{\"value\":\"FIRE HYDRANT\"},\"renderers\":[{\"id\":\"19527\",\"type\":\"GlyphRenderer\"}]},\"id\":\"19559\",\"type\":\"LegendItem\"},{\"attributes\":{\"data_source\":{\"id\":\"19459\",\"type\":\"ColumnDataSource\"},\"glyph\":{\"id\":\"19536\",\"type\":\"VBar\"},\"hover_glyph\":null,\"muted_glyph\":{\"id\":\"19538\",\"type\":\"VBar\"},\"nonselection_glyph\":{\"id\":\"19537\",\"type\":\"VBar\"},\"selection_glyph\":null,\"view\":{\"id\":\"19540\",\"type\":\"CDSView\"}},\"id\":\"19539\",\"type\":\"GlyphRenderer\"},{\"attributes\":{\"fill_alpha\":{\"value\":0.05},\"fill_color\":{\"value\":\"#98df8a\"},\"line_alpha\":{\"value\":0.05},\"line_color\":{\"value\":\"#98df8a\"},\"top\":{\"field\":\"FIRE HYDRANT\"},\"width\":{\"value\":0.2},\"x\":{\"field\":\"Day\"}},\"id\":\"19526\",\"type\":\"VBar\"},{\"attributes\":{\"source\":{\"id\":\"19459\",\"type\":\"ColumnDataSource\"}},\"id\":\"19534\",\"type\":\"CDSView\"},{\"attributes\":{\"source\":{\"id\":\"19459\",\"type\":\"ColumnDataSource\"}},\"id\":\"19498\",\"type\":\"CDSView\"},{\"attributes\":{},\"id\":\"19976\",\"type\":\"BasicTickFormatter\"},{\"attributes\":{\"fill_alpha\":{\"value\":0.5},\"fill_color\":{\"value\":\"#98df8a\"},\"line_alpha\":{\"value\":0.5},\"line_color\":{\"value\":\"#98df8a\"},\"top\":{\"field\":\"FIRE HYDRANT\"},\"width\":{\"value\":0.2},\"x\":{\"field\":\"Day\"}},\"id\":\"19524\",\"type\":\"VBar\"},{\"attributes\":{\"fill_alpha\":{\"value\":0.05},\"fill_color\":{\"value\":\"#d62728\"},\"line_alpha\":{\"value\":0.05},\"line_color\":{\"value\":\"#d62728\"},\"top\":{\"field\":\"INSP. STICKER-EXPIRED/MISSING\"},\"width\":{\"value\":0.2},\"x\":{\"field\":\"Day\"}},\"id\":\"19532\",\"type\":\"VBar\"},{\"attributes\":{\"source\":{\"id\":\"19459\",\"type\":\"ColumnDataSource\"}},\"id\":\"19552\",\"type\":\"CDSView\"},{\"attributes\":{\"fill_alpha\":{\"value\":0.1},\"fill_color\":{\"value\":\"#1f77b4\"},\"line_alpha\":{\"value\":0.1},\"line_color\":{\"value\":\"#1f77b4\"},\"top\":{\"field\":\"NO STANDING-DAY/TIME LIMITS\"},\"width\":{\"value\":0.2},\"x\":{\"field\":\"Day\"}},\"id\":\"19507\",\"type\":\"VBar\"},{\"attributes\":{},\"id\":\"19481\",\"type\":\"WheelZoomTool\"},{\"attributes\":{\"label\":{\"value\":\"DOUBLE PARKING\"},\"renderers\":[{\"id\":\"19521\",\"type\":\"GlyphRenderer\"}]},\"id\":\"19558\",\"type\":\"LegendItem\"},{\"attributes\":{\"dimension\":1,\"ticker\":{\"id\":\"19476\",\"type\":\"BasicTicker\"}},\"id\":\"19479\",\"type\":\"Grid\"},{\"attributes\":{\"fill_alpha\":{\"value\":0.5},\"fill_color\":{\"value\":\"#c5b0d5\"},\"line_alpha\":{\"value\":0.5},\"line_color\":{\"value\":\"#c5b0d5\"},\"top\":{\"field\":\"NO STANDING-BUS STOP\"},\"width\":{\"value\":0.2},\"x\":{\"field\":\"Day\"}},\"id\":\"19548\",\"type\":\"VBar\"},{\"attributes\":{\"fill_alpha\":{\"value\":0.05},\"fill_color\":{\"value\":\"#1f77b4\"},\"line_alpha\":{\"value\":0.05},\"line_color\":{\"value\":\"#1f77b4\"},\"top\":{\"field\":\"NO PARKING-STREET CLEANING\"},\"width\":{\"value\":0.2},\"x\":{\"field\":\"Day\"}},\"id\":\"19496\",\"type\":\"VBar\"},{\"attributes\":{},\"id\":\"19480\",\"type\":\"PanTool\"},{\"attributes\":{\"fill_alpha\":{\"value\":0.5},\"fill_color\":{\"value\":\"#1f77b4\"},\"line_alpha\":{\"value\":0.5},\"line_color\":{\"value\":\"#1f77b4\"},\"top\":{\"field\":\"NO PARKING-STREET CLEANING\"},\"width\":{\"value\":0.2},\"x\":{\"field\":\"Day\"}},\"id\":\"19494\",\"type\":\"VBar\"},{\"attributes\":{\"fill_alpha\":{\"value\":0.1},\"fill_color\":{\"value\":\"#1f77b4\"},\"line_alpha\":{\"value\":0.1},\"line_color\":{\"value\":\"#1f77b4\"},\"top\":{\"field\":\"NO PARKING-STREET CLEANING\"},\"width\":{\"value\":0.2},\"x\":{\"field\":\"Day\"}},\"id\":\"19495\",\"type\":\"VBar\"},{\"attributes\":{\"text\":\"Distibution of # of fines for top 10 violations pr. Day\"},\"id\":\"19462\",\"type\":\"Title\"},{\"attributes\":{\"data_source\":{\"id\":\"19459\",\"type\":\"ColumnDataSource\"},\"glyph\":{\"id\":\"19518\",\"type\":\"VBar\"},\"hover_glyph\":null,\"muted_glyph\":{\"id\":\"19520\",\"type\":\"VBar\"},\"nonselection_glyph\":{\"id\":\"19519\",\"type\":\"VBar\"},\"selection_glyph\":null,\"view\":{\"id\":\"19522\",\"type\":\"CDSView\"}},\"id\":\"19521\",\"type\":\"GlyphRenderer\"},{\"attributes\":{\"active_drag\":\"auto\",\"active_inspect\":\"auto\",\"active_multi\":null,\"active_scroll\":\"auto\",\"active_tap\":\"auto\",\"tools\":[{\"id\":\"19480\",\"type\":\"PanTool\"},{\"id\":\"19481\",\"type\":\"WheelZoomTool\"},{\"id\":\"19482\",\"type\":\"BoxZoomTool\"},{\"id\":\"19483\",\"type\":\"SaveTool\"},{\"id\":\"19484\",\"type\":\"ResetTool\"},{\"id\":\"19485\",\"type\":\"HelpTool\"}]},\"id\":\"19486\",\"type\":\"Toolbar\"},{\"attributes\":{},\"id\":\"19974\",\"type\":\"CategoricalTickFormatter\"},{\"attributes\":{\"fill_alpha\":{\"value\":0.5},\"fill_color\":{\"value\":\"#aec7e8\"},\"line_alpha\":{\"value\":0.5},\"line_color\":{\"value\":\"#aec7e8\"},\"top\":{\"field\":\"FAIL TO DSPLY MUNI METER RECPT\"},\"width\":{\"value\":0.2},\"x\":{\"field\":\"Day\"}},\"id\":\"19500\",\"type\":\"VBar\"},{\"attributes\":{\"fill_alpha\":{\"value\":0.05},\"fill_color\":{\"value\":\"#c5b0d5\"},\"line_alpha\":{\"value\":0.05},\"line_color\":{\"value\":\"#c5b0d5\"},\"top\":{\"field\":\"NO STANDING-BUS STOP\"},\"width\":{\"value\":0.2},\"x\":{\"field\":\"Day\"}},\"id\":\"19550\",\"type\":\"VBar\"}],\"root_ids\":[\"19461\"]},\"title\":\"Bokeh Application\",\"version\":\"1.3.4\"}};\n",
       "  var render_items = [{\"docid\":\"693ddfd1-d6e8-41c4-bd0e-2c5dbc81e1e1\",\"roots\":{\"19461\":\"1a37b58d-9261-4d16-bd01-af7bda762d25\"}}];\n",
       "  root.Bokeh.embed.embed_items_notebook(docs_json, render_items);\n",
       "\n",
       "  }\n",
       "  if (root.Bokeh !== undefined) {\n",
       "    embed_document(root);\n",
       "  } else {\n",
       "    var attempts = 0;\n",
       "    var timer = setInterval(function(root) {\n",
       "      if (root.Bokeh !== undefined) {\n",
       "        embed_document(root);\n",
       "        clearInterval(timer);\n",
       "      }\n",
       "      attempts++;\n",
       "      if (attempts > 100) {\n",
       "        console.log(\"Bokeh: ERROR: Unable to run BokehJS code because BokehJS library is missing\");\n",
       "        clearInterval(timer);\n",
       "      }\n",
       "    }, 10, root)\n",
       "  }\n",
       "})(window);"
      ],
      "application/vnd.bokehjs_exec.v0+json": ""
     },
     "metadata": {
      "application/vnd.bokehjs_exec.v0+json": {
       "id": "19461"
      }
     },
     "output_type": "display_data"
    }
   ],
   "source": [
    "bokeh(df,\"Day\")\n",
    "#Output to html\n",
    "#output_file('day.html', mode='inline')"
   ]
  },
  {
   "cell_type": "code",
   "execution_count": 294,
   "metadata": {},
   "outputs": [
    {
     "data": {
      "text/html": [
       "\n",
       "\n",
       "\n",
       "\n",
       "\n",
       "\n",
       "  <div class=\"bk-root\" id=\"293a18f1-2025-4c5d-887d-a5ca6c2266a4\" data-root-id=\"20609\"></div>\n"
      ]
     },
     "metadata": {},
     "output_type": "display_data"
    },
    {
     "data": {
      "application/javascript": [
       "(function(root) {\n",
       "  function embed_document(root) {\n",
       "    \n",
       "  var docs_json = {\"1d0ac513-5adb-4287-83f4-88166f5d2359\":{\"roots\":{\"references\":[{\"attributes\":{\"below\":[{\"id\":\"20619\",\"type\":\"CategoricalAxis\"}],\"center\":[{\"id\":\"20622\",\"type\":\"Grid\"},{\"id\":\"20627\",\"type\":\"Grid\"}],\"left\":[{\"id\":\"20623\",\"type\":\"LinearAxis\"},{\"id\":\"20701\",\"type\":\"Legend\"}],\"plot_height\":500,\"plot_width\":1200,\"renderers\":[{\"id\":\"20645\",\"type\":\"GlyphRenderer\"},{\"id\":\"20651\",\"type\":\"GlyphRenderer\"},{\"id\":\"20657\",\"type\":\"GlyphRenderer\"},{\"id\":\"20663\",\"type\":\"GlyphRenderer\"},{\"id\":\"20669\",\"type\":\"GlyphRenderer\"},{\"id\":\"20675\",\"type\":\"GlyphRenderer\"},{\"id\":\"20681\",\"type\":\"GlyphRenderer\"},{\"id\":\"20687\",\"type\":\"GlyphRenderer\"},{\"id\":\"20693\",\"type\":\"GlyphRenderer\"},{\"id\":\"20699\",\"type\":\"GlyphRenderer\"}],\"title\":{\"id\":\"20610\",\"type\":\"Title\"},\"toolbar\":{\"id\":\"20634\",\"type\":\"Toolbar\"},\"toolbar_location\":null,\"x_range\":{\"id\":\"20608\",\"type\":\"FactorRange\"},\"x_scale\":{\"id\":\"20615\",\"type\":\"CategoricalScale\"},\"y_range\":{\"id\":\"20613\",\"type\":\"DataRange1d\"},\"y_scale\":{\"id\":\"20617\",\"type\":\"LinearScale\"}},\"id\":\"20609\",\"subtype\":\"Figure\",\"type\":\"Plot\"},{\"attributes\":{\"source\":{\"id\":\"20607\",\"type\":\"ColumnDataSource\"}},\"id\":\"20652\",\"type\":\"CDSView\"},{\"attributes\":{\"fill_alpha\":{\"value\":0.5},\"fill_color\":{\"value\":\"#aec7e8\"},\"line_alpha\":{\"value\":0.5},\"line_color\":{\"value\":\"#aec7e8\"},\"top\":{\"field\":\"FAIL TO DSPLY MUNI METER RECPT\"},\"width\":{\"value\":0.2},\"x\":{\"field\":\"Country\"}},\"id\":\"20648\",\"type\":\"VBar\"},{\"attributes\":{},\"id\":\"20624\",\"type\":\"BasicTicker\"},{\"attributes\":{},\"id\":\"20620\",\"type\":\"CategoricalTicker\"},{\"attributes\":{\"fill_alpha\":{\"value\":0.05},\"fill_color\":{\"value\":\"#c5b0d5\"},\"line_alpha\":{\"value\":0.05},\"line_color\":{\"value\":\"#c5b0d5\"},\"top\":{\"field\":\"NO STANDING-BUS STOP\"},\"width\":{\"value\":0.2},\"x\":{\"field\":\"Country\"}},\"id\":\"20698\",\"type\":\"VBar\"},{\"attributes\":{\"fill_alpha\":{\"value\":0.5},\"fill_color\":{\"value\":\"#ffbb78\"},\"line_alpha\":{\"value\":0.5},\"line_color\":{\"value\":\"#ffbb78\"},\"top\":{\"field\":\"NO PARKING-DAY/TIME LIMITS\"},\"width\":{\"value\":0.2},\"x\":{\"field\":\"Country\"}},\"id\":\"20660\",\"type\":\"VBar\"},{\"attributes\":{\"dimension\":1,\"ticker\":{\"id\":\"20624\",\"type\":\"BasicTicker\"}},\"id\":\"20627\",\"type\":\"Grid\"},{\"attributes\":{},\"id\":\"20633\",\"type\":\"HelpTool\"},{\"attributes\":{},\"id\":\"21142\",\"type\":\"Selection\"},{\"attributes\":{\"data_source\":{\"id\":\"20607\",\"type\":\"ColumnDataSource\"},\"glyph\":{\"id\":\"20642\",\"type\":\"VBar\"},\"hover_glyph\":null,\"muted_glyph\":{\"id\":\"20644\",\"type\":\"VBar\"},\"nonselection_glyph\":{\"id\":\"20643\",\"type\":\"VBar\"},\"selection_glyph\":null,\"view\":{\"id\":\"20646\",\"type\":\"CDSView\"}},\"id\":\"20645\",\"type\":\"GlyphRenderer\"},{\"attributes\":{\"data_source\":{\"id\":\"20607\",\"type\":\"ColumnDataSource\"},\"glyph\":{\"id\":\"20684\",\"type\":\"VBar\"},\"hover_glyph\":null,\"muted_glyph\":{\"id\":\"20686\",\"type\":\"VBar\"},\"nonselection_glyph\":{\"id\":\"20685\",\"type\":\"VBar\"},\"selection_glyph\":null,\"view\":{\"id\":\"20688\",\"type\":\"CDSView\"}},\"id\":\"20687\",\"type\":\"GlyphRenderer\"},{\"attributes\":{\"label\":{\"value\":\"NO PARKING-STREET CLEANING\"},\"renderers\":[{\"id\":\"20645\",\"type\":\"GlyphRenderer\"}]},\"id\":\"20702\",\"type\":\"LegendItem\"},{\"attributes\":{},\"id\":\"21138\",\"type\":\"CategoricalTickFormatter\"},{\"attributes\":{\"fill_alpha\":{\"value\":0.05},\"fill_color\":{\"value\":\"#9467bd\"},\"line_alpha\":{\"value\":0.05},\"line_color\":{\"value\":\"#9467bd\"},\"top\":{\"field\":\"FAILURE TO STOP AT RED LIGHT\"},\"width\":{\"value\":0.2},\"x\":{\"field\":\"Country\"}},\"id\":\"20692\",\"type\":\"VBar\"},{\"attributes\":{\"axis_label\":\"Country\",\"formatter\":{\"id\":\"21138\",\"type\":\"CategoricalTickFormatter\"},\"ticker\":{\"id\":\"20620\",\"type\":\"CategoricalTicker\"}},\"id\":\"20619\",\"type\":\"CategoricalAxis\"},{\"attributes\":{\"fill_alpha\":{\"value\":0.05},\"fill_color\":{\"value\":\"#1f77b4\"},\"line_alpha\":{\"value\":0.05},\"line_color\":{\"value\":\"#1f77b4\"},\"top\":{\"field\":\"NO PARKING-STREET CLEANING\"},\"width\":{\"value\":0.2},\"x\":{\"field\":\"Country\"}},\"id\":\"20644\",\"type\":\"VBar\"},{\"attributes\":{\"fill_alpha\":{\"value\":0.05},\"fill_color\":{\"value\":\"#ffbb78\"},\"line_alpha\":{\"value\":0.05},\"line_color\":{\"value\":\"#ffbb78\"},\"top\":{\"field\":\"NO PARKING-DAY/TIME LIMITS\"},\"width\":{\"value\":0.2},\"x\":{\"field\":\"Country\"}},\"id\":\"20662\",\"type\":\"VBar\"},{\"attributes\":{\"data_source\":{\"id\":\"20607\",\"type\":\"ColumnDataSource\"},\"glyph\":{\"id\":\"20654\",\"type\":\"VBar\"},\"hover_glyph\":null,\"muted_glyph\":{\"id\":\"20656\",\"type\":\"VBar\"},\"nonselection_glyph\":{\"id\":\"20655\",\"type\":\"VBar\"},\"selection_glyph\":null,\"view\":{\"id\":\"20658\",\"type\":\"CDSView\"}},\"id\":\"20657\",\"type\":\"GlyphRenderer\"},{\"attributes\":{\"ticker\":{\"id\":\"20620\",\"type\":\"CategoricalTicker\"}},\"id\":\"20622\",\"type\":\"Grid\"},{\"attributes\":{\"fill_alpha\":{\"value\":0.1},\"fill_color\":{\"value\":\"#1f77b4\"},\"line_alpha\":{\"value\":0.1},\"line_color\":{\"value\":\"#1f77b4\"},\"top\":{\"field\":\"FAILURE TO STOP AT RED LIGHT\"},\"width\":{\"value\":0.2},\"x\":{\"field\":\"Country\"}},\"id\":\"20691\",\"type\":\"VBar\"},{\"attributes\":{\"data_source\":{\"id\":\"20607\",\"type\":\"ColumnDataSource\"},\"glyph\":{\"id\":\"20648\",\"type\":\"VBar\"},\"hover_glyph\":null,\"muted_glyph\":{\"id\":\"20650\",\"type\":\"VBar\"},\"nonselection_glyph\":{\"id\":\"20649\",\"type\":\"VBar\"},\"selection_glyph\":null,\"view\":{\"id\":\"20652\",\"type\":\"CDSView\"}},\"id\":\"20651\",\"type\":\"GlyphRenderer\"},{\"attributes\":{\"fill_alpha\":{\"value\":0.5},\"fill_color\":{\"value\":\"#2ca02c\"},\"line_alpha\":{\"value\":0.5},\"line_color\":{\"value\":\"#2ca02c\"},\"top\":{\"field\":\"DOUBLE PARKING\"},\"width\":{\"value\":0.2},\"x\":{\"field\":\"Country\"}},\"id\":\"20666\",\"type\":\"VBar\"},{\"attributes\":{\"label\":{\"value\":\"INSP. STICKER-EXPIRED/MISSING\"},\"renderers\":[{\"id\":\"20681\",\"type\":\"GlyphRenderer\"}]},\"id\":\"20708\",\"type\":\"LegendItem\"},{\"attributes\":{\"data_source\":{\"id\":\"20607\",\"type\":\"ColumnDataSource\"},\"glyph\":{\"id\":\"20696\",\"type\":\"VBar\"},\"hover_glyph\":null,\"muted_glyph\":{\"id\":\"20698\",\"type\":\"VBar\"},\"nonselection_glyph\":{\"id\":\"20697\",\"type\":\"VBar\"},\"selection_glyph\":null,\"view\":{\"id\":\"20700\",\"type\":\"CDSView\"}},\"id\":\"20699\",\"type\":\"GlyphRenderer\"},{\"attributes\":{\"click_policy\":\"mute\",\"items\":[{\"id\":\"20702\",\"type\":\"LegendItem\"},{\"id\":\"20703\",\"type\":\"LegendItem\"},{\"id\":\"20704\",\"type\":\"LegendItem\"},{\"id\":\"20705\",\"type\":\"LegendItem\"},{\"id\":\"20706\",\"type\":\"LegendItem\"},{\"id\":\"20707\",\"type\":\"LegendItem\"},{\"id\":\"20708\",\"type\":\"LegendItem\"},{\"id\":\"20709\",\"type\":\"LegendItem\"},{\"id\":\"20710\",\"type\":\"LegendItem\"},{\"id\":\"20711\",\"type\":\"LegendItem\"}],\"location\":[0,50]},\"id\":\"20701\",\"type\":\"Legend\"},{\"attributes\":{\"fill_alpha\":{\"value\":0.5},\"fill_color\":{\"value\":\"#c5b0d5\"},\"line_alpha\":{\"value\":0.5},\"line_color\":{\"value\":\"#c5b0d5\"},\"top\":{\"field\":\"NO STANDING-BUS STOP\"},\"width\":{\"value\":0.2},\"x\":{\"field\":\"Country\"}},\"id\":\"20696\",\"type\":\"VBar\"},{\"attributes\":{},\"id\":\"21140\",\"type\":\"BasicTickFormatter\"},{\"attributes\":{\"axis_label\":\"# of fines\",\"formatter\":{\"id\":\"21140\",\"type\":\"BasicTickFormatter\"},\"ticker\":{\"id\":\"20624\",\"type\":\"BasicTicker\"}},\"id\":\"20623\",\"type\":\"LinearAxis\"},{\"attributes\":{\"data_source\":{\"id\":\"20607\",\"type\":\"ColumnDataSource\"},\"glyph\":{\"id\":\"20666\",\"type\":\"VBar\"},\"hover_glyph\":null,\"muted_glyph\":{\"id\":\"20668\",\"type\":\"VBar\"},\"nonselection_glyph\":{\"id\":\"20667\",\"type\":\"VBar\"},\"selection_glyph\":null,\"view\":{\"id\":\"20670\",\"type\":\"CDSView\"}},\"id\":\"20669\",\"type\":\"GlyphRenderer\"},{\"attributes\":{\"label\":{\"value\":\"FAILURE TO STOP AT RED LIGHT\"},\"renderers\":[{\"id\":\"20693\",\"type\":\"GlyphRenderer\"}]},\"id\":\"20710\",\"type\":\"LegendItem\"},{\"attributes\":{\"source\":{\"id\":\"20607\",\"type\":\"ColumnDataSource\"}},\"id\":\"20670\",\"type\":\"CDSView\"},{\"attributes\":{\"callback\":null},\"id\":\"20613\",\"type\":\"DataRange1d\"},{\"attributes\":{\"fill_alpha\":{\"value\":0.5},\"fill_color\":{\"value\":\"#ff7f0e\"},\"line_alpha\":{\"value\":0.5},\"line_color\":{\"value\":\"#ff7f0e\"},\"top\":{\"field\":\"NO STANDING-DAY/TIME LIMITS\"},\"width\":{\"value\":0.2},\"x\":{\"field\":\"Country\"}},\"id\":\"20654\",\"type\":\"VBar\"},{\"attributes\":{},\"id\":\"20632\",\"type\":\"ResetTool\"},{\"attributes\":{\"source\":{\"id\":\"20607\",\"type\":\"ColumnDataSource\"}},\"id\":\"20664\",\"type\":\"CDSView\"},{\"attributes\":{},\"id\":\"21141\",\"type\":\"UnionRenderers\"},{\"attributes\":{\"data_source\":{\"id\":\"20607\",\"type\":\"ColumnDataSource\"},\"glyph\":{\"id\":\"20660\",\"type\":\"VBar\"},\"hover_glyph\":null,\"muted_glyph\":{\"id\":\"20662\",\"type\":\"VBar\"},\"nonselection_glyph\":{\"id\":\"20661\",\"type\":\"VBar\"},\"selection_glyph\":null,\"view\":{\"id\":\"20664\",\"type\":\"CDSView\"}},\"id\":\"20663\",\"type\":\"GlyphRenderer\"},{\"attributes\":{},\"id\":\"20628\",\"type\":\"PanTool\"},{\"attributes\":{\"fill_alpha\":{\"value\":0.1},\"fill_color\":{\"value\":\"#1f77b4\"},\"line_alpha\":{\"value\":0.1},\"line_color\":{\"value\":\"#1f77b4\"},\"top\":{\"field\":\"EXPIRED MUNI METER\"},\"width\":{\"value\":0.2},\"x\":{\"field\":\"Country\"}},\"id\":\"20685\",\"type\":\"VBar\"},{\"attributes\":{\"fill_alpha\":{\"value\":0.1},\"fill_color\":{\"value\":\"#1f77b4\"},\"line_alpha\":{\"value\":0.1},\"line_color\":{\"value\":\"#1f77b4\"},\"top\":{\"field\":\"NO PARKING-DAY/TIME LIMITS\"},\"width\":{\"value\":0.2},\"x\":{\"field\":\"Country\"}},\"id\":\"20661\",\"type\":\"VBar\"},{\"attributes\":{\"label\":{\"value\":\"FAIL TO DSPLY MUNI METER RECPT\"},\"renderers\":[{\"id\":\"20651\",\"type\":\"GlyphRenderer\"}]},\"id\":\"20703\",\"type\":\"LegendItem\"},{\"attributes\":{\"source\":{\"id\":\"20607\",\"type\":\"ColumnDataSource\"}},\"id\":\"20694\",\"type\":\"CDSView\"},{\"attributes\":{\"fill_alpha\":{\"value\":0.05},\"fill_color\":{\"value\":\"#ff7f0e\"},\"line_alpha\":{\"value\":0.05},\"line_color\":{\"value\":\"#ff7f0e\"},\"top\":{\"field\":\"NO STANDING-DAY/TIME LIMITS\"},\"width\":{\"value\":0.2},\"x\":{\"field\":\"Country\"}},\"id\":\"20656\",\"type\":\"VBar\"},{\"attributes\":{\"label\":{\"value\":\"EXPIRED MUNI METER\"},\"renderers\":[{\"id\":\"20687\",\"type\":\"GlyphRenderer\"}]},\"id\":\"20709\",\"type\":\"LegendItem\"},{\"attributes\":{\"label\":{\"value\":\"FIRE HYDRANT\"},\"renderers\":[{\"id\":\"20675\",\"type\":\"GlyphRenderer\"}]},\"id\":\"20707\",\"type\":\"LegendItem\"},{\"attributes\":{\"active_drag\":\"auto\",\"active_inspect\":\"auto\",\"active_multi\":null,\"active_scroll\":\"auto\",\"active_tap\":\"auto\",\"tools\":[{\"id\":\"20628\",\"type\":\"PanTool\"},{\"id\":\"20629\",\"type\":\"WheelZoomTool\"},{\"id\":\"20630\",\"type\":\"BoxZoomTool\"},{\"id\":\"20631\",\"type\":\"SaveTool\"},{\"id\":\"20632\",\"type\":\"ResetTool\"},{\"id\":\"20633\",\"type\":\"HelpTool\"}]},\"id\":\"20634\",\"type\":\"Toolbar\"},{\"attributes\":{\"callback\":null,\"data\":{\"Country\":[\"BK\",\"BX\",\"K\",\"MN\",\"NY\",\"Q\",\"QN\",\"R\",\"ST\",\"nan\"],\"DOUBLE PARKING\":{\"__ndarray__\":\"AAAAAAAA+H8AAAAAAFTYQAAAAADAI9FAAAAAAAAA+H8AAAAAQIDvQAAAAAAAa8JAAAAAAAAA+H8AAAAAAMB0QAAAAAAAAPh/AAAAAACclkA=\",\"dtype\":\"float64\",\"shape\":[10]},\"EXPIRED MUNI METER\":{\"__ndarray__\":\"AAAAAAAA+H8AAAAAgDfGQAAAAAAA0slAAAAAAAAA+H8AAAAAAGjhQAAAAADgjuFAAAAAAAAA+H8AAAAAAIiSQAAAAAAAAPh/AAAAAAAAIEA=\",\"dtype\":\"float64\",\"shape\":[10]},\"FAIL TO DSPLY MUNI METER RECPT\":{\"__ndarray__\":\"AAAAAAAA+H8AAAAAwHPcQAAAAAAgF+5AAAAAAAAA+H8AAAAAALzuQAAAAAAwHfJAAAAAAAAA+H8AAAAAAAmzQAAAAAAAAPh/AAAAAACARUA=\",\"dtype\":\"float64\",\"shape\":[10]},\"FAILURE TO STOP AT RED LIGHT\":{\"__ndarray__\":\"AAAAAMA+30AAAAAAgJHGQAAAAAAAAPh/AAAAAACFtkAAAAAAAAD4fwAAAAAAAPh/AAAAAMB74UAAAAAAAAD4fwAAAAAARsFAAAAAAABQgEA=\",\"dtype\":\"float64\",\"shape\":[10]},\"FIRE HYDRANT\":{\"__ndarray__\":\"AAAAAAAA+H8AAAAAANzSQAAAAACgx+BAAAAAAAAA+H8AAAAAgG3cQAAAAACAwdhAAAAAAAAA+H8AAAAAAPycQAAAAAAAAPh/AAAAAACoh0A=\",\"dtype\":\"float64\",\"shape\":[10]},\"INSP. STICKER-EXPIRED/MISSING\":{\"__ndarray__\":\"AAAAAAAA+H8AAAAAQPbQQAAAAADAG95AAAAAAAAA+H8AAAAAgFnTQAAAAABAjeBAAAAAAAAA+H8AAAAAAL+/QAAAAAAAAPh/AAAAAADAVkA=\",\"dtype\":\"float64\",\"shape\":[10]},\"NO PARKING-DAY/TIME LIMITS\":{\"__ndarray__\":\"AAAAAAAA+H8AAAAAgMnRQAAAAAAAKtlAAAAAAAAA+H8AAAAAAMPzQAAAAABA2N9AAAAAAAAA+H8AAAAAAJiUQAAAAAAAAPh/AAAAAAAwfkA=\",\"dtype\":\"float64\",\"shape\":[10]},\"NO PARKING-STREET CLEANING\":{\"__ndarray__\":\"AAAAAAAA+H8AAAAA4HfrQAAAAAB4ogJBAAAAAAAA+H8AAAAAIJLwQAAAAAAANPRAAAAAAAAA+H8AAAAAAABMQAAAAAAAAPh/AAAAAACklkA=\",\"dtype\":\"float64\",\"shape\":[10]},\"NO STANDING-BUS STOP\":{\"__ndarray__\":\"AAAAAAAA+H8AAAAAAAm/QAAAAAAAi8tAAAAAAAAA+H8AAAAAwOXXQAAAAAAAtM1AAAAAAAAA+H8AAAAAALiCQAAAAAAAAPh/AAAAAADQg0A=\",\"dtype\":\"float64\",\"shape\":[10]},\"NO STANDING-DAY/TIME LIMITS\":{\"__ndarray__\":\"AAAAAAAA+H8AAAAAgATKQAAAAADgMeFAAAAAAAAA+H8AAAAAQND8QAAAAAAA6t5AAAAAAAAA+H8AAAAAADylQAAAAAAAAPh/AAAAAAAokkA=\",\"dtype\":\"float64\",\"shape\":[10]},\"index\":[0,1,2,3,4,5,6,7,8,9]},\"selected\":{\"id\":\"21142\",\"type\":\"Selection\"},\"selection_policy\":{\"id\":\"21141\",\"type\":\"UnionRenderers\"}},\"id\":\"20607\",\"type\":\"ColumnDataSource\"},{\"attributes\":{\"overlay\":{\"id\":\"21143\",\"type\":\"BoxAnnotation\"}},\"id\":\"20630\",\"type\":\"BoxZoomTool\"},{\"attributes\":{\"bottom_units\":\"screen\",\"fill_alpha\":{\"value\":0.5},\"fill_color\":{\"value\":\"lightgrey\"},\"left_units\":\"screen\",\"level\":\"overlay\",\"line_alpha\":{\"value\":1.0},\"line_color\":{\"value\":\"black\"},\"line_dash\":[4,4],\"line_width\":{\"value\":2},\"render_mode\":\"css\",\"right_units\":\"screen\",\"top_units\":\"screen\"},\"id\":\"21143\",\"type\":\"BoxAnnotation\"},{\"attributes\":{\"data_source\":{\"id\":\"20607\",\"type\":\"ColumnDataSource\"},\"glyph\":{\"id\":\"20672\",\"type\":\"VBar\"},\"hover_glyph\":null,\"muted_glyph\":{\"id\":\"20674\",\"type\":\"VBar\"},\"nonselection_glyph\":{\"id\":\"20673\",\"type\":\"VBar\"},\"selection_glyph\":null,\"view\":{\"id\":\"20676\",\"type\":\"CDSView\"}},\"id\":\"20675\",\"type\":\"GlyphRenderer\"},{\"attributes\":{\"label\":{\"value\":\"NO STANDING-BUS STOP\"},\"renderers\":[{\"id\":\"20699\",\"type\":\"GlyphRenderer\"}]},\"id\":\"20711\",\"type\":\"LegendItem\"},{\"attributes\":{\"source\":{\"id\":\"20607\",\"type\":\"ColumnDataSource\"}},\"id\":\"20688\",\"type\":\"CDSView\"},{\"attributes\":{},\"id\":\"20629\",\"type\":\"WheelZoomTool\"},{\"attributes\":{\"fill_alpha\":{\"value\":0.05},\"fill_color\":{\"value\":\"#2ca02c\"},\"line_alpha\":{\"value\":0.05},\"line_color\":{\"value\":\"#2ca02c\"},\"top\":{\"field\":\"DOUBLE PARKING\"},\"width\":{\"value\":0.2},\"x\":{\"field\":\"Country\"}},\"id\":\"20668\",\"type\":\"VBar\"},{\"attributes\":{\"label\":{\"value\":\"DOUBLE PARKING\"},\"renderers\":[{\"id\":\"20669\",\"type\":\"GlyphRenderer\"}]},\"id\":\"20706\",\"type\":\"LegendItem\"},{\"attributes\":{},\"id\":\"20617\",\"type\":\"LinearScale\"},{\"attributes\":{\"fill_alpha\":{\"value\":0.1},\"fill_color\":{\"value\":\"#1f77b4\"},\"line_alpha\":{\"value\":0.1},\"line_color\":{\"value\":\"#1f77b4\"},\"top\":{\"field\":\"FAIL TO DSPLY MUNI METER RECPT\"},\"width\":{\"value\":0.2},\"x\":{\"field\":\"Country\"}},\"id\":\"20649\",\"type\":\"VBar\"},{\"attributes\":{\"fill_alpha\":{\"value\":0.1},\"fill_color\":{\"value\":\"#1f77b4\"},\"line_alpha\":{\"value\":0.1},\"line_color\":{\"value\":\"#1f77b4\"},\"top\":{\"field\":\"NO PARKING-STREET CLEANING\"},\"width\":{\"value\":0.2},\"x\":{\"field\":\"Country\"}},\"id\":\"20643\",\"type\":\"VBar\"},{\"attributes\":{\"source\":{\"id\":\"20607\",\"type\":\"ColumnDataSource\"}},\"id\":\"20676\",\"type\":\"CDSView\"},{\"attributes\":{\"callback\":null,\"factors\":[\"BK\",\"BX\",\"K\",\"MN\",\"NY\",\"Q\",\"QN\",\"QUEEN\",\"R\",\"ST\",\"nan\"],\"range_padding\":0.05},\"id\":\"20608\",\"type\":\"FactorRange\"},{\"attributes\":{\"source\":{\"id\":\"20607\",\"type\":\"ColumnDataSource\"}},\"id\":\"20646\",\"type\":\"CDSView\"},{\"attributes\":{\"fill_alpha\":{\"value\":0.05},\"fill_color\":{\"value\":\"#d62728\"},\"line_alpha\":{\"value\":0.05},\"line_color\":{\"value\":\"#d62728\"},\"top\":{\"field\":\"INSP. STICKER-EXPIRED/MISSING\"},\"width\":{\"value\":0.2},\"x\":{\"field\":\"Country\"}},\"id\":\"20680\",\"type\":\"VBar\"},{\"attributes\":{\"fill_alpha\":{\"value\":0.05},\"fill_color\":{\"value\":\"#98df8a\"},\"line_alpha\":{\"value\":0.05},\"line_color\":{\"value\":\"#98df8a\"},\"top\":{\"field\":\"FIRE HYDRANT\"},\"width\":{\"value\":0.2},\"x\":{\"field\":\"Country\"}},\"id\":\"20674\",\"type\":\"VBar\"},{\"attributes\":{\"fill_alpha\":{\"value\":0.05},\"fill_color\":{\"value\":\"#ff9896\"},\"line_alpha\":{\"value\":0.05},\"line_color\":{\"value\":\"#ff9896\"},\"top\":{\"field\":\"EXPIRED MUNI METER\"},\"width\":{\"value\":0.2},\"x\":{\"field\":\"Country\"}},\"id\":\"20686\",\"type\":\"VBar\"},{\"attributes\":{\"label\":{\"value\":\"NO PARKING-DAY/TIME LIMITS\"},\"renderers\":[{\"id\":\"20663\",\"type\":\"GlyphRenderer\"}]},\"id\":\"20705\",\"type\":\"LegendItem\"},{\"attributes\":{\"data_source\":{\"id\":\"20607\",\"type\":\"ColumnDataSource\"},\"glyph\":{\"id\":\"20678\",\"type\":\"VBar\"},\"hover_glyph\":null,\"muted_glyph\":{\"id\":\"20680\",\"type\":\"VBar\"},\"nonselection_glyph\":{\"id\":\"20679\",\"type\":\"VBar\"},\"selection_glyph\":null,\"view\":{\"id\":\"20682\",\"type\":\"CDSView\"}},\"id\":\"20681\",\"type\":\"GlyphRenderer\"},{\"attributes\":{\"fill_alpha\":{\"value\":0.5},\"fill_color\":{\"value\":\"#ff9896\"},\"line_alpha\":{\"value\":0.5},\"line_color\":{\"value\":\"#ff9896\"},\"top\":{\"field\":\"EXPIRED MUNI METER\"},\"width\":{\"value\":0.2},\"x\":{\"field\":\"Country\"}},\"id\":\"20684\",\"type\":\"VBar\"},{\"attributes\":{\"fill_alpha\":{\"value\":0.5},\"fill_color\":{\"value\":\"#9467bd\"},\"line_alpha\":{\"value\":0.5},\"line_color\":{\"value\":\"#9467bd\"},\"top\":{\"field\":\"FAILURE TO STOP AT RED LIGHT\"},\"width\":{\"value\":0.2},\"x\":{\"field\":\"Country\"}},\"id\":\"20690\",\"type\":\"VBar\"},{\"attributes\":{\"fill_alpha\":{\"value\":0.05},\"fill_color\":{\"value\":\"#aec7e8\"},\"line_alpha\":{\"value\":0.05},\"line_color\":{\"value\":\"#aec7e8\"},\"top\":{\"field\":\"FAIL TO DSPLY MUNI METER RECPT\"},\"width\":{\"value\":0.2},\"x\":{\"field\":\"Country\"}},\"id\":\"20650\",\"type\":\"VBar\"},{\"attributes\":{\"fill_alpha\":{\"value\":0.5},\"fill_color\":{\"value\":\"#1f77b4\"},\"line_alpha\":{\"value\":0.5},\"line_color\":{\"value\":\"#1f77b4\"},\"top\":{\"field\":\"NO PARKING-STREET CLEANING\"},\"width\":{\"value\":0.2},\"x\":{\"field\":\"Country\"}},\"id\":\"20642\",\"type\":\"VBar\"},{\"attributes\":{\"fill_alpha\":{\"value\":0.1},\"fill_color\":{\"value\":\"#1f77b4\"},\"line_alpha\":{\"value\":0.1},\"line_color\":{\"value\":\"#1f77b4\"},\"top\":{\"field\":\"NO STANDING-BUS STOP\"},\"width\":{\"value\":0.2},\"x\":{\"field\":\"Country\"}},\"id\":\"20697\",\"type\":\"VBar\"},{\"attributes\":{\"source\":{\"id\":\"20607\",\"type\":\"ColumnDataSource\"}},\"id\":\"20658\",\"type\":\"CDSView\"},{\"attributes\":{\"fill_alpha\":{\"value\":0.5},\"fill_color\":{\"value\":\"#98df8a\"},\"line_alpha\":{\"value\":0.5},\"line_color\":{\"value\":\"#98df8a\"},\"top\":{\"field\":\"FIRE HYDRANT\"},\"width\":{\"value\":0.2},\"x\":{\"field\":\"Country\"}},\"id\":\"20672\",\"type\":\"VBar\"},{\"attributes\":{\"fill_alpha\":{\"value\":0.1},\"fill_color\":{\"value\":\"#1f77b4\"},\"line_alpha\":{\"value\":0.1},\"line_color\":{\"value\":\"#1f77b4\"},\"top\":{\"field\":\"DOUBLE PARKING\"},\"width\":{\"value\":0.2},\"x\":{\"field\":\"Country\"}},\"id\":\"20667\",\"type\":\"VBar\"},{\"attributes\":{\"data_source\":{\"id\":\"20607\",\"type\":\"ColumnDataSource\"},\"glyph\":{\"id\":\"20690\",\"type\":\"VBar\"},\"hover_glyph\":null,\"muted_glyph\":{\"id\":\"20692\",\"type\":\"VBar\"},\"nonselection_glyph\":{\"id\":\"20691\",\"type\":\"VBar\"},\"selection_glyph\":null,\"view\":{\"id\":\"20694\",\"type\":\"CDSView\"}},\"id\":\"20693\",\"type\":\"GlyphRenderer\"},{\"attributes\":{\"fill_alpha\":{\"value\":0.5},\"fill_color\":{\"value\":\"#d62728\"},\"line_alpha\":{\"value\":0.5},\"line_color\":{\"value\":\"#d62728\"},\"top\":{\"field\":\"INSP. STICKER-EXPIRED/MISSING\"},\"width\":{\"value\":0.2},\"x\":{\"field\":\"Country\"}},\"id\":\"20678\",\"type\":\"VBar\"},{\"attributes\":{\"label\":{\"value\":\"NO STANDING-DAY/TIME LIMITS\"},\"renderers\":[{\"id\":\"20657\",\"type\":\"GlyphRenderer\"}]},\"id\":\"20704\",\"type\":\"LegendItem\"},{\"attributes\":{\"fill_alpha\":{\"value\":0.1},\"fill_color\":{\"value\":\"#1f77b4\"},\"line_alpha\":{\"value\":0.1},\"line_color\":{\"value\":\"#1f77b4\"},\"top\":{\"field\":\"INSP. STICKER-EXPIRED/MISSING\"},\"width\":{\"value\":0.2},\"x\":{\"field\":\"Country\"}},\"id\":\"20679\",\"type\":\"VBar\"},{\"attributes\":{},\"id\":\"20631\",\"type\":\"SaveTool\"},{\"attributes\":{\"text\":\"Distibution of # of fines for top 10 violations pr. Country\"},\"id\":\"20610\",\"type\":\"Title\"},{\"attributes\":{\"source\":{\"id\":\"20607\",\"type\":\"ColumnDataSource\"}},\"id\":\"20700\",\"type\":\"CDSView\"},{\"attributes\":{\"fill_alpha\":{\"value\":0.1},\"fill_color\":{\"value\":\"#1f77b4\"},\"line_alpha\":{\"value\":0.1},\"line_color\":{\"value\":\"#1f77b4\"},\"top\":{\"field\":\"NO STANDING-DAY/TIME LIMITS\"},\"width\":{\"value\":0.2},\"x\":{\"field\":\"Country\"}},\"id\":\"20655\",\"type\":\"VBar\"},{\"attributes\":{},\"id\":\"20615\",\"type\":\"CategoricalScale\"},{\"attributes\":{\"fill_alpha\":{\"value\":0.1},\"fill_color\":{\"value\":\"#1f77b4\"},\"line_alpha\":{\"value\":0.1},\"line_color\":{\"value\":\"#1f77b4\"},\"top\":{\"field\":\"FIRE HYDRANT\"},\"width\":{\"value\":0.2},\"x\":{\"field\":\"Country\"}},\"id\":\"20673\",\"type\":\"VBar\"},{\"attributes\":{\"source\":{\"id\":\"20607\",\"type\":\"ColumnDataSource\"}},\"id\":\"20682\",\"type\":\"CDSView\"}],\"root_ids\":[\"20609\"]},\"title\":\"Bokeh Application\",\"version\":\"1.3.4\"}};\n",
       "  var render_items = [{\"docid\":\"1d0ac513-5adb-4287-83f4-88166f5d2359\",\"roots\":{\"20609\":\"293a18f1-2025-4c5d-887d-a5ca6c2266a4\"}}];\n",
       "  root.Bokeh.embed.embed_items_notebook(docs_json, render_items);\n",
       "\n",
       "  }\n",
       "  if (root.Bokeh !== undefined) {\n",
       "    embed_document(root);\n",
       "  } else {\n",
       "    var attempts = 0;\n",
       "    var timer = setInterval(function(root) {\n",
       "      if (root.Bokeh !== undefined) {\n",
       "        embed_document(root);\n",
       "        clearInterval(timer);\n",
       "      }\n",
       "      attempts++;\n",
       "      if (attempts > 100) {\n",
       "        console.log(\"Bokeh: ERROR: Unable to run BokehJS code because BokehJS library is missing\");\n",
       "        clearInterval(timer);\n",
       "      }\n",
       "    }, 10, root)\n",
       "  }\n",
       "})(window);"
      ],
      "application/vnd.bokehjs_exec.v0+json": ""
     },
     "metadata": {
      "application/vnd.bokehjs_exec.v0+json": {
       "id": "20609"
      }
     },
     "output_type": "display_data"
    }
   ],
   "source": [
    "bokeh(df,'County')\n",
    "#Output to html\n",
    "#output_file('county.html', mode='inline')"
   ]
  },
  {
   "cell_type": "markdown",
   "metadata": {},
   "source": [
    "# 3. Data analysis <br>\n",
    "* Describe your data analysis and explain what you've learned about the dataset.\n",
    "\n",
    "    - Violation Seasonality: <br>\n",
    "    For the seasonality of the parking violations we can se that the top violation are distributed a little different througout the day. For example the cleaing happens during the start of the day, which means should think about parking right from the morning, instead of just dumping the car anywhere. Another seasonality is the violation \"Inspections Sticker Missing/Outdated\". It is as sticker all cars in New York must have, and is aquired the first once a year. Here it is seen that alot of people aquire it the last or first day of the month, but alot of people forget to get the new inspections sticker in time, and this i seen as alot of people get af fine at the start of the month. "
   ]
  },
  {
   "cell_type": "markdown",
   "metadata": {},
   "source": [
    "# 4. Genre \n",
    "* Which tools did you use from each of the 3 categories of Visual Narrative (Figure 7 in Segal and Heer). Why?\n",
    "* Which tools did you use from each of the 3 categories of Narrative Structure (Figure 7 in Segal and Heer). Why?"
   ]
  },
  {
   "cell_type": "markdown",
   "metadata": {},
   "source": [
    "# 5. Visualizations\n",
    "\n",
    "* Explain the visualizations you've chosen. <br>\n",
    "Bokeh plot bar plots are mostly used, for an interactive story. This lets the reader play with the data, and do some basic \"findings\" for themselves. This is is also a great way to show distriutions of the violations, and quickly to recongnise if there is a parttern in the data. \n",
    "* Why are they right for the story you want to tell?"
   ]
  },
  {
   "cell_type": "markdown",
   "metadata": {},
   "source": [
    "# 6.Discussion \n",
    "* What went well?,\n",
    "* What is still missing? What could be improved?, Why?"
   ]
  },
  {
   "cell_type": "code",
   "execution_count": null,
   "metadata": {},
   "outputs": [],
   "source": []
  },
  {
   "cell_type": "code",
   "execution_count": null,
   "metadata": {},
   "outputs": [],
   "source": []
  },
  {
   "cell_type": "code",
   "execution_count": null,
   "metadata": {},
   "outputs": [],
   "source": []
  }
 ],
 "metadata": {
  "kernelspec": {
   "display_name": "Python 3",
   "language": "python",
   "name": "python3"
  },
  "language_info": {
   "codemirror_mode": {
    "name": "ipython",
    "version": 3
   },
   "file_extension": ".py",
   "mimetype": "text/x-python",
   "name": "python",
   "nbconvert_exporter": "python",
   "pygments_lexer": "ipython3",
   "version": "3.7.4"
  }
 },
 "nbformat": 4,
 "nbformat_minor": 4
}
