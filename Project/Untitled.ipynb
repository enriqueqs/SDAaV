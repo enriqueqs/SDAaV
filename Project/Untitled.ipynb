{
 "cells": [
  {
   "cell_type": "code",
   "execution_count": null,
   "metadata": {},
   "outputs": [],
   "source": [
    "import pandas as pd \n",
    "import numpy as np\n",
    "import calendar\n",
    "import matplotlib.pyplot as plt\n",
    "import datetime\n",
    "%matplotlib inline\n",
    "#import osmnx as ox\n",
    "from folium.plugins import HeatMap\n",
    "from bokeh.plotting import figure\n",
    "from bokeh.io import output_notebook, show\n",
    "from bokeh.models import ColumnDataSource, FactorRange,Legend,LinearAxis, DatetimeTickFormatter, Range1d\n",
    "from bokeh.palettes import Category20\n",
    "from bokeh.plotting import figure\n",
    "from bokeh.transform import factor_cmap\n",
    "from bokeh.resources import CDN\n",
    "from bokeh.embed import file_html\n",
    "\n",
    "#import swifter\n",
    "\n",
    "output_notebook()"
   ]
  },
  {
   "cell_type": "markdown",
   "metadata": {},
   "source": [
    "# Investigation Parking Enforcment Behaviour "
   ]
  },
  {
   "cell_type": "markdown",
   "metadata": {},
   "source": [
    "## Fetching the Data"
   ]
  },
  {
   "cell_type": "code",
   "execution_count": 273,
   "metadata": {},
   "outputs": [
    {
     "name": "stderr",
     "output_type": "stream",
     "text": [
      "/Users/rasmusblirupjensen/opt/anaconda3/lib/python3.7/site-packages/IPython/core/interactiveshell.py:3058: DtypeWarning: Columns (17,18,20,22,23,29,30,31,32,36,38,39) have mixed types.Specify dtype option on import or set low_memory=False.\n",
      "  interactivity=interactivity, compiler=compiler, result=result)\n"
     ]
    }
   ],
   "source": [
    "df = pd.read_csv(\"/Users/rasmusblirupjensen/Downloads/Parking_Violations_Issued_-_Fiscal_Year_2019.csv\")\n",
    "codes = pd.read_excel(\"/Users/rasmusblirupjensen/Downloads/ParkingViolationCodes_Nov_2018.xlsx\")"
   ]
  },
  {
   "cell_type": "code",
   "execution_count": 274,
   "metadata": {},
   "outputs": [],
   "source": [
    "#Merging the Data Sets\n",
    "#Convertin Violation code to integer\n",
    "codes[\"VIOLATION CODE\"].astype(int)\n",
    "#df = df.rename(columns={\"Violation Code\": \"Code\"})\n",
    "df_new =  df.merge(codes, left_on=\"Violation Code\",right_on=\"VIOLATION CODE\", how='left')\n",
    "#Dropping Columns that will not be used\n",
    "df = df_new.drop(columns=['Plate ID', 'Registration State', 'Plate Type','Street Code1', 'Street Code2', 'Street Code3','Vehicle Expiration Date', 'Time First Observed', 'Intersecting Street', 'Date First Observed', 'Law Section', 'Sub Division', 'Violation Legal Code', 'Days Parking In Effect',\n",
    "'From Hours In Effect', 'To Hours In Effect', 'Vehicle Color','Unregistered Vehicle?', 'Vehicle Year', 'Meter Number','No Standing or Stopping Violation', 'Hydrant Violation', 'Double Parking Violation',\"Violation Description\",'Violation In Front Of Or Opposite','Violation Location',\n",
    "], axis=1)\n",
    "\n",
    "#df = df.sample(frac=0.2)"
   ]
  },
  {
   "cell_type": "markdown",
   "metadata": {},
   "source": [
    "# 1.Motivation "
   ]
  },
  {
   "cell_type": "markdown",
   "metadata": {},
   "source": [
    "Dataset: <br>\n",
    "The dataset consists of data about parking violations in New York City for the fiscal year of 2019. There are 52 features in the original dataset, from which only 25 are used. \n",
    "\n",
    "Choice of Dataset:<br>\n",
    "The group wishes to investigate the behaviour of Parking Enforcement agents, given that there is always suspicions from citizens regarding officers trying to meet quotas. Since this is common myth in most large cities in the world. This dataset lets the group explore the behaviuor of individual officers and districts. This gives an oppertunity to explore how they operate, and clearify if any pattern in their behaviuor is present. Weather data has been added to enrich the violation data, inorder to see if weather has an impact on how officers act.\n",
    "\n",
    "Goal: <br>\n",
    "The goal of this research is to shed light upon the ever lasting question upon the (so called:sneaky) work of parking officals. "
   ]
  },
  {
   "cell_type": "code",
   "execution_count": 275,
   "metadata": {},
   "outputs": [
    {
     "data": {
      "text/html": [
       "<div>\n",
       "<style scoped>\n",
       "    .dataframe tbody tr th:only-of-type {\n",
       "        vertical-align: middle;\n",
       "    }\n",
       "\n",
       "    .dataframe tbody tr th {\n",
       "        vertical-align: top;\n",
       "    }\n",
       "\n",
       "    .dataframe thead th {\n",
       "        text-align: right;\n",
       "    }\n",
       "</style>\n",
       "<table border=\"1\" class=\"dataframe\">\n",
       "  <thead>\n",
       "    <tr style=\"text-align: right;\">\n",
       "      <th></th>\n",
       "      <th>Summons Number</th>\n",
       "      <th>Issue Date</th>\n",
       "      <th>Violation Code</th>\n",
       "      <th>Vehicle Body Type</th>\n",
       "      <th>Vehicle Make</th>\n",
       "      <th>Issuing Agency</th>\n",
       "      <th>Violation Precinct</th>\n",
       "      <th>Issuer Precinct</th>\n",
       "      <th>Issuer Code</th>\n",
       "      <th>Issuer Command</th>\n",
       "      <th>...</th>\n",
       "      <th>Violation Time</th>\n",
       "      <th>Violation County</th>\n",
       "      <th>House Number</th>\n",
       "      <th>Street Name</th>\n",
       "      <th>Feet From Curb</th>\n",
       "      <th>Violation Post Code</th>\n",
       "      <th>VIOLATION CODE</th>\n",
       "      <th>VIOLATION DESCRIPTION</th>\n",
       "      <th>Manhattan  96th St. &amp; below\\n(Fine Amount $)</th>\n",
       "      <th>All Other Areas\\n(Fine Amount $)</th>\n",
       "    </tr>\n",
       "  </thead>\n",
       "  <tbody>\n",
       "    <tr>\n",
       "      <th>8934918</th>\n",
       "      <td>8688329886</td>\n",
       "      <td>04/10/2019</td>\n",
       "      <td>70</td>\n",
       "      <td>4DSD</td>\n",
       "      <td>SUBAR</td>\n",
       "      <td>T</td>\n",
       "      <td>49</td>\n",
       "      <td>49</td>\n",
       "      <td>367967</td>\n",
       "      <td>T201</td>\n",
       "      <td>...</td>\n",
       "      <td>1237P</td>\n",
       "      <td>BX</td>\n",
       "      <td>1846</td>\n",
       "      <td>Amethyst St</td>\n",
       "      <td>0</td>\n",
       "      <td>08</td>\n",
       "      <td>70.0</td>\n",
       "      <td>REG. STICKER-EXPIRED/MISSING</td>\n",
       "      <td>65.0</td>\n",
       "      <td>65.0</td>\n",
       "    </tr>\n",
       "    <tr>\n",
       "      <th>2132858</th>\n",
       "      <td>8561787272</td>\n",
       "      <td>09/24/2018</td>\n",
       "      <td>38</td>\n",
       "      <td>4DSD</td>\n",
       "      <td>HONDA</td>\n",
       "      <td>T</td>\n",
       "      <td>107</td>\n",
       "      <td>107</td>\n",
       "      <td>368520</td>\n",
       "      <td>T402</td>\n",
       "      <td>...</td>\n",
       "      <td>1247P</td>\n",
       "      <td>Q</td>\n",
       "      <td>68-01</td>\n",
       "      <td>Main St</td>\n",
       "      <td>0</td>\n",
       "      <td>42</td>\n",
       "      <td>38.0</td>\n",
       "      <td>FAIL TO DSPLY MUNI METER RECPT</td>\n",
       "      <td>65.0</td>\n",
       "      <td>35.0</td>\n",
       "    </tr>\n",
       "    <tr>\n",
       "      <th>8690484</th>\n",
       "      <td>8736752307</td>\n",
       "      <td>03/12/2019</td>\n",
       "      <td>46</td>\n",
       "      <td>VAN</td>\n",
       "      <td>INTER</td>\n",
       "      <td>T</td>\n",
       "      <td>19</td>\n",
       "      <td>19</td>\n",
       "      <td>362564</td>\n",
       "      <td>T103</td>\n",
       "      <td>...</td>\n",
       "      <td>0136P</td>\n",
       "      <td>NY</td>\n",
       "      <td>N</td>\n",
       "      <td>E 91st St</td>\n",
       "      <td>0</td>\n",
       "      <td>54</td>\n",
       "      <td>46.0</td>\n",
       "      <td>DOUBLE PARKING</td>\n",
       "      <td>115.0</td>\n",
       "      <td>115.0</td>\n",
       "    </tr>\n",
       "    <tr>\n",
       "      <th>10621983</th>\n",
       "      <td>1451235112</td>\n",
       "      <td>05/31/2019</td>\n",
       "      <td>14</td>\n",
       "      <td>SUBN</td>\n",
       "      <td>TOYOT</td>\n",
       "      <td>P</td>\n",
       "      <td>78</td>\n",
       "      <td>78</td>\n",
       "      <td>963367</td>\n",
       "      <td>0078</td>\n",
       "      <td>...</td>\n",
       "      <td>0555P</td>\n",
       "      <td>K</td>\n",
       "      <td>509</td>\n",
       "      <td>DEAN ST</td>\n",
       "      <td>0</td>\n",
       "      <td>NaN</td>\n",
       "      <td>14.0</td>\n",
       "      <td>NO STANDING-DAY/TIME LIMITS</td>\n",
       "      <td>115.0</td>\n",
       "      <td>115.0</td>\n",
       "    </tr>\n",
       "    <tr>\n",
       "      <th>1082827</th>\n",
       "      <td>5102993112</td>\n",
       "      <td>07/19/2018</td>\n",
       "      <td>7</td>\n",
       "      <td>SUBN</td>\n",
       "      <td>NISSA</td>\n",
       "      <td>V</td>\n",
       "      <td>0</td>\n",
       "      <td>0</td>\n",
       "      <td>0</td>\n",
       "      <td>NaN</td>\n",
       "      <td>...</td>\n",
       "      <td>0916A</td>\n",
       "      <td>BX</td>\n",
       "      <td>NaN</td>\n",
       "      <td>CROSS BRONX EXPWY (W</td>\n",
       "      <td>0</td>\n",
       "      <td>NaN</td>\n",
       "      <td>7.0</td>\n",
       "      <td>FAILURE TO STOP AT RED LIGHT</td>\n",
       "      <td>50.0</td>\n",
       "      <td>50.0</td>\n",
       "    </tr>\n",
       "  </tbody>\n",
       "</table>\n",
       "<p>5 rows × 21 columns</p>\n",
       "</div>"
      ],
      "text/plain": [
       "          Summons Number  Issue Date  Violation Code Vehicle Body Type  \\\n",
       "8934918       8688329886  04/10/2019              70              4DSD   \n",
       "2132858       8561787272  09/24/2018              38              4DSD   \n",
       "8690484       8736752307  03/12/2019              46               VAN   \n",
       "10621983      1451235112  05/31/2019              14              SUBN   \n",
       "1082827       5102993112  07/19/2018               7              SUBN   \n",
       "\n",
       "         Vehicle Make Issuing Agency  Violation Precinct  Issuer Precinct  \\\n",
       "8934918         SUBAR              T                  49               49   \n",
       "2132858         HONDA              T                 107              107   \n",
       "8690484         INTER              T                  19               19   \n",
       "10621983        TOYOT              P                  78               78   \n",
       "1082827         NISSA              V                   0                0   \n",
       "\n",
       "          Issuer Code Issuer Command  ... Violation Time Violation County  \\\n",
       "8934918        367967           T201  ...          1237P               BX   \n",
       "2132858        368520           T402  ...          1247P                Q   \n",
       "8690484        362564           T103  ...          0136P               NY   \n",
       "10621983       963367           0078  ...          0555P                K   \n",
       "1082827             0            NaN  ...          0916A               BX   \n",
       "\n",
       "         House Number           Street Name Feet From Curb  \\\n",
       "8934918          1846           Amethyst St              0   \n",
       "2132858         68-01               Main St              0   \n",
       "8690484             N             E 91st St              0   \n",
       "10621983          509               DEAN ST              0   \n",
       "1082827           NaN  CROSS BRONX EXPWY (W              0   \n",
       "\n",
       "          Violation Post Code VIOLATION CODE           VIOLATION DESCRIPTION  \\\n",
       "8934918                    08           70.0    REG. STICKER-EXPIRED/MISSING   \n",
       "2132858                    42           38.0  FAIL TO DSPLY MUNI METER RECPT   \n",
       "8690484                    54           46.0                  DOUBLE PARKING   \n",
       "10621983                  NaN           14.0     NO STANDING-DAY/TIME LIMITS   \n",
       "1082827                   NaN            7.0    FAILURE TO STOP AT RED LIGHT   \n",
       "\n",
       "         Manhattan  96th St. & below\\n(Fine Amount $)  \\\n",
       "8934918                                          65.0   \n",
       "2132858                                          65.0   \n",
       "8690484                                         115.0   \n",
       "10621983                                        115.0   \n",
       "1082827                                          50.0   \n",
       "\n",
       "          All Other Areas\\n(Fine Amount $)  \n",
       "8934918                               65.0  \n",
       "2132858                               35.0  \n",
       "8690484                              115.0  \n",
       "10621983                             115.0  \n",
       "1082827                               50.0  \n",
       "\n",
       "[5 rows x 21 columns]"
      ]
     },
     "execution_count": 275,
     "metadata": {},
     "output_type": "execute_result"
    }
   ],
   "source": [
    "df.head()"
   ]
  },
  {
   "cell_type": "code",
   "execution_count": 276,
   "metadata": {},
   "outputs": [
    {
     "data": {
      "text/plain": [
       "(2293501, 21)"
      ]
     },
     "execution_count": 276,
     "metadata": {},
     "output_type": "execute_result"
    }
   ],
   "source": [
    "df.shape\n"
   ]
  },
  {
   "cell_type": "markdown",
   "metadata": {},
   "source": [
    "# 2. Data Cleaning\n",
    "* Write about your choices in data cleaning and preprocessing <br>\n",
    "Through the data cleaning we choose to remove many of the columns as we deemed them not relevant for what we wished to explore thoughout the dataset. Some data was hard to use, since it came in different format. Fx. the time came in xxxxP or xxxxA, here we had to write a small script that converted the time to er 24 hour time format. Day and month were retrived in order to use them for visualizations. Further more, a violation has been taken out of the dataset since it is a speed camera, and we wish to keep i to personel only. \n",
    "<br>\n",
    "* Write a short section that discusses the dataset stats, containing key points/plots from your exploratory data analysis. <br>"
   ]
  },
  {
   "cell_type": "code",
   "execution_count": 277,
   "metadata": {},
   "outputs": [],
   "source": [
    "## converting the Violation Time to datetime \n",
    "def time(xx):\n",
    "    time = []\n",
    "    for x in xx:\n",
    "        x = str(x)\n",
    "        if x[-1:] == \"P\":\n",
    "            if x[:2] == \"12\":\n",
    "                new_x = \"12\"\n",
    "                second = x[2:4]\n",
    "                new_time = new_x+\":\"+str(second)+\":\"+\"00\"    \n",
    "                time.append(new_time)\n",
    "            else:\n",
    "                first = int(x[:2])+12\n",
    "                second = x[2:4]\n",
    "                new_time = str(first)+\":\"+str(second)+\":\"+\"00\"   \n",
    "                time.append(new_time)\n",
    "        else:\n",
    "            if x[:2] == \"12\":\n",
    "                new_x = \"00\"\n",
    "                second = x[2:4]\n",
    "                new_time = new_x+\":\"+str(second)+\":\"+\"00\"    \n",
    "                time.append(new_time)\n",
    "            else:  \n",
    "                first = x[:2]\n",
    "                second = x[2:4]\n",
    "                new_time = str(first)+\":\"+str(second)+\":\"+\"00\"    \n",
    "                time.append(new_time)\n",
    "    return time"
   ]
  },
  {
   "cell_type": "code",
   "execution_count": 278,
   "metadata": {},
   "outputs": [
    {
     "name": "stdout",
     "output_type": "stream",
     "text": [
      "CPU times: user 11.9 s, sys: 1.58 s, total: 13.5 s\n",
      "Wall time: 13.9 s\n"
     ]
    }
   ],
   "source": [
    "#Converting Date into right format\n",
    "df['Issue Date']=pd.to_datetime(df[\"Issue Date\"], format='%m/%d/%Y', errors='coerce')\n",
    "#Converting County to String\n",
    "df.dropna(subset=\"Violation County\", inplace=True)\n",
    "df[\"County\"] = df['Violation County'].astype(str)\n",
    "# Creating Time Stamps and time features\n",
    "df[\"Day Name\"] = df[\"Issue Date\"].dt.day_name()\n",
    "df[\"Day Number\"] =  df[\"Issue Date\"].dt.dayofweek\n",
    "df[\"month\"] =  df[\"Issue Date\"].dt.month\n",
    "df[\"month name\"] = df[\"Issue Date\"].dt.month_name()\n",
    "df[\"Time\"] = time(df['Violation Time'])\n",
    "df[\"Time\"] = pd.to_datetime(df[\"Time\"], format = '%H:%M:%S',  errors='coerce' )\n",
    "df[\"Hour\"] = df[\"Time\"].dt.hour\n",
    "df.dropna(subset= [\"Hour\"], inplace = True)\n",
    "df[\"Hour\"] = df[\"Hour\"].astype(int)\n",
    "df[\"Day\"] = df[\"Issue Date\"].dt.day\n",
    "#Dropping Violation code 36 because it is a Speed Camera\n",
    "df = df[df[\"Violation Code\"] != 36 ]"
   ]
  },
  {
   "cell_type": "code",
   "execution_count": 279,
   "metadata": {},
   "outputs": [
    {
     "data": {
      "text/plain": [
       "Index(['Summons Number', 'Issue Date', 'Violation Code', 'Vehicle Body Type',\n",
       "       'Vehicle Make', 'Issuing Agency', 'Violation Precinct',\n",
       "       'Issuer Precinct', 'Issuer Code', 'Issuer Command', 'Issuer Squad',\n",
       "       'Violation Time', 'Violation County', 'House Number', 'Street Name',\n",
       "       'Feet From Curb', 'Violation Post Code', 'VIOLATION CODE',\n",
       "       'VIOLATION DESCRIPTION', 'Manhattan  96th St. & below\\n(Fine Amount $)',\n",
       "       'All Other Areas\\n(Fine Amount $)', 'Country', 'Day Name', 'Day Number',\n",
       "       'month', 'month name', 'Time', 'Hour', 'Day'],\n",
       "      dtype='object')"
      ]
     },
     "execution_count": 279,
     "metadata": {},
     "output_type": "execute_result"
    }
   ],
   "source": []
  },
  {
   "cell_type": "code",
   "execution_count": 280,
   "metadata": {},
   "outputs": [
    {
     "data": {
      "text/html": [
       "<div>\n",
       "<style scoped>\n",
       "    .dataframe tbody tr th:only-of-type {\n",
       "        vertical-align: middle;\n",
       "    }\n",
       "\n",
       "    .dataframe tbody tr th {\n",
       "        vertical-align: top;\n",
       "    }\n",
       "\n",
       "    .dataframe thead th {\n",
       "        text-align: right;\n",
       "    }\n",
       "</style>\n",
       "<table border=\"1\" class=\"dataframe\">\n",
       "  <thead>\n",
       "    <tr style=\"text-align: right;\">\n",
       "      <th></th>\n",
       "      <th>Summons Number</th>\n",
       "      <th>Issue Date</th>\n",
       "      <th>Violation Code</th>\n",
       "      <th>Vehicle Body Type</th>\n",
       "      <th>Vehicle Make</th>\n",
       "      <th>Issuing Agency</th>\n",
       "      <th>Violation Precinct</th>\n",
       "      <th>Issuer Precinct</th>\n",
       "      <th>Issuer Code</th>\n",
       "      <th>Issuer Command</th>\n",
       "      <th>...</th>\n",
       "      <th>Manhattan  96th St. &amp; below\\n(Fine Amount $)</th>\n",
       "      <th>All Other Areas\\n(Fine Amount $)</th>\n",
       "      <th>Country</th>\n",
       "      <th>Day Name</th>\n",
       "      <th>Day Number</th>\n",
       "      <th>month</th>\n",
       "      <th>month name</th>\n",
       "      <th>Time</th>\n",
       "      <th>Hour</th>\n",
       "      <th>Day</th>\n",
       "    </tr>\n",
       "  </thead>\n",
       "  <tbody>\n",
       "    <tr>\n",
       "      <th>8934918</th>\n",
       "      <td>8688329886</td>\n",
       "      <td>2019-04-10</td>\n",
       "      <td>70</td>\n",
       "      <td>4DSD</td>\n",
       "      <td>SUBAR</td>\n",
       "      <td>T</td>\n",
       "      <td>49</td>\n",
       "      <td>49</td>\n",
       "      <td>367967</td>\n",
       "      <td>T201</td>\n",
       "      <td>...</td>\n",
       "      <td>65.0</td>\n",
       "      <td>65.0</td>\n",
       "      <td>BX</td>\n",
       "      <td>Wednesday</td>\n",
       "      <td>2</td>\n",
       "      <td>4</td>\n",
       "      <td>April</td>\n",
       "      <td>1900-01-01 12:37:00</td>\n",
       "      <td>12</td>\n",
       "      <td>10</td>\n",
       "    </tr>\n",
       "    <tr>\n",
       "      <th>2132858</th>\n",
       "      <td>8561787272</td>\n",
       "      <td>2018-09-24</td>\n",
       "      <td>38</td>\n",
       "      <td>4DSD</td>\n",
       "      <td>HONDA</td>\n",
       "      <td>T</td>\n",
       "      <td>107</td>\n",
       "      <td>107</td>\n",
       "      <td>368520</td>\n",
       "      <td>T402</td>\n",
       "      <td>...</td>\n",
       "      <td>65.0</td>\n",
       "      <td>35.0</td>\n",
       "      <td>Q</td>\n",
       "      <td>Monday</td>\n",
       "      <td>0</td>\n",
       "      <td>9</td>\n",
       "      <td>September</td>\n",
       "      <td>1900-01-01 12:47:00</td>\n",
       "      <td>12</td>\n",
       "      <td>24</td>\n",
       "    </tr>\n",
       "    <tr>\n",
       "      <th>8690484</th>\n",
       "      <td>8736752307</td>\n",
       "      <td>2019-03-12</td>\n",
       "      <td>46</td>\n",
       "      <td>VAN</td>\n",
       "      <td>INTER</td>\n",
       "      <td>T</td>\n",
       "      <td>19</td>\n",
       "      <td>19</td>\n",
       "      <td>362564</td>\n",
       "      <td>T103</td>\n",
       "      <td>...</td>\n",
       "      <td>115.0</td>\n",
       "      <td>115.0</td>\n",
       "      <td>NY</td>\n",
       "      <td>Tuesday</td>\n",
       "      <td>1</td>\n",
       "      <td>3</td>\n",
       "      <td>March</td>\n",
       "      <td>1900-01-01 13:36:00</td>\n",
       "      <td>13</td>\n",
       "      <td>12</td>\n",
       "    </tr>\n",
       "    <tr>\n",
       "      <th>10621983</th>\n",
       "      <td>1451235112</td>\n",
       "      <td>2019-05-31</td>\n",
       "      <td>14</td>\n",
       "      <td>SUBN</td>\n",
       "      <td>TOYOT</td>\n",
       "      <td>P</td>\n",
       "      <td>78</td>\n",
       "      <td>78</td>\n",
       "      <td>963367</td>\n",
       "      <td>0078</td>\n",
       "      <td>...</td>\n",
       "      <td>115.0</td>\n",
       "      <td>115.0</td>\n",
       "      <td>K</td>\n",
       "      <td>Friday</td>\n",
       "      <td>4</td>\n",
       "      <td>5</td>\n",
       "      <td>May</td>\n",
       "      <td>1900-01-01 17:55:00</td>\n",
       "      <td>17</td>\n",
       "      <td>31</td>\n",
       "    </tr>\n",
       "    <tr>\n",
       "      <th>1082827</th>\n",
       "      <td>5102993112</td>\n",
       "      <td>2018-07-19</td>\n",
       "      <td>7</td>\n",
       "      <td>SUBN</td>\n",
       "      <td>NISSA</td>\n",
       "      <td>V</td>\n",
       "      <td>0</td>\n",
       "      <td>0</td>\n",
       "      <td>0</td>\n",
       "      <td>NaN</td>\n",
       "      <td>...</td>\n",
       "      <td>50.0</td>\n",
       "      <td>50.0</td>\n",
       "      <td>BX</td>\n",
       "      <td>Thursday</td>\n",
       "      <td>3</td>\n",
       "      <td>7</td>\n",
       "      <td>July</td>\n",
       "      <td>1900-01-01 09:16:00</td>\n",
       "      <td>9</td>\n",
       "      <td>19</td>\n",
       "    </tr>\n",
       "  </tbody>\n",
       "</table>\n",
       "<p>5 rows × 29 columns</p>\n",
       "</div>"
      ],
      "text/plain": [
       "          Summons Number Issue Date  Violation Code Vehicle Body Type  \\\n",
       "8934918       8688329886 2019-04-10              70              4DSD   \n",
       "2132858       8561787272 2018-09-24              38              4DSD   \n",
       "8690484       8736752307 2019-03-12              46               VAN   \n",
       "10621983      1451235112 2019-05-31              14              SUBN   \n",
       "1082827       5102993112 2018-07-19               7              SUBN   \n",
       "\n",
       "         Vehicle Make Issuing Agency  Violation Precinct  Issuer Precinct  \\\n",
       "8934918         SUBAR              T                  49               49   \n",
       "2132858         HONDA              T                 107              107   \n",
       "8690484         INTER              T                  19               19   \n",
       "10621983        TOYOT              P                  78               78   \n",
       "1082827         NISSA              V                   0                0   \n",
       "\n",
       "          Issuer Code Issuer Command  ...  \\\n",
       "8934918        367967           T201  ...   \n",
       "2132858        368520           T402  ...   \n",
       "8690484        362564           T103  ...   \n",
       "10621983       963367           0078  ...   \n",
       "1082827             0            NaN  ...   \n",
       "\n",
       "         Manhattan  96th St. & below\\n(Fine Amount $)  \\\n",
       "8934918                                          65.0   \n",
       "2132858                                          65.0   \n",
       "8690484                                         115.0   \n",
       "10621983                                        115.0   \n",
       "1082827                                          50.0   \n",
       "\n",
       "         All Other Areas\\n(Fine Amount $) Country   Day Name Day Number  \\\n",
       "8934918                              65.0      BX  Wednesday          2   \n",
       "2132858                              35.0       Q     Monday          0   \n",
       "8690484                             115.0      NY    Tuesday          1   \n",
       "10621983                            115.0       K     Friday          4   \n",
       "1082827                              50.0      BX   Thursday          3   \n",
       "\n",
       "          month month name                Time Hour  Day  \n",
       "8934918       4      April 1900-01-01 12:37:00   12   10  \n",
       "2132858       9  September 1900-01-01 12:47:00   12   24  \n",
       "8690484       3      March 1900-01-01 13:36:00   13   12  \n",
       "10621983      5        May 1900-01-01 17:55:00   17   31  \n",
       "1082827       7       July 1900-01-01 09:16:00    9   19  \n",
       "\n",
       "[5 rows x 29 columns]"
      ]
     },
     "execution_count": 280,
     "metadata": {},
     "output_type": "execute_result"
    }
   ],
   "source": [
    "\n",
    "df.head()"
   ]
  },
  {
   "cell_type": "code",
   "execution_count": 281,
   "metadata": {},
   "outputs": [
    {
     "name": "stdout",
     "output_type": "stream",
     "text": [
      "Number of different parking violatons: 96\n",
      "Number of county's: 143\n",
      "Number of Postal codes: 11\n"
     ]
    }
   ],
   "source": [
    "print(\"Number of different parking violatons:\",len(df[\"VIOLATION DESCRIPTION\"].unique()))\n",
    "print(\"Number of county's:\",len(df[\"Violation Precinct\"].unique()))\n",
    "print(\"Number of Postal codes:\", len(df['Violation County'].unique()))"
   ]
  },
  {
   "cell_type": "code",
   "execution_count": 282,
   "metadata": {},
   "outputs": [
    {
     "data": {
      "text/plain": [
       "VIOLATION DESCRIPTION\n",
       "NO PARKING-STREET CLEANING        23467665.0\n",
       "NO STANDING-DAY/TIME LIMITS       23240580.0\n",
       "FAIL TO DSPLY MUNI METER RECPT    15132975.0\n",
       "DOUBLE PARKING                    13591390.0\n",
       "FIRE HYDRANT                      12736135.0\n",
       "NO PARKING-DAY/TIME LIMITS        10356840.0\n",
       "NO STANDING-BUS STOP               7240285.0\n",
       "INSP. STICKER-EXPIRED/MISSING      7158450.0\n",
       "EXPIRED MUNI METER                 6330740.0\n",
       "BUS LANE VIOLATION                 5733555.0\n",
       "Name: Manhattan  96th St. & below\\n(Fine Amount $), dtype: float64"
      ]
     },
     "execution_count": 282,
     "metadata": {},
     "output_type": "execute_result"
    }
   ],
   "source": [
    "#Top 10 most revenued violations\n",
    "top_rev = df.groupby(\"VIOLATION DESCRIPTION\")['Manhattan  96th St. & below\\n(Fine Amount $)'].sum().sort_values(ascending=False)[:10]\n",
    "top_rev\n"
   ]
  },
  {
   "cell_type": "code",
   "execution_count": 283,
   "metadata": {},
   "outputs": [
    {
     "data": {
      "text/plain": [
       "NO PARKING-STREET CLEANING        361041\n",
       "FAIL TO DSPLY MUNI METER RECPT    232815\n",
       "NO STANDING-DAY/TIME LIMITS       202092\n",
       "NO PARKING-DAY/TIME LIMITS        159336\n",
       "DOUBLE PARKING                    118186\n",
       "FIRE HYDRANT                      110749\n",
       "INSP. STICKER-EXPIRED/MISSING     110130\n",
       "EXPIRED MUNI METER                 97396\n",
       "FAILURE TO STOP AT RED LIGHT       94487\n",
       "NO STANDING-BUS STOP               62959\n",
       "Name: VIOLATION DESCRIPTION, dtype: int64"
      ]
     },
     "execution_count": 283,
     "metadata": {},
     "output_type": "execute_result"
    }
   ],
   "source": [
    "#Top 10 most issued fines\n",
    "topfines = df[\"VIOLATION DESCRIPTION\"].value_counts()[:10]\n",
    "topfines"
   ]
  },
  {
   "cell_type": "code",
   "execution_count": 284,
   "metadata": {},
   "outputs": [],
   "source": [
    "# Def of bokeh plot\n",
    "def bokeh(df,y):\n",
    "    topfines = df[\"VIOLATION DESCRIPTION\"].value_counts()[:10]\n",
    "    top = topfines.index.to_list()\n",
    "    bokeh = df[df[\"VIOLATION DESCRIPTION\"].isin(top)] #Reducing the dataframe only to obtain the forcuscrimes\n",
    "    station = bokeh.groupby(y)[\"VIOLATION DESCRIPTION\"].value_counts().unstack()\n",
    "    station.reset_index(level=0, inplace=True) # creating a new index, so hour becomes a column. \n",
    "        \n",
    "    source = ColumnDataSource(station)\n",
    "    \n",
    "    hours = [] # empty list to store the string converted hours\n",
    "    for i in sorted(df[y].unique()):\n",
    "        hours.append(str(i))\n",
    "    \n",
    "    p = figure(x_range = FactorRange(factors=hours),plot_height=500, plot_width= 1200, toolbar_location=None, title=\"Distibution of # of fines for top 10 violations pr. {}\".format(y))\n",
    "    bar ={}\n",
    "    items = [] \n",
    "    for indx,i in enumerate(top):\n",
    "        bar[i] = p.vbar(x=y, width=0.2,  top=i, source = source, muted_alpha =0.05, alpha=0.5, muted_color=Category20[14][indx] ,color=Category20[14][indx]) \n",
    "        items.append((i, [bar[i]])) #the dictionary is appended to the items list, to the respective category.  \n",
    "        \n",
    "    legend = Legend(items=items, location=(0,50)) #Legend and location is configured\n",
    "    p.add_layout(legend, \"left\") #Adding the legend outisde the plot. \n",
    "    p.xaxis.axis_label = y #Setting x-axis title\n",
    "    p.yaxis.axis_label = \"# of fines\" #Setting y-axis title\n",
    "    p.x_range.range_padding = 0.05 # \n",
    "    p.legend.click_policy=\"mute\" #mute is chossen, becuase this enables one to see all of the different categories partily if not chosen, instead of hiding them. \n",
    "    show(p) "
   ]
  },
  {
   "cell_type": "code",
   "execution_count": 285,
   "metadata": {},
   "outputs": [
    {
     "data": {
      "text/html": [
       "\n",
       "\n",
       "\n",
       "\n",
       "\n",
       "\n",
       "  <div class=\"bk-root\" id=\"d01550d1-3e7a-40aa-b760-c3c61cb3c682\" data-root-id=\"18347\"></div>\n"
      ]
     },
     "metadata": {},
     "output_type": "display_data"
    },
    {
     "data": {
      "application/javascript": [
       "(function(root) {\n",
       "  function embed_document(root) {\n",
       "    \n",
       "  var docs_json = {\"1ec1cc76-da8d-4bfb-8020-4a895c204e8c\":{\"roots\":{\"references\":[{\"attributes\":{\"below\":[{\"id\":\"18357\",\"type\":\"CategoricalAxis\"}],\"center\":[{\"id\":\"18360\",\"type\":\"Grid\"},{\"id\":\"18365\",\"type\":\"Grid\"}],\"left\":[{\"id\":\"18361\",\"type\":\"LinearAxis\"},{\"id\":\"18439\",\"type\":\"Legend\"}],\"plot_height\":500,\"plot_width\":1200,\"renderers\":[{\"id\":\"18383\",\"type\":\"GlyphRenderer\"},{\"id\":\"18389\",\"type\":\"GlyphRenderer\"},{\"id\":\"18395\",\"type\":\"GlyphRenderer\"},{\"id\":\"18401\",\"type\":\"GlyphRenderer\"},{\"id\":\"18407\",\"type\":\"GlyphRenderer\"},{\"id\":\"18413\",\"type\":\"GlyphRenderer\"},{\"id\":\"18419\",\"type\":\"GlyphRenderer\"},{\"id\":\"18425\",\"type\":\"GlyphRenderer\"},{\"id\":\"18431\",\"type\":\"GlyphRenderer\"},{\"id\":\"18437\",\"type\":\"GlyphRenderer\"}],\"title\":{\"id\":\"18348\",\"type\":\"Title\"},\"toolbar\":{\"id\":\"18372\",\"type\":\"Toolbar\"},\"toolbar_location\":null,\"x_range\":{\"id\":\"18346\",\"type\":\"FactorRange\"},\"x_scale\":{\"id\":\"18353\",\"type\":\"CategoricalScale\"},\"y_range\":{\"id\":\"18351\",\"type\":\"DataRange1d\"},\"y_scale\":{\"id\":\"18355\",\"type\":\"LinearScale\"}},\"id\":\"18347\",\"subtype\":\"Figure\",\"type\":\"Plot\"},{\"attributes\":{\"fill_alpha\":{\"value\":0.5},\"fill_color\":{\"value\":\"#98df8a\"},\"line_alpha\":{\"value\":0.5},\"line_color\":{\"value\":\"#98df8a\"},\"top\":{\"field\":\"FIRE HYDRANT\"},\"width\":{\"value\":0.2},\"x\":{\"field\":\"Hour\"}},\"id\":\"18410\",\"type\":\"VBar\"},{\"attributes\":{\"axis_label\":\"Hour\",\"formatter\":{\"id\":\"18844\",\"type\":\"CategoricalTickFormatter\"},\"ticker\":{\"id\":\"18358\",\"type\":\"CategoricalTicker\"}},\"id\":\"18357\",\"type\":\"CategoricalAxis\"},{\"attributes\":{\"fill_alpha\":{\"value\":0.1},\"fill_color\":{\"value\":\"#1f77b4\"},\"line_alpha\":{\"value\":0.1},\"line_color\":{\"value\":\"#1f77b4\"},\"top\":{\"field\":\"FAILURE TO STOP AT RED LIGHT\"},\"width\":{\"value\":0.2},\"x\":{\"field\":\"Hour\"}},\"id\":\"18429\",\"type\":\"VBar\"},{\"attributes\":{},\"id\":\"18844\",\"type\":\"CategoricalTickFormatter\"},{\"attributes\":{\"fill_alpha\":{\"value\":0.05},\"fill_color\":{\"value\":\"#ff7f0e\"},\"line_alpha\":{\"value\":0.05},\"line_color\":{\"value\":\"#ff7f0e\"},\"top\":{\"field\":\"NO STANDING-DAY/TIME LIMITS\"},\"width\":{\"value\":0.2},\"x\":{\"field\":\"Hour\"}},\"id\":\"18394\",\"type\":\"VBar\"},{\"attributes\":{\"source\":{\"id\":\"18345\",\"type\":\"ColumnDataSource\"}},\"id\":\"18420\",\"type\":\"CDSView\"},{\"attributes\":{},\"id\":\"18846\",\"type\":\"BasicTickFormatter\"},{\"attributes\":{\"click_policy\":\"mute\",\"items\":[{\"id\":\"18440\",\"type\":\"LegendItem\"},{\"id\":\"18441\",\"type\":\"LegendItem\"},{\"id\":\"18442\",\"type\":\"LegendItem\"},{\"id\":\"18443\",\"type\":\"LegendItem\"},{\"id\":\"18444\",\"type\":\"LegendItem\"},{\"id\":\"18445\",\"type\":\"LegendItem\"},{\"id\":\"18446\",\"type\":\"LegendItem\"},{\"id\":\"18447\",\"type\":\"LegendItem\"},{\"id\":\"18448\",\"type\":\"LegendItem\"},{\"id\":\"18449\",\"type\":\"LegendItem\"}],\"location\":[0,50]},\"id\":\"18439\",\"type\":\"Legend\"},{\"attributes\":{\"source\":{\"id\":\"18345\",\"type\":\"ColumnDataSource\"}},\"id\":\"18438\",\"type\":\"CDSView\"},{\"attributes\":{\"source\":{\"id\":\"18345\",\"type\":\"ColumnDataSource\"}},\"id\":\"18414\",\"type\":\"CDSView\"},{\"attributes\":{\"source\":{\"id\":\"18345\",\"type\":\"ColumnDataSource\"}},\"id\":\"18384\",\"type\":\"CDSView\"},{\"attributes\":{\"fill_alpha\":{\"value\":0.5},\"fill_color\":{\"value\":\"#ff9896\"},\"line_alpha\":{\"value\":0.5},\"line_color\":{\"value\":\"#ff9896\"},\"top\":{\"field\":\"EXPIRED MUNI METER\"},\"width\":{\"value\":0.2},\"x\":{\"field\":\"Hour\"}},\"id\":\"18422\",\"type\":\"VBar\"},{\"attributes\":{},\"id\":\"18362\",\"type\":\"BasicTicker\"},{\"attributes\":{\"label\":{\"value\":\"FAIL TO DSPLY MUNI METER RECPT\"},\"renderers\":[{\"id\":\"18389\",\"type\":\"GlyphRenderer\"}]},\"id\":\"18441\",\"type\":\"LegendItem\"},{\"attributes\":{\"label\":{\"value\":\"NO PARKING-STREET CLEANING\"},\"renderers\":[{\"id\":\"18383\",\"type\":\"GlyphRenderer\"}]},\"id\":\"18440\",\"type\":\"LegendItem\"},{\"attributes\":{},\"id\":\"18848\",\"type\":\"Selection\"},{\"attributes\":{\"data_source\":{\"id\":\"18345\",\"type\":\"ColumnDataSource\"},\"glyph\":{\"id\":\"18380\",\"type\":\"VBar\"},\"hover_glyph\":null,\"muted_glyph\":{\"id\":\"18382\",\"type\":\"VBar\"},\"nonselection_glyph\":{\"id\":\"18381\",\"type\":\"VBar\"},\"selection_glyph\":null,\"view\":{\"id\":\"18384\",\"type\":\"CDSView\"}},\"id\":\"18383\",\"type\":\"GlyphRenderer\"},{\"attributes\":{\"fill_alpha\":{\"value\":0.5},\"fill_color\":{\"value\":\"#c5b0d5\"},\"line_alpha\":{\"value\":0.5},\"line_color\":{\"value\":\"#c5b0d5\"},\"top\":{\"field\":\"NO STANDING-BUS STOP\"},\"width\":{\"value\":0.2},\"x\":{\"field\":\"Hour\"}},\"id\":\"18434\",\"type\":\"VBar\"},{\"attributes\":{},\"id\":\"18847\",\"type\":\"UnionRenderers\"},{\"attributes\":{\"label\":{\"value\":\"FAILURE TO STOP AT RED LIGHT\"},\"renderers\":[{\"id\":\"18431\",\"type\":\"GlyphRenderer\"}]},\"id\":\"18448\",\"type\":\"LegendItem\"},{\"attributes\":{\"fill_alpha\":{\"value\":0.1},\"fill_color\":{\"value\":\"#1f77b4\"},\"line_alpha\":{\"value\":0.1},\"line_color\":{\"value\":\"#1f77b4\"},\"top\":{\"field\":\"NO STANDING-BUS STOP\"},\"width\":{\"value\":0.2},\"x\":{\"field\":\"Hour\"}},\"id\":\"18435\",\"type\":\"VBar\"},{\"attributes\":{\"ticker\":{\"id\":\"18358\",\"type\":\"CategoricalTicker\"}},\"id\":\"18360\",\"type\":\"Grid\"},{\"attributes\":{\"active_drag\":\"auto\",\"active_inspect\":\"auto\",\"active_multi\":null,\"active_scroll\":\"auto\",\"active_tap\":\"auto\",\"tools\":[{\"id\":\"18366\",\"type\":\"PanTool\"},{\"id\":\"18367\",\"type\":\"WheelZoomTool\"},{\"id\":\"18368\",\"type\":\"BoxZoomTool\"},{\"id\":\"18369\",\"type\":\"SaveTool\"},{\"id\":\"18370\",\"type\":\"ResetTool\"},{\"id\":\"18371\",\"type\":\"HelpTool\"}]},\"id\":\"18372\",\"type\":\"Toolbar\"},{\"attributes\":{\"label\":{\"value\":\"NO STANDING-DAY/TIME LIMITS\"},\"renderers\":[{\"id\":\"18395\",\"type\":\"GlyphRenderer\"}]},\"id\":\"18442\",\"type\":\"LegendItem\"},{\"attributes\":{},\"id\":\"18366\",\"type\":\"PanTool\"},{\"attributes\":{\"axis_label\":\"# of fines\",\"formatter\":{\"id\":\"18846\",\"type\":\"BasicTickFormatter\"},\"ticker\":{\"id\":\"18362\",\"type\":\"BasicTicker\"}},\"id\":\"18361\",\"type\":\"LinearAxis\"},{\"attributes\":{\"fill_alpha\":{\"value\":0.5},\"fill_color\":{\"value\":\"#ffbb78\"},\"line_alpha\":{\"value\":0.5},\"line_color\":{\"value\":\"#ffbb78\"},\"top\":{\"field\":\"NO PARKING-DAY/TIME LIMITS\"},\"width\":{\"value\":0.2},\"x\":{\"field\":\"Hour\"}},\"id\":\"18398\",\"type\":\"VBar\"},{\"attributes\":{\"text\":\"Distibution of # of fines for top 10 violations pr. Hour\"},\"id\":\"18348\",\"type\":\"Title\"},{\"attributes\":{\"fill_alpha\":{\"value\":0.1},\"fill_color\":{\"value\":\"#1f77b4\"},\"line_alpha\":{\"value\":0.1},\"line_color\":{\"value\":\"#1f77b4\"},\"top\":{\"field\":\"INSP. STICKER-EXPIRED/MISSING\"},\"width\":{\"value\":0.2},\"x\":{\"field\":\"Hour\"}},\"id\":\"18417\",\"type\":\"VBar\"},{\"attributes\":{\"data_source\":{\"id\":\"18345\",\"type\":\"ColumnDataSource\"},\"glyph\":{\"id\":\"18386\",\"type\":\"VBar\"},\"hover_glyph\":null,\"muted_glyph\":{\"id\":\"18388\",\"type\":\"VBar\"},\"nonselection_glyph\":{\"id\":\"18387\",\"type\":\"VBar\"},\"selection_glyph\":null,\"view\":{\"id\":\"18390\",\"type\":\"CDSView\"}},\"id\":\"18389\",\"type\":\"GlyphRenderer\"},{\"attributes\":{\"callback\":null,\"factors\":[\"0\",\"1\",\"2\",\"3\",\"4\",\"5\",\"6\",\"7\",\"8\",\"9\",\"10\",\"11\",\"12\",\"13\",\"14\",\"15\",\"16\",\"17\",\"18\",\"19\",\"20\",\"21\",\"22\",\"23\"],\"range_padding\":0.05},\"id\":\"18346\",\"type\":\"FactorRange\"},{\"attributes\":{},\"id\":\"18371\",\"type\":\"HelpTool\"},{\"attributes\":{\"data_source\":{\"id\":\"18345\",\"type\":\"ColumnDataSource\"},\"glyph\":{\"id\":\"18410\",\"type\":\"VBar\"},\"hover_glyph\":null,\"muted_glyph\":{\"id\":\"18412\",\"type\":\"VBar\"},\"nonselection_glyph\":{\"id\":\"18411\",\"type\":\"VBar\"},\"selection_glyph\":null,\"view\":{\"id\":\"18414\",\"type\":\"CDSView\"}},\"id\":\"18413\",\"type\":\"GlyphRenderer\"},{\"attributes\":{\"bottom_units\":\"screen\",\"fill_alpha\":{\"value\":0.5},\"fill_color\":{\"value\":\"lightgrey\"},\"left_units\":\"screen\",\"level\":\"overlay\",\"line_alpha\":{\"value\":1.0},\"line_color\":{\"value\":\"black\"},\"line_dash\":[4,4],\"line_width\":{\"value\":2},\"render_mode\":\"css\",\"right_units\":\"screen\",\"top_units\":\"screen\"},\"id\":\"18849\",\"type\":\"BoxAnnotation\"},{\"attributes\":{},\"id\":\"18358\",\"type\":\"CategoricalTicker\"},{\"attributes\":{\"fill_alpha\":{\"value\":0.5},\"fill_color\":{\"value\":\"#2ca02c\"},\"line_alpha\":{\"value\":0.5},\"line_color\":{\"value\":\"#2ca02c\"},\"top\":{\"field\":\"DOUBLE PARKING\"},\"width\":{\"value\":0.2},\"x\":{\"field\":\"Hour\"}},\"id\":\"18404\",\"type\":\"VBar\"},{\"attributes\":{\"fill_alpha\":{\"value\":0.05},\"fill_color\":{\"value\":\"#aec7e8\"},\"line_alpha\":{\"value\":0.05},\"line_color\":{\"value\":\"#aec7e8\"},\"top\":{\"field\":\"FAIL TO DSPLY MUNI METER RECPT\"},\"width\":{\"value\":0.2},\"x\":{\"field\":\"Hour\"}},\"id\":\"18388\",\"type\":\"VBar\"},{\"attributes\":{\"fill_alpha\":{\"value\":0.05},\"fill_color\":{\"value\":\"#1f77b4\"},\"line_alpha\":{\"value\":0.05},\"line_color\":{\"value\":\"#1f77b4\"},\"top\":{\"field\":\"NO PARKING-STREET CLEANING\"},\"width\":{\"value\":0.2},\"x\":{\"field\":\"Hour\"}},\"id\":\"18382\",\"type\":\"VBar\"},{\"attributes\":{\"data_source\":{\"id\":\"18345\",\"type\":\"ColumnDataSource\"},\"glyph\":{\"id\":\"18392\",\"type\":\"VBar\"},\"hover_glyph\":null,\"muted_glyph\":{\"id\":\"18394\",\"type\":\"VBar\"},\"nonselection_glyph\":{\"id\":\"18393\",\"type\":\"VBar\"},\"selection_glyph\":null,\"view\":{\"id\":\"18396\",\"type\":\"CDSView\"}},\"id\":\"18395\",\"type\":\"GlyphRenderer\"},{\"attributes\":{\"data_source\":{\"id\":\"18345\",\"type\":\"ColumnDataSource\"},\"glyph\":{\"id\":\"18422\",\"type\":\"VBar\"},\"hover_glyph\":null,\"muted_glyph\":{\"id\":\"18424\",\"type\":\"VBar\"},\"nonselection_glyph\":{\"id\":\"18423\",\"type\":\"VBar\"},\"selection_glyph\":null,\"view\":{\"id\":\"18426\",\"type\":\"CDSView\"}},\"id\":\"18425\",\"type\":\"GlyphRenderer\"},{\"attributes\":{\"fill_alpha\":{\"value\":0.05},\"fill_color\":{\"value\":\"#c5b0d5\"},\"line_alpha\":{\"value\":0.05},\"line_color\":{\"value\":\"#c5b0d5\"},\"top\":{\"field\":\"NO STANDING-BUS STOP\"},\"width\":{\"value\":0.2},\"x\":{\"field\":\"Hour\"}},\"id\":\"18436\",\"type\":\"VBar\"},{\"attributes\":{\"dimension\":1,\"ticker\":{\"id\":\"18362\",\"type\":\"BasicTicker\"}},\"id\":\"18365\",\"type\":\"Grid\"},{\"attributes\":{\"source\":{\"id\":\"18345\",\"type\":\"ColumnDataSource\"}},\"id\":\"18402\",\"type\":\"CDSView\"},{\"attributes\":{\"fill_alpha\":{\"value\":0.5},\"fill_color\":{\"value\":\"#d62728\"},\"line_alpha\":{\"value\":0.5},\"line_color\":{\"value\":\"#d62728\"},\"top\":{\"field\":\"INSP. STICKER-EXPIRED/MISSING\"},\"width\":{\"value\":0.2},\"x\":{\"field\":\"Hour\"}},\"id\":\"18416\",\"type\":\"VBar\"},{\"attributes\":{},\"id\":\"18367\",\"type\":\"WheelZoomTool\"},{\"attributes\":{\"data_source\":{\"id\":\"18345\",\"type\":\"ColumnDataSource\"},\"glyph\":{\"id\":\"18434\",\"type\":\"VBar\"},\"hover_glyph\":null,\"muted_glyph\":{\"id\":\"18436\",\"type\":\"VBar\"},\"nonselection_glyph\":{\"id\":\"18435\",\"type\":\"VBar\"},\"selection_glyph\":null,\"view\":{\"id\":\"18438\",\"type\":\"CDSView\"}},\"id\":\"18437\",\"type\":\"GlyphRenderer\"},{\"attributes\":{\"data_source\":{\"id\":\"18345\",\"type\":\"ColumnDataSource\"},\"glyph\":{\"id\":\"18404\",\"type\":\"VBar\"},\"hover_glyph\":null,\"muted_glyph\":{\"id\":\"18406\",\"type\":\"VBar\"},\"nonselection_glyph\":{\"id\":\"18405\",\"type\":\"VBar\"},\"selection_glyph\":null,\"view\":{\"id\":\"18408\",\"type\":\"CDSView\"}},\"id\":\"18407\",\"type\":\"GlyphRenderer\"},{\"attributes\":{\"label\":{\"value\":\"EXPIRED MUNI METER\"},\"renderers\":[{\"id\":\"18425\",\"type\":\"GlyphRenderer\"}]},\"id\":\"18447\",\"type\":\"LegendItem\"},{\"attributes\":{\"fill_alpha\":{\"value\":0.05},\"fill_color\":{\"value\":\"#ff9896\"},\"line_alpha\":{\"value\":0.05},\"line_color\":{\"value\":\"#ff9896\"},\"top\":{\"field\":\"EXPIRED MUNI METER\"},\"width\":{\"value\":0.2},\"x\":{\"field\":\"Hour\"}},\"id\":\"18424\",\"type\":\"VBar\"},{\"attributes\":{\"data_source\":{\"id\":\"18345\",\"type\":\"ColumnDataSource\"},\"glyph\":{\"id\":\"18416\",\"type\":\"VBar\"},\"hover_glyph\":null,\"muted_glyph\":{\"id\":\"18418\",\"type\":\"VBar\"},\"nonselection_glyph\":{\"id\":\"18417\",\"type\":\"VBar\"},\"selection_glyph\":null,\"view\":{\"id\":\"18420\",\"type\":\"CDSView\"}},\"id\":\"18419\",\"type\":\"GlyphRenderer\"},{\"attributes\":{\"fill_alpha\":{\"value\":0.1},\"fill_color\":{\"value\":\"#1f77b4\"},\"line_alpha\":{\"value\":0.1},\"line_color\":{\"value\":\"#1f77b4\"},\"top\":{\"field\":\"EXPIRED MUNI METER\"},\"width\":{\"value\":0.2},\"x\":{\"field\":\"Hour\"}},\"id\":\"18423\",\"type\":\"VBar\"},{\"attributes\":{\"fill_alpha\":{\"value\":0.1},\"fill_color\":{\"value\":\"#1f77b4\"},\"line_alpha\":{\"value\":0.1},\"line_color\":{\"value\":\"#1f77b4\"},\"top\":{\"field\":\"NO PARKING-STREET CLEANING\"},\"width\":{\"value\":0.2},\"x\":{\"field\":\"Hour\"}},\"id\":\"18381\",\"type\":\"VBar\"},{\"attributes\":{},\"id\":\"18370\",\"type\":\"ResetTool\"},{\"attributes\":{\"label\":{\"value\":\"NO STANDING-BUS STOP\"},\"renderers\":[{\"id\":\"18437\",\"type\":\"GlyphRenderer\"}]},\"id\":\"18449\",\"type\":\"LegendItem\"},{\"attributes\":{\"source\":{\"id\":\"18345\",\"type\":\"ColumnDataSource\"}},\"id\":\"18408\",\"type\":\"CDSView\"},{\"attributes\":{\"fill_alpha\":{\"value\":0.5},\"fill_color\":{\"value\":\"#9467bd\"},\"line_alpha\":{\"value\":0.5},\"line_color\":{\"value\":\"#9467bd\"},\"top\":{\"field\":\"FAILURE TO STOP AT RED LIGHT\"},\"width\":{\"value\":0.2},\"x\":{\"field\":\"Hour\"}},\"id\":\"18428\",\"type\":\"VBar\"},{\"attributes\":{},\"id\":\"18355\",\"type\":\"LinearScale\"},{\"attributes\":{\"source\":{\"id\":\"18345\",\"type\":\"ColumnDataSource\"}},\"id\":\"18390\",\"type\":\"CDSView\"},{\"attributes\":{\"fill_alpha\":{\"value\":0.1},\"fill_color\":{\"value\":\"#1f77b4\"},\"line_alpha\":{\"value\":0.1},\"line_color\":{\"value\":\"#1f77b4\"},\"top\":{\"field\":\"DOUBLE PARKING\"},\"width\":{\"value\":0.2},\"x\":{\"field\":\"Hour\"}},\"id\":\"18405\",\"type\":\"VBar\"},{\"attributes\":{\"fill_alpha\":{\"value\":0.05},\"fill_color\":{\"value\":\"#9467bd\"},\"line_alpha\":{\"value\":0.05},\"line_color\":{\"value\":\"#9467bd\"},\"top\":{\"field\":\"FAILURE TO STOP AT RED LIGHT\"},\"width\":{\"value\":0.2},\"x\":{\"field\":\"Hour\"}},\"id\":\"18430\",\"type\":\"VBar\"},{\"attributes\":{\"fill_alpha\":{\"value\":0.1},\"fill_color\":{\"value\":\"#1f77b4\"},\"line_alpha\":{\"value\":0.1},\"line_color\":{\"value\":\"#1f77b4\"},\"top\":{\"field\":\"NO PARKING-DAY/TIME LIMITS\"},\"width\":{\"value\":0.2},\"x\":{\"field\":\"Hour\"}},\"id\":\"18399\",\"type\":\"VBar\"},{\"attributes\":{\"data_source\":{\"id\":\"18345\",\"type\":\"ColumnDataSource\"},\"glyph\":{\"id\":\"18428\",\"type\":\"VBar\"},\"hover_glyph\":null,\"muted_glyph\":{\"id\":\"18430\",\"type\":\"VBar\"},\"nonselection_glyph\":{\"id\":\"18429\",\"type\":\"VBar\"},\"selection_glyph\":null,\"view\":{\"id\":\"18432\",\"type\":\"CDSView\"}},\"id\":\"18431\",\"type\":\"GlyphRenderer\"},{\"attributes\":{\"fill_alpha\":{\"value\":0.5},\"fill_color\":{\"value\":\"#1f77b4\"},\"line_alpha\":{\"value\":0.5},\"line_color\":{\"value\":\"#1f77b4\"},\"top\":{\"field\":\"NO PARKING-STREET CLEANING\"},\"width\":{\"value\":0.2},\"x\":{\"field\":\"Hour\"}},\"id\":\"18380\",\"type\":\"VBar\"},{\"attributes\":{\"label\":{\"value\":\"INSP. STICKER-EXPIRED/MISSING\"},\"renderers\":[{\"id\":\"18419\",\"type\":\"GlyphRenderer\"}]},\"id\":\"18446\",\"type\":\"LegendItem\"},{\"attributes\":{},\"id\":\"18353\",\"type\":\"CategoricalScale\"},{\"attributes\":{\"fill_alpha\":{\"value\":0.1},\"fill_color\":{\"value\":\"#1f77b4\"},\"line_alpha\":{\"value\":0.1},\"line_color\":{\"value\":\"#1f77b4\"},\"top\":{\"field\":\"FAIL TO DSPLY MUNI METER RECPT\"},\"width\":{\"value\":0.2},\"x\":{\"field\":\"Hour\"}},\"id\":\"18387\",\"type\":\"VBar\"},{\"attributes\":{},\"id\":\"18369\",\"type\":\"SaveTool\"},{\"attributes\":{\"callback\":null},\"id\":\"18351\",\"type\":\"DataRange1d\"},{\"attributes\":{\"fill_alpha\":{\"value\":0.05},\"fill_color\":{\"value\":\"#ffbb78\"},\"line_alpha\":{\"value\":0.05},\"line_color\":{\"value\":\"#ffbb78\"},\"top\":{\"field\":\"NO PARKING-DAY/TIME LIMITS\"},\"width\":{\"value\":0.2},\"x\":{\"field\":\"Hour\"}},\"id\":\"18400\",\"type\":\"VBar\"},{\"attributes\":{\"overlay\":{\"id\":\"18849\",\"type\":\"BoxAnnotation\"}},\"id\":\"18368\",\"type\":\"BoxZoomTool\"},{\"attributes\":{\"callback\":null,\"data\":{\"DOUBLE PARKING\":{\"__ndarray__\":\"AAAAAAA4gUAAAAAAABB6QAAAAAAAcHVAAAAAAAAgbUAAAAAAACBlQAAAAAAAwIlAAAAAAACoo0AAAAAAAFSjQAAAAAAARrNAAAAAAABavkAAAAAAgCTKQAAAAAAANMdAAAAAAIBJykAAAAAAAN7SQAAAAACA08pAAAAAAIDdwEAAAAAAAM63QAAAAAAABLFAAAAAAAAQoUAAAAAAABCIQAAAAAAARJZAAAAAAADAk0AAAAAAALiNQAAAAAAAEH9A\",\"dtype\":\"float64\",\"shape\":[24]},\"EXPIRED MUNI METER\":{\"__ndarray__\":\"AAAAAAAA+H8AAAAAAADwPwAAAAAAAPh/AAAAAAAA+H8AAAAAAAD4fwAAAAAAAPA/AAAAAAAA+H8AAAAAAAAuQAAAAAAAoHBAAAAAAABcmUAAAAAAALi5QAAAAAAA7sBAAAAAAADjyUAAAAAAAHrRQAAAAADAjtBAAAAAAIC/xUAAAAAAADbEQAAAAAAAPrtAAAAAAAD8m0AAAAAAAFB2QAAAAAAAeIhAAAAAAACQhEAAAAAAAABTQAAAAAAAACZA\",\"dtype\":\"float64\",\"shape\":[24]},\"FAIL TO DSPLY MUNI METER RECPT\":{\"__ndarray__\":\"AAAAAAAA8D8AAAAAAADwPwAAAAAAAPA/AAAAAAAA+H8AAAAAAADwPwAAAAAAAPh/AAAAAAAAHEAAAAAAAJCIQAAAAAAAUsZAAAAAAMB91UAAAAAAACzYQAAAAADAT9NAAAAAAECN2UAAAAAAwCLhQAAAAAAAoN1AAAAAAMB40kAAAAAAwBnSQAAAAAAAHshAAAAAAAAzsEAAAAAAAACQQAAAAAAAjKtAAAAAAADsqUAAAAAAANB4QAAAAAAAYG9A\",\"dtype\":\"float64\",\"shape\":[24]},\"FAILURE TO STOP AT RED LIGHT\":{\"__ndarray__\":\"AAAAAABwmkAAAAAAAFyUQAAAAAAAwIhAAAAAAAAYikAAAAAAADiNQAAAAAAAJJVAAAAAAACCo0AAAAAAAJKrQAAAAAAALrFAAAAAAADFsUAAAAAAACS0QAAAAAAAE7dAAAAAAAAUuEAAAAAAAGy5QAAAAAAA47tAAAAAAAAdvUAAAAAAAOu7QAAAAAAAvrdAAAAAAACAtUAAAAAAANmwQAAAAAAAnKpAAAAAAAAEp0AAAAAAAOykQAAAAAAAOqFA\",\"dtype\":\"float64\",\"shape\":[24]},\"FIRE HYDRANT\":{\"__ndarray__\":\"AAAAAAD0nkAAAAAAAOifQAAAAAAA0qJAAAAAAABcmUAAAAAAAMiOQAAAAAAAh7ZAAAAAAICpyUAAAAAAAKm/QAAAAAAApbtAAAAAAAAKu0AAAAAAAFi+QAAAAAAADLtAAAAAAAA7ukAAAAAAgHbBQAAAAAAAtr5AAAAAAAAntEAAAAAAAKqqQAAAAAAAHKRAAAAAAADIlUAAAAAAADiDQAAAAAAAzqJAAAAAAADEpUAAAAAAAHSjQAAAAAAAzJlA\",\"dtype\":\"float64\",\"shape\":[24]},\"Hour\":[0,1,2,3,4,5,6,7,8,9,10,11,12,13,14,15,16,17,18,19,20,21,22,23],\"INSP. STICKER-EXPIRED/MISSING\":{\"__ndarray__\":\"AAAAAAAAckAAAAAAAABvQAAAAAAA0HNAAAAAAAAgaEAAAAAAAEBWQAAAAAAAeINAAAAAAADCqUAAAAAAAOG2QAAAAAAABMNAAAAAAADJxEAAAAAAgOvFQAAAAACAn8VAAAAAAAB3xEAAAAAAAFvJQAAAAACAeMdAAAAAAABnwEAAAAAAABm4QAAAAAAA8qpAAAAAAAAMlUAAAAAAAIBmQAAAAAAAEIFAAAAAAACgfUAAAAAAANBwQAAAAAAAoG1A\",\"dtype\":\"float64\",\"shape\":[24]},\"NO PARKING-DAY/TIME LIMITS\":{\"__ndarray__\":\"AAAAAAD8kEAAAAAAALiPQAAAAAAAsI5AAAAAAABgh0AAAAAAAJB3QAAAAAAA/KNAAAAAAADmuUAAAAAAAGS/QAAAAAAAZ8tAAAAAAIDpyUAAAAAAALTLQAAAAACA2MZAAAAAAIAFy0AAAAAAwB7UQAAAAACAidBAAAAAAICpxUAAAAAAADK8QAAAAAAAYbhAAAAAAABwm0AAAAAAANiCQAAAAAAATqBAAAAAAACYm0AAAAAAAFSXQAAAAAAAKJFA\",\"dtype\":\"float64\",\"shape\":[24]},\"NO PARKING-STREET CLEANING\":{\"__ndarray__\":\"AAAAAAA6tEAAAAAAAHKuQAAAAAAAmJxAAAAAAACio0AAAAAAAOiCQAAAAAAAIJdAAAAAAAB4kUAAAAAAQJXWQAAAAABg5fVAAAAAADAQ9UAAAAAAAPDZQAAAAABAQvRAAAAAAICO4EAAAAAAAGCbQAAAAAAAADFAAAAAAAAAKkAAAAAAAAAsQAAAAAAAADRAAAAAAAAAEEAAAAAAAAAUQAAAAAAAABxAAAAAAAAALEAAAAAAAAAuQAAAAAAAADlA\",\"dtype\":\"float64\",\"shape\":[24]},\"NO STANDING-BUS STOP\":{\"__ndarray__\":\"AAAAAAAAfUAAAAAAAOB9QAAAAAAAcHpAAAAAAACQdEAAAAAAAMBkQAAAAAAAOItAAAAAAAAko0AAAAAAAMymQAAAAAAA/KtAAAAAAAAdsUAAAAAAAOC4QAAAAAAAm7dAAAAAAAALuUAAAAAAAK69QAAAAAAADLhAAAAAAABasEAAAAAAADyoQAAAAAAA5qFAAAAAAADsk0AAAAAAAKB+QAAAAAAACI9AAAAAAAAYiUAAAAAAAMiGQAAAAAAAQHxA\",\"dtype\":\"float64\",\"shape\":[24]},\"NO STANDING-DAY/TIME LIMITS\":{\"__ndarray__\":\"AAAAAACslkAAAAAAAFiWQAAAAAAAEI1AAAAAAACYhEAAAAAAAKB5QAAAAAAA1KdAAAAAAAClvUAAAAAAgGfVQAAAAACAHtBAAAAAAABb0kAAAAAAgKrNQAAAAACATspAAAAAAACCyUAAAAAAQODSQAAAAABAi9BAAAAAAICzyUAAAAAAgKHQQAAAAAAA6L9AAAAAAABVsUAAAAAAAPCNQAAAAAAA7KFAAAAAAAB4mkAAAAAAAKiYQAAAAAAA/J9A\",\"dtype\":\"float64\",\"shape\":[24]},\"index\":[0,1,2,3,4,5,6,7,8,9,10,11,12,13,14,15,16,17,18,19,20,21,22,23]},\"selected\":{\"id\":\"18848\",\"type\":\"Selection\"},\"selection_policy\":{\"id\":\"18847\",\"type\":\"UnionRenderers\"}},\"id\":\"18345\",\"type\":\"ColumnDataSource\"},{\"attributes\":{\"source\":{\"id\":\"18345\",\"type\":\"ColumnDataSource\"}},\"id\":\"18432\",\"type\":\"CDSView\"},{\"attributes\":{\"label\":{\"value\":\"DOUBLE PARKING\"},\"renderers\":[{\"id\":\"18407\",\"type\":\"GlyphRenderer\"}]},\"id\":\"18444\",\"type\":\"LegendItem\"},{\"attributes\":{\"fill_alpha\":{\"value\":0.1},\"fill_color\":{\"value\":\"#1f77b4\"},\"line_alpha\":{\"value\":0.1},\"line_color\":{\"value\":\"#1f77b4\"},\"top\":{\"field\":\"FIRE HYDRANT\"},\"width\":{\"value\":0.2},\"x\":{\"field\":\"Hour\"}},\"id\":\"18411\",\"type\":\"VBar\"},{\"attributes\":{\"data_source\":{\"id\":\"18345\",\"type\":\"ColumnDataSource\"},\"glyph\":{\"id\":\"18398\",\"type\":\"VBar\"},\"hover_glyph\":null,\"muted_glyph\":{\"id\":\"18400\",\"type\":\"VBar\"},\"nonselection_glyph\":{\"id\":\"18399\",\"type\":\"VBar\"},\"selection_glyph\":null,\"view\":{\"id\":\"18402\",\"type\":\"CDSView\"}},\"id\":\"18401\",\"type\":\"GlyphRenderer\"},{\"attributes\":{\"fill_alpha\":{\"value\":0.05},\"fill_color\":{\"value\":\"#98df8a\"},\"line_alpha\":{\"value\":0.05},\"line_color\":{\"value\":\"#98df8a\"},\"top\":{\"field\":\"FIRE HYDRANT\"},\"width\":{\"value\":0.2},\"x\":{\"field\":\"Hour\"}},\"id\":\"18412\",\"type\":\"VBar\"},{\"attributes\":{\"fill_alpha\":{\"value\":0.05},\"fill_color\":{\"value\":\"#d62728\"},\"line_alpha\":{\"value\":0.05},\"line_color\":{\"value\":\"#d62728\"},\"top\":{\"field\":\"INSP. STICKER-EXPIRED/MISSING\"},\"width\":{\"value\":0.2},\"x\":{\"field\":\"Hour\"}},\"id\":\"18418\",\"type\":\"VBar\"},{\"attributes\":{\"fill_alpha\":{\"value\":0.1},\"fill_color\":{\"value\":\"#1f77b4\"},\"line_alpha\":{\"value\":0.1},\"line_color\":{\"value\":\"#1f77b4\"},\"top\":{\"field\":\"NO STANDING-DAY/TIME LIMITS\"},\"width\":{\"value\":0.2},\"x\":{\"field\":\"Hour\"}},\"id\":\"18393\",\"type\":\"VBar\"},{\"attributes\":{\"source\":{\"id\":\"18345\",\"type\":\"ColumnDataSource\"}},\"id\":\"18426\",\"type\":\"CDSView\"},{\"attributes\":{\"label\":{\"value\":\"NO PARKING-DAY/TIME LIMITS\"},\"renderers\":[{\"id\":\"18401\",\"type\":\"GlyphRenderer\"}]},\"id\":\"18443\",\"type\":\"LegendItem\"},{\"attributes\":{\"fill_alpha\":{\"value\":0.5},\"fill_color\":{\"value\":\"#aec7e8\"},\"line_alpha\":{\"value\":0.5},\"line_color\":{\"value\":\"#aec7e8\"},\"top\":{\"field\":\"FAIL TO DSPLY MUNI METER RECPT\"},\"width\":{\"value\":0.2},\"x\":{\"field\":\"Hour\"}},\"id\":\"18386\",\"type\":\"VBar\"},{\"attributes\":{\"source\":{\"id\":\"18345\",\"type\":\"ColumnDataSource\"}},\"id\":\"18396\",\"type\":\"CDSView\"},{\"attributes\":{\"label\":{\"value\":\"FIRE HYDRANT\"},\"renderers\":[{\"id\":\"18413\",\"type\":\"GlyphRenderer\"}]},\"id\":\"18445\",\"type\":\"LegendItem\"},{\"attributes\":{\"fill_alpha\":{\"value\":0.05},\"fill_color\":{\"value\":\"#2ca02c\"},\"line_alpha\":{\"value\":0.05},\"line_color\":{\"value\":\"#2ca02c\"},\"top\":{\"field\":\"DOUBLE PARKING\"},\"width\":{\"value\":0.2},\"x\":{\"field\":\"Hour\"}},\"id\":\"18406\",\"type\":\"VBar\"},{\"attributes\":{\"fill_alpha\":{\"value\":0.5},\"fill_color\":{\"value\":\"#ff7f0e\"},\"line_alpha\":{\"value\":0.5},\"line_color\":{\"value\":\"#ff7f0e\"},\"top\":{\"field\":\"NO STANDING-DAY/TIME LIMITS\"},\"width\":{\"value\":0.2},\"x\":{\"field\":\"Hour\"}},\"id\":\"18392\",\"type\":\"VBar\"}],\"root_ids\":[\"18347\"]},\"title\":\"Bokeh Application\",\"version\":\"1.3.4\"}};\n",
       "  var render_items = [{\"docid\":\"1ec1cc76-da8d-4bfb-8020-4a895c204e8c\",\"roots\":{\"18347\":\"d01550d1-3e7a-40aa-b760-c3c61cb3c682\"}}];\n",
       "  root.Bokeh.embed.embed_items_notebook(docs_json, render_items);\n",
       "\n",
       "  }\n",
       "  if (root.Bokeh !== undefined) {\n",
       "    embed_document(root);\n",
       "  } else {\n",
       "    var attempts = 0;\n",
       "    var timer = setInterval(function(root) {\n",
       "      if (root.Bokeh !== undefined) {\n",
       "        embed_document(root);\n",
       "        clearInterval(timer);\n",
       "      }\n",
       "      attempts++;\n",
       "      if (attempts > 100) {\n",
       "        console.log(\"Bokeh: ERROR: Unable to run BokehJS code because BokehJS library is missing\");\n",
       "        clearInterval(timer);\n",
       "      }\n",
       "    }, 10, root)\n",
       "  }\n",
       "})(window);"
      ],
      "application/vnd.bokehjs_exec.v0+json": ""
     },
     "metadata": {
      "application/vnd.bokehjs_exec.v0+json": {
       "id": "18347"
      }
     },
     "output_type": "display_data"
    }
   ],
   "source": [
    "bokeh(df,\"Hour\")"
   ]
  },
  {
   "cell_type": "code",
   "execution_count": 286,
   "metadata": {},
   "outputs": [
    {
     "data": {
      "text/html": [
       "\n",
       "\n",
       "\n",
       "\n",
       "\n",
       "\n",
       "  <div class=\"bk-root\" id=\"07e31e7f-8a74-4505-834c-2ee680cb495b\" data-root-id=\"18900\"></div>\n"
      ]
     },
     "metadata": {},
     "output_type": "display_data"
    },
    {
     "data": {
      "application/javascript": [
       "(function(root) {\n",
       "  function embed_document(root) {\n",
       "    \n",
       "  var docs_json = {\"8b4d5579-b96a-4ae7-9d2c-0140eda89cc5\":{\"roots\":{\"references\":[{\"attributes\":{\"below\":[{\"id\":\"18910\",\"type\":\"CategoricalAxis\"}],\"center\":[{\"id\":\"18913\",\"type\":\"Grid\"},{\"id\":\"18918\",\"type\":\"Grid\"}],\"left\":[{\"id\":\"18914\",\"type\":\"LinearAxis\"},{\"id\":\"18992\",\"type\":\"Legend\"}],\"plot_height\":500,\"plot_width\":1200,\"renderers\":[{\"id\":\"18936\",\"type\":\"GlyphRenderer\"},{\"id\":\"18942\",\"type\":\"GlyphRenderer\"},{\"id\":\"18948\",\"type\":\"GlyphRenderer\"},{\"id\":\"18954\",\"type\":\"GlyphRenderer\"},{\"id\":\"18960\",\"type\":\"GlyphRenderer\"},{\"id\":\"18966\",\"type\":\"GlyphRenderer\"},{\"id\":\"18972\",\"type\":\"GlyphRenderer\"},{\"id\":\"18978\",\"type\":\"GlyphRenderer\"},{\"id\":\"18984\",\"type\":\"GlyphRenderer\"},{\"id\":\"18990\",\"type\":\"GlyphRenderer\"}],\"title\":{\"id\":\"18901\",\"type\":\"Title\"},\"toolbar\":{\"id\":\"18925\",\"type\":\"Toolbar\"},\"toolbar_location\":null,\"x_range\":{\"id\":\"18899\",\"type\":\"FactorRange\"},\"x_scale\":{\"id\":\"18906\",\"type\":\"CategoricalScale\"},\"y_range\":{\"id\":\"18904\",\"type\":\"DataRange1d\"},\"y_scale\":{\"id\":\"18908\",\"type\":\"LinearScale\"}},\"id\":\"18900\",\"subtype\":\"Figure\",\"type\":\"Plot\"},{\"attributes\":{\"label\":{\"value\":\"INSP. STICKER-EXPIRED/MISSING\"},\"renderers\":[{\"id\":\"18972\",\"type\":\"GlyphRenderer\"}]},\"id\":\"18999\",\"type\":\"LegendItem\"},{\"attributes\":{\"data_source\":{\"id\":\"18898\",\"type\":\"ColumnDataSource\"},\"glyph\":{\"id\":\"18981\",\"type\":\"VBar\"},\"hover_glyph\":null,\"muted_glyph\":{\"id\":\"18983\",\"type\":\"VBar\"},\"nonselection_glyph\":{\"id\":\"18982\",\"type\":\"VBar\"},\"selection_glyph\":null,\"view\":{\"id\":\"18985\",\"type\":\"CDSView\"}},\"id\":\"18984\",\"type\":\"GlyphRenderer\"},{\"attributes\":{\"source\":{\"id\":\"18898\",\"type\":\"ColumnDataSource\"}},\"id\":\"18937\",\"type\":\"CDSView\"},{\"attributes\":{\"fill_alpha\":{\"value\":0.5},\"fill_color\":{\"value\":\"#c5b0d5\"},\"line_alpha\":{\"value\":0.5},\"line_color\":{\"value\":\"#c5b0d5\"},\"top\":{\"field\":\"NO STANDING-BUS STOP\"},\"width\":{\"value\":0.2},\"x\":{\"field\":\"month\"}},\"id\":\"18987\",\"type\":\"VBar\"},{\"attributes\":{\"fill_alpha\":{\"value\":0.05},\"fill_color\":{\"value\":\"#98df8a\"},\"line_alpha\":{\"value\":0.05},\"line_color\":{\"value\":\"#98df8a\"},\"top\":{\"field\":\"FIRE HYDRANT\"},\"width\":{\"value\":0.2},\"x\":{\"field\":\"month\"}},\"id\":\"18965\",\"type\":\"VBar\"},{\"attributes\":{\"data_source\":{\"id\":\"18898\",\"type\":\"ColumnDataSource\"},\"glyph\":{\"id\":\"18933\",\"type\":\"VBar\"},\"hover_glyph\":null,\"muted_glyph\":{\"id\":\"18935\",\"type\":\"VBar\"},\"nonselection_glyph\":{\"id\":\"18934\",\"type\":\"VBar\"},\"selection_glyph\":null,\"view\":{\"id\":\"18937\",\"type\":\"CDSView\"}},\"id\":\"18936\",\"type\":\"GlyphRenderer\"},{\"attributes\":{},\"id\":\"19408\",\"type\":\"UnionRenderers\"},{\"attributes\":{},\"id\":\"19409\",\"type\":\"Selection\"},{\"attributes\":{\"source\":{\"id\":\"18898\",\"type\":\"ColumnDataSource\"}},\"id\":\"18979\",\"type\":\"CDSView\"},{\"attributes\":{\"fill_alpha\":{\"value\":0.5},\"fill_color\":{\"value\":\"#aec7e8\"},\"line_alpha\":{\"value\":0.5},\"line_color\":{\"value\":\"#aec7e8\"},\"top\":{\"field\":\"FAIL TO DSPLY MUNI METER RECPT\"},\"width\":{\"value\":0.2},\"x\":{\"field\":\"month\"}},\"id\":\"18939\",\"type\":\"VBar\"},{\"attributes\":{\"fill_alpha\":{\"value\":0.5},\"fill_color\":{\"value\":\"#2ca02c\"},\"line_alpha\":{\"value\":0.5},\"line_color\":{\"value\":\"#2ca02c\"},\"top\":{\"field\":\"DOUBLE PARKING\"},\"width\":{\"value\":0.2},\"x\":{\"field\":\"month\"}},\"id\":\"18957\",\"type\":\"VBar\"},{\"attributes\":{\"source\":{\"id\":\"18898\",\"type\":\"ColumnDataSource\"}},\"id\":\"18973\",\"type\":\"CDSView\"},{\"attributes\":{\"label\":{\"value\":\"DOUBLE PARKING\"},\"renderers\":[{\"id\":\"18960\",\"type\":\"GlyphRenderer\"}]},\"id\":\"18997\",\"type\":\"LegendItem\"},{\"attributes\":{},\"id\":\"18919\",\"type\":\"PanTool\"},{\"attributes\":{\"label\":{\"value\":\"NO PARKING-STREET CLEANING\"},\"renderers\":[{\"id\":\"18936\",\"type\":\"GlyphRenderer\"}]},\"id\":\"18993\",\"type\":\"LegendItem\"},{\"attributes\":{\"fill_alpha\":{\"value\":0.05},\"fill_color\":{\"value\":\"#ff9896\"},\"line_alpha\":{\"value\":0.05},\"line_color\":{\"value\":\"#ff9896\"},\"top\":{\"field\":\"EXPIRED MUNI METER\"},\"width\":{\"value\":0.2},\"x\":{\"field\":\"month\"}},\"id\":\"18977\",\"type\":\"VBar\"},{\"attributes\":{\"fill_alpha\":{\"value\":0.05},\"fill_color\":{\"value\":\"#1f77b4\"},\"line_alpha\":{\"value\":0.05},\"line_color\":{\"value\":\"#1f77b4\"},\"top\":{\"field\":\"NO PARKING-STREET CLEANING\"},\"width\":{\"value\":0.2},\"x\":{\"field\":\"month\"}},\"id\":\"18935\",\"type\":\"VBar\"},{\"attributes\":{\"fill_alpha\":{\"value\":0.5},\"fill_color\":{\"value\":\"#ff7f0e\"},\"line_alpha\":{\"value\":0.5},\"line_color\":{\"value\":\"#ff7f0e\"},\"top\":{\"field\":\"NO STANDING-DAY/TIME LIMITS\"},\"width\":{\"value\":0.2},\"x\":{\"field\":\"month\"}},\"id\":\"18945\",\"type\":\"VBar\"},{\"attributes\":{},\"id\":\"19405\",\"type\":\"CategoricalTickFormatter\"},{\"attributes\":{\"fill_alpha\":{\"value\":0.1},\"fill_color\":{\"value\":\"#1f77b4\"},\"line_alpha\":{\"value\":0.1},\"line_color\":{\"value\":\"#1f77b4\"},\"top\":{\"field\":\"NO STANDING-DAY/TIME LIMITS\"},\"width\":{\"value\":0.2},\"x\":{\"field\":\"month\"}},\"id\":\"18946\",\"type\":\"VBar\"},{\"attributes\":{\"data_source\":{\"id\":\"18898\",\"type\":\"ColumnDataSource\"},\"glyph\":{\"id\":\"18969\",\"type\":\"VBar\"},\"hover_glyph\":null,\"muted_glyph\":{\"id\":\"18971\",\"type\":\"VBar\"},\"nonselection_glyph\":{\"id\":\"18970\",\"type\":\"VBar\"},\"selection_glyph\":null,\"view\":{\"id\":\"18973\",\"type\":\"CDSView\"}},\"id\":\"18972\",\"type\":\"GlyphRenderer\"},{\"attributes\":{\"fill_alpha\":{\"value\":0.5},\"fill_color\":{\"value\":\"#98df8a\"},\"line_alpha\":{\"value\":0.5},\"line_color\":{\"value\":\"#98df8a\"},\"top\":{\"field\":\"FIRE HYDRANT\"},\"width\":{\"value\":0.2},\"x\":{\"field\":\"month\"}},\"id\":\"18963\",\"type\":\"VBar\"},{\"attributes\":{},\"id\":\"19407\",\"type\":\"BasicTickFormatter\"},{\"attributes\":{\"data_source\":{\"id\":\"18898\",\"type\":\"ColumnDataSource\"},\"glyph\":{\"id\":\"18963\",\"type\":\"VBar\"},\"hover_glyph\":null,\"muted_glyph\":{\"id\":\"18965\",\"type\":\"VBar\"},\"nonselection_glyph\":{\"id\":\"18964\",\"type\":\"VBar\"},\"selection_glyph\":null,\"view\":{\"id\":\"18967\",\"type\":\"CDSView\"}},\"id\":\"18966\",\"type\":\"GlyphRenderer\"},{\"attributes\":{\"fill_alpha\":{\"value\":0.05},\"fill_color\":{\"value\":\"#d62728\"},\"line_alpha\":{\"value\":0.05},\"line_color\":{\"value\":\"#d62728\"},\"top\":{\"field\":\"INSP. STICKER-EXPIRED/MISSING\"},\"width\":{\"value\":0.2},\"x\":{\"field\":\"month\"}},\"id\":\"18971\",\"type\":\"VBar\"},{\"attributes\":{\"active_drag\":\"auto\",\"active_inspect\":\"auto\",\"active_multi\":null,\"active_scroll\":\"auto\",\"active_tap\":\"auto\",\"tools\":[{\"id\":\"18919\",\"type\":\"PanTool\"},{\"id\":\"18920\",\"type\":\"WheelZoomTool\"},{\"id\":\"18921\",\"type\":\"BoxZoomTool\"},{\"id\":\"18922\",\"type\":\"SaveTool\"},{\"id\":\"18923\",\"type\":\"ResetTool\"},{\"id\":\"18924\",\"type\":\"HelpTool\"}]},\"id\":\"18925\",\"type\":\"Toolbar\"},{\"attributes\":{\"click_policy\":\"mute\",\"items\":[{\"id\":\"18993\",\"type\":\"LegendItem\"},{\"id\":\"18994\",\"type\":\"LegendItem\"},{\"id\":\"18995\",\"type\":\"LegendItem\"},{\"id\":\"18996\",\"type\":\"LegendItem\"},{\"id\":\"18997\",\"type\":\"LegendItem\"},{\"id\":\"18998\",\"type\":\"LegendItem\"},{\"id\":\"18999\",\"type\":\"LegendItem\"},{\"id\":\"19000\",\"type\":\"LegendItem\"},{\"id\":\"19001\",\"type\":\"LegendItem\"},{\"id\":\"19002\",\"type\":\"LegendItem\"}],\"location\":[0,50]},\"id\":\"18992\",\"type\":\"Legend\"},{\"attributes\":{\"source\":{\"id\":\"18898\",\"type\":\"ColumnDataSource\"}},\"id\":\"18961\",\"type\":\"CDSView\"},{\"attributes\":{\"fill_alpha\":{\"value\":0.5},\"fill_color\":{\"value\":\"#1f77b4\"},\"line_alpha\":{\"value\":0.5},\"line_color\":{\"value\":\"#1f77b4\"},\"top\":{\"field\":\"NO PARKING-STREET CLEANING\"},\"width\":{\"value\":0.2},\"x\":{\"field\":\"month\"}},\"id\":\"18933\",\"type\":\"VBar\"},{\"attributes\":{\"fill_alpha\":{\"value\":0.05},\"fill_color\":{\"value\":\"#aec7e8\"},\"line_alpha\":{\"value\":0.05},\"line_color\":{\"value\":\"#aec7e8\"},\"top\":{\"field\":\"FAIL TO DSPLY MUNI METER RECPT\"},\"width\":{\"value\":0.2},\"x\":{\"field\":\"month\"}},\"id\":\"18941\",\"type\":\"VBar\"},{\"attributes\":{\"label\":{\"value\":\"NO STANDING-BUS STOP\"},\"renderers\":[{\"id\":\"18990\",\"type\":\"GlyphRenderer\"}]},\"id\":\"19002\",\"type\":\"LegendItem\"},{\"attributes\":{\"data_source\":{\"id\":\"18898\",\"type\":\"ColumnDataSource\"},\"glyph\":{\"id\":\"18939\",\"type\":\"VBar\"},\"hover_glyph\":null,\"muted_glyph\":{\"id\":\"18941\",\"type\":\"VBar\"},\"nonselection_glyph\":{\"id\":\"18940\",\"type\":\"VBar\"},\"selection_glyph\":null,\"view\":{\"id\":\"18943\",\"type\":\"CDSView\"}},\"id\":\"18942\",\"type\":\"GlyphRenderer\"},{\"attributes\":{\"label\":{\"value\":\"FIRE HYDRANT\"},\"renderers\":[{\"id\":\"18966\",\"type\":\"GlyphRenderer\"}]},\"id\":\"18998\",\"type\":\"LegendItem\"},{\"attributes\":{\"fill_alpha\":{\"value\":0.1},\"fill_color\":{\"value\":\"#1f77b4\"},\"line_alpha\":{\"value\":0.1},\"line_color\":{\"value\":\"#1f77b4\"},\"top\":{\"field\":\"FIRE HYDRANT\"},\"width\":{\"value\":0.2},\"x\":{\"field\":\"month\"}},\"id\":\"18964\",\"type\":\"VBar\"},{\"attributes\":{\"fill_alpha\":{\"value\":0.05},\"fill_color\":{\"value\":\"#9467bd\"},\"line_alpha\":{\"value\":0.05},\"line_color\":{\"value\":\"#9467bd\"},\"top\":{\"field\":\"FAILURE TO STOP AT RED LIGHT\"},\"width\":{\"value\":0.2},\"x\":{\"field\":\"month\"}},\"id\":\"18983\",\"type\":\"VBar\"},{\"attributes\":{\"data_source\":{\"id\":\"18898\",\"type\":\"ColumnDataSource\"},\"glyph\":{\"id\":\"18987\",\"type\":\"VBar\"},\"hover_glyph\":null,\"muted_glyph\":{\"id\":\"18989\",\"type\":\"VBar\"},\"nonselection_glyph\":{\"id\":\"18988\",\"type\":\"VBar\"},\"selection_glyph\":null,\"view\":{\"id\":\"18991\",\"type\":\"CDSView\"}},\"id\":\"18990\",\"type\":\"GlyphRenderer\"},{\"attributes\":{\"label\":{\"value\":\"NO PARKING-DAY/TIME LIMITS\"},\"renderers\":[{\"id\":\"18954\",\"type\":\"GlyphRenderer\"}]},\"id\":\"18996\",\"type\":\"LegendItem\"},{\"attributes\":{\"data_source\":{\"id\":\"18898\",\"type\":\"ColumnDataSource\"},\"glyph\":{\"id\":\"18975\",\"type\":\"VBar\"},\"hover_glyph\":null,\"muted_glyph\":{\"id\":\"18977\",\"type\":\"VBar\"},\"nonselection_glyph\":{\"id\":\"18976\",\"type\":\"VBar\"},\"selection_glyph\":null,\"view\":{\"id\":\"18979\",\"type\":\"CDSView\"}},\"id\":\"18978\",\"type\":\"GlyphRenderer\"},{\"attributes\":{\"callback\":null,\"data\":{\"DOUBLE PARKING\":[10312,9081,10141,8859,9265,8313,10386,10817,9773,12159,10456,8624],\"EXPIRED MUNI METER\":[8138,7772,8593,7881,7555,6826,8245,8768,8163,10120,8332,7003],\"FAIL TO DSPLY MUNI METER RECPT\":[21606,19040,19521,17731,16790,16207,19561,20910,18574,23757,21323,17795],\"FAILURE TO STOP AT RED LIGHT\":[5958,5861,6993,6658,8551,9013,9744,9813,8558,8781,7363,7194],\"FIRE HYDRANT\":[9711,8565,8998,8550,8415,8172,8899,9398,9360,11447,10395,8839],\"INSP. STICKER-EXPIRED/MISSING\":[10404,7767,8006,8186,8671,8352,10031,9920,9587,10756,9344,9106],\"NO PARKING-DAY/TIME LIMITS\":[13427,11382,12172,11772,11316,11165,14627,15624,14444,16754,14619,12034],\"NO PARKING-STREET CLEANING\":[33914,23066,27831,25182,32072,24949,37772,33228,24691,34908,29875,33553],\"NO STANDING-BUS STOP\":[5455,5159,5512,5255,5104,4765,5110,5346,4791,5922,5590,4950],\"NO STANDING-DAY/TIME LIMITS\":[17287,15332,17362,16251,16010,14675,17215,18191,16342,19875,18184,15368],\"index\":[0,1,2,3,4,5,6,7,8,9,10,11],\"month\":[1,2,3,4,5,6,7,8,9,10,11,12]},\"selected\":{\"id\":\"19409\",\"type\":\"Selection\"},\"selection_policy\":{\"id\":\"19408\",\"type\":\"UnionRenderers\"}},\"id\":\"18898\",\"type\":\"ColumnDataSource\"},{\"attributes\":{\"source\":{\"id\":\"18898\",\"type\":\"ColumnDataSource\"}},\"id\":\"18943\",\"type\":\"CDSView\"},{\"attributes\":{\"fill_alpha\":{\"value\":0.1},\"fill_color\":{\"value\":\"#1f77b4\"},\"line_alpha\":{\"value\":0.1},\"line_color\":{\"value\":\"#1f77b4\"},\"top\":{\"field\":\"DOUBLE PARKING\"},\"width\":{\"value\":0.2},\"x\":{\"field\":\"month\"}},\"id\":\"18958\",\"type\":\"VBar\"},{\"attributes\":{\"fill_alpha\":{\"value\":0.05},\"fill_color\":{\"value\":\"#c5b0d5\"},\"line_alpha\":{\"value\":0.05},\"line_color\":{\"value\":\"#c5b0d5\"},\"top\":{\"field\":\"NO STANDING-BUS STOP\"},\"width\":{\"value\":0.2},\"x\":{\"field\":\"month\"}},\"id\":\"18989\",\"type\":\"VBar\"},{\"attributes\":{},\"id\":\"18906\",\"type\":\"CategoricalScale\"},{\"attributes\":{\"source\":{\"id\":\"18898\",\"type\":\"ColumnDataSource\"}},\"id\":\"18967\",\"type\":\"CDSView\"},{\"attributes\":{\"fill_alpha\":{\"value\":0.1},\"fill_color\":{\"value\":\"#1f77b4\"},\"line_alpha\":{\"value\":0.1},\"line_color\":{\"value\":\"#1f77b4\"},\"top\":{\"field\":\"INSP. STICKER-EXPIRED/MISSING\"},\"width\":{\"value\":0.2},\"x\":{\"field\":\"month\"}},\"id\":\"18970\",\"type\":\"VBar\"},{\"attributes\":{\"label\":{\"value\":\"FAIL TO DSPLY MUNI METER RECPT\"},\"renderers\":[{\"id\":\"18942\",\"type\":\"GlyphRenderer\"}]},\"id\":\"18994\",\"type\":\"LegendItem\"},{\"attributes\":{\"data_source\":{\"id\":\"18898\",\"type\":\"ColumnDataSource\"},\"glyph\":{\"id\":\"18951\",\"type\":\"VBar\"},\"hover_glyph\":null,\"muted_glyph\":{\"id\":\"18953\",\"type\":\"VBar\"},\"nonselection_glyph\":{\"id\":\"18952\",\"type\":\"VBar\"},\"selection_glyph\":null,\"view\":{\"id\":\"18955\",\"type\":\"CDSView\"}},\"id\":\"18954\",\"type\":\"GlyphRenderer\"},{\"attributes\":{\"fill_alpha\":{\"value\":0.05},\"fill_color\":{\"value\":\"#2ca02c\"},\"line_alpha\":{\"value\":0.05},\"line_color\":{\"value\":\"#2ca02c\"},\"top\":{\"field\":\"DOUBLE PARKING\"},\"width\":{\"value\":0.2},\"x\":{\"field\":\"month\"}},\"id\":\"18959\",\"type\":\"VBar\"},{\"attributes\":{},\"id\":\"18924\",\"type\":\"HelpTool\"},{\"attributes\":{\"fill_alpha\":{\"value\":0.1},\"fill_color\":{\"value\":\"#1f77b4\"},\"line_alpha\":{\"value\":0.1},\"line_color\":{\"value\":\"#1f77b4\"},\"top\":{\"field\":\"FAILURE TO STOP AT RED LIGHT\"},\"width\":{\"value\":0.2},\"x\":{\"field\":\"month\"}},\"id\":\"18982\",\"type\":\"VBar\"},{\"attributes\":{\"fill_alpha\":{\"value\":0.1},\"fill_color\":{\"value\":\"#1f77b4\"},\"line_alpha\":{\"value\":0.1},\"line_color\":{\"value\":\"#1f77b4\"},\"top\":{\"field\":\"NO STANDING-BUS STOP\"},\"width\":{\"value\":0.2},\"x\":{\"field\":\"month\"}},\"id\":\"18988\",\"type\":\"VBar\"},{\"attributes\":{\"label\":{\"value\":\"FAILURE TO STOP AT RED LIGHT\"},\"renderers\":[{\"id\":\"18984\",\"type\":\"GlyphRenderer\"}]},\"id\":\"19001\",\"type\":\"LegendItem\"},{\"attributes\":{},\"id\":\"18908\",\"type\":\"LinearScale\"},{\"attributes\":{\"text\":\"Distibution of # of fines for top 10 violations pr. month\"},\"id\":\"18901\",\"type\":\"Title\"},{\"attributes\":{\"fill_alpha\":{\"value\":0.1},\"fill_color\":{\"value\":\"#1f77b4\"},\"line_alpha\":{\"value\":0.1},\"line_color\":{\"value\":\"#1f77b4\"},\"top\":{\"field\":\"NO PARKING-DAY/TIME LIMITS\"},\"width\":{\"value\":0.2},\"x\":{\"field\":\"month\"}},\"id\":\"18952\",\"type\":\"VBar\"},{\"attributes\":{\"axis_label\":\"# of fines\",\"formatter\":{\"id\":\"19407\",\"type\":\"BasicTickFormatter\"},\"ticker\":{\"id\":\"18915\",\"type\":\"BasicTicker\"}},\"id\":\"18914\",\"type\":\"LinearAxis\"},{\"attributes\":{\"fill_alpha\":{\"value\":0.05},\"fill_color\":{\"value\":\"#ff7f0e\"},\"line_alpha\":{\"value\":0.05},\"line_color\":{\"value\":\"#ff7f0e\"},\"top\":{\"field\":\"NO STANDING-DAY/TIME LIMITS\"},\"width\":{\"value\":0.2},\"x\":{\"field\":\"month\"}},\"id\":\"18947\",\"type\":\"VBar\"},{\"attributes\":{\"overlay\":{\"id\":\"19410\",\"type\":\"BoxAnnotation\"}},\"id\":\"18921\",\"type\":\"BoxZoomTool\"},{\"attributes\":{\"fill_alpha\":{\"value\":0.05},\"fill_color\":{\"value\":\"#ffbb78\"},\"line_alpha\":{\"value\":0.05},\"line_color\":{\"value\":\"#ffbb78\"},\"top\":{\"field\":\"NO PARKING-DAY/TIME LIMITS\"},\"width\":{\"value\":0.2},\"x\":{\"field\":\"month\"}},\"id\":\"18953\",\"type\":\"VBar\"},{\"attributes\":{\"source\":{\"id\":\"18898\",\"type\":\"ColumnDataSource\"}},\"id\":\"18949\",\"type\":\"CDSView\"},{\"attributes\":{\"fill_alpha\":{\"value\":0.1},\"fill_color\":{\"value\":\"#1f77b4\"},\"line_alpha\":{\"value\":0.1},\"line_color\":{\"value\":\"#1f77b4\"},\"top\":{\"field\":\"NO PARKING-STREET CLEANING\"},\"width\":{\"value\":0.2},\"x\":{\"field\":\"month\"}},\"id\":\"18934\",\"type\":\"VBar\"},{\"attributes\":{\"fill_alpha\":{\"value\":0.1},\"fill_color\":{\"value\":\"#1f77b4\"},\"line_alpha\":{\"value\":0.1},\"line_color\":{\"value\":\"#1f77b4\"},\"top\":{\"field\":\"FAIL TO DSPLY MUNI METER RECPT\"},\"width\":{\"value\":0.2},\"x\":{\"field\":\"month\"}},\"id\":\"18940\",\"type\":\"VBar\"},{\"attributes\":{\"data_source\":{\"id\":\"18898\",\"type\":\"ColumnDataSource\"},\"glyph\":{\"id\":\"18957\",\"type\":\"VBar\"},\"hover_glyph\":null,\"muted_glyph\":{\"id\":\"18959\",\"type\":\"VBar\"},\"nonselection_glyph\":{\"id\":\"18958\",\"type\":\"VBar\"},\"selection_glyph\":null,\"view\":{\"id\":\"18961\",\"type\":\"CDSView\"}},\"id\":\"18960\",\"type\":\"GlyphRenderer\"},{\"attributes\":{\"callback\":null,\"factors\":[\"1\",\"2\",\"3\",\"4\",\"5\",\"6\",\"7\",\"8\",\"9\",\"10\",\"11\",\"12\"],\"range_padding\":0.05},\"id\":\"18899\",\"type\":\"FactorRange\"},{\"attributes\":{\"fill_alpha\":{\"value\":0.5},\"fill_color\":{\"value\":\"#9467bd\"},\"line_alpha\":{\"value\":0.5},\"line_color\":{\"value\":\"#9467bd\"},\"top\":{\"field\":\"FAILURE TO STOP AT RED LIGHT\"},\"width\":{\"value\":0.2},\"x\":{\"field\":\"month\"}},\"id\":\"18981\",\"type\":\"VBar\"},{\"attributes\":{},\"id\":\"18920\",\"type\":\"WheelZoomTool\"},{\"attributes\":{\"fill_alpha\":{\"value\":0.1},\"fill_color\":{\"value\":\"#1f77b4\"},\"line_alpha\":{\"value\":0.1},\"line_color\":{\"value\":\"#1f77b4\"},\"top\":{\"field\":\"EXPIRED MUNI METER\"},\"width\":{\"value\":0.2},\"x\":{\"field\":\"month\"}},\"id\":\"18976\",\"type\":\"VBar\"},{\"attributes\":{\"dimension\":1,\"ticker\":{\"id\":\"18915\",\"type\":\"BasicTicker\"}},\"id\":\"18918\",\"type\":\"Grid\"},{\"attributes\":{\"axis_label\":\"month\",\"formatter\":{\"id\":\"19405\",\"type\":\"CategoricalTickFormatter\"},\"ticker\":{\"id\":\"18911\",\"type\":\"CategoricalTicker\"}},\"id\":\"18910\",\"type\":\"CategoricalAxis\"},{\"attributes\":{\"fill_alpha\":{\"value\":0.5},\"fill_color\":{\"value\":\"#d62728\"},\"line_alpha\":{\"value\":0.5},\"line_color\":{\"value\":\"#d62728\"},\"top\":{\"field\":\"INSP. STICKER-EXPIRED/MISSING\"},\"width\":{\"value\":0.2},\"x\":{\"field\":\"month\"}},\"id\":\"18969\",\"type\":\"VBar\"},{\"attributes\":{\"ticker\":{\"id\":\"18911\",\"type\":\"CategoricalTicker\"}},\"id\":\"18913\",\"type\":\"Grid\"},{\"attributes\":{\"source\":{\"id\":\"18898\",\"type\":\"ColumnDataSource\"}},\"id\":\"18991\",\"type\":\"CDSView\"},{\"attributes\":{\"data_source\":{\"id\":\"18898\",\"type\":\"ColumnDataSource\"},\"glyph\":{\"id\":\"18945\",\"type\":\"VBar\"},\"hover_glyph\":null,\"muted_glyph\":{\"id\":\"18947\",\"type\":\"VBar\"},\"nonselection_glyph\":{\"id\":\"18946\",\"type\":\"VBar\"},\"selection_glyph\":null,\"view\":{\"id\":\"18949\",\"type\":\"CDSView\"}},\"id\":\"18948\",\"type\":\"GlyphRenderer\"},{\"attributes\":{\"callback\":null},\"id\":\"18904\",\"type\":\"DataRange1d\"},{\"attributes\":{\"fill_alpha\":{\"value\":0.5},\"fill_color\":{\"value\":\"#ff9896\"},\"line_alpha\":{\"value\":0.5},\"line_color\":{\"value\":\"#ff9896\"},\"top\":{\"field\":\"EXPIRED MUNI METER\"},\"width\":{\"value\":0.2},\"x\":{\"field\":\"month\"}},\"id\":\"18975\",\"type\":\"VBar\"},{\"attributes\":{\"label\":{\"value\":\"NO STANDING-DAY/TIME LIMITS\"},\"renderers\":[{\"id\":\"18948\",\"type\":\"GlyphRenderer\"}]},\"id\":\"18995\",\"type\":\"LegendItem\"},{\"attributes\":{\"bottom_units\":\"screen\",\"fill_alpha\":{\"value\":0.5},\"fill_color\":{\"value\":\"lightgrey\"},\"left_units\":\"screen\",\"level\":\"overlay\",\"line_alpha\":{\"value\":1.0},\"line_color\":{\"value\":\"black\"},\"line_dash\":[4,4],\"line_width\":{\"value\":2},\"render_mode\":\"css\",\"right_units\":\"screen\",\"top_units\":\"screen\"},\"id\":\"19410\",\"type\":\"BoxAnnotation\"},{\"attributes\":{},\"id\":\"18915\",\"type\":\"BasicTicker\"},{\"attributes\":{\"label\":{\"value\":\"EXPIRED MUNI METER\"},\"renderers\":[{\"id\":\"18978\",\"type\":\"GlyphRenderer\"}]},\"id\":\"19000\",\"type\":\"LegendItem\"},{\"attributes\":{\"source\":{\"id\":\"18898\",\"type\":\"ColumnDataSource\"}},\"id\":\"18955\",\"type\":\"CDSView\"},{\"attributes\":{\"fill_alpha\":{\"value\":0.5},\"fill_color\":{\"value\":\"#ffbb78\"},\"line_alpha\":{\"value\":0.5},\"line_color\":{\"value\":\"#ffbb78\"},\"top\":{\"field\":\"NO PARKING-DAY/TIME LIMITS\"},\"width\":{\"value\":0.2},\"x\":{\"field\":\"month\"}},\"id\":\"18951\",\"type\":\"VBar\"},{\"attributes\":{},\"id\":\"18911\",\"type\":\"CategoricalTicker\"},{\"attributes\":{\"source\":{\"id\":\"18898\",\"type\":\"ColumnDataSource\"}},\"id\":\"18985\",\"type\":\"CDSView\"},{\"attributes\":{},\"id\":\"18922\",\"type\":\"SaveTool\"},{\"attributes\":{},\"id\":\"18923\",\"type\":\"ResetTool\"}],\"root_ids\":[\"18900\"]},\"title\":\"Bokeh Application\",\"version\":\"1.3.4\"}};\n",
       "  var render_items = [{\"docid\":\"8b4d5579-b96a-4ae7-9d2c-0140eda89cc5\",\"roots\":{\"18900\":\"07e31e7f-8a74-4505-834c-2ee680cb495b\"}}];\n",
       "  root.Bokeh.embed.embed_items_notebook(docs_json, render_items);\n",
       "\n",
       "  }\n",
       "  if (root.Bokeh !== undefined) {\n",
       "    embed_document(root);\n",
       "  } else {\n",
       "    var attempts = 0;\n",
       "    var timer = setInterval(function(root) {\n",
       "      if (root.Bokeh !== undefined) {\n",
       "        embed_document(root);\n",
       "        clearInterval(timer);\n",
       "      }\n",
       "      attempts++;\n",
       "      if (attempts > 100) {\n",
       "        console.log(\"Bokeh: ERROR: Unable to run BokehJS code because BokehJS library is missing\");\n",
       "        clearInterval(timer);\n",
       "      }\n",
       "    }, 10, root)\n",
       "  }\n",
       "})(window);"
      ],
      "application/vnd.bokehjs_exec.v0+json": ""
     },
     "metadata": {
      "application/vnd.bokehjs_exec.v0+json": {
       "id": "18900"
      }
     },
     "output_type": "display_data"
    }
   ],
   "source": [
    "bokeh(df,\"month\")"
   ]
  },
  {
   "cell_type": "code",
   "execution_count": 287,
   "metadata": {},
   "outputs": [
    {
     "data": {
      "text/html": [
       "\n",
       "\n",
       "\n",
       "\n",
       "\n",
       "\n",
       "  <div class=\"bk-root\" id=\"1a37b58d-9261-4d16-bd01-af7bda762d25\" data-root-id=\"19461\"></div>\n"
      ]
     },
     "metadata": {},
     "output_type": "display_data"
    },
    {
     "data": {
      "application/javascript": [
       "(function(root) {\n",
       "  function embed_document(root) {\n",
       "    \n",
       "  var docs_json = {\"693ddfd1-d6e8-41c4-bd0e-2c5dbc81e1e1\":{\"roots\":{\"references\":[{\"attributes\":{\"below\":[{\"id\":\"19471\",\"type\":\"CategoricalAxis\"}],\"center\":[{\"id\":\"19474\",\"type\":\"Grid\"},{\"id\":\"19479\",\"type\":\"Grid\"}],\"left\":[{\"id\":\"19475\",\"type\":\"LinearAxis\"},{\"id\":\"19553\",\"type\":\"Legend\"}],\"plot_height\":500,\"plot_width\":1200,\"renderers\":[{\"id\":\"19497\",\"type\":\"GlyphRenderer\"},{\"id\":\"19503\",\"type\":\"GlyphRenderer\"},{\"id\":\"19509\",\"type\":\"GlyphRenderer\"},{\"id\":\"19515\",\"type\":\"GlyphRenderer\"},{\"id\":\"19521\",\"type\":\"GlyphRenderer\"},{\"id\":\"19527\",\"type\":\"GlyphRenderer\"},{\"id\":\"19533\",\"type\":\"GlyphRenderer\"},{\"id\":\"19539\",\"type\":\"GlyphRenderer\"},{\"id\":\"19545\",\"type\":\"GlyphRenderer\"},{\"id\":\"19551\",\"type\":\"GlyphRenderer\"}],\"title\":{\"id\":\"19462\",\"type\":\"Title\"},\"toolbar\":{\"id\":\"19486\",\"type\":\"Toolbar\"},\"toolbar_location\":null,\"x_range\":{\"id\":\"19460\",\"type\":\"FactorRange\"},\"x_scale\":{\"id\":\"19467\",\"type\":\"CategoricalScale\"},\"y_range\":{\"id\":\"19465\",\"type\":\"DataRange1d\"},\"y_scale\":{\"id\":\"19469\",\"type\":\"LinearScale\"}},\"id\":\"19461\",\"subtype\":\"Figure\",\"type\":\"Plot\"},{\"attributes\":{\"fill_alpha\":{\"value\":0.1},\"fill_color\":{\"value\":\"#1f77b4\"},\"line_alpha\":{\"value\":0.1},\"line_color\":{\"value\":\"#1f77b4\"},\"top\":{\"field\":\"INSP. STICKER-EXPIRED/MISSING\"},\"width\":{\"value\":0.2},\"x\":{\"field\":\"Day\"}},\"id\":\"19531\",\"type\":\"VBar\"},{\"attributes\":{\"data_source\":{\"id\":\"19459\",\"type\":\"ColumnDataSource\"},\"glyph\":{\"id\":\"19512\",\"type\":\"VBar\"},\"hover_glyph\":null,\"muted_glyph\":{\"id\":\"19514\",\"type\":\"VBar\"},\"nonselection_glyph\":{\"id\":\"19513\",\"type\":\"VBar\"},\"selection_glyph\":null,\"view\":{\"id\":\"19516\",\"type\":\"CDSView\"}},\"id\":\"19515\",\"type\":\"GlyphRenderer\"},{\"attributes\":{\"fill_alpha\":{\"value\":0.05},\"fill_color\":{\"value\":\"#2ca02c\"},\"line_alpha\":{\"value\":0.05},\"line_color\":{\"value\":\"#2ca02c\"},\"top\":{\"field\":\"DOUBLE PARKING\"},\"width\":{\"value\":0.2},\"x\":{\"field\":\"Day\"}},\"id\":\"19520\",\"type\":\"VBar\"},{\"attributes\":{},\"id\":\"19484\",\"type\":\"ResetTool\"},{\"attributes\":{\"source\":{\"id\":\"19459\",\"type\":\"ColumnDataSource\"}},\"id\":\"19510\",\"type\":\"CDSView\"},{\"attributes\":{\"fill_alpha\":{\"value\":0.5},\"fill_color\":{\"value\":\"#2ca02c\"},\"line_alpha\":{\"value\":0.5},\"line_color\":{\"value\":\"#2ca02c\"},\"top\":{\"field\":\"DOUBLE PARKING\"},\"width\":{\"value\":0.2},\"x\":{\"field\":\"Day\"}},\"id\":\"19518\",\"type\":\"VBar\"},{\"attributes\":{\"label\":{\"value\":\"NO STANDING-DAY/TIME LIMITS\"},\"renderers\":[{\"id\":\"19509\",\"type\":\"GlyphRenderer\"}]},\"id\":\"19556\",\"type\":\"LegendItem\"},{\"attributes\":{\"axis_label\":\"Day\",\"formatter\":{\"id\":\"19974\",\"type\":\"CategoricalTickFormatter\"},\"ticker\":{\"id\":\"19472\",\"type\":\"CategoricalTicker\"}},\"id\":\"19471\",\"type\":\"CategoricalAxis\"},{\"attributes\":{\"fill_alpha\":{\"value\":0.05},\"fill_color\":{\"value\":\"#ff7f0e\"},\"line_alpha\":{\"value\":0.05},\"line_color\":{\"value\":\"#ff7f0e\"},\"top\":{\"field\":\"NO STANDING-DAY/TIME LIMITS\"},\"width\":{\"value\":0.2},\"x\":{\"field\":\"Day\"}},\"id\":\"19508\",\"type\":\"VBar\"},{\"attributes\":{\"fill_alpha\":{\"value\":0.05},\"fill_color\":{\"value\":\"#9467bd\"},\"line_alpha\":{\"value\":0.05},\"line_color\":{\"value\":\"#9467bd\"},\"top\":{\"field\":\"FAILURE TO STOP AT RED LIGHT\"},\"width\":{\"value\":0.2},\"x\":{\"field\":\"Day\"}},\"id\":\"19544\",\"type\":\"VBar\"},{\"attributes\":{\"data_source\":{\"id\":\"19459\",\"type\":\"ColumnDataSource\"},\"glyph\":{\"id\":\"19500\",\"type\":\"VBar\"},\"hover_glyph\":null,\"muted_glyph\":{\"id\":\"19502\",\"type\":\"VBar\"},\"nonselection_glyph\":{\"id\":\"19501\",\"type\":\"VBar\"},\"selection_glyph\":null,\"view\":{\"id\":\"19504\",\"type\":\"CDSView\"}},\"id\":\"19503\",\"type\":\"GlyphRenderer\"},{\"attributes\":{},\"id\":\"19469\",\"type\":\"LinearScale\"},{\"attributes\":{\"data_source\":{\"id\":\"19459\",\"type\":\"ColumnDataSource\"},\"glyph\":{\"id\":\"19506\",\"type\":\"VBar\"},\"hover_glyph\":null,\"muted_glyph\":{\"id\":\"19508\",\"type\":\"VBar\"},\"nonselection_glyph\":{\"id\":\"19507\",\"type\":\"VBar\"},\"selection_glyph\":null,\"view\":{\"id\":\"19510\",\"type\":\"CDSView\"}},\"id\":\"19509\",\"type\":\"GlyphRenderer\"},{\"attributes\":{\"label\":{\"value\":\"FAIL TO DSPLY MUNI METER RECPT\"},\"renderers\":[{\"id\":\"19503\",\"type\":\"GlyphRenderer\"}]},\"id\":\"19555\",\"type\":\"LegendItem\"},{\"attributes\":{},\"id\":\"19978\",\"type\":\"Selection\"},{\"attributes\":{},\"id\":\"19485\",\"type\":\"HelpTool\"},{\"attributes\":{\"data_source\":{\"id\":\"19459\",\"type\":\"ColumnDataSource\"},\"glyph\":{\"id\":\"19542\",\"type\":\"VBar\"},\"hover_glyph\":null,\"muted_glyph\":{\"id\":\"19544\",\"type\":\"VBar\"},\"nonselection_glyph\":{\"id\":\"19543\",\"type\":\"VBar\"},\"selection_glyph\":null,\"view\":{\"id\":\"19546\",\"type\":\"CDSView\"}},\"id\":\"19545\",\"type\":\"GlyphRenderer\"},{\"attributes\":{\"source\":{\"id\":\"19459\",\"type\":\"ColumnDataSource\"}},\"id\":\"19504\",\"type\":\"CDSView\"},{\"attributes\":{\"fill_alpha\":{\"value\":0.5},\"fill_color\":{\"value\":\"#ffbb78\"},\"line_alpha\":{\"value\":0.5},\"line_color\":{\"value\":\"#ffbb78\"},\"top\":{\"field\":\"NO PARKING-DAY/TIME LIMITS\"},\"width\":{\"value\":0.2},\"x\":{\"field\":\"Day\"}},\"id\":\"19512\",\"type\":\"VBar\"},{\"attributes\":{\"overlay\":{\"id\":\"19979\",\"type\":\"BoxAnnotation\"}},\"id\":\"19482\",\"type\":\"BoxZoomTool\"},{\"attributes\":{\"bottom_units\":\"screen\",\"fill_alpha\":{\"value\":0.5},\"fill_color\":{\"value\":\"lightgrey\"},\"left_units\":\"screen\",\"level\":\"overlay\",\"line_alpha\":{\"value\":1.0},\"line_color\":{\"value\":\"black\"},\"line_dash\":[4,4],\"line_width\":{\"value\":2},\"render_mode\":\"css\",\"right_units\":\"screen\",\"top_units\":\"screen\"},\"id\":\"19979\",\"type\":\"BoxAnnotation\"},{\"attributes\":{\"ticker\":{\"id\":\"19472\",\"type\":\"CategoricalTicker\"}},\"id\":\"19474\",\"type\":\"Grid\"},{\"attributes\":{\"fill_alpha\":{\"value\":0.1},\"fill_color\":{\"value\":\"#1f77b4\"},\"line_alpha\":{\"value\":0.1},\"line_color\":{\"value\":\"#1f77b4\"},\"top\":{\"field\":\"NO PARKING-DAY/TIME LIMITS\"},\"width\":{\"value\":0.2},\"x\":{\"field\":\"Day\"}},\"id\":\"19513\",\"type\":\"VBar\"},{\"attributes\":{\"source\":{\"id\":\"19459\",\"type\":\"ColumnDataSource\"}},\"id\":\"19546\",\"type\":\"CDSView\"},{\"attributes\":{\"source\":{\"id\":\"19459\",\"type\":\"ColumnDataSource\"}},\"id\":\"19516\",\"type\":\"CDSView\"},{\"attributes\":{\"source\":{\"id\":\"19459\",\"type\":\"ColumnDataSource\"}},\"id\":\"19528\",\"type\":\"CDSView\"},{\"attributes\":{},\"id\":\"19472\",\"type\":\"CategoricalTicker\"},{\"attributes\":{},\"id\":\"19476\",\"type\":\"BasicTicker\"},{\"attributes\":{\"fill_alpha\":{\"value\":0.1},\"fill_color\":{\"value\":\"#1f77b4\"},\"line_alpha\":{\"value\":0.1},\"line_color\":{\"value\":\"#1f77b4\"},\"top\":{\"field\":\"NO STANDING-BUS STOP\"},\"width\":{\"value\":0.2},\"x\":{\"field\":\"Day\"}},\"id\":\"19549\",\"type\":\"VBar\"},{\"attributes\":{},\"id\":\"19483\",\"type\":\"SaveTool\"},{\"attributes\":{},\"id\":\"19467\",\"type\":\"CategoricalScale\"},{\"attributes\":{\"fill_alpha\":{\"value\":0.5},\"fill_color\":{\"value\":\"#d62728\"},\"line_alpha\":{\"value\":0.5},\"line_color\":{\"value\":\"#d62728\"},\"top\":{\"field\":\"INSP. STICKER-EXPIRED/MISSING\"},\"width\":{\"value\":0.2},\"x\":{\"field\":\"Day\"}},\"id\":\"19530\",\"type\":\"VBar\"},{\"attributes\":{\"label\":{\"value\":\"NO PARKING-DAY/TIME LIMITS\"},\"renderers\":[{\"id\":\"19515\",\"type\":\"GlyphRenderer\"}]},\"id\":\"19557\",\"type\":\"LegendItem\"},{\"attributes\":{\"axis_label\":\"# of fines\",\"formatter\":{\"id\":\"19976\",\"type\":\"BasicTickFormatter\"},\"ticker\":{\"id\":\"19476\",\"type\":\"BasicTicker\"}},\"id\":\"19475\",\"type\":\"LinearAxis\"},{\"attributes\":{\"fill_alpha\":{\"value\":0.1},\"fill_color\":{\"value\":\"#1f77b4\"},\"line_alpha\":{\"value\":0.1},\"line_color\":{\"value\":\"#1f77b4\"},\"top\":{\"field\":\"DOUBLE PARKING\"},\"width\":{\"value\":0.2},\"x\":{\"field\":\"Day\"}},\"id\":\"19519\",\"type\":\"VBar\"},{\"attributes\":{\"label\":{\"value\":\"FAILURE TO STOP AT RED LIGHT\"},\"renderers\":[{\"id\":\"19545\",\"type\":\"GlyphRenderer\"}]},\"id\":\"19562\",\"type\":\"LegendItem\"},{\"attributes\":{\"label\":{\"value\":\"INSP. STICKER-EXPIRED/MISSING\"},\"renderers\":[{\"id\":\"19533\",\"type\":\"GlyphRenderer\"}]},\"id\":\"19560\",\"type\":\"LegendItem\"},{\"attributes\":{\"label\":{\"value\":\"EXPIRED MUNI METER\"},\"renderers\":[{\"id\":\"19539\",\"type\":\"GlyphRenderer\"}]},\"id\":\"19561\",\"type\":\"LegendItem\"},{\"attributes\":{\"fill_alpha\":{\"value\":0.5},\"fill_color\":{\"value\":\"#ff9896\"},\"line_alpha\":{\"value\":0.5},\"line_color\":{\"value\":\"#ff9896\"},\"top\":{\"field\":\"EXPIRED MUNI METER\"},\"width\":{\"value\":0.2},\"x\":{\"field\":\"Day\"}},\"id\":\"19536\",\"type\":\"VBar\"},{\"attributes\":{\"fill_alpha\":{\"value\":0.1},\"fill_color\":{\"value\":\"#1f77b4\"},\"line_alpha\":{\"value\":0.1},\"line_color\":{\"value\":\"#1f77b4\"},\"top\":{\"field\":\"FAIL TO DSPLY MUNI METER RECPT\"},\"width\":{\"value\":0.2},\"x\":{\"field\":\"Day\"}},\"id\":\"19501\",\"type\":\"VBar\"},{\"attributes\":{\"fill_alpha\":{\"value\":0.05},\"fill_color\":{\"value\":\"#ffbb78\"},\"line_alpha\":{\"value\":0.05},\"line_color\":{\"value\":\"#ffbb78\"},\"top\":{\"field\":\"NO PARKING-DAY/TIME LIMITS\"},\"width\":{\"value\":0.2},\"x\":{\"field\":\"Day\"}},\"id\":\"19514\",\"type\":\"VBar\"},{\"attributes\":{\"label\":{\"value\":\"NO PARKING-STREET CLEANING\"},\"renderers\":[{\"id\":\"19497\",\"type\":\"GlyphRenderer\"}]},\"id\":\"19554\",\"type\":\"LegendItem\"},{\"attributes\":{\"fill_alpha\":{\"value\":0.05},\"fill_color\":{\"value\":\"#aec7e8\"},\"line_alpha\":{\"value\":0.05},\"line_color\":{\"value\":\"#aec7e8\"},\"top\":{\"field\":\"FAIL TO DSPLY MUNI METER RECPT\"},\"width\":{\"value\":0.2},\"x\":{\"field\":\"Day\"}},\"id\":\"19502\",\"type\":\"VBar\"},{\"attributes\":{\"fill_alpha\":{\"value\":0.1},\"fill_color\":{\"value\":\"#1f77b4\"},\"line_alpha\":{\"value\":0.1},\"line_color\":{\"value\":\"#1f77b4\"},\"top\":{\"field\":\"FIRE HYDRANT\"},\"width\":{\"value\":0.2},\"x\":{\"field\":\"Day\"}},\"id\":\"19525\",\"type\":\"VBar\"},{\"attributes\":{\"fill_alpha\":{\"value\":0.1},\"fill_color\":{\"value\":\"#1f77b4\"},\"line_alpha\":{\"value\":0.1},\"line_color\":{\"value\":\"#1f77b4\"},\"top\":{\"field\":\"EXPIRED MUNI METER\"},\"width\":{\"value\":0.2},\"x\":{\"field\":\"Day\"}},\"id\":\"19537\",\"type\":\"VBar\"},{\"attributes\":{\"fill_alpha\":{\"value\":0.5},\"fill_color\":{\"value\":\"#9467bd\"},\"line_alpha\":{\"value\":0.5},\"line_color\":{\"value\":\"#9467bd\"},\"top\":{\"field\":\"FAILURE TO STOP AT RED LIGHT\"},\"width\":{\"value\":0.2},\"x\":{\"field\":\"Day\"}},\"id\":\"19542\",\"type\":\"VBar\"},{\"attributes\":{\"callback\":null,\"factors\":[\"1\",\"2\",\"3\",\"4\",\"5\",\"6\",\"7\",\"8\",\"9\",\"10\",\"11\",\"12\",\"13\",\"14\",\"15\",\"16\",\"17\",\"18\",\"19\",\"20\",\"21\",\"22\",\"23\",\"24\",\"25\",\"26\",\"27\",\"28\",\"29\",\"30\",\"31\"],\"range_padding\":0.05},\"id\":\"19460\",\"type\":\"FactorRange\"},{\"attributes\":{\"data_source\":{\"id\":\"19459\",\"type\":\"ColumnDataSource\"},\"glyph\":{\"id\":\"19530\",\"type\":\"VBar\"},\"hover_glyph\":null,\"muted_glyph\":{\"id\":\"19532\",\"type\":\"VBar\"},\"nonselection_glyph\":{\"id\":\"19531\",\"type\":\"VBar\"},\"selection_glyph\":null,\"view\":{\"id\":\"19534\",\"type\":\"CDSView\"}},\"id\":\"19533\",\"type\":\"GlyphRenderer\"},{\"attributes\":{\"fill_alpha\":{\"value\":0.1},\"fill_color\":{\"value\":\"#1f77b4\"},\"line_alpha\":{\"value\":0.1},\"line_color\":{\"value\":\"#1f77b4\"},\"top\":{\"field\":\"FAILURE TO STOP AT RED LIGHT\"},\"width\":{\"value\":0.2},\"x\":{\"field\":\"Day\"}},\"id\":\"19543\",\"type\":\"VBar\"},{\"attributes\":{\"data_source\":{\"id\":\"19459\",\"type\":\"ColumnDataSource\"},\"glyph\":{\"id\":\"19548\",\"type\":\"VBar\"},\"hover_glyph\":null,\"muted_glyph\":{\"id\":\"19550\",\"type\":\"VBar\"},\"nonselection_glyph\":{\"id\":\"19549\",\"type\":\"VBar\"},\"selection_glyph\":null,\"view\":{\"id\":\"19552\",\"type\":\"CDSView\"}},\"id\":\"19551\",\"type\":\"GlyphRenderer\"},{\"attributes\":{\"label\":{\"value\":\"NO STANDING-BUS STOP\"},\"renderers\":[{\"id\":\"19551\",\"type\":\"GlyphRenderer\"}]},\"id\":\"19563\",\"type\":\"LegendItem\"},{\"attributes\":{\"data_source\":{\"id\":\"19459\",\"type\":\"ColumnDataSource\"},\"glyph\":{\"id\":\"19524\",\"type\":\"VBar\"},\"hover_glyph\":null,\"muted_glyph\":{\"id\":\"19526\",\"type\":\"VBar\"},\"nonselection_glyph\":{\"id\":\"19525\",\"type\":\"VBar\"},\"selection_glyph\":null,\"view\":{\"id\":\"19528\",\"type\":\"CDSView\"}},\"id\":\"19527\",\"type\":\"GlyphRenderer\"},{\"attributes\":{\"click_policy\":\"mute\",\"items\":[{\"id\":\"19554\",\"type\":\"LegendItem\"},{\"id\":\"19555\",\"type\":\"LegendItem\"},{\"id\":\"19556\",\"type\":\"LegendItem\"},{\"id\":\"19557\",\"type\":\"LegendItem\"},{\"id\":\"19558\",\"type\":\"LegendItem\"},{\"id\":\"19559\",\"type\":\"LegendItem\"},{\"id\":\"19560\",\"type\":\"LegendItem\"},{\"id\":\"19561\",\"type\":\"LegendItem\"},{\"id\":\"19562\",\"type\":\"LegendItem\"},{\"id\":\"19563\",\"type\":\"LegendItem\"}],\"location\":[0,50]},\"id\":\"19553\",\"type\":\"Legend\"},{\"attributes\":{\"data_source\":{\"id\":\"19459\",\"type\":\"ColumnDataSource\"},\"glyph\":{\"id\":\"19494\",\"type\":\"VBar\"},\"hover_glyph\":null,\"muted_glyph\":{\"id\":\"19496\",\"type\":\"VBar\"},\"nonselection_glyph\":{\"id\":\"19495\",\"type\":\"VBar\"},\"selection_glyph\":null,\"view\":{\"id\":\"19498\",\"type\":\"CDSView\"}},\"id\":\"19497\",\"type\":\"GlyphRenderer\"},{\"attributes\":{\"source\":{\"id\":\"19459\",\"type\":\"ColumnDataSource\"}},\"id\":\"19540\",\"type\":\"CDSView\"},{\"attributes\":{\"fill_alpha\":{\"value\":0.5},\"fill_color\":{\"value\":\"#ff7f0e\"},\"line_alpha\":{\"value\":0.5},\"line_color\":{\"value\":\"#ff7f0e\"},\"top\":{\"field\":\"NO STANDING-DAY/TIME LIMITS\"},\"width\":{\"value\":0.2},\"x\":{\"field\":\"Day\"}},\"id\":\"19506\",\"type\":\"VBar\"},{\"attributes\":{},\"id\":\"19977\",\"type\":\"UnionRenderers\"},{\"attributes\":{\"source\":{\"id\":\"19459\",\"type\":\"ColumnDataSource\"}},\"id\":\"19522\",\"type\":\"CDSView\"},{\"attributes\":{\"callback\":null},\"id\":\"19465\",\"type\":\"DataRange1d\"},{\"attributes\":{\"fill_alpha\":{\"value\":0.05},\"fill_color\":{\"value\":\"#ff9896\"},\"line_alpha\":{\"value\":0.05},\"line_color\":{\"value\":\"#ff9896\"},\"top\":{\"field\":\"EXPIRED MUNI METER\"},\"width\":{\"value\":0.2},\"x\":{\"field\":\"Day\"}},\"id\":\"19538\",\"type\":\"VBar\"},{\"attributes\":{\"callback\":null,\"data\":{\"DOUBLE PARKING\":[3445,3433,3493,3667,4098,4088,4468,4054,3643,3893,4130,4054,3992,4335,4157,3551,4126,3939,4246,4175,3777,3741,3509,3578,3609,3657,3879,3924,3772,3584,2169],\"Day\":[1,2,3,4,5,6,7,8,9,10,11,12,13,14,15,16,17,18,19,20,21,22,23,24,25,26,27,28,29,30,31],\"EXPIRED MUNI METER\":[2921,2757,2732,2933,3323,3472,3397,3397,2902,3068,3529,3297,3532,3451,3587,3038,3343,3235,3774,3342,3103,3142,2955,3006,3121,2960,3242,3064,3150,2875,1748],\"FAIL TO DSPLY MUNI METER RECPT\":[6750,6343,6165,7161,7680,7942,7371,8664,6818,7623,8155,7798,8055,7896,8619,7189,7618,8621,8338,8160,8261,8212,7235,7772,7703,6873,7484,7345,7990,6875,4099],\"FAILURE TO STOP AT RED LIGHT\":[3073,3122,3248,3330,3077,3054,3082,2984,2884,2927,2766,2828,2781,3198,3210,3434,3288,3137,3111,3007,3237,3193,3159,3145,3079,3178,3150,3016,3007,2978,1804],\"FIRE HYDRANT\":[3502,3186,3259,3449,3633,3722,3715,3861,3489,3679,3763,3808,3766,3886,4028,3637,3742,3762,3927,3908,3736,3569,3750,3325,3386,3298,3583,3574,3518,3444,1844],\"INSP. STICKER-EXPIRED/MISSING\":[10262,7915,6749,5920,5714,5345,4882,4565,3844,3839,3701,3256,2988,3227,3071,2751,2805,2640,2809,2459,2277,2229,2237,2194,2047,1945,2045,1883,1955,1636,940],\"NO PARKING-DAY/TIME LIMITS\":[4684,4717,4880,4944,5479,5554,5457,5274,4823,5522,5552,5621,5408,5501,5424,5029,5417,5594,5779,5420,5362,4820,5061,5015,4888,4923,5242,5307,5001,4671,2967],\"NO PARKING-STREET CLEANING\":[7221,9961,12584,9985,8833,10098,14666,11028,12204,10829,13457,10059,13864,15214,10416,10903,14009,11825,11321,14515,8004,11207,13342,12725,10436,11846,11909,15136,13044,10640,9760],\"NO STANDING-BUS STOP\":[1860,1813,1894,1971,2180,2128,2395,2244,1972,2147,2140,2222,2168,2341,2179,1955,2258,2108,2297,2057,2032,1920,1885,1869,1866,1840,1958,2059,2157,1871,1173],\"NO STANDING-DAY/TIME LIMITS\":[5992,6085,6168,6477,7133,7003,7187,6733,6232,7006,7103,6964,6805,7337,6920,6285,6982,7008,7151,6770,6519,6126,6008,6567,6214,6208,6487,6579,6505,5868,3670],\"index\":[0,1,2,3,4,5,6,7,8,9,10,11,12,13,14,15,16,17,18,19,20,21,22,23,24,25,26,27,28,29,30]},\"selected\":{\"id\":\"19978\",\"type\":\"Selection\"},\"selection_policy\":{\"id\":\"19977\",\"type\":\"UnionRenderers\"}},\"id\":\"19459\",\"type\":\"ColumnDataSource\"},{\"attributes\":{\"label\":{\"value\":\"FIRE HYDRANT\"},\"renderers\":[{\"id\":\"19527\",\"type\":\"GlyphRenderer\"}]},\"id\":\"19559\",\"type\":\"LegendItem\"},{\"attributes\":{\"data_source\":{\"id\":\"19459\",\"type\":\"ColumnDataSource\"},\"glyph\":{\"id\":\"19536\",\"type\":\"VBar\"},\"hover_glyph\":null,\"muted_glyph\":{\"id\":\"19538\",\"type\":\"VBar\"},\"nonselection_glyph\":{\"id\":\"19537\",\"type\":\"VBar\"},\"selection_glyph\":null,\"view\":{\"id\":\"19540\",\"type\":\"CDSView\"}},\"id\":\"19539\",\"type\":\"GlyphRenderer\"},{\"attributes\":{\"fill_alpha\":{\"value\":0.05},\"fill_color\":{\"value\":\"#98df8a\"},\"line_alpha\":{\"value\":0.05},\"line_color\":{\"value\":\"#98df8a\"},\"top\":{\"field\":\"FIRE HYDRANT\"},\"width\":{\"value\":0.2},\"x\":{\"field\":\"Day\"}},\"id\":\"19526\",\"type\":\"VBar\"},{\"attributes\":{\"source\":{\"id\":\"19459\",\"type\":\"ColumnDataSource\"}},\"id\":\"19534\",\"type\":\"CDSView\"},{\"attributes\":{\"source\":{\"id\":\"19459\",\"type\":\"ColumnDataSource\"}},\"id\":\"19498\",\"type\":\"CDSView\"},{\"attributes\":{},\"id\":\"19976\",\"type\":\"BasicTickFormatter\"},{\"attributes\":{\"fill_alpha\":{\"value\":0.5},\"fill_color\":{\"value\":\"#98df8a\"},\"line_alpha\":{\"value\":0.5},\"line_color\":{\"value\":\"#98df8a\"},\"top\":{\"field\":\"FIRE HYDRANT\"},\"width\":{\"value\":0.2},\"x\":{\"field\":\"Day\"}},\"id\":\"19524\",\"type\":\"VBar\"},{\"attributes\":{\"fill_alpha\":{\"value\":0.05},\"fill_color\":{\"value\":\"#d62728\"},\"line_alpha\":{\"value\":0.05},\"line_color\":{\"value\":\"#d62728\"},\"top\":{\"field\":\"INSP. STICKER-EXPIRED/MISSING\"},\"width\":{\"value\":0.2},\"x\":{\"field\":\"Day\"}},\"id\":\"19532\",\"type\":\"VBar\"},{\"attributes\":{\"source\":{\"id\":\"19459\",\"type\":\"ColumnDataSource\"}},\"id\":\"19552\",\"type\":\"CDSView\"},{\"attributes\":{\"fill_alpha\":{\"value\":0.1},\"fill_color\":{\"value\":\"#1f77b4\"},\"line_alpha\":{\"value\":0.1},\"line_color\":{\"value\":\"#1f77b4\"},\"top\":{\"field\":\"NO STANDING-DAY/TIME LIMITS\"},\"width\":{\"value\":0.2},\"x\":{\"field\":\"Day\"}},\"id\":\"19507\",\"type\":\"VBar\"},{\"attributes\":{},\"id\":\"19481\",\"type\":\"WheelZoomTool\"},{\"attributes\":{\"label\":{\"value\":\"DOUBLE PARKING\"},\"renderers\":[{\"id\":\"19521\",\"type\":\"GlyphRenderer\"}]},\"id\":\"19558\",\"type\":\"LegendItem\"},{\"attributes\":{\"dimension\":1,\"ticker\":{\"id\":\"19476\",\"type\":\"BasicTicker\"}},\"id\":\"19479\",\"type\":\"Grid\"},{\"attributes\":{\"fill_alpha\":{\"value\":0.5},\"fill_color\":{\"value\":\"#c5b0d5\"},\"line_alpha\":{\"value\":0.5},\"line_color\":{\"value\":\"#c5b0d5\"},\"top\":{\"field\":\"NO STANDING-BUS STOP\"},\"width\":{\"value\":0.2},\"x\":{\"field\":\"Day\"}},\"id\":\"19548\",\"type\":\"VBar\"},{\"attributes\":{\"fill_alpha\":{\"value\":0.05},\"fill_color\":{\"value\":\"#1f77b4\"},\"line_alpha\":{\"value\":0.05},\"line_color\":{\"value\":\"#1f77b4\"},\"top\":{\"field\":\"NO PARKING-STREET CLEANING\"},\"width\":{\"value\":0.2},\"x\":{\"field\":\"Day\"}},\"id\":\"19496\",\"type\":\"VBar\"},{\"attributes\":{},\"id\":\"19480\",\"type\":\"PanTool\"},{\"attributes\":{\"fill_alpha\":{\"value\":0.5},\"fill_color\":{\"value\":\"#1f77b4\"},\"line_alpha\":{\"value\":0.5},\"line_color\":{\"value\":\"#1f77b4\"},\"top\":{\"field\":\"NO PARKING-STREET CLEANING\"},\"width\":{\"value\":0.2},\"x\":{\"field\":\"Day\"}},\"id\":\"19494\",\"type\":\"VBar\"},{\"attributes\":{\"fill_alpha\":{\"value\":0.1},\"fill_color\":{\"value\":\"#1f77b4\"},\"line_alpha\":{\"value\":0.1},\"line_color\":{\"value\":\"#1f77b4\"},\"top\":{\"field\":\"NO PARKING-STREET CLEANING\"},\"width\":{\"value\":0.2},\"x\":{\"field\":\"Day\"}},\"id\":\"19495\",\"type\":\"VBar\"},{\"attributes\":{\"text\":\"Distibution of # of fines for top 10 violations pr. Day\"},\"id\":\"19462\",\"type\":\"Title\"},{\"attributes\":{\"data_source\":{\"id\":\"19459\",\"type\":\"ColumnDataSource\"},\"glyph\":{\"id\":\"19518\",\"type\":\"VBar\"},\"hover_glyph\":null,\"muted_glyph\":{\"id\":\"19520\",\"type\":\"VBar\"},\"nonselection_glyph\":{\"id\":\"19519\",\"type\":\"VBar\"},\"selection_glyph\":null,\"view\":{\"id\":\"19522\",\"type\":\"CDSView\"}},\"id\":\"19521\",\"type\":\"GlyphRenderer\"},{\"attributes\":{\"active_drag\":\"auto\",\"active_inspect\":\"auto\",\"active_multi\":null,\"active_scroll\":\"auto\",\"active_tap\":\"auto\",\"tools\":[{\"id\":\"19480\",\"type\":\"PanTool\"},{\"id\":\"19481\",\"type\":\"WheelZoomTool\"},{\"id\":\"19482\",\"type\":\"BoxZoomTool\"},{\"id\":\"19483\",\"type\":\"SaveTool\"},{\"id\":\"19484\",\"type\":\"ResetTool\"},{\"id\":\"19485\",\"type\":\"HelpTool\"}]},\"id\":\"19486\",\"type\":\"Toolbar\"},{\"attributes\":{},\"id\":\"19974\",\"type\":\"CategoricalTickFormatter\"},{\"attributes\":{\"fill_alpha\":{\"value\":0.5},\"fill_color\":{\"value\":\"#aec7e8\"},\"line_alpha\":{\"value\":0.5},\"line_color\":{\"value\":\"#aec7e8\"},\"top\":{\"field\":\"FAIL TO DSPLY MUNI METER RECPT\"},\"width\":{\"value\":0.2},\"x\":{\"field\":\"Day\"}},\"id\":\"19500\",\"type\":\"VBar\"},{\"attributes\":{\"fill_alpha\":{\"value\":0.05},\"fill_color\":{\"value\":\"#c5b0d5\"},\"line_alpha\":{\"value\":0.05},\"line_color\":{\"value\":\"#c5b0d5\"},\"top\":{\"field\":\"NO STANDING-BUS STOP\"},\"width\":{\"value\":0.2},\"x\":{\"field\":\"Day\"}},\"id\":\"19550\",\"type\":\"VBar\"}],\"root_ids\":[\"19461\"]},\"title\":\"Bokeh Application\",\"version\":\"1.3.4\"}};\n",
       "  var render_items = [{\"docid\":\"693ddfd1-d6e8-41c4-bd0e-2c5dbc81e1e1\",\"roots\":{\"19461\":\"1a37b58d-9261-4d16-bd01-af7bda762d25\"}}];\n",
       "  root.Bokeh.embed.embed_items_notebook(docs_json, render_items);\n",
       "\n",
       "  }\n",
       "  if (root.Bokeh !== undefined) {\n",
       "    embed_document(root);\n",
       "  } else {\n",
       "    var attempts = 0;\n",
       "    var timer = setInterval(function(root) {\n",
       "      if (root.Bokeh !== undefined) {\n",
       "        embed_document(root);\n",
       "        clearInterval(timer);\n",
       "      }\n",
       "      attempts++;\n",
       "      if (attempts > 100) {\n",
       "        console.log(\"Bokeh: ERROR: Unable to run BokehJS code because BokehJS library is missing\");\n",
       "        clearInterval(timer);\n",
       "      }\n",
       "    }, 10, root)\n",
       "  }\n",
       "})(window);"
      ],
      "application/vnd.bokehjs_exec.v0+json": ""
     },
     "metadata": {
      "application/vnd.bokehjs_exec.v0+json": {
       "id": "19461"
      }
     },
     "output_type": "display_data"
    }
   ],
   "source": [
    "bokeh(df,\"Day\")"
   ]
  },
  {
   "cell_type": "code",
   "execution_count": 294,
   "metadata": {},
   "outputs": [
    {
     "data": {
      "text/html": [
       "\n",
       "\n",
       "\n",
       "\n",
       "\n",
       "\n",
       "  <div class=\"bk-root\" id=\"293a18f1-2025-4c5d-887d-a5ca6c2266a4\" data-root-id=\"20609\"></div>\n"
      ]
     },
     "metadata": {},
     "output_type": "display_data"
    },
    {
     "data": {
      "application/javascript": [
       "(function(root) {\n",
       "  function embed_document(root) {\n",
       "    \n",
       "  var docs_json = {\"1d0ac513-5adb-4287-83f4-88166f5d2359\":{\"roots\":{\"references\":[{\"attributes\":{\"below\":[{\"id\":\"20619\",\"type\":\"CategoricalAxis\"}],\"center\":[{\"id\":\"20622\",\"type\":\"Grid\"},{\"id\":\"20627\",\"type\":\"Grid\"}],\"left\":[{\"id\":\"20623\",\"type\":\"LinearAxis\"},{\"id\":\"20701\",\"type\":\"Legend\"}],\"plot_height\":500,\"plot_width\":1200,\"renderers\":[{\"id\":\"20645\",\"type\":\"GlyphRenderer\"},{\"id\":\"20651\",\"type\":\"GlyphRenderer\"},{\"id\":\"20657\",\"type\":\"GlyphRenderer\"},{\"id\":\"20663\",\"type\":\"GlyphRenderer\"},{\"id\":\"20669\",\"type\":\"GlyphRenderer\"},{\"id\":\"20675\",\"type\":\"GlyphRenderer\"},{\"id\":\"20681\",\"type\":\"GlyphRenderer\"},{\"id\":\"20687\",\"type\":\"GlyphRenderer\"},{\"id\":\"20693\",\"type\":\"GlyphRenderer\"},{\"id\":\"20699\",\"type\":\"GlyphRenderer\"}],\"title\":{\"id\":\"20610\",\"type\":\"Title\"},\"toolbar\":{\"id\":\"20634\",\"type\":\"Toolbar\"},\"toolbar_location\":null,\"x_range\":{\"id\":\"20608\",\"type\":\"FactorRange\"},\"x_scale\":{\"id\":\"20615\",\"type\":\"CategoricalScale\"},\"y_range\":{\"id\":\"20613\",\"type\":\"DataRange1d\"},\"y_scale\":{\"id\":\"20617\",\"type\":\"LinearScale\"}},\"id\":\"20609\",\"subtype\":\"Figure\",\"type\":\"Plot\"},{\"attributes\":{\"source\":{\"id\":\"20607\",\"type\":\"ColumnDataSource\"}},\"id\":\"20652\",\"type\":\"CDSView\"},{\"attributes\":{\"fill_alpha\":{\"value\":0.5},\"fill_color\":{\"value\":\"#aec7e8\"},\"line_alpha\":{\"value\":0.5},\"line_color\":{\"value\":\"#aec7e8\"},\"top\":{\"field\":\"FAIL TO DSPLY MUNI METER RECPT\"},\"width\":{\"value\":0.2},\"x\":{\"field\":\"Country\"}},\"id\":\"20648\",\"type\":\"VBar\"},{\"attributes\":{},\"id\":\"20624\",\"type\":\"BasicTicker\"},{\"attributes\":{},\"id\":\"20620\",\"type\":\"CategoricalTicker\"},{\"attributes\":{\"fill_alpha\":{\"value\":0.05},\"fill_color\":{\"value\":\"#c5b0d5\"},\"line_alpha\":{\"value\":0.05},\"line_color\":{\"value\":\"#c5b0d5\"},\"top\":{\"field\":\"NO STANDING-BUS STOP\"},\"width\":{\"value\":0.2},\"x\":{\"field\":\"Country\"}},\"id\":\"20698\",\"type\":\"VBar\"},{\"attributes\":{\"fill_alpha\":{\"value\":0.5},\"fill_color\":{\"value\":\"#ffbb78\"},\"line_alpha\":{\"value\":0.5},\"line_color\":{\"value\":\"#ffbb78\"},\"top\":{\"field\":\"NO PARKING-DAY/TIME LIMITS\"},\"width\":{\"value\":0.2},\"x\":{\"field\":\"Country\"}},\"id\":\"20660\",\"type\":\"VBar\"},{\"attributes\":{\"dimension\":1,\"ticker\":{\"id\":\"20624\",\"type\":\"BasicTicker\"}},\"id\":\"20627\",\"type\":\"Grid\"},{\"attributes\":{},\"id\":\"20633\",\"type\":\"HelpTool\"},{\"attributes\":{},\"id\":\"21142\",\"type\":\"Selection\"},{\"attributes\":{\"data_source\":{\"id\":\"20607\",\"type\":\"ColumnDataSource\"},\"glyph\":{\"id\":\"20642\",\"type\":\"VBar\"},\"hover_glyph\":null,\"muted_glyph\":{\"id\":\"20644\",\"type\":\"VBar\"},\"nonselection_glyph\":{\"id\":\"20643\",\"type\":\"VBar\"},\"selection_glyph\":null,\"view\":{\"id\":\"20646\",\"type\":\"CDSView\"}},\"id\":\"20645\",\"type\":\"GlyphRenderer\"},{\"attributes\":{\"data_source\":{\"id\":\"20607\",\"type\":\"ColumnDataSource\"},\"glyph\":{\"id\":\"20684\",\"type\":\"VBar\"},\"hover_glyph\":null,\"muted_glyph\":{\"id\":\"20686\",\"type\":\"VBar\"},\"nonselection_glyph\":{\"id\":\"20685\",\"type\":\"VBar\"},\"selection_glyph\":null,\"view\":{\"id\":\"20688\",\"type\":\"CDSView\"}},\"id\":\"20687\",\"type\":\"GlyphRenderer\"},{\"attributes\":{\"label\":{\"value\":\"NO PARKING-STREET CLEANING\"},\"renderers\":[{\"id\":\"20645\",\"type\":\"GlyphRenderer\"}]},\"id\":\"20702\",\"type\":\"LegendItem\"},{\"attributes\":{},\"id\":\"21138\",\"type\":\"CategoricalTickFormatter\"},{\"attributes\":{\"fill_alpha\":{\"value\":0.05},\"fill_color\":{\"value\":\"#9467bd\"},\"line_alpha\":{\"value\":0.05},\"line_color\":{\"value\":\"#9467bd\"},\"top\":{\"field\":\"FAILURE TO STOP AT RED LIGHT\"},\"width\":{\"value\":0.2},\"x\":{\"field\":\"Country\"}},\"id\":\"20692\",\"type\":\"VBar\"},{\"attributes\":{\"axis_label\":\"Country\",\"formatter\":{\"id\":\"21138\",\"type\":\"CategoricalTickFormatter\"},\"ticker\":{\"id\":\"20620\",\"type\":\"CategoricalTicker\"}},\"id\":\"20619\",\"type\":\"CategoricalAxis\"},{\"attributes\":{\"fill_alpha\":{\"value\":0.05},\"fill_color\":{\"value\":\"#1f77b4\"},\"line_alpha\":{\"value\":0.05},\"line_color\":{\"value\":\"#1f77b4\"},\"top\":{\"field\":\"NO PARKING-STREET CLEANING\"},\"width\":{\"value\":0.2},\"x\":{\"field\":\"Country\"}},\"id\":\"20644\",\"type\":\"VBar\"},{\"attributes\":{\"fill_alpha\":{\"value\":0.05},\"fill_color\":{\"value\":\"#ffbb78\"},\"line_alpha\":{\"value\":0.05},\"line_color\":{\"value\":\"#ffbb78\"},\"top\":{\"field\":\"NO PARKING-DAY/TIME LIMITS\"},\"width\":{\"value\":0.2},\"x\":{\"field\":\"Country\"}},\"id\":\"20662\",\"type\":\"VBar\"},{\"attributes\":{\"data_source\":{\"id\":\"20607\",\"type\":\"ColumnDataSource\"},\"glyph\":{\"id\":\"20654\",\"type\":\"VBar\"},\"hover_glyph\":null,\"muted_glyph\":{\"id\":\"20656\",\"type\":\"VBar\"},\"nonselection_glyph\":{\"id\":\"20655\",\"type\":\"VBar\"},\"selection_glyph\":null,\"view\":{\"id\":\"20658\",\"type\":\"CDSView\"}},\"id\":\"20657\",\"type\":\"GlyphRenderer\"},{\"attributes\":{\"ticker\":{\"id\":\"20620\",\"type\":\"CategoricalTicker\"}},\"id\":\"20622\",\"type\":\"Grid\"},{\"attributes\":{\"fill_alpha\":{\"value\":0.1},\"fill_color\":{\"value\":\"#1f77b4\"},\"line_alpha\":{\"value\":0.1},\"line_color\":{\"value\":\"#1f77b4\"},\"top\":{\"field\":\"FAILURE TO STOP AT RED LIGHT\"},\"width\":{\"value\":0.2},\"x\":{\"field\":\"Country\"}},\"id\":\"20691\",\"type\":\"VBar\"},{\"attributes\":{\"data_source\":{\"id\":\"20607\",\"type\":\"ColumnDataSource\"},\"glyph\":{\"id\":\"20648\",\"type\":\"VBar\"},\"hover_glyph\":null,\"muted_glyph\":{\"id\":\"20650\",\"type\":\"VBar\"},\"nonselection_glyph\":{\"id\":\"20649\",\"type\":\"VBar\"},\"selection_glyph\":null,\"view\":{\"id\":\"20652\",\"type\":\"CDSView\"}},\"id\":\"20651\",\"type\":\"GlyphRenderer\"},{\"attributes\":{\"fill_alpha\":{\"value\":0.5},\"fill_color\":{\"value\":\"#2ca02c\"},\"line_alpha\":{\"value\":0.5},\"line_color\":{\"value\":\"#2ca02c\"},\"top\":{\"field\":\"DOUBLE PARKING\"},\"width\":{\"value\":0.2},\"x\":{\"field\":\"Country\"}},\"id\":\"20666\",\"type\":\"VBar\"},{\"attributes\":{\"label\":{\"value\":\"INSP. STICKER-EXPIRED/MISSING\"},\"renderers\":[{\"id\":\"20681\",\"type\":\"GlyphRenderer\"}]},\"id\":\"20708\",\"type\":\"LegendItem\"},{\"attributes\":{\"data_source\":{\"id\":\"20607\",\"type\":\"ColumnDataSource\"},\"glyph\":{\"id\":\"20696\",\"type\":\"VBar\"},\"hover_glyph\":null,\"muted_glyph\":{\"id\":\"20698\",\"type\":\"VBar\"},\"nonselection_glyph\":{\"id\":\"20697\",\"type\":\"VBar\"},\"selection_glyph\":null,\"view\":{\"id\":\"20700\",\"type\":\"CDSView\"}},\"id\":\"20699\",\"type\":\"GlyphRenderer\"},{\"attributes\":{\"click_policy\":\"mute\",\"items\":[{\"id\":\"20702\",\"type\":\"LegendItem\"},{\"id\":\"20703\",\"type\":\"LegendItem\"},{\"id\":\"20704\",\"type\":\"LegendItem\"},{\"id\":\"20705\",\"type\":\"LegendItem\"},{\"id\":\"20706\",\"type\":\"LegendItem\"},{\"id\":\"20707\",\"type\":\"LegendItem\"},{\"id\":\"20708\",\"type\":\"LegendItem\"},{\"id\":\"20709\",\"type\":\"LegendItem\"},{\"id\":\"20710\",\"type\":\"LegendItem\"},{\"id\":\"20711\",\"type\":\"LegendItem\"}],\"location\":[0,50]},\"id\":\"20701\",\"type\":\"Legend\"},{\"attributes\":{\"fill_alpha\":{\"value\":0.5},\"fill_color\":{\"value\":\"#c5b0d5\"},\"line_alpha\":{\"value\":0.5},\"line_color\":{\"value\":\"#c5b0d5\"},\"top\":{\"field\":\"NO STANDING-BUS STOP\"},\"width\":{\"value\":0.2},\"x\":{\"field\":\"Country\"}},\"id\":\"20696\",\"type\":\"VBar\"},{\"attributes\":{},\"id\":\"21140\",\"type\":\"BasicTickFormatter\"},{\"attributes\":{\"axis_label\":\"# of fines\",\"formatter\":{\"id\":\"21140\",\"type\":\"BasicTickFormatter\"},\"ticker\":{\"id\":\"20624\",\"type\":\"BasicTicker\"}},\"id\":\"20623\",\"type\":\"LinearAxis\"},{\"attributes\":{\"data_source\":{\"id\":\"20607\",\"type\":\"ColumnDataSource\"},\"glyph\":{\"id\":\"20666\",\"type\":\"VBar\"},\"hover_glyph\":null,\"muted_glyph\":{\"id\":\"20668\",\"type\":\"VBar\"},\"nonselection_glyph\":{\"id\":\"20667\",\"type\":\"VBar\"},\"selection_glyph\":null,\"view\":{\"id\":\"20670\",\"type\":\"CDSView\"}},\"id\":\"20669\",\"type\":\"GlyphRenderer\"},{\"attributes\":{\"label\":{\"value\":\"FAILURE TO STOP AT RED LIGHT\"},\"renderers\":[{\"id\":\"20693\",\"type\":\"GlyphRenderer\"}]},\"id\":\"20710\",\"type\":\"LegendItem\"},{\"attributes\":{\"source\":{\"id\":\"20607\",\"type\":\"ColumnDataSource\"}},\"id\":\"20670\",\"type\":\"CDSView\"},{\"attributes\":{\"callback\":null},\"id\":\"20613\",\"type\":\"DataRange1d\"},{\"attributes\":{\"fill_alpha\":{\"value\":0.5},\"fill_color\":{\"value\":\"#ff7f0e\"},\"line_alpha\":{\"value\":0.5},\"line_color\":{\"value\":\"#ff7f0e\"},\"top\":{\"field\":\"NO STANDING-DAY/TIME LIMITS\"},\"width\":{\"value\":0.2},\"x\":{\"field\":\"Country\"}},\"id\":\"20654\",\"type\":\"VBar\"},{\"attributes\":{},\"id\":\"20632\",\"type\":\"ResetTool\"},{\"attributes\":{\"source\":{\"id\":\"20607\",\"type\":\"ColumnDataSource\"}},\"id\":\"20664\",\"type\":\"CDSView\"},{\"attributes\":{},\"id\":\"21141\",\"type\":\"UnionRenderers\"},{\"attributes\":{\"data_source\":{\"id\":\"20607\",\"type\":\"ColumnDataSource\"},\"glyph\":{\"id\":\"20660\",\"type\":\"VBar\"},\"hover_glyph\":null,\"muted_glyph\":{\"id\":\"20662\",\"type\":\"VBar\"},\"nonselection_glyph\":{\"id\":\"20661\",\"type\":\"VBar\"},\"selection_glyph\":null,\"view\":{\"id\":\"20664\",\"type\":\"CDSView\"}},\"id\":\"20663\",\"type\":\"GlyphRenderer\"},{\"attributes\":{},\"id\":\"20628\",\"type\":\"PanTool\"},{\"attributes\":{\"fill_alpha\":{\"value\":0.1},\"fill_color\":{\"value\":\"#1f77b4\"},\"line_alpha\":{\"value\":0.1},\"line_color\":{\"value\":\"#1f77b4\"},\"top\":{\"field\":\"EXPIRED MUNI METER\"},\"width\":{\"value\":0.2},\"x\":{\"field\":\"Country\"}},\"id\":\"20685\",\"type\":\"VBar\"},{\"attributes\":{\"fill_alpha\":{\"value\":0.1},\"fill_color\":{\"value\":\"#1f77b4\"},\"line_alpha\":{\"value\":0.1},\"line_color\":{\"value\":\"#1f77b4\"},\"top\":{\"field\":\"NO PARKING-DAY/TIME LIMITS\"},\"width\":{\"value\":0.2},\"x\":{\"field\":\"Country\"}},\"id\":\"20661\",\"type\":\"VBar\"},{\"attributes\":{\"label\":{\"value\":\"FAIL TO DSPLY MUNI METER RECPT\"},\"renderers\":[{\"id\":\"20651\",\"type\":\"GlyphRenderer\"}]},\"id\":\"20703\",\"type\":\"LegendItem\"},{\"attributes\":{\"source\":{\"id\":\"20607\",\"type\":\"ColumnDataSource\"}},\"id\":\"20694\",\"type\":\"CDSView\"},{\"attributes\":{\"fill_alpha\":{\"value\":0.05},\"fill_color\":{\"value\":\"#ff7f0e\"},\"line_alpha\":{\"value\":0.05},\"line_color\":{\"value\":\"#ff7f0e\"},\"top\":{\"field\":\"NO STANDING-DAY/TIME LIMITS\"},\"width\":{\"value\":0.2},\"x\":{\"field\":\"Country\"}},\"id\":\"20656\",\"type\":\"VBar\"},{\"attributes\":{\"label\":{\"value\":\"EXPIRED MUNI METER\"},\"renderers\":[{\"id\":\"20687\",\"type\":\"GlyphRenderer\"}]},\"id\":\"20709\",\"type\":\"LegendItem\"},{\"attributes\":{\"label\":{\"value\":\"FIRE HYDRANT\"},\"renderers\":[{\"id\":\"20675\",\"type\":\"GlyphRenderer\"}]},\"id\":\"20707\",\"type\":\"LegendItem\"},{\"attributes\":{\"active_drag\":\"auto\",\"active_inspect\":\"auto\",\"active_multi\":null,\"active_scroll\":\"auto\",\"active_tap\":\"auto\",\"tools\":[{\"id\":\"20628\",\"type\":\"PanTool\"},{\"id\":\"20629\",\"type\":\"WheelZoomTool\"},{\"id\":\"20630\",\"type\":\"BoxZoomTool\"},{\"id\":\"20631\",\"type\":\"SaveTool\"},{\"id\":\"20632\",\"type\":\"ResetTool\"},{\"id\":\"20633\",\"type\":\"HelpTool\"}]},\"id\":\"20634\",\"type\":\"Toolbar\"},{\"attributes\":{\"callback\":null,\"data\":{\"Country\":[\"BK\",\"BX\",\"K\",\"MN\",\"NY\",\"Q\",\"QN\",\"R\",\"ST\",\"nan\"],\"DOUBLE PARKING\":{\"__ndarray__\":\"AAAAAAAA+H8AAAAAAFTYQAAAAADAI9FAAAAAAAAA+H8AAAAAQIDvQAAAAAAAa8JAAAAAAAAA+H8AAAAAAMB0QAAAAAAAAPh/AAAAAACclkA=\",\"dtype\":\"float64\",\"shape\":[10]},\"EXPIRED MUNI METER\":{\"__ndarray__\":\"AAAAAAAA+H8AAAAAgDfGQAAAAAAA0slAAAAAAAAA+H8AAAAAAGjhQAAAAADgjuFAAAAAAAAA+H8AAAAAAIiSQAAAAAAAAPh/AAAAAAAAIEA=\",\"dtype\":\"float64\",\"shape\":[10]},\"FAIL TO DSPLY MUNI METER RECPT\":{\"__ndarray__\":\"AAAAAAAA+H8AAAAAwHPcQAAAAAAgF+5AAAAAAAAA+H8AAAAAALzuQAAAAAAwHfJAAAAAAAAA+H8AAAAAAAmzQAAAAAAAAPh/AAAAAACARUA=\",\"dtype\":\"float64\",\"shape\":[10]},\"FAILURE TO STOP AT RED LIGHT\":{\"__ndarray__\":\"AAAAAMA+30AAAAAAgJHGQAAAAAAAAPh/AAAAAACFtkAAAAAAAAD4fwAAAAAAAPh/AAAAAMB74UAAAAAAAAD4fwAAAAAARsFAAAAAAABQgEA=\",\"dtype\":\"float64\",\"shape\":[10]},\"FIRE HYDRANT\":{\"__ndarray__\":\"AAAAAAAA+H8AAAAAANzSQAAAAACgx+BAAAAAAAAA+H8AAAAAgG3cQAAAAACAwdhAAAAAAAAA+H8AAAAAAPycQAAAAAAAAPh/AAAAAACoh0A=\",\"dtype\":\"float64\",\"shape\":[10]},\"INSP. STICKER-EXPIRED/MISSING\":{\"__ndarray__\":\"AAAAAAAA+H8AAAAAQPbQQAAAAADAG95AAAAAAAAA+H8AAAAAgFnTQAAAAABAjeBAAAAAAAAA+H8AAAAAAL+/QAAAAAAAAPh/AAAAAADAVkA=\",\"dtype\":\"float64\",\"shape\":[10]},\"NO PARKING-DAY/TIME LIMITS\":{\"__ndarray__\":\"AAAAAAAA+H8AAAAAgMnRQAAAAAAAKtlAAAAAAAAA+H8AAAAAAMPzQAAAAABA2N9AAAAAAAAA+H8AAAAAAJiUQAAAAAAAAPh/AAAAAAAwfkA=\",\"dtype\":\"float64\",\"shape\":[10]},\"NO PARKING-STREET CLEANING\":{\"__ndarray__\":\"AAAAAAAA+H8AAAAA4HfrQAAAAAB4ogJBAAAAAAAA+H8AAAAAIJLwQAAAAAAANPRAAAAAAAAA+H8AAAAAAABMQAAAAAAAAPh/AAAAAACklkA=\",\"dtype\":\"float64\",\"shape\":[10]},\"NO STANDING-BUS STOP\":{\"__ndarray__\":\"AAAAAAAA+H8AAAAAAAm/QAAAAAAAi8tAAAAAAAAA+H8AAAAAwOXXQAAAAAAAtM1AAAAAAAAA+H8AAAAAALiCQAAAAAAAAPh/AAAAAADQg0A=\",\"dtype\":\"float64\",\"shape\":[10]},\"NO STANDING-DAY/TIME LIMITS\":{\"__ndarray__\":\"AAAAAAAA+H8AAAAAgATKQAAAAADgMeFAAAAAAAAA+H8AAAAAQND8QAAAAAAA6t5AAAAAAAAA+H8AAAAAADylQAAAAAAAAPh/AAAAAAAokkA=\",\"dtype\":\"float64\",\"shape\":[10]},\"index\":[0,1,2,3,4,5,6,7,8,9]},\"selected\":{\"id\":\"21142\",\"type\":\"Selection\"},\"selection_policy\":{\"id\":\"21141\",\"type\":\"UnionRenderers\"}},\"id\":\"20607\",\"type\":\"ColumnDataSource\"},{\"attributes\":{\"overlay\":{\"id\":\"21143\",\"type\":\"BoxAnnotation\"}},\"id\":\"20630\",\"type\":\"BoxZoomTool\"},{\"attributes\":{\"bottom_units\":\"screen\",\"fill_alpha\":{\"value\":0.5},\"fill_color\":{\"value\":\"lightgrey\"},\"left_units\":\"screen\",\"level\":\"overlay\",\"line_alpha\":{\"value\":1.0},\"line_color\":{\"value\":\"black\"},\"line_dash\":[4,4],\"line_width\":{\"value\":2},\"render_mode\":\"css\",\"right_units\":\"screen\",\"top_units\":\"screen\"},\"id\":\"21143\",\"type\":\"BoxAnnotation\"},{\"attributes\":{\"data_source\":{\"id\":\"20607\",\"type\":\"ColumnDataSource\"},\"glyph\":{\"id\":\"20672\",\"type\":\"VBar\"},\"hover_glyph\":null,\"muted_glyph\":{\"id\":\"20674\",\"type\":\"VBar\"},\"nonselection_glyph\":{\"id\":\"20673\",\"type\":\"VBar\"},\"selection_glyph\":null,\"view\":{\"id\":\"20676\",\"type\":\"CDSView\"}},\"id\":\"20675\",\"type\":\"GlyphRenderer\"},{\"attributes\":{\"label\":{\"value\":\"NO STANDING-BUS STOP\"},\"renderers\":[{\"id\":\"20699\",\"type\":\"GlyphRenderer\"}]},\"id\":\"20711\",\"type\":\"LegendItem\"},{\"attributes\":{\"source\":{\"id\":\"20607\",\"type\":\"ColumnDataSource\"}},\"id\":\"20688\",\"type\":\"CDSView\"},{\"attributes\":{},\"id\":\"20629\",\"type\":\"WheelZoomTool\"},{\"attributes\":{\"fill_alpha\":{\"value\":0.05},\"fill_color\":{\"value\":\"#2ca02c\"},\"line_alpha\":{\"value\":0.05},\"line_color\":{\"value\":\"#2ca02c\"},\"top\":{\"field\":\"DOUBLE PARKING\"},\"width\":{\"value\":0.2},\"x\":{\"field\":\"Country\"}},\"id\":\"20668\",\"type\":\"VBar\"},{\"attributes\":{\"label\":{\"value\":\"DOUBLE PARKING\"},\"renderers\":[{\"id\":\"20669\",\"type\":\"GlyphRenderer\"}]},\"id\":\"20706\",\"type\":\"LegendItem\"},{\"attributes\":{},\"id\":\"20617\",\"type\":\"LinearScale\"},{\"attributes\":{\"fill_alpha\":{\"value\":0.1},\"fill_color\":{\"value\":\"#1f77b4\"},\"line_alpha\":{\"value\":0.1},\"line_color\":{\"value\":\"#1f77b4\"},\"top\":{\"field\":\"FAIL TO DSPLY MUNI METER RECPT\"},\"width\":{\"value\":0.2},\"x\":{\"field\":\"Country\"}},\"id\":\"20649\",\"type\":\"VBar\"},{\"attributes\":{\"fill_alpha\":{\"value\":0.1},\"fill_color\":{\"value\":\"#1f77b4\"},\"line_alpha\":{\"value\":0.1},\"line_color\":{\"value\":\"#1f77b4\"},\"top\":{\"field\":\"NO PARKING-STREET CLEANING\"},\"width\":{\"value\":0.2},\"x\":{\"field\":\"Country\"}},\"id\":\"20643\",\"type\":\"VBar\"},{\"attributes\":{\"source\":{\"id\":\"20607\",\"type\":\"ColumnDataSource\"}},\"id\":\"20676\",\"type\":\"CDSView\"},{\"attributes\":{\"callback\":null,\"factors\":[\"BK\",\"BX\",\"K\",\"MN\",\"NY\",\"Q\",\"QN\",\"QUEEN\",\"R\",\"ST\",\"nan\"],\"range_padding\":0.05},\"id\":\"20608\",\"type\":\"FactorRange\"},{\"attributes\":{\"source\":{\"id\":\"20607\",\"type\":\"ColumnDataSource\"}},\"id\":\"20646\",\"type\":\"CDSView\"},{\"attributes\":{\"fill_alpha\":{\"value\":0.05},\"fill_color\":{\"value\":\"#d62728\"},\"line_alpha\":{\"value\":0.05},\"line_color\":{\"value\":\"#d62728\"},\"top\":{\"field\":\"INSP. STICKER-EXPIRED/MISSING\"},\"width\":{\"value\":0.2},\"x\":{\"field\":\"Country\"}},\"id\":\"20680\",\"type\":\"VBar\"},{\"attributes\":{\"fill_alpha\":{\"value\":0.05},\"fill_color\":{\"value\":\"#98df8a\"},\"line_alpha\":{\"value\":0.05},\"line_color\":{\"value\":\"#98df8a\"},\"top\":{\"field\":\"FIRE HYDRANT\"},\"width\":{\"value\":0.2},\"x\":{\"field\":\"Country\"}},\"id\":\"20674\",\"type\":\"VBar\"},{\"attributes\":{\"fill_alpha\":{\"value\":0.05},\"fill_color\":{\"value\":\"#ff9896\"},\"line_alpha\":{\"value\":0.05},\"line_color\":{\"value\":\"#ff9896\"},\"top\":{\"field\":\"EXPIRED MUNI METER\"},\"width\":{\"value\":0.2},\"x\":{\"field\":\"Country\"}},\"id\":\"20686\",\"type\":\"VBar\"},{\"attributes\":{\"label\":{\"value\":\"NO PARKING-DAY/TIME LIMITS\"},\"renderers\":[{\"id\":\"20663\",\"type\":\"GlyphRenderer\"}]},\"id\":\"20705\",\"type\":\"LegendItem\"},{\"attributes\":{\"data_source\":{\"id\":\"20607\",\"type\":\"ColumnDataSource\"},\"glyph\":{\"id\":\"20678\",\"type\":\"VBar\"},\"hover_glyph\":null,\"muted_glyph\":{\"id\":\"20680\",\"type\":\"VBar\"},\"nonselection_glyph\":{\"id\":\"20679\",\"type\":\"VBar\"},\"selection_glyph\":null,\"view\":{\"id\":\"20682\",\"type\":\"CDSView\"}},\"id\":\"20681\",\"type\":\"GlyphRenderer\"},{\"attributes\":{\"fill_alpha\":{\"value\":0.5},\"fill_color\":{\"value\":\"#ff9896\"},\"line_alpha\":{\"value\":0.5},\"line_color\":{\"value\":\"#ff9896\"},\"top\":{\"field\":\"EXPIRED MUNI METER\"},\"width\":{\"value\":0.2},\"x\":{\"field\":\"Country\"}},\"id\":\"20684\",\"type\":\"VBar\"},{\"attributes\":{\"fill_alpha\":{\"value\":0.5},\"fill_color\":{\"value\":\"#9467bd\"},\"line_alpha\":{\"value\":0.5},\"line_color\":{\"value\":\"#9467bd\"},\"top\":{\"field\":\"FAILURE TO STOP AT RED LIGHT\"},\"width\":{\"value\":0.2},\"x\":{\"field\":\"Country\"}},\"id\":\"20690\",\"type\":\"VBar\"},{\"attributes\":{\"fill_alpha\":{\"value\":0.05},\"fill_color\":{\"value\":\"#aec7e8\"},\"line_alpha\":{\"value\":0.05},\"line_color\":{\"value\":\"#aec7e8\"},\"top\":{\"field\":\"FAIL TO DSPLY MUNI METER RECPT\"},\"width\":{\"value\":0.2},\"x\":{\"field\":\"Country\"}},\"id\":\"20650\",\"type\":\"VBar\"},{\"attributes\":{\"fill_alpha\":{\"value\":0.5},\"fill_color\":{\"value\":\"#1f77b4\"},\"line_alpha\":{\"value\":0.5},\"line_color\":{\"value\":\"#1f77b4\"},\"top\":{\"field\":\"NO PARKING-STREET CLEANING\"},\"width\":{\"value\":0.2},\"x\":{\"field\":\"Country\"}},\"id\":\"20642\",\"type\":\"VBar\"},{\"attributes\":{\"fill_alpha\":{\"value\":0.1},\"fill_color\":{\"value\":\"#1f77b4\"},\"line_alpha\":{\"value\":0.1},\"line_color\":{\"value\":\"#1f77b4\"},\"top\":{\"field\":\"NO STANDING-BUS STOP\"},\"width\":{\"value\":0.2},\"x\":{\"field\":\"Country\"}},\"id\":\"20697\",\"type\":\"VBar\"},{\"attributes\":{\"source\":{\"id\":\"20607\",\"type\":\"ColumnDataSource\"}},\"id\":\"20658\",\"type\":\"CDSView\"},{\"attributes\":{\"fill_alpha\":{\"value\":0.5},\"fill_color\":{\"value\":\"#98df8a\"},\"line_alpha\":{\"value\":0.5},\"line_color\":{\"value\":\"#98df8a\"},\"top\":{\"field\":\"FIRE HYDRANT\"},\"width\":{\"value\":0.2},\"x\":{\"field\":\"Country\"}},\"id\":\"20672\",\"type\":\"VBar\"},{\"attributes\":{\"fill_alpha\":{\"value\":0.1},\"fill_color\":{\"value\":\"#1f77b4\"},\"line_alpha\":{\"value\":0.1},\"line_color\":{\"value\":\"#1f77b4\"},\"top\":{\"field\":\"DOUBLE PARKING\"},\"width\":{\"value\":0.2},\"x\":{\"field\":\"Country\"}},\"id\":\"20667\",\"type\":\"VBar\"},{\"attributes\":{\"data_source\":{\"id\":\"20607\",\"type\":\"ColumnDataSource\"},\"glyph\":{\"id\":\"20690\",\"type\":\"VBar\"},\"hover_glyph\":null,\"muted_glyph\":{\"id\":\"20692\",\"type\":\"VBar\"},\"nonselection_glyph\":{\"id\":\"20691\",\"type\":\"VBar\"},\"selection_glyph\":null,\"view\":{\"id\":\"20694\",\"type\":\"CDSView\"}},\"id\":\"20693\",\"type\":\"GlyphRenderer\"},{\"attributes\":{\"fill_alpha\":{\"value\":0.5},\"fill_color\":{\"value\":\"#d62728\"},\"line_alpha\":{\"value\":0.5},\"line_color\":{\"value\":\"#d62728\"},\"top\":{\"field\":\"INSP. STICKER-EXPIRED/MISSING\"},\"width\":{\"value\":0.2},\"x\":{\"field\":\"Country\"}},\"id\":\"20678\",\"type\":\"VBar\"},{\"attributes\":{\"label\":{\"value\":\"NO STANDING-DAY/TIME LIMITS\"},\"renderers\":[{\"id\":\"20657\",\"type\":\"GlyphRenderer\"}]},\"id\":\"20704\",\"type\":\"LegendItem\"},{\"attributes\":{\"fill_alpha\":{\"value\":0.1},\"fill_color\":{\"value\":\"#1f77b4\"},\"line_alpha\":{\"value\":0.1},\"line_color\":{\"value\":\"#1f77b4\"},\"top\":{\"field\":\"INSP. STICKER-EXPIRED/MISSING\"},\"width\":{\"value\":0.2},\"x\":{\"field\":\"Country\"}},\"id\":\"20679\",\"type\":\"VBar\"},{\"attributes\":{},\"id\":\"20631\",\"type\":\"SaveTool\"},{\"attributes\":{\"text\":\"Distibution of # of fines for top 10 violations pr. Country\"},\"id\":\"20610\",\"type\":\"Title\"},{\"attributes\":{\"source\":{\"id\":\"20607\",\"type\":\"ColumnDataSource\"}},\"id\":\"20700\",\"type\":\"CDSView\"},{\"attributes\":{\"fill_alpha\":{\"value\":0.1},\"fill_color\":{\"value\":\"#1f77b4\"},\"line_alpha\":{\"value\":0.1},\"line_color\":{\"value\":\"#1f77b4\"},\"top\":{\"field\":\"NO STANDING-DAY/TIME LIMITS\"},\"width\":{\"value\":0.2},\"x\":{\"field\":\"Country\"}},\"id\":\"20655\",\"type\":\"VBar\"},{\"attributes\":{},\"id\":\"20615\",\"type\":\"CategoricalScale\"},{\"attributes\":{\"fill_alpha\":{\"value\":0.1},\"fill_color\":{\"value\":\"#1f77b4\"},\"line_alpha\":{\"value\":0.1},\"line_color\":{\"value\":\"#1f77b4\"},\"top\":{\"field\":\"FIRE HYDRANT\"},\"width\":{\"value\":0.2},\"x\":{\"field\":\"Country\"}},\"id\":\"20673\",\"type\":\"VBar\"},{\"attributes\":{\"source\":{\"id\":\"20607\",\"type\":\"ColumnDataSource\"}},\"id\":\"20682\",\"type\":\"CDSView\"}],\"root_ids\":[\"20609\"]},\"title\":\"Bokeh Application\",\"version\":\"1.3.4\"}};\n",
       "  var render_items = [{\"docid\":\"1d0ac513-5adb-4287-83f4-88166f5d2359\",\"roots\":{\"20609\":\"293a18f1-2025-4c5d-887d-a5ca6c2266a4\"}}];\n",
       "  root.Bokeh.embed.embed_items_notebook(docs_json, render_items);\n",
       "\n",
       "  }\n",
       "  if (root.Bokeh !== undefined) {\n",
       "    embed_document(root);\n",
       "  } else {\n",
       "    var attempts = 0;\n",
       "    var timer = setInterval(function(root) {\n",
       "      if (root.Bokeh !== undefined) {\n",
       "        embed_document(root);\n",
       "        clearInterval(timer);\n",
       "      }\n",
       "      attempts++;\n",
       "      if (attempts > 100) {\n",
       "        console.log(\"Bokeh: ERROR: Unable to run BokehJS code because BokehJS library is missing\");\n",
       "        clearInterval(timer);\n",
       "      }\n",
       "    }, 10, root)\n",
       "  }\n",
       "})(window);"
      ],
      "application/vnd.bokehjs_exec.v0+json": ""
     },
     "metadata": {
      "application/vnd.bokehjs_exec.v0+json": {
       "id": "20609"
      }
     },
     "output_type": "display_data"
    }
   ],
   "source": [
    "bokeh(df,'County')"
   ]
  },
  {
   "cell_type": "markdown",
   "metadata": {},
   "source": [
    "# 3. Data analysis <br>\n",
    "* Describe your data analysis and explain what you've learned about the dataset.\n",
    "\n",
    "    - Violation Seasonality: <br>\n",
    "    For the seasonality of the parking violations we can se that the top violation are distributed a little different througout the day. For example the cleaing happens during the start of the day, which means should think about parking right from the morning, instead of just dumping the car anywhere. Another seasonality is the violation \"Inspections Sticker Missing/Outdated\". It is as sticker all cars in New York must have, and is aquired the first once a year. Here it is seen that alot of people aquire it the last or first day of the month, but alot of people forget to get the new inspections sticker in time, and this i seen as alot of people get af fine at the start of the month. "
   ]
  },
  {
   "cell_type": "markdown",
   "metadata": {},
   "source": [
    "# 4. Genre \n",
    "* Which tools did you use from each of the 3 categories of Visual Narrative (Figure 7 in Segal and Heer). Why?\n",
    "* Which tools did you use from each of the 3 categories of Narrative Structure (Figure 7 in Segal and Heer). Why?"
   ]
  },
  {
   "cell_type": "markdown",
   "metadata": {},
   "source": [
    "# 5. Visualizations\n",
    "\n",
    "* Explain the visualizations you've chosen. <br>\n",
    "Bokeh plot bar plots are mostly used, for an interactive story. This lets the reader play with the data, and do some basic \"findings\" for themselves. This is is also a great way to show distriutions of the violations, and quickly to recongnise if there is a parttern in the data. \n",
    "* Why are they right for the story you want to tell?"
   ]
  },
  {
   "cell_type": "markdown",
   "metadata": {},
   "source": [
    "# 6.Discussion \n",
    "* What went well?,\n",
    "* What is still missing? What could be improved?, Why?"
   ]
  },
  {
   "cell_type": "code",
   "execution_count": null,
   "metadata": {},
   "outputs": [],
   "source": []
  },
  {
   "cell_type": "code",
   "execution_count": null,
   "metadata": {},
   "outputs": [],
   "source": []
  },
  {
   "cell_type": "code",
   "execution_count": null,
   "metadata": {},
   "outputs": [],
   "source": []
  }
 ],
 "metadata": {
  "kernelspec": {
   "display_name": "Python 3",
   "language": "python",
   "name": "python3"
  },
  "language_info": {
   "codemirror_mode": {
    "name": "ipython",
    "version": 3
   },
   "file_extension": ".py",
   "mimetype": "text/x-python",
   "name": "python",
   "nbconvert_exporter": "python",
   "pygments_lexer": "ipython3",
   "version": "3.7.6"
  }
 },
 "nbformat": 4,
 "nbformat_minor": 4
}
