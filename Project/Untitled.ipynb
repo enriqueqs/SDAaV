{
 "cells": [
  {
   "cell_type": "code",
   "execution_count": 363,
   "metadata": {},
   "outputs": [
    {
     "data": {
      "text/html": [
       "\n",
       "    <div class=\"bk-root\">\n",
       "        <a href=\"https://bokeh.pydata.org\" target=\"_blank\" class=\"bk-logo bk-logo-small bk-logo-notebook\"></a>\n",
       "        <span id=\"1001\">Loading BokehJS ...</span>\n",
       "    </div>"
      ]
     },
     "metadata": {},
     "output_type": "display_data"
    },
    {
     "data": {
      "application/javascript": [
       "\n",
       "(function(root) {\n",
       "  function now() {\n",
       "    return new Date();\n",
       "  }\n",
       "\n",
       "  var force = true;\n",
       "\n",
       "  if (typeof root._bokeh_onload_callbacks === \"undefined\" || force === true) {\n",
       "    root._bokeh_onload_callbacks = [];\n",
       "    root._bokeh_is_loading = undefined;\n",
       "  }\n",
       "\n",
       "  var JS_MIME_TYPE = 'application/javascript';\n",
       "  var HTML_MIME_TYPE = 'text/html';\n",
       "  var EXEC_MIME_TYPE = 'application/vnd.bokehjs_exec.v0+json';\n",
       "  var CLASS_NAME = 'output_bokeh rendered_html';\n",
       "\n",
       "  /**\n",
       "   * Render data to the DOM node\n",
       "   */\n",
       "  function render(props, node) {\n",
       "    var script = document.createElement(\"script\");\n",
       "    node.appendChild(script);\n",
       "  }\n",
       "\n",
       "  /**\n",
       "   * Handle when an output is cleared or removed\n",
       "   */\n",
       "  function handleClearOutput(event, handle) {\n",
       "    var cell = handle.cell;\n",
       "\n",
       "    var id = cell.output_area._bokeh_element_id;\n",
       "    var server_id = cell.output_area._bokeh_server_id;\n",
       "    // Clean up Bokeh references\n",
       "    if (id != null && id in Bokeh.index) {\n",
       "      Bokeh.index[id].model.document.clear();\n",
       "      delete Bokeh.index[id];\n",
       "    }\n",
       "\n",
       "    if (server_id !== undefined) {\n",
       "      // Clean up Bokeh references\n",
       "      var cmd = \"from bokeh.io.state import curstate; print(curstate().uuid_to_server['\" + server_id + \"'].get_sessions()[0].document.roots[0]._id)\";\n",
       "      cell.notebook.kernel.execute(cmd, {\n",
       "        iopub: {\n",
       "          output: function(msg) {\n",
       "            var id = msg.content.text.trim();\n",
       "            if (id in Bokeh.index) {\n",
       "              Bokeh.index[id].model.document.clear();\n",
       "              delete Bokeh.index[id];\n",
       "            }\n",
       "          }\n",
       "        }\n",
       "      });\n",
       "      // Destroy server and session\n",
       "      var cmd = \"import bokeh.io.notebook as ion; ion.destroy_server('\" + server_id + \"')\";\n",
       "      cell.notebook.kernel.execute(cmd);\n",
       "    }\n",
       "  }\n",
       "\n",
       "  /**\n",
       "   * Handle when a new output is added\n",
       "   */\n",
       "  function handleAddOutput(event, handle) {\n",
       "    var output_area = handle.output_area;\n",
       "    var output = handle.output;\n",
       "\n",
       "    // limit handleAddOutput to display_data with EXEC_MIME_TYPE content only\n",
       "    if ((output.output_type != \"display_data\") || (!output.data.hasOwnProperty(EXEC_MIME_TYPE))) {\n",
       "      return\n",
       "    }\n",
       "\n",
       "    var toinsert = output_area.element.find(\".\" + CLASS_NAME.split(' ')[0]);\n",
       "\n",
       "    if (output.metadata[EXEC_MIME_TYPE][\"id\"] !== undefined) {\n",
       "      toinsert[toinsert.length - 1].firstChild.textContent = output.data[JS_MIME_TYPE];\n",
       "      // store reference to embed id on output_area\n",
       "      output_area._bokeh_element_id = output.metadata[EXEC_MIME_TYPE][\"id\"];\n",
       "    }\n",
       "    if (output.metadata[EXEC_MIME_TYPE][\"server_id\"] !== undefined) {\n",
       "      var bk_div = document.createElement(\"div\");\n",
       "      bk_div.innerHTML = output.data[HTML_MIME_TYPE];\n",
       "      var script_attrs = bk_div.children[0].attributes;\n",
       "      for (var i = 0; i < script_attrs.length; i++) {\n",
       "        toinsert[toinsert.length - 1].firstChild.setAttribute(script_attrs[i].name, script_attrs[i].value);\n",
       "      }\n",
       "      // store reference to server id on output_area\n",
       "      output_area._bokeh_server_id = output.metadata[EXEC_MIME_TYPE][\"server_id\"];\n",
       "    }\n",
       "  }\n",
       "\n",
       "  function register_renderer(events, OutputArea) {\n",
       "\n",
       "    function append_mime(data, metadata, element) {\n",
       "      // create a DOM node to render to\n",
       "      var toinsert = this.create_output_subarea(\n",
       "        metadata,\n",
       "        CLASS_NAME,\n",
       "        EXEC_MIME_TYPE\n",
       "      );\n",
       "      this.keyboard_manager.register_events(toinsert);\n",
       "      // Render to node\n",
       "      var props = {data: data, metadata: metadata[EXEC_MIME_TYPE]};\n",
       "      render(props, toinsert[toinsert.length - 1]);\n",
       "      element.append(toinsert);\n",
       "      return toinsert\n",
       "    }\n",
       "\n",
       "    /* Handle when an output is cleared or removed */\n",
       "    events.on('clear_output.CodeCell', handleClearOutput);\n",
       "    events.on('delete.Cell', handleClearOutput);\n",
       "\n",
       "    /* Handle when a new output is added */\n",
       "    events.on('output_added.OutputArea', handleAddOutput);\n",
       "\n",
       "    /**\n",
       "     * Register the mime type and append_mime function with output_area\n",
       "     */\n",
       "    OutputArea.prototype.register_mime_type(EXEC_MIME_TYPE, append_mime, {\n",
       "      /* Is output safe? */\n",
       "      safe: true,\n",
       "      /* Index of renderer in `output_area.display_order` */\n",
       "      index: 0\n",
       "    });\n",
       "  }\n",
       "\n",
       "  // register the mime type if in Jupyter Notebook environment and previously unregistered\n",
       "  if (root.Jupyter !== undefined) {\n",
       "    var events = require('base/js/events');\n",
       "    var OutputArea = require('notebook/js/outputarea').OutputArea;\n",
       "\n",
       "    if (OutputArea.prototype.mime_types().indexOf(EXEC_MIME_TYPE) == -1) {\n",
       "      register_renderer(events, OutputArea);\n",
       "    }\n",
       "  }\n",
       "\n",
       "  \n",
       "  if (typeof (root._bokeh_timeout) === \"undefined\" || force === true) {\n",
       "    root._bokeh_timeout = Date.now() + 5000;\n",
       "    root._bokeh_failed_load = false;\n",
       "  }\n",
       "\n",
       "  var NB_LOAD_WARNING = {'data': {'text/html':\n",
       "     \"<div style='background-color: #fdd'>\\n\"+\n",
       "     \"<p>\\n\"+\n",
       "     \"BokehJS does not appear to have successfully loaded. If loading BokehJS from CDN, this \\n\"+\n",
       "     \"may be due to a slow or bad network connection. Possible fixes:\\n\"+\n",
       "     \"</p>\\n\"+\n",
       "     \"<ul>\\n\"+\n",
       "     \"<li>re-rerun `output_notebook()` to attempt to load from CDN again, or</li>\\n\"+\n",
       "     \"<li>use INLINE resources instead, as so:</li>\\n\"+\n",
       "     \"</ul>\\n\"+\n",
       "     \"<code>\\n\"+\n",
       "     \"from bokeh.resources import INLINE\\n\"+\n",
       "     \"output_notebook(resources=INLINE)\\n\"+\n",
       "     \"</code>\\n\"+\n",
       "     \"</div>\"}};\n",
       "\n",
       "  function display_loaded() {\n",
       "    var el = document.getElementById(\"1001\");\n",
       "    if (el != null) {\n",
       "      el.textContent = \"BokehJS is loading...\";\n",
       "    }\n",
       "    if (root.Bokeh !== undefined) {\n",
       "      if (el != null) {\n",
       "        el.textContent = \"BokehJS \" + root.Bokeh.version + \" successfully loaded.\";\n",
       "      }\n",
       "    } else if (Date.now() < root._bokeh_timeout) {\n",
       "      setTimeout(display_loaded, 100)\n",
       "    }\n",
       "  }\n",
       "\n",
       "\n",
       "  function run_callbacks() {\n",
       "    try {\n",
       "      root._bokeh_onload_callbacks.forEach(function(callback) {\n",
       "        if (callback != null)\n",
       "          callback();\n",
       "      });\n",
       "    } finally {\n",
       "      delete root._bokeh_onload_callbacks\n",
       "    }\n",
       "    console.debug(\"Bokeh: all callbacks have finished\");\n",
       "  }\n",
       "\n",
       "  function load_libs(css_urls, js_urls, callback) {\n",
       "    if (css_urls == null) css_urls = [];\n",
       "    if (js_urls == null) js_urls = [];\n",
       "\n",
       "    root._bokeh_onload_callbacks.push(callback);\n",
       "    if (root._bokeh_is_loading > 0) {\n",
       "      console.debug(\"Bokeh: BokehJS is being loaded, scheduling callback at\", now());\n",
       "      return null;\n",
       "    }\n",
       "    if (js_urls == null || js_urls.length === 0) {\n",
       "      run_callbacks();\n",
       "      return null;\n",
       "    }\n",
       "    console.debug(\"Bokeh: BokehJS not loaded, scheduling load and callback at\", now());\n",
       "    root._bokeh_is_loading = css_urls.length + js_urls.length;\n",
       "\n",
       "    function on_load() {\n",
       "      root._bokeh_is_loading--;\n",
       "      if (root._bokeh_is_loading === 0) {\n",
       "        console.debug(\"Bokeh: all BokehJS libraries/stylesheets loaded\");\n",
       "        run_callbacks()\n",
       "      }\n",
       "    }\n",
       "\n",
       "    function on_error() {\n",
       "      console.error(\"failed to load \" + url);\n",
       "    }\n",
       "\n",
       "    for (var i = 0; i < css_urls.length; i++) {\n",
       "      var url = css_urls[i];\n",
       "      const element = document.createElement(\"link\");\n",
       "      element.onload = on_load;\n",
       "      element.onerror = on_error;\n",
       "      element.rel = \"stylesheet\";\n",
       "      element.type = \"text/css\";\n",
       "      element.href = url;\n",
       "      console.debug(\"Bokeh: injecting link tag for BokehJS stylesheet: \", url);\n",
       "      document.body.appendChild(element);\n",
       "    }\n",
       "\n",
       "    for (var i = 0; i < js_urls.length; i++) {\n",
       "      var url = js_urls[i];\n",
       "      var element = document.createElement('script');\n",
       "      element.onload = on_load;\n",
       "      element.onerror = on_error;\n",
       "      element.async = false;\n",
       "      element.src = url;\n",
       "      console.debug(\"Bokeh: injecting script tag for BokehJS library: \", url);\n",
       "      document.head.appendChild(element);\n",
       "    }\n",
       "  };var element = document.getElementById(\"1001\");\n",
       "  if (element == null) {\n",
       "    console.error(\"Bokeh: ERROR: autoload.js configured with elementid '1001' but no matching script tag was found. \")\n",
       "    return false;\n",
       "  }\n",
       "\n",
       "  function inject_raw_css(css) {\n",
       "    const element = document.createElement(\"style\");\n",
       "    element.appendChild(document.createTextNode(css));\n",
       "    document.body.appendChild(element);\n",
       "  }\n",
       "\n",
       "  var js_urls = [\"https://cdn.pydata.org/bokeh/release/bokeh-1.3.4.min.js\", \"https://cdn.pydata.org/bokeh/release/bokeh-widgets-1.3.4.min.js\", \"https://cdn.pydata.org/bokeh/release/bokeh-tables-1.3.4.min.js\", \"https://cdn.pydata.org/bokeh/release/bokeh-gl-1.3.4.min.js\"];\n",
       "  var css_urls = [];\n",
       "\n",
       "  var inline_js = [\n",
       "    function(Bokeh) {\n",
       "      Bokeh.set_log_level(\"info\");\n",
       "    },\n",
       "    \n",
       "    function(Bokeh) {\n",
       "      \n",
       "    },\n",
       "    function(Bokeh) {} // ensure no trailing comma for IE\n",
       "  ];\n",
       "\n",
       "  function run_inline_js() {\n",
       "    \n",
       "    if ((root.Bokeh !== undefined) || (force === true)) {\n",
       "      for (var i = 0; i < inline_js.length; i++) {\n",
       "        inline_js[i].call(root, root.Bokeh);\n",
       "      }if (force === true) {\n",
       "        display_loaded();\n",
       "      }} else if (Date.now() < root._bokeh_timeout) {\n",
       "      setTimeout(run_inline_js, 100);\n",
       "    } else if (!root._bokeh_failed_load) {\n",
       "      console.log(\"Bokeh: BokehJS failed to load within specified timeout.\");\n",
       "      root._bokeh_failed_load = true;\n",
       "    } else if (force !== true) {\n",
       "      var cell = $(document.getElementById(\"1001\")).parents('.cell').data().cell;\n",
       "      cell.output_area.append_execute_result(NB_LOAD_WARNING)\n",
       "    }\n",
       "\n",
       "  }\n",
       "\n",
       "  if (root._bokeh_is_loading === 0) {\n",
       "    console.debug(\"Bokeh: BokehJS loaded, going straight to plotting\");\n",
       "    run_inline_js();\n",
       "  } else {\n",
       "    load_libs(css_urls, js_urls, function() {\n",
       "      console.debug(\"Bokeh: BokehJS plotting callback run at\", now());\n",
       "      run_inline_js();\n",
       "    });\n",
       "  }\n",
       "}(window));"
      ],
      "application/vnd.bokehjs_load.v0+json": "\n(function(root) {\n  function now() {\n    return new Date();\n  }\n\n  var force = true;\n\n  if (typeof root._bokeh_onload_callbacks === \"undefined\" || force === true) {\n    root._bokeh_onload_callbacks = [];\n    root._bokeh_is_loading = undefined;\n  }\n\n  \n\n  \n  if (typeof (root._bokeh_timeout) === \"undefined\" || force === true) {\n    root._bokeh_timeout = Date.now() + 5000;\n    root._bokeh_failed_load = false;\n  }\n\n  var NB_LOAD_WARNING = {'data': {'text/html':\n     \"<div style='background-color: #fdd'>\\n\"+\n     \"<p>\\n\"+\n     \"BokehJS does not appear to have successfully loaded. If loading BokehJS from CDN, this \\n\"+\n     \"may be due to a slow or bad network connection. Possible fixes:\\n\"+\n     \"</p>\\n\"+\n     \"<ul>\\n\"+\n     \"<li>re-rerun `output_notebook()` to attempt to load from CDN again, or</li>\\n\"+\n     \"<li>use INLINE resources instead, as so:</li>\\n\"+\n     \"</ul>\\n\"+\n     \"<code>\\n\"+\n     \"from bokeh.resources import INLINE\\n\"+\n     \"output_notebook(resources=INLINE)\\n\"+\n     \"</code>\\n\"+\n     \"</div>\"}};\n\n  function display_loaded() {\n    var el = document.getElementById(\"1001\");\n    if (el != null) {\n      el.textContent = \"BokehJS is loading...\";\n    }\n    if (root.Bokeh !== undefined) {\n      if (el != null) {\n        el.textContent = \"BokehJS \" + root.Bokeh.version + \" successfully loaded.\";\n      }\n    } else if (Date.now() < root._bokeh_timeout) {\n      setTimeout(display_loaded, 100)\n    }\n  }\n\n\n  function run_callbacks() {\n    try {\n      root._bokeh_onload_callbacks.forEach(function(callback) {\n        if (callback != null)\n          callback();\n      });\n    } finally {\n      delete root._bokeh_onload_callbacks\n    }\n    console.debug(\"Bokeh: all callbacks have finished\");\n  }\n\n  function load_libs(css_urls, js_urls, callback) {\n    if (css_urls == null) css_urls = [];\n    if (js_urls == null) js_urls = [];\n\n    root._bokeh_onload_callbacks.push(callback);\n    if (root._bokeh_is_loading > 0) {\n      console.debug(\"Bokeh: BokehJS is being loaded, scheduling callback at\", now());\n      return null;\n    }\n    if (js_urls == null || js_urls.length === 0) {\n      run_callbacks();\n      return null;\n    }\n    console.debug(\"Bokeh: BokehJS not loaded, scheduling load and callback at\", now());\n    root._bokeh_is_loading = css_urls.length + js_urls.length;\n\n    function on_load() {\n      root._bokeh_is_loading--;\n      if (root._bokeh_is_loading === 0) {\n        console.debug(\"Bokeh: all BokehJS libraries/stylesheets loaded\");\n        run_callbacks()\n      }\n    }\n\n    function on_error() {\n      console.error(\"failed to load \" + url);\n    }\n\n    for (var i = 0; i < css_urls.length; i++) {\n      var url = css_urls[i];\n      const element = document.createElement(\"link\");\n      element.onload = on_load;\n      element.onerror = on_error;\n      element.rel = \"stylesheet\";\n      element.type = \"text/css\";\n      element.href = url;\n      console.debug(\"Bokeh: injecting link tag for BokehJS stylesheet: \", url);\n      document.body.appendChild(element);\n    }\n\n    for (var i = 0; i < js_urls.length; i++) {\n      var url = js_urls[i];\n      var element = document.createElement('script');\n      element.onload = on_load;\n      element.onerror = on_error;\n      element.async = false;\n      element.src = url;\n      console.debug(\"Bokeh: injecting script tag for BokehJS library: \", url);\n      document.head.appendChild(element);\n    }\n  };var element = document.getElementById(\"1001\");\n  if (element == null) {\n    console.error(\"Bokeh: ERROR: autoload.js configured with elementid '1001' but no matching script tag was found. \")\n    return false;\n  }\n\n  function inject_raw_css(css) {\n    const element = document.createElement(\"style\");\n    element.appendChild(document.createTextNode(css));\n    document.body.appendChild(element);\n  }\n\n  var js_urls = [\"https://cdn.pydata.org/bokeh/release/bokeh-1.3.4.min.js\", \"https://cdn.pydata.org/bokeh/release/bokeh-widgets-1.3.4.min.js\", \"https://cdn.pydata.org/bokeh/release/bokeh-tables-1.3.4.min.js\", \"https://cdn.pydata.org/bokeh/release/bokeh-gl-1.3.4.min.js\"];\n  var css_urls = [];\n\n  var inline_js = [\n    function(Bokeh) {\n      Bokeh.set_log_level(\"info\");\n    },\n    \n    function(Bokeh) {\n      \n    },\n    function(Bokeh) {} // ensure no trailing comma for IE\n  ];\n\n  function run_inline_js() {\n    \n    if ((root.Bokeh !== undefined) || (force === true)) {\n      for (var i = 0; i < inline_js.length; i++) {\n        inline_js[i].call(root, root.Bokeh);\n      }if (force === true) {\n        display_loaded();\n      }} else if (Date.now() < root._bokeh_timeout) {\n      setTimeout(run_inline_js, 100);\n    } else if (!root._bokeh_failed_load) {\n      console.log(\"Bokeh: BokehJS failed to load within specified timeout.\");\n      root._bokeh_failed_load = true;\n    } else if (force !== true) {\n      var cell = $(document.getElementById(\"1001\")).parents('.cell').data().cell;\n      cell.output_area.append_execute_result(NB_LOAD_WARNING)\n    }\n\n  }\n\n  if (root._bokeh_is_loading === 0) {\n    console.debug(\"Bokeh: BokehJS loaded, going straight to plotting\");\n    run_inline_js();\n  } else {\n    load_libs(css_urls, js_urls, function() {\n      console.debug(\"Bokeh: BokehJS plotting callback run at\", now());\n      run_inline_js();\n    });\n  }\n}(window));"
     },
     "metadata": {},
     "output_type": "display_data"
    }
   ],
   "source": [
    "import pandas as pd \n",
    "import numpy as np\n",
    "import calendar\n",
    "import matplotlib.pyplot as plt\n",
    "import datetime\n",
    "%matplotlib inline\n",
    "import osmnx as ox\n",
    "from folium.plugins import HeatMap\n",
    "from bokeh.plotting import figure\n",
    "from bokeh.io import output_notebook, show\n",
    "from bokeh.models import ColumnDataSource, FactorRange,Legend\n",
    "from bokeh.palettes import Category20\n",
    "from bokeh.plotting import figure\n",
    "from bokeh.transform import factor_cmap\n",
    "\n",
    "output_notebook()"
   ]
  },
  {
   "cell_type": "code",
   "execution_count": 350,
   "metadata": {},
   "outputs": [
    {
     "name": "stderr",
     "output_type": "stream",
     "text": [
      "/Users/rasmusblirupjensen/opt/anaconda3/lib/python3.7/site-packages/IPython/core/interactiveshell.py:3058: DtypeWarning: Columns (17,18,20,22,23,29,30,31,32,36,38,39) have mixed types.Specify dtype option on import or set low_memory=False.\n",
      "  interactivity=interactivity, compiler=compiler, result=result)\n"
     ]
    }
   ],
   "source": [
    "df = pd.read_csv(\"/Users/rasmusblirupjensen/Downloads/Parking_Violations_Issued_-_Fiscal_Year_2019.csv\")\n",
    "codes = pd.read_excel(\"/Users/rasmusblirupjensen/Downloads/ParkingViolationCodes_Nov_2018.xlsx\")\n",
    "df = df.sample(frac=0.20)"
   ]
  },
  {
   "cell_type": "code",
   "execution_count": 351,
   "metadata": {},
   "outputs": [],
   "source": [
    "df = df.rename(columns={\"Violation Code\": \"Code\"})\n",
    "df['Date']=pd.to_datetime(df[\"Issue Date\"], format='%m/%d/%Y', errors='coerce')\n",
    "# Weekday name & number\n",
    "df[\"Day Name\"] = df[\"Date\"].apply(lambda x: x.day_name())\n",
    "df[\"Day Number\"] =  df[\"Date\"].apply(lambda x: x.dayofweek)\n",
    "#Monthly\n",
    "df[\"Month Number\"] =  df[\"Date\"].apply(lambda x: x.month)\n",
    "df.dropna(subset= [\"Violation Time\"], inplace = True)\n",
    "\n",
    "#Sheet with the violation descriptions\n",
    "codes = codes.rename(columns={\"VIOLATION CODE\": \"Code\"})\n",
    "#Adding the violation discription to the dataframe\n",
    "result =  df.merge(codes, on='Code', how='left')\n"
   ]
  },
  {
   "cell_type": "code",
   "execution_count": 352,
   "metadata": {},
   "outputs": [
    {
     "data": {
      "text/html": [
       "<div>\n",
       "<style scoped>\n",
       "    .dataframe tbody tr th:only-of-type {\n",
       "        vertical-align: middle;\n",
       "    }\n",
       "\n",
       "    .dataframe tbody tr th {\n",
       "        vertical-align: top;\n",
       "    }\n",
       "\n",
       "    .dataframe thead th {\n",
       "        text-align: right;\n",
       "    }\n",
       "</style>\n",
       "<table border=\"1\" class=\"dataframe\">\n",
       "  <thead>\n",
       "    <tr style=\"text-align: right;\">\n",
       "      <th></th>\n",
       "      <th>Summons Number</th>\n",
       "      <th>Plate ID</th>\n",
       "      <th>Registration State</th>\n",
       "      <th>Plate Type</th>\n",
       "      <th>Issue Date</th>\n",
       "      <th>Code</th>\n",
       "      <th>Vehicle Body Type</th>\n",
       "      <th>Vehicle Make</th>\n",
       "      <th>Issuing Agency</th>\n",
       "      <th>Street Code1</th>\n",
       "      <th>...</th>\n",
       "      <th>Feet From Curb</th>\n",
       "      <th>Violation Post Code</th>\n",
       "      <th>Violation Description</th>\n",
       "      <th>No Standing or Stopping Violation</th>\n",
       "      <th>Hydrant Violation</th>\n",
       "      <th>Double Parking Violation</th>\n",
       "      <th>Date</th>\n",
       "      <th>Day Name</th>\n",
       "      <th>Day Number</th>\n",
       "      <th>Month Number</th>\n",
       "    </tr>\n",
       "  </thead>\n",
       "  <tbody>\n",
       "    <tr>\n",
       "      <th>8391664</th>\n",
       "      <td>8644589854</td>\n",
       "      <td>56365MJ</td>\n",
       "      <td>NY</td>\n",
       "      <td>COM</td>\n",
       "      <td>03/14/2019</td>\n",
       "      <td>47</td>\n",
       "      <td>VAN</td>\n",
       "      <td>ISUZU</td>\n",
       "      <td>T</td>\n",
       "      <td>10210</td>\n",
       "      <td>...</td>\n",
       "      <td>0</td>\n",
       "      <td>12</td>\n",
       "      <td>NaN</td>\n",
       "      <td>NaN</td>\n",
       "      <td>NaN</td>\n",
       "      <td>NaN</td>\n",
       "      <td>2019-03-14</td>\n",
       "      <td>Thursday</td>\n",
       "      <td>3</td>\n",
       "      <td>3</td>\n",
       "    </tr>\n",
       "    <tr>\n",
       "      <th>6744182</th>\n",
       "      <td>8689569455</td>\n",
       "      <td>FS0568</td>\n",
       "      <td>WA</td>\n",
       "      <td>PAS</td>\n",
       "      <td>01/17/2019</td>\n",
       "      <td>40</td>\n",
       "      <td>SUBN</td>\n",
       "      <td>ME/BE</td>\n",
       "      <td>T</td>\n",
       "      <td>34010</td>\n",
       "      <td>...</td>\n",
       "      <td>2</td>\n",
       "      <td>33</td>\n",
       "      <td>NaN</td>\n",
       "      <td>NaN</td>\n",
       "      <td>NaN</td>\n",
       "      <td>NaN</td>\n",
       "      <td>2019-01-17</td>\n",
       "      <td>Thursday</td>\n",
       "      <td>3</td>\n",
       "      <td>1</td>\n",
       "    </tr>\n",
       "    <tr>\n",
       "      <th>4336141</th>\n",
       "      <td>8677673817</td>\n",
       "      <td>HLX1698</td>\n",
       "      <td>NY</td>\n",
       "      <td>PAS</td>\n",
       "      <td>11/24/2018</td>\n",
       "      <td>21</td>\n",
       "      <td>4DSD</td>\n",
       "      <td>HONDA</td>\n",
       "      <td>T</td>\n",
       "      <td>19340</td>\n",
       "      <td>...</td>\n",
       "      <td>0</td>\n",
       "      <td>37</td>\n",
       "      <td>NaN</td>\n",
       "      <td>NaN</td>\n",
       "      <td>NaN</td>\n",
       "      <td>NaN</td>\n",
       "      <td>2018-11-24</td>\n",
       "      <td>Saturday</td>\n",
       "      <td>5</td>\n",
       "      <td>11</td>\n",
       "    </tr>\n",
       "    <tr>\n",
       "      <th>5834680</th>\n",
       "      <td>8704359240</td>\n",
       "      <td>18055JZ</td>\n",
       "      <td>NY</td>\n",
       "      <td>COM</td>\n",
       "      <td>12/07/2018</td>\n",
       "      <td>69</td>\n",
       "      <td>VAN</td>\n",
       "      <td>FORD</td>\n",
       "      <td>T</td>\n",
       "      <td>18150</td>\n",
       "      <td>...</td>\n",
       "      <td>0</td>\n",
       "      <td>15</td>\n",
       "      <td>NaN</td>\n",
       "      <td>NaN</td>\n",
       "      <td>NaN</td>\n",
       "      <td>NaN</td>\n",
       "      <td>2018-12-07</td>\n",
       "      <td>Friday</td>\n",
       "      <td>4</td>\n",
       "      <td>12</td>\n",
       "    </tr>\n",
       "    <tr>\n",
       "      <th>9037698</th>\n",
       "      <td>8731908755</td>\n",
       "      <td>JEB2920</td>\n",
       "      <td>NY</td>\n",
       "      <td>PAS</td>\n",
       "      <td>04/02/2019</td>\n",
       "      <td>38</td>\n",
       "      <td>4DSD</td>\n",
       "      <td>HONDA</td>\n",
       "      <td>T</td>\n",
       "      <td>51890</td>\n",
       "      <td>...</td>\n",
       "      <td>0</td>\n",
       "      <td>45</td>\n",
       "      <td>NaN</td>\n",
       "      <td>NaN</td>\n",
       "      <td>NaN</td>\n",
       "      <td>NaN</td>\n",
       "      <td>2019-04-02</td>\n",
       "      <td>Tuesday</td>\n",
       "      <td>1</td>\n",
       "      <td>4</td>\n",
       "    </tr>\n",
       "  </tbody>\n",
       "</table>\n",
       "<p>5 rows × 47 columns</p>\n",
       "</div>"
      ],
      "text/plain": [
       "         Summons Number Plate ID Registration State Plate Type  Issue Date  \\\n",
       "8391664      8644589854  56365MJ                 NY        COM  03/14/2019   \n",
       "6744182      8689569455   FS0568                 WA        PAS  01/17/2019   \n",
       "4336141      8677673817  HLX1698                 NY        PAS  11/24/2018   \n",
       "5834680      8704359240  18055JZ                 NY        COM  12/07/2018   \n",
       "9037698      8731908755  JEB2920                 NY        PAS  04/02/2019   \n",
       "\n",
       "         Code Vehicle Body Type Vehicle Make Issuing Agency  Street Code1  \\\n",
       "8391664    47               VAN        ISUZU              T         10210   \n",
       "6744182    40              SUBN        ME/BE              T         34010   \n",
       "4336141    21              4DSD        HONDA              T         19340   \n",
       "5834680    69               VAN         FORD              T         18150   \n",
       "9037698    38              4DSD        HONDA              T         51890   \n",
       "\n",
       "         ...  Feet From Curb  Violation Post Code  Violation Description  \\\n",
       "8391664  ...               0                   12                    NaN   \n",
       "6744182  ...               2                   33                    NaN   \n",
       "4336141  ...               0                   37                    NaN   \n",
       "5834680  ...               0                   15                    NaN   \n",
       "9037698  ...               0                   45                    NaN   \n",
       "\n",
       "         No Standing or Stopping Violation  Hydrant Violation  \\\n",
       "8391664                                NaN                NaN   \n",
       "6744182                                NaN                NaN   \n",
       "4336141                                NaN                NaN   \n",
       "5834680                                NaN                NaN   \n",
       "9037698                                NaN                NaN   \n",
       "\n",
       "         Double Parking Violation       Date  Day Name Day Number Month Number  \n",
       "8391664                       NaN 2019-03-14  Thursday          3            3  \n",
       "6744182                       NaN 2019-01-17  Thursday          3            1  \n",
       "4336141                       NaN 2018-11-24  Saturday          5           11  \n",
       "5834680                       NaN 2018-12-07    Friday          4           12  \n",
       "9037698                       NaN 2019-04-02   Tuesday          1            4  \n",
       "\n",
       "[5 rows x 47 columns]"
      ]
     },
     "execution_count": 352,
     "metadata": {},
     "output_type": "execute_result"
    }
   ],
   "source": [
    "df.head()"
   ]
  },
  {
   "cell_type": "code",
   "execution_count": 443,
   "metadata": {},
   "outputs": [
    {
     "data": {
      "text/plain": [
       "Index(['Summons Number', 'Plate ID', 'Registration State', 'Plate Type',\n",
       "       'Issue Date', 'Code', 'Vehicle Body Type', 'Vehicle Make',\n",
       "       'Issuing Agency', 'Street Code1', 'Street Code2', 'Street Code3',\n",
       "       'Vehicle Expiration Date', 'Violation Location', 'Violation Precinct',\n",
       "       'Issuer Precinct', 'Issuer Code', 'Issuer Command', 'Issuer Squad',\n",
       "       'Violation Time', 'Time First Observed', 'Violation County',\n",
       "       'Violation In Front Of Or Opposite', 'House Number', 'Street Name',\n",
       "       'Intersecting Street', 'Date First Observed', 'Law Section',\n",
       "       'Sub Division', 'Violation Legal Code', 'Days Parking In Effect',\n",
       "       'From Hours In Effect', 'To Hours In Effect', 'Vehicle Color',\n",
       "       'Unregistered Vehicle?', 'Vehicle Year', 'Meter Number',\n",
       "       'Feet From Curb', 'Violation Post Code', 'Violation Description',\n",
       "       'No Standing or Stopping Violation', 'Hydrant Violation',\n",
       "       'Double Parking Violation', 'Date', 'Day Name', 'Day Number',\n",
       "       'Month Number', 'VIOLATION DESCRIPTION',\n",
       "       'Manhattan  96th St. & below\\n(Fine Amount $)',\n",
       "       'All Other Areas\\n(Fine Amount $)', 'Time', 'Hour'],\n",
       "      dtype='object')"
      ]
     },
     "execution_count": 443,
     "metadata": {},
     "output_type": "execute_result"
    }
   ],
   "source": [
    "df.columns"
   ]
  },
  {
   "cell_type": "markdown",
   "metadata": {},
   "source": [
    "### Information regarding the Dataset"
   ]
  },
  {
   "cell_type": "code",
   "execution_count": 455,
   "metadata": {},
   "outputs": [
    {
     "name": "stdout",
     "output_type": "stream",
     "text": [
      "Number of issuing squads: 885\n",
      "Number of issuing squads: 50\n",
      "Number of issuing guards: 14181\n",
      "--------------------------------------------------\n",
      "Number of violations districts: 139\n"
     ]
    }
   ],
   "source": [
    "print(\"Number of issuing squads:\", len(df[\"Issuer Command\"].unique()))\n",
    "print(\"Number of issuing squads:\", len(df[\"Issuer Squad\"].unique()))\n",
    "print(\"Number of issuing guards:\", len(df[\"Issuer Code\"].unique()))\n",
    "print(50*\"-\")\n",
    "print(\"Number of violation districts:\", len(df[\"Violation Precinct\"].unique()))\n"
   ]
  },
  {
   "cell_type": "markdown",
   "metadata": {},
   "source": [
    "### Top 20 Issuing Guards"
   ]
  },
  {
   "cell_type": "code",
   "execution_count": 483,
   "metadata": {},
   "outputs": [
    {
     "name": "stdout",
     "output_type": "stream",
     "text": [
      "Top 15 most used stations\n",
      "-------------------------------------------------------------\n"
     ]
    },
    {
     "data": {
      "text/plain": [
       "T103    200926\n",
       "T302    178676\n",
       "T401    162212\n",
       "T201    157808\n",
       "T402    143390\n",
       "T301    124484\n",
       "T101     54641\n",
       "T105     54100\n",
       "T102     47504\n",
       "T106     43284\n",
       "MTTF     21629\n",
       "T303     19549\n",
       "0401     15773\n",
       "T802     14967\n",
       "T801     12599\n",
       "T800     10399\n",
       "T108      5875\n",
       "T803      4395\n",
       "T501      3662\n",
       "KS07      3649\n",
       "Name: Issuer Command, dtype: int64"
      ]
     },
     "execution_count": 483,
     "metadata": {},
     "output_type": "execute_result"
    }
   ],
   "source": [
    "print(\"Top 15 most used stations\")\n",
    "print(61*\"-\")\n",
    "top_issuer = df[\"Issuer Command\"].value_counts()[:20]\n",
    "top = top_issuer.index.to_list()\n",
    "top_issuer"
   ]
  },
  {
   "cell_type": "code",
   "execution_count": 484,
   "metadata": {},
   "outputs": [
    {
     "data": {
      "image/png": "[encoded data removed]",
      "text/plain": [
       "<Figure size 432x288 with 1 Axes>"
      ]
     },
     "metadata": {
      "needs_background": "light"
     },
     "output_type": "display_data"
    },
    {
     "data": {
      "image/png": "[encoded data removed]",
      "text/plain": [
       "<Figure size 432x288 with 1 Axes>"
      ]
     },
     "metadata": {
      "needs_background": "light"
     },
     "output_type": "display_data"
    },
    {
     "data": {
      "image/png": "[encoded data removed]",
      "text/plain": [
       "<Figure size 432x288 with 1 Axes>"
      ]
     },
     "metadata": {
      "needs_background": "light"
     },
     "output_type": "display_data"
    },
    {
     "data": {
      "image/png": "[encoded data removed]",
      "text/plain": [
       "<Figure size 432x288 with 1 Axes>"
      ]
     },
     "metadata": {
      "needs_background": "light"
     },
     "output_type": "display_data"
    },
    {
     "data": {
      "image/png": "[encoded data removed]",
      "text/plain": [
       "<Figure size 432x288 with 1 Axes>"
      ]
     },
     "metadata": {
      "needs_background": "light"
     },
     "output_type": "display_data"
    },
    {
     "data": {
      "image/png": "[encoded data removed]",
      "text/plain": [
       "<Figure size 432x288 with 1 Axes>"
      ]
     },
     "metadata": {
      "needs_background": "light"
     },
     "output_type": "display_data"
    },
    {
     "data": {
      "image/png": "[encoded data removed]",
      "text/plain": [
       "<Figure size 432x288 with 1 Axes>"
      ]
     },
     "metadata": {
      "needs_background": "light"
     },
     "output_type": "display_data"
    },
    {
     "data": {
      "image/png": "[encoded data removed]",
      "text/plain": [
       "<Figure size 432x288 with 1 Axes>"
      ]
     },
     "metadata": {
      "needs_background": "light"
     },
     "output_type": "display_data"
    },
    {
     "data": {
      "image/png": "[encoded data removed]",
      "text/plain": [
       "<Figure size 432x288 with 1 Axes>"
      ]
     },
     "metadata": {
      "needs_background": "light"
     },
     "output_type": "display_data"
    },
    {
     "data": {
      "image/png": "[encoded data removed]",
      "text/plain": [
       "<Figure size 432x288 with 1 Axes>"
      ]
     },
     "metadata": {
      "needs_background": "light"
     },
     "output_type": "display_data"
    },
    {
     "data": {
      "image/png": "[encoded data removed]",
      "text/plain": [
       "<Figure size 432x288 with 1 Axes>"
      ]
     },
     "metadata": {
      "needs_background": "light"
     },
     "output_type": "display_data"
    },
    {
     "data": {
      "image/png": "[encoded data removed]",
      "text/plain": [
       "<Figure size 432x288 with 1 Axes>"
      ]
     },
     "metadata": {
      "needs_background": "light"
     },
     "output_type": "display_data"
    },
    {
     "data": {
      "image/png": "[encoded data removed]",
      "text/plain": [
       "<Figure size 432x288 with 1 Axes>"
      ]
     },
     "metadata": {
      "needs_background": "light"
     },
     "output_type": "display_data"
    },
    {
     "data": {
      "image/png": "[encoded data removed]",
      "text/plain": [
       "<Figure size 432x288 with 1 Axes>"
      ]
     },
     "metadata": {
      "needs_background": "light"
     },
     "output_type": "display_data"
    },
    {
     "data": {
      "image/png": "[encoded data removed]",
      "text/plain": [
       "<Figure size 432x288 with 1 Axes>"
      ]
     },
     "metadata": {
      "needs_background": "light"
     },
     "output_type": "display_data"
    },
    {
     "data": {
      "image/png": "[encoded data removed]",
      "text/plain": [
       "<Figure size 432x288 with 1 Axes>"
      ]
     },
     "metadata": {
      "needs_background": "light"
     },
     "output_type": "display_data"
    },
    {
     "data": {
      "image/png": "[encoded data removed]",
      "text/plain": [
       "<Figure size 432x288 with 1 Axes>"
      ]
     },
     "metadata": {
      "needs_background": "light"
     },
     "output_type": "display_data"
    },
    {
     "data": {
      "image/png": "[encoded data removed]",
      "text/plain": [
       "<Figure size 432x288 with 1 Axes>"
      ]
     },
     "metadata": {
      "needs_background": "light"
     },
     "output_type": "display_data"
    },
    {
     "data": {
      "image/png": "[encoded data removed]",
      "text/plain": [
       "<Figure size 432x288 with 1 Axes>"
      ]
     },
     "metadata": {
      "needs_background": "light"
     },
     "output_type": "display_data"
    },
    {
     "data": {
      "image/png": "[encoded data removed]",
      "text/plain": [
       "<Figure size 432x288 with 1 Axes>"
      ]
     },
     "metadata": {
      "needs_background": "light"
     },
     "output_type": "display_data"
    }
   ],
   "source": [
    "for i in top:\n",
    "    fine = df.loc[df[\"Issuer Command\"] == i]\n",
    "    a = fine[\"Date\"].dt.day.value_counts()\n",
    "    b = a.sort_index()\n",
    "    c = b.to_list()\n",
    "    d = b.index.to_list()\n",
    "    plt.bar(d, c)\n",
    "    plt.title(i)\n",
    "    plt.show()"
   ]
  },
  {
   "cell_type": "code",
   "execution_count": null,
   "metadata": {},
   "outputs": [],
   "source": []
  },
  {
   "cell_type": "code",
   "execution_count": 353,
   "metadata": {},
   "outputs": [],
   "source": [
    "## converting the Violation Time to datetime \n",
    "def time(xx):\n",
    "    time = []\n",
    "    for x in xx:\n",
    "        x = str(x)\n",
    "        if x[-1:] == \"P\":\n",
    "            if x[:2] >= \"12\":\n",
    "                new_x = \"00\"\n",
    "                second = x[2:4]\n",
    "                new_time = new_x+\":\"+str(second)+\":\"+\"00\"    \n",
    "                time.append(new_time)\n",
    "            else:\n",
    "                first = int(x[:2])+12\n",
    "                second = x[2:4]\n",
    "                new_time = str(first)+\":\"+str(second)+\":\"+\"00\"   \n",
    "                time.append(new_time)\n",
    "        else:\n",
    "            first = x[:2]\n",
    "            second = x[2:4]\n",
    "            new_time = str(first)+\":\"+str(second)+\":\"+\"00\"    \n",
    "            time.append(new_time)\n",
    "    return time\n"
   ]
  },
  {
   "cell_type": "code",
   "execution_count": 354,
   "metadata": {},
   "outputs": [],
   "source": [
    "result[\"Time\"] = time(result['Violation Time'])\n",
    "result[\"Time\"] = pd.to_datetime(result[\"Time\"], format = '%H:%M:%S',  errors='coerce' )\n",
    "result[\"Hour\"] = result[\"Time\"].dt.hour\n",
    "result.dropna(subset= [\"Hour\"], inplace = True)"
   ]
  },
  {
   "cell_type": "code",
   "execution_count": 368,
   "metadata": {},
   "outputs": [
    {
     "data": {
      "text/plain": [
       "NO PARKING-STREET CLEANING        360529\n",
       "FAIL TO DSPLY MUNI METER RECPT    232807\n",
       "PHTO SCHOOL ZN SPEED VIOLATION    219642\n",
       "NO STANDING-DAY/TIME LIMITS       202662\n",
       "NO PARKING-DAY/TIME LIMITS        158711\n",
       "DOUBLE PARKING                    118173\n",
       "FIRE HYDRANT                      110912\n",
       "INSP. STICKER-EXPIRED/MISSING     110278\n",
       "EXPIRED MUNI METER                 97231\n",
       "FAILURE TO STOP AT RED LIGHT       94397\n",
       "Name: VIOLATION DESCRIPTION, dtype: int64"
      ]
     },
     "execution_count": 368,
     "metadata": {},
     "output_type": "execute_result"
    }
   ],
   "source": [
    "#Top 5 most violtated parkings crimes\n",
    "topfines = result[\"VIOLATION DESCRIPTION\"].value_counts()[:10]\n",
    "topfines"
   ]
  },
  {
   "cell_type": "code",
   "execution_count": 369,
   "metadata": {},
   "outputs": [],
   "source": [
    "fines = topfines.index.to_list()\n",
    "df = result.loc[result['VIOLATION DESCRIPTION'].isin(fines)]"
   ]
  },
  {
   "cell_type": "code",
   "execution_count": 370,
   "metadata": {},
   "outputs": [
    {
     "name": "stdout",
     "output_type": "stream",
     "text": [
      "74.35650916276538 %\n"
     ]
    }
   ],
   "source": [
    "#Top 5 crimes % size of total set \n",
    "print(len(df)/len(result)*100 ,\"%\")"
   ]
  },
  {
   "cell_type": "code",
   "execution_count": 371,
   "metadata": {},
   "outputs": [
    {
     "name": "stdout",
     "output_type": "stream",
     "text": [
      "Number of rows: 1705342  \n",
      "Number of Variables: 52\n"
     ]
    }
   ],
   "source": [
    "#Length and number of variables in the dataset \n",
    "print(\"Number of rows: {}  \\nNumber of Variables: {}\" .format(df.shape[0], str(df.shape[1])))"
   ]
  },
  {
   "cell_type": "code",
   "execution_count": 372,
   "metadata": {},
   "outputs": [
    {
     "data": {
      "text/html": [
       "<div>\n",
       "<style scoped>\n",
       "    .dataframe tbody tr th:only-of-type {\n",
       "        vertical-align: middle;\n",
       "    }\n",
       "\n",
       "    .dataframe tbody tr th {\n",
       "        vertical-align: top;\n",
       "    }\n",
       "\n",
       "    .dataframe thead th {\n",
       "        text-align: right;\n",
       "    }\n",
       "</style>\n",
       "<table border=\"1\" class=\"dataframe\">\n",
       "  <thead>\n",
       "    <tr style=\"text-align: right;\">\n",
       "      <th></th>\n",
       "      <th>Summons Number</th>\n",
       "      <th>Plate ID</th>\n",
       "      <th>Registration State</th>\n",
       "      <th>Plate Type</th>\n",
       "      <th>Issue Date</th>\n",
       "      <th>Code</th>\n",
       "      <th>Vehicle Body Type</th>\n",
       "      <th>Vehicle Make</th>\n",
       "      <th>Issuing Agency</th>\n",
       "      <th>Street Code1</th>\n",
       "      <th>...</th>\n",
       "      <th>Double Parking Violation</th>\n",
       "      <th>Date</th>\n",
       "      <th>Day Name</th>\n",
       "      <th>Day Number</th>\n",
       "      <th>Month Number</th>\n",
       "      <th>VIOLATION DESCRIPTION</th>\n",
       "      <th>Manhattan  96th St. &amp; below\\n(Fine Amount $)</th>\n",
       "      <th>All Other Areas\\n(Fine Amount $)</th>\n",
       "      <th>Time</th>\n",
       "      <th>Hour</th>\n",
       "    </tr>\n",
       "  </thead>\n",
       "  <tbody>\n",
       "    <tr>\n",
       "      <th>1</th>\n",
       "      <td>8689569455</td>\n",
       "      <td>FS0568</td>\n",
       "      <td>WA</td>\n",
       "      <td>PAS</td>\n",
       "      <td>01/17/2019</td>\n",
       "      <td>40</td>\n",
       "      <td>SUBN</td>\n",
       "      <td>ME/BE</td>\n",
       "      <td>T</td>\n",
       "      <td>34010</td>\n",
       "      <td>...</td>\n",
       "      <td>NaN</td>\n",
       "      <td>2019-01-17</td>\n",
       "      <td>Thursday</td>\n",
       "      <td>3</td>\n",
       "      <td>1</td>\n",
       "      <td>FIRE HYDRANT</td>\n",
       "      <td>115.0</td>\n",
       "      <td>115.0</td>\n",
       "      <td>1900-01-01 13:44:00</td>\n",
       "      <td>13.0</td>\n",
       "    </tr>\n",
       "    <tr>\n",
       "      <th>2</th>\n",
       "      <td>8677673817</td>\n",
       "      <td>HLX1698</td>\n",
       "      <td>NY</td>\n",
       "      <td>PAS</td>\n",
       "      <td>11/24/2018</td>\n",
       "      <td>21</td>\n",
       "      <td>4DSD</td>\n",
       "      <td>HONDA</td>\n",
       "      <td>T</td>\n",
       "      <td>19340</td>\n",
       "      <td>...</td>\n",
       "      <td>NaN</td>\n",
       "      <td>2018-11-24</td>\n",
       "      <td>Saturday</td>\n",
       "      <td>5</td>\n",
       "      <td>11</td>\n",
       "      <td>NO PARKING-STREET CLEANING</td>\n",
       "      <td>65.0</td>\n",
       "      <td>45.0</td>\n",
       "      <td>1900-01-01 08:36:00</td>\n",
       "      <td>8.0</td>\n",
       "    </tr>\n",
       "    <tr>\n",
       "      <th>4</th>\n",
       "      <td>8731908755</td>\n",
       "      <td>JEB2920</td>\n",
       "      <td>NY</td>\n",
       "      <td>PAS</td>\n",
       "      <td>04/02/2019</td>\n",
       "      <td>38</td>\n",
       "      <td>4DSD</td>\n",
       "      <td>HONDA</td>\n",
       "      <td>T</td>\n",
       "      <td>51890</td>\n",
       "      <td>...</td>\n",
       "      <td>NaN</td>\n",
       "      <td>2019-04-02</td>\n",
       "      <td>Tuesday</td>\n",
       "      <td>1</td>\n",
       "      <td>4</td>\n",
       "      <td>FAIL TO DSPLY MUNI METER RECPT</td>\n",
       "      <td>65.0</td>\n",
       "      <td>35.0</td>\n",
       "      <td>1900-01-01 11:18:00</td>\n",
       "      <td>11.0</td>\n",
       "    </tr>\n",
       "    <tr>\n",
       "      <th>8</th>\n",
       "      <td>8743402835</td>\n",
       "      <td>1F26A</td>\n",
       "      <td>NY</td>\n",
       "      <td>OMT</td>\n",
       "      <td>05/25/2019</td>\n",
       "      <td>38</td>\n",
       "      <td>SUBN</td>\n",
       "      <td>TOYOT</td>\n",
       "      <td>T</td>\n",
       "      <td>28830</td>\n",
       "      <td>...</td>\n",
       "      <td>NaN</td>\n",
       "      <td>2019-05-25</td>\n",
       "      <td>Saturday</td>\n",
       "      <td>5</td>\n",
       "      <td>5</td>\n",
       "      <td>FAIL TO DSPLY MUNI METER RECPT</td>\n",
       "      <td>65.0</td>\n",
       "      <td>35.0</td>\n",
       "      <td>1900-01-01 13:32:00</td>\n",
       "      <td>13.0</td>\n",
       "    </tr>\n",
       "    <tr>\n",
       "      <th>9</th>\n",
       "      <td>8622727634</td>\n",
       "      <td>NUF229</td>\n",
       "      <td>WV</td>\n",
       "      <td>PAS</td>\n",
       "      <td>11/04/2018</td>\n",
       "      <td>40</td>\n",
       "      <td>SUBN</td>\n",
       "      <td>MAZDA</td>\n",
       "      <td>T</td>\n",
       "      <td>36190</td>\n",
       "      <td>...</td>\n",
       "      <td>NaN</td>\n",
       "      <td>2018-11-04</td>\n",
       "      <td>Sunday</td>\n",
       "      <td>6</td>\n",
       "      <td>11</td>\n",
       "      <td>FIRE HYDRANT</td>\n",
       "      <td>115.0</td>\n",
       "      <td>115.0</td>\n",
       "      <td>1900-01-01 07:55:00</td>\n",
       "      <td>7.0</td>\n",
       "    </tr>\n",
       "  </tbody>\n",
       "</table>\n",
       "<p>5 rows × 52 columns</p>\n",
       "</div>"
      ],
      "text/plain": [
       "   Summons Number Plate ID Registration State Plate Type  Issue Date  Code  \\\n",
       "1      8689569455   FS0568                 WA        PAS  01/17/2019    40   \n",
       "2      8677673817  HLX1698                 NY        PAS  11/24/2018    21   \n",
       "4      8731908755  JEB2920                 NY        PAS  04/02/2019    38   \n",
       "8      8743402835    1F26A                 NY        OMT  05/25/2019    38   \n",
       "9      8622727634   NUF229                 WV        PAS  11/04/2018    40   \n",
       "\n",
       "  Vehicle Body Type Vehicle Make Issuing Agency  Street Code1  ...  \\\n",
       "1              SUBN        ME/BE              T         34010  ...   \n",
       "2              4DSD        HONDA              T         19340  ...   \n",
       "4              4DSD        HONDA              T         51890  ...   \n",
       "8              SUBN        TOYOT              T         28830  ...   \n",
       "9              SUBN        MAZDA              T         36190  ...   \n",
       "\n",
       "   Double Parking Violation       Date  Day Name  Day Number  Month Number  \\\n",
       "1                       NaN 2019-01-17  Thursday           3             1   \n",
       "2                       NaN 2018-11-24  Saturday           5            11   \n",
       "4                       NaN 2019-04-02   Tuesday           1             4   \n",
       "8                       NaN 2019-05-25  Saturday           5             5   \n",
       "9                       NaN 2018-11-04    Sunday           6            11   \n",
       "\n",
       "            VIOLATION DESCRIPTION  \\\n",
       "1                    FIRE HYDRANT   \n",
       "2      NO PARKING-STREET CLEANING   \n",
       "4  FAIL TO DSPLY MUNI METER RECPT   \n",
       "8  FAIL TO DSPLY MUNI METER RECPT   \n",
       "9                    FIRE HYDRANT   \n",
       "\n",
       "   Manhattan  96th St. & below\\n(Fine Amount $)  \\\n",
       "1                                         115.0   \n",
       "2                                          65.0   \n",
       "4                                          65.0   \n",
       "8                                          65.0   \n",
       "9                                         115.0   \n",
       "\n",
       "  All Other Areas\\n(Fine Amount $)                Time  Hour  \n",
       "1                            115.0 1900-01-01 13:44:00  13.0  \n",
       "2                             45.0 1900-01-01 08:36:00   8.0  \n",
       "4                             35.0 1900-01-01 11:18:00  11.0  \n",
       "8                             35.0 1900-01-01 13:32:00  13.0  \n",
       "9                            115.0 1900-01-01 07:55:00   7.0  \n",
       "\n",
       "[5 rows x 52 columns]"
      ]
     },
     "execution_count": 372,
     "metadata": {},
     "output_type": "execute_result"
    }
   ],
   "source": [
    "df.head()"
   ]
  },
  {
   "cell_type": "code",
   "execution_count": 439,
   "metadata": {},
   "outputs": [],
   "source": [
    "def bokeh(df,x):\n",
    "    bokeh = df[df[\"VIOLATION DESCRIPTION\"].isin(fines)] #Reducing the dataframe only to obtain the forcuscrimes\n",
    "    station = bokeh.groupby(df[x])[\"VIOLATION DESCRIPTION\"].value_counts().unstack()\n",
    "    station.reset_index(level=0, inplace=True) # creating a new index, so hour becomes a column. \n",
    "    \n",
    "    monthDict={1:'Jan', 2:'Feb', 3:'Mar', 4:'Apr', 5:'May', 6:'Jun', 7:'Jul', 8:'Aug', 9:'Sep', 10:'Oct', 11:'Nov', 12:'Dec'}\n",
    "    \n",
    "    source = ColumnDataSource(station)\n",
    "    \n",
    "    hours = [] # empty list to store the string converted hours\n",
    "    for i in range(len(df[x].unique())):\n",
    "        hours.append(str(i))\n",
    "    \n",
    "    p = figure(x_range = FactorRange(factors=hours),plot_height=500, plot_width= 1200, toolbar_location=None, title=\"Distibution of # of fines for top 10 violations pr. {}\".format(x))\n",
    "    bar ={}\n",
    "    items = [] \n",
    "    for indx,i in enumerate(fines):\n",
    "        bar[i] = p.vbar(x=x, width=0.5,  top=i, source = source, muted_alpha =0.09, alpha=3, muted_color=Category20[15][indx] ,color=Category20[15][indx]) \n",
    "        items.append((i, [bar[i]])) #the dictionary is appended to the items list, to the respective category.  \n",
    "        \n",
    "    legend = Legend(items=items, location=(0,50)) #Legend and location is configured\n",
    "    p.add_layout(legend, \"left\") #Adding the legend outisde the plot. \n",
    "    p.xaxis.axis_label = x #Setting x-axis title\n",
    "    p.yaxis.axis_label = \"# of fines\" #Setting y-axis title\n",
    "    p.x_range.range_padding = 0.04 # \n",
    "    p.legend.click_policy=\"mute\" #mute is chossen, becuase this enables one to see all of the different categories partily if not chosen, instead of hiding them. \n",
    "    show(p) "
   ]
  },
  {
   "cell_type": "code",
   "execution_count": 440,
   "metadata": {},
   "outputs": [
    {
     "data": {
      "text/html": [
       "\n",
       "\n",
       "\n",
       "\n",
       "\n",
       "\n",
       "  <div class=\"bk-root\" id=\"dc0fbbab-b352-4763-9b01-9c9e12a745c2\" data-root-id=\"38030\"></div>\n"
      ]
     },
     "metadata": {},
     "output_type": "display_data"
    },
    {
     "data": {
      "application/javascript": [
       "(function(root) {\n",
       "  function embed_document(root) {\n",
       "    \n",
       "  var docs_json = {\"d6561828-646b-4279-bc9b-49a173c5b2da\":{\"roots\":{\"references\":[{\"attributes\":{\"below\":[{\"id\":\"38040\",\"type\":\"CategoricalAxis\"}],\"center\":[{\"id\":\"38043\",\"type\":\"Grid\"},{\"id\":\"38048\",\"type\":\"Grid\"}],\"left\":[{\"id\":\"38044\",\"type\":\"LinearAxis\"},{\"id\":\"38122\",\"type\":\"Legend\"}],\"plot_height\":500,\"plot_width\":1200,\"renderers\":[{\"id\":\"38066\",\"type\":\"GlyphRenderer\"},{\"id\":\"38072\",\"type\":\"GlyphRenderer\"},{\"id\":\"38078\",\"type\":\"GlyphRenderer\"},{\"id\":\"38084\",\"type\":\"GlyphRenderer\"},{\"id\":\"38090\",\"type\":\"GlyphRenderer\"},{\"id\":\"38096\",\"type\":\"GlyphRenderer\"},{\"id\":\"38102\",\"type\":\"GlyphRenderer\"},{\"id\":\"38108\",\"type\":\"GlyphRenderer\"},{\"id\":\"38114\",\"type\":\"GlyphRenderer\"},{\"id\":\"38120\",\"type\":\"GlyphRenderer\"}],\"title\":{\"id\":\"38031\",\"type\":\"Title\"},\"toolbar\":{\"id\":\"38055\",\"type\":\"Toolbar\"},\"toolbar_location\":null,\"x_range\":{\"id\":\"38029\",\"type\":\"FactorRange\"},\"x_scale\":{\"id\":\"38036\",\"type\":\"CategoricalScale\"},\"y_range\":{\"id\":\"38034\",\"type\":\"DataRange1d\"},\"y_scale\":{\"id\":\"38038\",\"type\":\"LinearScale\"}},\"id\":\"38030\",\"subtype\":\"Figure\",\"type\":\"Plot\"},{\"attributes\":{\"fill_alpha\":{\"value\":0.09},\"fill_color\":{\"value\":\"#c5b0d5\"},\"line_alpha\":{\"value\":0.09},\"line_color\":{\"value\":\"#c5b0d5\"},\"top\":{\"field\":\"FAILURE TO STOP AT RED LIGHT\"},\"width\":{\"value\":0.5},\"x\":{\"field\":\"Hour\"}},\"id\":\"38119\",\"type\":\"VBar\"},{\"attributes\":{\"text\":\"Distibution of # of fines for top 10 violations pr. Hour\"},\"id\":\"38031\",\"type\":\"Title\"},{\"attributes\":{\"axis_label\":\"Hour\",\"formatter\":{\"id\":\"38749\",\"type\":\"CategoricalTickFormatter\"},\"ticker\":{\"id\":\"38041\",\"type\":\"CategoricalTicker\"}},\"id\":\"38040\",\"type\":\"CategoricalAxis\"},{\"attributes\":{},\"id\":\"38041\",\"type\":\"CategoricalTicker\"},{\"attributes\":{\"callback\":null,\"factors\":[\"0\",\"1\",\"2\",\"3\",\"4\",\"5\",\"6\",\"7\",\"8\",\"9\",\"10\",\"11\",\"12\",\"13\",\"14\",\"15\",\"16\",\"17\",\"18\",\"19\",\"20\",\"21\",\"22\",\"23\"],\"range_padding\":0.04},\"id\":\"38029\",\"type\":\"FactorRange\"},{\"attributes\":{\"ticker\":{\"id\":\"38041\",\"type\":\"CategoricalTicker\"}},\"id\":\"38043\",\"type\":\"Grid\"},{\"attributes\":{\"fill_alpha\":{\"value\":0.09},\"fill_color\":{\"value\":\"#9467bd\"},\"line_alpha\":{\"value\":0.09},\"line_color\":{\"value\":\"#9467bd\"},\"top\":{\"field\":\"EXPIRED MUNI METER\"},\"width\":{\"value\":0.5},\"x\":{\"field\":\"Hour\"}},\"id\":\"38113\",\"type\":\"VBar\"},{\"attributes\":{\"fill_alpha\":{\"value\":3},\"fill_color\":{\"value\":\"#ffbb78\"},\"line_alpha\":{\"value\":3},\"line_color\":{\"value\":\"#ffbb78\"},\"top\":{\"field\":\"NO STANDING-DAY/TIME LIMITS\"},\"width\":{\"value\":0.5},\"x\":{\"field\":\"Hour\"}},\"id\":\"38081\",\"type\":\"VBar\"},{\"attributes\":{\"fill_alpha\":{\"value\":3},\"fill_color\":{\"value\":\"#1f77b4\"},\"line_alpha\":{\"value\":3},\"line_color\":{\"value\":\"#1f77b4\"},\"top\":{\"field\":\"NO PARKING-STREET CLEANING\"},\"width\":{\"value\":0.5},\"x\":{\"field\":\"Hour\"}},\"id\":\"38063\",\"type\":\"VBar\"},{\"attributes\":{\"click_policy\":\"mute\",\"items\":[{\"id\":\"38123\",\"type\":\"LegendItem\"},{\"id\":\"38124\",\"type\":\"LegendItem\"},{\"id\":\"38125\",\"type\":\"LegendItem\"},{\"id\":\"38126\",\"type\":\"LegendItem\"},{\"id\":\"38127\",\"type\":\"LegendItem\"},{\"id\":\"38128\",\"type\":\"LegendItem\"},{\"id\":\"38129\",\"type\":\"LegendItem\"},{\"id\":\"38130\",\"type\":\"LegendItem\"},{\"id\":\"38131\",\"type\":\"LegendItem\"},{\"id\":\"38132\",\"type\":\"LegendItem\"}],\"location\":[0,50]},\"id\":\"38122\",\"type\":\"Legend\"},{\"attributes\":{\"axis_label\":\"# of fines\",\"formatter\":{\"id\":\"38751\",\"type\":\"BasicTickFormatter\"},\"ticker\":{\"id\":\"38045\",\"type\":\"BasicTicker\"}},\"id\":\"38044\",\"type\":\"LinearAxis\"},{\"attributes\":{},\"id\":\"38036\",\"type\":\"CategoricalScale\"},{\"attributes\":{\"fill_alpha\":{\"value\":0.1},\"fill_color\":{\"value\":\"#1f77b4\"},\"line_alpha\":{\"value\":0.1},\"line_color\":{\"value\":\"#1f77b4\"},\"top\":{\"field\":\"EXPIRED MUNI METER\"},\"width\":{\"value\":0.5},\"x\":{\"field\":\"Hour\"}},\"id\":\"38112\",\"type\":\"VBar\"},{\"attributes\":{},\"id\":\"38045\",\"type\":\"BasicTicker\"},{\"attributes\":{\"dimension\":1,\"ticker\":{\"id\":\"38045\",\"type\":\"BasicTicker\"}},\"id\":\"38048\",\"type\":\"Grid\"},{\"attributes\":{\"source\":{\"id\":\"38028\",\"type\":\"ColumnDataSource\"}},\"id\":\"38079\",\"type\":\"CDSView\"},{\"attributes\":{\"source\":{\"id\":\"38028\",\"type\":\"ColumnDataSource\"}},\"id\":\"38109\",\"type\":\"CDSView\"},{\"attributes\":{},\"id\":\"38038\",\"type\":\"LinearScale\"},{\"attributes\":{\"callback\":null,\"data\":{\"DOUBLE PARKING\":{\"__ndarray__\":\"AAAAAADrykAAAAAAAJB7QAAAAAAAgHVAAAAAAABQcEAAAAAAAABlQAAAAAAAIIlAAAAAAABio0AAAAAAAEyjQAAAAAAAUrNAAAAAAABavkAAAAAAABDKQAAAAAAAHcdAAAAAAACgbUAAAAAAgPvSQAAAAAAAkspAAAAAAADtwEAAAAAAADS4QAAAAAAAabBAAAAAAACMoUAAAAAAAFiIQAAAAAAAAJdAAAAAAAC0k0AAAAAAAJiMQAAAAAAACIBA\",\"dtype\":\"float64\",\"shape\":[24]},\"EXPIRED MUNI METER\":{\"__ndarray__\":\"AAAAAICjyUAAAAAAAAAAQAAAAAAAAPh/AAAAAAAA+H8AAAAAAAD4fwAAAAAAAPh/AAAAAAAA+H8AAAAAAAAqQAAAAAAAUHJAAAAAAAA8mUAAAAAAALe5QAAAAACAF8FAAAAAAAAA+H8AAAAAQJ3RQAAAAAAAltBAAAAAAADUxUAAAAAAgOPDQAAAAAAAxbpAAAAAAAD0mkAAAAAAAOB0QAAAAAAACIlAAAAAAADIhEAAAAAAAMBTQAAAAAAAACRA\",\"dtype\":\"float64\",\"shape\":[24]},\"FAIL TO DSPLY MUNI METER RECPT\":{\"__ndarray__\":\"AAAAAEBq2UAAAAAAAADwPwAAAAAAAPA/AAAAAAAA+H8AAAAAAAD4fwAAAAAAAPA/AAAAAAAAEEAAAAAAAEiKQAAAAACAwsZAAAAAAECs1UAAAAAAwETYQAAAAABAHNNAAAAAAAAACEAAAAAAIA/hQAAAAADAld1AAAAAAMCo0kAAAAAAgAfSQAAAAAAAEchAAAAAAAAgsEAAAAAAACSQQAAAAAAArKpAAAAAAADmqUAAAAAAAFB4QAAAAAAAcHBA\",\"dtype\":\"float64\",\"shape\":[24]},\"FAILURE TO STOP AT RED LIGHT\":{\"__ndarray__\":\"AAAAAABouEAAAAAAAMiTQAAAAAAAYIlAAAAAAAA4iUAAAAAAABCNQAAAAAAAOJVAAAAAAADAo0AAAAAAAISqQAAAAAAAQbFAAAAAAAAXskAAAAAAAI6zQAAAAAAARLZAAAAAAADsmkAAAAAAAC+5QAAAAAAAlbxAAAAAAAAZvUAAAAAAAIe7QAAAAAAAbbhAAAAAAABVtUAAAAAAABGxQAAAAAAATqpAAAAAAABEpkAAAAAAAGSlQAAAAAAAzqFA\",\"dtype\":\"float64\",\"shape\":[24]},\"FIRE HYDRANT\":{\"__ndarray__\":\"AAAAAAD1v0AAAAAAAFKgQAAAAAAAHqJAAAAAAAC0mkAAAAAAAFCOQAAAAAAAlbZAAAAAAABtyUAAAAAAAG++QAAAAAAAfLtAAAAAAABfu0AAAAAAAGm+QAAAAAAA6bpAAAAAAAAwfEAAAAAAgI3BQAAAAAAAMb9AAAAAAADDtEAAAAAAAJirQAAAAAAAeKRAAAAAAACklkAAAAAAABiCQAAAAAAAhqJAAAAAAADupUAAAAAAABCkQAAAAAAAJJpA\",\"dtype\":\"float64\",\"shape\":[24]},\"Hour\":{\"__ndarray__\":\"AAAAAAAAAAAAAAAAAADwPwAAAAAAAABAAAAAAAAACEAAAAAAAAAQQAAAAAAAABRAAAAAAAAAGEAAAAAAAAAcQAAAAAAAACBAAAAAAAAAIkAAAAAAAAAkQAAAAAAAACZAAAAAAAAAKEAAAAAAAAAqQAAAAAAAACxAAAAAAAAALkAAAAAAAAAwQAAAAAAAADFAAAAAAAAAMkAAAAAAAAAzQAAAAAAAADRAAAAAAAAANUAAAAAAAAA2QAAAAAAAADdA\",\"dtype\":\"float64\",\"shape\":[24]},\"INSP. STICKER-EXPIRED/MISSING\":{\"__ndarray__\":\"AAAAAABRxUAAAAAAAABwQAAAAAAA0HJAAAAAAABgakAAAAAAAIBSQAAAAAAA0IRAAAAAAAC8qUAAAAAAAFu2QAAAAACA8MJAAAAAAADFxEAAAAAAAAfGQAAAAACAjsVAAAAAAAAAPkAAAAAAgFvJQAAAAACAt8dAAAAAAABPwEAAAAAAAPe3QAAAAAAAaqtAAAAAAAAIlEAAAAAAAKBoQAAAAAAAYIBAAAAAAACwfEAAAAAAALBzQAAAAAAAoHBA\",\"dtype\":\"float64\",\"shape\":[24]},\"NO PARKING-DAY/TIME LIMITS\":{\"__ndarray__\":\"AAAAAADqzEAAAAAAAFiOQAAAAAAA6I9AAAAAAACIh0AAAAAAAIB4QAAAAAAA3qNAAAAAAABSuUAAAAAAAPy+QAAAAAAAfstAAAAAAACsyUAAAAAAgGbLQAAAAACAqcZAAAAAAABgYUAAAAAAgBnUQAAAAACAfNBAAAAAAIDcxUAAAAAAAHG8QAAAAAAA8LdAAAAAAADUmkAAAAAAANiCQAAAAAAASqBAAAAAAADcm0AAAAAAANiWQAAAAAAASJFA\",\"dtype\":\"float64\",\"shape\":[24]},\"NO PARKING-STREET CLEANING\":{\"__ndarray__\":\"AAAAAACT4kAAAAAAAOatQAAAAAAAbJxAAAAAAAC6o0AAAAAAABiDQAAAAAAAUJZAAAAAAAC0kEAAAAAAwODVQAAAAADQ8/VAAAAAABAe9UAAAAAAgOzZQAAAAADgQ/RAAAAAAACwjUAAAAAAAIibQAAAAAAAADlAAAAAAAAAIEAAAAAAAAAqQAAAAAAAADFAAAAAAAAAJEAAAAAAAAAYQAAAAAAAABxAAAAAAAAAGEAAAAAAAAAmQAAAAAAAADpA\",\"dtype\":\"float64\",\"shape\":[24]},\"NO STANDING-DAY/TIME LIMITS\":{\"__ndarray__\":\"AAAAAIANzEAAAAAAAOCVQAAAAAAA2IxAAAAAAACohEAAAAAAAMB3QAAAAAAAzKdAAAAAAAAjvUAAAAAAgFnVQAAAAAAAbtBAAAAAAIAK0kAAAAAAgIvNQAAAAACAsMpAAAAAAABAb0AAAAAAACLTQAAAAADAbtBAAAAAAACeyUAAAAAAgMrQQAAAAAAAT8BAAAAAAACLsUAAAAAAAHCPQAAAAAAACqJAAAAAAACsmUAAAAAAAESbQAAAAAAAjJ5A\",\"dtype\":\"float64\",\"shape\":[24]},\"PHTO SCHOOL ZN SPEED VIOLATION\":{\"__ndarray__\":\"AAAAAMD73EAAAAAAAAD4fwAAAAAAAABAAAAAAAAA+H8AAAAAAAD4fwAAAAAAAPh/AAAAAADEn0AAAAAAABzLQAAAAAAAfdJAAAAAAMCE2EAAAAAAwJDbQAAAAABATdxAAAAAAAAA+H8AAAAAwMPbQAAAAACA7NVAAAAAAAChz0AAAAAAAFqxQAAAAAAAyIpAAAAAAACwekAAAAAAAAD4fwAAAAAAAPh/AAAAAAAA+H8AAAAAAAD4fwAAAAAAAPh/\",\"dtype\":\"float64\",\"shape\":[24]},\"index\":[0,1,2,3,4,5,6,7,8,9,10,11,12,13,14,15,16,17,18,19,20,21,22,23]},\"selected\":{\"id\":\"38754\",\"type\":\"Selection\"},\"selection_policy\":{\"id\":\"38753\",\"type\":\"UnionRenderers\"}},\"id\":\"38028\",\"type\":\"ColumnDataSource\"},{\"attributes\":{\"data_source\":{\"id\":\"38028\",\"type\":\"ColumnDataSource\"},\"glyph\":{\"id\":\"38075\",\"type\":\"VBar\"},\"hover_glyph\":null,\"muted_glyph\":{\"id\":\"38077\",\"type\":\"VBar\"},\"nonselection_glyph\":{\"id\":\"38076\",\"type\":\"VBar\"},\"selection_glyph\":null,\"view\":{\"id\":\"38079\",\"type\":\"CDSView\"}},\"id\":\"38078\",\"type\":\"GlyphRenderer\"},{\"attributes\":{\"callback\":null},\"id\":\"38034\",\"type\":\"DataRange1d\"},{\"attributes\":{\"fill_alpha\":{\"value\":0.09},\"fill_color\":{\"value\":\"#ff7f0e\"},\"line_alpha\":{\"value\":0.09},\"line_color\":{\"value\":\"#ff7f0e\"},\"top\":{\"field\":\"PHTO SCHOOL ZN SPEED VIOLATION\"},\"width\":{\"value\":0.5},\"x\":{\"field\":\"Hour\"}},\"id\":\"38077\",\"type\":\"VBar\"},{\"attributes\":{},\"id\":\"38053\",\"type\":\"ResetTool\"},{\"attributes\":{\"fill_alpha\":{\"value\":0.09},\"fill_color\":{\"value\":\"#2ca02c\"},\"line_alpha\":{\"value\":0.09},\"line_color\":{\"value\":\"#2ca02c\"},\"top\":{\"field\":\"NO PARKING-DAY/TIME LIMITS\"},\"width\":{\"value\":0.5},\"x\":{\"field\":\"Hour\"}},\"id\":\"38089\",\"type\":\"VBar\"},{\"attributes\":{\"label\":{\"value\":\"NO STANDING-DAY/TIME LIMITS\"},\"renderers\":[{\"id\":\"38084\",\"type\":\"GlyphRenderer\"}]},\"id\":\"38126\",\"type\":\"LegendItem\"},{\"attributes\":{\"fill_alpha\":{\"value\":3},\"fill_color\":{\"value\":\"#ff7f0e\"},\"line_alpha\":{\"value\":3},\"line_color\":{\"value\":\"#ff7f0e\"},\"top\":{\"field\":\"PHTO SCHOOL ZN SPEED VIOLATION\"},\"width\":{\"value\":0.5},\"x\":{\"field\":\"Hour\"}},\"id\":\"38075\",\"type\":\"VBar\"},{\"attributes\":{\"fill_alpha\":{\"value\":3},\"fill_color\":{\"value\":\"#98df8a\"},\"line_alpha\":{\"value\":3},\"line_color\":{\"value\":\"#98df8a\"},\"top\":{\"field\":\"DOUBLE PARKING\"},\"width\":{\"value\":0.5},\"x\":{\"field\":\"Hour\"}},\"id\":\"38093\",\"type\":\"VBar\"},{\"attributes\":{},\"id\":\"38049\",\"type\":\"PanTool\"},{\"attributes\":{\"fill_alpha\":{\"value\":0.1},\"fill_color\":{\"value\":\"#1f77b4\"},\"line_alpha\":{\"value\":0.1},\"line_color\":{\"value\":\"#1f77b4\"},\"top\":{\"field\":\"DOUBLE PARKING\"},\"width\":{\"value\":0.5},\"x\":{\"field\":\"Hour\"}},\"id\":\"38094\",\"type\":\"VBar\"},{\"attributes\":{\"label\":{\"value\":\"FAILURE TO STOP AT RED LIGHT\"},\"renderers\":[{\"id\":\"38120\",\"type\":\"GlyphRenderer\"}]},\"id\":\"38132\",\"type\":\"LegendItem\"},{\"attributes\":{\"fill_alpha\":{\"value\":0.1},\"fill_color\":{\"value\":\"#1f77b4\"},\"line_alpha\":{\"value\":0.1},\"line_color\":{\"value\":\"#1f77b4\"},\"top\":{\"field\":\"PHTO SCHOOL ZN SPEED VIOLATION\"},\"width\":{\"value\":0.5},\"x\":{\"field\":\"Hour\"}},\"id\":\"38076\",\"type\":\"VBar\"},{\"attributes\":{\"fill_alpha\":{\"value\":3},\"fill_color\":{\"value\":\"#2ca02c\"},\"line_alpha\":{\"value\":3},\"line_color\":{\"value\":\"#2ca02c\"},\"top\":{\"field\":\"NO PARKING-DAY/TIME LIMITS\"},\"width\":{\"value\":0.5},\"x\":{\"field\":\"Hour\"}},\"id\":\"38087\",\"type\":\"VBar\"},{\"attributes\":{\"fill_alpha\":{\"value\":0.1},\"fill_color\":{\"value\":\"#1f77b4\"},\"line_alpha\":{\"value\":0.1},\"line_color\":{\"value\":\"#1f77b4\"},\"top\":{\"field\":\"NO STANDING-DAY/TIME LIMITS\"},\"width\":{\"value\":0.5},\"x\":{\"field\":\"Hour\"}},\"id\":\"38082\",\"type\":\"VBar\"},{\"attributes\":{\"fill_alpha\":{\"value\":0.09},\"fill_color\":{\"value\":\"#aec7e8\"},\"line_alpha\":{\"value\":0.09},\"line_color\":{\"value\":\"#aec7e8\"},\"top\":{\"field\":\"FAIL TO DSPLY MUNI METER RECPT\"},\"width\":{\"value\":0.5},\"x\":{\"field\":\"Hour\"}},\"id\":\"38071\",\"type\":\"VBar\"},{\"attributes\":{\"fill_alpha\":{\"value\":3},\"fill_color\":{\"value\":\"#c5b0d5\"},\"line_alpha\":{\"value\":3},\"line_color\":{\"value\":\"#c5b0d5\"},\"top\":{\"field\":\"FAILURE TO STOP AT RED LIGHT\"},\"width\":{\"value\":0.5},\"x\":{\"field\":\"Hour\"}},\"id\":\"38117\",\"type\":\"VBar\"},{\"attributes\":{\"data_source\":{\"id\":\"38028\",\"type\":\"ColumnDataSource\"},\"glyph\":{\"id\":\"38087\",\"type\":\"VBar\"},\"hover_glyph\":null,\"muted_glyph\":{\"id\":\"38089\",\"type\":\"VBar\"},\"nonselection_glyph\":{\"id\":\"38088\",\"type\":\"VBar\"},\"selection_glyph\":null,\"view\":{\"id\":\"38091\",\"type\":\"CDSView\"}},\"id\":\"38090\",\"type\":\"GlyphRenderer\"},{\"attributes\":{\"label\":{\"value\":\"PHTO SCHOOL ZN SPEED VIOLATION\"},\"renderers\":[{\"id\":\"38078\",\"type\":\"GlyphRenderer\"}]},\"id\":\"38125\",\"type\":\"LegendItem\"},{\"attributes\":{\"fill_alpha\":{\"value\":0.1},\"fill_color\":{\"value\":\"#1f77b4\"},\"line_alpha\":{\"value\":0.1},\"line_color\":{\"value\":\"#1f77b4\"},\"top\":{\"field\":\"INSP. STICKER-EXPIRED/MISSING\"},\"width\":{\"value\":0.5},\"x\":{\"field\":\"Hour\"}},\"id\":\"38106\",\"type\":\"VBar\"},{\"attributes\":{\"data_source\":{\"id\":\"38028\",\"type\":\"ColumnDataSource\"},\"glyph\":{\"id\":\"38093\",\"type\":\"VBar\"},\"hover_glyph\":null,\"muted_glyph\":{\"id\":\"38095\",\"type\":\"VBar\"},\"nonselection_glyph\":{\"id\":\"38094\",\"type\":\"VBar\"},\"selection_glyph\":null,\"view\":{\"id\":\"38097\",\"type\":\"CDSView\"}},\"id\":\"38096\",\"type\":\"GlyphRenderer\"},{\"attributes\":{},\"id\":\"38054\",\"type\":\"HelpTool\"},{\"attributes\":{\"fill_alpha\":{\"value\":0.09},\"fill_color\":{\"value\":\"#ff9896\"},\"line_alpha\":{\"value\":0.09},\"line_color\":{\"value\":\"#ff9896\"},\"top\":{\"field\":\"INSP. STICKER-EXPIRED/MISSING\"},\"width\":{\"value\":0.5},\"x\":{\"field\":\"Hour\"}},\"id\":\"38107\",\"type\":\"VBar\"},{\"attributes\":{\"fill_alpha\":{\"value\":3},\"fill_color\":{\"value\":\"#aec7e8\"},\"line_alpha\":{\"value\":3},\"line_color\":{\"value\":\"#aec7e8\"},\"top\":{\"field\":\"FAIL TO DSPLY MUNI METER RECPT\"},\"width\":{\"value\":0.5},\"x\":{\"field\":\"Hour\"}},\"id\":\"38069\",\"type\":\"VBar\"},{\"attributes\":{},\"id\":\"38753\",\"type\":\"UnionRenderers\"},{\"attributes\":{\"data_source\":{\"id\":\"38028\",\"type\":\"ColumnDataSource\"},\"glyph\":{\"id\":\"38111\",\"type\":\"VBar\"},\"hover_glyph\":null,\"muted_glyph\":{\"id\":\"38113\",\"type\":\"VBar\"},\"nonselection_glyph\":{\"id\":\"38112\",\"type\":\"VBar\"},\"selection_glyph\":null,\"view\":{\"id\":\"38115\",\"type\":\"CDSView\"}},\"id\":\"38114\",\"type\":\"GlyphRenderer\"},{\"attributes\":{\"label\":{\"value\":\"NO PARKING-DAY/TIME LIMITS\"},\"renderers\":[{\"id\":\"38090\",\"type\":\"GlyphRenderer\"}]},\"id\":\"38127\",\"type\":\"LegendItem\"},{\"attributes\":{},\"id\":\"38050\",\"type\":\"WheelZoomTool\"},{\"attributes\":{},\"id\":\"38754\",\"type\":\"Selection\"},{\"attributes\":{},\"id\":\"38749\",\"type\":\"CategoricalTickFormatter\"},{\"attributes\":{\"fill_alpha\":{\"value\":0.1},\"fill_color\":{\"value\":\"#1f77b4\"},\"line_alpha\":{\"value\":0.1},\"line_color\":{\"value\":\"#1f77b4\"},\"top\":{\"field\":\"FAIL TO DSPLY MUNI METER RECPT\"},\"width\":{\"value\":0.5},\"x\":{\"field\":\"Hour\"}},\"id\":\"38070\",\"type\":\"VBar\"},{\"attributes\":{\"label\":{\"value\":\"INSP. STICKER-EXPIRED/MISSING\"},\"renderers\":[{\"id\":\"38108\",\"type\":\"GlyphRenderer\"}]},\"id\":\"38130\",\"type\":\"LegendItem\"},{\"attributes\":{\"label\":{\"value\":\"NO PARKING-STREET CLEANING\"},\"renderers\":[{\"id\":\"38066\",\"type\":\"GlyphRenderer\"}]},\"id\":\"38123\",\"type\":\"LegendItem\"},{\"attributes\":{\"fill_alpha\":{\"value\":0.1},\"fill_color\":{\"value\":\"#1f77b4\"},\"line_alpha\":{\"value\":0.1},\"line_color\":{\"value\":\"#1f77b4\"},\"top\":{\"field\":\"FIRE HYDRANT\"},\"width\":{\"value\":0.5},\"x\":{\"field\":\"Hour\"}},\"id\":\"38100\",\"type\":\"VBar\"},{\"attributes\":{},\"id\":\"38751\",\"type\":\"BasicTickFormatter\"},{\"attributes\":{\"fill_alpha\":{\"value\":0.09},\"fill_color\":{\"value\":\"#1f77b4\"},\"line_alpha\":{\"value\":0.09},\"line_color\":{\"value\":\"#1f77b4\"},\"top\":{\"field\":\"NO PARKING-STREET CLEANING\"},\"width\":{\"value\":0.5},\"x\":{\"field\":\"Hour\"}},\"id\":\"38065\",\"type\":\"VBar\"},{\"attributes\":{\"data_source\":{\"id\":\"38028\",\"type\":\"ColumnDataSource\"},\"glyph\":{\"id\":\"38081\",\"type\":\"VBar\"},\"hover_glyph\":null,\"muted_glyph\":{\"id\":\"38083\",\"type\":\"VBar\"},\"nonselection_glyph\":{\"id\":\"38082\",\"type\":\"VBar\"},\"selection_glyph\":null,\"view\":{\"id\":\"38085\",\"type\":\"CDSView\"}},\"id\":\"38084\",\"type\":\"GlyphRenderer\"},{\"attributes\":{\"data_source\":{\"id\":\"38028\",\"type\":\"ColumnDataSource\"},\"glyph\":{\"id\":\"38069\",\"type\":\"VBar\"},\"hover_glyph\":null,\"muted_glyph\":{\"id\":\"38071\",\"type\":\"VBar\"},\"nonselection_glyph\":{\"id\":\"38070\",\"type\":\"VBar\"},\"selection_glyph\":null,\"view\":{\"id\":\"38073\",\"type\":\"CDSView\"}},\"id\":\"38072\",\"type\":\"GlyphRenderer\"},{\"attributes\":{\"data_source\":{\"id\":\"38028\",\"type\":\"ColumnDataSource\"},\"glyph\":{\"id\":\"38105\",\"type\":\"VBar\"},\"hover_glyph\":null,\"muted_glyph\":{\"id\":\"38107\",\"type\":\"VBar\"},\"nonselection_glyph\":{\"id\":\"38106\",\"type\":\"VBar\"},\"selection_glyph\":null,\"view\":{\"id\":\"38109\",\"type\":\"CDSView\"}},\"id\":\"38108\",\"type\":\"GlyphRenderer\"},{\"attributes\":{\"label\":{\"value\":\"DOUBLE PARKING\"},\"renderers\":[{\"id\":\"38096\",\"type\":\"GlyphRenderer\"}]},\"id\":\"38128\",\"type\":\"LegendItem\"},{\"attributes\":{\"fill_alpha\":{\"value\":3},\"fill_color\":{\"value\":\"#d62728\"},\"line_alpha\":{\"value\":3},\"line_color\":{\"value\":\"#d62728\"},\"top\":{\"field\":\"FIRE HYDRANT\"},\"width\":{\"value\":0.5},\"x\":{\"field\":\"Hour\"}},\"id\":\"38099\",\"type\":\"VBar\"},{\"attributes\":{\"bottom_units\":\"screen\",\"fill_alpha\":{\"value\":0.5},\"fill_color\":{\"value\":\"lightgrey\"},\"left_units\":\"screen\",\"level\":\"overlay\",\"line_alpha\":{\"value\":1.0},\"line_color\":{\"value\":\"black\"},\"line_dash\":[4,4],\"line_width\":{\"value\":2},\"render_mode\":\"css\",\"right_units\":\"screen\",\"top_units\":\"screen\"},\"id\":\"38752\",\"type\":\"BoxAnnotation\"},{\"attributes\":{},\"id\":\"38052\",\"type\":\"SaveTool\"},{\"attributes\":{\"fill_alpha\":{\"value\":0.09},\"fill_color\":{\"value\":\"#ffbb78\"},\"line_alpha\":{\"value\":0.09},\"line_color\":{\"value\":\"#ffbb78\"},\"top\":{\"field\":\"NO STANDING-DAY/TIME LIMITS\"},\"width\":{\"value\":0.5},\"x\":{\"field\":\"Hour\"}},\"id\":\"38083\",\"type\":\"VBar\"},{\"attributes\":{\"label\":{\"value\":\"FIRE HYDRANT\"},\"renderers\":[{\"id\":\"38102\",\"type\":\"GlyphRenderer\"}]},\"id\":\"38129\",\"type\":\"LegendItem\"},{\"attributes\":{\"source\":{\"id\":\"38028\",\"type\":\"ColumnDataSource\"}},\"id\":\"38091\",\"type\":\"CDSView\"},{\"attributes\":{\"fill_alpha\":{\"value\":0.09},\"fill_color\":{\"value\":\"#d62728\"},\"line_alpha\":{\"value\":0.09},\"line_color\":{\"value\":\"#d62728\"},\"top\":{\"field\":\"FIRE HYDRANT\"},\"width\":{\"value\":0.5},\"x\":{\"field\":\"Hour\"}},\"id\":\"38101\",\"type\":\"VBar\"},{\"attributes\":{\"fill_alpha\":{\"value\":3},\"fill_color\":{\"value\":\"#9467bd\"},\"line_alpha\":{\"value\":3},\"line_color\":{\"value\":\"#9467bd\"},\"top\":{\"field\":\"EXPIRED MUNI METER\"},\"width\":{\"value\":0.5},\"x\":{\"field\":\"Hour\"}},\"id\":\"38111\",\"type\":\"VBar\"},{\"attributes\":{\"fill_alpha\":{\"value\":0.1},\"fill_color\":{\"value\":\"#1f77b4\"},\"line_alpha\":{\"value\":0.1},\"line_color\":{\"value\":\"#1f77b4\"},\"top\":{\"field\":\"FAILURE TO STOP AT RED LIGHT\"},\"width\":{\"value\":0.5},\"x\":{\"field\":\"Hour\"}},\"id\":\"38118\",\"type\":\"VBar\"},{\"attributes\":{\"overlay\":{\"id\":\"38752\",\"type\":\"BoxAnnotation\"}},\"id\":\"38051\",\"type\":\"BoxZoomTool\"},{\"attributes\":{\"label\":{\"value\":\"EXPIRED MUNI METER\"},\"renderers\":[{\"id\":\"38114\",\"type\":\"GlyphRenderer\"}]},\"id\":\"38131\",\"type\":\"LegendItem\"},{\"attributes\":{\"source\":{\"id\":\"38028\",\"type\":\"ColumnDataSource\"}},\"id\":\"38067\",\"type\":\"CDSView\"},{\"attributes\":{\"data_source\":{\"id\":\"38028\",\"type\":\"ColumnDataSource\"},\"glyph\":{\"id\":\"38099\",\"type\":\"VBar\"},\"hover_glyph\":null,\"muted_glyph\":{\"id\":\"38101\",\"type\":\"VBar\"},\"nonselection_glyph\":{\"id\":\"38100\",\"type\":\"VBar\"},\"selection_glyph\":null,\"view\":{\"id\":\"38103\",\"type\":\"CDSView\"}},\"id\":\"38102\",\"type\":\"GlyphRenderer\"},{\"attributes\":{\"fill_alpha\":{\"value\":0.09},\"fill_color\":{\"value\":\"#98df8a\"},\"line_alpha\":{\"value\":0.09},\"line_color\":{\"value\":\"#98df8a\"},\"top\":{\"field\":\"DOUBLE PARKING\"},\"width\":{\"value\":0.5},\"x\":{\"field\":\"Hour\"}},\"id\":\"38095\",\"type\":\"VBar\"},{\"attributes\":{\"source\":{\"id\":\"38028\",\"type\":\"ColumnDataSource\"}},\"id\":\"38085\",\"type\":\"CDSView\"},{\"attributes\":{\"source\":{\"id\":\"38028\",\"type\":\"ColumnDataSource\"}},\"id\":\"38103\",\"type\":\"CDSView\"},{\"attributes\":{\"fill_alpha\":{\"value\":0.1},\"fill_color\":{\"value\":\"#1f77b4\"},\"line_alpha\":{\"value\":0.1},\"line_color\":{\"value\":\"#1f77b4\"},\"top\":{\"field\":\"NO PARKING-STREET CLEANING\"},\"width\":{\"value\":0.5},\"x\":{\"field\":\"Hour\"}},\"id\":\"38064\",\"type\":\"VBar\"},{\"attributes\":{\"label\":{\"value\":\"FAIL TO DSPLY MUNI METER RECPT\"},\"renderers\":[{\"id\":\"38072\",\"type\":\"GlyphRenderer\"}]},\"id\":\"38124\",\"type\":\"LegendItem\"},{\"attributes\":{\"source\":{\"id\":\"38028\",\"type\":\"ColumnDataSource\"}},\"id\":\"38115\",\"type\":\"CDSView\"},{\"attributes\":{\"source\":{\"id\":\"38028\",\"type\":\"ColumnDataSource\"}},\"id\":\"38073\",\"type\":\"CDSView\"},{\"attributes\":{\"source\":{\"id\":\"38028\",\"type\":\"ColumnDataSource\"}},\"id\":\"38097\",\"type\":\"CDSView\"},{\"attributes\":{\"fill_alpha\":{\"value\":3},\"fill_color\":{\"value\":\"#ff9896\"},\"line_alpha\":{\"value\":3},\"line_color\":{\"value\":\"#ff9896\"},\"top\":{\"field\":\"INSP. STICKER-EXPIRED/MISSING\"},\"width\":{\"value\":0.5},\"x\":{\"field\":\"Hour\"}},\"id\":\"38105\",\"type\":\"VBar\"},{\"attributes\":{\"active_drag\":\"auto\",\"active_inspect\":\"auto\",\"active_multi\":null,\"active_scroll\":\"auto\",\"active_tap\":\"auto\",\"tools\":[{\"id\":\"38049\",\"type\":\"PanTool\"},{\"id\":\"38050\",\"type\":\"WheelZoomTool\"},{\"id\":\"38051\",\"type\":\"BoxZoomTool\"},{\"id\":\"38052\",\"type\":\"SaveTool\"},{\"id\":\"38053\",\"type\":\"ResetTool\"},{\"id\":\"38054\",\"type\":\"HelpTool\"}]},\"id\":\"38055\",\"type\":\"Toolbar\"},{\"attributes\":{\"fill_alpha\":{\"value\":0.1},\"fill_color\":{\"value\":\"#1f77b4\"},\"line_alpha\":{\"value\":0.1},\"line_color\":{\"value\":\"#1f77b4\"},\"top\":{\"field\":\"NO PARKING-DAY/TIME LIMITS\"},\"width\":{\"value\":0.5},\"x\":{\"field\":\"Hour\"}},\"id\":\"38088\",\"type\":\"VBar\"},{\"attributes\":{\"data_source\":{\"id\":\"38028\",\"type\":\"ColumnDataSource\"},\"glyph\":{\"id\":\"38117\",\"type\":\"VBar\"},\"hover_glyph\":null,\"muted_glyph\":{\"id\":\"38119\",\"type\":\"VBar\"},\"nonselection_glyph\":{\"id\":\"38118\",\"type\":\"VBar\"},\"selection_glyph\":null,\"view\":{\"id\":\"38121\",\"type\":\"CDSView\"}},\"id\":\"38120\",\"type\":\"GlyphRenderer\"},{\"attributes\":{\"source\":{\"id\":\"38028\",\"type\":\"ColumnDataSource\"}},\"id\":\"38121\",\"type\":\"CDSView\"},{\"attributes\":{\"data_source\":{\"id\":\"38028\",\"type\":\"ColumnDataSource\"},\"glyph\":{\"id\":\"38063\",\"type\":\"VBar\"},\"hover_glyph\":null,\"muted_glyph\":{\"id\":\"38065\",\"type\":\"VBar\"},\"nonselection_glyph\":{\"id\":\"38064\",\"type\":\"VBar\"},\"selection_glyph\":null,\"view\":{\"id\":\"38067\",\"type\":\"CDSView\"}},\"id\":\"38066\",\"type\":\"GlyphRenderer\"}],\"root_ids\":[\"38030\"]},\"title\":\"Bokeh Application\",\"version\":\"1.3.4\"}};\n",
       "  var render_items = [{\"docid\":\"d6561828-646b-4279-bc9b-49a173c5b2da\",\"roots\":{\"38030\":\"dc0fbbab-b352-4763-9b01-9c9e12a745c2\"}}];\n",
       "  root.Bokeh.embed.embed_items_notebook(docs_json, render_items);\n",
       "\n",
       "  }\n",
       "  if (root.Bokeh !== undefined) {\n",
       "    embed_document(root);\n",
       "  } else {\n",
       "    var attempts = 0;\n",
       "    var timer = setInterval(function(root) {\n",
       "      if (root.Bokeh !== undefined) {\n",
       "        embed_document(root);\n",
       "        clearInterval(timer);\n",
       "      }\n",
       "      attempts++;\n",
       "      if (attempts > 100) {\n",
       "        console.log(\"Bokeh: ERROR: Unable to run BokehJS code because BokehJS library is missing\");\n",
       "        clearInterval(timer);\n",
       "      }\n",
       "    }, 10, root)\n",
       "  }\n",
       "})(window);"
      ],
      "application/vnd.bokehjs_exec.v0+json": ""
     },
     "metadata": {
      "application/vnd.bokehjs_exec.v0+json": {
       "id": "38030"
      }
     },
     "output_type": "display_data"
    },
    {
     "data": {
      "text/html": [
       "\n",
       "\n",
       "\n",
       "\n",
       "\n",
       "\n",
       "  <div class=\"bk-root\" id=\"2264df04-787e-449e-ac4f-0a64fd1175c0\" data-root-id=\"38805\"></div>\n"
      ]
     },
     "metadata": {},
     "output_type": "display_data"
    },
    {
     "data": {
      "application/javascript": [
       "(function(root) {\n",
       "  function embed_document(root) {\n",
       "    \n",
       "  var docs_json = {\"ea9107cf-c5c6-4968-8ffc-cd00303057d6\":{\"roots\":{\"references\":[{\"attributes\":{\"below\":[{\"id\":\"38815\",\"type\":\"CategoricalAxis\"}],\"center\":[{\"id\":\"38818\",\"type\":\"Grid\"},{\"id\":\"38823\",\"type\":\"Grid\"}],\"left\":[{\"id\":\"38819\",\"type\":\"LinearAxis\"},{\"id\":\"38897\",\"type\":\"Legend\"}],\"plot_height\":500,\"plot_width\":1200,\"renderers\":[{\"id\":\"38841\",\"type\":\"GlyphRenderer\"},{\"id\":\"38847\",\"type\":\"GlyphRenderer\"},{\"id\":\"38853\",\"type\":\"GlyphRenderer\"},{\"id\":\"38859\",\"type\":\"GlyphRenderer\"},{\"id\":\"38865\",\"type\":\"GlyphRenderer\"},{\"id\":\"38871\",\"type\":\"GlyphRenderer\"},{\"id\":\"38877\",\"type\":\"GlyphRenderer\"},{\"id\":\"38883\",\"type\":\"GlyphRenderer\"},{\"id\":\"38889\",\"type\":\"GlyphRenderer\"},{\"id\":\"38895\",\"type\":\"GlyphRenderer\"}],\"title\":{\"id\":\"38806\",\"type\":\"Title\"},\"toolbar\":{\"id\":\"38830\",\"type\":\"Toolbar\"},\"toolbar_location\":null,\"x_range\":{\"id\":\"38804\",\"type\":\"FactorRange\"},\"x_scale\":{\"id\":\"38811\",\"type\":\"CategoricalScale\"},\"y_range\":{\"id\":\"38809\",\"type\":\"DataRange1d\"},\"y_scale\":{\"id\":\"38813\",\"type\":\"LinearScale\"}},\"id\":\"38805\",\"subtype\":\"Figure\",\"type\":\"Plot\"},{\"attributes\":{\"fill_alpha\":{\"value\":0.09},\"fill_color\":{\"value\":\"#d62728\"},\"line_alpha\":{\"value\":0.09},\"line_color\":{\"value\":\"#d62728\"},\"top\":{\"field\":\"FIRE HYDRANT\"},\"width\":{\"value\":0.5},\"x\":{\"field\":\"Month Number\"}},\"id\":\"38876\",\"type\":\"VBar\"},{\"attributes\":{\"label\":{\"value\":\"PHTO SCHOOL ZN SPEED VIOLATION\"},\"renderers\":[{\"id\":\"38853\",\"type\":\"GlyphRenderer\"}]},\"id\":\"38900\",\"type\":\"LegendItem\"},{\"attributes\":{\"fill_alpha\":{\"value\":0.1},\"fill_color\":{\"value\":\"#1f77b4\"},\"line_alpha\":{\"value\":0.1},\"line_color\":{\"value\":\"#1f77b4\"},\"top\":{\"field\":\"NO STANDING-DAY/TIME LIMITS\"},\"width\":{\"value\":0.5},\"x\":{\"field\":\"Month Number\"}},\"id\":\"38857\",\"type\":\"VBar\"},{\"attributes\":{\"source\":{\"id\":\"38803\",\"type\":\"ColumnDataSource\"}},\"id\":\"38854\",\"type\":\"CDSView\"},{\"attributes\":{\"data_source\":{\"id\":\"38803\",\"type\":\"ColumnDataSource\"},\"glyph\":{\"id\":\"38868\",\"type\":\"VBar\"},\"hover_glyph\":null,\"muted_glyph\":{\"id\":\"38870\",\"type\":\"VBar\"},\"nonselection_glyph\":{\"id\":\"38869\",\"type\":\"VBar\"},\"selection_glyph\":null,\"view\":{\"id\":\"38872\",\"type\":\"CDSView\"}},\"id\":\"38871\",\"type\":\"GlyphRenderer\"},{\"attributes\":{\"fill_alpha\":{\"value\":0.09},\"fill_color\":{\"value\":\"#2ca02c\"},\"line_alpha\":{\"value\":0.09},\"line_color\":{\"value\":\"#2ca02c\"},\"top\":{\"field\":\"NO PARKING-DAY/TIME LIMITS\"},\"width\":{\"value\":0.5},\"x\":{\"field\":\"Month Number\"}},\"id\":\"38864\",\"type\":\"VBar\"},{\"attributes\":{},\"id\":\"39536\",\"type\":\"UnionRenderers\"},{\"attributes\":{\"fill_alpha\":{\"value\":3},\"fill_color\":{\"value\":\"#2ca02c\"},\"line_alpha\":{\"value\":3},\"line_color\":{\"value\":\"#2ca02c\"},\"top\":{\"field\":\"NO PARKING-DAY/TIME LIMITS\"},\"width\":{\"value\":0.5},\"x\":{\"field\":\"Month Number\"}},\"id\":\"38862\",\"type\":\"VBar\"},{\"attributes\":{\"fill_alpha\":{\"value\":3},\"fill_color\":{\"value\":\"#9467bd\"},\"line_alpha\":{\"value\":3},\"line_color\":{\"value\":\"#9467bd\"},\"top\":{\"field\":\"EXPIRED MUNI METER\"},\"width\":{\"value\":0.5},\"x\":{\"field\":\"Month Number\"}},\"id\":\"38886\",\"type\":\"VBar\"},{\"attributes\":{\"fill_alpha\":{\"value\":0.1},\"fill_color\":{\"value\":\"#1f77b4\"},\"line_alpha\":{\"value\":0.1},\"line_color\":{\"value\":\"#1f77b4\"},\"top\":{\"field\":\"DOUBLE PARKING\"},\"width\":{\"value\":0.5},\"x\":{\"field\":\"Month Number\"}},\"id\":\"38869\",\"type\":\"VBar\"},{\"attributes\":{\"data_source\":{\"id\":\"38803\",\"type\":\"ColumnDataSource\"},\"glyph\":{\"id\":\"38874\",\"type\":\"VBar\"},\"hover_glyph\":null,\"muted_glyph\":{\"id\":\"38876\",\"type\":\"VBar\"},\"nonselection_glyph\":{\"id\":\"38875\",\"type\":\"VBar\"},\"selection_glyph\":null,\"view\":{\"id\":\"38878\",\"type\":\"CDSView\"}},\"id\":\"38877\",\"type\":\"GlyphRenderer\"},{\"attributes\":{\"source\":{\"id\":\"38803\",\"type\":\"ColumnDataSource\"}},\"id\":\"38878\",\"type\":\"CDSView\"},{\"attributes\":{\"source\":{\"id\":\"38803\",\"type\":\"ColumnDataSource\"}},\"id\":\"38860\",\"type\":\"CDSView\"},{\"attributes\":{\"label\":{\"value\":\"FAIL TO DSPLY MUNI METER RECPT\"},\"renderers\":[{\"id\":\"38847\",\"type\":\"GlyphRenderer\"}]},\"id\":\"38899\",\"type\":\"LegendItem\"},{\"attributes\":{\"data_source\":{\"id\":\"38803\",\"type\":\"ColumnDataSource\"},\"glyph\":{\"id\":\"38892\",\"type\":\"VBar\"},\"hover_glyph\":null,\"muted_glyph\":{\"id\":\"38894\",\"type\":\"VBar\"},\"nonselection_glyph\":{\"id\":\"38893\",\"type\":\"VBar\"},\"selection_glyph\":null,\"view\":{\"id\":\"38896\",\"type\":\"CDSView\"}},\"id\":\"38895\",\"type\":\"GlyphRenderer\"},{\"attributes\":{\"fill_alpha\":{\"value\":3},\"fill_color\":{\"value\":\"#98df8a\"},\"line_alpha\":{\"value\":3},\"line_color\":{\"value\":\"#98df8a\"},\"top\":{\"field\":\"DOUBLE PARKING\"},\"width\":{\"value\":0.5},\"x\":{\"field\":\"Month Number\"}},\"id\":\"38868\",\"type\":\"VBar\"},{\"attributes\":{\"data_source\":{\"id\":\"38803\",\"type\":\"ColumnDataSource\"},\"glyph\":{\"id\":\"38844\",\"type\":\"VBar\"},\"hover_glyph\":null,\"muted_glyph\":{\"id\":\"38846\",\"type\":\"VBar\"},\"nonselection_glyph\":{\"id\":\"38845\",\"type\":\"VBar\"},\"selection_glyph\":null,\"view\":{\"id\":\"38848\",\"type\":\"CDSView\"}},\"id\":\"38847\",\"type\":\"GlyphRenderer\"},{\"attributes\":{\"label\":{\"value\":\"NO PARKING-STREET CLEANING\"},\"renderers\":[{\"id\":\"38841\",\"type\":\"GlyphRenderer\"}]},\"id\":\"38898\",\"type\":\"LegendItem\"},{\"attributes\":{\"fill_alpha\":{\"value\":0.09},\"fill_color\":{\"value\":\"#ff7f0e\"},\"line_alpha\":{\"value\":0.09},\"line_color\":{\"value\":\"#ff7f0e\"},\"top\":{\"field\":\"PHTO SCHOOL ZN SPEED VIOLATION\"},\"width\":{\"value\":0.5},\"x\":{\"field\":\"Month Number\"}},\"id\":\"38852\",\"type\":\"VBar\"},{\"attributes\":{\"data_source\":{\"id\":\"38803\",\"type\":\"ColumnDataSource\"},\"glyph\":{\"id\":\"38862\",\"type\":\"VBar\"},\"hover_glyph\":null,\"muted_glyph\":{\"id\":\"38864\",\"type\":\"VBar\"},\"nonselection_glyph\":{\"id\":\"38863\",\"type\":\"VBar\"},\"selection_glyph\":null,\"view\":{\"id\":\"38866\",\"type\":\"CDSView\"}},\"id\":\"38865\",\"type\":\"GlyphRenderer\"},{\"attributes\":{\"label\":{\"value\":\"NO PARKING-DAY/TIME LIMITS\"},\"renderers\":[{\"id\":\"38865\",\"type\":\"GlyphRenderer\"}]},\"id\":\"38902\",\"type\":\"LegendItem\"},{\"attributes\":{\"label\":{\"value\":\"FIRE HYDRANT\"},\"renderers\":[{\"id\":\"38877\",\"type\":\"GlyphRenderer\"}]},\"id\":\"38904\",\"type\":\"LegendItem\"},{\"attributes\":{\"fill_alpha\":{\"value\":0.09},\"fill_color\":{\"value\":\"#c5b0d5\"},\"line_alpha\":{\"value\":0.09},\"line_color\":{\"value\":\"#c5b0d5\"},\"top\":{\"field\":\"FAILURE TO STOP AT RED LIGHT\"},\"width\":{\"value\":0.5},\"x\":{\"field\":\"Month Number\"}},\"id\":\"38894\",\"type\":\"VBar\"},{\"attributes\":{\"data_source\":{\"id\":\"38803\",\"type\":\"ColumnDataSource\"},\"glyph\":{\"id\":\"38850\",\"type\":\"VBar\"},\"hover_glyph\":null,\"muted_glyph\":{\"id\":\"38852\",\"type\":\"VBar\"},\"nonselection_glyph\":{\"id\":\"38851\",\"type\":\"VBar\"},\"selection_glyph\":null,\"view\":{\"id\":\"38854\",\"type\":\"CDSView\"}},\"id\":\"38853\",\"type\":\"GlyphRenderer\"},{\"attributes\":{\"fill_alpha\":{\"value\":0.1},\"fill_color\":{\"value\":\"#1f77b4\"},\"line_alpha\":{\"value\":0.1},\"line_color\":{\"value\":\"#1f77b4\"},\"top\":{\"field\":\"FAILURE TO STOP AT RED LIGHT\"},\"width\":{\"value\":0.5},\"x\":{\"field\":\"Month Number\"}},\"id\":\"38893\",\"type\":\"VBar\"},{\"attributes\":{\"source\":{\"id\":\"38803\",\"type\":\"ColumnDataSource\"}},\"id\":\"38866\",\"type\":\"CDSView\"},{\"attributes\":{},\"id\":\"39532\",\"type\":\"CategoricalTickFormatter\"},{\"attributes\":{\"fill_alpha\":{\"value\":0.1},\"fill_color\":{\"value\":\"#1f77b4\"},\"line_alpha\":{\"value\":0.1},\"line_color\":{\"value\":\"#1f77b4\"},\"top\":{\"field\":\"NO PARKING-DAY/TIME LIMITS\"},\"width\":{\"value\":0.5},\"x\":{\"field\":\"Month Number\"}},\"id\":\"38863\",\"type\":\"VBar\"},{\"attributes\":{\"source\":{\"id\":\"38803\",\"type\":\"ColumnDataSource\"}},\"id\":\"38884\",\"type\":\"CDSView\"},{\"attributes\":{\"fill_alpha\":{\"value\":0.09},\"fill_color\":{\"value\":\"#ffbb78\"},\"line_alpha\":{\"value\":0.09},\"line_color\":{\"value\":\"#ffbb78\"},\"top\":{\"field\":\"NO STANDING-DAY/TIME LIMITS\"},\"width\":{\"value\":0.5},\"x\":{\"field\":\"Month Number\"}},\"id\":\"38858\",\"type\":\"VBar\"},{\"attributes\":{\"data_source\":{\"id\":\"38803\",\"type\":\"ColumnDataSource\"},\"glyph\":{\"id\":\"38880\",\"type\":\"VBar\"},\"hover_glyph\":null,\"muted_glyph\":{\"id\":\"38882\",\"type\":\"VBar\"},\"nonselection_glyph\":{\"id\":\"38881\",\"type\":\"VBar\"},\"selection_glyph\":null,\"view\":{\"id\":\"38884\",\"type\":\"CDSView\"}},\"id\":\"38883\",\"type\":\"GlyphRenderer\"},{\"attributes\":{\"fill_alpha\":{\"value\":0.1},\"fill_color\":{\"value\":\"#1f77b4\"},\"line_alpha\":{\"value\":0.1},\"line_color\":{\"value\":\"#1f77b4\"},\"top\":{\"field\":\"EXPIRED MUNI METER\"},\"width\":{\"value\":0.5},\"x\":{\"field\":\"Month Number\"}},\"id\":\"38887\",\"type\":\"VBar\"},{\"attributes\":{\"fill_alpha\":{\"value\":0.1},\"fill_color\":{\"value\":\"#1f77b4\"},\"line_alpha\":{\"value\":0.1},\"line_color\":{\"value\":\"#1f77b4\"},\"top\":{\"field\":\"PHTO SCHOOL ZN SPEED VIOLATION\"},\"width\":{\"value\":0.5},\"x\":{\"field\":\"Month Number\"}},\"id\":\"38851\",\"type\":\"VBar\"},{\"attributes\":{\"fill_alpha\":{\"value\":0.1},\"fill_color\":{\"value\":\"#1f77b4\"},\"line_alpha\":{\"value\":0.1},\"line_color\":{\"value\":\"#1f77b4\"},\"top\":{\"field\":\"FIRE HYDRANT\"},\"width\":{\"value\":0.5},\"x\":{\"field\":\"Month Number\"}},\"id\":\"38875\",\"type\":\"VBar\"},{\"attributes\":{\"fill_alpha\":{\"value\":0.09},\"fill_color\":{\"value\":\"#aec7e8\"},\"line_alpha\":{\"value\":0.09},\"line_color\":{\"value\":\"#aec7e8\"},\"top\":{\"field\":\"FAIL TO DSPLY MUNI METER RECPT\"},\"width\":{\"value\":0.5},\"x\":{\"field\":\"Month Number\"}},\"id\":\"38846\",\"type\":\"VBar\"},{\"attributes\":{\"fill_alpha\":{\"value\":0.09},\"fill_color\":{\"value\":\"#ff9896\"},\"line_alpha\":{\"value\":0.09},\"line_color\":{\"value\":\"#ff9896\"},\"top\":{\"field\":\"INSP. STICKER-EXPIRED/MISSING\"},\"width\":{\"value\":0.5},\"x\":{\"field\":\"Month Number\"}},\"id\":\"38882\",\"type\":\"VBar\"},{\"attributes\":{\"active_drag\":\"auto\",\"active_inspect\":\"auto\",\"active_multi\":null,\"active_scroll\":\"auto\",\"active_tap\":\"auto\",\"tools\":[{\"id\":\"38824\",\"type\":\"PanTool\"},{\"id\":\"38825\",\"type\":\"WheelZoomTool\"},{\"id\":\"38826\",\"type\":\"BoxZoomTool\"},{\"id\":\"38827\",\"type\":\"SaveTool\"},{\"id\":\"38828\",\"type\":\"ResetTool\"},{\"id\":\"38829\",\"type\":\"HelpTool\"}]},\"id\":\"38830\",\"type\":\"Toolbar\"},{\"attributes\":{\"label\":{\"value\":\"NO STANDING-DAY/TIME LIMITS\"},\"renderers\":[{\"id\":\"38859\",\"type\":\"GlyphRenderer\"}]},\"id\":\"38901\",\"type\":\"LegendItem\"},{\"attributes\":{\"label\":{\"value\":\"EXPIRED MUNI METER\"},\"renderers\":[{\"id\":\"38889\",\"type\":\"GlyphRenderer\"}]},\"id\":\"38906\",\"type\":\"LegendItem\"},{\"attributes\":{\"data_source\":{\"id\":\"38803\",\"type\":\"ColumnDataSource\"},\"glyph\":{\"id\":\"38856\",\"type\":\"VBar\"},\"hover_glyph\":null,\"muted_glyph\":{\"id\":\"38858\",\"type\":\"VBar\"},\"nonselection_glyph\":{\"id\":\"38857\",\"type\":\"VBar\"},\"selection_glyph\":null,\"view\":{\"id\":\"38860\",\"type\":\"CDSView\"}},\"id\":\"38859\",\"type\":\"GlyphRenderer\"},{\"attributes\":{\"data_source\":{\"id\":\"38803\",\"type\":\"ColumnDataSource\"},\"glyph\":{\"id\":\"38886\",\"type\":\"VBar\"},\"hover_glyph\":null,\"muted_glyph\":{\"id\":\"38888\",\"type\":\"VBar\"},\"nonselection_glyph\":{\"id\":\"38887\",\"type\":\"VBar\"},\"selection_glyph\":null,\"view\":{\"id\":\"38890\",\"type\":\"CDSView\"}},\"id\":\"38889\",\"type\":\"GlyphRenderer\"},{\"attributes\":{},\"id\":\"38829\",\"type\":\"HelpTool\"},{\"attributes\":{\"fill_alpha\":{\"value\":0.1},\"fill_color\":{\"value\":\"#1f77b4\"},\"line_alpha\":{\"value\":0.1},\"line_color\":{\"value\":\"#1f77b4\"},\"top\":{\"field\":\"INSP. STICKER-EXPIRED/MISSING\"},\"width\":{\"value\":0.5},\"x\":{\"field\":\"Month Number\"}},\"id\":\"38881\",\"type\":\"VBar\"},{\"attributes\":{\"fill_alpha\":{\"value\":0.09},\"fill_color\":{\"value\":\"#9467bd\"},\"line_alpha\":{\"value\":0.09},\"line_color\":{\"value\":\"#9467bd\"},\"top\":{\"field\":\"EXPIRED MUNI METER\"},\"width\":{\"value\":0.5},\"x\":{\"field\":\"Month Number\"}},\"id\":\"38888\",\"type\":\"VBar\"},{\"attributes\":{\"source\":{\"id\":\"38803\",\"type\":\"ColumnDataSource\"}},\"id\":\"38890\",\"type\":\"CDSView\"},{\"attributes\":{},\"id\":\"39534\",\"type\":\"BasicTickFormatter\"},{\"attributes\":{\"source\":{\"id\":\"38803\",\"type\":\"ColumnDataSource\"}},\"id\":\"38872\",\"type\":\"CDSView\"},{\"attributes\":{\"source\":{\"id\":\"38803\",\"type\":\"ColumnDataSource\"}},\"id\":\"38896\",\"type\":\"CDSView\"},{\"attributes\":{\"fill_alpha\":{\"value\":3},\"fill_color\":{\"value\":\"#ffbb78\"},\"line_alpha\":{\"value\":3},\"line_color\":{\"value\":\"#ffbb78\"},\"top\":{\"field\":\"NO STANDING-DAY/TIME LIMITS\"},\"width\":{\"value\":0.5},\"x\":{\"field\":\"Month Number\"}},\"id\":\"38856\",\"type\":\"VBar\"},{\"attributes\":{\"fill_alpha\":{\"value\":3},\"fill_color\":{\"value\":\"#ff9896\"},\"line_alpha\":{\"value\":3},\"line_color\":{\"value\":\"#ff9896\"},\"top\":{\"field\":\"INSP. STICKER-EXPIRED/MISSING\"},\"width\":{\"value\":0.5},\"x\":{\"field\":\"Month Number\"}},\"id\":\"38880\",\"type\":\"VBar\"},{\"attributes\":{\"bottom_units\":\"screen\",\"fill_alpha\":{\"value\":0.5},\"fill_color\":{\"value\":\"lightgrey\"},\"left_units\":\"screen\",\"level\":\"overlay\",\"line_alpha\":{\"value\":1.0},\"line_color\":{\"value\":\"black\"},\"line_dash\":[4,4],\"line_width\":{\"value\":2},\"render_mode\":\"css\",\"right_units\":\"screen\",\"top_units\":\"screen\"},\"id\":\"39535\",\"type\":\"BoxAnnotation\"},{\"attributes\":{\"fill_alpha\":{\"value\":3},\"fill_color\":{\"value\":\"#d62728\"},\"line_alpha\":{\"value\":3},\"line_color\":{\"value\":\"#d62728\"},\"top\":{\"field\":\"FIRE HYDRANT\"},\"width\":{\"value\":0.5},\"x\":{\"field\":\"Month Number\"}},\"id\":\"38874\",\"type\":\"VBar\"},{\"attributes\":{\"fill_alpha\":{\"value\":0.09},\"fill_color\":{\"value\":\"#98df8a\"},\"line_alpha\":{\"value\":0.09},\"line_color\":{\"value\":\"#98df8a\"},\"top\":{\"field\":\"DOUBLE PARKING\"},\"width\":{\"value\":0.5},\"x\":{\"field\":\"Month Number\"}},\"id\":\"38870\",\"type\":\"VBar\"},{\"attributes\":{\"callback\":null,\"data\":{\"DOUBLE PARKING\":[10393,9159,9951,8915,9291,8208,10375,10708,9698,12367,10413,8695],\"EXPIRED MUNI METER\":[8223,7661,8545,7866,7468,6924,8110,8613,8284,10159,8371,7007],\"FAIL TO DSPLY MUNI METER RECPT\":[21182,18862,19320,17644,16741,16492,19772,21205,18712,23949,21201,17727],\"FAILURE TO STOP AT RED LIGHT\":[5778,5699,7013,6728,8649,9070,9682,9695,8491,8948,7449,7195],\"FIRE HYDRANT\":[9853,8474,9156,8317,8443,8214,8868,9513,9492,11422,10237,8923],\"INSP. STICKER-EXPIRED/MISSING\":[10194,7739,8034,8298,8620,8426,9842,10277,9399,10951,9394,9104],\"Month Number\":[1,2,3,4,5,6,7,8,9,10,11,12],\"NO PARKING-DAY/TIME LIMITS\":[13224,11274,12319,11572,11539,11244,14507,15500,14347,16731,14387,12067],\"NO PARKING-STREET CLEANING\":[33810,23081,27945,25145,31805,24889,37676,33313,24646,35256,29365,33598],\"NO STANDING-DAY/TIME LIMITS\":[17098,15721,17258,16478,16123,14804,17284,18189,16436,19869,18058,15344],\"PHTO SCHOOL ZN SPEED VIOLATION\":[27540,16599,23128,18065,25706,14470,9207,592,16084,26381,20698,21172],\"index\":[0,1,2,3,4,5,6,7,8,9,10,11]},\"selected\":{\"id\":\"39537\",\"type\":\"Selection\"},\"selection_policy\":{\"id\":\"39536\",\"type\":\"UnionRenderers\"}},\"id\":\"38803\",\"type\":\"ColumnDataSource\"},{\"attributes\":{\"source\":{\"id\":\"38803\",\"type\":\"ColumnDataSource\"}},\"id\":\"38842\",\"type\":\"CDSView\"},{\"attributes\":{\"source\":{\"id\":\"38803\",\"type\":\"ColumnDataSource\"}},\"id\":\"38848\",\"type\":\"CDSView\"},{\"attributes\":{\"fill_alpha\":{\"value\":3},\"fill_color\":{\"value\":\"#aec7e8\"},\"line_alpha\":{\"value\":3},\"line_color\":{\"value\":\"#aec7e8\"},\"top\":{\"field\":\"FAIL TO DSPLY MUNI METER RECPT\"},\"width\":{\"value\":0.5},\"x\":{\"field\":\"Month Number\"}},\"id\":\"38844\",\"type\":\"VBar\"},{\"attributes\":{\"fill_alpha\":{\"value\":0.1},\"fill_color\":{\"value\":\"#1f77b4\"},\"line_alpha\":{\"value\":0.1},\"line_color\":{\"value\":\"#1f77b4\"},\"top\":{\"field\":\"FAIL TO DSPLY MUNI METER RECPT\"},\"width\":{\"value\":0.5},\"x\":{\"field\":\"Month Number\"}},\"id\":\"38845\",\"type\":\"VBar\"},{\"attributes\":{\"fill_alpha\":{\"value\":3},\"fill_color\":{\"value\":\"#ff7f0e\"},\"line_alpha\":{\"value\":3},\"line_color\":{\"value\":\"#ff7f0e\"},\"top\":{\"field\":\"PHTO SCHOOL ZN SPEED VIOLATION\"},\"width\":{\"value\":0.5},\"x\":{\"field\":\"Month Number\"}},\"id\":\"38850\",\"type\":\"VBar\"},{\"attributes\":{},\"id\":\"39537\",\"type\":\"Selection\"},{\"attributes\":{\"fill_alpha\":{\"value\":3},\"fill_color\":{\"value\":\"#c5b0d5\"},\"line_alpha\":{\"value\":3},\"line_color\":{\"value\":\"#c5b0d5\"},\"top\":{\"field\":\"FAILURE TO STOP AT RED LIGHT\"},\"width\":{\"value\":0.5},\"x\":{\"field\":\"Month Number\"}},\"id\":\"38892\",\"type\":\"VBar\"},{\"attributes\":{\"label\":{\"value\":\"INSP. STICKER-EXPIRED/MISSING\"},\"renderers\":[{\"id\":\"38883\",\"type\":\"GlyphRenderer\"}]},\"id\":\"38905\",\"type\":\"LegendItem\"},{\"attributes\":{\"fill_alpha\":{\"value\":0.09},\"fill_color\":{\"value\":\"#1f77b4\"},\"line_alpha\":{\"value\":0.09},\"line_color\":{\"value\":\"#1f77b4\"},\"top\":{\"field\":\"NO PARKING-STREET CLEANING\"},\"width\":{\"value\":0.5},\"x\":{\"field\":\"Month Number\"}},\"id\":\"38840\",\"type\":\"VBar\"},{\"attributes\":{},\"id\":\"38828\",\"type\":\"ResetTool\"},{\"attributes\":{},\"id\":\"38813\",\"type\":\"LinearScale\"},{\"attributes\":{},\"id\":\"38827\",\"type\":\"SaveTool\"},{\"attributes\":{\"callback\":null,\"factors\":[\"0\",\"1\",\"2\",\"3\",\"4\",\"5\",\"6\",\"7\",\"8\",\"9\",\"10\",\"11\"],\"range_padding\":0.04},\"id\":\"38804\",\"type\":\"FactorRange\"},{\"attributes\":{},\"id\":\"38811\",\"type\":\"CategoricalScale\"},{\"attributes\":{},\"id\":\"38820\",\"type\":\"BasicTicker\"},{\"attributes\":{},\"id\":\"38825\",\"type\":\"WheelZoomTool\"},{\"attributes\":{\"ticker\":{\"id\":\"38816\",\"type\":\"CategoricalTicker\"}},\"id\":\"38818\",\"type\":\"Grid\"},{\"attributes\":{\"axis_label\":\"Month Number\",\"formatter\":{\"id\":\"39532\",\"type\":\"CategoricalTickFormatter\"},\"ticker\":{\"id\":\"38816\",\"type\":\"CategoricalTicker\"}},\"id\":\"38815\",\"type\":\"CategoricalAxis\"},{\"attributes\":{\"callback\":null},\"id\":\"38809\",\"type\":\"DataRange1d\"},{\"attributes\":{\"dimension\":1,\"ticker\":{\"id\":\"38820\",\"type\":\"BasicTicker\"}},\"id\":\"38823\",\"type\":\"Grid\"},{\"attributes\":{\"click_policy\":\"mute\",\"items\":[{\"id\":\"38898\",\"type\":\"LegendItem\"},{\"id\":\"38899\",\"type\":\"LegendItem\"},{\"id\":\"38900\",\"type\":\"LegendItem\"},{\"id\":\"38901\",\"type\":\"LegendItem\"},{\"id\":\"38902\",\"type\":\"LegendItem\"},{\"id\":\"38903\",\"type\":\"LegendItem\"},{\"id\":\"38904\",\"type\":\"LegendItem\"},{\"id\":\"38905\",\"type\":\"LegendItem\"},{\"id\":\"38906\",\"type\":\"LegendItem\"},{\"id\":\"38907\",\"type\":\"LegendItem\"}],\"location\":[0,50]},\"id\":\"38897\",\"type\":\"Legend\"},{\"attributes\":{\"label\":{\"value\":\"FAILURE TO STOP AT RED LIGHT\"},\"renderers\":[{\"id\":\"38895\",\"type\":\"GlyphRenderer\"}]},\"id\":\"38907\",\"type\":\"LegendItem\"},{\"attributes\":{\"fill_alpha\":{\"value\":0.1},\"fill_color\":{\"value\":\"#1f77b4\"},\"line_alpha\":{\"value\":0.1},\"line_color\":{\"value\":\"#1f77b4\"},\"top\":{\"field\":\"NO PARKING-STREET CLEANING\"},\"width\":{\"value\":0.5},\"x\":{\"field\":\"Month Number\"}},\"id\":\"38839\",\"type\":\"VBar\"},{\"attributes\":{\"fill_alpha\":{\"value\":3},\"fill_color\":{\"value\":\"#1f77b4\"},\"line_alpha\":{\"value\":3},\"line_color\":{\"value\":\"#1f77b4\"},\"top\":{\"field\":\"NO PARKING-STREET CLEANING\"},\"width\":{\"value\":0.5},\"x\":{\"field\":\"Month Number\"}},\"id\":\"38838\",\"type\":\"VBar\"},{\"attributes\":{\"axis_label\":\"# of fines\",\"formatter\":{\"id\":\"39534\",\"type\":\"BasicTickFormatter\"},\"ticker\":{\"id\":\"38820\",\"type\":\"BasicTicker\"}},\"id\":\"38819\",\"type\":\"LinearAxis\"},{\"attributes\":{\"overlay\":{\"id\":\"39535\",\"type\":\"BoxAnnotation\"}},\"id\":\"38826\",\"type\":\"BoxZoomTool\"},{\"attributes\":{},\"id\":\"38824\",\"type\":\"PanTool\"},{\"attributes\":{\"data_source\":{\"id\":\"38803\",\"type\":\"ColumnDataSource\"},\"glyph\":{\"id\":\"38838\",\"type\":\"VBar\"},\"hover_glyph\":null,\"muted_glyph\":{\"id\":\"38840\",\"type\":\"VBar\"},\"nonselection_glyph\":{\"id\":\"38839\",\"type\":\"VBar\"},\"selection_glyph\":null,\"view\":{\"id\":\"38842\",\"type\":\"CDSView\"}},\"id\":\"38841\",\"type\":\"GlyphRenderer\"},{\"attributes\":{},\"id\":\"38816\",\"type\":\"CategoricalTicker\"},{\"attributes\":{\"text\":\"Distibution of # of fines for top 10 violations pr. Month Number\"},\"id\":\"38806\",\"type\":\"Title\"},{\"attributes\":{\"label\":{\"value\":\"DOUBLE PARKING\"},\"renderers\":[{\"id\":\"38871\",\"type\":\"GlyphRenderer\"}]},\"id\":\"38903\",\"type\":\"LegendItem\"}],\"root_ids\":[\"38805\"]},\"title\":\"Bokeh Application\",\"version\":\"1.3.4\"}};\n",
       "  var render_items = [{\"docid\":\"ea9107cf-c5c6-4968-8ffc-cd00303057d6\",\"roots\":{\"38805\":\"2264df04-787e-449e-ac4f-0a64fd1175c0\"}}];\n",
       "  root.Bokeh.embed.embed_items_notebook(docs_json, render_items);\n",
       "\n",
       "  }\n",
       "  if (root.Bokeh !== undefined) {\n",
       "    embed_document(root);\n",
       "  } else {\n",
       "    var attempts = 0;\n",
       "    var timer = setInterval(function(root) {\n",
       "      if (root.Bokeh !== undefined) {\n",
       "        embed_document(root);\n",
       "        clearInterval(timer);\n",
       "      }\n",
       "      attempts++;\n",
       "      if (attempts > 100) {\n",
       "        console.log(\"Bokeh: ERROR: Unable to run BokehJS code because BokehJS library is missing\");\n",
       "        clearInterval(timer);\n",
       "      }\n",
       "    }, 10, root)\n",
       "  }\n",
       "})(window);"
      ],
      "application/vnd.bokehjs_exec.v0+json": ""
     },
     "metadata": {
      "application/vnd.bokehjs_exec.v0+json": {
       "id": "38805"
      }
     },
     "output_type": "display_data"
    },
    {
     "data": {
      "text/html": [
       "\n",
       "\n",
       "\n",
       "\n",
       "\n",
       "\n",
       "  <div class=\"bk-root\" id=\"e1f68cc7-647c-404a-9c4e-00bfd0625093\" data-root-id=\"39588\"></div>\n"
      ]
     },
     "metadata": {},
     "output_type": "display_data"
    },
    {
     "data": {
      "application/javascript": [
       "(function(root) {\n",
       "  function embed_document(root) {\n",
       "    \n",
       "  var docs_json = {\"aa21e6a4-1b74-4636-a4f6-f8e281f6bf0c\":{\"roots\":{\"references\":[{\"attributes\":{\"below\":[{\"id\":\"39598\",\"type\":\"CategoricalAxis\"}],\"center\":[{\"id\":\"39601\",\"type\":\"Grid\"},{\"id\":\"39606\",\"type\":\"Grid\"}],\"left\":[{\"id\":\"39602\",\"type\":\"LinearAxis\"},{\"id\":\"39680\",\"type\":\"Legend\"}],\"plot_height\":500,\"plot_width\":1200,\"renderers\":[{\"id\":\"39624\",\"type\":\"GlyphRenderer\"},{\"id\":\"39630\",\"type\":\"GlyphRenderer\"},{\"id\":\"39636\",\"type\":\"GlyphRenderer\"},{\"id\":\"39642\",\"type\":\"GlyphRenderer\"},{\"id\":\"39648\",\"type\":\"GlyphRenderer\"},{\"id\":\"39654\",\"type\":\"GlyphRenderer\"},{\"id\":\"39660\",\"type\":\"GlyphRenderer\"},{\"id\":\"39666\",\"type\":\"GlyphRenderer\"},{\"id\":\"39672\",\"type\":\"GlyphRenderer\"},{\"id\":\"39678\",\"type\":\"GlyphRenderer\"}],\"title\":{\"id\":\"39589\",\"type\":\"Title\"},\"toolbar\":{\"id\":\"39613\",\"type\":\"Toolbar\"},\"toolbar_location\":null,\"x_range\":{\"id\":\"39587\",\"type\":\"FactorRange\"},\"x_scale\":{\"id\":\"39594\",\"type\":\"CategoricalScale\"},\"y_range\":{\"id\":\"39592\",\"type\":\"DataRange1d\"},\"y_scale\":{\"id\":\"39596\",\"type\":\"LinearScale\"}},\"id\":\"39588\",\"subtype\":\"Figure\",\"type\":\"Plot\"},{\"attributes\":{\"fill_alpha\":{\"value\":0.1},\"fill_color\":{\"value\":\"#1f77b4\"},\"line_alpha\":{\"value\":0.1},\"line_color\":{\"value\":\"#1f77b4\"},\"top\":{\"field\":\"PHTO SCHOOL ZN SPEED VIOLATION\"},\"width\":{\"value\":0.5},\"x\":{\"field\":\"Day Number\"}},\"id\":\"39634\",\"type\":\"VBar\"},{\"attributes\":{\"source\":{\"id\":\"39586\",\"type\":\"ColumnDataSource\"}},\"id\":\"39667\",\"type\":\"CDSView\"},{\"attributes\":{\"label\":{\"value\":\"INSP. STICKER-EXPIRED/MISSING\"},\"renderers\":[{\"id\":\"39666\",\"type\":\"GlyphRenderer\"}]},\"id\":\"39688\",\"type\":\"LegendItem\"},{\"attributes\":{\"source\":{\"id\":\"39586\",\"type\":\"ColumnDataSource\"}},\"id\":\"39637\",\"type\":\"CDSView\"},{\"attributes\":{\"fill_alpha\":{\"value\":0.1},\"fill_color\":{\"value\":\"#1f77b4\"},\"line_alpha\":{\"value\":0.1},\"line_color\":{\"value\":\"#1f77b4\"},\"top\":{\"field\":\"NO STANDING-DAY/TIME LIMITS\"},\"width\":{\"value\":0.5},\"x\":{\"field\":\"Day Number\"}},\"id\":\"39640\",\"type\":\"VBar\"},{\"attributes\":{\"fill_alpha\":{\"value\":3},\"fill_color\":{\"value\":\"#2ca02c\"},\"line_alpha\":{\"value\":3},\"line_color\":{\"value\":\"#2ca02c\"},\"top\":{\"field\":\"NO PARKING-DAY/TIME LIMITS\"},\"width\":{\"value\":0.5},\"x\":{\"field\":\"Day Number\"}},\"id\":\"39645\",\"type\":\"VBar\"},{\"attributes\":{\"source\":{\"id\":\"39586\",\"type\":\"ColumnDataSource\"}},\"id\":\"39661\",\"type\":\"CDSView\"},{\"attributes\":{\"label\":{\"value\":\"DOUBLE PARKING\"},\"renderers\":[{\"id\":\"39654\",\"type\":\"GlyphRenderer\"}]},\"id\":\"39686\",\"type\":\"LegendItem\"},{\"attributes\":{\"label\":{\"value\":\"PHTO SCHOOL ZN SPEED VIOLATION\"},\"renderers\":[{\"id\":\"39636\",\"type\":\"GlyphRenderer\"}]},\"id\":\"39683\",\"type\":\"LegendItem\"},{\"attributes\":{\"callback\":null,\"data\":{\"DOUBLE PARKING\":{\"__ndarray__\":\"AAAAAEBd0EAAAAAAwLvVQAAAAABApNVAAAAAAACW1UAAAAAAwKHUQAAAAACAZMNAAAAAAAAArkA=\",\"dtype\":\"float64\",\"shape\":[7]},\"Day Number\":[0,1,2,3,4,5,6],\"EXPIRED MUNI METER\":{\"__ndarray__\":\"AAAAAACLykAAAAAAgLrQQAAAAABAztJAAAAAAEAM0UAAAAAAgL7PQAAAAAAAcspAAAAAAAAAEEA=\",\"dtype\":\"float64\",\"shape\":[7]},\"FAIL TO DSPLY MUNI METER RECPT\":{\"__ndarray__\":\"AAAAAMBq4EAAAAAAgEfiQAAAAACg0ORAAAAAAODd4kAAAAAAoDviQAAAAABADOVAAAAAAAAAQUA=\",\"dtype\":\"float64\",\"shape\":[7]},\"FAILURE TO STOP AT RED LIGHT\":{\"__ndarray__\":\"AAAAAICLx0AAAAAAgBfJQAAAAACA3slAAAAAAADIykAAAAAAgI3LQAAAAACAC81AAAAAAAB8ykA=\",\"dtype\":\"float64\",\"shape\":[7]},\"FIRE HYDRANT\":{\"__ndarray__\":\"AAAAAAD4ykAAAAAAAPrQQAAAAACAydJAAAAAAEC90EAAAAAAQCfQQAAAAACAvc5AAAAAAICaxUA=\",\"dtype\":\"float64\",\"shape\":[7]},\"INSP. STICKER-EXPIRED/MISSING\":{\"__ndarray__\":\"AAAAAECG0EAAAAAAwAnRQAAAAAAAJdNAAAAAAMDC0UAAAAAAgN7OQAAAAACAbc1AAAAAAABPvEA=\",\"dtype\":\"float64\",\"shape\":[7]},\"NO PARKING-DAY/TIME LIMITS\":{\"__ndarray__\":\"AAAAAMDP10AAAAAAwNnaQAAAAABAA91AAAAAAMDa2kAAAAAAALHZQAAAAACAl8xAAAAAAADzwEA=\",\"dtype\":\"float64\",\"shape\":[7]},\"NO PARKING-STREET CLEANING\":{\"__ndarray__\":\"AAAAAHBW8EAAAAAAMBLyQAAAAACgDeBAAAAAAODh8kAAAAAAILX1QAAAAACA4tNAAAAAAAAAWEA=\",\"dtype\":\"float64\",\"shape\":[7]},\"NO STANDING-DAY/TIME LIMITS\":{\"__ndarray__\":\"AAAAAAAD30AAAAAAoCDhQAAAAACgBeJAAAAAAIB94UAAAAAAYP3gQAAAAAAARdBAAAAAAIC+xkA=\",\"dtype\":\"float64\",\"shape\":[7]},\"PHTO SCHOOL ZN SPEED VIOLATION\":{\"__ndarray__\":\"AAAAAKDX40AAAAAAAIvjQAAAAAAgcOdAAAAAAIAe5kAAAAAAwE3mQAAAAAAAAABAAAAAAAAA+H8=\",\"dtype\":\"float64\",\"shape\":[7]},\"index\":[0,1,2,3,4,5,6]},\"selected\":{\"id\":\"40328\",\"type\":\"Selection\"},\"selection_policy\":{\"id\":\"40327\",\"type\":\"UnionRenderers\"}},\"id\":\"39586\",\"type\":\"ColumnDataSource\"},{\"attributes\":{\"data_source\":{\"id\":\"39586\",\"type\":\"ColumnDataSource\"},\"glyph\":{\"id\":\"39633\",\"type\":\"VBar\"},\"hover_glyph\":null,\"muted_glyph\":{\"id\":\"39635\",\"type\":\"VBar\"},\"nonselection_glyph\":{\"id\":\"39634\",\"type\":\"VBar\"},\"selection_glyph\":null,\"view\":{\"id\":\"39637\",\"type\":\"CDSView\"}},\"id\":\"39636\",\"type\":\"GlyphRenderer\"},{\"attributes\":{\"fill_alpha\":{\"value\":0.09},\"fill_color\":{\"value\":\"#ffbb78\"},\"line_alpha\":{\"value\":0.09},\"line_color\":{\"value\":\"#ffbb78\"},\"top\":{\"field\":\"NO STANDING-DAY/TIME LIMITS\"},\"width\":{\"value\":0.5},\"x\":{\"field\":\"Day Number\"}},\"id\":\"39641\",\"type\":\"VBar\"},{\"attributes\":{\"fill_alpha\":{\"value\":0.1},\"fill_color\":{\"value\":\"#1f77b4\"},\"line_alpha\":{\"value\":0.1},\"line_color\":{\"value\":\"#1f77b4\"},\"top\":{\"field\":\"NO PARKING-DAY/TIME LIMITS\"},\"width\":{\"value\":0.5},\"x\":{\"field\":\"Day Number\"}},\"id\":\"39646\",\"type\":\"VBar\"},{\"attributes\":{\"fill_alpha\":{\"value\":0.09},\"fill_color\":{\"value\":\"#aec7e8\"},\"line_alpha\":{\"value\":0.09},\"line_color\":{\"value\":\"#aec7e8\"},\"top\":{\"field\":\"FAIL TO DSPLY MUNI METER RECPT\"},\"width\":{\"value\":0.5},\"x\":{\"field\":\"Day Number\"}},\"id\":\"39629\",\"type\":\"VBar\"},{\"attributes\":{\"dimension\":1,\"ticker\":{\"id\":\"39603\",\"type\":\"BasicTicker\"}},\"id\":\"39606\",\"type\":\"Grid\"},{\"attributes\":{\"source\":{\"id\":\"39586\",\"type\":\"ColumnDataSource\"}},\"id\":\"39643\",\"type\":\"CDSView\"},{\"attributes\":{\"source\":{\"id\":\"39586\",\"type\":\"ColumnDataSource\"}},\"id\":\"39649\",\"type\":\"CDSView\"},{\"attributes\":{\"fill_alpha\":{\"value\":0.09},\"fill_color\":{\"value\":\"#ff9896\"},\"line_alpha\":{\"value\":0.09},\"line_color\":{\"value\":\"#ff9896\"},\"top\":{\"field\":\"INSP. STICKER-EXPIRED/MISSING\"},\"width\":{\"value\":0.5},\"x\":{\"field\":\"Day Number\"}},\"id\":\"39665\",\"type\":\"VBar\"},{\"attributes\":{\"fill_alpha\":{\"value\":0.09},\"fill_color\":{\"value\":\"#c5b0d5\"},\"line_alpha\":{\"value\":0.09},\"line_color\":{\"value\":\"#c5b0d5\"},\"top\":{\"field\":\"FAILURE TO STOP AT RED LIGHT\"},\"width\":{\"value\":0.5},\"x\":{\"field\":\"Day Number\"}},\"id\":\"39677\",\"type\":\"VBar\"},{\"attributes\":{\"fill_alpha\":{\"value\":3},\"fill_color\":{\"value\":\"#aec7e8\"},\"line_alpha\":{\"value\":3},\"line_color\":{\"value\":\"#aec7e8\"},\"top\":{\"field\":\"FAIL TO DSPLY MUNI METER RECPT\"},\"width\":{\"value\":0.5},\"x\":{\"field\":\"Day Number\"}},\"id\":\"39627\",\"type\":\"VBar\"},{\"attributes\":{\"fill_alpha\":{\"value\":0.09},\"fill_color\":{\"value\":\"#9467bd\"},\"line_alpha\":{\"value\":0.09},\"line_color\":{\"value\":\"#9467bd\"},\"top\":{\"field\":\"EXPIRED MUNI METER\"},\"width\":{\"value\":0.5},\"x\":{\"field\":\"Day Number\"}},\"id\":\"39671\",\"type\":\"VBar\"},{\"attributes\":{\"fill_alpha\":{\"value\":3},\"fill_color\":{\"value\":\"#ff7f0e\"},\"line_alpha\":{\"value\":3},\"line_color\":{\"value\":\"#ff7f0e\"},\"top\":{\"field\":\"PHTO SCHOOL ZN SPEED VIOLATION\"},\"width\":{\"value\":0.5},\"x\":{\"field\":\"Day Number\"}},\"id\":\"39633\",\"type\":\"VBar\"},{\"attributes\":{\"source\":{\"id\":\"39586\",\"type\":\"ColumnDataSource\"}},\"id\":\"39679\",\"type\":\"CDSView\"},{\"attributes\":{\"data_source\":{\"id\":\"39586\",\"type\":\"ColumnDataSource\"},\"glyph\":{\"id\":\"39627\",\"type\":\"VBar\"},\"hover_glyph\":null,\"muted_glyph\":{\"id\":\"39629\",\"type\":\"VBar\"},\"nonselection_glyph\":{\"id\":\"39628\",\"type\":\"VBar\"},\"selection_glyph\":null,\"view\":{\"id\":\"39631\",\"type\":\"CDSView\"}},\"id\":\"39630\",\"type\":\"GlyphRenderer\"},{\"attributes\":{},\"id\":\"39610\",\"type\":\"SaveTool\"},{\"attributes\":{\"fill_alpha\":{\"value\":0.09},\"fill_color\":{\"value\":\"#ff7f0e\"},\"line_alpha\":{\"value\":0.09},\"line_color\":{\"value\":\"#ff7f0e\"},\"top\":{\"field\":\"PHTO SCHOOL ZN SPEED VIOLATION\"},\"width\":{\"value\":0.5},\"x\":{\"field\":\"Day Number\"}},\"id\":\"39635\",\"type\":\"VBar\"},{\"attributes\":{\"data_source\":{\"id\":\"39586\",\"type\":\"ColumnDataSource\"},\"glyph\":{\"id\":\"39675\",\"type\":\"VBar\"},\"hover_glyph\":null,\"muted_glyph\":{\"id\":\"39677\",\"type\":\"VBar\"},\"nonselection_glyph\":{\"id\":\"39676\",\"type\":\"VBar\"},\"selection_glyph\":null,\"view\":{\"id\":\"39679\",\"type\":\"CDSView\"}},\"id\":\"39678\",\"type\":\"GlyphRenderer\"},{\"attributes\":{\"label\":{\"value\":\"FAIL TO DSPLY MUNI METER RECPT\"},\"renderers\":[{\"id\":\"39630\",\"type\":\"GlyphRenderer\"}]},\"id\":\"39682\",\"type\":\"LegendItem\"},{\"attributes\":{\"label\":{\"value\":\"FIRE HYDRANT\"},\"renderers\":[{\"id\":\"39660\",\"type\":\"GlyphRenderer\"}]},\"id\":\"39687\",\"type\":\"LegendItem\"},{\"attributes\":{},\"id\":\"39607\",\"type\":\"PanTool\"},{\"attributes\":{\"active_drag\":\"auto\",\"active_inspect\":\"auto\",\"active_multi\":null,\"active_scroll\":\"auto\",\"active_tap\":\"auto\",\"tools\":[{\"id\":\"39607\",\"type\":\"PanTool\"},{\"id\":\"39608\",\"type\":\"WheelZoomTool\"},{\"id\":\"39609\",\"type\":\"BoxZoomTool\"},{\"id\":\"39610\",\"type\":\"SaveTool\"},{\"id\":\"39611\",\"type\":\"ResetTool\"},{\"id\":\"39612\",\"type\":\"HelpTool\"}]},\"id\":\"39613\",\"type\":\"Toolbar\"},{\"attributes\":{\"label\":{\"value\":\"NO STANDING-DAY/TIME LIMITS\"},\"renderers\":[{\"id\":\"39642\",\"type\":\"GlyphRenderer\"}]},\"id\":\"39684\",\"type\":\"LegendItem\"},{\"attributes\":{},\"id\":\"39608\",\"type\":\"WheelZoomTool\"},{\"attributes\":{\"fill_alpha\":{\"value\":0.1},\"fill_color\":{\"value\":\"#1f77b4\"},\"line_alpha\":{\"value\":0.1},\"line_color\":{\"value\":\"#1f77b4\"},\"top\":{\"field\":\"NO PARKING-STREET CLEANING\"},\"width\":{\"value\":0.5},\"x\":{\"field\":\"Day Number\"}},\"id\":\"39622\",\"type\":\"VBar\"},{\"attributes\":{\"overlay\":{\"id\":\"40326\",\"type\":\"BoxAnnotation\"}},\"id\":\"39609\",\"type\":\"BoxZoomTool\"},{\"attributes\":{\"label\":{\"value\":\"NO PARKING-STREET CLEANING\"},\"renderers\":[{\"id\":\"39624\",\"type\":\"GlyphRenderer\"}]},\"id\":\"39681\",\"type\":\"LegendItem\"},{\"attributes\":{\"fill_alpha\":{\"value\":3},\"fill_color\":{\"value\":\"#ff9896\"},\"line_alpha\":{\"value\":3},\"line_color\":{\"value\":\"#ff9896\"},\"top\":{\"field\":\"INSP. STICKER-EXPIRED/MISSING\"},\"width\":{\"value\":0.5},\"x\":{\"field\":\"Day Number\"}},\"id\":\"39663\",\"type\":\"VBar\"},{\"attributes\":{\"fill_alpha\":{\"value\":3},\"fill_color\":{\"value\":\"#c5b0d5\"},\"line_alpha\":{\"value\":3},\"line_color\":{\"value\":\"#c5b0d5\"},\"top\":{\"field\":\"FAILURE TO STOP AT RED LIGHT\"},\"width\":{\"value\":0.5},\"x\":{\"field\":\"Day Number\"}},\"id\":\"39675\",\"type\":\"VBar\"},{\"attributes\":{\"fill_alpha\":{\"value\":0.1},\"fill_color\":{\"value\":\"#1f77b4\"},\"line_alpha\":{\"value\":0.1},\"line_color\":{\"value\":\"#1f77b4\"},\"top\":{\"field\":\"INSP. STICKER-EXPIRED/MISSING\"},\"width\":{\"value\":0.5},\"x\":{\"field\":\"Day Number\"}},\"id\":\"39664\",\"type\":\"VBar\"},{\"attributes\":{\"label\":{\"value\":\"NO PARKING-DAY/TIME LIMITS\"},\"renderers\":[{\"id\":\"39648\",\"type\":\"GlyphRenderer\"}]},\"id\":\"39685\",\"type\":\"LegendItem\"},{\"attributes\":{\"data_source\":{\"id\":\"39586\",\"type\":\"ColumnDataSource\"},\"glyph\":{\"id\":\"39663\",\"type\":\"VBar\"},\"hover_glyph\":null,\"muted_glyph\":{\"id\":\"39665\",\"type\":\"VBar\"},\"nonselection_glyph\":{\"id\":\"39664\",\"type\":\"VBar\"},\"selection_glyph\":null,\"view\":{\"id\":\"39667\",\"type\":\"CDSView\"}},\"id\":\"39666\",\"type\":\"GlyphRenderer\"},{\"attributes\":{},\"id\":\"39611\",\"type\":\"ResetTool\"},{\"attributes\":{\"source\":{\"id\":\"39586\",\"type\":\"ColumnDataSource\"}},\"id\":\"39625\",\"type\":\"CDSView\"},{\"attributes\":{\"fill_alpha\":{\"value\":0.1},\"fill_color\":{\"value\":\"#1f77b4\"},\"line_alpha\":{\"value\":0.1},\"line_color\":{\"value\":\"#1f77b4\"},\"top\":{\"field\":\"FAIL TO DSPLY MUNI METER RECPT\"},\"width\":{\"value\":0.5},\"x\":{\"field\":\"Day Number\"}},\"id\":\"39628\",\"type\":\"VBar\"},{\"attributes\":{\"source\":{\"id\":\"39586\",\"type\":\"ColumnDataSource\"}},\"id\":\"39631\",\"type\":\"CDSView\"},{\"attributes\":{\"fill_alpha\":{\"value\":0.1},\"fill_color\":{\"value\":\"#1f77b4\"},\"line_alpha\":{\"value\":0.1},\"line_color\":{\"value\":\"#1f77b4\"},\"top\":{\"field\":\"EXPIRED MUNI METER\"},\"width\":{\"value\":0.5},\"x\":{\"field\":\"Day Number\"}},\"id\":\"39670\",\"type\":\"VBar\"},{\"attributes\":{\"fill_alpha\":{\"value\":0.09},\"fill_color\":{\"value\":\"#1f77b4\"},\"line_alpha\":{\"value\":0.09},\"line_color\":{\"value\":\"#1f77b4\"},\"top\":{\"field\":\"NO PARKING-STREET CLEANING\"},\"width\":{\"value\":0.5},\"x\":{\"field\":\"Day Number\"}},\"id\":\"39623\",\"type\":\"VBar\"},{\"attributes\":{\"fill_alpha\":{\"value\":0.09},\"fill_color\":{\"value\":\"#2ca02c\"},\"line_alpha\":{\"value\":0.09},\"line_color\":{\"value\":\"#2ca02c\"},\"top\":{\"field\":\"NO PARKING-DAY/TIME LIMITS\"},\"width\":{\"value\":0.5},\"x\":{\"field\":\"Day Number\"}},\"id\":\"39647\",\"type\":\"VBar\"},{\"attributes\":{\"fill_alpha\":{\"value\":3},\"fill_color\":{\"value\":\"#9467bd\"},\"line_alpha\":{\"value\":3},\"line_color\":{\"value\":\"#9467bd\"},\"top\":{\"field\":\"EXPIRED MUNI METER\"},\"width\":{\"value\":0.5},\"x\":{\"field\":\"Day Number\"}},\"id\":\"39669\",\"type\":\"VBar\"},{\"attributes\":{\"data_source\":{\"id\":\"39586\",\"type\":\"ColumnDataSource\"},\"glyph\":{\"id\":\"39639\",\"type\":\"VBar\"},\"hover_glyph\":null,\"muted_glyph\":{\"id\":\"39641\",\"type\":\"VBar\"},\"nonselection_glyph\":{\"id\":\"39640\",\"type\":\"VBar\"},\"selection_glyph\":null,\"view\":{\"id\":\"39643\",\"type\":\"CDSView\"}},\"id\":\"39642\",\"type\":\"GlyphRenderer\"},{\"attributes\":{\"fill_alpha\":{\"value\":0.1},\"fill_color\":{\"value\":\"#1f77b4\"},\"line_alpha\":{\"value\":0.1},\"line_color\":{\"value\":\"#1f77b4\"},\"top\":{\"field\":\"FAILURE TO STOP AT RED LIGHT\"},\"width\":{\"value\":0.5},\"x\":{\"field\":\"Day Number\"}},\"id\":\"39676\",\"type\":\"VBar\"},{\"attributes\":{\"fill_alpha\":{\"value\":3},\"fill_color\":{\"value\":\"#1f77b4\"},\"line_alpha\":{\"value\":3},\"line_color\":{\"value\":\"#1f77b4\"},\"top\":{\"field\":\"NO PARKING-STREET CLEANING\"},\"width\":{\"value\":0.5},\"x\":{\"field\":\"Day Number\"}},\"id\":\"39621\",\"type\":\"VBar\"},{\"attributes\":{},\"id\":\"39603\",\"type\":\"BasicTicker\"},{\"attributes\":{},\"id\":\"39612\",\"type\":\"HelpTool\"},{\"attributes\":{\"fill_alpha\":{\"value\":3},\"fill_color\":{\"value\":\"#ffbb78\"},\"line_alpha\":{\"value\":3},\"line_color\":{\"value\":\"#ffbb78\"},\"top\":{\"field\":\"NO STANDING-DAY/TIME LIMITS\"},\"width\":{\"value\":0.5},\"x\":{\"field\":\"Day Number\"}},\"id\":\"39639\",\"type\":\"VBar\"},{\"attributes\":{\"label\":{\"value\":\"FAILURE TO STOP AT RED LIGHT\"},\"renderers\":[{\"id\":\"39678\",\"type\":\"GlyphRenderer\"}]},\"id\":\"39690\",\"type\":\"LegendItem\"},{\"attributes\":{\"data_source\":{\"id\":\"39586\",\"type\":\"ColumnDataSource\"},\"glyph\":{\"id\":\"39669\",\"type\":\"VBar\"},\"hover_glyph\":null,\"muted_glyph\":{\"id\":\"39671\",\"type\":\"VBar\"},\"nonselection_glyph\":{\"id\":\"39670\",\"type\":\"VBar\"},\"selection_glyph\":null,\"view\":{\"id\":\"39673\",\"type\":\"CDSView\"}},\"id\":\"39672\",\"type\":\"GlyphRenderer\"},{\"attributes\":{\"data_source\":{\"id\":\"39586\",\"type\":\"ColumnDataSource\"},\"glyph\":{\"id\":\"39621\",\"type\":\"VBar\"},\"hover_glyph\":null,\"muted_glyph\":{\"id\":\"39623\",\"type\":\"VBar\"},\"nonselection_glyph\":{\"id\":\"39622\",\"type\":\"VBar\"},\"selection_glyph\":null,\"view\":{\"id\":\"39625\",\"type\":\"CDSView\"}},\"id\":\"39624\",\"type\":\"GlyphRenderer\"},{\"attributes\":{\"axis_label\":\"Day Number\",\"formatter\":{\"id\":\"40323\",\"type\":\"CategoricalTickFormatter\"},\"ticker\":{\"id\":\"39599\",\"type\":\"CategoricalTicker\"}},\"id\":\"39598\",\"type\":\"CategoricalAxis\"},{\"attributes\":{},\"id\":\"40323\",\"type\":\"CategoricalTickFormatter\"},{\"attributes\":{\"label\":{\"value\":\"EXPIRED MUNI METER\"},\"renderers\":[{\"id\":\"39672\",\"type\":\"GlyphRenderer\"}]},\"id\":\"39689\",\"type\":\"LegendItem\"},{\"attributes\":{\"callback\":null},\"id\":\"39592\",\"type\":\"DataRange1d\"},{\"attributes\":{},\"id\":\"39599\",\"type\":\"CategoricalTicker\"},{\"attributes\":{\"fill_alpha\":{\"value\":0.09},\"fill_color\":{\"value\":\"#98df8a\"},\"line_alpha\":{\"value\":0.09},\"line_color\":{\"value\":\"#98df8a\"},\"top\":{\"field\":\"DOUBLE PARKING\"},\"width\":{\"value\":0.5},\"x\":{\"field\":\"Day Number\"}},\"id\":\"39653\",\"type\":\"VBar\"},{\"attributes\":{},\"id\":\"40328\",\"type\":\"Selection\"},{\"attributes\":{\"data_source\":{\"id\":\"39586\",\"type\":\"ColumnDataSource\"},\"glyph\":{\"id\":\"39657\",\"type\":\"VBar\"},\"hover_glyph\":null,\"muted_glyph\":{\"id\":\"39659\",\"type\":\"VBar\"},\"nonselection_glyph\":{\"id\":\"39658\",\"type\":\"VBar\"},\"selection_glyph\":null,\"view\":{\"id\":\"39661\",\"type\":\"CDSView\"}},\"id\":\"39660\",\"type\":\"GlyphRenderer\"},{\"attributes\":{},\"id\":\"40325\",\"type\":\"BasicTickFormatter\"},{\"attributes\":{\"source\":{\"id\":\"39586\",\"type\":\"ColumnDataSource\"}},\"id\":\"39673\",\"type\":\"CDSView\"},{\"attributes\":{\"source\":{\"id\":\"39586\",\"type\":\"ColumnDataSource\"}},\"id\":\"39655\",\"type\":\"CDSView\"},{\"attributes\":{\"fill_alpha\":{\"value\":0.09},\"fill_color\":{\"value\":\"#d62728\"},\"line_alpha\":{\"value\":0.09},\"line_color\":{\"value\":\"#d62728\"},\"top\":{\"field\":\"FIRE HYDRANT\"},\"width\":{\"value\":0.5},\"x\":{\"field\":\"Day Number\"}},\"id\":\"39659\",\"type\":\"VBar\"},{\"attributes\":{\"fill_alpha\":{\"value\":3},\"fill_color\":{\"value\":\"#98df8a\"},\"line_alpha\":{\"value\":3},\"line_color\":{\"value\":\"#98df8a\"},\"top\":{\"field\":\"DOUBLE PARKING\"},\"width\":{\"value\":0.5},\"x\":{\"field\":\"Day Number\"}},\"id\":\"39651\",\"type\":\"VBar\"},{\"attributes\":{},\"id\":\"39594\",\"type\":\"CategoricalScale\"},{\"attributes\":{\"fill_alpha\":{\"value\":0.1},\"fill_color\":{\"value\":\"#1f77b4\"},\"line_alpha\":{\"value\":0.1},\"line_color\":{\"value\":\"#1f77b4\"},\"top\":{\"field\":\"DOUBLE PARKING\"},\"width\":{\"value\":0.5},\"x\":{\"field\":\"Day Number\"}},\"id\":\"39652\",\"type\":\"VBar\"},{\"attributes\":{},\"id\":\"40327\",\"type\":\"UnionRenderers\"},{\"attributes\":{\"callback\":null,\"factors\":[\"0\",\"1\",\"2\",\"3\",\"4\",\"5\",\"6\"],\"range_padding\":0.04},\"id\":\"39587\",\"type\":\"FactorRange\"},{\"attributes\":{\"text\":\"Distibution of # of fines for top 10 violations pr. Day Number\"},\"id\":\"39589\",\"type\":\"Title\"},{\"attributes\":{\"data_source\":{\"id\":\"39586\",\"type\":\"ColumnDataSource\"},\"glyph\":{\"id\":\"39651\",\"type\":\"VBar\"},\"hover_glyph\":null,\"muted_glyph\":{\"id\":\"39653\",\"type\":\"VBar\"},\"nonselection_glyph\":{\"id\":\"39652\",\"type\":\"VBar\"},\"selection_glyph\":null,\"view\":{\"id\":\"39655\",\"type\":\"CDSView\"}},\"id\":\"39654\",\"type\":\"GlyphRenderer\"},{\"attributes\":{},\"id\":\"39596\",\"type\":\"LinearScale\"},{\"attributes\":{\"ticker\":{\"id\":\"39599\",\"type\":\"CategoricalTicker\"}},\"id\":\"39601\",\"type\":\"Grid\"},{\"attributes\":{\"fill_alpha\":{\"value\":3},\"fill_color\":{\"value\":\"#d62728\"},\"line_alpha\":{\"value\":3},\"line_color\":{\"value\":\"#d62728\"},\"top\":{\"field\":\"FIRE HYDRANT\"},\"width\":{\"value\":0.5},\"x\":{\"field\":\"Day Number\"}},\"id\":\"39657\",\"type\":\"VBar\"},{\"attributes\":{\"data_source\":{\"id\":\"39586\",\"type\":\"ColumnDataSource\"},\"glyph\":{\"id\":\"39645\",\"type\":\"VBar\"},\"hover_glyph\":null,\"muted_glyph\":{\"id\":\"39647\",\"type\":\"VBar\"},\"nonselection_glyph\":{\"id\":\"39646\",\"type\":\"VBar\"},\"selection_glyph\":null,\"view\":{\"id\":\"39649\",\"type\":\"CDSView\"}},\"id\":\"39648\",\"type\":\"GlyphRenderer\"},{\"attributes\":{\"click_policy\":\"mute\",\"items\":[{\"id\":\"39681\",\"type\":\"LegendItem\"},{\"id\":\"39682\",\"type\":\"LegendItem\"},{\"id\":\"39683\",\"type\":\"LegendItem\"},{\"id\":\"39684\",\"type\":\"LegendItem\"},{\"id\":\"39685\",\"type\":\"LegendItem\"},{\"id\":\"39686\",\"type\":\"LegendItem\"},{\"id\":\"39687\",\"type\":\"LegendItem\"},{\"id\":\"39688\",\"type\":\"LegendItem\"},{\"id\":\"39689\",\"type\":\"LegendItem\"},{\"id\":\"39690\",\"type\":\"LegendItem\"}],\"location\":[0,50]},\"id\":\"39680\",\"type\":\"Legend\"},{\"attributes\":{\"axis_label\":\"# of fines\",\"formatter\":{\"id\":\"40325\",\"type\":\"BasicTickFormatter\"},\"ticker\":{\"id\":\"39603\",\"type\":\"BasicTicker\"}},\"id\":\"39602\",\"type\":\"LinearAxis\"},{\"attributes\":{\"fill_alpha\":{\"value\":0.1},\"fill_color\":{\"value\":\"#1f77b4\"},\"line_alpha\":{\"value\":0.1},\"line_color\":{\"value\":\"#1f77b4\"},\"top\":{\"field\":\"FIRE HYDRANT\"},\"width\":{\"value\":0.5},\"x\":{\"field\":\"Day Number\"}},\"id\":\"39658\",\"type\":\"VBar\"},{\"attributes\":{\"bottom_units\":\"screen\",\"fill_alpha\":{\"value\":0.5},\"fill_color\":{\"value\":\"lightgrey\"},\"left_units\":\"screen\",\"level\":\"overlay\",\"line_alpha\":{\"value\":1.0},\"line_color\":{\"value\":\"black\"},\"line_dash\":[4,4],\"line_width\":{\"value\":2},\"render_mode\":\"css\",\"right_units\":\"screen\",\"top_units\":\"screen\"},\"id\":\"40326\",\"type\":\"BoxAnnotation\"}],\"root_ids\":[\"39588\"]},\"title\":\"Bokeh Application\",\"version\":\"1.3.4\"}};\n",
       "  var render_items = [{\"docid\":\"aa21e6a4-1b74-4636-a4f6-f8e281f6bf0c\",\"roots\":{\"39588\":\"e1f68cc7-647c-404a-9c4e-00bfd0625093\"}}];\n",
       "  root.Bokeh.embed.embed_items_notebook(docs_json, render_items);\n",
       "\n",
       "  }\n",
       "  if (root.Bokeh !== undefined) {\n",
       "    embed_document(root);\n",
       "  } else {\n",
       "    var attempts = 0;\n",
       "    var timer = setInterval(function(root) {\n",
       "      if (root.Bokeh !== undefined) {\n",
       "        embed_document(root);\n",
       "        clearInterval(timer);\n",
       "      }\n",
       "      attempts++;\n",
       "      if (attempts > 100) {\n",
       "        console.log(\"Bokeh: ERROR: Unable to run BokehJS code because BokehJS library is missing\");\n",
       "        clearInterval(timer);\n",
       "      }\n",
       "    }, 10, root)\n",
       "  }\n",
       "})(window);"
      ],
      "application/vnd.bokehjs_exec.v0+json": ""
     },
     "metadata": {
      "application/vnd.bokehjs_exec.v0+json": {
       "id": "39588"
      }
     },
     "output_type": "display_data"
    }
   ],
   "source": [
    "bokeh(df,\"Hour\")\n",
    "bokeh(df,\"Month Number\")\n",
    "bokeh(df, \"Day Number\")"
   ]
  },
  {
   "cell_type": "code",
   "execution_count": null,
   "metadata": {},
   "outputs": [],
   "source": []
  },
  {
   "cell_type": "code",
   "execution_count": null,
   "metadata": {},
   "outputs": [],
   "source": []
  },
  {
   "cell_type": "code",
   "execution_count": null,
   "metadata": {},
   "outputs": [],
   "source": []
  },
  {
   "cell_type": "code",
   "execution_count": null,
   "metadata": {},
   "outputs": [],
   "source": []
  },
  {
   "cell_type": "code",
   "execution_count": null,
   "metadata": {},
   "outputs": [],
   "source": []
  },
  {
   "cell_type": "code",
   "execution_count": null,
   "metadata": {},
   "outputs": [],
   "source": []
  },
  {
   "cell_type": "code",
   "execution_count": null,
   "metadata": {},
   "outputs": [],
   "source": []
  },
  {
   "cell_type": "code",
   "execution_count": null,
   "metadata": {},
   "outputs": [],
   "source": []
  },
  {
   "cell_type": "code",
   "execution_count": null,
   "metadata": {},
   "outputs": [],
   "source": []
  },
  {
   "cell_type": "code",
   "execution_count": null,
   "metadata": {},
   "outputs": [],
   "source": []
  },
  {
   "cell_type": "code",
   "execution_count": null,
   "metadata": {},
   "outputs": [],
   "source": []
  },
  {
   "cell_type": "code",
   "execution_count": 405,
   "metadata": {},
   "outputs": [
    {
     "data": {
      "image/png": "[encoded data removed]",
      "text/plain": [
       "<Figure size 432x288 with 1 Axes>"
      ]
     },
     "metadata": {
      "needs_background": "light"
     },
     "output_type": "display_data"
    },
    {
     "data": {
      "image/png": "[encoded data removed]",
      "text/plain": [
       "<Figure size 432x288 with 1 Axes>"
      ]
     },
     "metadata": {
      "needs_background": "light"
     },
     "output_type": "display_data"
    },
    {
     "data": {
      "image/png": "[encoded data removed]",
      "text/plain": [
       "<Figure size 432x288 with 1 Axes>"
      ]
     },
     "metadata": {
      "needs_background": "light"
     },
     "output_type": "display_data"
    },
    {
     "data": {
      "image/png": "[encoded data removed]",
      "text/plain": [
       "<Figure size 432x288 with 1 Axes>"
      ]
     },
     "metadata": {
      "needs_background": "light"
     },
     "output_type": "display_data"
    },
    {
     "data": {
      "image/png": "[encoded data removed]",
      "text/plain": [
       "<Figure size 432x288 with 1 Axes>"
      ]
     },
     "metadata": {
      "needs_background": "light"
     },
     "output_type": "display_data"
    },
    {
     "data": {
      "image/png": "[encoded data removed]",
      "text/plain": [
       "<Figure size 432x288 with 1 Axes>"
      ]
     },
     "metadata": {
      "needs_background": "light"
     },
     "output_type": "display_data"
    },
    {
     "data": {
      "image/png": "[encoded data removed]",
      "text/plain": [
       "<Figure size 432x288 with 1 Axes>"
      ]
     },
     "metadata": {
      "needs_background": "light"
     },
     "output_type": "display_data"
    },
    {
     "data": {
      "image/png": "[encoded data removed]",
      "text/plain": [
       "<Figure size 432x288 with 1 Axes>"
      ]
     },
     "metadata": {
      "needs_background": "light"
     },
     "output_type": "display_data"
    },
    {
     "data": {
      "image/png": "[encoded data removed]",
      "text/plain": [
       "<Figure size 432x288 with 1 Axes>"
      ]
     },
     "metadata": {
      "needs_background": "light"
     },
     "output_type": "display_data"
    },
    {
     "data": {
      "image/png": "[encoded data removed]",
      "text/plain": [
       "<Figure size 432x288 with 1 Axes>"
      ]
     },
     "metadata": {
      "needs_background": "light"
     },
     "output_type": "display_data"
    }
   ],
   "source": [
    "for i in fines:\n",
    "    fine = df.loc[df[\"VIOLATION DESCRIPTION\"] == i]\n",
    "    days = dict(zip(fine[\"Day Number\"], fine[\"Day Name\"]))\n",
    "    count_weekdays = fine[\"Day Number\"].value_counts()\n",
    "    count_weekdays = count_weekdays.sort_index()\n",
    "    days_count = count_weekdays.to_list()\n",
    "    days_num = count_weekdays.index.to_list()\n",
    "    day_name = list(map(days.get,days_num))\n",
    "    plt.bar(days_num, days_count)\n",
    "    plt.title(i)\n",
    "    plt.xticks(days_num, day_name, fontsize=5, rotation=30)\n",
    "    plt.show()"
   ]
  },
  {
   "cell_type": "code",
   "execution_count": null,
   "metadata": {},
   "outputs": [],
   "source": [
    "for i in fines:\n",
    "    fine = df.loc[df[\"VIOLATION DESCRIPTION\"] == i]\n",
    "    monthDict={1:'Jan', 2:'Feb', 3:'Mar', 4:'Apr', 5:'May', 6:'Jun', 7:'Jul', 8:'Aug', 9:'Sep', 10:'Oct', 11:'Nov', 12:'Dec'}\n",
    "    count_months = fine[\"Month Number\"].value_counts()\n",
    "    count_weekdays = count_months.sort_index()\n",
    "    month_count = count_months.to_list()\n",
    "    month_num = count_months.index.to_list()\n",
    "    month_name = list(map(monthDict.get,month_num))\n",
    "    plt.bar(month_num, month_count)\n",
    "    plt.title(i)\n",
    "    plt.xticks(month_num, month_name, fontsize=5, rotation=30)\n",
    "    plt.show()"
   ]
  },
  {
   "cell_type": "code",
   "execution_count": null,
   "metadata": {},
   "outputs": [],
   "source": []
  },
  {
   "cell_type": "code",
   "execution_count": null,
   "metadata": {},
   "outputs": [],
   "source": []
  },
  {
   "cell_type": "code",
   "execution_count": null,
   "metadata": {},
   "outputs": [],
   "source": []
  },
  {
   "cell_type": "code",
   "execution_count": null,
   "metadata": {},
   "outputs": [],
   "source": []
  },
  {
   "cell_type": "code",
   "execution_count": null,
   "metadata": {},
   "outputs": [],
   "source": []
  },
  {
   "cell_type": "code",
   "execution_count": null,
   "metadata": {},
   "outputs": [],
   "source": []
  },
  {
   "cell_type": "markdown",
   "metadata": {},
   "source": [
    "#Data Properties \n",
    "In the dataset, there is geolocation attributes, such as strees names, house numbers, states codes etc. Next there is description of the different vehicles. There is an issue date which tells us when the violation has happened, and a timestamp for the violation. "
   ]
  },
  {
   "cell_type": "code",
   "execution_count": 73,
   "metadata": {},
   "outputs": [],
   "source": [
    "#result.shape\n",
    "#result[\"Adress\"] = result[\"Street Name\"] + \" \" + str(result[\"House Number\"])"
   ]
  },
  {
   "cell_type": "code",
   "execution_count": 17,
   "metadata": {},
   "outputs": [],
   "source": [
    "#result_new.to_csv(\"PARKING2019.csv\")"
   ]
  },
  {
   "cell_type": "code",
   "execution_count": 75,
   "metadata": {},
   "outputs": [],
   "source": [
    "#result.columns"
   ]
  },
  {
   "cell_type": "code",
   "execution_count": 25,
   "metadata": {},
   "outputs": [],
   "source": [
    "a= \"0918A\""
   ]
  },
  {
   "cell_type": "code",
   "execution_count": 39,
   "metadata": {},
   "outputs": [
    {
     "data": {
      "text/plain": [
       "array([nan, 'N', 'A', 'J', 'F', 'B', 'D', 'T', 'S', 'L', 'W', 0.0, 'Q',\n",
       "       'C', '0000', 'V', 'K', 'I', 'G', 'X', 'H', 'E', 'Y', 'M', 'R', 'O',\n",
       "       'EE', 'AA', 'P', 'B2', 'FF', 'DD', 'HH', 'CC', 'A2', 'GG', 'BB',\n",
       "       'U', 'YA', 'II', 'X1', 'YP', 'X2', 'D2', 'GA', 'Z', 'AB', 'FA',\n",
       "       'GP', 'C2', 'A1'], dtype=object)"
      ]
     },
     "execution_count": 39,
     "metadata": {},
     "output_type": "execute_result"
    }
   ],
   "source": [
    "result_new['Issuer Squad'].unique()"
   ]
  },
  {
   "cell_type": "code",
   "execution_count": null,
   "metadata": {},
   "outputs": [],
   "source": []
  },
  {
   "cell_type": "code",
   "execution_count": null,
   "metadata": {},
   "outputs": [],
   "source": []
  },
  {
   "cell_type": "code",
   "execution_count": null,
   "metadata": {},
   "outputs": [],
   "source": []
  }
 ],
 "metadata": {
  "kernelspec": {
   "display_name": "Python 3",
   "language": "python",
   "name": "python3"
  },
  "language_info": {
   "codemirror_mode": {
    "name": "ipython",
    "version": 3
   },
   "file_extension": ".py",
   "mimetype": "text/x-python",
   "name": "python",
   "nbconvert_exporter": "python",
   "pygments_lexer": "ipython3",
   "version": "3.7.4"
  }
 },
 "nbformat": 4,
 "nbformat_minor": 4
}
