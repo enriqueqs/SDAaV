{
 "cells": [
  {
   "cell_type": "code",
   "execution_count": 4,
   "metadata": {},
   "outputs": [
    {
     "data": {
      "text/html": [
       "\n",
       "    <div class=\"bk-root\">\n",
       "        <a href=\"https://bokeh.pydata.org\" target=\"_blank\" class=\"bk-logo bk-logo-small bk-logo-notebook\"></a>\n",
       "        <span id=\"1002\">Loading BokehJS ...</span>\n",
       "    </div>"
      ]
     },
     "metadata": {},
     "output_type": "display_data"
    },
    {
     "data": {
      "application/javascript": [
       "\n",
       "(function(root) {\n",
       "  function now() {\n",
       "    return new Date();\n",
       "  }\n",
       "\n",
       "  var force = true;\n",
       "\n",
       "  if (typeof root._bokeh_onload_callbacks === \"undefined\" || force === true) {\n",
       "    root._bokeh_onload_callbacks = [];\n",
       "    root._bokeh_is_loading = undefined;\n",
       "  }\n",
       "\n",
       "  var JS_MIME_TYPE = 'application/javascript';\n",
       "  var HTML_MIME_TYPE = 'text/html';\n",
       "  var EXEC_MIME_TYPE = 'application/vnd.bokehjs_exec.v0+json';\n",
       "  var CLASS_NAME = 'output_bokeh rendered_html';\n",
       "\n",
       "  /**\n",
       "   * Render data to the DOM node\n",
       "   */\n",
       "  function render(props, node) {\n",
       "    var script = document.createElement(\"script\");\n",
       "    node.appendChild(script);\n",
       "  }\n",
       "\n",
       "  /**\n",
       "   * Handle when an output is cleared or removed\n",
       "   */\n",
       "  function handleClearOutput(event, handle) {\n",
       "    var cell = handle.cell;\n",
       "\n",
       "    var id = cell.output_area._bokeh_element_id;\n",
       "    var server_id = cell.output_area._bokeh_server_id;\n",
       "    // Clean up Bokeh references\n",
       "    if (id != null && id in Bokeh.index) {\n",
       "      Bokeh.index[id].model.document.clear();\n",
       "      delete Bokeh.index[id];\n",
       "    }\n",
       "\n",
       "    if (server_id !== undefined) {\n",
       "      // Clean up Bokeh references\n",
       "      var cmd = \"from bokeh.io.state import curstate; print(curstate().uuid_to_server['\" + server_id + \"'].get_sessions()[0].document.roots[0]._id)\";\n",
       "      cell.notebook.kernel.execute(cmd, {\n",
       "        iopub: {\n",
       "          output: function(msg) {\n",
       "            var id = msg.content.text.trim();\n",
       "            if (id in Bokeh.index) {\n",
       "              Bokeh.index[id].model.document.clear();\n",
       "              delete Bokeh.index[id];\n",
       "            }\n",
       "          }\n",
       "        }\n",
       "      });\n",
       "      // Destroy server and session\n",
       "      var cmd = \"import bokeh.io.notebook as ion; ion.destroy_server('\" + server_id + \"')\";\n",
       "      cell.notebook.kernel.execute(cmd);\n",
       "    }\n",
       "  }\n",
       "\n",
       "  /**\n",
       "   * Handle when a new output is added\n",
       "   */\n",
       "  function handleAddOutput(event, handle) {\n",
       "    var output_area = handle.output_area;\n",
       "    var output = handle.output;\n",
       "\n",
       "    // limit handleAddOutput to display_data with EXEC_MIME_TYPE content only\n",
       "    if ((output.output_type != \"display_data\") || (!output.data.hasOwnProperty(EXEC_MIME_TYPE))) {\n",
       "      return\n",
       "    }\n",
       "\n",
       "    var toinsert = output_area.element.find(\".\" + CLASS_NAME.split(' ')[0]);\n",
       "\n",
       "    if (output.metadata[EXEC_MIME_TYPE][\"id\"] !== undefined) {\n",
       "      toinsert[toinsert.length - 1].firstChild.textContent = output.data[JS_MIME_TYPE];\n",
       "      // store reference to embed id on output_area\n",
       "      output_area._bokeh_element_id = output.metadata[EXEC_MIME_TYPE][\"id\"];\n",
       "    }\n",
       "    if (output.metadata[EXEC_MIME_TYPE][\"server_id\"] !== undefined) {\n",
       "      var bk_div = document.createElement(\"div\");\n",
       "      bk_div.innerHTML = output.data[HTML_MIME_TYPE];\n",
       "      var script_attrs = bk_div.children[0].attributes;\n",
       "      for (var i = 0; i < script_attrs.length; i++) {\n",
       "        toinsert[toinsert.length - 1].firstChild.setAttribute(script_attrs[i].name, script_attrs[i].value);\n",
       "      }\n",
       "      // store reference to server id on output_area\n",
       "      output_area._bokeh_server_id = output.metadata[EXEC_MIME_TYPE][\"server_id\"];\n",
       "    }\n",
       "  }\n",
       "\n",
       "  function register_renderer(events, OutputArea) {\n",
       "\n",
       "    function append_mime(data, metadata, element) {\n",
       "      // create a DOM node to render to\n",
       "      var toinsert = this.create_output_subarea(\n",
       "        metadata,\n",
       "        CLASS_NAME,\n",
       "        EXEC_MIME_TYPE\n",
       "      );\n",
       "      this.keyboard_manager.register_events(toinsert);\n",
       "      // Render to node\n",
       "      var props = {data: data, metadata: metadata[EXEC_MIME_TYPE]};\n",
       "      render(props, toinsert[toinsert.length - 1]);\n",
       "      element.append(toinsert);\n",
       "      return toinsert\n",
       "    }\n",
       "\n",
       "    /* Handle when an output is cleared or removed */\n",
       "    events.on('clear_output.CodeCell', handleClearOutput);\n",
       "    events.on('delete.Cell', handleClearOutput);\n",
       "\n",
       "    /* Handle when a new output is added */\n",
       "    events.on('output_added.OutputArea', handleAddOutput);\n",
       "\n",
       "    /**\n",
       "     * Register the mime type and append_mime function with output_area\n",
       "     */\n",
       "    OutputArea.prototype.register_mime_type(EXEC_MIME_TYPE, append_mime, {\n",
       "      /* Is output safe? */\n",
       "      safe: true,\n",
       "      /* Index of renderer in `output_area.display_order` */\n",
       "      index: 0\n",
       "    });\n",
       "  }\n",
       "\n",
       "  // register the mime type if in Jupyter Notebook environment and previously unregistered\n",
       "  if (root.Jupyter !== undefined) {\n",
       "    var events = require('base/js/events');\n",
       "    var OutputArea = require('notebook/js/outputarea').OutputArea;\n",
       "\n",
       "    if (OutputArea.prototype.mime_types().indexOf(EXEC_MIME_TYPE) == -1) {\n",
       "      register_renderer(events, OutputArea);\n",
       "    }\n",
       "  }\n",
       "\n",
       "  \n",
       "  if (typeof (root._bokeh_timeout) === \"undefined\" || force === true) {\n",
       "    root._bokeh_timeout = Date.now() + 5000;\n",
       "    root._bokeh_failed_load = false;\n",
       "  }\n",
       "\n",
       "  var NB_LOAD_WARNING = {'data': {'text/html':\n",
       "     \"<div style='background-color: #fdd'>\\n\"+\n",
       "     \"<p>\\n\"+\n",
       "     \"BokehJS does not appear to have successfully loaded. If loading BokehJS from CDN, this \\n\"+\n",
       "     \"may be due to a slow or bad network connection. Possible fixes:\\n\"+\n",
       "     \"</p>\\n\"+\n",
       "     \"<ul>\\n\"+\n",
       "     \"<li>re-rerun `output_notebook()` to attempt to load from CDN again, or</li>\\n\"+\n",
       "     \"<li>use INLINE resources instead, as so:</li>\\n\"+\n",
       "     \"</ul>\\n\"+\n",
       "     \"<code>\\n\"+\n",
       "     \"from bokeh.resources import INLINE\\n\"+\n",
       "     \"output_notebook(resources=INLINE)\\n\"+\n",
       "     \"</code>\\n\"+\n",
       "     \"</div>\"}};\n",
       "\n",
       "  function display_loaded() {\n",
       "    var el = document.getElementById(\"1002\");\n",
       "    if (el != null) {\n",
       "      el.textContent = \"BokehJS is loading...\";\n",
       "    }\n",
       "    if (root.Bokeh !== undefined) {\n",
       "      if (el != null) {\n",
       "        el.textContent = \"BokehJS \" + root.Bokeh.version + \" successfully loaded.\";\n",
       "      }\n",
       "    } else if (Date.now() < root._bokeh_timeout) {\n",
       "      setTimeout(display_loaded, 100)\n",
       "    }\n",
       "  }\n",
       "\n",
       "\n",
       "  function run_callbacks() {\n",
       "    try {\n",
       "      root._bokeh_onload_callbacks.forEach(function(callback) {\n",
       "        if (callback != null)\n",
       "          callback();\n",
       "      });\n",
       "    } finally {\n",
       "      delete root._bokeh_onload_callbacks\n",
       "    }\n",
       "    console.debug(\"Bokeh: all callbacks have finished\");\n",
       "  }\n",
       "\n",
       "  function load_libs(css_urls, js_urls, callback) {\n",
       "    if (css_urls == null) css_urls = [];\n",
       "    if (js_urls == null) js_urls = [];\n",
       "\n",
       "    root._bokeh_onload_callbacks.push(callback);\n",
       "    if (root._bokeh_is_loading > 0) {\n",
       "      console.debug(\"Bokeh: BokehJS is being loaded, scheduling callback at\", now());\n",
       "      return null;\n",
       "    }\n",
       "    if (js_urls == null || js_urls.length === 0) {\n",
       "      run_callbacks();\n",
       "      return null;\n",
       "    }\n",
       "    console.debug(\"Bokeh: BokehJS not loaded, scheduling load and callback at\", now());\n",
       "    root._bokeh_is_loading = css_urls.length + js_urls.length;\n",
       "\n",
       "    function on_load() {\n",
       "      root._bokeh_is_loading--;\n",
       "      if (root._bokeh_is_loading === 0) {\n",
       "        console.debug(\"Bokeh: all BokehJS libraries/stylesheets loaded\");\n",
       "        run_callbacks()\n",
       "      }\n",
       "    }\n",
       "\n",
       "    function on_error() {\n",
       "      console.error(\"failed to load \" + url);\n",
       "    }\n",
       "\n",
       "    for (var i = 0; i < css_urls.length; i++) {\n",
       "      var url = css_urls[i];\n",
       "      const element = document.createElement(\"link\");\n",
       "      element.onload = on_load;\n",
       "      element.onerror = on_error;\n",
       "      element.rel = \"stylesheet\";\n",
       "      element.type = \"text/css\";\n",
       "      element.href = url;\n",
       "      console.debug(\"Bokeh: injecting link tag for BokehJS stylesheet: \", url);\n",
       "      document.body.appendChild(element);\n",
       "    }\n",
       "\n",
       "    for (var i = 0; i < js_urls.length; i++) {\n",
       "      var url = js_urls[i];\n",
       "      var element = document.createElement('script');\n",
       "      element.onload = on_load;\n",
       "      element.onerror = on_error;\n",
       "      element.async = false;\n",
       "      element.src = url;\n",
       "      console.debug(\"Bokeh: injecting script tag for BokehJS library: \", url);\n",
       "      document.head.appendChild(element);\n",
       "    }\n",
       "  };var element = document.getElementById(\"1002\");\n",
       "  if (element == null) {\n",
       "    console.error(\"Bokeh: ERROR: autoload.js configured with elementid '1002' but no matching script tag was found. \")\n",
       "    return false;\n",
       "  }\n",
       "\n",
       "  function inject_raw_css(css) {\n",
       "    const element = document.createElement(\"style\");\n",
       "    element.appendChild(document.createTextNode(css));\n",
       "    document.body.appendChild(element);\n",
       "  }\n",
       "\n",
       "  var js_urls = [\"https://cdn.pydata.org/bokeh/release/bokeh-1.3.4.min.js\", \"https://cdn.pydata.org/bokeh/release/bokeh-widgets-1.3.4.min.js\", \"https://cdn.pydata.org/bokeh/release/bokeh-tables-1.3.4.min.js\", \"https://cdn.pydata.org/bokeh/release/bokeh-gl-1.3.4.min.js\"];\n",
       "  var css_urls = [];\n",
       "\n",
       "  var inline_js = [\n",
       "    function(Bokeh) {\n",
       "      Bokeh.set_log_level(\"info\");\n",
       "    },\n",
       "    \n",
       "    function(Bokeh) {\n",
       "      \n",
       "    },\n",
       "    function(Bokeh) {} // ensure no trailing comma for IE\n",
       "  ];\n",
       "\n",
       "  function run_inline_js() {\n",
       "    \n",
       "    if ((root.Bokeh !== undefined) || (force === true)) {\n",
       "      for (var i = 0; i < inline_js.length; i++) {\n",
       "        inline_js[i].call(root, root.Bokeh);\n",
       "      }if (force === true) {\n",
       "        display_loaded();\n",
       "      }} else if (Date.now() < root._bokeh_timeout) {\n",
       "      setTimeout(run_inline_js, 100);\n",
       "    } else if (!root._bokeh_failed_load) {\n",
       "      console.log(\"Bokeh: BokehJS failed to load within specified timeout.\");\n",
       "      root._bokeh_failed_load = true;\n",
       "    } else if (force !== true) {\n",
       "      var cell = $(document.getElementById(\"1002\")).parents('.cell').data().cell;\n",
       "      cell.output_area.append_execute_result(NB_LOAD_WARNING)\n",
       "    }\n",
       "\n",
       "  }\n",
       "\n",
       "  if (root._bokeh_is_loading === 0) {\n",
       "    console.debug(\"Bokeh: BokehJS loaded, going straight to plotting\");\n",
       "    run_inline_js();\n",
       "  } else {\n",
       "    load_libs(css_urls, js_urls, function() {\n",
       "      console.debug(\"Bokeh: BokehJS plotting callback run at\", now());\n",
       "      run_inline_js();\n",
       "    });\n",
       "  }\n",
       "}(window));"
      ],
      "application/vnd.bokehjs_load.v0+json": "\n(function(root) {\n  function now() {\n    return new Date();\n  }\n\n  var force = true;\n\n  if (typeof root._bokeh_onload_callbacks === \"undefined\" || force === true) {\n    root._bokeh_onload_callbacks = [];\n    root._bokeh_is_loading = undefined;\n  }\n\n  \n\n  \n  if (typeof (root._bokeh_timeout) === \"undefined\" || force === true) {\n    root._bokeh_timeout = Date.now() + 5000;\n    root._bokeh_failed_load = false;\n  }\n\n  var NB_LOAD_WARNING = {'data': {'text/html':\n     \"<div style='background-color: #fdd'>\\n\"+\n     \"<p>\\n\"+\n     \"BokehJS does not appear to have successfully loaded. If loading BokehJS from CDN, this \\n\"+\n     \"may be due to a slow or bad network connection. Possible fixes:\\n\"+\n     \"</p>\\n\"+\n     \"<ul>\\n\"+\n     \"<li>re-rerun `output_notebook()` to attempt to load from CDN again, or</li>\\n\"+\n     \"<li>use INLINE resources instead, as so:</li>\\n\"+\n     \"</ul>\\n\"+\n     \"<code>\\n\"+\n     \"from bokeh.resources import INLINE\\n\"+\n     \"output_notebook(resources=INLINE)\\n\"+\n     \"</code>\\n\"+\n     \"</div>\"}};\n\n  function display_loaded() {\n    var el = document.getElementById(\"1002\");\n    if (el != null) {\n      el.textContent = \"BokehJS is loading...\";\n    }\n    if (root.Bokeh !== undefined) {\n      if (el != null) {\n        el.textContent = \"BokehJS \" + root.Bokeh.version + \" successfully loaded.\";\n      }\n    } else if (Date.now() < root._bokeh_timeout) {\n      setTimeout(display_loaded, 100)\n    }\n  }\n\n\n  function run_callbacks() {\n    try {\n      root._bokeh_onload_callbacks.forEach(function(callback) {\n        if (callback != null)\n          callback();\n      });\n    } finally {\n      delete root._bokeh_onload_callbacks\n    }\n    console.debug(\"Bokeh: all callbacks have finished\");\n  }\n\n  function load_libs(css_urls, js_urls, callback) {\n    if (css_urls == null) css_urls = [];\n    if (js_urls == null) js_urls = [];\n\n    root._bokeh_onload_callbacks.push(callback);\n    if (root._bokeh_is_loading > 0) {\n      console.debug(\"Bokeh: BokehJS is being loaded, scheduling callback at\", now());\n      return null;\n    }\n    if (js_urls == null || js_urls.length === 0) {\n      run_callbacks();\n      return null;\n    }\n    console.debug(\"Bokeh: BokehJS not loaded, scheduling load and callback at\", now());\n    root._bokeh_is_loading = css_urls.length + js_urls.length;\n\n    function on_load() {\n      root._bokeh_is_loading--;\n      if (root._bokeh_is_loading === 0) {\n        console.debug(\"Bokeh: all BokehJS libraries/stylesheets loaded\");\n        run_callbacks()\n      }\n    }\n\n    function on_error() {\n      console.error(\"failed to load \" + url);\n    }\n\n    for (var i = 0; i < css_urls.length; i++) {\n      var url = css_urls[i];\n      const element = document.createElement(\"link\");\n      element.onload = on_load;\n      element.onerror = on_error;\n      element.rel = \"stylesheet\";\n      element.type = \"text/css\";\n      element.href = url;\n      console.debug(\"Bokeh: injecting link tag for BokehJS stylesheet: \", url);\n      document.body.appendChild(element);\n    }\n\n    for (var i = 0; i < js_urls.length; i++) {\n      var url = js_urls[i];\n      var element = document.createElement('script');\n      element.onload = on_load;\n      element.onerror = on_error;\n      element.async = false;\n      element.src = url;\n      console.debug(\"Bokeh: injecting script tag for BokehJS library: \", url);\n      document.head.appendChild(element);\n    }\n  };var element = document.getElementById(\"1002\");\n  if (element == null) {\n    console.error(\"Bokeh: ERROR: autoload.js configured with elementid '1002' but no matching script tag was found. \")\n    return false;\n  }\n\n  function inject_raw_css(css) {\n    const element = document.createElement(\"style\");\n    element.appendChild(document.createTextNode(css));\n    document.body.appendChild(element);\n  }\n\n  var js_urls = [\"https://cdn.pydata.org/bokeh/release/bokeh-1.3.4.min.js\", \"https://cdn.pydata.org/bokeh/release/bokeh-widgets-1.3.4.min.js\", \"https://cdn.pydata.org/bokeh/release/bokeh-tables-1.3.4.min.js\", \"https://cdn.pydata.org/bokeh/release/bokeh-gl-1.3.4.min.js\"];\n  var css_urls = [];\n\n  var inline_js = [\n    function(Bokeh) {\n      Bokeh.set_log_level(\"info\");\n    },\n    \n    function(Bokeh) {\n      \n    },\n    function(Bokeh) {} // ensure no trailing comma for IE\n  ];\n\n  function run_inline_js() {\n    \n    if ((root.Bokeh !== undefined) || (force === true)) {\n      for (var i = 0; i < inline_js.length; i++) {\n        inline_js[i].call(root, root.Bokeh);\n      }if (force === true) {\n        display_loaded();\n      }} else if (Date.now() < root._bokeh_timeout) {\n      setTimeout(run_inline_js, 100);\n    } else if (!root._bokeh_failed_load) {\n      console.log(\"Bokeh: BokehJS failed to load within specified timeout.\");\n      root._bokeh_failed_load = true;\n    } else if (force !== true) {\n      var cell = $(document.getElementById(\"1002\")).parents('.cell').data().cell;\n      cell.output_area.append_execute_result(NB_LOAD_WARNING)\n    }\n\n  }\n\n  if (root._bokeh_is_loading === 0) {\n    console.debug(\"Bokeh: BokehJS loaded, going straight to plotting\");\n    run_inline_js();\n  } else {\n    load_libs(css_urls, js_urls, function() {\n      console.debug(\"Bokeh: BokehJS plotting callback run at\", now());\n      run_inline_js();\n    });\n  }\n}(window));"
     },
     "metadata": {},
     "output_type": "display_data"
    }
   ],
   "source": [
    "import pandas as pd \n",
    "import numpy as np\n",
    "import calendar\n",
    "import matplotlib.pyplot as plt\n",
    "import datetime\n",
    "%matplotlib inline\n",
    "import osmnx as ox\n",
    "from folium.plugins import HeatMap\n",
    "from bokeh.plotting import figure\n",
    "from bokeh.io import output_notebook, show\n",
    "from bokeh.models import ColumnDataSource, FactorRange,Legend\n",
    "from bokeh.palettes import Category20\n",
    "from bokeh.plotting import figure\n",
    "from bokeh.transform import factor_cmap\n",
    "from bokeh.resources import CDN\n",
    "from bokeh.embed import file_html\n",
    "\n",
    "output_notebook()"
   ]
  },
  {
   "cell_type": "markdown",
   "metadata": {},
   "source": [
    "# Investigation Parking Enforcment Behaviour "
   ]
  },
  {
   "cell_type": "markdown",
   "metadata": {},
   "source": [
    "##"
   ]
  },
  {
   "cell_type": "code",
   "execution_count": 5,
   "metadata": {},
   "outputs": [
    {
     "name": "stderr",
     "output_type": "stream",
     "text": [
      "/Users/rasmusblirupjensen/opt/anaconda3/lib/python3.7/site-packages/IPython/core/interactiveshell.py:3058: DtypeWarning: Columns (17,18,20,22,23,29,30,31,32,36,38,39) have mixed types.Specify dtype option on import or set low_memory=False.\n",
      "  interactivity=interactivity, compiler=compiler, result=result)\n"
     ]
    }
   ],
   "source": [
    "df = pd.read_csv(\"/Users/rasmusblirupjensen/Downloads/Parking_Violations_Issued_-_Fiscal_Year_2019.csv\")\n",
    "codes = pd.read_excel(\"/Users/rasmusblirupjensen/Downloads/ParkingViolationCodes_Nov_2018.xlsx\")\n",
    "\n"
   ]
  },
  {
   "cell_type": "code",
   "execution_count": 6,
   "metadata": {},
   "outputs": [],
   "source": [
    "#Merging the Data Sets\n",
    "#Convertin Violation code to integer\n",
    "codes[\"VIOLATION CODE\"].astype(int)\n",
    "#df = df.rename(columns={\"Violation Code\": \"Code\"})\n",
    "df_new =  df.merge(codes, left_on=\"Violation Code\",right_on=\"VIOLATION CODE\", how='left')\n",
    "#Dropping Columns that will not be used\n",
    "df = df_new.drop(columns=['Plate ID', 'Registration State', 'Plate Type','Street Code1', 'Street Code2', 'Street Code3','Vehicle Expiration Date', 'Time First Observed', 'Intersecting Street', 'Date First Observed', 'Law Section', 'Sub Division', 'Violation Legal Code', 'Days Parking In Effect',\n",
    "'From Hours In Effect', 'To Hours In Effect', 'Vehicle Color','Unregistered Vehicle?', 'Vehicle Year', 'Meter Number','No Standing or Stopping Violation', 'Hydrant Violation', 'Double Parking Violation',\"Violation Description\",'Violation In Front Of Or Opposite','Violation Location','Violation County'\n",
    "], axis=1)"
   ]
  },
  {
   "cell_type": "code",
   "execution_count": 7,
   "metadata": {},
   "outputs": [
    {
     "data": {
      "text/html": [
       "<div>\n",
       "<style scoped>\n",
       "    .dataframe tbody tr th:only-of-type {\n",
       "        vertical-align: middle;\n",
       "    }\n",
       "\n",
       "    .dataframe tbody tr th {\n",
       "        vertical-align: top;\n",
       "    }\n",
       "\n",
       "    .dataframe thead th {\n",
       "        text-align: right;\n",
       "    }\n",
       "</style>\n",
       "<table border=\"1\" class=\"dataframe\">\n",
       "  <thead>\n",
       "    <tr style=\"text-align: right;\">\n",
       "      <th></th>\n",
       "      <th>Summons Number</th>\n",
       "      <th>Issue Date</th>\n",
       "      <th>Violation Code</th>\n",
       "      <th>Vehicle Body Type</th>\n",
       "      <th>Vehicle Make</th>\n",
       "      <th>Issuing Agency</th>\n",
       "      <th>Violation Precinct</th>\n",
       "      <th>Issuer Precinct</th>\n",
       "      <th>Issuer Code</th>\n",
       "      <th>Issuer Command</th>\n",
       "      <th>Issuer Squad</th>\n",
       "      <th>Violation Time</th>\n",
       "      <th>House Number</th>\n",
       "      <th>Street Name</th>\n",
       "      <th>Feet From Curb</th>\n",
       "      <th>Violation Post Code</th>\n",
       "      <th>VIOLATION CODE</th>\n",
       "      <th>VIOLATION DESCRIPTION</th>\n",
       "      <th>Manhattan  96th St. &amp; below\\n(Fine Amount $)</th>\n",
       "      <th>All Other Areas\\n(Fine Amount $)</th>\n",
       "    </tr>\n",
       "  </thead>\n",
       "  <tbody>\n",
       "    <tr>\n",
       "      <th>0</th>\n",
       "      <td>1105232165</td>\n",
       "      <td>07/03/2018</td>\n",
       "      <td>14</td>\n",
       "      <td>SDN</td>\n",
       "      <td>HONDA</td>\n",
       "      <td>X</td>\n",
       "      <td>78</td>\n",
       "      <td>968</td>\n",
       "      <td>86684</td>\n",
       "      <td>0968</td>\n",
       "      <td>0</td>\n",
       "      <td>0811P</td>\n",
       "      <td>2</td>\n",
       "      <td>HANSON PLACE</td>\n",
       "      <td>0</td>\n",
       "      <td>NaN</td>\n",
       "      <td>14.0</td>\n",
       "      <td>NO STANDING-DAY/TIME LIMITS</td>\n",
       "      <td>115.0</td>\n",
       "      <td>115.0</td>\n",
       "    </tr>\n",
       "    <tr>\n",
       "      <th>1</th>\n",
       "      <td>1121274900</td>\n",
       "      <td>06/28/2018</td>\n",
       "      <td>46</td>\n",
       "      <td>SDN</td>\n",
       "      <td>NISSA</td>\n",
       "      <td>X</td>\n",
       "      <td>112</td>\n",
       "      <td>968</td>\n",
       "      <td>103419</td>\n",
       "      <td>0968</td>\n",
       "      <td>0</td>\n",
       "      <td>1145A</td>\n",
       "      <td>71-30</td>\n",
       "      <td>AUSTIN ST</td>\n",
       "      <td>0</td>\n",
       "      <td>NaN</td>\n",
       "      <td>46.0</td>\n",
       "      <td>DOUBLE PARKING</td>\n",
       "      <td>115.0</td>\n",
       "      <td>115.0</td>\n",
       "    </tr>\n",
       "    <tr>\n",
       "      <th>2</th>\n",
       "      <td>1130964875</td>\n",
       "      <td>06/08/2018</td>\n",
       "      <td>24</td>\n",
       "      <td>SUBN</td>\n",
       "      <td>JEEP</td>\n",
       "      <td>X</td>\n",
       "      <td>122</td>\n",
       "      <td>835</td>\n",
       "      <td>0</td>\n",
       "      <td>0835</td>\n",
       "      <td>0</td>\n",
       "      <td>0355P</td>\n",
       "      <td>NaN</td>\n",
       "      <td>GREAT KILLS BOAT LAU</td>\n",
       "      <td>0</td>\n",
       "      <td>NaN</td>\n",
       "      <td>24.0</td>\n",
       "      <td>NO PARKING-EXC. AUTH. VEHICLE</td>\n",
       "      <td>65.0</td>\n",
       "      <td>60.0</td>\n",
       "    </tr>\n",
       "    <tr>\n",
       "      <th>3</th>\n",
       "      <td>1130964887</td>\n",
       "      <td>06/07/2018</td>\n",
       "      <td>24</td>\n",
       "      <td>P-U</td>\n",
       "      <td>FORD</td>\n",
       "      <td>X</td>\n",
       "      <td>122</td>\n",
       "      <td>835</td>\n",
       "      <td>0</td>\n",
       "      <td>0835</td>\n",
       "      <td>0</td>\n",
       "      <td>0123P</td>\n",
       "      <td>NaN</td>\n",
       "      <td>GREAT KILLS PARK BOA</td>\n",
       "      <td>0</td>\n",
       "      <td>NaN</td>\n",
       "      <td>24.0</td>\n",
       "      <td>NO PARKING-EXC. AUTH. VEHICLE</td>\n",
       "      <td>65.0</td>\n",
       "      <td>60.0</td>\n",
       "    </tr>\n",
       "    <tr>\n",
       "      <th>4</th>\n",
       "      <td>1131599342</td>\n",
       "      <td>06/29/2018</td>\n",
       "      <td>17</td>\n",
       "      <td>SUBN</td>\n",
       "      <td>HYUND</td>\n",
       "      <td>X</td>\n",
       "      <td>78</td>\n",
       "      <td>868</td>\n",
       "      <td>2354</td>\n",
       "      <td>0868</td>\n",
       "      <td>0</td>\n",
       "      <td>0514P</td>\n",
       "      <td>2</td>\n",
       "      <td>HANSON PLACE</td>\n",
       "      <td>0</td>\n",
       "      <td>NaN</td>\n",
       "      <td>17.0</td>\n",
       "      <td>NO STANDING-EXC. AUTH. VEHICLE</td>\n",
       "      <td>95.0</td>\n",
       "      <td>95.0</td>\n",
       "    </tr>\n",
       "  </tbody>\n",
       "</table>\n",
       "</div>"
      ],
      "text/plain": [
       "   Summons Number  Issue Date  Violation Code Vehicle Body Type Vehicle Make  \\\n",
       "0      1105232165  07/03/2018              14               SDN        HONDA   \n",
       "1      1121274900  06/28/2018              46               SDN        NISSA   \n",
       "2      1130964875  06/08/2018              24              SUBN         JEEP   \n",
       "3      1130964887  06/07/2018              24               P-U         FORD   \n",
       "4      1131599342  06/29/2018              17              SUBN        HYUND   \n",
       "\n",
       "  Issuing Agency  Violation Precinct  Issuer Precinct  Issuer Code  \\\n",
       "0              X                  78              968        86684   \n",
       "1              X                 112              968       103419   \n",
       "2              X                 122              835            0   \n",
       "3              X                 122              835            0   \n",
       "4              X                  78              868         2354   \n",
       "\n",
       "  Issuer Command Issuer Squad Violation Time House Number  \\\n",
       "0           0968            0          0811P            2   \n",
       "1           0968            0          1145A        71-30   \n",
       "2           0835            0          0355P          NaN   \n",
       "3           0835            0          0123P          NaN   \n",
       "4           0868            0          0514P            2   \n",
       "\n",
       "            Street Name  Feet From Curb Violation Post Code  VIOLATION CODE  \\\n",
       "0          HANSON PLACE               0                 NaN            14.0   \n",
       "1             AUSTIN ST               0                 NaN            46.0   \n",
       "2  GREAT KILLS BOAT LAU               0                 NaN            24.0   \n",
       "3  GREAT KILLS PARK BOA               0                 NaN            24.0   \n",
       "4          HANSON PLACE               0                 NaN            17.0   \n",
       "\n",
       "            VIOLATION DESCRIPTION  \\\n",
       "0     NO STANDING-DAY/TIME LIMITS   \n",
       "1                  DOUBLE PARKING   \n",
       "2   NO PARKING-EXC. AUTH. VEHICLE   \n",
       "3   NO PARKING-EXC. AUTH. VEHICLE   \n",
       "4  NO STANDING-EXC. AUTH. VEHICLE   \n",
       "\n",
       "   Manhattan  96th St. & below\\n(Fine Amount $)  \\\n",
       "0                                         115.0   \n",
       "1                                         115.0   \n",
       "2                                          65.0   \n",
       "3                                          65.0   \n",
       "4                                          95.0   \n",
       "\n",
       "   All Other Areas\\n(Fine Amount $)  \n",
       "0                             115.0  \n",
       "1                             115.0  \n",
       "2                              60.0  \n",
       "3                              60.0  \n",
       "4                              95.0  "
      ]
     },
     "execution_count": 7,
     "metadata": {},
     "output_type": "execute_result"
    }
   ],
   "source": [
    "df.head()"
   ]
  },
  {
   "cell_type": "code",
   "execution_count": 8,
   "metadata": {},
   "outputs": [
    {
     "data": {
      "text/plain": [
       "11467506"
      ]
     },
     "execution_count": 8,
     "metadata": {},
     "output_type": "execute_result"
    }
   ],
   "source": [
    "len(df)"
   ]
  },
  {
   "cell_type": "code",
   "execution_count": 9,
   "metadata": {},
   "outputs": [],
   "source": [
    "## converting the Violation Time to datetime \n",
    "def time(xx):\n",
    "    time = []\n",
    "    for x in xx:\n",
    "        x = str(x)\n",
    "        if x[-1:] == \"P\":\n",
    "            if x[:2] == \"12\":\n",
    "                new_x = \"12\"\n",
    "                second = x[2:4]\n",
    "                new_time = new_x+\":\"+str(second)+\":\"+\"00\"    \n",
    "                time.append(new_time)\n",
    "            else:\n",
    "                first = int(x[:2])+12\n",
    "                second = x[2:4]\n",
    "                new_time = str(first)+\":\"+str(second)+\":\"+\"00\"   \n",
    "                time.append(new_time)\n",
    "        else:\n",
    "            if x[:2] == \"12\":\n",
    "                new_x = \"00\"\n",
    "                second = x[2:4]\n",
    "                new_time = new_x+\":\"+str(second)+\":\"+\"00\"    \n",
    "                time.append(new_time)\n",
    "            else:  \n",
    "                first = x[:2]\n",
    "                second = x[2:4]\n",
    "                new_time = str(first)+\":\"+str(second)+\":\"+\"00\"    \n",
    "                time.append(new_time)\n",
    "    return time"
   ]
  },
  {
   "cell_type": "code",
   "execution_count": 10,
   "metadata": {},
   "outputs": [
    {
     "name": "stdout",
     "output_type": "stream",
     "text": [
      "CPU times: user 3min 38s, sys: 9.38 s, total: 3min 47s\n",
      "Wall time: 3min 48s\n"
     ]
    }
   ],
   "source": [
    "%%time\n",
    "#Converting Date into right format\n",
    "df['Issue Date']=pd.to_datetime(df[\"Issue Date\"], format='%m/%d/%Y', errors='coerce')\n",
    "# Creating Time Stamps and time features\n",
    "df[\"Day Name\"] = df[\"Issue Date\"].apply(lambda x: x.day_name())\n",
    "df[\"Day Number\"] =  df[\"Issue Date\"].apply(lambda x: x.dayofweek)\n",
    "df[\"month\"] =  df[\"Issue Date\"].apply(lambda x: x.month)\n",
    "df[\"Time\"] = time(df['Violation Time'])\n",
    "df[\"Time\"] = pd.to_datetime(df[\"Time\"], format = '%H:%M:%S',  errors='coerce' )\n",
    "#df[\"Time\"] = df[\"Time\"].dt.time\n",
    "df[\"Hour\"] = df[\"Time\"].dt.hour\n",
    "df.dropna(subset= [\"Hour\"], inplace = True)\n",
    "#Dropping Violation code 36 because it is a Speed Camera\n",
    "df = df[df[\"VIOLATION DESCRIPTION\"] != \"PHTO SCHOOL ZN SPEED VIOLATION\" ]"
   ]
  },
  {
   "cell_type": "code",
   "execution_count": 11,
   "metadata": {},
   "outputs": [
    {
     "data": {
      "text/html": [
       "<div>\n",
       "<style scoped>\n",
       "    .dataframe tbody tr th:only-of-type {\n",
       "        vertical-align: middle;\n",
       "    }\n",
       "\n",
       "    .dataframe tbody tr th {\n",
       "        vertical-align: top;\n",
       "    }\n",
       "\n",
       "    .dataframe thead th {\n",
       "        text-align: right;\n",
       "    }\n",
       "</style>\n",
       "<table border=\"1\" class=\"dataframe\">\n",
       "  <thead>\n",
       "    <tr style=\"text-align: right;\">\n",
       "      <th></th>\n",
       "      <th>Summons Number</th>\n",
       "      <th>Issue Date</th>\n",
       "      <th>Violation Code</th>\n",
       "      <th>Vehicle Body Type</th>\n",
       "      <th>Vehicle Make</th>\n",
       "      <th>Issuing Agency</th>\n",
       "      <th>Violation Precinct</th>\n",
       "      <th>Issuer Precinct</th>\n",
       "      <th>Issuer Code</th>\n",
       "      <th>Issuer Command</th>\n",
       "      <th>...</th>\n",
       "      <th>Violation Post Code</th>\n",
       "      <th>VIOLATION CODE</th>\n",
       "      <th>VIOLATION DESCRIPTION</th>\n",
       "      <th>Manhattan  96th St. &amp; below\\n(Fine Amount $)</th>\n",
       "      <th>All Other Areas\\n(Fine Amount $)</th>\n",
       "      <th>Day Name</th>\n",
       "      <th>Day Number</th>\n",
       "      <th>month</th>\n",
       "      <th>Time</th>\n",
       "      <th>Hour</th>\n",
       "    </tr>\n",
       "  </thead>\n",
       "  <tbody>\n",
       "    <tr>\n",
       "      <th>0</th>\n",
       "      <td>1105232165</td>\n",
       "      <td>2018-07-03</td>\n",
       "      <td>14</td>\n",
       "      <td>SDN</td>\n",
       "      <td>HONDA</td>\n",
       "      <td>X</td>\n",
       "      <td>78</td>\n",
       "      <td>968</td>\n",
       "      <td>86684</td>\n",
       "      <td>0968</td>\n",
       "      <td>...</td>\n",
       "      <td>NaN</td>\n",
       "      <td>14.0</td>\n",
       "      <td>NO STANDING-DAY/TIME LIMITS</td>\n",
       "      <td>115.0</td>\n",
       "      <td>115.0</td>\n",
       "      <td>Tuesday</td>\n",
       "      <td>1</td>\n",
       "      <td>7</td>\n",
       "      <td>1900-01-01 20:11:00</td>\n",
       "      <td>20.0</td>\n",
       "    </tr>\n",
       "    <tr>\n",
       "      <th>1</th>\n",
       "      <td>1121274900</td>\n",
       "      <td>2018-06-28</td>\n",
       "      <td>46</td>\n",
       "      <td>SDN</td>\n",
       "      <td>NISSA</td>\n",
       "      <td>X</td>\n",
       "      <td>112</td>\n",
       "      <td>968</td>\n",
       "      <td>103419</td>\n",
       "      <td>0968</td>\n",
       "      <td>...</td>\n",
       "      <td>NaN</td>\n",
       "      <td>46.0</td>\n",
       "      <td>DOUBLE PARKING</td>\n",
       "      <td>115.0</td>\n",
       "      <td>115.0</td>\n",
       "      <td>Thursday</td>\n",
       "      <td>3</td>\n",
       "      <td>6</td>\n",
       "      <td>1900-01-01 11:45:00</td>\n",
       "      <td>11.0</td>\n",
       "    </tr>\n",
       "    <tr>\n",
       "      <th>2</th>\n",
       "      <td>1130964875</td>\n",
       "      <td>2018-06-08</td>\n",
       "      <td>24</td>\n",
       "      <td>SUBN</td>\n",
       "      <td>JEEP</td>\n",
       "      <td>X</td>\n",
       "      <td>122</td>\n",
       "      <td>835</td>\n",
       "      <td>0</td>\n",
       "      <td>0835</td>\n",
       "      <td>...</td>\n",
       "      <td>NaN</td>\n",
       "      <td>24.0</td>\n",
       "      <td>NO PARKING-EXC. AUTH. VEHICLE</td>\n",
       "      <td>65.0</td>\n",
       "      <td>60.0</td>\n",
       "      <td>Friday</td>\n",
       "      <td>4</td>\n",
       "      <td>6</td>\n",
       "      <td>1900-01-01 15:55:00</td>\n",
       "      <td>15.0</td>\n",
       "    </tr>\n",
       "    <tr>\n",
       "      <th>3</th>\n",
       "      <td>1130964887</td>\n",
       "      <td>2018-06-07</td>\n",
       "      <td>24</td>\n",
       "      <td>P-U</td>\n",
       "      <td>FORD</td>\n",
       "      <td>X</td>\n",
       "      <td>122</td>\n",
       "      <td>835</td>\n",
       "      <td>0</td>\n",
       "      <td>0835</td>\n",
       "      <td>...</td>\n",
       "      <td>NaN</td>\n",
       "      <td>24.0</td>\n",
       "      <td>NO PARKING-EXC. AUTH. VEHICLE</td>\n",
       "      <td>65.0</td>\n",
       "      <td>60.0</td>\n",
       "      <td>Thursday</td>\n",
       "      <td>3</td>\n",
       "      <td>6</td>\n",
       "      <td>1900-01-01 13:23:00</td>\n",
       "      <td>13.0</td>\n",
       "    </tr>\n",
       "    <tr>\n",
       "      <th>4</th>\n",
       "      <td>1131599342</td>\n",
       "      <td>2018-06-29</td>\n",
       "      <td>17</td>\n",
       "      <td>SUBN</td>\n",
       "      <td>HYUND</td>\n",
       "      <td>X</td>\n",
       "      <td>78</td>\n",
       "      <td>868</td>\n",
       "      <td>2354</td>\n",
       "      <td>0868</td>\n",
       "      <td>...</td>\n",
       "      <td>NaN</td>\n",
       "      <td>17.0</td>\n",
       "      <td>NO STANDING-EXC. AUTH. VEHICLE</td>\n",
       "      <td>95.0</td>\n",
       "      <td>95.0</td>\n",
       "      <td>Friday</td>\n",
       "      <td>4</td>\n",
       "      <td>6</td>\n",
       "      <td>1900-01-01 17:14:00</td>\n",
       "      <td>17.0</td>\n",
       "    </tr>\n",
       "  </tbody>\n",
       "</table>\n",
       "<p>5 rows × 25 columns</p>\n",
       "</div>"
      ],
      "text/plain": [
       "   Summons Number Issue Date  Violation Code Vehicle Body Type Vehicle Make  \\\n",
       "0      1105232165 2018-07-03              14               SDN        HONDA   \n",
       "1      1121274900 2018-06-28              46               SDN        NISSA   \n",
       "2      1130964875 2018-06-08              24              SUBN         JEEP   \n",
       "3      1130964887 2018-06-07              24               P-U         FORD   \n",
       "4      1131599342 2018-06-29              17              SUBN        HYUND   \n",
       "\n",
       "  Issuing Agency  Violation Precinct  Issuer Precinct  Issuer Code  \\\n",
       "0              X                  78              968        86684   \n",
       "1              X                 112              968       103419   \n",
       "2              X                 122              835            0   \n",
       "3              X                 122              835            0   \n",
       "4              X                  78              868         2354   \n",
       "\n",
       "  Issuer Command  ... Violation Post Code VIOLATION CODE  \\\n",
       "0           0968  ...                 NaN           14.0   \n",
       "1           0968  ...                 NaN           46.0   \n",
       "2           0835  ...                 NaN           24.0   \n",
       "3           0835  ...                 NaN           24.0   \n",
       "4           0868  ...                 NaN           17.0   \n",
       "\n",
       "            VIOLATION DESCRIPTION  \\\n",
       "0     NO STANDING-DAY/TIME LIMITS   \n",
       "1                  DOUBLE PARKING   \n",
       "2   NO PARKING-EXC. AUTH. VEHICLE   \n",
       "3   NO PARKING-EXC. AUTH. VEHICLE   \n",
       "4  NO STANDING-EXC. AUTH. VEHICLE   \n",
       "\n",
       "  Manhattan  96th St. & below\\n(Fine Amount $)  \\\n",
       "0                                        115.0   \n",
       "1                                        115.0   \n",
       "2                                         65.0   \n",
       "3                                         65.0   \n",
       "4                                         95.0   \n",
       "\n",
       "   All Other Areas\\n(Fine Amount $)  Day Name  Day Number month  \\\n",
       "0                             115.0   Tuesday           1     7   \n",
       "1                             115.0  Thursday           3     6   \n",
       "2                              60.0    Friday           4     6   \n",
       "3                              60.0  Thursday           3     6   \n",
       "4                              95.0    Friday           4     6   \n",
       "\n",
       "                 Time  Hour  \n",
       "0 1900-01-01 20:11:00  20.0  \n",
       "1 1900-01-01 11:45:00  11.0  \n",
       "2 1900-01-01 15:55:00  15.0  \n",
       "3 1900-01-01 13:23:00  13.0  \n",
       "4 1900-01-01 17:14:00  17.0  \n",
       "\n",
       "[5 rows x 25 columns]"
      ]
     },
     "execution_count": 11,
     "metadata": {},
     "output_type": "execute_result"
    }
   ],
   "source": [
    "df.head()"
   ]
  },
  {
   "cell_type": "code",
   "execution_count": null,
   "metadata": {},
   "outputs": [],
   "source": [
    "df.to_csv(\"parking2019.csv\",index=False)"
   ]
  },
  {
   "cell_type": "code",
   "execution_count": null,
   "metadata": {},
   "outputs": [],
   "source": [
    "df.head()"
   ]
  },
  {
   "cell_type": "code",
   "execution_count": null,
   "metadata": {},
   "outputs": [],
   "source": [
    "df.columns\n"
   ]
  },
  {
   "cell_type": "code",
   "execution_count": null,
   "metadata": {},
   "outputs": [],
   "source": [
    "df.columns"
   ]
  },
  {
   "cell_type": "markdown",
   "metadata": {},
   "source": [
    "### Information regarding the Dataset"
   ]
  },
  {
   "cell_type": "code",
   "execution_count": 11,
   "metadata": {},
   "outputs": [
    {
     "name": "stdout",
     "output_type": "stream",
     "text": [
      "Number of Enforcement Commands: 1096\n",
      "Number of Enforcement squads: 51\n",
      "Number of Enforcement guards: 18490\n",
      "--------------------------------------------------\n",
      "Number of violation districts: 141\n"
     ]
    }
   ],
   "source": [
    "print(\"Number of Enforcement Commands:\", len(df[\"Issuer Command\"].unique()))\n",
    "print(\"Number of Enforcement squads:\", len(df[\"Issuer Squad\"].unique()))\n",
    "print(\"Number of Enforcement guards:\", len(df[\"Issuer Code\"].unique()))\n",
    "print(50*\"-\")\n",
    "print(\"Number of violation districts:\", len(df[\"Violation Precinct\"].unique()))\n"
   ]
  },
  {
   "cell_type": "markdown",
   "metadata": {},
   "source": [
    "### Top 20 Issuing Guards"
   ]
  },
  {
   "cell_type": "code",
   "execution_count": 12,
   "metadata": {},
   "outputs": [
    {
     "name": "stdout",
     "output_type": "stream",
     "text": [
      "Top 15 issuers\n",
      "-------------------------------------------------------------\n"
     ]
    },
    {
     "data": {
      "text/plain": [
       "T103    260305\n",
       "T302    213359\n",
       "T401    199370\n",
       "T201    194553\n",
       "T402    184265\n",
       "T301    161453\n",
       "T106    108640\n",
       "T102    106310\n",
       "T105     85130\n",
       "T101     74079\n",
       "MTTF     43625\n",
       "T303     28350\n",
       "0401     26881\n",
       "T802     19800\n",
       "T801     17772\n",
       "T800     14293\n",
       "T803     11140\n",
       "T108     10028\n",
       "T501      7856\n",
       "T730      4108\n",
       "Name: Issuer Command, dtype: int64"
      ]
     },
     "execution_count": 12,
     "metadata": {},
     "output_type": "execute_result"
    }
   ],
   "source": [
    "print(\"Top 15 issuers\")\n",
    "print(61*\"-\")\n",
    "top_issuer = df[\"Issuer Command\"].value_counts()[:20]\n",
    "top = top_issuer.index.to_list()\n",
    "top_issuer"
   ]
  },
  {
   "cell_type": "code",
   "execution_count": 13,
   "metadata": {},
   "outputs": [],
   "source": [
    "#for i in top:\n",
    "#    fine = df.loc[df[\"Issuer Command\"] == i]\n",
    "#    a = fine[\"Date\"].dt.day.value_counts()\n",
    "#    b = a.sort_index()\n",
    "#    c = b.to_list()\n",
    "#    d = b.index.to_list()\n",
    "#    plt.bar(d, c)\n",
    "#    plt.title(i)\n",
    "#    plt.show()"
   ]
  },
  {
   "cell_type": "code",
   "execution_count": null,
   "metadata": {},
   "outputs": [],
   "source": []
  },
  {
   "cell_type": "code",
   "execution_count": 15,
   "metadata": {},
   "outputs": [
    {
     "data": {
      "text/plain": [
       "NO PARKING-STREET CLEANING        360036\n",
       "FAIL TO DSPLY MUNI METER RECPT    233993\n",
       "NO STANDING-DAY/TIME LIMITS       202008\n",
       "NO PARKING-DAY/TIME LIMITS        159222\n",
       "DOUBLE PARKING                    118305\n",
       "FIRE HYDRANT                      111289\n",
       "INSP. STICKER-EXPIRED/MISSING     109919\n",
       "EXPIRED MUNI METER                 96722\n",
       "FAILURE TO STOP AT RED LIGHT       94587\n",
       "REG. STICKER-EXPIRED/MISSING       63533\n",
       "Name: VIOLATION DESCRIPTION, dtype: int64"
      ]
     },
     "execution_count": 15,
     "metadata": {},
     "output_type": "execute_result"
    }
   ],
   "source": [
    "#Top 5 most violtated parkings crimes\n",
    "topfines = df[\"VIOLATION DESCRIPTION\"].value_counts()[:10]\n",
    "topfines"
   ]
  },
  {
   "cell_type": "code",
   "execution_count": 50,
   "metadata": {},
   "outputs": [],
   "source": [
    "fines = topfines.index.to_list()\n",
    "df = result.loc[result['VIOLATION DESCRIPTION'].isin(fines)]"
   ]
  },
  {
   "cell_type": "code",
   "execution_count": 52,
   "metadata": {},
   "outputs": [
    {
     "name": "stdout",
     "output_type": "stream",
     "text": [
      "Number of rows: 1705427  \n",
      "Number of Variables: 52\n"
     ]
    }
   ],
   "source": [
    "#Length and number of variables in the dataset \n",
    "print(\"Number of rows: {}  \\nNumber of Variables: {}\" .format(df.shape[0], str(df.shape[1])))"
   ]
  },
  {
   "cell_type": "code",
   "execution_count": null,
   "metadata": {},
   "outputs": [],
   "source": []
  },
  {
   "cell_type": "code",
   "execution_count": 53,
   "metadata": {},
   "outputs": [
    {
     "data": {
      "text/html": [
       "<div>\n",
       "<style scoped>\n",
       "    .dataframe tbody tr th:only-of-type {\n",
       "        vertical-align: middle;\n",
       "    }\n",
       "\n",
       "    .dataframe tbody tr th {\n",
       "        vertical-align: top;\n",
       "    }\n",
       "\n",
       "    .dataframe thead th {\n",
       "        text-align: right;\n",
       "    }\n",
       "</style>\n",
       "<table border=\"1\" class=\"dataframe\">\n",
       "  <thead>\n",
       "    <tr style=\"text-align: right;\">\n",
       "      <th></th>\n",
       "      <th>Summons Number</th>\n",
       "      <th>Plate ID</th>\n",
       "      <th>Registration State</th>\n",
       "      <th>Plate Type</th>\n",
       "      <th>Issue Date</th>\n",
       "      <th>Code</th>\n",
       "      <th>Vehicle Body Type</th>\n",
       "      <th>Vehicle Make</th>\n",
       "      <th>Issuing Agency</th>\n",
       "      <th>Street Code1</th>\n",
       "      <th>...</th>\n",
       "      <th>Double Parking Violation</th>\n",
       "      <th>Date</th>\n",
       "      <th>Day Name</th>\n",
       "      <th>Day Number</th>\n",
       "      <th>month</th>\n",
       "      <th>VIOLATION DESCRIPTION</th>\n",
       "      <th>Manhattan  96th St. &amp; below\\n(Fine Amount $)</th>\n",
       "      <th>All Other Areas\\n(Fine Amount $)</th>\n",
       "      <th>Time</th>\n",
       "      <th>Hour</th>\n",
       "    </tr>\n",
       "  </thead>\n",
       "  <tbody>\n",
       "    <tr>\n",
       "      <th>0</th>\n",
       "      <td>8693880032</td>\n",
       "      <td>T756209C</td>\n",
       "      <td>NY</td>\n",
       "      <td>OMT</td>\n",
       "      <td>01/28/2019</td>\n",
       "      <td>38</td>\n",
       "      <td>4DSD</td>\n",
       "      <td>CHRYS</td>\n",
       "      <td>T</td>\n",
       "      <td>40930</td>\n",
       "      <td>...</td>\n",
       "      <td>NaN</td>\n",
       "      <td>2019-01-28</td>\n",
       "      <td>Monday</td>\n",
       "      <td>0</td>\n",
       "      <td>1</td>\n",
       "      <td>FAIL TO DSPLY MUNI METER RECPT</td>\n",
       "      <td>65.0</td>\n",
       "      <td>35.0</td>\n",
       "      <td>1900-01-01 15:56:00</td>\n",
       "      <td>15.0</td>\n",
       "    </tr>\n",
       "    <tr>\n",
       "      <th>1</th>\n",
       "      <td>8671121859</td>\n",
       "      <td>HYS3655</td>\n",
       "      <td>NY</td>\n",
       "      <td>PAS</td>\n",
       "      <td>11/18/2018</td>\n",
       "      <td>20</td>\n",
       "      <td>SUBN</td>\n",
       "      <td>HONDA</td>\n",
       "      <td>T</td>\n",
       "      <td>24440</td>\n",
       "      <td>...</td>\n",
       "      <td>NaN</td>\n",
       "      <td>2018-11-18</td>\n",
       "      <td>Sunday</td>\n",
       "      <td>6</td>\n",
       "      <td>11</td>\n",
       "      <td>NO PARKING-DAY/TIME LIMITS</td>\n",
       "      <td>65.0</td>\n",
       "      <td>60.0</td>\n",
       "      <td>1900-01-01 00:38:00</td>\n",
       "      <td>0.0</td>\n",
       "    </tr>\n",
       "    <tr>\n",
       "      <th>3</th>\n",
       "      <td>8603126227</td>\n",
       "      <td>GEV5230</td>\n",
       "      <td>NY</td>\n",
       "      <td>PAS</td>\n",
       "      <td>08/01/2018</td>\n",
       "      <td>46</td>\n",
       "      <td>2DSD</td>\n",
       "      <td>MINI</td>\n",
       "      <td>T</td>\n",
       "      <td>22240</td>\n",
       "      <td>...</td>\n",
       "      <td>NaN</td>\n",
       "      <td>2018-08-01</td>\n",
       "      <td>Wednesday</td>\n",
       "      <td>2</td>\n",
       "      <td>8</td>\n",
       "      <td>DOUBLE PARKING</td>\n",
       "      <td>115.0</td>\n",
       "      <td>115.0</td>\n",
       "      <td>1900-01-01 13:58:00</td>\n",
       "      <td>13.0</td>\n",
       "    </tr>\n",
       "    <tr>\n",
       "      <th>4</th>\n",
       "      <td>5103223648</td>\n",
       "      <td>L83CED</td>\n",
       "      <td>NJ</td>\n",
       "      <td>PAS</td>\n",
       "      <td>09/04/2018</td>\n",
       "      <td>7</td>\n",
       "      <td>WAGO</td>\n",
       "      <td>CHEVR</td>\n",
       "      <td>V</td>\n",
       "      <td>0</td>\n",
       "      <td>...</td>\n",
       "      <td>NaN</td>\n",
       "      <td>2018-09-04</td>\n",
       "      <td>Tuesday</td>\n",
       "      <td>1</td>\n",
       "      <td>9</td>\n",
       "      <td>FAILURE TO STOP AT RED LIGHT</td>\n",
       "      <td>50.0</td>\n",
       "      <td>50.0</td>\n",
       "      <td>1900-01-01 06:30:00</td>\n",
       "      <td>6.0</td>\n",
       "    </tr>\n",
       "    <tr>\n",
       "      <th>6</th>\n",
       "      <td>5105308037</td>\n",
       "      <td>HKB7715</td>\n",
       "      <td>NY</td>\n",
       "      <td>PAS</td>\n",
       "      <td>02/15/2019</td>\n",
       "      <td>7</td>\n",
       "      <td>4DSD</td>\n",
       "      <td>TOYOT</td>\n",
       "      <td>V</td>\n",
       "      <td>0</td>\n",
       "      <td>...</td>\n",
       "      <td>NaN</td>\n",
       "      <td>2019-02-15</td>\n",
       "      <td>Friday</td>\n",
       "      <td>4</td>\n",
       "      <td>2</td>\n",
       "      <td>FAILURE TO STOP AT RED LIGHT</td>\n",
       "      <td>50.0</td>\n",
       "      <td>50.0</td>\n",
       "      <td>1900-01-01 14:37:00</td>\n",
       "      <td>14.0</td>\n",
       "    </tr>\n",
       "  </tbody>\n",
       "</table>\n",
       "<p>5 rows × 52 columns</p>\n",
       "</div>"
      ],
      "text/plain": [
       "   Summons Number  Plate ID Registration State Plate Type  Issue Date  Code  \\\n",
       "0      8693880032  T756209C                 NY        OMT  01/28/2019    38   \n",
       "1      8671121859   HYS3655                 NY        PAS  11/18/2018    20   \n",
       "3      8603126227   GEV5230                 NY        PAS  08/01/2018    46   \n",
       "4      5103223648    L83CED                 NJ        PAS  09/04/2018     7   \n",
       "6      5105308037   HKB7715                 NY        PAS  02/15/2019     7   \n",
       "\n",
       "  Vehicle Body Type Vehicle Make Issuing Agency  Street Code1  ...  \\\n",
       "0              4DSD        CHRYS              T         40930  ...   \n",
       "1              SUBN        HONDA              T         24440  ...   \n",
       "3              2DSD         MINI              T         22240  ...   \n",
       "4              WAGO        CHEVR              V             0  ...   \n",
       "6              4DSD        TOYOT              V             0  ...   \n",
       "\n",
       "   Double Parking Violation       Date   Day Name  Day Number  month  \\\n",
       "0                       NaN 2019-01-28     Monday           0      1   \n",
       "1                       NaN 2018-11-18     Sunday           6     11   \n",
       "3                       NaN 2018-08-01  Wednesday           2      8   \n",
       "4                       NaN 2018-09-04    Tuesday           1      9   \n",
       "6                       NaN 2019-02-15     Friday           4      2   \n",
       "\n",
       "            VIOLATION DESCRIPTION  \\\n",
       "0  FAIL TO DSPLY MUNI METER RECPT   \n",
       "1      NO PARKING-DAY/TIME LIMITS   \n",
       "3                  DOUBLE PARKING   \n",
       "4    FAILURE TO STOP AT RED LIGHT   \n",
       "6    FAILURE TO STOP AT RED LIGHT   \n",
       "\n",
       "   Manhattan  96th St. & below\\n(Fine Amount $)  \\\n",
       "0                                          65.0   \n",
       "1                                          65.0   \n",
       "3                                         115.0   \n",
       "4                                          50.0   \n",
       "6                                          50.0   \n",
       "\n",
       "  All Other Areas\\n(Fine Amount $)                Time  Hour  \n",
       "0                             35.0 1900-01-01 15:56:00  15.0  \n",
       "1                             60.0 1900-01-01 00:38:00   0.0  \n",
       "3                            115.0 1900-01-01 13:58:00  13.0  \n",
       "4                             50.0 1900-01-01 06:30:00   6.0  \n",
       "6                             50.0 1900-01-01 14:37:00  14.0  \n",
       "\n",
       "[5 rows x 52 columns]"
      ]
     },
     "execution_count": 53,
     "metadata": {},
     "output_type": "execute_result"
    }
   ],
   "source": [
    "df.head()"
   ]
  },
  {
   "cell_type": "code",
   "execution_count": 85,
   "metadata": {},
   "outputs": [
    {
     "data": {
      "text/plain": [
       "219155"
      ]
     },
     "execution_count": 85,
     "metadata": {},
     "output_type": "execute_result"
    }
   ],
   "source": [
    "df[\"VIOLATION DESCRIPTION\"].unique()\n",
    "len(df.loc[df[\"VIOLATION DESCRIPTION\"]=='PHTO SCHOOL ZN SPEED VIOLATION'][\"Issuer Squad\"])"
   ]
  },
  {
   "cell_type": "code",
   "execution_count": 54,
   "metadata": {},
   "outputs": [],
   "source": [
    "import plotly.graph_objects as go\n",
    "from ipywidgets import widgets"
   ]
  },
  {
   "cell_type": "code",
   "execution_count": 60,
   "metadata": {},
   "outputs": [],
   "source": [
    "month = widgets.IntSlider(\n",
    "    value=1.0,\n",
    "    min=1.0,\n",
    "    max=12.0,\n",
    "    step=1.0,\n",
    "    description='Month:',\n",
    "    continuous_update=False\n",
    ")\n",
    "\n",
    "use_date = widgets.Checkbox(\n",
    "    description='Date: ',\n",
    "    value=True,\n",
    ")\n",
    "\n",
    "container = widgets.HBox(children=[use_date, month])\n",
    "\n",
    "\n",
    "origin = widgets.Dropdown(\n",
    "    options=list(df['VIOLATION DESCRIPTION'].unique()),\n",
    "    value='FAIL TO DSPLY MUNI METER RECPT',\n",
    "    description='Violation:',\n",
    ")\n",
    "\n",
    "\n",
    "# Assign an empty figure widget with two traces\n",
    "trace1 = go.Histogram(x=df['Hour'], opacity=0.75, name='Issuer Command')\n",
    "#trace2 = go.Histogram(x=df['dep_delay'], opacity=0.75, name='Departure Delays')\n",
    "g = go.FigureWidget(data=[trace1],\n",
    "                    layout=go.Layout(\n",
    "                        title=dict(\n",
    "                            text='NYC FlightDatabase'\n",
    "                        ),\n",
    "                        barmode='overlay'\n",
    "                    ))"
   ]
  },
  {
   "cell_type": "code",
   "execution_count": 67,
   "metadata": {},
   "outputs": [],
   "source": [
    "def validate():\n",
    "\n",
    "    if origin.value in df['VIOLATION DESCRIPTION'].unique():\n",
    "        return True\n",
    "    else:\n",
    "        return False\n",
    "\n",
    "\n",
    "def response(change):\n",
    "    if validate():\n",
    "        if use_date.value:\n",
    "            filter_list = [i and j and k for i, j, k in\n",
    "                           zip(df['month'] == month.value,\n",
    "                               df['VIOLATION DESCRIPTION'] == origin.value)]\n",
    "            temp_df = df[filter_list]\n",
    "\n",
    "        else:\n",
    "            filter_list = [i and j for i, j in\n",
    "                           zip( df['VIOLATION DESCRIPTION'] == origin.value)]\n",
    "            temp_df = df[filter_list]\n",
    "        x1 = temp_df['Issuer Command']\n",
    "        \n",
    "        with g.batch_update():\n",
    "            g.data[0].x = x1\n",
    "            g.data[1].x = x2\n",
    "            g.layout.barmode = 'overlay'\n",
    "            g.layout.xaxis.title = 'Delay in Minutes'\n",
    "            g.layout.yaxis.title = 'Number of Delays'\n",
    "\n",
    "\n",
    "origin.observe(response, names=\"value\")\n",
    "#textbox.observe(response, names=\"value\")\n",
    "month.observe(response, names=\"value\")\n",
    "use_date.observe(response, names=\"value\")"
   ]
  },
  {
   "cell_type": "code",
   "execution_count": 71,
   "metadata": {},
   "outputs": [
    {
     "data": {
      "application/vnd.jupyter.widget-view+json": {
       "model_id": "9eef7a90870a44d5b1666e8431ed0116",
       "version_major": 2,
       "version_minor": 0
      },
      "text/plain": [
       "VBox(children=(HBox(children=(Checkbox(value=True, description='Date: '), IntSlider(value=1, continuous_update…"
      ]
     },
     "metadata": {},
     "output_type": "display_data"
    }
   ],
   "source": [
    "container2 = widgets.HBox([origin])\n",
    "widgets.VBox([container,\n",
    "              g])"
   ]
  },
  {
   "cell_type": "code",
   "execution_count": null,
   "metadata": {},
   "outputs": [],
   "source": []
  },
  {
   "cell_type": "code",
   "execution_count": null,
   "metadata": {},
   "outputs": [],
   "source": []
  },
  {
   "cell_type": "code",
   "execution_count": null,
   "metadata": {},
   "outputs": [],
   "source": []
  },
  {
   "cell_type": "code",
   "execution_count": null,
   "metadata": {},
   "outputs": [],
   "source": []
  },
  {
   "cell_type": "code",
   "execution_count": null,
   "metadata": {},
   "outputs": [],
   "source": []
  },
  {
   "cell_type": "code",
   "execution_count": null,
   "metadata": {},
   "outputs": [],
   "source": []
  },
  {
   "cell_type": "code",
   "execution_count": null,
   "metadata": {},
   "outputs": [],
   "source": []
  },
  {
   "cell_type": "code",
   "execution_count": 16,
   "metadata": {},
   "outputs": [],
   "source": [
    "def bokeh(df,x):\n",
    "    bokeh = df[df[\"VIOLATION DESCRIPTION\"].isin(fines)] #Reducing the dataframe only to obtain the forcuscrimes\n",
    "    station = bokeh.groupby(df[x])[\"VIOLATION DESCRIPTION\"].value_counts().unstack()\n",
    "    station.reset_index(level=0, inplace=True) # creating a new index, so hour becomes a column. \n",
    "    \n",
    "    monthDict={1:'Jan', 2:'Feb', 3:'Mar', 4:'Apr', 5:'May', 6:'Jun', 7:'Jul', 8:'Aug', 9:'Sep', 10:'Oct', 11:'Nov', 12:'Dec'}\n",
    "    \n",
    "    source = ColumnDataSource(station)\n",
    "    \n",
    "    hours = [] # empty list to store the string converted hours\n",
    "    for i in range(len(df[x].unique())):\n",
    "        hours.append(str(i))\n",
    "    \n",
    "    p = figure(x_range = FactorRange(factors=hours),plot_height=500, plot_width= 1200, toolbar_location=None, title=\"Distibution of # of fines for top 10 violations pr. {}\".format(x))\n",
    "    bar ={}\n",
    "    items = [] \n",
    "    for indx,i in enumerate(fines):\n",
    "        bar[i] = p.vbar(x=x, width=0.5,  top=i, source = source, muted_alpha =0.09, alpha=3, muted_color=Category20[15][indx] ,color=Category20[15][indx]) \n",
    "        items.append((i, [bar[i]])) #the dictionary is appended to the items list, to the respective category.  \n",
    "        \n",
    "    legend = Legend(items=items, location=(0,50)) #Legend and location is configured\n",
    "    p.add_layout(legend, \"left\") #Adding the legend outisde the plot. \n",
    "    p.xaxis.axis_label = x #Setting x-axis title\n",
    "    p.yaxis.axis_label = \"# of fines\" #Setting y-axis title\n",
    "    p.x_range.range_padding = 0.04 # \n",
    "    p.legend.click_policy=\"mute\" #mute is chossen, becuase this enables one to see all of the different categories partily if not chosen, instead of hiding them. \n",
    "    show(p) "
   ]
  },
  {
   "cell_type": "code",
   "execution_count": 73,
   "metadata": {},
   "outputs": [
    {
     "data": {
      "text/html": [
       "\n",
       "\n",
       "\n",
       "\n",
       "\n",
       "\n",
       "  <div class=\"bk-root\" id=\"1256af2c-d917-4c15-beea-a6b133eca0af\" data-root-id=\"2301\"></div>\n"
      ]
     },
     "metadata": {},
     "output_type": "display_data"
    },
    {
     "data": {
      "application/javascript": [
       "(function(root) {\n",
       "  function embed_document(root) {\n",
       "    \n",
       "  var docs_json = {\"805285d9-e3bb-478a-aacd-b043e4645d43\":{\"roots\":{\"references\":[{\"attributes\":{\"below\":[{\"id\":\"2311\",\"type\":\"CategoricalAxis\"}],\"center\":[{\"id\":\"2314\",\"type\":\"Grid\"},{\"id\":\"2319\",\"type\":\"Grid\"}],\"left\":[{\"id\":\"2315\",\"type\":\"LinearAxis\"},{\"id\":\"2393\",\"type\":\"Legend\"}],\"plot_height\":500,\"plot_width\":1200,\"renderers\":[{\"id\":\"2337\",\"type\":\"GlyphRenderer\"},{\"id\":\"2343\",\"type\":\"GlyphRenderer\"},{\"id\":\"2349\",\"type\":\"GlyphRenderer\"},{\"id\":\"2355\",\"type\":\"GlyphRenderer\"},{\"id\":\"2361\",\"type\":\"GlyphRenderer\"},{\"id\":\"2367\",\"type\":\"GlyphRenderer\"},{\"id\":\"2373\",\"type\":\"GlyphRenderer\"},{\"id\":\"2379\",\"type\":\"GlyphRenderer\"},{\"id\":\"2385\",\"type\":\"GlyphRenderer\"},{\"id\":\"2391\",\"type\":\"GlyphRenderer\"}],\"title\":{\"id\":\"2302\",\"type\":\"Title\"},\"toolbar\":{\"id\":\"2326\",\"type\":\"Toolbar\"},\"toolbar_location\":null,\"x_range\":{\"id\":\"2300\",\"type\":\"FactorRange\"},\"x_scale\":{\"id\":\"2307\",\"type\":\"CategoricalScale\"},\"y_range\":{\"id\":\"2305\",\"type\":\"DataRange1d\"},\"y_scale\":{\"id\":\"2309\",\"type\":\"LinearScale\"}},\"id\":\"2301\",\"subtype\":\"Figure\",\"type\":\"Plot\"},{\"attributes\":{\"fill_alpha\":{\"value\":3},\"fill_color\":{\"value\":\"#98df8a\"},\"line_alpha\":{\"value\":3},\"line_color\":{\"value\":\"#98df8a\"},\"top\":{\"field\":\"DOUBLE PARKING\"},\"width\":{\"value\":0.5},\"x\":{\"field\":\"Hour\"}},\"id\":\"2364\",\"type\":\"VBar\"},{\"attributes\":{\"fill_alpha\":{\"value\":0.09},\"fill_color\":{\"value\":\"#1f77b4\"},\"line_alpha\":{\"value\":0.09},\"line_color\":{\"value\":\"#1f77b4\"},\"top\":{\"field\":\"NO PARKING-STREET CLEANING\"},\"width\":{\"value\":0.5},\"x\":{\"field\":\"Hour\"}},\"id\":\"2336\",\"type\":\"VBar\"},{\"attributes\":{\"active_drag\":\"auto\",\"active_inspect\":\"auto\",\"active_multi\":null,\"active_scroll\":\"auto\",\"active_tap\":\"auto\",\"tools\":[{\"id\":\"2320\",\"type\":\"PanTool\"},{\"id\":\"2321\",\"type\":\"WheelZoomTool\"},{\"id\":\"2322\",\"type\":\"BoxZoomTool\"},{\"id\":\"2323\",\"type\":\"SaveTool\"},{\"id\":\"2324\",\"type\":\"ResetTool\"},{\"id\":\"2325\",\"type\":\"HelpTool\"}]},\"id\":\"2326\",\"type\":\"Toolbar\"},{\"attributes\":{\"text\":\"Distibution of # of fines for top 10 violations pr. Hour\"},\"id\":\"2302\",\"type\":\"Title\"},{\"attributes\":{\"label\":{\"value\":\"NO PARKING-STREET CLEANING\"},\"renderers\":[{\"id\":\"2337\",\"type\":\"GlyphRenderer\"}]},\"id\":\"2394\",\"type\":\"LegendItem\"},{\"attributes\":{\"callback\":null},\"id\":\"2305\",\"type\":\"DataRange1d\"},{\"attributes\":{\"data_source\":{\"id\":\"2299\",\"type\":\"ColumnDataSource\"},\"glyph\":{\"id\":\"2382\",\"type\":\"VBar\"},\"hover_glyph\":null,\"muted_glyph\":{\"id\":\"2384\",\"type\":\"VBar\"},\"nonselection_glyph\":{\"id\":\"2383\",\"type\":\"VBar\"},\"selection_glyph\":null,\"view\":{\"id\":\"2386\",\"type\":\"CDSView\"}},\"id\":\"2385\",\"type\":\"GlyphRenderer\"},{\"attributes\":{\"fill_alpha\":{\"value\":0.09},\"fill_color\":{\"value\":\"#98df8a\"},\"line_alpha\":{\"value\":0.09},\"line_color\":{\"value\":\"#98df8a\"},\"top\":{\"field\":\"DOUBLE PARKING\"},\"width\":{\"value\":0.5},\"x\":{\"field\":\"Hour\"}},\"id\":\"2366\",\"type\":\"VBar\"},{\"attributes\":{},\"id\":\"2307\",\"type\":\"CategoricalScale\"},{\"attributes\":{\"fill_alpha\":{\"value\":0.1},\"fill_color\":{\"value\":\"#1f77b4\"},\"line_alpha\":{\"value\":0.1},\"line_color\":{\"value\":\"#1f77b4\"},\"top\":{\"field\":\"DOUBLE PARKING\"},\"width\":{\"value\":0.5},\"x\":{\"field\":\"Hour\"}},\"id\":\"2365\",\"type\":\"VBar\"},{\"attributes\":{},\"id\":\"2309\",\"type\":\"LinearScale\"},{\"attributes\":{\"axis_label\":\"Hour\",\"formatter\":{\"id\":\"2462\",\"type\":\"CategoricalTickFormatter\"},\"ticker\":{\"id\":\"2312\",\"type\":\"CategoricalTicker\"}},\"id\":\"2311\",\"type\":\"CategoricalAxis\"},{\"attributes\":{\"source\":{\"id\":\"2299\",\"type\":\"ColumnDataSource\"}},\"id\":\"2392\",\"type\":\"CDSView\"},{\"attributes\":{\"dimension\":1,\"ticker\":{\"id\":\"2316\",\"type\":\"BasicTicker\"}},\"id\":\"2319\",\"type\":\"Grid\"},{\"attributes\":{\"data_source\":{\"id\":\"2299\",\"type\":\"ColumnDataSource\"},\"glyph\":{\"id\":\"2364\",\"type\":\"VBar\"},\"hover_glyph\":null,\"muted_glyph\":{\"id\":\"2366\",\"type\":\"VBar\"},\"nonselection_glyph\":{\"id\":\"2365\",\"type\":\"VBar\"},\"selection_glyph\":null,\"view\":{\"id\":\"2368\",\"type\":\"CDSView\"}},\"id\":\"2367\",\"type\":\"GlyphRenderer\"},{\"attributes\":{\"source\":{\"id\":\"2299\",\"type\":\"ColumnDataSource\"}},\"id\":\"2368\",\"type\":\"CDSView\"},{\"attributes\":{},\"id\":\"2316\",\"type\":\"BasicTicker\"},{\"attributes\":{\"ticker\":{\"id\":\"2312\",\"type\":\"CategoricalTicker\"}},\"id\":\"2314\",\"type\":\"Grid\"},{\"attributes\":{\"fill_alpha\":{\"value\":0.09},\"fill_color\":{\"value\":\"#d62728\"},\"line_alpha\":{\"value\":0.09},\"line_color\":{\"value\":\"#d62728\"},\"top\":{\"field\":\"INSP. STICKER-EXPIRED/MISSING\"},\"width\":{\"value\":0.5},\"x\":{\"field\":\"Hour\"}},\"id\":\"2372\",\"type\":\"VBar\"},{\"attributes\":{},\"id\":\"2312\",\"type\":\"CategoricalTicker\"},{\"attributes\":{\"data_source\":{\"id\":\"2299\",\"type\":\"ColumnDataSource\"},\"glyph\":{\"id\":\"2388\",\"type\":\"VBar\"},\"hover_glyph\":null,\"muted_glyph\":{\"id\":\"2390\",\"type\":\"VBar\"},\"nonselection_glyph\":{\"id\":\"2389\",\"type\":\"VBar\"},\"selection_glyph\":null,\"view\":{\"id\":\"2392\",\"type\":\"CDSView\"}},\"id\":\"2391\",\"type\":\"GlyphRenderer\"},{\"attributes\":{\"fill_alpha\":{\"value\":3},\"fill_color\":{\"value\":\"#d62728\"},\"line_alpha\":{\"value\":3},\"line_color\":{\"value\":\"#d62728\"},\"top\":{\"field\":\"INSP. STICKER-EXPIRED/MISSING\"},\"width\":{\"value\":0.5},\"x\":{\"field\":\"Hour\"}},\"id\":\"2370\",\"type\":\"VBar\"},{\"attributes\":{\"data_source\":{\"id\":\"2299\",\"type\":\"ColumnDataSource\"},\"glyph\":{\"id\":\"2370\",\"type\":\"VBar\"},\"hover_glyph\":null,\"muted_glyph\":{\"id\":\"2372\",\"type\":\"VBar\"},\"nonselection_glyph\":{\"id\":\"2371\",\"type\":\"VBar\"},\"selection_glyph\":null,\"view\":{\"id\":\"2374\",\"type\":\"CDSView\"}},\"id\":\"2373\",\"type\":\"GlyphRenderer\"},{\"attributes\":{\"fill_alpha\":{\"value\":0.1},\"fill_color\":{\"value\":\"#1f77b4\"},\"line_alpha\":{\"value\":0.1},\"line_color\":{\"value\":\"#1f77b4\"},\"top\":{\"field\":\"INSP. STICKER-EXPIRED/MISSING\"},\"width\":{\"value\":0.5},\"x\":{\"field\":\"Hour\"}},\"id\":\"2371\",\"type\":\"VBar\"},{\"attributes\":{\"fill_alpha\":{\"value\":3},\"fill_color\":{\"value\":\"#1f77b4\"},\"line_alpha\":{\"value\":3},\"line_color\":{\"value\":\"#1f77b4\"},\"top\":{\"field\":\"NO PARKING-STREET CLEANING\"},\"width\":{\"value\":0.5},\"x\":{\"field\":\"Hour\"}},\"id\":\"2334\",\"type\":\"VBar\"},{\"attributes\":{\"fill_alpha\":{\"value\":3},\"fill_color\":{\"value\":\"#ff9896\"},\"line_alpha\":{\"value\":3},\"line_color\":{\"value\":\"#ff9896\"},\"top\":{\"field\":\"FIRE HYDRANT\"},\"width\":{\"value\":0.5},\"x\":{\"field\":\"Hour\"}},\"id\":\"2376\",\"type\":\"VBar\"},{\"attributes\":{\"axis_label\":\"# of fines\",\"formatter\":{\"id\":\"2464\",\"type\":\"BasicTickFormatter\"},\"ticker\":{\"id\":\"2316\",\"type\":\"BasicTicker\"}},\"id\":\"2315\",\"type\":\"LinearAxis\"},{\"attributes\":{\"bottom_units\":\"screen\",\"fill_alpha\":{\"value\":0.5},\"fill_color\":{\"value\":\"lightgrey\"},\"left_units\":\"screen\",\"level\":\"overlay\",\"line_alpha\":{\"value\":1.0},\"line_color\":{\"value\":\"black\"},\"line_dash\":[4,4],\"line_width\":{\"value\":2},\"render_mode\":\"css\",\"right_units\":\"screen\",\"top_units\":\"screen\"},\"id\":\"2467\",\"type\":\"BoxAnnotation\"},{\"attributes\":{\"label\":{\"value\":\"FAILURE TO STOP AT RED LIGHT\"},\"renderers\":[{\"id\":\"2391\",\"type\":\"GlyphRenderer\"}]},\"id\":\"2403\",\"type\":\"LegendItem\"},{\"attributes\":{\"fill_alpha\":{\"value\":0.09},\"fill_color\":{\"value\":\"#c5b0d5\"},\"line_alpha\":{\"value\":0.09},\"line_color\":{\"value\":\"#c5b0d5\"},\"top\":{\"field\":\"FAILURE TO STOP AT RED LIGHT\"},\"width\":{\"value\":0.5},\"x\":{\"field\":\"Hour\"}},\"id\":\"2390\",\"type\":\"VBar\"},{\"attributes\":{\"source\":{\"id\":\"2299\",\"type\":\"ColumnDataSource\"}},\"id\":\"2386\",\"type\":\"CDSView\"},{\"attributes\":{},\"id\":\"2325\",\"type\":\"HelpTool\"},{\"attributes\":{\"label\":{\"value\":\"FAIL TO DSPLY MUNI METER RECPT\"},\"renderers\":[{\"id\":\"2343\",\"type\":\"GlyphRenderer\"}]},\"id\":\"2395\",\"type\":\"LegendItem\"},{\"attributes\":{\"fill_alpha\":{\"value\":3},\"fill_color\":{\"value\":\"#9467bd\"},\"line_alpha\":{\"value\":3},\"line_color\":{\"value\":\"#9467bd\"},\"top\":{\"field\":\"EXPIRED MUNI METER\"},\"width\":{\"value\":0.5},\"x\":{\"field\":\"Hour\"}},\"id\":\"2382\",\"type\":\"VBar\"},{\"attributes\":{\"source\":{\"id\":\"2299\",\"type\":\"ColumnDataSource\"}},\"id\":\"2374\",\"type\":\"CDSView\"},{\"attributes\":{\"overlay\":{\"id\":\"2467\",\"type\":\"BoxAnnotation\"}},\"id\":\"2322\",\"type\":\"BoxZoomTool\"},{\"attributes\":{\"fill_alpha\":{\"value\":0.1},\"fill_color\":{\"value\":\"#1f77b4\"},\"line_alpha\":{\"value\":0.1},\"line_color\":{\"value\":\"#1f77b4\"},\"top\":{\"field\":\"FIRE HYDRANT\"},\"width\":{\"value\":0.5},\"x\":{\"field\":\"Hour\"}},\"id\":\"2377\",\"type\":\"VBar\"},{\"attributes\":{},\"id\":\"2324\",\"type\":\"ResetTool\"},{\"attributes\":{},\"id\":\"2320\",\"type\":\"PanTool\"},{\"attributes\":{\"label\":{\"value\":\"DOUBLE PARKING\"},\"renderers\":[{\"id\":\"2367\",\"type\":\"GlyphRenderer\"}]},\"id\":\"2399\",\"type\":\"LegendItem\"},{\"attributes\":{\"fill_alpha\":{\"value\":0.09},\"fill_color\":{\"value\":\"#ff9896\"},\"line_alpha\":{\"value\":0.09},\"line_color\":{\"value\":\"#ff9896\"},\"top\":{\"field\":\"FIRE HYDRANT\"},\"width\":{\"value\":0.5},\"x\":{\"field\":\"Hour\"}},\"id\":\"2378\",\"type\":\"VBar\"},{\"attributes\":{},\"id\":\"2321\",\"type\":\"WheelZoomTool\"},{\"attributes\":{\"label\":{\"value\":\"NO STANDING-DAY/TIME LIMITS\"},\"renderers\":[{\"id\":\"2355\",\"type\":\"GlyphRenderer\"}]},\"id\":\"2397\",\"type\":\"LegendItem\"},{\"attributes\":{},\"id\":\"2323\",\"type\":\"SaveTool\"},{\"attributes\":{\"label\":{\"value\":\"PHTO SCHOOL ZN SPEED VIOLATION\"},\"renderers\":[{\"id\":\"2349\",\"type\":\"GlyphRenderer\"}]},\"id\":\"2396\",\"type\":\"LegendItem\"},{\"attributes\":{\"fill_alpha\":{\"value\":0.1},\"fill_color\":{\"value\":\"#1f77b4\"},\"line_alpha\":{\"value\":0.1},\"line_color\":{\"value\":\"#1f77b4\"},\"top\":{\"field\":\"NO PARKING-STREET CLEANING\"},\"width\":{\"value\":0.5},\"x\":{\"field\":\"Hour\"}},\"id\":\"2335\",\"type\":\"VBar\"},{\"attributes\":{\"label\":{\"value\":\"NO PARKING-DAY/TIME LIMITS\"},\"renderers\":[{\"id\":\"2361\",\"type\":\"GlyphRenderer\"}]},\"id\":\"2398\",\"type\":\"LegendItem\"},{\"attributes\":{\"data_source\":{\"id\":\"2299\",\"type\":\"ColumnDataSource\"},\"glyph\":{\"id\":\"2334\",\"type\":\"VBar\"},\"hover_glyph\":null,\"muted_glyph\":{\"id\":\"2336\",\"type\":\"VBar\"},\"nonselection_glyph\":{\"id\":\"2335\",\"type\":\"VBar\"},\"selection_glyph\":null,\"view\":{\"id\":\"2338\",\"type\":\"CDSView\"}},\"id\":\"2337\",\"type\":\"GlyphRenderer\"},{\"attributes\":{\"label\":{\"value\":\"INSP. STICKER-EXPIRED/MISSING\"},\"renderers\":[{\"id\":\"2373\",\"type\":\"GlyphRenderer\"}]},\"id\":\"2400\",\"type\":\"LegendItem\"},{\"attributes\":{\"source\":{\"id\":\"2299\",\"type\":\"ColumnDataSource\"}},\"id\":\"2338\",\"type\":\"CDSView\"},{\"attributes\":{\"fill_alpha\":{\"value\":3},\"fill_color\":{\"value\":\"#aec7e8\"},\"line_alpha\":{\"value\":3},\"line_color\":{\"value\":\"#aec7e8\"},\"top\":{\"field\":\"FAIL TO DSPLY MUNI METER RECPT\"},\"width\":{\"value\":0.5},\"x\":{\"field\":\"Hour\"}},\"id\":\"2340\",\"type\":\"VBar\"},{\"attributes\":{},\"id\":\"2462\",\"type\":\"CategoricalTickFormatter\"},{\"attributes\":{\"label\":{\"value\":\"FIRE HYDRANT\"},\"renderers\":[{\"id\":\"2379\",\"type\":\"GlyphRenderer\"}]},\"id\":\"2401\",\"type\":\"LegendItem\"},{\"attributes\":{\"fill_alpha\":{\"value\":0.1},\"fill_color\":{\"value\":\"#1f77b4\"},\"line_alpha\":{\"value\":0.1},\"line_color\":{\"value\":\"#1f77b4\"},\"top\":{\"field\":\"EXPIRED MUNI METER\"},\"width\":{\"value\":0.5},\"x\":{\"field\":\"Hour\"}},\"id\":\"2383\",\"type\":\"VBar\"},{\"attributes\":{\"label\":{\"value\":\"EXPIRED MUNI METER\"},\"renderers\":[{\"id\":\"2385\",\"type\":\"GlyphRenderer\"}]},\"id\":\"2402\",\"type\":\"LegendItem\"},{\"attributes\":{},\"id\":\"2466\",\"type\":\"UnionRenderers\"},{\"attributes\":{},\"id\":\"2465\",\"type\":\"Selection\"},{\"attributes\":{},\"id\":\"2464\",\"type\":\"BasicTickFormatter\"},{\"attributes\":{\"callback\":null,\"data\":{\"DOUBLE PARKING\":{\"__ndarray__\":\"AAAAAADkykAAAAAAADB8QAAAAAAA4HZAAAAAAACgb0AAAAAAAIBnQAAAAAAAYItAAAAAAAC8o0AAAAAAAJ6jQAAAAAAA47NAAAAAAADgvkAAAAAAAN/JQAAAAACACMdAAAAAAADAb0AAAAAAAAHTQAAAAACA1spAAAAAAADawEAAAAAAAMG3QAAAAAAA5bBAAAAAAABgoUAAAAAAAHiJQAAAAAAA5JVAAAAAAADYk0AAAAAAAKiMQAAAAAAAAH9A\",\"dtype\":\"float64\",\"shape\":[24]},\"EXPIRED MUNI METER\":{\"__ndarray__\":\"AAAAAICTyUAAAAAAAAD4fwAAAAAAAPh/AAAAAAAA+H8AAAAAAADwPwAAAAAAAPA/AAAAAAAA+H8AAAAAAAAqQAAAAAAAcHBAAAAAAAA0mUAAAAAAAFm5QAAAAACA9cBAAAAAAAAA+H8AAAAAQJfRQAAAAABAqtBAAAAAAIDBxUAAAAAAgPzDQAAAAAAAIrtAAAAAAAB8nUAAAAAAAEB0QAAAAAAAeIlAAAAAAAAQg0AAAAAAAMBRQAAAAAAAACRA\",\"dtype\":\"float64\",\"shape\":[24]},\"FAIL TO DSPLY MUNI METER RECPT\":{\"__ndarray__\":\"AAAAAACB2UAAAAAAAAAAQAAAAAAAAPh/AAAAAAAA+H8AAAAAAAD4fwAAAAAAAABAAAAAAAAA8D8AAAAAAACJQAAAAAAAmMZAAAAAAMCq1UAAAAAAAAzYQAAAAAAALtNAAAAAAAAACEAAAAAAICnhQAAAAABAld1AAAAAAMDI0kAAAAAAwO7RQAAAAACA18dAAAAAAABXsEAAAAAAAOyQQAAAAAAAUKtAAAAAAAA8qkAAAAAAAIB2QAAAAAAAUHBA\",\"dtype\":\"float64\",\"shape\":[24]},\"FAILURE TO STOP AT RED LIGHT\":{\"__ndarray__\":\"AAAAAAA1uEAAAAAAAGSTQAAAAAAAQIhAAAAAAABwiUAAAAAAAHCMQAAAAAAA9JRAAAAAAAAgpEAAAAAAAL6rQAAAAAAAbLFAAAAAAABOskAAAAAAAKqzQAAAAAAArLZAAAAAAACUmkAAAAAAAA+5QAAAAAAA+btAAAAAAAAavUAAAAAAALS7QAAAAAAAibhAAAAAAAAftUAAAAAAAGCwQAAAAAAAjqpAAAAAAAB6pkAAAAAAAIqkQAAAAAAArqFA\",\"dtype\":\"float64\",\"shape\":[24]},\"FIRE HYDRANT\":{\"__ndarray__\":\"AAAAAACpv0AAAAAAABagQAAAAAAAlKFAAAAAAAAkmUAAAAAAAOCOQAAAAAAAYbZAAAAAAIBkyUAAAAAAAPS+QAAAAAAAk7tAAAAAAACQu0AAAAAAANq9QAAAAAAAX7tAAAAAAADQfUAAAAAAgJLBQAAAAAAAKb9AAAAAAACqtEAAAAAAAJKqQAAAAAAAhKRAAAAAAADYlUAAAAAAAKiCQAAAAAAAiKJAAAAAAAA2pUAAAAAAADCkQAAAAAAARJpA\",\"dtype\":\"float64\",\"shape\":[24]},\"Hour\":{\"__ndarray__\":\"AAAAAAAAAAAAAAAAAADwPwAAAAAAAABAAAAAAAAACEAAAAAAAAAQQAAAAAAAABRAAAAAAAAAGEAAAAAAAAAcQAAAAAAAACBAAAAAAAAAIkAAAAAAAAAkQAAAAAAAACZAAAAAAAAAKEAAAAAAAAAqQAAAAAAAACxAAAAAAAAALkAAAAAAAAAwQAAAAAAAADFAAAAAAAAAMkAAAAAAAAAzQAAAAAAAADRAAAAAAAAANUAAAAAAAAA2QAAAAAAAADdA\",\"dtype\":\"float64\",\"shape\":[24]},\"INSP. STICKER-EXPIRED/MISSING\":{\"__ndarray__\":\"AAAAAIBJxUAAAAAAAGBvQAAAAAAAMHJAAAAAAABAaUAAAAAAAEBZQAAAAAAASIRAAAAAAABYqkAAAAAAALm2QAAAAAAAIsNAAAAAAACgxEAAAAAAgErGQAAAAACAS8VAAAAAAAAAQEAAAAAAgH3JQAAAAAAAisdAAAAAAABnwEAAAAAAAFa4QAAAAAAALqtAAAAAAAAAlUAAAAAAACBnQAAAAAAA0IBAAAAAAABQfUAAAAAAALBzQAAAAAAAQG1A\",\"dtype\":\"float64\",\"shape\":[24]},\"NO PARKING-DAY/TIME LIMITS\":{\"__ndarray__\":\"AAAAAIANzUAAAAAAAAiPQAAAAAAAII9AAAAAAABwiEAAAAAAAMB2QAAAAAAAXKRAAAAAAAB2uUAAAAAAAES/QAAAAAAAnstAAAAAAIDHyUAAAAAAgPTLQAAAAACApMZAAAAAAABAYkAAAAAAgATUQAAAAACAjdBAAAAAAADVxUAAAAAAAA68QAAAAAAAELhAAAAAAABkm0AAAAAAAHiDQAAAAAAA/J9AAAAAAABEnEAAAAAAAMCXQAAAAAAAFJFA\",\"dtype\":\"float64\",\"shape\":[24]},\"NO PARKING-STREET CLEANING\":{\"__ndarray__\":\"AAAAAEDH4kAAAAAAAFqtQAAAAAAAsJxAAAAAAACKo0AAAAAAAOiCQAAAAAAAFJdAAAAAAADYkEAAAAAAgC3WQAAAAADA7vVAAAAAACAX9UAAAAAAALXZQAAAAABQKvRAAAAAAACIjUAAAAAAAFSaQAAAAAAAADBAAAAAAAAAIEAAAAAAAAAzQAAAAAAAACxAAAAAAAAAHEAAAAAAAAAUQAAAAAAAACBAAAAAAAAAIkAAAAAAAAAmQAAAAAAAAEJA\",\"dtype\":\"float64\",\"shape\":[24]},\"NO STANDING-DAY/TIME LIMITS\":{\"__ndarray__\":\"AAAAAAAizEAAAAAAAICWQAAAAAAAmI1AAAAAAABQhEAAAAAAAMB5QAAAAAAAZKdAAAAAAABZvUAAAAAAgEDVQAAAAADAOtBAAAAAAIAY0kAAAAAAgIXNQAAAAACAY8pAAAAAAACgcEAAAAAAQCPTQAAAAADApdBAAAAAAADIyUAAAAAAAJbQQAAAAAAAR8BAAAAAAACTsUAAAAAAAJCNQAAAAAAA3KFAAAAAAABAm0AAAAAAABSaQAAAAAAAwJ5A\",\"dtype\":\"float64\",\"shape\":[24]},\"PHTO SCHOOL ZN SPEED VIOLATION\":{\"__ndarray__\":\"AAAAAMAv3UAAAAAAAAD4fwAAAAAAAPh/AAAAAAAA+H8AAAAAAAD4fwAAAAAAAPh/AAAAAAAooEAAAAAAgADLQAAAAADATtJAAAAAAIBX2EAAAAAAgMjbQAAAAABADtxAAAAAAAAA+H8AAAAAAI/bQAAAAACAxNVAAAAAAAC7z0AAAAAAAH+xQAAAAAAA6IpAAAAAAACwekAAAAAAAAD4fwAAAAAAAPh/AAAAAAAA+H8AAAAAAAD4fwAAAAAAAPh/\",\"dtype\":\"float64\",\"shape\":[24]},\"index\":[0,1,2,3,4,5,6,7,8,9,10,11,12,13,14,15,16,17,18,19,20,21,22,23]},\"selected\":{\"id\":\"2465\",\"type\":\"Selection\"},\"selection_policy\":{\"id\":\"2466\",\"type\":\"UnionRenderers\"}},\"id\":\"2299\",\"type\":\"ColumnDataSource\"},{\"attributes\":{\"fill_alpha\":{\"value\":0.1},\"fill_color\":{\"value\":\"#1f77b4\"},\"line_alpha\":{\"value\":0.1},\"line_color\":{\"value\":\"#1f77b4\"},\"top\":{\"field\":\"FAIL TO DSPLY MUNI METER RECPT\"},\"width\":{\"value\":0.5},\"x\":{\"field\":\"Hour\"}},\"id\":\"2341\",\"type\":\"VBar\"},{\"attributes\":{\"fill_alpha\":{\"value\":0.09},\"fill_color\":{\"value\":\"#aec7e8\"},\"line_alpha\":{\"value\":0.09},\"line_color\":{\"value\":\"#aec7e8\"},\"top\":{\"field\":\"FAIL TO DSPLY MUNI METER RECPT\"},\"width\":{\"value\":0.5},\"x\":{\"field\":\"Hour\"}},\"id\":\"2342\",\"type\":\"VBar\"},{\"attributes\":{\"fill_alpha\":{\"value\":0.1},\"fill_color\":{\"value\":\"#1f77b4\"},\"line_alpha\":{\"value\":0.1},\"line_color\":{\"value\":\"#1f77b4\"},\"top\":{\"field\":\"NO STANDING-DAY/TIME LIMITS\"},\"width\":{\"value\":0.5},\"x\":{\"field\":\"Hour\"}},\"id\":\"2353\",\"type\":\"VBar\"},{\"attributes\":{\"fill_alpha\":{\"value\":0.1},\"fill_color\":{\"value\":\"#1f77b4\"},\"line_alpha\":{\"value\":0.1},\"line_color\":{\"value\":\"#1f77b4\"},\"top\":{\"field\":\"FAILURE TO STOP AT RED LIGHT\"},\"width\":{\"value\":0.5},\"x\":{\"field\":\"Hour\"}},\"id\":\"2389\",\"type\":\"VBar\"},{\"attributes\":{\"fill_alpha\":{\"value\":3},\"fill_color\":{\"value\":\"#ff7f0e\"},\"line_alpha\":{\"value\":3},\"line_color\":{\"value\":\"#ff7f0e\"},\"top\":{\"field\":\"PHTO SCHOOL ZN SPEED VIOLATION\"},\"width\":{\"value\":0.5},\"x\":{\"field\":\"Hour\"}},\"id\":\"2346\",\"type\":\"VBar\"},{\"attributes\":{\"data_source\":{\"id\":\"2299\",\"type\":\"ColumnDataSource\"},\"glyph\":{\"id\":\"2340\",\"type\":\"VBar\"},\"hover_glyph\":null,\"muted_glyph\":{\"id\":\"2342\",\"type\":\"VBar\"},\"nonselection_glyph\":{\"id\":\"2341\",\"type\":\"VBar\"},\"selection_glyph\":null,\"view\":{\"id\":\"2344\",\"type\":\"CDSView\"}},\"id\":\"2343\",\"type\":\"GlyphRenderer\"},{\"attributes\":{\"data_source\":{\"id\":\"2299\",\"type\":\"ColumnDataSource\"},\"glyph\":{\"id\":\"2376\",\"type\":\"VBar\"},\"hover_glyph\":null,\"muted_glyph\":{\"id\":\"2378\",\"type\":\"VBar\"},\"nonselection_glyph\":{\"id\":\"2377\",\"type\":\"VBar\"},\"selection_glyph\":null,\"view\":{\"id\":\"2380\",\"type\":\"CDSView\"}},\"id\":\"2379\",\"type\":\"GlyphRenderer\"},{\"attributes\":{\"source\":{\"id\":\"2299\",\"type\":\"ColumnDataSource\"}},\"id\":\"2344\",\"type\":\"CDSView\"},{\"attributes\":{\"source\":{\"id\":\"2299\",\"type\":\"ColumnDataSource\"}},\"id\":\"2380\",\"type\":\"CDSView\"},{\"attributes\":{\"fill_alpha\":{\"value\":0.1},\"fill_color\":{\"value\":\"#1f77b4\"},\"line_alpha\":{\"value\":0.1},\"line_color\":{\"value\":\"#1f77b4\"},\"top\":{\"field\":\"PHTO SCHOOL ZN SPEED VIOLATION\"},\"width\":{\"value\":0.5},\"x\":{\"field\":\"Hour\"}},\"id\":\"2347\",\"type\":\"VBar\"},{\"attributes\":{\"click_policy\":\"mute\",\"items\":[{\"id\":\"2394\",\"type\":\"LegendItem\"},{\"id\":\"2395\",\"type\":\"LegendItem\"},{\"id\":\"2396\",\"type\":\"LegendItem\"},{\"id\":\"2397\",\"type\":\"LegendItem\"},{\"id\":\"2398\",\"type\":\"LegendItem\"},{\"id\":\"2399\",\"type\":\"LegendItem\"},{\"id\":\"2400\",\"type\":\"LegendItem\"},{\"id\":\"2401\",\"type\":\"LegendItem\"},{\"id\":\"2402\",\"type\":\"LegendItem\"},{\"id\":\"2403\",\"type\":\"LegendItem\"}],\"location\":[0,50]},\"id\":\"2393\",\"type\":\"Legend\"},{\"attributes\":{\"fill_alpha\":{\"value\":0.09},\"fill_color\":{\"value\":\"#ff7f0e\"},\"line_alpha\":{\"value\":0.09},\"line_color\":{\"value\":\"#ff7f0e\"},\"top\":{\"field\":\"PHTO SCHOOL ZN SPEED VIOLATION\"},\"width\":{\"value\":0.5},\"x\":{\"field\":\"Hour\"}},\"id\":\"2348\",\"type\":\"VBar\"},{\"attributes\":{\"fill_alpha\":{\"value\":0.09},\"fill_color\":{\"value\":\"#9467bd\"},\"line_alpha\":{\"value\":0.09},\"line_color\":{\"value\":\"#9467bd\"},\"top\":{\"field\":\"EXPIRED MUNI METER\"},\"width\":{\"value\":0.5},\"x\":{\"field\":\"Hour\"}},\"id\":\"2384\",\"type\":\"VBar\"},{\"attributes\":{\"data_source\":{\"id\":\"2299\",\"type\":\"ColumnDataSource\"},\"glyph\":{\"id\":\"2346\",\"type\":\"VBar\"},\"hover_glyph\":null,\"muted_glyph\":{\"id\":\"2348\",\"type\":\"VBar\"},\"nonselection_glyph\":{\"id\":\"2347\",\"type\":\"VBar\"},\"selection_glyph\":null,\"view\":{\"id\":\"2350\",\"type\":\"CDSView\"}},\"id\":\"2349\",\"type\":\"GlyphRenderer\"},{\"attributes\":{\"source\":{\"id\":\"2299\",\"type\":\"ColumnDataSource\"}},\"id\":\"2350\",\"type\":\"CDSView\"},{\"attributes\":{\"fill_alpha\":{\"value\":3},\"fill_color\":{\"value\":\"#ffbb78\"},\"line_alpha\":{\"value\":3},\"line_color\":{\"value\":\"#ffbb78\"},\"top\":{\"field\":\"NO STANDING-DAY/TIME LIMITS\"},\"width\":{\"value\":0.5},\"x\":{\"field\":\"Hour\"}},\"id\":\"2352\",\"type\":\"VBar\"},{\"attributes\":{\"source\":{\"id\":\"2299\",\"type\":\"ColumnDataSource\"}},\"id\":\"2362\",\"type\":\"CDSView\"},{\"attributes\":{\"fill_alpha\":{\"value\":0.09},\"fill_color\":{\"value\":\"#ffbb78\"},\"line_alpha\":{\"value\":0.09},\"line_color\":{\"value\":\"#ffbb78\"},\"top\":{\"field\":\"NO STANDING-DAY/TIME LIMITS\"},\"width\":{\"value\":0.5},\"x\":{\"field\":\"Hour\"}},\"id\":\"2354\",\"type\":\"VBar\"},{\"attributes\":{\"data_source\":{\"id\":\"2299\",\"type\":\"ColumnDataSource\"},\"glyph\":{\"id\":\"2358\",\"type\":\"VBar\"},\"hover_glyph\":null,\"muted_glyph\":{\"id\":\"2360\",\"type\":\"VBar\"},\"nonselection_glyph\":{\"id\":\"2359\",\"type\":\"VBar\"},\"selection_glyph\":null,\"view\":{\"id\":\"2362\",\"type\":\"CDSView\"}},\"id\":\"2361\",\"type\":\"GlyphRenderer\"},{\"attributes\":{\"source\":{\"id\":\"2299\",\"type\":\"ColumnDataSource\"}},\"id\":\"2356\",\"type\":\"CDSView\"},{\"attributes\":{\"fill_alpha\":{\"value\":3},\"fill_color\":{\"value\":\"#2ca02c\"},\"line_alpha\":{\"value\":3},\"line_color\":{\"value\":\"#2ca02c\"},\"top\":{\"field\":\"NO PARKING-DAY/TIME LIMITS\"},\"width\":{\"value\":0.5},\"x\":{\"field\":\"Hour\"}},\"id\":\"2358\",\"type\":\"VBar\"},{\"attributes\":{\"data_source\":{\"id\":\"2299\",\"type\":\"ColumnDataSource\"},\"glyph\":{\"id\":\"2352\",\"type\":\"VBar\"},\"hover_glyph\":null,\"muted_glyph\":{\"id\":\"2354\",\"type\":\"VBar\"},\"nonselection_glyph\":{\"id\":\"2353\",\"type\":\"VBar\"},\"selection_glyph\":null,\"view\":{\"id\":\"2356\",\"type\":\"CDSView\"}},\"id\":\"2355\",\"type\":\"GlyphRenderer\"},{\"attributes\":{\"fill_alpha\":{\"value\":0.1},\"fill_color\":{\"value\":\"#1f77b4\"},\"line_alpha\":{\"value\":0.1},\"line_color\":{\"value\":\"#1f77b4\"},\"top\":{\"field\":\"NO PARKING-DAY/TIME LIMITS\"},\"width\":{\"value\":0.5},\"x\":{\"field\":\"Hour\"}},\"id\":\"2359\",\"type\":\"VBar\"},{\"attributes\":{\"callback\":null,\"factors\":[\"0\",\"1\",\"2\",\"3\",\"4\",\"5\",\"6\",\"7\",\"8\",\"9\",\"10\",\"11\",\"12\",\"13\",\"14\",\"15\",\"16\",\"17\",\"18\",\"19\",\"20\",\"21\",\"22\",\"23\"],\"range_padding\":0.04},\"id\":\"2300\",\"type\":\"FactorRange\"},{\"attributes\":{\"fill_alpha\":{\"value\":3},\"fill_color\":{\"value\":\"#c5b0d5\"},\"line_alpha\":{\"value\":3},\"line_color\":{\"value\":\"#c5b0d5\"},\"top\":{\"field\":\"FAILURE TO STOP AT RED LIGHT\"},\"width\":{\"value\":0.5},\"x\":{\"field\":\"Hour\"}},\"id\":\"2388\",\"type\":\"VBar\"},{\"attributes\":{\"fill_alpha\":{\"value\":0.09},\"fill_color\":{\"value\":\"#2ca02c\"},\"line_alpha\":{\"value\":0.09},\"line_color\":{\"value\":\"#2ca02c\"},\"top\":{\"field\":\"NO PARKING-DAY/TIME LIMITS\"},\"width\":{\"value\":0.5},\"x\":{\"field\":\"Hour\"}},\"id\":\"2360\",\"type\":\"VBar\"}],\"root_ids\":[\"2301\"]},\"title\":\"Bokeh Application\",\"version\":\"1.3.4\"}};\n",
       "  var render_items = [{\"docid\":\"805285d9-e3bb-478a-aacd-b043e4645d43\",\"roots\":{\"2301\":\"1256af2c-d917-4c15-beea-a6b133eca0af\"}}];\n",
       "  root.Bokeh.embed.embed_items_notebook(docs_json, render_items);\n",
       "\n",
       "  }\n",
       "  if (root.Bokeh !== undefined) {\n",
       "    embed_document(root);\n",
       "  } else {\n",
       "    var attempts = 0;\n",
       "    var timer = setInterval(function(root) {\n",
       "      if (root.Bokeh !== undefined) {\n",
       "        embed_document(root);\n",
       "        clearInterval(timer);\n",
       "      }\n",
       "      attempts++;\n",
       "      if (attempts > 100) {\n",
       "        console.log(\"Bokeh: ERROR: Unable to run BokehJS code because BokehJS library is missing\");\n",
       "        clearInterval(timer);\n",
       "      }\n",
       "    }, 10, root)\n",
       "  }\n",
       "})(window);"
      ],
      "application/vnd.bokehjs_exec.v0+json": ""
     },
     "metadata": {
      "application/vnd.bokehjs_exec.v0+json": {
       "id": "2301"
      }
     },
     "output_type": "display_data"
    },
    {
     "data": {
      "text/html": [
       "\n",
       "\n",
       "\n",
       "\n",
       "\n",
       "\n",
       "  <div class=\"bk-root\" id=\"433ce6dd-8e36-48b0-b646-fe242fdb967c\" data-root-id=\"2518\"></div>\n"
      ]
     },
     "metadata": {},
     "output_type": "display_data"
    },
    {
     "data": {
      "application/javascript": [
       "(function(root) {\n",
       "  function embed_document(root) {\n",
       "    \n",
       "  var docs_json = {\"2d19f19d-3ba8-4b5b-bafa-28e2d68e20f3\":{\"roots\":{\"references\":[{\"attributes\":{\"below\":[{\"id\":\"2528\",\"type\":\"CategoricalAxis\"}],\"center\":[{\"id\":\"2531\",\"type\":\"Grid\"},{\"id\":\"2536\",\"type\":\"Grid\"}],\"left\":[{\"id\":\"2532\",\"type\":\"LinearAxis\"},{\"id\":\"2610\",\"type\":\"Legend\"}],\"plot_height\":500,\"plot_width\":1200,\"renderers\":[{\"id\":\"2554\",\"type\":\"GlyphRenderer\"},{\"id\":\"2560\",\"type\":\"GlyphRenderer\"},{\"id\":\"2566\",\"type\":\"GlyphRenderer\"},{\"id\":\"2572\",\"type\":\"GlyphRenderer\"},{\"id\":\"2578\",\"type\":\"GlyphRenderer\"},{\"id\":\"2584\",\"type\":\"GlyphRenderer\"},{\"id\":\"2590\",\"type\":\"GlyphRenderer\"},{\"id\":\"2596\",\"type\":\"GlyphRenderer\"},{\"id\":\"2602\",\"type\":\"GlyphRenderer\"},{\"id\":\"2608\",\"type\":\"GlyphRenderer\"}],\"title\":{\"id\":\"2519\",\"type\":\"Title\"},\"toolbar\":{\"id\":\"2543\",\"type\":\"Toolbar\"},\"toolbar_location\":null,\"x_range\":{\"id\":\"2517\",\"type\":\"FactorRange\"},\"x_scale\":{\"id\":\"2524\",\"type\":\"CategoricalScale\"},\"y_range\":{\"id\":\"2522\",\"type\":\"DataRange1d\"},\"y_scale\":{\"id\":\"2526\",\"type\":\"LinearScale\"}},\"id\":\"2518\",\"subtype\":\"Figure\",\"type\":\"Plot\"},{\"attributes\":{\"fill_alpha\":{\"value\":0.1},\"fill_color\":{\"value\":\"#1f77b4\"},\"line_alpha\":{\"value\":0.1},\"line_color\":{\"value\":\"#1f77b4\"},\"top\":{\"field\":\"PHTO SCHOOL ZN SPEED VIOLATION\"},\"width\":{\"value\":0.5},\"x\":{\"field\":\"month\"}},\"id\":\"2564\",\"type\":\"VBar\"},{\"attributes\":{},\"id\":\"2533\",\"type\":\"BasicTicker\"},{\"attributes\":{\"label\":{\"value\":\"FIRE HYDRANT\"},\"renderers\":[{\"id\":\"2596\",\"type\":\"GlyphRenderer\"}]},\"id\":\"2618\",\"type\":\"LegendItem\"},{\"attributes\":{\"source\":{\"id\":\"2516\",\"type\":\"ColumnDataSource\"}},\"id\":\"2555\",\"type\":\"CDSView\"},{\"attributes\":{\"fill_alpha\":{\"value\":0.1},\"fill_color\":{\"value\":\"#1f77b4\"},\"line_alpha\":{\"value\":0.1},\"line_color\":{\"value\":\"#1f77b4\"},\"top\":{\"field\":\"NO STANDING-DAY/TIME LIMITS\"},\"width\":{\"value\":0.5},\"x\":{\"field\":\"month\"}},\"id\":\"2570\",\"type\":\"VBar\"},{\"attributes\":{\"label\":{\"value\":\"NO PARKING-DAY/TIME LIMITS\"},\"renderers\":[{\"id\":\"2578\",\"type\":\"GlyphRenderer\"}]},\"id\":\"2615\",\"type\":\"LegendItem\"},{\"attributes\":{\"fill_alpha\":{\"value\":0.09},\"fill_color\":{\"value\":\"#1f77b4\"},\"line_alpha\":{\"value\":0.09},\"line_color\":{\"value\":\"#1f77b4\"},\"top\":{\"field\":\"NO PARKING-STREET CLEANING\"},\"width\":{\"value\":0.5},\"x\":{\"field\":\"month\"}},\"id\":\"2553\",\"type\":\"VBar\"},{\"attributes\":{\"label\":{\"value\":\"PHTO SCHOOL ZN SPEED VIOLATION\"},\"renderers\":[{\"id\":\"2566\",\"type\":\"GlyphRenderer\"}]},\"id\":\"2613\",\"type\":\"LegendItem\"},{\"attributes\":{\"label\":{\"value\":\"EXPIRED MUNI METER\"},\"renderers\":[{\"id\":\"2602\",\"type\":\"GlyphRenderer\"}]},\"id\":\"2619\",\"type\":\"LegendItem\"},{\"attributes\":{\"fill_alpha\":{\"value\":3},\"fill_color\":{\"value\":\"#aec7e8\"},\"line_alpha\":{\"value\":3},\"line_color\":{\"value\":\"#aec7e8\"},\"top\":{\"field\":\"FAIL TO DSPLY MUNI METER RECPT\"},\"width\":{\"value\":0.5},\"x\":{\"field\":\"month\"}},\"id\":\"2557\",\"type\":\"VBar\"},{\"attributes\":{\"source\":{\"id\":\"2516\",\"type\":\"ColumnDataSource\"}},\"id\":\"2561\",\"type\":\"CDSView\"},{\"attributes\":{\"text\":\"Distibution of # of fines for top 10 violations pr. month\"},\"id\":\"2519\",\"type\":\"Title\"},{\"attributes\":{\"fill_alpha\":{\"value\":0.09},\"fill_color\":{\"value\":\"#aec7e8\"},\"line_alpha\":{\"value\":0.09},\"line_color\":{\"value\":\"#aec7e8\"},\"top\":{\"field\":\"FAIL TO DSPLY MUNI METER RECPT\"},\"width\":{\"value\":0.5},\"x\":{\"field\":\"month\"}},\"id\":\"2559\",\"type\":\"VBar\"},{\"attributes\":{\"source\":{\"id\":\"2516\",\"type\":\"ColumnDataSource\"}},\"id\":\"2609\",\"type\":\"CDSView\"},{\"attributes\":{\"data_source\":{\"id\":\"2516\",\"type\":\"ColumnDataSource\"},\"glyph\":{\"id\":\"2557\",\"type\":\"VBar\"},\"hover_glyph\":null,\"muted_glyph\":{\"id\":\"2559\",\"type\":\"VBar\"},\"nonselection_glyph\":{\"id\":\"2558\",\"type\":\"VBar\"},\"selection_glyph\":null,\"view\":{\"id\":\"2561\",\"type\":\"CDSView\"}},\"id\":\"2560\",\"type\":\"GlyphRenderer\"},{\"attributes\":{\"fill_alpha\":{\"value\":0.1},\"fill_color\":{\"value\":\"#1f77b4\"},\"line_alpha\":{\"value\":0.1},\"line_color\":{\"value\":\"#1f77b4\"},\"top\":{\"field\":\"FAIL TO DSPLY MUNI METER RECPT\"},\"width\":{\"value\":0.5},\"x\":{\"field\":\"month\"}},\"id\":\"2558\",\"type\":\"VBar\"},{\"attributes\":{},\"id\":\"2529\",\"type\":\"CategoricalTicker\"},{\"attributes\":{},\"id\":\"2691\",\"type\":\"UnionRenderers\"},{\"attributes\":{\"fill_alpha\":{\"value\":3},\"fill_color\":{\"value\":\"#ff7f0e\"},\"line_alpha\":{\"value\":3},\"line_color\":{\"value\":\"#ff7f0e\"},\"top\":{\"field\":\"PHTO SCHOOL ZN SPEED VIOLATION\"},\"width\":{\"value\":0.5},\"x\":{\"field\":\"month\"}},\"id\":\"2563\",\"type\":\"VBar\"},{\"attributes\":{},\"id\":\"2524\",\"type\":\"CategoricalScale\"},{\"attributes\":{\"fill_alpha\":{\"value\":3},\"fill_color\":{\"value\":\"#2ca02c\"},\"line_alpha\":{\"value\":3},\"line_color\":{\"value\":\"#2ca02c\"},\"top\":{\"field\":\"NO PARKING-DAY/TIME LIMITS\"},\"width\":{\"value\":0.5},\"x\":{\"field\":\"month\"}},\"id\":\"2575\",\"type\":\"VBar\"},{\"attributes\":{\"label\":{\"value\":\"FAILURE TO STOP AT RED LIGHT\"},\"renderers\":[{\"id\":\"2608\",\"type\":\"GlyphRenderer\"}]},\"id\":\"2620\",\"type\":\"LegendItem\"},{\"attributes\":{\"source\":{\"id\":\"2516\",\"type\":\"ColumnDataSource\"}},\"id\":\"2573\",\"type\":\"CDSView\"},{\"attributes\":{\"source\":{\"id\":\"2516\",\"type\":\"ColumnDataSource\"}},\"id\":\"2567\",\"type\":\"CDSView\"},{\"attributes\":{},\"id\":\"2689\",\"type\":\"BasicTickFormatter\"},{\"attributes\":{\"fill_alpha\":{\"value\":3},\"fill_color\":{\"value\":\"#ffbb78\"},\"line_alpha\":{\"value\":3},\"line_color\":{\"value\":\"#ffbb78\"},\"top\":{\"field\":\"NO STANDING-DAY/TIME LIMITS\"},\"width\":{\"value\":0.5},\"x\":{\"field\":\"month\"}},\"id\":\"2569\",\"type\":\"VBar\"},{\"attributes\":{},\"id\":\"2687\",\"type\":\"CategoricalTickFormatter\"},{\"attributes\":{\"data_source\":{\"id\":\"2516\",\"type\":\"ColumnDataSource\"},\"glyph\":{\"id\":\"2551\",\"type\":\"VBar\"},\"hover_glyph\":null,\"muted_glyph\":{\"id\":\"2553\",\"type\":\"VBar\"},\"nonselection_glyph\":{\"id\":\"2552\",\"type\":\"VBar\"},\"selection_glyph\":null,\"view\":{\"id\":\"2555\",\"type\":\"CDSView\"}},\"id\":\"2554\",\"type\":\"GlyphRenderer\"},{\"attributes\":{\"dimension\":1,\"ticker\":{\"id\":\"2533\",\"type\":\"BasicTicker\"}},\"id\":\"2536\",\"type\":\"Grid\"},{\"attributes\":{},\"id\":\"2690\",\"type\":\"Selection\"},{\"attributes\":{\"fill_alpha\":{\"value\":0.09},\"fill_color\":{\"value\":\"#ff7f0e\"},\"line_alpha\":{\"value\":0.09},\"line_color\":{\"value\":\"#ff7f0e\"},\"top\":{\"field\":\"PHTO SCHOOL ZN SPEED VIOLATION\"},\"width\":{\"value\":0.5},\"x\":{\"field\":\"month\"}},\"id\":\"2565\",\"type\":\"VBar\"},{\"attributes\":{\"axis_label\":\"month\",\"formatter\":{\"id\":\"2687\",\"type\":\"CategoricalTickFormatter\"},\"ticker\":{\"id\":\"2529\",\"type\":\"CategoricalTicker\"}},\"id\":\"2528\",\"type\":\"CategoricalAxis\"},{\"attributes\":{\"data_source\":{\"id\":\"2516\",\"type\":\"ColumnDataSource\"},\"glyph\":{\"id\":\"2563\",\"type\":\"VBar\"},\"hover_glyph\":null,\"muted_glyph\":{\"id\":\"2565\",\"type\":\"VBar\"},\"nonselection_glyph\":{\"id\":\"2564\",\"type\":\"VBar\"},\"selection_glyph\":null,\"view\":{\"id\":\"2567\",\"type\":\"CDSView\"}},\"id\":\"2566\",\"type\":\"GlyphRenderer\"},{\"attributes\":{},\"id\":\"2526\",\"type\":\"LinearScale\"},{\"attributes\":{\"bottom_units\":\"screen\",\"fill_alpha\":{\"value\":0.5},\"fill_color\":{\"value\":\"lightgrey\"},\"left_units\":\"screen\",\"level\":\"overlay\",\"line_alpha\":{\"value\":1.0},\"line_color\":{\"value\":\"black\"},\"line_dash\":[4,4],\"line_width\":{\"value\":2},\"render_mode\":\"css\",\"right_units\":\"screen\",\"top_units\":\"screen\"},\"id\":\"2692\",\"type\":\"BoxAnnotation\"},{\"attributes\":{\"ticker\":{\"id\":\"2529\",\"type\":\"CategoricalTicker\"}},\"id\":\"2531\",\"type\":\"Grid\"},{\"attributes\":{\"label\":{\"value\":\"FAIL TO DSPLY MUNI METER RECPT\"},\"renderers\":[{\"id\":\"2560\",\"type\":\"GlyphRenderer\"}]},\"id\":\"2612\",\"type\":\"LegendItem\"},{\"attributes\":{\"callback\":null},\"id\":\"2522\",\"type\":\"DataRange1d\"},{\"attributes\":{\"fill_alpha\":{\"value\":0.1},\"fill_color\":{\"value\":\"#1f77b4\"},\"line_alpha\":{\"value\":0.1},\"line_color\":{\"value\":\"#1f77b4\"},\"top\":{\"field\":\"NO PARKING-STREET CLEANING\"},\"width\":{\"value\":0.5},\"x\":{\"field\":\"month\"}},\"id\":\"2552\",\"type\":\"VBar\"},{\"attributes\":{\"fill_alpha\":{\"value\":0.1},\"fill_color\":{\"value\":\"#1f77b4\"},\"line_alpha\":{\"value\":0.1},\"line_color\":{\"value\":\"#1f77b4\"},\"top\":{\"field\":\"DOUBLE PARKING\"},\"width\":{\"value\":0.5},\"x\":{\"field\":\"month\"}},\"id\":\"2582\",\"type\":\"VBar\"},{\"attributes\":{\"callback\":null,\"factors\":[\"0\",\"1\",\"2\",\"3\",\"4\",\"5\",\"6\",\"7\",\"8\",\"9\",\"10\",\"11\"],\"range_padding\":0.04},\"id\":\"2517\",\"type\":\"FactorRange\"},{\"attributes\":{},\"id\":\"2538\",\"type\":\"WheelZoomTool\"},{\"attributes\":{\"label\":{\"value\":\"DOUBLE PARKING\"},\"renderers\":[{\"id\":\"2584\",\"type\":\"GlyphRenderer\"}]},\"id\":\"2616\",\"type\":\"LegendItem\"},{\"attributes\":{\"fill_alpha\":{\"value\":0.09},\"fill_color\":{\"value\":\"#ffbb78\"},\"line_alpha\":{\"value\":0.09},\"line_color\":{\"value\":\"#ffbb78\"},\"top\":{\"field\":\"NO STANDING-DAY/TIME LIMITS\"},\"width\":{\"value\":0.5},\"x\":{\"field\":\"month\"}},\"id\":\"2571\",\"type\":\"VBar\"},{\"attributes\":{\"axis_label\":\"# of fines\",\"formatter\":{\"id\":\"2689\",\"type\":\"BasicTickFormatter\"},\"ticker\":{\"id\":\"2533\",\"type\":\"BasicTicker\"}},\"id\":\"2532\",\"type\":\"LinearAxis\"},{\"attributes\":{\"fill_alpha\":{\"value\":3},\"fill_color\":{\"value\":\"#98df8a\"},\"line_alpha\":{\"value\":3},\"line_color\":{\"value\":\"#98df8a\"},\"top\":{\"field\":\"DOUBLE PARKING\"},\"width\":{\"value\":0.5},\"x\":{\"field\":\"month\"}},\"id\":\"2581\",\"type\":\"VBar\"},{\"attributes\":{\"fill_alpha\":{\"value\":0.1},\"fill_color\":{\"value\":\"#1f77b4\"},\"line_alpha\":{\"value\":0.1},\"line_color\":{\"value\":\"#1f77b4\"},\"top\":{\"field\":\"NO PARKING-DAY/TIME LIMITS\"},\"width\":{\"value\":0.5},\"x\":{\"field\":\"month\"}},\"id\":\"2576\",\"type\":\"VBar\"},{\"attributes\":{\"data_source\":{\"id\":\"2516\",\"type\":\"ColumnDataSource\"},\"glyph\":{\"id\":\"2569\",\"type\":\"VBar\"},\"hover_glyph\":null,\"muted_glyph\":{\"id\":\"2571\",\"type\":\"VBar\"},\"nonselection_glyph\":{\"id\":\"2570\",\"type\":\"VBar\"},\"selection_glyph\":null,\"view\":{\"id\":\"2573\",\"type\":\"CDSView\"}},\"id\":\"2572\",\"type\":\"GlyphRenderer\"},{\"attributes\":{},\"id\":\"2537\",\"type\":\"PanTool\"},{\"attributes\":{\"label\":{\"value\":\"INSP. STICKER-EXPIRED/MISSING\"},\"renderers\":[{\"id\":\"2590\",\"type\":\"GlyphRenderer\"}]},\"id\":\"2617\",\"type\":\"LegendItem\"},{\"attributes\":{\"fill_alpha\":{\"value\":0.09},\"fill_color\":{\"value\":\"#2ca02c\"},\"line_alpha\":{\"value\":0.09},\"line_color\":{\"value\":\"#2ca02c\"},\"top\":{\"field\":\"NO PARKING-DAY/TIME LIMITS\"},\"width\":{\"value\":0.5},\"x\":{\"field\":\"month\"}},\"id\":\"2577\",\"type\":\"VBar\"},{\"attributes\":{\"fill_alpha\":{\"value\":3},\"fill_color\":{\"value\":\"#c5b0d5\"},\"line_alpha\":{\"value\":3},\"line_color\":{\"value\":\"#c5b0d5\"},\"top\":{\"field\":\"FAILURE TO STOP AT RED LIGHT\"},\"width\":{\"value\":0.5},\"x\":{\"field\":\"month\"}},\"id\":\"2605\",\"type\":\"VBar\"},{\"attributes\":{},\"id\":\"2542\",\"type\":\"HelpTool\"},{\"attributes\":{\"fill_alpha\":{\"value\":3},\"fill_color\":{\"value\":\"#1f77b4\"},\"line_alpha\":{\"value\":3},\"line_color\":{\"value\":\"#1f77b4\"},\"top\":{\"field\":\"NO PARKING-STREET CLEANING\"},\"width\":{\"value\":0.5},\"x\":{\"field\":\"month\"}},\"id\":\"2551\",\"type\":\"VBar\"},{\"attributes\":{\"source\":{\"id\":\"2516\",\"type\":\"ColumnDataSource\"}},\"id\":\"2579\",\"type\":\"CDSView\"},{\"attributes\":{\"active_drag\":\"auto\",\"active_inspect\":\"auto\",\"active_multi\":null,\"active_scroll\":\"auto\",\"active_tap\":\"auto\",\"tools\":[{\"id\":\"2537\",\"type\":\"PanTool\"},{\"id\":\"2538\",\"type\":\"WheelZoomTool\"},{\"id\":\"2539\",\"type\":\"BoxZoomTool\"},{\"id\":\"2540\",\"type\":\"SaveTool\"},{\"id\":\"2541\",\"type\":\"ResetTool\"},{\"id\":\"2542\",\"type\":\"HelpTool\"}]},\"id\":\"2543\",\"type\":\"Toolbar\"},{\"attributes\":{\"label\":{\"value\":\"NO STANDING-DAY/TIME LIMITS\"},\"renderers\":[{\"id\":\"2572\",\"type\":\"GlyphRenderer\"}]},\"id\":\"2614\",\"type\":\"LegendItem\"},{\"attributes\":{\"data_source\":{\"id\":\"2516\",\"type\":\"ColumnDataSource\"},\"glyph\":{\"id\":\"2575\",\"type\":\"VBar\"},\"hover_glyph\":null,\"muted_glyph\":{\"id\":\"2577\",\"type\":\"VBar\"},\"nonselection_glyph\":{\"id\":\"2576\",\"type\":\"VBar\"},\"selection_glyph\":null,\"view\":{\"id\":\"2579\",\"type\":\"CDSView\"}},\"id\":\"2578\",\"type\":\"GlyphRenderer\"},{\"attributes\":{\"click_policy\":\"mute\",\"items\":[{\"id\":\"2611\",\"type\":\"LegendItem\"},{\"id\":\"2612\",\"type\":\"LegendItem\"},{\"id\":\"2613\",\"type\":\"LegendItem\"},{\"id\":\"2614\",\"type\":\"LegendItem\"},{\"id\":\"2615\",\"type\":\"LegendItem\"},{\"id\":\"2616\",\"type\":\"LegendItem\"},{\"id\":\"2617\",\"type\":\"LegendItem\"},{\"id\":\"2618\",\"type\":\"LegendItem\"},{\"id\":\"2619\",\"type\":\"LegendItem\"},{\"id\":\"2620\",\"type\":\"LegendItem\"}],\"location\":[0,50]},\"id\":\"2610\",\"type\":\"Legend\"},{\"attributes\":{\"fill_alpha\":{\"value\":0.09},\"fill_color\":{\"value\":\"#9467bd\"},\"line_alpha\":{\"value\":0.09},\"line_color\":{\"value\":\"#9467bd\"},\"top\":{\"field\":\"EXPIRED MUNI METER\"},\"width\":{\"value\":0.5},\"x\":{\"field\":\"month\"}},\"id\":\"2601\",\"type\":\"VBar\"},{\"attributes\":{\"data_source\":{\"id\":\"2516\",\"type\":\"ColumnDataSource\"},\"glyph\":{\"id\":\"2581\",\"type\":\"VBar\"},\"hover_glyph\":null,\"muted_glyph\":{\"id\":\"2583\",\"type\":\"VBar\"},\"nonselection_glyph\":{\"id\":\"2582\",\"type\":\"VBar\"},\"selection_glyph\":null,\"view\":{\"id\":\"2585\",\"type\":\"CDSView\"}},\"id\":\"2584\",\"type\":\"GlyphRenderer\"},{\"attributes\":{\"fill_alpha\":{\"value\":0.09},\"fill_color\":{\"value\":\"#98df8a\"},\"line_alpha\":{\"value\":0.09},\"line_color\":{\"value\":\"#98df8a\"},\"top\":{\"field\":\"DOUBLE PARKING\"},\"width\":{\"value\":0.5},\"x\":{\"field\":\"month\"}},\"id\":\"2583\",\"type\":\"VBar\"},{\"attributes\":{},\"id\":\"2541\",\"type\":\"ResetTool\"},{\"attributes\":{\"source\":{\"id\":\"2516\",\"type\":\"ColumnDataSource\"}},\"id\":\"2585\",\"type\":\"CDSView\"},{\"attributes\":{\"data_source\":{\"id\":\"2516\",\"type\":\"ColumnDataSource\"},\"glyph\":{\"id\":\"2587\",\"type\":\"VBar\"},\"hover_glyph\":null,\"muted_glyph\":{\"id\":\"2589\",\"type\":\"VBar\"},\"nonselection_glyph\":{\"id\":\"2588\",\"type\":\"VBar\"},\"selection_glyph\":null,\"view\":{\"id\":\"2591\",\"type\":\"CDSView\"}},\"id\":\"2590\",\"type\":\"GlyphRenderer\"},{\"attributes\":{\"label\":{\"value\":\"NO PARKING-STREET CLEANING\"},\"renderers\":[{\"id\":\"2554\",\"type\":\"GlyphRenderer\"}]},\"id\":\"2611\",\"type\":\"LegendItem\"},{\"attributes\":{\"fill_alpha\":{\"value\":3},\"fill_color\":{\"value\":\"#d62728\"},\"line_alpha\":{\"value\":3},\"line_color\":{\"value\":\"#d62728\"},\"top\":{\"field\":\"INSP. STICKER-EXPIRED/MISSING\"},\"width\":{\"value\":0.5},\"x\":{\"field\":\"month\"}},\"id\":\"2587\",\"type\":\"VBar\"},{\"attributes\":{\"callback\":null,\"data\":{\"DOUBLE PARKING\":[10552,9135,9941,8912,9410,8374,10649,10782,9698,12174,10378,8580],\"EXPIRED MUNI METER\":[8190,7619,8553,8033,7499,6814,8091,8624,8273,10248,8317,7010],\"FAIL TO DSPLY MUNI METER RECPT\":[21403,18755,19391,17708,16898,16585,19803,20699,18680,23858,21233,17914],\"FAILURE TO STOP AT RED LIGHT\":[6108,5783,6806,6715,8449,9162,9628,9639,8690,8913,7343,7021],\"FIRE HYDRANT\":[9674,8500,8977,8293,8542,8080,8840,9514,9449,11378,10286,9011],\"INSP. STICKER-EXPIRED/MISSING\":[10137,7807,7940,8369,8533,8372,10116,10203,9620,11074,9321,9089],\"NO PARKING-DAY/TIME LIMITS\":[13354,11323,12508,11602,11424,11256,14705,15826,14289,16604,14484,11967],\"NO PARKING-STREET CLEANING\":[34062,22978,27660,25170,31728,25017,37633,33233,24748,35074,29581,33444],\"NO STANDING-DAY/TIME LIMITS\":[17147,15472,17367,16125,16099,14942,17268,18355,16310,20083,18030,15239],\"PHTO SCHOOL ZN SPEED VIOLATION\":[27466,16674,22960,17991,25301,14657,9310,610,16123,26286,20662,21115],\"index\":[0,1,2,3,4,5,6,7,8,9,10,11],\"month\":[1,2,3,4,5,6,7,8,9,10,11,12]},\"selected\":{\"id\":\"2690\",\"type\":\"Selection\"},\"selection_policy\":{\"id\":\"2691\",\"type\":\"UnionRenderers\"}},\"id\":\"2516\",\"type\":\"ColumnDataSource\"},{\"attributes\":{\"fill_alpha\":{\"value\":0.1},\"fill_color\":{\"value\":\"#1f77b4\"},\"line_alpha\":{\"value\":0.1},\"line_color\":{\"value\":\"#1f77b4\"},\"top\":{\"field\":\"INSP. STICKER-EXPIRED/MISSING\"},\"width\":{\"value\":0.5},\"x\":{\"field\":\"month\"}},\"id\":\"2588\",\"type\":\"VBar\"},{\"attributes\":{\"source\":{\"id\":\"2516\",\"type\":\"ColumnDataSource\"}},\"id\":\"2591\",\"type\":\"CDSView\"},{\"attributes\":{\"fill_alpha\":{\"value\":0.09},\"fill_color\":{\"value\":\"#d62728\"},\"line_alpha\":{\"value\":0.09},\"line_color\":{\"value\":\"#d62728\"},\"top\":{\"field\":\"INSP. STICKER-EXPIRED/MISSING\"},\"width\":{\"value\":0.5},\"x\":{\"field\":\"month\"}},\"id\":\"2589\",\"type\":\"VBar\"},{\"attributes\":{\"fill_alpha\":{\"value\":3},\"fill_color\":{\"value\":\"#ff9896\"},\"line_alpha\":{\"value\":3},\"line_color\":{\"value\":\"#ff9896\"},\"top\":{\"field\":\"FIRE HYDRANT\"},\"width\":{\"value\":0.5},\"x\":{\"field\":\"month\"}},\"id\":\"2593\",\"type\":\"VBar\"},{\"attributes\":{\"data_source\":{\"id\":\"2516\",\"type\":\"ColumnDataSource\"},\"glyph\":{\"id\":\"2593\",\"type\":\"VBar\"},\"hover_glyph\":null,\"muted_glyph\":{\"id\":\"2595\",\"type\":\"VBar\"},\"nonselection_glyph\":{\"id\":\"2594\",\"type\":\"VBar\"},\"selection_glyph\":null,\"view\":{\"id\":\"2597\",\"type\":\"CDSView\"}},\"id\":\"2596\",\"type\":\"GlyphRenderer\"},{\"attributes\":{\"fill_alpha\":{\"value\":3},\"fill_color\":{\"value\":\"#9467bd\"},\"line_alpha\":{\"value\":3},\"line_color\":{\"value\":\"#9467bd\"},\"top\":{\"field\":\"EXPIRED MUNI METER\"},\"width\":{\"value\":0.5},\"x\":{\"field\":\"month\"}},\"id\":\"2599\",\"type\":\"VBar\"},{\"attributes\":{\"source\":{\"id\":\"2516\",\"type\":\"ColumnDataSource\"}},\"id\":\"2597\",\"type\":\"CDSView\"},{\"attributes\":{\"overlay\":{\"id\":\"2692\",\"type\":\"BoxAnnotation\"}},\"id\":\"2539\",\"type\":\"BoxZoomTool\"},{\"attributes\":{\"fill_alpha\":{\"value\":0.09},\"fill_color\":{\"value\":\"#ff9896\"},\"line_alpha\":{\"value\":0.09},\"line_color\":{\"value\":\"#ff9896\"},\"top\":{\"field\":\"FIRE HYDRANT\"},\"width\":{\"value\":0.5},\"x\":{\"field\":\"month\"}},\"id\":\"2595\",\"type\":\"VBar\"},{\"attributes\":{},\"id\":\"2540\",\"type\":\"SaveTool\"},{\"attributes\":{\"fill_alpha\":{\"value\":0.1},\"fill_color\":{\"value\":\"#1f77b4\"},\"line_alpha\":{\"value\":0.1},\"line_color\":{\"value\":\"#1f77b4\"},\"top\":{\"field\":\"FIRE HYDRANT\"},\"width\":{\"value\":0.5},\"x\":{\"field\":\"month\"}},\"id\":\"2594\",\"type\":\"VBar\"},{\"attributes\":{\"fill_alpha\":{\"value\":0.09},\"fill_color\":{\"value\":\"#c5b0d5\"},\"line_alpha\":{\"value\":0.09},\"line_color\":{\"value\":\"#c5b0d5\"},\"top\":{\"field\":\"FAILURE TO STOP AT RED LIGHT\"},\"width\":{\"value\":0.5},\"x\":{\"field\":\"month\"}},\"id\":\"2607\",\"type\":\"VBar\"},{\"attributes\":{\"fill_alpha\":{\"value\":0.1},\"fill_color\":{\"value\":\"#1f77b4\"},\"line_alpha\":{\"value\":0.1},\"line_color\":{\"value\":\"#1f77b4\"},\"top\":{\"field\":\"EXPIRED MUNI METER\"},\"width\":{\"value\":0.5},\"x\":{\"field\":\"month\"}},\"id\":\"2600\",\"type\":\"VBar\"},{\"attributes\":{\"data_source\":{\"id\":\"2516\",\"type\":\"ColumnDataSource\"},\"glyph\":{\"id\":\"2599\",\"type\":\"VBar\"},\"hover_glyph\":null,\"muted_glyph\":{\"id\":\"2601\",\"type\":\"VBar\"},\"nonselection_glyph\":{\"id\":\"2600\",\"type\":\"VBar\"},\"selection_glyph\":null,\"view\":{\"id\":\"2603\",\"type\":\"CDSView\"}},\"id\":\"2602\",\"type\":\"GlyphRenderer\"},{\"attributes\":{\"fill_alpha\":{\"value\":0.1},\"fill_color\":{\"value\":\"#1f77b4\"},\"line_alpha\":{\"value\":0.1},\"line_color\":{\"value\":\"#1f77b4\"},\"top\":{\"field\":\"FAILURE TO STOP AT RED LIGHT\"},\"width\":{\"value\":0.5},\"x\":{\"field\":\"month\"}},\"id\":\"2606\",\"type\":\"VBar\"},{\"attributes\":{\"data_source\":{\"id\":\"2516\",\"type\":\"ColumnDataSource\"},\"glyph\":{\"id\":\"2605\",\"type\":\"VBar\"},\"hover_glyph\":null,\"muted_glyph\":{\"id\":\"2607\",\"type\":\"VBar\"},\"nonselection_glyph\":{\"id\":\"2606\",\"type\":\"VBar\"},\"selection_glyph\":null,\"view\":{\"id\":\"2609\",\"type\":\"CDSView\"}},\"id\":\"2608\",\"type\":\"GlyphRenderer\"},{\"attributes\":{\"source\":{\"id\":\"2516\",\"type\":\"ColumnDataSource\"}},\"id\":\"2603\",\"type\":\"CDSView\"}],\"root_ids\":[\"2518\"]},\"title\":\"Bokeh Application\",\"version\":\"1.3.4\"}};\n",
       "  var render_items = [{\"docid\":\"2d19f19d-3ba8-4b5b-bafa-28e2d68e20f3\",\"roots\":{\"2518\":\"433ce6dd-8e36-48b0-b646-fe242fdb967c\"}}];\n",
       "  root.Bokeh.embed.embed_items_notebook(docs_json, render_items);\n",
       "\n",
       "  }\n",
       "  if (root.Bokeh !== undefined) {\n",
       "    embed_document(root);\n",
       "  } else {\n",
       "    var attempts = 0;\n",
       "    var timer = setInterval(function(root) {\n",
       "      if (root.Bokeh !== undefined) {\n",
       "        embed_document(root);\n",
       "        clearInterval(timer);\n",
       "      }\n",
       "      attempts++;\n",
       "      if (attempts > 100) {\n",
       "        console.log(\"Bokeh: ERROR: Unable to run BokehJS code because BokehJS library is missing\");\n",
       "        clearInterval(timer);\n",
       "      }\n",
       "    }, 10, root)\n",
       "  }\n",
       "})(window);"
      ],
      "application/vnd.bokehjs_exec.v0+json": ""
     },
     "metadata": {
      "application/vnd.bokehjs_exec.v0+json": {
       "id": "2518"
      }
     },
     "output_type": "display_data"
    },
    {
     "data": {
      "text/html": [
       "\n",
       "\n",
       "\n",
       "\n",
       "\n",
       "\n",
       "  <div class=\"bk-root\" id=\"02686c00-8e46-4f91-8f32-770f5cd96923\" data-root-id=\"2743\"></div>\n"
      ]
     },
     "metadata": {},
     "output_type": "display_data"
    },
    {
     "data": {
      "application/javascript": [
       "(function(root) {\n",
       "  function embed_document(root) {\n",
       "    \n",
       "  var docs_json = {\"0409ab88-0575-4ad7-a7d9-719c54984a35\":{\"roots\":{\"references\":[{\"attributes\":{\"below\":[{\"id\":\"2753\",\"type\":\"CategoricalAxis\"}],\"center\":[{\"id\":\"2756\",\"type\":\"Grid\"},{\"id\":\"2761\",\"type\":\"Grid\"}],\"left\":[{\"id\":\"2757\",\"type\":\"LinearAxis\"},{\"id\":\"2835\",\"type\":\"Legend\"}],\"plot_height\":500,\"plot_width\":1200,\"renderers\":[{\"id\":\"2779\",\"type\":\"GlyphRenderer\"},{\"id\":\"2785\",\"type\":\"GlyphRenderer\"},{\"id\":\"2791\",\"type\":\"GlyphRenderer\"},{\"id\":\"2797\",\"type\":\"GlyphRenderer\"},{\"id\":\"2803\",\"type\":\"GlyphRenderer\"},{\"id\":\"2809\",\"type\":\"GlyphRenderer\"},{\"id\":\"2815\",\"type\":\"GlyphRenderer\"},{\"id\":\"2821\",\"type\":\"GlyphRenderer\"},{\"id\":\"2827\",\"type\":\"GlyphRenderer\"},{\"id\":\"2833\",\"type\":\"GlyphRenderer\"}],\"title\":{\"id\":\"2744\",\"type\":\"Title\"},\"toolbar\":{\"id\":\"2768\",\"type\":\"Toolbar\"},\"toolbar_location\":null,\"x_range\":{\"id\":\"2742\",\"type\":\"FactorRange\"},\"x_scale\":{\"id\":\"2749\",\"type\":\"CategoricalScale\"},\"y_range\":{\"id\":\"2747\",\"type\":\"DataRange1d\"},\"y_scale\":{\"id\":\"2751\",\"type\":\"LinearScale\"}},\"id\":\"2743\",\"subtype\":\"Figure\",\"type\":\"Plot\"},{\"attributes\":{\"data_source\":{\"id\":\"2741\",\"type\":\"ColumnDataSource\"},\"glyph\":{\"id\":\"2812\",\"type\":\"VBar\"},\"hover_glyph\":null,\"muted_glyph\":{\"id\":\"2814\",\"type\":\"VBar\"},\"nonselection_glyph\":{\"id\":\"2813\",\"type\":\"VBar\"},\"selection_glyph\":null,\"view\":{\"id\":\"2816\",\"type\":\"CDSView\"}},\"id\":\"2815\",\"type\":\"GlyphRenderer\"},{\"attributes\":{\"source\":{\"id\":\"2741\",\"type\":\"ColumnDataSource\"}},\"id\":\"2834\",\"type\":\"CDSView\"},{\"attributes\":{},\"id\":\"2766\",\"type\":\"ResetTool\"},{\"attributes\":{\"label\":{\"value\":\"FAIL TO DSPLY MUNI METER RECPT\"},\"renderers\":[{\"id\":\"2785\",\"type\":\"GlyphRenderer\"}]},\"id\":\"2837\",\"type\":\"LegendItem\"},{\"attributes\":{},\"id\":\"2767\",\"type\":\"HelpTool\"},{\"attributes\":{\"active_drag\":\"auto\",\"active_inspect\":\"auto\",\"active_multi\":null,\"active_scroll\":\"auto\",\"active_tap\":\"auto\",\"tools\":[{\"id\":\"2762\",\"type\":\"PanTool\"},{\"id\":\"2763\",\"type\":\"WheelZoomTool\"},{\"id\":\"2764\",\"type\":\"BoxZoomTool\"},{\"id\":\"2765\",\"type\":\"SaveTool\"},{\"id\":\"2766\",\"type\":\"ResetTool\"},{\"id\":\"2767\",\"type\":\"HelpTool\"}]},\"id\":\"2768\",\"type\":\"Toolbar\"},{\"attributes\":{\"fill_alpha\":{\"value\":0.09},\"fill_color\":{\"value\":\"#c5b0d5\"},\"line_alpha\":{\"value\":0.09},\"line_color\":{\"value\":\"#c5b0d5\"},\"top\":{\"field\":\"FAILURE TO STOP AT RED LIGHT\"},\"width\":{\"value\":0.5},\"x\":{\"field\":\"Day Number\"}},\"id\":\"2832\",\"type\":\"VBar\"},{\"attributes\":{\"overlay\":{\"id\":\"2925\",\"type\":\"BoxAnnotation\"}},\"id\":\"2764\",\"type\":\"BoxZoomTool\"},{\"attributes\":{\"fill_alpha\":{\"value\":0.09},\"fill_color\":{\"value\":\"#ff9896\"},\"line_alpha\":{\"value\":0.09},\"line_color\":{\"value\":\"#ff9896\"},\"top\":{\"field\":\"FIRE HYDRANT\"},\"width\":{\"value\":0.5},\"x\":{\"field\":\"Day Number\"}},\"id\":\"2820\",\"type\":\"VBar\"},{\"attributes\":{\"fill_alpha\":{\"value\":3},\"fill_color\":{\"value\":\"#ff7f0e\"},\"line_alpha\":{\"value\":3},\"line_color\":{\"value\":\"#ff7f0e\"},\"top\":{\"field\":\"PHTO SCHOOL ZN SPEED VIOLATION\"},\"width\":{\"value\":0.5},\"x\":{\"field\":\"Day Number\"}},\"id\":\"2788\",\"type\":\"VBar\"},{\"attributes\":{\"source\":{\"id\":\"2741\",\"type\":\"ColumnDataSource\"}},\"id\":\"2822\",\"type\":\"CDSView\"},{\"attributes\":{\"fill_alpha\":{\"value\":3},\"fill_color\":{\"value\":\"#ff9896\"},\"line_alpha\":{\"value\":3},\"line_color\":{\"value\":\"#ff9896\"},\"top\":{\"field\":\"FIRE HYDRANT\"},\"width\":{\"value\":0.5},\"x\":{\"field\":\"Day Number\"}},\"id\":\"2818\",\"type\":\"VBar\"},{\"attributes\":{\"data_source\":{\"id\":\"2741\",\"type\":\"ColumnDataSource\"},\"glyph\":{\"id\":\"2776\",\"type\":\"VBar\"},\"hover_glyph\":null,\"muted_glyph\":{\"id\":\"2778\",\"type\":\"VBar\"},\"nonselection_glyph\":{\"id\":\"2777\",\"type\":\"VBar\"},\"selection_glyph\":null,\"view\":{\"id\":\"2780\",\"type\":\"CDSView\"}},\"id\":\"2779\",\"type\":\"GlyphRenderer\"},{\"attributes\":{\"label\":{\"value\":\"FAILURE TO STOP AT RED LIGHT\"},\"renderers\":[{\"id\":\"2833\",\"type\":\"GlyphRenderer\"}]},\"id\":\"2845\",\"type\":\"LegendItem\"},{\"attributes\":{\"data_source\":{\"id\":\"2741\",\"type\":\"ColumnDataSource\"},\"glyph\":{\"id\":\"2830\",\"type\":\"VBar\"},\"hover_glyph\":null,\"muted_glyph\":{\"id\":\"2832\",\"type\":\"VBar\"},\"nonselection_glyph\":{\"id\":\"2831\",\"type\":\"VBar\"},\"selection_glyph\":null,\"view\":{\"id\":\"2834\",\"type\":\"CDSView\"}},\"id\":\"2833\",\"type\":\"GlyphRenderer\"},{\"attributes\":{},\"id\":\"2765\",\"type\":\"SaveTool\"},{\"attributes\":{\"label\":{\"value\":\"DOUBLE PARKING\"},\"renderers\":[{\"id\":\"2809\",\"type\":\"GlyphRenderer\"}]},\"id\":\"2841\",\"type\":\"LegendItem\"},{\"attributes\":{\"source\":{\"id\":\"2741\",\"type\":\"ColumnDataSource\"}},\"id\":\"2816\",\"type\":\"CDSView\"},{\"attributes\":{\"data_source\":{\"id\":\"2741\",\"type\":\"ColumnDataSource\"},\"glyph\":{\"id\":\"2788\",\"type\":\"VBar\"},\"hover_glyph\":null,\"muted_glyph\":{\"id\":\"2790\",\"type\":\"VBar\"},\"nonselection_glyph\":{\"id\":\"2789\",\"type\":\"VBar\"},\"selection_glyph\":null,\"view\":{\"id\":\"2792\",\"type\":\"CDSView\"}},\"id\":\"2791\",\"type\":\"GlyphRenderer\"},{\"attributes\":{\"fill_alpha\":{\"value\":3},\"fill_color\":{\"value\":\"#aec7e8\"},\"line_alpha\":{\"value\":3},\"line_color\":{\"value\":\"#aec7e8\"},\"top\":{\"field\":\"FAIL TO DSPLY MUNI METER RECPT\"},\"width\":{\"value\":0.5},\"x\":{\"field\":\"Day Number\"}},\"id\":\"2782\",\"type\":\"VBar\"},{\"attributes\":{\"fill_alpha\":{\"value\":0.1},\"fill_color\":{\"value\":\"#1f77b4\"},\"line_alpha\":{\"value\":0.1},\"line_color\":{\"value\":\"#1f77b4\"},\"top\":{\"field\":\"FAIL TO DSPLY MUNI METER RECPT\"},\"width\":{\"value\":0.5},\"x\":{\"field\":\"Day Number\"}},\"id\":\"2783\",\"type\":\"VBar\"},{\"attributes\":{\"data_source\":{\"id\":\"2741\",\"type\":\"ColumnDataSource\"},\"glyph\":{\"id\":\"2818\",\"type\":\"VBar\"},\"hover_glyph\":null,\"muted_glyph\":{\"id\":\"2820\",\"type\":\"VBar\"},\"nonselection_glyph\":{\"id\":\"2819\",\"type\":\"VBar\"},\"selection_glyph\":null,\"view\":{\"id\":\"2822\",\"type\":\"CDSView\"}},\"id\":\"2821\",\"type\":\"GlyphRenderer\"},{\"attributes\":{\"fill_alpha\":{\"value\":0.1},\"fill_color\":{\"value\":\"#1f77b4\"},\"line_alpha\":{\"value\":0.1},\"line_color\":{\"value\":\"#1f77b4\"},\"top\":{\"field\":\"FAILURE TO STOP AT RED LIGHT\"},\"width\":{\"value\":0.5},\"x\":{\"field\":\"Day Number\"}},\"id\":\"2831\",\"type\":\"VBar\"},{\"attributes\":{\"fill_alpha\":{\"value\":3},\"fill_color\":{\"value\":\"#ffbb78\"},\"line_alpha\":{\"value\":3},\"line_color\":{\"value\":\"#ffbb78\"},\"top\":{\"field\":\"NO STANDING-DAY/TIME LIMITS\"},\"width\":{\"value\":0.5},\"x\":{\"field\":\"Day Number\"}},\"id\":\"2794\",\"type\":\"VBar\"},{\"attributes\":{\"label\":{\"value\":\"NO PARKING-DAY/TIME LIMITS\"},\"renderers\":[{\"id\":\"2803\",\"type\":\"GlyphRenderer\"}]},\"id\":\"2840\",\"type\":\"LegendItem\"},{\"attributes\":{\"source\":{\"id\":\"2741\",\"type\":\"ColumnDataSource\"}},\"id\":\"2780\",\"type\":\"CDSView\"},{\"attributes\":{\"label\":{\"value\":\"NO PARKING-STREET CLEANING\"},\"renderers\":[{\"id\":\"2779\",\"type\":\"GlyphRenderer\"}]},\"id\":\"2836\",\"type\":\"LegendItem\"},{\"attributes\":{\"fill_alpha\":{\"value\":0.1},\"fill_color\":{\"value\":\"#1f77b4\"},\"line_alpha\":{\"value\":0.1},\"line_color\":{\"value\":\"#1f77b4\"},\"top\":{\"field\":\"FIRE HYDRANT\"},\"width\":{\"value\":0.5},\"x\":{\"field\":\"Day Number\"}},\"id\":\"2819\",\"type\":\"VBar\"},{\"attributes\":{\"fill_alpha\":{\"value\":0.09},\"fill_color\":{\"value\":\"#aec7e8\"},\"line_alpha\":{\"value\":0.09},\"line_color\":{\"value\":\"#aec7e8\"},\"top\":{\"field\":\"FAIL TO DSPLY MUNI METER RECPT\"},\"width\":{\"value\":0.5},\"x\":{\"field\":\"Day Number\"}},\"id\":\"2784\",\"type\":\"VBar\"},{\"attributes\":{\"fill_alpha\":{\"value\":0.09},\"fill_color\":{\"value\":\"#ff7f0e\"},\"line_alpha\":{\"value\":0.09},\"line_color\":{\"value\":\"#ff7f0e\"},\"top\":{\"field\":\"PHTO SCHOOL ZN SPEED VIOLATION\"},\"width\":{\"value\":0.5},\"x\":{\"field\":\"Day Number\"}},\"id\":\"2790\",\"type\":\"VBar\"},{\"attributes\":{\"data_source\":{\"id\":\"2741\",\"type\":\"ColumnDataSource\"},\"glyph\":{\"id\":\"2782\",\"type\":\"VBar\"},\"hover_glyph\":null,\"muted_glyph\":{\"id\":\"2784\",\"type\":\"VBar\"},\"nonselection_glyph\":{\"id\":\"2783\",\"type\":\"VBar\"},\"selection_glyph\":null,\"view\":{\"id\":\"2786\",\"type\":\"CDSView\"}},\"id\":\"2785\",\"type\":\"GlyphRenderer\"},{\"attributes\":{\"source\":{\"id\":\"2741\",\"type\":\"ColumnDataSource\"}},\"id\":\"2792\",\"type\":\"CDSView\"},{\"attributes\":{\"label\":{\"value\":\"FIRE HYDRANT\"},\"renderers\":[{\"id\":\"2821\",\"type\":\"GlyphRenderer\"}]},\"id\":\"2843\",\"type\":\"LegendItem\"},{\"attributes\":{\"label\":{\"value\":\"EXPIRED MUNI METER\"},\"renderers\":[{\"id\":\"2827\",\"type\":\"GlyphRenderer\"}]},\"id\":\"2844\",\"type\":\"LegendItem\"},{\"attributes\":{\"source\":{\"id\":\"2741\",\"type\":\"ColumnDataSource\"}},\"id\":\"2786\",\"type\":\"CDSView\"},{\"attributes\":{\"fill_alpha\":{\"value\":0.1},\"fill_color\":{\"value\":\"#1f77b4\"},\"line_alpha\":{\"value\":0.1},\"line_color\":{\"value\":\"#1f77b4\"},\"top\":{\"field\":\"PHTO SCHOOL ZN SPEED VIOLATION\"},\"width\":{\"value\":0.5},\"x\":{\"field\":\"Day Number\"}},\"id\":\"2789\",\"type\":\"VBar\"},{\"attributes\":{\"label\":{\"value\":\"PHTO SCHOOL ZN SPEED VIOLATION\"},\"renderers\":[{\"id\":\"2791\",\"type\":\"GlyphRenderer\"}]},\"id\":\"2838\",\"type\":\"LegendItem\"},{\"attributes\":{\"label\":{\"value\":\"NO STANDING-DAY/TIME LIMITS\"},\"renderers\":[{\"id\":\"2797\",\"type\":\"GlyphRenderer\"}]},\"id\":\"2839\",\"type\":\"LegendItem\"},{\"attributes\":{\"label\":{\"value\":\"INSP. STICKER-EXPIRED/MISSING\"},\"renderers\":[{\"id\":\"2815\",\"type\":\"GlyphRenderer\"}]},\"id\":\"2842\",\"type\":\"LegendItem\"},{\"attributes\":{\"source\":{\"id\":\"2741\",\"type\":\"ColumnDataSource\"}},\"id\":\"2804\",\"type\":\"CDSView\"},{\"attributes\":{\"fill_alpha\":{\"value\":0.1},\"fill_color\":{\"value\":\"#1f77b4\"},\"line_alpha\":{\"value\":0.1},\"line_color\":{\"value\":\"#1f77b4\"},\"top\":{\"field\":\"NO PARKING-STREET CLEANING\"},\"width\":{\"value\":0.5},\"x\":{\"field\":\"Day Number\"}},\"id\":\"2777\",\"type\":\"VBar\"},{\"attributes\":{},\"id\":\"2751\",\"type\":\"LinearScale\"},{\"attributes\":{\"source\":{\"id\":\"2741\",\"type\":\"ColumnDataSource\"}},\"id\":\"2798\",\"type\":\"CDSView\"},{\"attributes\":{},\"id\":\"2923\",\"type\":\"Selection\"},{\"attributes\":{\"fill_alpha\":{\"value\":0.1},\"fill_color\":{\"value\":\"#1f77b4\"},\"line_alpha\":{\"value\":0.1},\"line_color\":{\"value\":\"#1f77b4\"},\"top\":{\"field\":\"INSP. STICKER-EXPIRED/MISSING\"},\"width\":{\"value\":0.5},\"x\":{\"field\":\"Day Number\"}},\"id\":\"2813\",\"type\":\"VBar\"},{\"attributes\":{},\"id\":\"2763\",\"type\":\"WheelZoomTool\"},{\"attributes\":{\"click_policy\":\"mute\",\"items\":[{\"id\":\"2836\",\"type\":\"LegendItem\"},{\"id\":\"2837\",\"type\":\"LegendItem\"},{\"id\":\"2838\",\"type\":\"LegendItem\"},{\"id\":\"2839\",\"type\":\"LegendItem\"},{\"id\":\"2840\",\"type\":\"LegendItem\"},{\"id\":\"2841\",\"type\":\"LegendItem\"},{\"id\":\"2842\",\"type\":\"LegendItem\"},{\"id\":\"2843\",\"type\":\"LegendItem\"},{\"id\":\"2844\",\"type\":\"LegendItem\"},{\"id\":\"2845\",\"type\":\"LegendItem\"}],\"location\":[0,50]},\"id\":\"2835\",\"type\":\"Legend\"},{\"attributes\":{\"fill_alpha\":{\"value\":3},\"fill_color\":{\"value\":\"#1f77b4\"},\"line_alpha\":{\"value\":3},\"line_color\":{\"value\":\"#1f77b4\"},\"top\":{\"field\":\"NO PARKING-STREET CLEANING\"},\"width\":{\"value\":0.5},\"x\":{\"field\":\"Day Number\"}},\"id\":\"2776\",\"type\":\"VBar\"},{\"attributes\":{\"data_source\":{\"id\":\"2741\",\"type\":\"ColumnDataSource\"},\"glyph\":{\"id\":\"2800\",\"type\":\"VBar\"},\"hover_glyph\":null,\"muted_glyph\":{\"id\":\"2802\",\"type\":\"VBar\"},\"nonselection_glyph\":{\"id\":\"2801\",\"type\":\"VBar\"},\"selection_glyph\":null,\"view\":{\"id\":\"2804\",\"type\":\"CDSView\"}},\"id\":\"2803\",\"type\":\"GlyphRenderer\"},{\"attributes\":{\"fill_alpha\":{\"value\":0.1},\"fill_color\":{\"value\":\"#1f77b4\"},\"line_alpha\":{\"value\":0.1},\"line_color\":{\"value\":\"#1f77b4\"},\"top\":{\"field\":\"NO STANDING-DAY/TIME LIMITS\"},\"width\":{\"value\":0.5},\"x\":{\"field\":\"Day Number\"}},\"id\":\"2795\",\"type\":\"VBar\"},{\"attributes\":{\"dimension\":1,\"ticker\":{\"id\":\"2758\",\"type\":\"BasicTicker\"}},\"id\":\"2761\",\"type\":\"Grid\"},{\"attributes\":{},\"id\":\"2922\",\"type\":\"BasicTickFormatter\"},{\"attributes\":{},\"id\":\"2924\",\"type\":\"UnionRenderers\"},{\"attributes\":{\"fill_alpha\":{\"value\":3},\"fill_color\":{\"value\":\"#98df8a\"},\"line_alpha\":{\"value\":3},\"line_color\":{\"value\":\"#98df8a\"},\"top\":{\"field\":\"DOUBLE PARKING\"},\"width\":{\"value\":0.5},\"x\":{\"field\":\"Day Number\"}},\"id\":\"2806\",\"type\":\"VBar\"},{\"attributes\":{},\"id\":\"2754\",\"type\":\"CategoricalTicker\"},{\"attributes\":{\"fill_alpha\":{\"value\":0.09},\"fill_color\":{\"value\":\"#2ca02c\"},\"line_alpha\":{\"value\":0.09},\"line_color\":{\"value\":\"#2ca02c\"},\"top\":{\"field\":\"NO PARKING-DAY/TIME LIMITS\"},\"width\":{\"value\":0.5},\"x\":{\"field\":\"Day Number\"}},\"id\":\"2802\",\"type\":\"VBar\"},{\"attributes\":{\"callback\":null},\"id\":\"2747\",\"type\":\"DataRange1d\"},{\"attributes\":{\"fill_alpha\":{\"value\":0.1},\"fill_color\":{\"value\":\"#1f77b4\"},\"line_alpha\":{\"value\":0.1},\"line_color\":{\"value\":\"#1f77b4\"},\"top\":{\"field\":\"NO PARKING-DAY/TIME LIMITS\"},\"width\":{\"value\":0.5},\"x\":{\"field\":\"Day Number\"}},\"id\":\"2801\",\"type\":\"VBar\"},{\"attributes\":{},\"id\":\"2920\",\"type\":\"CategoricalTickFormatter\"},{\"attributes\":{},\"id\":\"2758\",\"type\":\"BasicTicker\"},{\"attributes\":{\"fill_alpha\":{\"value\":3},\"fill_color\":{\"value\":\"#c5b0d5\"},\"line_alpha\":{\"value\":3},\"line_color\":{\"value\":\"#c5b0d5\"},\"top\":{\"field\":\"FAILURE TO STOP AT RED LIGHT\"},\"width\":{\"value\":0.5},\"x\":{\"field\":\"Day Number\"}},\"id\":\"2830\",\"type\":\"VBar\"},{\"attributes\":{\"data_source\":{\"id\":\"2741\",\"type\":\"ColumnDataSource\"},\"glyph\":{\"id\":\"2794\",\"type\":\"VBar\"},\"hover_glyph\":null,\"muted_glyph\":{\"id\":\"2796\",\"type\":\"VBar\"},\"nonselection_glyph\":{\"id\":\"2795\",\"type\":\"VBar\"},\"selection_glyph\":null,\"view\":{\"id\":\"2798\",\"type\":\"CDSView\"}},\"id\":\"2797\",\"type\":\"GlyphRenderer\"},{\"attributes\":{\"callback\":null,\"data\":{\"DOUBLE PARKING\":{\"__ndarray__\":\"AAAAAICQ0EAAAAAAQLXVQAAAAACAktVAAAAAAECp1UAAAAAAwLDUQAAAAACAosNAAAAAAABWrkA=\",\"dtype\":\"float64\",\"shape\":[7]},\"Day Number\":[0,1,2,3,4,5,6],\"EXPIRED MUNI METER\":{\"__ndarray__\":\"AAAAAIA9y0AAAAAAAJjQQAAAAAAArNJAAAAAAIAd0UAAAAAAgKjPQAAAAACATspAAAAAAAAAIEA=\",\"dtype\":\"float64\",\"shape\":[7]},\"FAIL TO DSPLY MUNI METER RECPT\":{\"__ndarray__\":\"AAAAAGBm4EAAAAAAoIniQAAAAACAx+RAAAAAAADg4kAAAAAAYCriQAAAAAAg9ORAAAAAAACAR0A=\",\"dtype\":\"float64\",\"shape\":[7]},\"FAILURE TO STOP AT RED LIGHT\":{\"__ndarray__\":\"AAAAAICix0AAAAAAAAnJQAAAAAAAAcpAAAAAAAAOy0AAAAAAADzLQAAAAACAyMxAAAAAAIBZykA=\",\"dtype\":\"float64\",\"shape\":[7]},\"FIRE HYDRANT\":{\"__ndarray__\":\"AAAAAACcykAAAAAAAO/QQAAAAABAh9JAAAAAAECw0EAAAAAAwArQQAAAAACAks9AAAAAAABXxUA=\",\"dtype\":\"float64\",\"shape\":[7]},\"INSP. STICKER-EXPIRED/MISSING\":{\"__ndarray__\":\"AAAAAEC10EAAAAAAgPbQQAAAAAAAPNNAAAAAAICb0UAAAAAAADPPQAAAAACAg81AAAAAAAB7vEA=\",\"dtype\":\"float64\",\"shape\":[7]},\"NO PARKING-DAY/TIME LIMITS\":{\"__ndarray__\":\"AAAAAIAf2EAAAAAAQN/aQAAAAADA/NxAAAAAAEDu2kAAAAAAwNvZQAAAAACAf8xAAAAAAIAswUA=\",\"dtype\":\"float64\",\"shape\":[7]},\"NO PARKING-STREET CLEANING\":{\"__ndarray__\":\"AAAAAIBP8EAAAAAAoC3yQAAAAADgK+BAAAAAABC08kAAAAAAwLT1QAAAAACA3NNAAAAAAAAAVkA=\",\"dtype\":\"float64\",\"shape\":[7]},\"NO STANDING-DAY/TIME LIMITS\":{\"__ndarray__\":\"AAAAAAAy30AAAAAA4PLgQAAAAACgGeJAAAAAAOBB4UAAAAAAwBThQAAAAAAATNBAAAAAAADaxkA=\",\"dtype\":\"float64\",\"shape\":[7]},\"PHTO SCHOOL ZN SPEED VIOLATION\":{\"__ndarray__\":\"AAAAAMDL40AAAAAAAHHjQAAAAADAe+dAAAAAAIAV5kAAAAAAYDTmQAAAAAAAAPh/AAAAAAAA+H8=\",\"dtype\":\"float64\",\"shape\":[7]},\"index\":[0,1,2,3,4,5,6]},\"selected\":{\"id\":\"2923\",\"type\":\"Selection\"},\"selection_policy\":{\"id\":\"2924\",\"type\":\"UnionRenderers\"}},\"id\":\"2741\",\"type\":\"ColumnDataSource\"},{\"attributes\":{\"fill_alpha\":{\"value\":3},\"fill_color\":{\"value\":\"#2ca02c\"},\"line_alpha\":{\"value\":3},\"line_color\":{\"value\":\"#2ca02c\"},\"top\":{\"field\":\"NO PARKING-DAY/TIME LIMITS\"},\"width\":{\"value\":0.5},\"x\":{\"field\":\"Day Number\"}},\"id\":\"2800\",\"type\":\"VBar\"},{\"attributes\":{\"axis_label\":\"Day Number\",\"formatter\":{\"id\":\"2920\",\"type\":\"CategoricalTickFormatter\"},\"ticker\":{\"id\":\"2754\",\"type\":\"CategoricalTicker\"}},\"id\":\"2753\",\"type\":\"CategoricalAxis\"},{\"attributes\":{\"ticker\":{\"id\":\"2754\",\"type\":\"CategoricalTicker\"}},\"id\":\"2756\",\"type\":\"Grid\"},{\"attributes\":{\"fill_alpha\":{\"value\":0.09},\"fill_color\":{\"value\":\"#9467bd\"},\"line_alpha\":{\"value\":0.09},\"line_color\":{\"value\":\"#9467bd\"},\"top\":{\"field\":\"EXPIRED MUNI METER\"},\"width\":{\"value\":0.5},\"x\":{\"field\":\"Day Number\"}},\"id\":\"2826\",\"type\":\"VBar\"},{\"attributes\":{\"text\":\"Distibution of # of fines for top 10 violations pr. Day Number\"},\"id\":\"2744\",\"type\":\"Title\"},{\"attributes\":{\"fill_alpha\":{\"value\":0.09},\"fill_color\":{\"value\":\"#ffbb78\"},\"line_alpha\":{\"value\":0.09},\"line_color\":{\"value\":\"#ffbb78\"},\"top\":{\"field\":\"NO STANDING-DAY/TIME LIMITS\"},\"width\":{\"value\":0.5},\"x\":{\"field\":\"Day Number\"}},\"id\":\"2796\",\"type\":\"VBar\"},{\"attributes\":{\"source\":{\"id\":\"2741\",\"type\":\"ColumnDataSource\"}},\"id\":\"2828\",\"type\":\"CDSView\"},{\"attributes\":{\"axis_label\":\"# of fines\",\"formatter\":{\"id\":\"2922\",\"type\":\"BasicTickFormatter\"},\"ticker\":{\"id\":\"2758\",\"type\":\"BasicTicker\"}},\"id\":\"2757\",\"type\":\"LinearAxis\"},{\"attributes\":{\"data_source\":{\"id\":\"2741\",\"type\":\"ColumnDataSource\"},\"glyph\":{\"id\":\"2806\",\"type\":\"VBar\"},\"hover_glyph\":null,\"muted_glyph\":{\"id\":\"2808\",\"type\":\"VBar\"},\"nonselection_glyph\":{\"id\":\"2807\",\"type\":\"VBar\"},\"selection_glyph\":null,\"view\":{\"id\":\"2810\",\"type\":\"CDSView\"}},\"id\":\"2809\",\"type\":\"GlyphRenderer\"},{\"attributes\":{\"fill_alpha\":{\"value\":0.09},\"fill_color\":{\"value\":\"#d62728\"},\"line_alpha\":{\"value\":0.09},\"line_color\":{\"value\":\"#d62728\"},\"top\":{\"field\":\"INSP. STICKER-EXPIRED/MISSING\"},\"width\":{\"value\":0.5},\"x\":{\"field\":\"Day Number\"}},\"id\":\"2814\",\"type\":\"VBar\"},{\"attributes\":{},\"id\":\"2749\",\"type\":\"CategoricalScale\"},{\"attributes\":{\"source\":{\"id\":\"2741\",\"type\":\"ColumnDataSource\"}},\"id\":\"2810\",\"type\":\"CDSView\"},{\"attributes\":{\"data_source\":{\"id\":\"2741\",\"type\":\"ColumnDataSource\"},\"glyph\":{\"id\":\"2824\",\"type\":\"VBar\"},\"hover_glyph\":null,\"muted_glyph\":{\"id\":\"2826\",\"type\":\"VBar\"},\"nonselection_glyph\":{\"id\":\"2825\",\"type\":\"VBar\"},\"selection_glyph\":null,\"view\":{\"id\":\"2828\",\"type\":\"CDSView\"}},\"id\":\"2827\",\"type\":\"GlyphRenderer\"},{\"attributes\":{\"callback\":null,\"factors\":[\"0\",\"1\",\"2\",\"3\",\"4\",\"5\",\"6\"],\"range_padding\":0.04},\"id\":\"2742\",\"type\":\"FactorRange\"},{\"attributes\":{\"fill_alpha\":{\"value\":0.09},\"fill_color\":{\"value\":\"#98df8a\"},\"line_alpha\":{\"value\":0.09},\"line_color\":{\"value\":\"#98df8a\"},\"top\":{\"field\":\"DOUBLE PARKING\"},\"width\":{\"value\":0.5},\"x\":{\"field\":\"Day Number\"}},\"id\":\"2808\",\"type\":\"VBar\"},{\"attributes\":{},\"id\":\"2762\",\"type\":\"PanTool\"},{\"attributes\":{\"fill_alpha\":{\"value\":3},\"fill_color\":{\"value\":\"#9467bd\"},\"line_alpha\":{\"value\":3},\"line_color\":{\"value\":\"#9467bd\"},\"top\":{\"field\":\"EXPIRED MUNI METER\"},\"width\":{\"value\":0.5},\"x\":{\"field\":\"Day Number\"}},\"id\":\"2824\",\"type\":\"VBar\"},{\"attributes\":{\"fill_alpha\":{\"value\":0.1},\"fill_color\":{\"value\":\"#1f77b4\"},\"line_alpha\":{\"value\":0.1},\"line_color\":{\"value\":\"#1f77b4\"},\"top\":{\"field\":\"DOUBLE PARKING\"},\"width\":{\"value\":0.5},\"x\":{\"field\":\"Day Number\"}},\"id\":\"2807\",\"type\":\"VBar\"},{\"attributes\":{\"fill_alpha\":{\"value\":0.09},\"fill_color\":{\"value\":\"#1f77b4\"},\"line_alpha\":{\"value\":0.09},\"line_color\":{\"value\":\"#1f77b4\"},\"top\":{\"field\":\"NO PARKING-STREET CLEANING\"},\"width\":{\"value\":0.5},\"x\":{\"field\":\"Day Number\"}},\"id\":\"2778\",\"type\":\"VBar\"},{\"attributes\":{\"fill_alpha\":{\"value\":3},\"fill_color\":{\"value\":\"#d62728\"},\"line_alpha\":{\"value\":3},\"line_color\":{\"value\":\"#d62728\"},\"top\":{\"field\":\"INSP. STICKER-EXPIRED/MISSING\"},\"width\":{\"value\":0.5},\"x\":{\"field\":\"Day Number\"}},\"id\":\"2812\",\"type\":\"VBar\"},{\"attributes\":{\"fill_alpha\":{\"value\":0.1},\"fill_color\":{\"value\":\"#1f77b4\"},\"line_alpha\":{\"value\":0.1},\"line_color\":{\"value\":\"#1f77b4\"},\"top\":{\"field\":\"EXPIRED MUNI METER\"},\"width\":{\"value\":0.5},\"x\":{\"field\":\"Day Number\"}},\"id\":\"2825\",\"type\":\"VBar\"},{\"attributes\":{\"bottom_units\":\"screen\",\"fill_alpha\":{\"value\":0.5},\"fill_color\":{\"value\":\"lightgrey\"},\"left_units\":\"screen\",\"level\":\"overlay\",\"line_alpha\":{\"value\":1.0},\"line_color\":{\"value\":\"black\"},\"line_dash\":[4,4],\"line_width\":{\"value\":2},\"render_mode\":\"css\",\"right_units\":\"screen\",\"top_units\":\"screen\"},\"id\":\"2925\",\"type\":\"BoxAnnotation\"}],\"root_ids\":[\"2743\"]},\"title\":\"Bokeh Application\",\"version\":\"1.3.4\"}};\n",
       "  var render_items = [{\"docid\":\"0409ab88-0575-4ad7-a7d9-719c54984a35\",\"roots\":{\"2743\":\"02686c00-8e46-4f91-8f32-770f5cd96923\"}}];\n",
       "  root.Bokeh.embed.embed_items_notebook(docs_json, render_items);\n",
       "\n",
       "  }\n",
       "  if (root.Bokeh !== undefined) {\n",
       "    embed_document(root);\n",
       "  } else {\n",
       "    var attempts = 0;\n",
       "    var timer = setInterval(function(root) {\n",
       "      if (root.Bokeh !== undefined) {\n",
       "        embed_document(root);\n",
       "        clearInterval(timer);\n",
       "      }\n",
       "      attempts++;\n",
       "      if (attempts > 100) {\n",
       "        console.log(\"Bokeh: ERROR: Unable to run BokehJS code because BokehJS library is missing\");\n",
       "        clearInterval(timer);\n",
       "      }\n",
       "    }, 10, root)\n",
       "  }\n",
       "})(window);"
      ],
      "application/vnd.bokehjs_exec.v0+json": ""
     },
     "metadata": {
      "application/vnd.bokehjs_exec.v0+json": {
       "id": "2743"
      }
     },
     "output_type": "display_data"
    }
   ],
   "source": [
    "bokeh(df,\"Hour\")\n",
    "bokeh(df,\"month\")\n",
    "bokeh(df, \"Day Number\")"
   ]
  },
  {
   "cell_type": "code",
   "execution_count": 26,
   "metadata": {},
   "outputs": [
    {
     "ename": "ValueError",
     "evalue": "\nThe fig parameter must be a dict or Figure.\n    Received value of type <class 'NoneType'>: None",
     "output_type": "error",
     "traceback": [
      "\u001b[0;31m---------------------------------------------------------------------------\u001b[0m",
      "\u001b[0;31mValueError\u001b[0m                                Traceback (most recent call last)",
      "\u001b[0;32m<ipython-input-26-caf3591738fe>\u001b[0m in \u001b[0;36m<module>\u001b[0;34m\u001b[0m\n\u001b[1;32m      1\u001b[0m \u001b[0;32mimport\u001b[0m \u001b[0mplotly\u001b[0m\u001b[0;34m.\u001b[0m\u001b[0mio\u001b[0m \u001b[0;32mas\u001b[0m \u001b[0mpio\u001b[0m\u001b[0;34m\u001b[0m\u001b[0;34m\u001b[0m\u001b[0m\n\u001b[0;32m----> 2\u001b[0;31m \u001b[0mpio\u001b[0m\u001b[0;34m.\u001b[0m\u001b[0mwrite_html\u001b[0m\u001b[0;34m(\u001b[0m\u001b[0mfig\u001b[0m\u001b[0;34m,\u001b[0m \u001b[0mfile\u001b[0m\u001b[0;34m=\u001b[0m\u001b[0;34m'index.html'\u001b[0m\u001b[0;34m,\u001b[0m \u001b[0mauto_open\u001b[0m\u001b[0;34m=\u001b[0m\u001b[0;32mTrue\u001b[0m\u001b[0;34m)\u001b[0m\u001b[0;34m\u001b[0m\u001b[0;34m\u001b[0m\u001b[0m\n\u001b[0m",
      "\u001b[0;32m~/.local/lib/python3.7/site-packages/plotly/io/_html.py\u001b[0m in \u001b[0;36mwrite_html\u001b[0;34m(fig, file, config, auto_play, include_plotlyjs, include_mathjax, post_script, full_html, animation_opts, validate, default_width, default_height, auto_open)\u001b[0m\n\u001b[1;32m    517\u001b[0m         \u001b[0mdefault_width\u001b[0m\u001b[0;34m=\u001b[0m\u001b[0mdefault_width\u001b[0m\u001b[0;34m,\u001b[0m\u001b[0;34m\u001b[0m\u001b[0;34m\u001b[0m\u001b[0m\n\u001b[1;32m    518\u001b[0m         \u001b[0mdefault_height\u001b[0m\u001b[0;34m=\u001b[0m\u001b[0mdefault_height\u001b[0m\u001b[0;34m,\u001b[0m\u001b[0;34m\u001b[0m\u001b[0;34m\u001b[0m\u001b[0m\n\u001b[0;32m--> 519\u001b[0;31m         \u001b[0mvalidate\u001b[0m\u001b[0;34m=\u001b[0m\u001b[0mvalidate\u001b[0m\u001b[0;34m,\u001b[0m\u001b[0;34m\u001b[0m\u001b[0;34m\u001b[0m\u001b[0m\n\u001b[0m\u001b[1;32m    520\u001b[0m     )\n\u001b[1;32m    521\u001b[0m \u001b[0;34m\u001b[0m\u001b[0m\n",
      "\u001b[0;32m~/.local/lib/python3.7/site-packages/plotly/io/_html.py\u001b[0m in \u001b[0;36mto_html\u001b[0;34m(fig, config, auto_play, include_plotlyjs, include_mathjax, post_script, full_html, animation_opts, default_width, default_height, validate)\u001b[0m\n\u001b[1;32m    129\u001b[0m \u001b[0;34m\u001b[0m\u001b[0m\n\u001b[1;32m    130\u001b[0m     \u001b[0;31m# ## Validate figure ##\u001b[0m\u001b[0;34m\u001b[0m\u001b[0;34m\u001b[0m\u001b[0;34m\u001b[0m\u001b[0m\n\u001b[0;32m--> 131\u001b[0;31m     \u001b[0mfig_dict\u001b[0m \u001b[0;34m=\u001b[0m \u001b[0mvalidate_coerce_fig_to_dict\u001b[0m\u001b[0;34m(\u001b[0m\u001b[0mfig\u001b[0m\u001b[0;34m,\u001b[0m \u001b[0mvalidate\u001b[0m\u001b[0;34m)\u001b[0m\u001b[0;34m\u001b[0m\u001b[0;34m\u001b[0m\u001b[0m\n\u001b[0m\u001b[1;32m    132\u001b[0m \u001b[0;34m\u001b[0m\u001b[0m\n\u001b[1;32m    133\u001b[0m     \u001b[0;31m# ## Generate div id ##\u001b[0m\u001b[0;34m\u001b[0m\u001b[0;34m\u001b[0m\u001b[0;34m\u001b[0m\u001b[0m\n",
      "\u001b[0;32m~/.local/lib/python3.7/site-packages/plotly/io/_utils.py\u001b[0m in \u001b[0;36mvalidate_coerce_fig_to_dict\u001b[0;34m(fig, validate)\u001b[0m\n\u001b[1;32m     21\u001b[0m \u001b[0mThe\u001b[0m \u001b[0mfig\u001b[0m \u001b[0mparameter\u001b[0m \u001b[0mmust\u001b[0m \u001b[0mbe\u001b[0m \u001b[0ma\u001b[0m \u001b[0mdict\u001b[0m \u001b[0;32mor\u001b[0m \u001b[0mFigure\u001b[0m\u001b[0;34m.\u001b[0m\u001b[0;34m\u001b[0m\u001b[0;34m\u001b[0m\u001b[0m\n\u001b[1;32m     22\u001b[0m     Received value of type {typ}: {v}\"\"\".format(\n\u001b[0;32m---> 23\u001b[0;31m                 \u001b[0mtyp\u001b[0m\u001b[0;34m=\u001b[0m\u001b[0mtype\u001b[0m\u001b[0;34m(\u001b[0m\u001b[0mfig\u001b[0m\u001b[0;34m)\u001b[0m\u001b[0;34m,\u001b[0m \u001b[0mv\u001b[0m\u001b[0;34m=\u001b[0m\u001b[0mfig\u001b[0m\u001b[0;34m\u001b[0m\u001b[0;34m\u001b[0m\u001b[0m\n\u001b[0m\u001b[1;32m     24\u001b[0m             )\n\u001b[1;32m     25\u001b[0m         )\n",
      "\u001b[0;31mValueError\u001b[0m: \nThe fig parameter must be a dict or Figure.\n    Received value of type <class 'NoneType'>: None"
     ]
    }
   ],
   "source": [
    "import plotly.io as pio\n",
    "pio.write_html(fig, file='index.html', auto_open=True)\n"
   ]
  },
  {
   "cell_type": "code",
   "execution_count": 405,
   "metadata": {},
   "outputs": [
    {
     "data": {
      "image/png": "[encoded data removed]",
      "text/plain": [
       "<Figure size 432x288 with 1 Axes>"
      ]
     },
     "metadata": {
      "needs_background": "light"
     },
     "output_type": "display_data"
    },
    {
     "data": {
      "image/png": "[encoded data removed]",
      "text/plain": [
       "<Figure size 432x288 with 1 Axes>"
      ]
     },
     "metadata": {
      "needs_background": "light"
     },
     "output_type": "display_data"
    },
    {
     "data": {
      "image/png": "[encoded data removed]",
      "text/plain": [
       "<Figure size 432x288 with 1 Axes>"
      ]
     },
     "metadata": {
      "needs_background": "light"
     },
     "output_type": "display_data"
    },
    {
     "data": {
      "image/png": "[encoded data removed]",
      "text/plain": [
       "<Figure size 432x288 with 1 Axes>"
      ]
     },
     "metadata": {
      "needs_background": "light"
     },
     "output_type": "display_data"
    },
    {
     "data": {
      "image/png": "[encoded data removed]",
      "text/plain": [
       "<Figure size 432x288 with 1 Axes>"
      ]
     },
     "metadata": {
      "needs_background": "light"
     },
     "output_type": "display_data"
    },
    {
     "data": {
      "image/png": "[encoded data removed]",
      "text/plain": [
       "<Figure size 432x288 with 1 Axes>"
      ]
     },
     "metadata": {
      "needs_background": "light"
     },
     "output_type": "display_data"
    },
    {
     "data": {
      "image/png": "[encoded data removed]",
      "text/plain": [
       "<Figure size 432x288 with 1 Axes>"
      ]
     },
     "metadata": {
      "needs_background": "light"
     },
     "output_type": "display_data"
    },
    {
     "data": {
      "image/png": "[encoded data removed]",
      "text/plain": [
       "<Figure size 432x288 with 1 Axes>"
      ]
     },
     "metadata": {
      "needs_background": "light"
     },
     "output_type": "display_data"
    },
    {
     "data": {
      "image/png": "[encoded data removed]",
      "text/plain": [
       "<Figure size 432x288 with 1 Axes>"
      ]
     },
     "metadata": {
      "needs_background": "light"
     },
     "output_type": "display_data"
    },
    {
     "data": {
      "image/png": "[encoded data removed]",
      "text/plain": [
       "<Figure size 432x288 with 1 Axes>"
      ]
     },
     "metadata": {
      "needs_background": "light"
     },
     "output_type": "display_data"
    }
   ],
   "source": [
    "for i in fines:\n",
    "    fine = df.loc[df[\"VIOLATION DESCRIPTION\"] == i]\n",
    "    days = dict(zip(fine[\"Day Number\"], fine[\"Day Name\"]))\n",
    "    count_weekdays = fine[\"Day Number\"].value_counts()\n",
    "    count_weekdays = count_weekdays.sort_index()\n",
    "    days_count = count_weekdays.to_list()\n",
    "    days_num = count_weekdays.index.to_list()\n",
    "    day_name = list(map(days.get,days_num))\n",
    "    plt.bar(days_num, days_count)\n",
    "    plt.title(i)\n",
    "    plt.xticks(days_num, day_name, fontsize=5, rotation=30)\n",
    "    plt.show()"
   ]
  },
  {
   "cell_type": "code",
   "execution_count": null,
   "metadata": {},
   "outputs": [],
   "source": [
    "for i in fines:\n",
    "    fine = df.loc[df[\"VIOLATION DESCRIPTION\"] == i]\n",
    "    monthDict={1:'Jan', 2:'Feb', 3:'Mar', 4:'Apr', 5:'May', 6:'Jun', 7:'Jul', 8:'Aug', 9:'Sep', 10:'Oct', 11:'Nov', 12:'Dec'}\n",
    "    count_months = fine[\"Month Number\"].value_counts()\n",
    "    count_weekdays = count_months.sort_index()\n",
    "    month_count = count_months.to_list()\n",
    "    month_num = count_months.index.to_list()\n",
    "    month_name = list(map(monthDict.get,month_num))\n",
    "    plt.bar(month_num, month_count)\n",
    "    plt.title(i)\n",
    "    plt.xticks(month_num, month_name, fontsize=5, rotation=30)\n",
    "    plt.show()"
   ]
  },
  {
   "cell_type": "code",
   "execution_count": null,
   "metadata": {},
   "outputs": [],
   "source": []
  },
  {
   "cell_type": "code",
   "execution_count": null,
   "metadata": {},
   "outputs": [],
   "source": []
  },
  {
   "cell_type": "code",
   "execution_count": null,
   "metadata": {},
   "outputs": [],
   "source": []
  },
  {
   "cell_type": "code",
   "execution_count": null,
   "metadata": {},
   "outputs": [],
   "source": []
  },
  {
   "cell_type": "code",
   "execution_count": null,
   "metadata": {},
   "outputs": [],
   "source": []
  },
  {
   "cell_type": "code",
   "execution_count": null,
   "metadata": {},
   "outputs": [],
   "source": []
  },
  {
   "cell_type": "markdown",
   "metadata": {},
   "source": [
    "#Data Properties \n",
    "In the dataset, there is geolocation attributes, such as strees names, house numbers, states codes etc. Next there is description of the different vehicles. There is an issue date which tells us when the violation has happened, and a timestamp for the violation. "
   ]
  },
  {
   "cell_type": "code",
   "execution_count": 73,
   "metadata": {},
   "outputs": [],
   "source": [
    "#result.shape\n",
    "#result[\"Adress\"] = result[\"Street Name\"] + \" \" + str(result[\"House Number\"])"
   ]
  },
  {
   "cell_type": "code",
   "execution_count": 17,
   "metadata": {},
   "outputs": [],
   "source": [
    "#result_new.to_csv(\"PARKING2019.csv\")"
   ]
  },
  {
   "cell_type": "code",
   "execution_count": 75,
   "metadata": {},
   "outputs": [],
   "source": [
    "#result.columns"
   ]
  },
  {
   "cell_type": "code",
   "execution_count": 25,
   "metadata": {},
   "outputs": [],
   "source": [
    "a= \"0918A\""
   ]
  },
  {
   "cell_type": "code",
   "execution_count": 39,
   "metadata": {},
   "outputs": [
    {
     "data": {
      "text/plain": [
       "array([nan, 'N', 'A', 'J', 'F', 'B', 'D', 'T', 'S', 'L', 'W', 0.0, 'Q',\n",
       "       'C', '0000', 'V', 'K', 'I', 'G', 'X', 'H', 'E', 'Y', 'M', 'R', 'O',\n",
       "       'EE', 'AA', 'P', 'B2', 'FF', 'DD', 'HH', 'CC', 'A2', 'GG', 'BB',\n",
       "       'U', 'YA', 'II', 'X1', 'YP', 'X2', 'D2', 'GA', 'Z', 'AB', 'FA',\n",
       "       'GP', 'C2', 'A1'], dtype=object)"
      ]
     },
     "execution_count": 39,
     "metadata": {},
     "output_type": "execute_result"
    }
   ],
   "source": [
    "result_new['Issuer Squad'].unique()"
   ]
  },
  {
   "cell_type": "code",
   "execution_count": null,
   "metadata": {},
   "outputs": [],
   "source": []
  },
  {
   "cell_type": "code",
   "execution_count": null,
   "metadata": {},
   "outputs": [],
   "source": []
  },
  {
   "cell_type": "code",
   "execution_count": null,
   "metadata": {},
   "outputs": [],
   "source": []
  }
 ],
 "metadata": {
  "kernelspec": {
   "display_name": "Python 3",
   "language": "python",
   "name": "python3"
  },
  "language_info": {
   "codemirror_mode": {
    "name": "ipython",
    "version": 3
   },
   "file_extension": ".py",
   "mimetype": "text/x-python",
   "name": "python",
   "nbconvert_exporter": "python",
   "pygments_lexer": "ipython3",
   "version": "3.7.4"
  }
 },
 "nbformat": 4,
 "nbformat_minor": 4
}
